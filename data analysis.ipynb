{
 "cells": [
  {
   "cell_type": "code",
   "execution_count": 683,
   "metadata": {},
   "outputs": [],
   "source": [
    "import pandas as pd\n",
    "import plotly.express as px\n",
    "import plotly.graph_objects as go\n",
    "import numpy as np\n",
    "from config import *"
   ]
  },
  {
   "cell_type": "markdown",
   "metadata": {},
   "source": [
    "## **Test/Positve dataset**"
   ]
  },
  {
   "cell_type": "markdown",
   "metadata": {},
   "source": [
    "1. **Dataset before 2020-05-12**"
   ]
  },
  {
   "cell_type": "code",
   "execution_count": 684,
   "metadata": {},
   "outputs": [],
   "source": [
    "url_test1=\"https://www.data.gouv.fr/fr/datasets/r/b4ea7b4b-b7d1-4885-a099-71852291ff20\"\n",
    "dtype={'dep': str,'clage_covid':str,'nb_test':int,'nb_pos':int}\n",
    "df_test1=pd.read_csv(url_test1,sep = ';',dtype=dtype)\n",
    "df_test1=df_test1.drop([\"nb_test_h\",\"nb_test_f\",\"nb_pos_h\",\"nb_pos_f\"],axis=1)"
   ]
  },
  {
   "cell_type": "code",
   "execution_count": 685,
   "metadata": {},
   "outputs": [
    {
     "data": {
      "text/html": [
       "<div>\n",
       "<style scoped>\n",
       "    .dataframe tbody tr th:only-of-type {\n",
       "        vertical-align: middle;\n",
       "    }\n",
       "\n",
       "    .dataframe tbody tr th {\n",
       "        vertical-align: top;\n",
       "    }\n",
       "\n",
       "    .dataframe thead th {\n",
       "        text-align: right;\n",
       "    }\n",
       "</style>\n",
       "<table border=\"1\" class=\"dataframe\">\n",
       "  <thead>\n",
       "    <tr style=\"text-align: right;\">\n",
       "      <th></th>\n",
       "      <th>dep</th>\n",
       "      <th>jour</th>\n",
       "      <th>clage_covid</th>\n",
       "      <th>nb_test</th>\n",
       "      <th>nb_pos</th>\n",
       "    </tr>\n",
       "  </thead>\n",
       "  <tbody>\n",
       "    <tr>\n",
       "      <th>48</th>\n",
       "      <td>01</td>\n",
       "      <td>2020-03-18</td>\n",
       "      <td>0</td>\n",
       "      <td>37</td>\n",
       "      <td>8</td>\n",
       "    </tr>\n",
       "    <tr>\n",
       "      <th>49</th>\n",
       "      <td>01</td>\n",
       "      <td>2020-03-18</td>\n",
       "      <td>A</td>\n",
       "      <td>0</td>\n",
       "      <td>0</td>\n",
       "    </tr>\n",
       "    <tr>\n",
       "      <th>50</th>\n",
       "      <td>01</td>\n",
       "      <td>2020-03-18</td>\n",
       "      <td>B</td>\n",
       "      <td>15</td>\n",
       "      <td>1</td>\n",
       "    </tr>\n",
       "    <tr>\n",
       "      <th>51</th>\n",
       "      <td>01</td>\n",
       "      <td>2020-03-18</td>\n",
       "      <td>C</td>\n",
       "      <td>11</td>\n",
       "      <td>3</td>\n",
       "    </tr>\n",
       "    <tr>\n",
       "      <th>52</th>\n",
       "      <td>01</td>\n",
       "      <td>2020-03-18</td>\n",
       "      <td>D</td>\n",
       "      <td>4</td>\n",
       "      <td>3</td>\n",
       "    </tr>\n",
       "  </tbody>\n",
       "</table>\n",
       "</div>"
      ],
      "text/plain": [
       "   dep        jour clage_covid  nb_test  nb_pos\n",
       "48  01  2020-03-18           0       37       8\n",
       "49  01  2020-03-18           A        0       0\n",
       "50  01  2020-03-18           B       15       1\n",
       "51  01  2020-03-18           C       11       3\n",
       "52  01  2020-03-18           D        4       3"
      ]
     },
     "execution_count": 685,
     "metadata": {},
     "output_type": "execute_result"
    }
   ],
   "source": [
    "df_test1=df_test1.drop(df_test1[(df_test1[\"jour\"]<\"2020-03-18\") | (df_test1[\"jour\"]>\"2020-05-12\")].index)\n",
    "df_test1.head()"
   ]
  },
  {
   "cell_type": "code",
   "execution_count": 686,
   "metadata": {},
   "outputs": [
    {
     "data": {
      "text/html": [
       "<div>\n",
       "<style scoped>\n",
       "    .dataframe tbody tr th:only-of-type {\n",
       "        vertical-align: middle;\n",
       "    }\n",
       "\n",
       "    .dataframe tbody tr th {\n",
       "        vertical-align: top;\n",
       "    }\n",
       "\n",
       "    .dataframe thead th {\n",
       "        text-align: right;\n",
       "    }\n",
       "</style>\n",
       "<table border=\"1\" class=\"dataframe\">\n",
       "  <thead>\n",
       "    <tr style=\"text-align: right;\">\n",
       "      <th></th>\n",
       "      <th>dep</th>\n",
       "      <th>jour</th>\n",
       "      <th>nb_test</th>\n",
       "      <th>nb_pos</th>\n",
       "    </tr>\n",
       "  </thead>\n",
       "  <tbody>\n",
       "    <tr>\n",
       "      <th>48</th>\n",
       "      <td>01</td>\n",
       "      <td>2020-03-18</td>\n",
       "      <td>37</td>\n",
       "      <td>8</td>\n",
       "    </tr>\n",
       "    <tr>\n",
       "      <th>54</th>\n",
       "      <td>01</td>\n",
       "      <td>2020-03-19</td>\n",
       "      <td>82</td>\n",
       "      <td>13</td>\n",
       "    </tr>\n",
       "    <tr>\n",
       "      <th>60</th>\n",
       "      <td>01</td>\n",
       "      <td>2020-03-20</td>\n",
       "      <td>44</td>\n",
       "      <td>9</td>\n",
       "    </tr>\n",
       "    <tr>\n",
       "      <th>66</th>\n",
       "      <td>01</td>\n",
       "      <td>2020-03-21</td>\n",
       "      <td>13</td>\n",
       "      <td>1</td>\n",
       "    </tr>\n",
       "    <tr>\n",
       "      <th>72</th>\n",
       "      <td>01</td>\n",
       "      <td>2020-03-22</td>\n",
       "      <td>4</td>\n",
       "      <td>0</td>\n",
       "    </tr>\n",
       "  </tbody>\n",
       "</table>\n",
       "</div>"
      ],
      "text/plain": [
       "   dep        jour  nb_test  nb_pos\n",
       "48  01  2020-03-18       37       8\n",
       "54  01  2020-03-19       82      13\n",
       "60  01  2020-03-20       44       9\n",
       "66  01  2020-03-21       13       1\n",
       "72  01  2020-03-22        4       0"
      ]
     },
     "execution_count": 686,
     "metadata": {},
     "output_type": "execute_result"
    }
   ],
   "source": [
    "df_test1=df_test1.drop(df_test1[df_test1[\"clage_covid\"] != \"0\"].index)\n",
    "df_test1=df_test1.drop(\"clage_covid\",axis=1)\n",
    "df_test1.head()"
   ]
  },
  {
   "cell_type": "markdown",
   "metadata": {},
   "source": [
    "2. **Dataset after 2020-05-12**"
   ]
  },
  {
   "cell_type": "code",
   "execution_count": 687,
   "metadata": {},
   "outputs": [
    {
     "data": {
      "text/html": [
       "<div>\n",
       "<style scoped>\n",
       "    .dataframe tbody tr th:only-of-type {\n",
       "        vertical-align: middle;\n",
       "    }\n",
       "\n",
       "    .dataframe tbody tr th {\n",
       "        vertical-align: top;\n",
       "    }\n",
       "\n",
       "    .dataframe thead th {\n",
       "        text-align: right;\n",
       "    }\n",
       "</style>\n",
       "<table border=\"1\" class=\"dataframe\">\n",
       "  <thead>\n",
       "    <tr style=\"text-align: right;\">\n",
       "      <th></th>\n",
       "      <th>dep</th>\n",
       "      <th>jour</th>\n",
       "      <th>P</th>\n",
       "      <th>T</th>\n",
       "      <th>cl_age90</th>\n",
       "    </tr>\n",
       "  </thead>\n",
       "  <tbody>\n",
       "    <tr>\n",
       "      <th>0</th>\n",
       "      <td>01</td>\n",
       "      <td>2020-05-13</td>\n",
       "      <td>0</td>\n",
       "      <td>16</td>\n",
       "      <td>9</td>\n",
       "    </tr>\n",
       "    <tr>\n",
       "      <th>1</th>\n",
       "      <td>01</td>\n",
       "      <td>2020-05-13</td>\n",
       "      <td>1</td>\n",
       "      <td>16</td>\n",
       "      <td>19</td>\n",
       "    </tr>\n",
       "    <tr>\n",
       "      <th>2</th>\n",
       "      <td>01</td>\n",
       "      <td>2020-05-13</td>\n",
       "      <td>0</td>\n",
       "      <td>32</td>\n",
       "      <td>29</td>\n",
       "    </tr>\n",
       "    <tr>\n",
       "      <th>3</th>\n",
       "      <td>01</td>\n",
       "      <td>2020-05-13</td>\n",
       "      <td>1</td>\n",
       "      <td>71</td>\n",
       "      <td>39</td>\n",
       "    </tr>\n",
       "    <tr>\n",
       "      <th>4</th>\n",
       "      <td>01</td>\n",
       "      <td>2020-05-13</td>\n",
       "      <td>0</td>\n",
       "      <td>52</td>\n",
       "      <td>49</td>\n",
       "    </tr>\n",
       "  </tbody>\n",
       "</table>\n",
       "</div>"
      ],
      "text/plain": [
       "  dep        jour  P   T  cl_age90\n",
       "0  01  2020-05-13  0  16         9\n",
       "1  01  2020-05-13  1  16        19\n",
       "2  01  2020-05-13  0  32        29\n",
       "3  01  2020-05-13  1  71        39\n",
       "4  01  2020-05-13  0  52        49"
      ]
     },
     "execution_count": 687,
     "metadata": {},
     "output_type": "execute_result"
    }
   ],
   "source": [
    "url_test2=\"https://www.data.gouv.fr/fr/datasets/r/406c6a23-e283-4300-9484-54e78c8ae675\"\n",
    "dtype={'dep': str,'P':int,'T':int,'cl_age':int}\n",
    "df_test2=pd.read_csv(url_test2,sep = ';',dtype=dtype)\n",
    "df_test2.head()"
   ]
  },
  {
   "cell_type": "code",
   "execution_count": 688,
   "metadata": {},
   "outputs": [
    {
     "data": {
      "text/html": [
       "<div>\n",
       "<style scoped>\n",
       "    .dataframe tbody tr th:only-of-type {\n",
       "        vertical-align: middle;\n",
       "    }\n",
       "\n",
       "    .dataframe tbody tr th {\n",
       "        vertical-align: top;\n",
       "    }\n",
       "\n",
       "    .dataframe thead th {\n",
       "        text-align: right;\n",
       "    }\n",
       "</style>\n",
       "<table border=\"1\" class=\"dataframe\">\n",
       "  <thead>\n",
       "    <tr style=\"text-align: right;\">\n",
       "      <th></th>\n",
       "      <th>dep</th>\n",
       "      <th>jour</th>\n",
       "      <th>P</th>\n",
       "      <th>T</th>\n",
       "      <th>cl_age90</th>\n",
       "    </tr>\n",
       "  </thead>\n",
       "  <tbody>\n",
       "    <tr>\n",
       "      <th>143550</th>\n",
       "      <td>75</td>\n",
       "      <td>2020-05-13</td>\n",
       "      <td>0</td>\n",
       "      <td>62</td>\n",
       "      <td>9</td>\n",
       "    </tr>\n",
       "    <tr>\n",
       "      <th>143551</th>\n",
       "      <td>75</td>\n",
       "      <td>2020-05-13</td>\n",
       "      <td>0</td>\n",
       "      <td>40</td>\n",
       "      <td>19</td>\n",
       "    </tr>\n",
       "    <tr>\n",
       "      <th>143552</th>\n",
       "      <td>75</td>\n",
       "      <td>2020-05-13</td>\n",
       "      <td>6</td>\n",
       "      <td>188</td>\n",
       "      <td>29</td>\n",
       "    </tr>\n",
       "    <tr>\n",
       "      <th>143553</th>\n",
       "      <td>75</td>\n",
       "      <td>2020-05-13</td>\n",
       "      <td>2</td>\n",
       "      <td>234</td>\n",
       "      <td>39</td>\n",
       "    </tr>\n",
       "    <tr>\n",
       "      <th>143554</th>\n",
       "      <td>75</td>\n",
       "      <td>2020-05-13</td>\n",
       "      <td>2</td>\n",
       "      <td>207</td>\n",
       "      <td>49</td>\n",
       "    </tr>\n",
       "    <tr>\n",
       "      <th>...</th>\n",
       "      <td>...</td>\n",
       "      <td>...</td>\n",
       "      <td>...</td>\n",
       "      <td>...</td>\n",
       "      <td>...</td>\n",
       "    </tr>\n",
       "    <tr>\n",
       "      <th>145459</th>\n",
       "      <td>75</td>\n",
       "      <td>2020-11-02</td>\n",
       "      <td>187</td>\n",
       "      <td>988</td>\n",
       "      <td>69</td>\n",
       "    </tr>\n",
       "    <tr>\n",
       "      <th>145460</th>\n",
       "      <td>75</td>\n",
       "      <td>2020-11-02</td>\n",
       "      <td>74</td>\n",
       "      <td>429</td>\n",
       "      <td>79</td>\n",
       "    </tr>\n",
       "    <tr>\n",
       "      <th>145461</th>\n",
       "      <td>75</td>\n",
       "      <td>2020-11-02</td>\n",
       "      <td>51</td>\n",
       "      <td>219</td>\n",
       "      <td>89</td>\n",
       "    </tr>\n",
       "    <tr>\n",
       "      <th>145462</th>\n",
       "      <td>75</td>\n",
       "      <td>2020-11-02</td>\n",
       "      <td>18</td>\n",
       "      <td>57</td>\n",
       "      <td>90</td>\n",
       "    </tr>\n",
       "    <tr>\n",
       "      <th>145463</th>\n",
       "      <td>75</td>\n",
       "      <td>2020-11-02</td>\n",
       "      <td>1555</td>\n",
       "      <td>7795</td>\n",
       "      <td>0</td>\n",
       "    </tr>\n",
       "  </tbody>\n",
       "</table>\n",
       "<p>1914 rows × 5 columns</p>\n",
       "</div>"
      ],
      "text/plain": [
       "       dep        jour     P     T  cl_age90\n",
       "143550  75  2020-05-13     0    62         9\n",
       "143551  75  2020-05-13     0    40        19\n",
       "143552  75  2020-05-13     6   188        29\n",
       "143553  75  2020-05-13     2   234        39\n",
       "143554  75  2020-05-13     2   207        49\n",
       "...     ..         ...   ...   ...       ...\n",
       "145459  75  2020-11-02   187   988        69\n",
       "145460  75  2020-11-02    74   429        79\n",
       "145461  75  2020-11-02    51   219        89\n",
       "145462  75  2020-11-02    18    57        90\n",
       "145463  75  2020-11-02  1555  7795         0\n",
       "\n",
       "[1914 rows x 5 columns]"
      ]
     },
     "execution_count": 688,
     "metadata": {},
     "output_type": "execute_result"
    }
   ],
   "source": [
    "df_test2.loc[df_test2['dep'] == '75']"
   ]
  },
  {
   "cell_type": "code",
   "execution_count": 689,
   "metadata": {},
   "outputs": [],
   "source": [
    "df_test2=df_test2.rename(columns={'P':'nb_pos','T':'nb_test'})\n",
    "df_test2=df_test2.drop(\"cl_age90\",axis=1)"
   ]
  },
  {
   "cell_type": "code",
   "execution_count": 690,
   "metadata": {},
   "outputs": [
    {
     "data": {
      "text/html": [
       "<div>\n",
       "<style scoped>\n",
       "    .dataframe tbody tr th:only-of-type {\n",
       "        vertical-align: middle;\n",
       "    }\n",
       "\n",
       "    .dataframe tbody tr th {\n",
       "        vertical-align: top;\n",
       "    }\n",
       "\n",
       "    .dataframe thead th {\n",
       "        text-align: right;\n",
       "    }\n",
       "</style>\n",
       "<table border=\"1\" class=\"dataframe\">\n",
       "  <thead>\n",
       "    <tr style=\"text-align: right;\">\n",
       "      <th></th>\n",
       "      <th>dep</th>\n",
       "      <th>jour</th>\n",
       "      <th>nb_pos</th>\n",
       "      <th>nb_test</th>\n",
       "    </tr>\n",
       "  </thead>\n",
       "  <tbody>\n",
       "    <tr>\n",
       "      <th>10</th>\n",
       "      <td>01</td>\n",
       "      <td>2020-05-13</td>\n",
       "      <td>9</td>\n",
       "      <td>326</td>\n",
       "    </tr>\n",
       "    <tr>\n",
       "      <th>21</th>\n",
       "      <td>01</td>\n",
       "      <td>2020-05-14</td>\n",
       "      <td>9</td>\n",
       "      <td>429</td>\n",
       "    </tr>\n",
       "    <tr>\n",
       "      <th>32</th>\n",
       "      <td>01</td>\n",
       "      <td>2020-05-15</td>\n",
       "      <td>5</td>\n",
       "      <td>440</td>\n",
       "    </tr>\n",
       "    <tr>\n",
       "      <th>43</th>\n",
       "      <td>01</td>\n",
       "      <td>2020-05-16</td>\n",
       "      <td>0</td>\n",
       "      <td>142</td>\n",
       "    </tr>\n",
       "    <tr>\n",
       "      <th>54</th>\n",
       "      <td>01</td>\n",
       "      <td>2020-05-17</td>\n",
       "      <td>0</td>\n",
       "      <td>30</td>\n",
       "    </tr>\n",
       "  </tbody>\n",
       "</table>\n",
       "</div>"
      ],
      "text/plain": [
       "   dep        jour  nb_pos  nb_test\n",
       "10  01  2020-05-13       9      326\n",
       "21  01  2020-05-14       9      429\n",
       "32  01  2020-05-15       5      440\n",
       "43  01  2020-05-16       0      142\n",
       "54  01  2020-05-17       0       30"
      ]
     },
     "execution_count": 690,
     "metadata": {},
     "output_type": "execute_result"
    }
   ],
   "source": [
    "df_test2=df_test2.groupby([\"dep\",\"jour\"]).tail(1)\n",
    "df_test2.head()"
   ]
  },
  {
   "cell_type": "markdown",
   "metadata": {},
   "source": [
    "3. **Merge in one dataset**"
   ]
  },
  {
   "cell_type": "code",
   "execution_count": 691,
   "metadata": {},
   "outputs": [
    {
     "data": {
      "text/html": [
       "<div>\n",
       "<style scoped>\n",
       "    .dataframe tbody tr th:only-of-type {\n",
       "        vertical-align: middle;\n",
       "    }\n",
       "\n",
       "    .dataframe tbody tr th {\n",
       "        vertical-align: top;\n",
       "    }\n",
       "\n",
       "    .dataframe thead th {\n",
       "        text-align: right;\n",
       "    }\n",
       "</style>\n",
       "<table border=\"1\" class=\"dataframe\">\n",
       "  <thead>\n",
       "    <tr style=\"text-align: right;\">\n",
       "      <th></th>\n",
       "      <th>dep</th>\n",
       "      <th>jour</th>\n",
       "      <th>nb_test</th>\n",
       "      <th>nb_pos</th>\n",
       "      <th>nb_test_cum</th>\n",
       "      <th>nb_pos_cum</th>\n",
       "    </tr>\n",
       "  </thead>\n",
       "  <tbody>\n",
       "    <tr>\n",
       "      <th>0</th>\n",
       "      <td>01</td>\n",
       "      <td>2020-03-18</td>\n",
       "      <td>37</td>\n",
       "      <td>8</td>\n",
       "      <td>37</td>\n",
       "      <td>8</td>\n",
       "    </tr>\n",
       "    <tr>\n",
       "      <th>1</th>\n",
       "      <td>01</td>\n",
       "      <td>2020-03-19</td>\n",
       "      <td>82</td>\n",
       "      <td>13</td>\n",
       "      <td>119</td>\n",
       "      <td>21</td>\n",
       "    </tr>\n",
       "    <tr>\n",
       "      <th>2</th>\n",
       "      <td>01</td>\n",
       "      <td>2020-03-20</td>\n",
       "      <td>44</td>\n",
       "      <td>9</td>\n",
       "      <td>163</td>\n",
       "      <td>30</td>\n",
       "    </tr>\n",
       "    <tr>\n",
       "      <th>3</th>\n",
       "      <td>01</td>\n",
       "      <td>2020-03-21</td>\n",
       "      <td>13</td>\n",
       "      <td>1</td>\n",
       "      <td>176</td>\n",
       "      <td>31</td>\n",
       "    </tr>\n",
       "    <tr>\n",
       "      <th>4</th>\n",
       "      <td>01</td>\n",
       "      <td>2020-03-22</td>\n",
       "      <td>4</td>\n",
       "      <td>0</td>\n",
       "      <td>180</td>\n",
       "      <td>31</td>\n",
       "    </tr>\n",
       "  </tbody>\n",
       "</table>\n",
       "</div>"
      ],
      "text/plain": [
       "  dep        jour  nb_test  nb_pos  nb_test_cum  nb_pos_cum\n",
       "0  01  2020-03-18       37       8           37           8\n",
       "1  01  2020-03-19       82      13          119          21\n",
       "2  01  2020-03-20       44       9          163          30\n",
       "3  01  2020-03-21       13       1          176          31\n",
       "4  01  2020-03-22        4       0          180          31"
      ]
     },
     "execution_count": 691,
     "metadata": {},
     "output_type": "execute_result"
    }
   ],
   "source": [
    "df_test = pd.concat([df_test1,df_test2],ignore_index=True)\n",
    "df_test['nb_test_cum']=df_test.groupby(\"dep\")['nb_test'].cumsum()\n",
    "df_test['nb_pos_cum']=df_test.groupby(\"dep\")['nb_pos'].cumsum()\n",
    "df_test.head()"
   ]
  },
  {
   "cell_type": "markdown",
   "metadata": {},
   "source": [
    "## **Hospital dataset**"
   ]
  },
  {
   "cell_type": "code",
   "execution_count": 692,
   "metadata": {},
   "outputs": [
    {
     "data": {
      "text/html": [
       "<div>\n",
       "<style scoped>\n",
       "    .dataframe tbody tr th:only-of-type {\n",
       "        vertical-align: middle;\n",
       "    }\n",
       "\n",
       "    .dataframe tbody tr th {\n",
       "        vertical-align: top;\n",
       "    }\n",
       "\n",
       "    .dataframe thead th {\n",
       "        text-align: right;\n",
       "    }\n",
       "</style>\n",
       "<table border=\"1\" class=\"dataframe\">\n",
       "  <thead>\n",
       "    <tr style=\"text-align: right;\">\n",
       "      <th></th>\n",
       "      <th>dep</th>\n",
       "      <th>sexe</th>\n",
       "      <th>jour</th>\n",
       "      <th>hosp</th>\n",
       "      <th>rea</th>\n",
       "      <th>rad</th>\n",
       "      <th>dc</th>\n",
       "    </tr>\n",
       "  </thead>\n",
       "  <tbody>\n",
       "    <tr>\n",
       "      <th>0</th>\n",
       "      <td>01</td>\n",
       "      <td>0</td>\n",
       "      <td>2020-03-18</td>\n",
       "      <td>2</td>\n",
       "      <td>0</td>\n",
       "      <td>1</td>\n",
       "      <td>0</td>\n",
       "    </tr>\n",
       "    <tr>\n",
       "      <th>1</th>\n",
       "      <td>01</td>\n",
       "      <td>1</td>\n",
       "      <td>2020-03-18</td>\n",
       "      <td>1</td>\n",
       "      <td>0</td>\n",
       "      <td>1</td>\n",
       "      <td>0</td>\n",
       "    </tr>\n",
       "    <tr>\n",
       "      <th>2</th>\n",
       "      <td>01</td>\n",
       "      <td>2</td>\n",
       "      <td>2020-03-18</td>\n",
       "      <td>1</td>\n",
       "      <td>0</td>\n",
       "      <td>0</td>\n",
       "      <td>0</td>\n",
       "    </tr>\n",
       "    <tr>\n",
       "      <th>3</th>\n",
       "      <td>02</td>\n",
       "      <td>0</td>\n",
       "      <td>2020-03-18</td>\n",
       "      <td>41</td>\n",
       "      <td>10</td>\n",
       "      <td>18</td>\n",
       "      <td>11</td>\n",
       "    </tr>\n",
       "    <tr>\n",
       "      <th>4</th>\n",
       "      <td>02</td>\n",
       "      <td>1</td>\n",
       "      <td>2020-03-18</td>\n",
       "      <td>19</td>\n",
       "      <td>4</td>\n",
       "      <td>11</td>\n",
       "      <td>6</td>\n",
       "    </tr>\n",
       "  </tbody>\n",
       "</table>\n",
       "</div>"
      ],
      "text/plain": [
       "  dep  sexe        jour  hosp  rea  rad  dc\n",
       "0  01     0  2020-03-18     2    0    1   0\n",
       "1  01     1  2020-03-18     1    0    1   0\n",
       "2  01     2  2020-03-18     1    0    0   0\n",
       "3  02     0  2020-03-18    41   10   18  11\n",
       "4  02     1  2020-03-18    19    4   11   6"
      ]
     },
     "execution_count": 692,
     "metadata": {},
     "output_type": "execute_result"
    }
   ],
   "source": [
    "url2=\"https://www.data.gouv.fr/fr/datasets/r/63352e38-d353-4b54-bfd1-f1b3ee1cabd7\"\n",
    "df_hospital = pd.read_csv(url2,sep=';')\n",
    "df_hospital.head()"
   ]
  },
  {
   "cell_type": "code",
   "execution_count": 693,
   "metadata": {},
   "outputs": [
    {
     "data": {
      "text/html": [
       "<div>\n",
       "<style scoped>\n",
       "    .dataframe tbody tr th:only-of-type {\n",
       "        vertical-align: middle;\n",
       "    }\n",
       "\n",
       "    .dataframe tbody tr th {\n",
       "        vertical-align: top;\n",
       "    }\n",
       "\n",
       "    .dataframe thead th {\n",
       "        text-align: right;\n",
       "    }\n",
       "</style>\n",
       "<table border=\"1\" class=\"dataframe\">\n",
       "  <thead>\n",
       "    <tr style=\"text-align: right;\">\n",
       "      <th></th>\n",
       "      <th>dep</th>\n",
       "      <th>jour</th>\n",
       "      <th>hosp</th>\n",
       "      <th>rea</th>\n",
       "      <th>rad</th>\n",
       "      <th>dc</th>\n",
       "    </tr>\n",
       "  </thead>\n",
       "  <tbody>\n",
       "    <tr>\n",
       "      <th>0</th>\n",
       "      <td>01</td>\n",
       "      <td>2020-03-18</td>\n",
       "      <td>2</td>\n",
       "      <td>0</td>\n",
       "      <td>1</td>\n",
       "      <td>0</td>\n",
       "    </tr>\n",
       "    <tr>\n",
       "      <th>1</th>\n",
       "      <td>02</td>\n",
       "      <td>2020-03-18</td>\n",
       "      <td>41</td>\n",
       "      <td>10</td>\n",
       "      <td>18</td>\n",
       "      <td>11</td>\n",
       "    </tr>\n",
       "    <tr>\n",
       "      <th>2</th>\n",
       "      <td>03</td>\n",
       "      <td>2020-03-18</td>\n",
       "      <td>4</td>\n",
       "      <td>0</td>\n",
       "      <td>1</td>\n",
       "      <td>0</td>\n",
       "    </tr>\n",
       "    <tr>\n",
       "      <th>3</th>\n",
       "      <td>04</td>\n",
       "      <td>2020-03-18</td>\n",
       "      <td>3</td>\n",
       "      <td>1</td>\n",
       "      <td>2</td>\n",
       "      <td>0</td>\n",
       "    </tr>\n",
       "    <tr>\n",
       "      <th>4</th>\n",
       "      <td>05</td>\n",
       "      <td>2020-03-18</td>\n",
       "      <td>8</td>\n",
       "      <td>1</td>\n",
       "      <td>9</td>\n",
       "      <td>0</td>\n",
       "    </tr>\n",
       "  </tbody>\n",
       "</table>\n",
       "</div>"
      ],
      "text/plain": [
       "  dep        jour  hosp  rea  rad  dc\n",
       "0  01  2020-03-18     2    0    1   0\n",
       "1  02  2020-03-18    41   10   18  11\n",
       "2  03  2020-03-18     4    0    1   0\n",
       "3  04  2020-03-18     3    1    2   0\n",
       "4  05  2020-03-18     8    1    9   0"
      ]
     },
     "execution_count": 693,
     "metadata": {},
     "output_type": "execute_result"
    }
   ],
   "source": [
    "df_hospital = df_hospital.drop(df_hospital[(df_hospital[\"sexe\"]==1) | (df_hospital[\"sexe\"]==2 ) ].index).reset_index(drop=True)\n",
    "df_hospital = df_hospital.drop([\"sexe\"],axis=1)\n",
    "df_hospital.head()"
   ]
  },
  {
   "cell_type": "markdown",
   "metadata": {},
   "source": [
    "## **Create departement longitude/latitude Dataframe**"
   ]
  },
  {
   "cell_type": "markdown",
   "metadata": {},
   "source": [
    "Source: <a href=\"https://www.ign.fr/sites/default/files/2020-09/Quels%20sont%20les%20centres%20des%2096%20d%C3%A9partements%20m%C3%A9tropolitains.pdf\" target=\"_blank\">https://www.ign.fr/sites/default/files/2020-09/Quels%20sont%20les%20centres%20des%2096%20d%C3%A9partements%20m%C3%A9tropolitains.pdf</a>\n",
    "\n",
    "Source: <a href=\"https://www.coordonnees-gps.fr/\" target=\"_blank\">https://www.coordonnees-gps.fr/</a>"
   ]
  },
  {
   "cell_type": "code",
   "execution_count": 694,
   "metadata": {},
   "outputs": [],
   "source": [
    "departements= df_test[\"dep\"].unique()\n",
    "zoom_dep=[7.5]*len(departements)"
   ]
  },
  {
   "cell_type": "code",
   "execution_count": 695,
   "metadata": {},
   "outputs": [
    {
     "name": "stdout",
     "output_type": "stream",
     "text": [
      "104\n"
     ]
    },
    {
     "data": {
      "text/html": [
       "<div>\n",
       "<style scoped>\n",
       "    .dataframe tbody tr th:only-of-type {\n",
       "        vertical-align: middle;\n",
       "    }\n",
       "\n",
       "    .dataframe tbody tr th {\n",
       "        vertical-align: top;\n",
       "    }\n",
       "\n",
       "    .dataframe thead th {\n",
       "        text-align: right;\n",
       "    }\n",
       "</style>\n",
       "<table border=\"1\" class=\"dataframe\">\n",
       "  <thead>\n",
       "    <tr style=\"text-align: right;\">\n",
       "      <th></th>\n",
       "      <th>dep</th>\n",
       "      <th>dep_name</th>\n",
       "      <th>lat</th>\n",
       "      <th>long</th>\n",
       "      <th>zoom</th>\n",
       "    </tr>\n",
       "  </thead>\n",
       "  <tbody>\n",
       "    <tr>\n",
       "      <th>99</th>\n",
       "      <td>974</td>\n",
       "      <td>La Réunion</td>\n",
       "      <td>-20.88</td>\n",
       "      <td>55.45</td>\n",
       "      <td>7.5</td>\n",
       "    </tr>\n",
       "    <tr>\n",
       "      <th>100</th>\n",
       "      <td>976</td>\n",
       "      <td>Mayotte</td>\n",
       "      <td>-12.77</td>\n",
       "      <td>45.22</td>\n",
       "      <td>7.5</td>\n",
       "    </tr>\n",
       "    <tr>\n",
       "      <th>101</th>\n",
       "      <td>975</td>\n",
       "      <td>Saint-Pierre-et-Miquelon</td>\n",
       "      <td>46.78</td>\n",
       "      <td>-56.19</td>\n",
       "      <td>7.5</td>\n",
       "    </tr>\n",
       "    <tr>\n",
       "      <th>102</th>\n",
       "      <td>977</td>\n",
       "      <td>Saint-Barthélémy</td>\n",
       "      <td>17.90</td>\n",
       "      <td>-62.81</td>\n",
       "      <td>7.5</td>\n",
       "    </tr>\n",
       "    <tr>\n",
       "      <th>103</th>\n",
       "      <td>978</td>\n",
       "      <td>Saint-Martin</td>\n",
       "      <td>18.06</td>\n",
       "      <td>-63.08</td>\n",
       "      <td>7.5</td>\n",
       "    </tr>\n",
       "  </tbody>\n",
       "</table>\n",
       "</div>"
      ],
      "text/plain": [
       "     dep                  dep_name    lat   long  zoom\n",
       "99   974                La Réunion -20.88  55.45   7.5\n",
       "100  976                   Mayotte -12.77  45.22   7.5\n",
       "101  975  Saint-Pierre-et-Miquelon  46.78 -56.19   7.5\n",
       "102  977          Saint-Barthélémy  17.90 -62.81   7.5\n",
       "103  978              Saint-Martin  18.06 -63.08   7.5"
      ]
     },
     "execution_count": 695,
     "metadata": {},
     "output_type": "execute_result"
    }
   ],
   "source": [
    "data={'dep':departements,\n",
    "      'dep_name':['Ain','Aisne','Allier','Alpes-de-Haute-Provence','Hautes-Alpes','Alpes_Maritimes','Ardeche','Ardennes','Ariege','Aube','Aude','Aveyron','Bouches-du-Rhône','Calvados','Cantal','Charente','Charente-Maritime','Cher','Correze',\"Côte-d'Or\",\"Côtes-D'Armor\",\"Creuse\",\"Dordogne\",\"Doubs\",\"Drome\",\"Eure\",\"Eure-et-Loire\",\"Finistère\",\"Corde-du-Sud\",\"Haute-Corse\",\"Gard\",\"Haute-Garonne\",\"Gers\",\"Gironde\",\"Hérault\",\"Ille-et-Vilaine\",\"Indre\",\"Indre-et-Loire\",\"Isère\",\"Jura\",\"Landes\",\"Loir-et-Cher\",\"Loire\",\"Haute-Loire\",\"Loire-Atlantique\",\"Loiret\",\"Lot\",\"Lot-et-Garonne\",\"Lozère\",\"Manne-et-Loire\",\"Manche\",\"Marne\",\"Haute-Marne\",\"Mayenne\",\"Meurthe-et-Moselle\",\"Meuse\",\"Morbihan\",\"Moselle\",\"Nièvre\",\"Nord\",\"Oise\",\"Orne\",\"Pas-de-Calais\",\"Puy-de-Dôme\",\"Pyrénées-Altantiques\",\"Hautes-Pyrénées\",\"Pyrénées-Orientales\",\"Bas-Rhin\",\"Haut-Rhin\",\"Rhone\",\"Haute-Saône\",\"Saône-et-Loire\",\"Sarthe\",\"Savoie\",\"Haute-Savoie\",\"Paris\",\"Seine-Maritime\",\"Seine-et-Marne\",\"Yvellines\",\"Deux-Sèvres\",\"Somme\",\"Tarn\",\"Tarn-et-Garonne\",\"Var\",\"Vaucluse\",\"Vendée\",\"Vienne\",\"Haute-Vienne\",\"Vosges\",\"Yonne\",\"Territoire de Belfort\",\"Essonne\",\"Hauts-de-Seine\",\"Seine-Saint_Denis\",\"Val-de-Marne\",\"Val-d'Oise\",\"Guadeloupe\",\"Martinique\",\"Guyane\",\"La Réunion\",\"Mayotte\",\"Saint-Pierre-et-Miquelon\",\"Saint-Barthélémy\",\"Saint-Martin\"],\n",
    "      'lat':[46.1,49.55,44.1,44.09,44.66,43.94,44.73,49.61,42.94,48.31,43.10,44.28,43.54,49.10,45.01,45.71,45.76,47.07,45.34,47.43,48.44,46.08,45.13,47.16,44.68,49.10,48.39,48.27,41.88,42.37,43.99,43.35,43.68,44.84,43.90,48.18,46.80,47.24,45.27,46.73,43.96,47.61,45.72,45.13,47.38,47.85,44.63,44.37,44.51,47.39,49.08,48.38,48.09,48.12,48.79,49.00,47.85,49.02,47.10,50.45,49.39,48.61,50.49,45.73,43.28,43.05,42.61,48.65,47.86,45.86,47.63,46.64,48.00,45.47,46.04,48.85,49.65,48.60,48.97,46.53,49.97,43.77,44.07,43.47,43.99,46.67,46.55,45.87,48.19,47.84,47.62,48.52,48.83,48.90,48.77,49.07,16.00,14.60,4.93,-20.88,-12.77,46.78,17.90,18.06],\n",
    "      'long':[5.33,3.56,2.35,6.23,6.21,7.12,4.41,4.61,1.53,4.14,2.35,2.72,5.03,-0.37,2.66,0.20,-0.71,2.52,1.81,4.78,-2.85,2.04,0.70,6.37,5.15,1.00,1.36,-4.04,8.97,9.23,4.17,1.23,0.45,-0.58,4.47,-1.64,1.62,0.69,5.61,5.69,-0.80,1.41,4.16,3.81,-1.71,2.26,1.59,0.46,3.49,-0.53,-1.34,7.47,5.15,-0.67,6.16,5.39,-2.83,6.65,3.51,3.20,2.42,0.11,2.27,3.14,-0.75,0.16,2.51,7.56,7.27,4.66,6.07,4.53,0.19,6.45,6.44,2.35,1.04,2.97,1.97,-0.32,2.29,2.18,1.28,6.18,5.14,-1.28,0.50,1.23,6.37,3.57,6.92,2.26,2.24,2.48,2.45,2.17,-61.73,-61.06,-52.32,55.45,45.22,-56.19,-62.81,-63.08],\n",
    "      'zoom':zoom_dep\n",
    "     }\n",
    "print(len(data['dep_name']))\n",
    "df_coord = pd.DataFrame(data,columns=['dep','dep_name','lat','long','zoom'])\n",
    "df_coord.tail()"
   ]
  },
  {
   "cell_type": "markdown",
   "metadata": {},
   "source": [
    "## **Complete Dataset**"
   ]
  },
  {
   "cell_type": "code",
   "execution_count": 696,
   "metadata": {},
   "outputs": [],
   "source": [
    "df_dep = pd.merge(df_hospital,df_test,on=['dep','jour'])\n",
    "df_dep = pd.merge(df_dep,df_coord,on=['dep'])\n",
    "df_dep=df_dep.sort_values(['dep','jour'])"
   ]
  },
  {
   "cell_type": "code",
   "execution_count": 697,
   "metadata": {},
   "outputs": [
    {
     "data": {
      "text/html": [
       "<div>\n",
       "<style scoped>\n",
       "    .dataframe tbody tr th:only-of-type {\n",
       "        vertical-align: middle;\n",
       "    }\n",
       "\n",
       "    .dataframe tbody tr th {\n",
       "        vertical-align: top;\n",
       "    }\n",
       "\n",
       "    .dataframe thead th {\n",
       "        text-align: right;\n",
       "    }\n",
       "</style>\n",
       "<table border=\"1\" class=\"dataframe\">\n",
       "  <thead>\n",
       "    <tr style=\"text-align: right;\">\n",
       "      <th></th>\n",
       "      <th>dep</th>\n",
       "      <th>jour</th>\n",
       "      <th>hosp</th>\n",
       "      <th>rea</th>\n",
       "      <th>rad</th>\n",
       "      <th>dc</th>\n",
       "      <th>nb_test</th>\n",
       "      <th>nb_pos</th>\n",
       "      <th>nb_test_cum</th>\n",
       "      <th>nb_pos_cum</th>\n",
       "      <th>dep_name</th>\n",
       "      <th>lat</th>\n",
       "      <th>long</th>\n",
       "      <th>zoom</th>\n",
       "    </tr>\n",
       "  </thead>\n",
       "  <tbody>\n",
       "    <tr>\n",
       "      <th>0</th>\n",
       "      <td>01</td>\n",
       "      <td>2020-03-18</td>\n",
       "      <td>2</td>\n",
       "      <td>0</td>\n",
       "      <td>1</td>\n",
       "      <td>0</td>\n",
       "      <td>37</td>\n",
       "      <td>8</td>\n",
       "      <td>37</td>\n",
       "      <td>8</td>\n",
       "      <td>Ain</td>\n",
       "      <td>46.1</td>\n",
       "      <td>5.33</td>\n",
       "      <td>7.5</td>\n",
       "    </tr>\n",
       "    <tr>\n",
       "      <th>1</th>\n",
       "      <td>01</td>\n",
       "      <td>2020-03-19</td>\n",
       "      <td>2</td>\n",
       "      <td>0</td>\n",
       "      <td>1</td>\n",
       "      <td>0</td>\n",
       "      <td>82</td>\n",
       "      <td>13</td>\n",
       "      <td>119</td>\n",
       "      <td>21</td>\n",
       "      <td>Ain</td>\n",
       "      <td>46.1</td>\n",
       "      <td>5.33</td>\n",
       "      <td>7.5</td>\n",
       "    </tr>\n",
       "    <tr>\n",
       "      <th>2</th>\n",
       "      <td>01</td>\n",
       "      <td>2020-03-20</td>\n",
       "      <td>2</td>\n",
       "      <td>0</td>\n",
       "      <td>1</td>\n",
       "      <td>0</td>\n",
       "      <td>44</td>\n",
       "      <td>9</td>\n",
       "      <td>163</td>\n",
       "      <td>30</td>\n",
       "      <td>Ain</td>\n",
       "      <td>46.1</td>\n",
       "      <td>5.33</td>\n",
       "      <td>7.5</td>\n",
       "    </tr>\n",
       "    <tr>\n",
       "      <th>3</th>\n",
       "      <td>01</td>\n",
       "      <td>2020-03-21</td>\n",
       "      <td>4</td>\n",
       "      <td>0</td>\n",
       "      <td>1</td>\n",
       "      <td>0</td>\n",
       "      <td>13</td>\n",
       "      <td>1</td>\n",
       "      <td>176</td>\n",
       "      <td>31</td>\n",
       "      <td>Ain</td>\n",
       "      <td>46.1</td>\n",
       "      <td>5.33</td>\n",
       "      <td>7.5</td>\n",
       "    </tr>\n",
       "    <tr>\n",
       "      <th>4</th>\n",
       "      <td>01</td>\n",
       "      <td>2020-03-22</td>\n",
       "      <td>8</td>\n",
       "      <td>1</td>\n",
       "      <td>2</td>\n",
       "      <td>0</td>\n",
       "      <td>4</td>\n",
       "      <td>0</td>\n",
       "      <td>180</td>\n",
       "      <td>31</td>\n",
       "      <td>Ain</td>\n",
       "      <td>46.1</td>\n",
       "      <td>5.33</td>\n",
       "      <td>7.5</td>\n",
       "    </tr>\n",
       "  </tbody>\n",
       "</table>\n",
       "</div>"
      ],
      "text/plain": [
       "  dep        jour  hosp  rea  rad  dc  nb_test  nb_pos  nb_test_cum  \\\n",
       "0  01  2020-03-18     2    0    1   0       37       8           37   \n",
       "1  01  2020-03-19     2    0    1   0       82      13          119   \n",
       "2  01  2020-03-20     2    0    1   0       44       9          163   \n",
       "3  01  2020-03-21     4    0    1   0       13       1          176   \n",
       "4  01  2020-03-22     8    1    2   0        4       0          180   \n",
       "\n",
       "   nb_pos_cum dep_name   lat  long  zoom  \n",
       "0           8      Ain  46.1  5.33   7.5  \n",
       "1          21      Ain  46.1  5.33   7.5  \n",
       "2          30      Ain  46.1  5.33   7.5  \n",
       "3          31      Ain  46.1  5.33   7.5  \n",
       "4          31      Ain  46.1  5.33   7.5  "
      ]
     },
     "execution_count": 697,
     "metadata": {},
     "output_type": "execute_result"
    }
   ],
   "source": [
    "df_dep.head()"
   ]
  },
  {
   "cell_type": "code",
   "execution_count": 698,
   "metadata": {},
   "outputs": [
    {
     "data": {
      "text/html": [
       "<div>\n",
       "<style scoped>\n",
       "    .dataframe tbody tr th:only-of-type {\n",
       "        vertical-align: middle;\n",
       "    }\n",
       "\n",
       "    .dataframe tbody tr th {\n",
       "        vertical-align: top;\n",
       "    }\n",
       "\n",
       "    .dataframe thead th {\n",
       "        text-align: right;\n",
       "    }\n",
       "</style>\n",
       "<table border=\"1\" class=\"dataframe\">\n",
       "  <thead>\n",
       "    <tr style=\"text-align: right;\">\n",
       "      <th></th>\n",
       "      <th>dep</th>\n",
       "      <th>jour</th>\n",
       "      <th>hosp</th>\n",
       "      <th>rea</th>\n",
       "      <th>rad</th>\n",
       "      <th>dc</th>\n",
       "      <th>nb_test</th>\n",
       "      <th>nb_pos</th>\n",
       "      <th>nb_test_cum</th>\n",
       "      <th>nb_pos_cum</th>\n",
       "      <th>dep_name</th>\n",
       "      <th>lat</th>\n",
       "      <th>long</th>\n",
       "      <th>zoom</th>\n",
       "      <th>scaled</th>\n",
       "      <th>death rate</th>\n",
       "    </tr>\n",
       "  </thead>\n",
       "  <tbody>\n",
       "    <tr>\n",
       "      <th>0</th>\n",
       "      <td>01</td>\n",
       "      <td>2020-03-18</td>\n",
       "      <td>2</td>\n",
       "      <td>0</td>\n",
       "      <td>1</td>\n",
       "      <td>0</td>\n",
       "      <td>37</td>\n",
       "      <td>8</td>\n",
       "      <td>37</td>\n",
       "      <td>8</td>\n",
       "      <td>Ain</td>\n",
       "      <td>46.1</td>\n",
       "      <td>5.33</td>\n",
       "      <td>7.5</td>\n",
       "      <td>4.958831</td>\n",
       "      <td>0.0</td>\n",
       "    </tr>\n",
       "    <tr>\n",
       "      <th>1</th>\n",
       "      <td>01</td>\n",
       "      <td>2020-03-19</td>\n",
       "      <td>2</td>\n",
       "      <td>0</td>\n",
       "      <td>1</td>\n",
       "      <td>0</td>\n",
       "      <td>82</td>\n",
       "      <td>13</td>\n",
       "      <td>119</td>\n",
       "      <td>21</td>\n",
       "      <td>Ain</td>\n",
       "      <td>46.1</td>\n",
       "      <td>5.33</td>\n",
       "      <td>7.5</td>\n",
       "      <td>10.425787</td>\n",
       "      <td>0.0</td>\n",
       "    </tr>\n",
       "    <tr>\n",
       "      <th>2</th>\n",
       "      <td>01</td>\n",
       "      <td>2020-03-20</td>\n",
       "      <td>2</td>\n",
       "      <td>0</td>\n",
       "      <td>1</td>\n",
       "      <td>0</td>\n",
       "      <td>44</td>\n",
       "      <td>9</td>\n",
       "      <td>163</td>\n",
       "      <td>30</td>\n",
       "      <td>Ain</td>\n",
       "      <td>46.1</td>\n",
       "      <td>5.33</td>\n",
       "      <td>7.5</td>\n",
       "      <td>13.720924</td>\n",
       "      <td>0.0</td>\n",
       "    </tr>\n",
       "    <tr>\n",
       "      <th>3</th>\n",
       "      <td>01</td>\n",
       "      <td>2020-03-21</td>\n",
       "      <td>4</td>\n",
       "      <td>0</td>\n",
       "      <td>1</td>\n",
       "      <td>0</td>\n",
       "      <td>13</td>\n",
       "      <td>1</td>\n",
       "      <td>176</td>\n",
       "      <td>31</td>\n",
       "      <td>Ain</td>\n",
       "      <td>46.1</td>\n",
       "      <td>5.33</td>\n",
       "      <td>7.5</td>\n",
       "      <td>14.071763</td>\n",
       "      <td>0.0</td>\n",
       "    </tr>\n",
       "    <tr>\n",
       "      <th>4</th>\n",
       "      <td>01</td>\n",
       "      <td>2020-03-22</td>\n",
       "      <td>8</td>\n",
       "      <td>1</td>\n",
       "      <td>2</td>\n",
       "      <td>0</td>\n",
       "      <td>4</td>\n",
       "      <td>0</td>\n",
       "      <td>180</td>\n",
       "      <td>31</td>\n",
       "      <td>Ain</td>\n",
       "      <td>46.1</td>\n",
       "      <td>5.33</td>\n",
       "      <td>7.5</td>\n",
       "      <td>14.071763</td>\n",
       "      <td>0.0</td>\n",
       "    </tr>\n",
       "  </tbody>\n",
       "</table>\n",
       "</div>"
      ],
      "text/plain": [
       "  dep        jour  hosp  rea  rad  dc  nb_test  nb_pos  nb_test_cum  \\\n",
       "0  01  2020-03-18     2    0    1   0       37       8           37   \n",
       "1  01  2020-03-19     2    0    1   0       82      13          119   \n",
       "2  01  2020-03-20     2    0    1   0       44       9          163   \n",
       "3  01  2020-03-21     4    0    1   0       13       1          176   \n",
       "4  01  2020-03-22     8    1    2   0        4       0          180   \n",
       "\n",
       "   nb_pos_cum dep_name   lat  long  zoom     scaled  death rate  \n",
       "0           8      Ain  46.1  5.33   7.5   4.958831         0.0  \n",
       "1          21      Ain  46.1  5.33   7.5  10.425787         0.0  \n",
       "2          30      Ain  46.1  5.33   7.5  13.720924         0.0  \n",
       "3          31      Ain  46.1  5.33   7.5  14.071763         0.0  \n",
       "4          31      Ain  46.1  5.33   7.5  14.071763         0.0  "
      ]
     },
     "execution_count": 698,
     "metadata": {},
     "output_type": "execute_result"
    }
   ],
   "source": [
    "df_dep[\"scaled\"] = df_dep[\"nb_pos_cum\"] ** 0.77\n",
    "df_dep['death rate']=round(df_dep['dc']/df_dep['nb_pos_cum']*100,2)\n",
    "df_dep.head()"
   ]
  },
  {
   "cell_type": "code",
   "execution_count": 699,
   "metadata": {},
   "outputs": [
    {
     "data": {
      "text/html": [
       "<div>\n",
       "<style scoped>\n",
       "    .dataframe tbody tr th:only-of-type {\n",
       "        vertical-align: middle;\n",
       "    }\n",
       "\n",
       "    .dataframe tbody tr th {\n",
       "        vertical-align: top;\n",
       "    }\n",
       "\n",
       "    .dataframe thead th {\n",
       "        text-align: right;\n",
       "    }\n",
       "</style>\n",
       "<table border=\"1\" class=\"dataframe\">\n",
       "  <thead>\n",
       "    <tr style=\"text-align: right;\">\n",
       "      <th></th>\n",
       "      <th>dep</th>\n",
       "      <th>jour</th>\n",
       "      <th>hosp</th>\n",
       "      <th>rea</th>\n",
       "      <th>rad</th>\n",
       "      <th>dc</th>\n",
       "      <th>nb_test</th>\n",
       "      <th>nb_pos</th>\n",
       "      <th>nb_test_cum</th>\n",
       "      <th>nb_pos_cum</th>\n",
       "      <th>dep_name</th>\n",
       "      <th>lat</th>\n",
       "      <th>long</th>\n",
       "      <th>zoom</th>\n",
       "      <th>scaled</th>\n",
       "      <th>death rate</th>\n",
       "    </tr>\n",
       "  </thead>\n",
       "  <tbody>\n",
       "    <tr>\n",
       "      <th>0</th>\n",
       "      <td>01</td>\n",
       "      <td>2020-11-02</td>\n",
       "      <td>298</td>\n",
       "      <td>29</td>\n",
       "      <td>677</td>\n",
       "      <td>148</td>\n",
       "      <td>2984</td>\n",
       "      <td>855</td>\n",
       "      <td>151696</td>\n",
       "      <td>19551</td>\n",
       "      <td>Ain</td>\n",
       "      <td>46.10</td>\n",
       "      <td>5.33</td>\n",
       "      <td>7.5</td>\n",
       "      <td>2014.652334</td>\n",
       "      <td>0.76</td>\n",
       "    </tr>\n",
       "    <tr>\n",
       "      <th>1</th>\n",
       "      <td>02</td>\n",
       "      <td>2020-11-02</td>\n",
       "      <td>175</td>\n",
       "      <td>26</td>\n",
       "      <td>1318</td>\n",
       "      <td>320</td>\n",
       "      <td>1334</td>\n",
       "      <td>239</td>\n",
       "      <td>90551</td>\n",
       "      <td>7019</td>\n",
       "      <td>Aisne</td>\n",
       "      <td>49.55</td>\n",
       "      <td>3.56</td>\n",
       "      <td>7.5</td>\n",
       "      <td>915.444325</td>\n",
       "      <td>4.56</td>\n",
       "    </tr>\n",
       "    <tr>\n",
       "      <th>2</th>\n",
       "      <td>03</td>\n",
       "      <td>2020-11-02</td>\n",
       "      <td>215</td>\n",
       "      <td>15</td>\n",
       "      <td>364</td>\n",
       "      <td>80</td>\n",
       "      <td>1532</td>\n",
       "      <td>349</td>\n",
       "      <td>68164</td>\n",
       "      <td>4786</td>\n",
       "      <td>Allier</td>\n",
       "      <td>44.10</td>\n",
       "      <td>2.35</td>\n",
       "      <td>7.5</td>\n",
       "      <td>681.677524</td>\n",
       "      <td>1.67</td>\n",
       "    </tr>\n",
       "    <tr>\n",
       "      <th>3</th>\n",
       "      <td>04</td>\n",
       "      <td>2020-11-02</td>\n",
       "      <td>71</td>\n",
       "      <td>10</td>\n",
       "      <td>202</td>\n",
       "      <td>24</td>\n",
       "      <td>270</td>\n",
       "      <td>55</td>\n",
       "      <td>37592</td>\n",
       "      <td>2325</td>\n",
       "      <td>Alpes-de-Haute-Provence</td>\n",
       "      <td>44.09</td>\n",
       "      <td>6.23</td>\n",
       "      <td>7.5</td>\n",
       "      <td>390.972019</td>\n",
       "      <td>1.03</td>\n",
       "    </tr>\n",
       "    <tr>\n",
       "      <th>4</th>\n",
       "      <td>05</td>\n",
       "      <td>2020-11-02</td>\n",
       "      <td>125</td>\n",
       "      <td>19</td>\n",
       "      <td>225</td>\n",
       "      <td>40</td>\n",
       "      <td>306</td>\n",
       "      <td>114</td>\n",
       "      <td>26204</td>\n",
       "      <td>3007</td>\n",
       "      <td>Hautes-Alpes</td>\n",
       "      <td>44.66</td>\n",
       "      <td>6.21</td>\n",
       "      <td>7.5</td>\n",
       "      <td>476.609549</td>\n",
       "      <td>1.33</td>\n",
       "    </tr>\n",
       "  </tbody>\n",
       "</table>\n",
       "</div>"
      ],
      "text/plain": [
       "  dep        jour  hosp  rea   rad   dc  nb_test  nb_pos  nb_test_cum  \\\n",
       "0  01  2020-11-02   298   29   677  148     2984     855       151696   \n",
       "1  02  2020-11-02   175   26  1318  320     1334     239        90551   \n",
       "2  03  2020-11-02   215   15   364   80     1532     349        68164   \n",
       "3  04  2020-11-02    71   10   202   24      270      55        37592   \n",
       "4  05  2020-11-02   125   19   225   40      306     114        26204   \n",
       "\n",
       "   nb_pos_cum                 dep_name    lat  long  zoom       scaled  \\\n",
       "0       19551                      Ain  46.10  5.33   7.5  2014.652334   \n",
       "1        7019                    Aisne  49.55  3.56   7.5   915.444325   \n",
       "2        4786                   Allier  44.10  2.35   7.5   681.677524   \n",
       "3        2325  Alpes-de-Haute-Provence  44.09  6.23   7.5   390.972019   \n",
       "4        3007             Hautes-Alpes  44.66  6.21   7.5   476.609549   \n",
       "\n",
       "   death rate  \n",
       "0        0.76  \n",
       "1        4.56  \n",
       "2        1.67  \n",
       "3        1.03  \n",
       "4        1.33  "
      ]
     },
     "execution_count": 699,
     "metadata": {},
     "output_type": "execute_result"
    }
   ],
   "source": [
    "df_last_update=df_dep.groupby(\"dep\").tail(1).reset_index(drop=True)\n",
    "df_last_update.head()"
   ]
  },
  {
   "cell_type": "code",
   "execution_count": 700,
   "metadata": {},
   "outputs": [
    {
     "data": {
      "text/plain": [
       "dep                    75\n",
       "jour           2020-11-02\n",
       "hosp                 1244\n",
       "rea                   264\n",
       "rad                  8428\n",
       "dc                   2116\n",
       "nb_test              7795\n",
       "nb_pos               1555\n",
       "nb_test_cum        823134\n",
       "nb_pos_cum          86897\n",
       "dep_name            Paris\n",
       "lat                 48.85\n",
       "long                 2.35\n",
       "zoom                  7.5\n",
       "scaled             6353.8\n",
       "death rate           2.44\n",
       "Name: 75, dtype: object"
      ]
     },
     "execution_count": 700,
     "metadata": {},
     "output_type": "execute_result"
    }
   ],
   "source": [
    "df_last_update.iloc[75]"
   ]
  },
  {
   "cell_type": "markdown",
   "metadata": {},
   "source": [
    "## **France dataset**"
   ]
  },
  {
   "cell_type": "code",
   "execution_count": 728,
   "metadata": {},
   "outputs": [],
   "source": [
    "df_france=df_dep.groupby(\"jour\").sum().reset_index()\n",
    "df_france[\"lat\"]=46.40\n",
    "df_france[\"long\"]=0.5\n",
    "df_france[\"zoom\"]=3.5\n",
    "df_france['death rate']=round(df_france['dc']/df_france['nb_pos_cum']*100,2)"
   ]
  },
  {
   "cell_type": "code",
   "execution_count": 738,
   "metadata": {},
   "outputs": [
    {
     "data": {
      "text/html": [
       "<div>\n",
       "<style scoped>\n",
       "    .dataframe tbody tr th:only-of-type {\n",
       "        vertical-align: middle;\n",
       "    }\n",
       "\n",
       "    .dataframe tbody tr th {\n",
       "        vertical-align: top;\n",
       "    }\n",
       "\n",
       "    .dataframe thead th {\n",
       "        text-align: right;\n",
       "    }\n",
       "</style>\n",
       "<table border=\"1\" class=\"dataframe\">\n",
       "  <thead>\n",
       "    <tr style=\"text-align: right;\">\n",
       "      <th></th>\n",
       "      <th>jour</th>\n",
       "      <th>hosp</th>\n",
       "      <th>rea</th>\n",
       "      <th>rad</th>\n",
       "      <th>dc</th>\n",
       "      <th>nb_test</th>\n",
       "      <th>nb_pos</th>\n",
       "      <th>nb_test_cum</th>\n",
       "      <th>nb_pos_cum</th>\n",
       "      <th>lat</th>\n",
       "      <th>long</th>\n",
       "      <th>zoom</th>\n",
       "      <th>scaled</th>\n",
       "      <th>death rate</th>\n",
       "    </tr>\n",
       "  </thead>\n",
       "  <tbody>\n",
       "    <tr>\n",
       "      <th>229</th>\n",
       "      <td>2020-11-02</td>\n",
       "      <td>25120</td>\n",
       "      <td>3721</td>\n",
       "      <td>119073</td>\n",
       "      <td>25760</td>\n",
       "      <td>210532</td>\n",
       "      <td>44834</td>\n",
       "      <td>16821423</td>\n",
       "      <td>1459245</td>\n",
       "      <td>46.4</td>\n",
       "      <td>0.5</td>\n",
       "      <td>3.5</td>\n",
       "      <td>145931.52098</td>\n",
       "      <td>1.77</td>\n",
       "    </tr>\n",
       "  </tbody>\n",
       "</table>\n",
       "</div>"
      ],
      "text/plain": [
       "           jour   hosp   rea     rad     dc  nb_test  nb_pos  nb_test_cum  \\\n",
       "229  2020-11-02  25120  3721  119073  25760   210532   44834     16821423   \n",
       "\n",
       "     nb_pos_cum   lat  long  zoom        scaled  death rate  \n",
       "229     1459245  46.4   0.5   3.5  145931.52098        1.77  "
      ]
     },
     "execution_count": 738,
     "metadata": {},
     "output_type": "execute_result"
    }
   ],
   "source": [
    "df_france.tail(1)"
   ]
  },
  {
   "cell_type": "markdown",
   "metadata": {},
   "source": [
    "## **Plot Figures**"
   ]
  },
  {
   "cell_type": "markdown",
   "metadata": {},
   "source": [
    "### **Map**"
   ]
  },
  {
   "cell_type": "code",
   "execution_count": 855,
   "metadata": {},
   "outputs": [],
   "source": [
    "color_scale = [\"#fadc8f\",\n",
    "        \"#f9d67a\",\n",
    "        \"#f8d066\",\n",
    "        \"#f8c952\",\n",
    "        \"#f7c33d\",\n",
    "        \"#f6bd29\",\n",
    "        \"#f5b614\",\n",
    "        \"#F4B000\",\n",
    "        \"#eaa900\",\n",
    "        \"#e0a200\",\n",
    "        \"#dc9e00\",]\n",
    "\n"
   ]
  },
  {
   "cell_type": "code",
   "execution_count": 704,
   "metadata": {},
   "outputs": [],
   "source": [
    "px.set_mapbox_access_token(MAPBOX_ACCESS_TOKEN)"
   ]
  },
  {
   "cell_type": "code",
   "execution_count": 857,
   "metadata": {},
   "outputs": [],
   "source": [
    "def plot_map(lat=46.4,lon=0.5,zoom=3.5):    \n",
    "    fig = px.scatter_mapbox(\n",
    "        df_last_update,\n",
    "        lat = \"lat\",\n",
    "        lon = \"long\",\n",
    "        color = \"nb_pos_cum\",\n",
    "        size=\"scaled\",\n",
    "        size_max = 35,\n",
    "        hover_name = \"dep_name\",\n",
    "        hover_data = [\"nb_pos_cum\",\"dc\",\"death rate\",\"dep_name\"],\n",
    "        color_continuous_scale = color_scale,\n",
    "    )\n",
    "\n",
    "    fig.layout.update(\n",
    "            mapbox_style=\"dark\",\n",
    "            mapbox=dict(center=dict(lat=lat, lon=lon), zoom=zoom),\n",
    "        )\n",
    "    fig.data[0].update(\n",
    "            hovertemplate=(\"%{customdata[3]}<br>Confirmed:\"\n",
    "                          \" %{customdata[0]}<br>Deaths: %{customdata[1]}<br>Death Rate: %{customdata[2]}\")\n",
    "        )\n",
    "\n",
    "    fig.show()"
   ]
  },
  {
   "cell_type": "code",
   "execution_count": 858,
   "metadata": {},
   "outputs": [
    {
     "data": {
      "application/vnd.plotly.v1+json": {
       "config": {
        "plotlyServerURL": "https://plot.ly"
       },
       "data": [
        {
         "customdata": [
          [
           19551,
           148,
           0.76,
           "Ain"
          ],
          [
           7019,
           320,
           4.56,
           "Aisne"
          ],
          [
           4786,
           80,
           1.67,
           "Allier"
          ],
          [
           2325,
           24,
           1.03,
           "Alpes-de-Haute-Provence"
          ],
          [
           3007,
           40,
           1.33,
           "Hautes-Alpes"
          ],
          [
           20854,
           266,
           1.28,
           "Alpes_Maritimes"
          ],
          [
           7525,
           154,
           2.05,
           "Ardeche"
          ],
          [
           4129,
           72,
           1.74,
           "Ardennes"
          ],
          [
           2554,
           9,
           0.35,
           "Ariege"
          ],
          [
           5061,
           149,
           2.94,
           "Aube"
          ],
          [
           4900,
           78,
           1.59,
           "Aude"
          ],
          [
           5180,
           51,
           0.98,
           "Aveyron"
          ],
          [
           73151,
           980,
           1.34,
           "Bouches-du-Rhône"
          ],
          [
           10308,
           118,
           1.14,
           "Calvados"
          ],
          [
           1565,
           24,
           1.53,
           "Cantal"
          ],
          [
           2588,
           20,
           0.77,
           "Charente"
          ],
          [
           3412,
           67,
           1.96,
           "Charente-Maritime"
          ],
          [
           4146,
           123,
           2.97,
           "Cher"
          ],
          [
           2219,
           56,
           2.52,
           "Correze"
          ],
          [
           10641,
           286,
           2.69,
           "Côte-d'Or"
          ],
          [
           4462,
           52,
           1.17,
           "Côtes-D'Armor"
          ],
          [
           1367,
           21,
           1.54,
           "Creuse"
          ],
          [
           4070,
           18,
           0.44,
           "Dordogne"
          ],
          [
           9387,
           152,
           1.62,
           "Doubs"
          ],
          [
           11339,
           179,
           1.58,
           "Drome"
          ],
          [
           8657,
           124,
           1.43,
           "Eure"
          ],
          [
           5796,
           165,
           2.85,
           "Eure-et-Loire"
          ],
          [
           6681,
           56,
           0.84,
           "Finistère"
          ],
          [
           2633,
           57,
           2.16,
           "Corde-du-Sud"
          ],
          [
           2503,
           22,
           0.88,
           "Haute-Corse"
          ],
          [
           17465,
           157,
           0.9,
           "Gard"
          ],
          [
           35267,
           160,
           0.45,
           "Haute-Garonne"
          ],
          [
           2558,
           36,
           1.41,
           "Gers"
          ],
          [
           26508,
           264,
           1,
           "Gironde"
          ],
          [
           27157,
           260,
           0.96,
           "Hérault"
          ],
          [
           16843,
           133,
           0.79,
           "Ille-et-Vilaine"
          ],
          [
           2208,
           84,
           3.8,
           "Indre"
          ],
          [
           9803,
           120,
           1.22,
           "Indre-et-Loire"
          ],
          [
           41473,
           328,
           0.79,
           "Isère"
          ],
          [
           5277,
           80,
           1.52,
           "Jura"
          ],
          [
           5179,
           28,
           0.54,
           "Landes"
          ],
          [
           3431,
           81,
           2.36,
           "Loir-et-Cher"
          ],
          [
           33397,
           431,
           1.29,
           "Loire"
          ],
          [
           7050,
           35,
           0.5,
           "Haute-Loire"
          ],
          [
           20399,
           218,
           1.07,
           "Loire-Atlantique"
          ],
          [
           13016,
           127,
           0.98,
           "Loiret"
          ],
          [
           1334,
           24,
           1.8,
           "Lot"
          ],
          [
           3755,
           24,
           0.64,
           "Lot-et-Garonne"
          ],
          [
           1294,
           15,
           1.16,
           "Lozère"
          ],
          [
           13072,
           196,
           1.5,
           "Manne-et-Loire"
          ],
          [
           3817,
           70,
           1.83,
           "Manche"
          ],
          [
           8882,
           306,
           3.45,
           "Marne"
          ],
          [
           2205,
           100,
           4.54,
           "Haute-Marne"
          ],
          [
           4791,
           57,
           1.19,
           "Mayenne"
          ],
          [
           11613,
           399,
           3.44,
           "Meurthe-et-Moselle"
          ],
          [
           1908,
           114,
           5.97,
           "Meuse"
          ],
          [
           5751,
           121,
           2.1,
           "Morbihan"
          ],
          [
           14468,
           918,
           6.35,
           "Moselle"
          ],
          [
           2328,
           33,
           1.42,
           "Nièvre"
          ],
          [
           95098,
           1000,
           1.05,
           "Nord"
          ],
          [
           15988,
           466,
           2.91,
           "Oise"
          ],
          [
           2871,
           56,
           1.95,
           "Orne"
          ],
          [
           30986,
           423,
           1.37,
           "Pas-de-Calais"
          ],
          [
           13429,
           98,
           0.73,
           "Puy-de-Dôme"
          ],
          [
           12900,
           69,
           0.53,
           "Pyrénées-Altantiques"
          ],
          [
           3826,
           38,
           0.99,
           "Hautes-Pyrénées"
          ],
          [
           8109,
           77,
           0.95,
           "Pyrénées-Orientales"
          ],
          [
           20747,
           744,
           3.59,
           "Bas-Rhin"
          ],
          [
           9787,
           855,
           8.74,
           "Haut-Rhin"
          ],
          [
           75517,
           998,
           1.32,
           "Rhone"
          ],
          [
           2670,
           90,
           3.37,
           "Haute-Saône"
          ],
          [
           12486,
           286,
           2.29,
           "Saône-et-Loire"
          ],
          [
           7283,
           110,
           1.51,
           "Sarthe"
          ],
          [
           12005,
           149,
           1.24,
           "Savoie"
          ],
          [
           22075,
           227,
           1.03,
           "Haute-Savoie"
          ],
          [
           86897,
           2116,
           2.44,
           "Paris"
          ],
          [
           25256,
           315,
           1.25,
           "Seine-Maritime"
          ],
          [
           30676,
           830,
           2.71,
           "Seine-et-Marne"
          ],
          [
           35363,
           657,
           1.86,
           "Yvellines"
          ],
          [
           3620,
           35,
           0.97,
           "Deux-Sèvres"
          ],
          [
           7385,
           273,
           3.7,
           "Somme"
          ],
          [
           7710,
           49,
           0.64,
           "Tarn"
          ],
          [
           5106,
           30,
           0.59,
           "Tarn-et-Garonne"
          ],
          [
           20715,
           224,
           1.08,
           "Var"
          ],
          [
           13112,
           143,
           1.09,
           "Vaucluse"
          ],
          [
           6287,
           52,
           0.83,
           "Vendée"
          ],
          [
           5241,
           56,
           1.07,
           "Vienne"
          ],
          [
           5444,
           56,
           1.03,
           "Haute-Vienne"
          ],
          [
           4602,
           279,
           6.06,
           "Vosges"
          ],
          [
           5118,
           98,
           1.91,
           "Yonne"
          ],
          [
           1749,
           214,
           12.24,
           "Territoire de Belfort"
          ],
          [
           34262,
           730,
           2.13,
           "Essonne"
          ],
          [
           54110,
           1271,
           2.35,
           "Hauts-de-Seine"
          ],
          [
           52292,
           1211,
           2.32,
           "Seine-Saint_Denis"
          ],
          [
           44509,
           1416,
           3.18,
           "Val-de-Marne"
          ],
          [
           39422,
           885,
           2.24,
           "Val-d'Oise"
          ],
          [
           7778,
           143,
           1.84,
           "Guadeloupe"
          ],
          [
           4265,
           31,
           0.73,
           "Martinique"
          ],
          [
           9723,
           66,
           0.68,
           "Guyane"
          ],
          [
           5942,
           33,
           0.56,
           "La Réunion"
          ],
          [
           2819,
           31,
           1.1,
           "Mayotte"
          ]
         ],
         "hovertemplate": "%{customdata[3]}<br>Confirmed: %{customdata[0]}<br>Deaths: %{customdata[1]}<br>Death Rate: %{customdata[2]}",
         "hovertext": [
          "Ain",
          "Aisne",
          "Allier",
          "Alpes-de-Haute-Provence",
          "Hautes-Alpes",
          "Alpes_Maritimes",
          "Ardeche",
          "Ardennes",
          "Ariege",
          "Aube",
          "Aude",
          "Aveyron",
          "Bouches-du-Rhône",
          "Calvados",
          "Cantal",
          "Charente",
          "Charente-Maritime",
          "Cher",
          "Correze",
          "Côte-d'Or",
          "Côtes-D'Armor",
          "Creuse",
          "Dordogne",
          "Doubs",
          "Drome",
          "Eure",
          "Eure-et-Loire",
          "Finistère",
          "Corde-du-Sud",
          "Haute-Corse",
          "Gard",
          "Haute-Garonne",
          "Gers",
          "Gironde",
          "Hérault",
          "Ille-et-Vilaine",
          "Indre",
          "Indre-et-Loire",
          "Isère",
          "Jura",
          "Landes",
          "Loir-et-Cher",
          "Loire",
          "Haute-Loire",
          "Loire-Atlantique",
          "Loiret",
          "Lot",
          "Lot-et-Garonne",
          "Lozère",
          "Manne-et-Loire",
          "Manche",
          "Marne",
          "Haute-Marne",
          "Mayenne",
          "Meurthe-et-Moselle",
          "Meuse",
          "Morbihan",
          "Moselle",
          "Nièvre",
          "Nord",
          "Oise",
          "Orne",
          "Pas-de-Calais",
          "Puy-de-Dôme",
          "Pyrénées-Altantiques",
          "Hautes-Pyrénées",
          "Pyrénées-Orientales",
          "Bas-Rhin",
          "Haut-Rhin",
          "Rhone",
          "Haute-Saône",
          "Saône-et-Loire",
          "Sarthe",
          "Savoie",
          "Haute-Savoie",
          "Paris",
          "Seine-Maritime",
          "Seine-et-Marne",
          "Yvellines",
          "Deux-Sèvres",
          "Somme",
          "Tarn",
          "Tarn-et-Garonne",
          "Var",
          "Vaucluse",
          "Vendée",
          "Vienne",
          "Haute-Vienne",
          "Vosges",
          "Yonne",
          "Territoire de Belfort",
          "Essonne",
          "Hauts-de-Seine",
          "Seine-Saint_Denis",
          "Val-de-Marne",
          "Val-d'Oise",
          "Guadeloupe",
          "Martinique",
          "Guyane",
          "La Réunion",
          "Mayotte"
         ],
         "lat": [
          46.1,
          49.55,
          44.1,
          44.09,
          44.66,
          43.94,
          44.73,
          49.61,
          42.94,
          48.31,
          43.1,
          44.28,
          43.54,
          49.1,
          45.01,
          45.71,
          45.76,
          47.07,
          45.34,
          47.43,
          48.44,
          46.08,
          45.13,
          47.16,
          44.68,
          49.1,
          48.39,
          48.27,
          41.88,
          42.37,
          43.99,
          43.35,
          43.68,
          44.84,
          43.9,
          48.18,
          46.8,
          47.24,
          45.27,
          46.73,
          43.96,
          47.61,
          45.72,
          45.13,
          47.38,
          47.85,
          44.63,
          44.37,
          44.51,
          47.39,
          49.08,
          48.38,
          48.09,
          48.12,
          48.79,
          49,
          47.85,
          49.02,
          47.1,
          50.45,
          49.39,
          48.61,
          50.49,
          45.73,
          43.28,
          43.05,
          42.61,
          48.65,
          47.86,
          45.86,
          47.63,
          46.64,
          48,
          45.47,
          46.04,
          48.85,
          49.65,
          48.6,
          48.97,
          46.53,
          49.97,
          43.77,
          44.07,
          43.47,
          43.99,
          46.67,
          46.55,
          45.87,
          48.19,
          47.84,
          47.62,
          48.52,
          48.83,
          48.9,
          48.77,
          49.07,
          16,
          14.6,
          4.93,
          -20.88,
          -12.77
         ],
         "legendgroup": "",
         "lon": [
          5.33,
          3.56,
          2.35,
          6.23,
          6.21,
          7.12,
          4.41,
          4.61,
          1.53,
          4.14,
          2.35,
          2.72,
          5.03,
          -0.37,
          2.66,
          0.2,
          -0.71,
          2.52,
          1.81,
          4.78,
          -2.85,
          2.04,
          0.7,
          6.37,
          5.15,
          1,
          1.36,
          -4.04,
          8.97,
          9.23,
          4.17,
          1.23,
          0.45,
          -0.58,
          4.47,
          -1.64,
          1.62,
          0.69,
          5.61,
          5.69,
          -0.8,
          1.41,
          4.16,
          3.81,
          -1.71,
          2.26,
          1.59,
          0.46,
          3.49,
          -0.53,
          -1.34,
          7.47,
          5.15,
          -0.67,
          6.16,
          5.39,
          -2.83,
          6.65,
          3.51,
          3.2,
          2.42,
          0.11,
          2.27,
          3.14,
          -0.75,
          0.16,
          2.51,
          7.56,
          7.27,
          4.66,
          6.07,
          4.53,
          0.19,
          6.45,
          6.44,
          2.35,
          1.04,
          2.97,
          1.97,
          -0.32,
          2.29,
          2.18,
          1.28,
          6.18,
          5.14,
          -1.28,
          0.5,
          1.23,
          6.37,
          3.57,
          6.92,
          2.26,
          2.24,
          2.48,
          2.45,
          2.17,
          -61.73,
          -61.06,
          -52.32,
          55.45,
          45.22
         ],
         "marker": {
          "color": [
           19551,
           7019,
           4786,
           2325,
           3007,
           20854,
           7525,
           4129,
           2554,
           5061,
           4900,
           5180,
           73151,
           10308,
           1565,
           2588,
           3412,
           4146,
           2219,
           10641,
           4462,
           1367,
           4070,
           9387,
           11339,
           8657,
           5796,
           6681,
           2633,
           2503,
           17465,
           35267,
           2558,
           26508,
           27157,
           16843,
           2208,
           9803,
           41473,
           5277,
           5179,
           3431,
           33397,
           7050,
           20399,
           13016,
           1334,
           3755,
           1294,
           13072,
           3817,
           8882,
           2205,
           4791,
           11613,
           1908,
           5751,
           14468,
           2328,
           95098,
           15988,
           2871,
           30986,
           13429,
           12900,
           3826,
           8109,
           20747,
           9787,
           75517,
           2670,
           12486,
           7283,
           12005,
           22075,
           86897,
           25256,
           30676,
           35363,
           3620,
           7385,
           7710,
           5106,
           20715,
           13112,
           6287,
           5241,
           5444,
           4602,
           5118,
           1749,
           34262,
           54110,
           52292,
           44509,
           39422,
           7778,
           4265,
           9723,
           5942,
           2819
          ],
          "coloraxis": "coloraxis",
          "size": [
           2014.6523340281424,
           915.4443247986592,
           681.677523598011,
           390.97201904368404,
           476.60954936599455,
           2117.267905272428,
           965.8507208651662,
           608.415906550421,
           420.3006750717514,
           711.6426688459129,
           694.1462497087122,
           724.4925350690139,
           5564.800584576953,
           1230.6775991087363,
           288.25446506772744,
           424.602443817322,
           525.3115470986844,
           610.3438309129978,
           377.1734573317416,
           1261.178275738665,
           645.8590742989918,
           259.7417463925654,
           601.7106454728038,
           1145.1058932496305,
           1324.4103364594966,
           1075.902487199941,
           789.966819265488,
           881.3084481443983,
           430.27603853713777,
           413.82321859324657,
           1847.0124135002004,
           3173.026934961359,
           420.8074460475508,
           2546.8317812758683,
           2594.7109228365193,
           1796.1515419544246,
           375.73295075407736,
           1183.9856317233555,
           3594.8386123638497,
           734.9166090655056,
           724.384837841622,
           527.5625428681835,
           3042.669222952554,
           918.5559614234646,
           2081.6074619029164,
           1472.813328507462,
           254.9000899807657,
           565.5221956752164,
           248.99429281911026,
           1477.6901219886481,
           572.6985231311709,
           1097.3705275033444,
           375.3397991200384,
           682.2258193132071,
           1348.9852717138854,
           335.7726708212501,
           785.2399614288223,
           1597.771039526286,
           391.36041105216566,
           6810.703363425814,
           1725.5259201932088,
           459.92345510595237,
           2872.086051062288,
           1508.667826744476,
           1462.6960107490281,
           573.7380111172065,
           1023.0687550260457,
           2108.8980553631154,
           1182.497368670573,
           5702.882730092187,
           434.9242980938078,
           1426.4152213093982,
           941.843920207932,
           1383.9132473530706,
           2212.093850451482,
           6353.802089315417,
           2453.695791599162,
           2849.935436200224,
           3179.675552908793,
           549.801093542354,
           951.984516162036,
           984.0833209692098,
           716.5099472664023,
           2106.3929957930027,
           1481.1706039325393,
           841.0105900076446,
           731.0530661867365,
           752.7607213004671,
           661.4071615527671,
           717.8062191614841,
           314.0133797798593,
           3103.171566401932,
           4411.8800985447515,
           4297.294765961336,
           3795.8132237065956,
           3457.154298670903,
           990.7596541731654,
           623.7889213911327,
           1176.5387081056163,
           805.2451885860822,
           453.4957364863549
          ],
          "sizemode": "area",
          "sizeref": 5.559757847694542
         },
         "mode": "markers",
         "name": "",
         "showlegend": false,
         "subplot": "mapbox",
         "type": "scattermapbox"
        }
       ],
       "layout": {
        "autosize": true,
        "coloraxis": {
         "colorbar": {
          "title": {
           "text": "nb_pos_cum"
          }
         },
         "colorscale": [
          [
           0,
           "#fadc8f"
          ],
          [
           0.1,
           "#f9d67a"
          ],
          [
           0.2,
           "#f8d066"
          ],
          [
           0.3,
           "#f8c952"
          ],
          [
           0.4,
           "#f7c33d"
          ],
          [
           0.5,
           "#f6bd29"
          ],
          [
           0.6,
           "#f5b614"
          ],
          [
           0.7,
           "#F4B000"
          ],
          [
           0.8,
           "#eaa900"
          ],
          [
           0.9,
           "#e0a200"
          ],
          [
           1,
           "#dc9e00"
          ]
         ]
        },
        "legend": {
         "itemsizing": "constant",
         "tracegroupgap": 0
        },
        "mapbox": {
         "accesstoken": "pk.eyJ1IjoicG1lY2NoaWEiLCJhIjoiY2toNTVlajU4MDBtcTJycXBzNGlsOTByYyJ9.sfNsB0a0UzZxosdqWYhWyQ",
         "bearing": 0,
         "center": {
          "lat": 40.61547047501611,
          "lon": -11.999384967118544
         },
         "domain": {
          "x": [
           0,
           1
          ],
          "y": [
           0,
           1
          ]
         },
         "pitch": 0,
         "style": "dark",
         "zoom": 4.916911921851646
        },
        "margin": {
         "t": 60
        },
        "template": {
         "data": {
          "bar": [
           {
            "error_x": {
             "color": "#2a3f5f"
            },
            "error_y": {
             "color": "#2a3f5f"
            },
            "marker": {
             "line": {
              "color": "#E5ECF6",
              "width": 0.5
             }
            },
            "type": "bar"
           }
          ],
          "barpolar": [
           {
            "marker": {
             "line": {
              "color": "#E5ECF6",
              "width": 0.5
             }
            },
            "type": "barpolar"
           }
          ],
          "carpet": [
           {
            "aaxis": {
             "endlinecolor": "#2a3f5f",
             "gridcolor": "white",
             "linecolor": "white",
             "minorgridcolor": "white",
             "startlinecolor": "#2a3f5f"
            },
            "baxis": {
             "endlinecolor": "#2a3f5f",
             "gridcolor": "white",
             "linecolor": "white",
             "minorgridcolor": "white",
             "startlinecolor": "#2a3f5f"
            },
            "type": "carpet"
           }
          ],
          "choropleth": [
           {
            "colorbar": {
             "outlinewidth": 0,
             "ticks": ""
            },
            "type": "choropleth"
           }
          ],
          "contour": [
           {
            "colorbar": {
             "outlinewidth": 0,
             "ticks": ""
            },
            "colorscale": [
             [
              0,
              "#0d0887"
             ],
             [
              0.1111111111111111,
              "#46039f"
             ],
             [
              0.2222222222222222,
              "#7201a8"
             ],
             [
              0.3333333333333333,
              "#9c179e"
             ],
             [
              0.4444444444444444,
              "#bd3786"
             ],
             [
              0.5555555555555556,
              "#d8576b"
             ],
             [
              0.6666666666666666,
              "#ed7953"
             ],
             [
              0.7777777777777778,
              "#fb9f3a"
             ],
             [
              0.8888888888888888,
              "#fdca26"
             ],
             [
              1,
              "#f0f921"
             ]
            ],
            "type": "contour"
           }
          ],
          "contourcarpet": [
           {
            "colorbar": {
             "outlinewidth": 0,
             "ticks": ""
            },
            "type": "contourcarpet"
           }
          ],
          "heatmap": [
           {
            "colorbar": {
             "outlinewidth": 0,
             "ticks": ""
            },
            "colorscale": [
             [
              0,
              "#0d0887"
             ],
             [
              0.1111111111111111,
              "#46039f"
             ],
             [
              0.2222222222222222,
              "#7201a8"
             ],
             [
              0.3333333333333333,
              "#9c179e"
             ],
             [
              0.4444444444444444,
              "#bd3786"
             ],
             [
              0.5555555555555556,
              "#d8576b"
             ],
             [
              0.6666666666666666,
              "#ed7953"
             ],
             [
              0.7777777777777778,
              "#fb9f3a"
             ],
             [
              0.8888888888888888,
              "#fdca26"
             ],
             [
              1,
              "#f0f921"
             ]
            ],
            "type": "heatmap"
           }
          ],
          "heatmapgl": [
           {
            "colorbar": {
             "outlinewidth": 0,
             "ticks": ""
            },
            "colorscale": [
             [
              0,
              "#0d0887"
             ],
             [
              0.1111111111111111,
              "#46039f"
             ],
             [
              0.2222222222222222,
              "#7201a8"
             ],
             [
              0.3333333333333333,
              "#9c179e"
             ],
             [
              0.4444444444444444,
              "#bd3786"
             ],
             [
              0.5555555555555556,
              "#d8576b"
             ],
             [
              0.6666666666666666,
              "#ed7953"
             ],
             [
              0.7777777777777778,
              "#fb9f3a"
             ],
             [
              0.8888888888888888,
              "#fdca26"
             ],
             [
              1,
              "#f0f921"
             ]
            ],
            "type": "heatmapgl"
           }
          ],
          "histogram": [
           {
            "marker": {
             "colorbar": {
              "outlinewidth": 0,
              "ticks": ""
             }
            },
            "type": "histogram"
           }
          ],
          "histogram2d": [
           {
            "colorbar": {
             "outlinewidth": 0,
             "ticks": ""
            },
            "colorscale": [
             [
              0,
              "#0d0887"
             ],
             [
              0.1111111111111111,
              "#46039f"
             ],
             [
              0.2222222222222222,
              "#7201a8"
             ],
             [
              0.3333333333333333,
              "#9c179e"
             ],
             [
              0.4444444444444444,
              "#bd3786"
             ],
             [
              0.5555555555555556,
              "#d8576b"
             ],
             [
              0.6666666666666666,
              "#ed7953"
             ],
             [
              0.7777777777777778,
              "#fb9f3a"
             ],
             [
              0.8888888888888888,
              "#fdca26"
             ],
             [
              1,
              "#f0f921"
             ]
            ],
            "type": "histogram2d"
           }
          ],
          "histogram2dcontour": [
           {
            "colorbar": {
             "outlinewidth": 0,
             "ticks": ""
            },
            "colorscale": [
             [
              0,
              "#0d0887"
             ],
             [
              0.1111111111111111,
              "#46039f"
             ],
             [
              0.2222222222222222,
              "#7201a8"
             ],
             [
              0.3333333333333333,
              "#9c179e"
             ],
             [
              0.4444444444444444,
              "#bd3786"
             ],
             [
              0.5555555555555556,
              "#d8576b"
             ],
             [
              0.6666666666666666,
              "#ed7953"
             ],
             [
              0.7777777777777778,
              "#fb9f3a"
             ],
             [
              0.8888888888888888,
              "#fdca26"
             ],
             [
              1,
              "#f0f921"
             ]
            ],
            "type": "histogram2dcontour"
           }
          ],
          "mesh3d": [
           {
            "colorbar": {
             "outlinewidth": 0,
             "ticks": ""
            },
            "type": "mesh3d"
           }
          ],
          "parcoords": [
           {
            "line": {
             "colorbar": {
              "outlinewidth": 0,
              "ticks": ""
             }
            },
            "type": "parcoords"
           }
          ],
          "pie": [
           {
            "automargin": true,
            "type": "pie"
           }
          ],
          "scatter": [
           {
            "marker": {
             "colorbar": {
              "outlinewidth": 0,
              "ticks": ""
             }
            },
            "type": "scatter"
           }
          ],
          "scatter3d": [
           {
            "line": {
             "colorbar": {
              "outlinewidth": 0,
              "ticks": ""
             }
            },
            "marker": {
             "colorbar": {
              "outlinewidth": 0,
              "ticks": ""
             }
            },
            "type": "scatter3d"
           }
          ],
          "scattercarpet": [
           {
            "marker": {
             "colorbar": {
              "outlinewidth": 0,
              "ticks": ""
             }
            },
            "type": "scattercarpet"
           }
          ],
          "scattergeo": [
           {
            "marker": {
             "colorbar": {
              "outlinewidth": 0,
              "ticks": ""
             }
            },
            "type": "scattergeo"
           }
          ],
          "scattergl": [
           {
            "marker": {
             "colorbar": {
              "outlinewidth": 0,
              "ticks": ""
             }
            },
            "type": "scattergl"
           }
          ],
          "scattermapbox": [
           {
            "marker": {
             "colorbar": {
              "outlinewidth": 0,
              "ticks": ""
             }
            },
            "type": "scattermapbox"
           }
          ],
          "scatterpolar": [
           {
            "marker": {
             "colorbar": {
              "outlinewidth": 0,
              "ticks": ""
             }
            },
            "type": "scatterpolar"
           }
          ],
          "scatterpolargl": [
           {
            "marker": {
             "colorbar": {
              "outlinewidth": 0,
              "ticks": ""
             }
            },
            "type": "scatterpolargl"
           }
          ],
          "scatterternary": [
           {
            "marker": {
             "colorbar": {
              "outlinewidth": 0,
              "ticks": ""
             }
            },
            "type": "scatterternary"
           }
          ],
          "surface": [
           {
            "colorbar": {
             "outlinewidth": 0,
             "ticks": ""
            },
            "colorscale": [
             [
              0,
              "#0d0887"
             ],
             [
              0.1111111111111111,
              "#46039f"
             ],
             [
              0.2222222222222222,
              "#7201a8"
             ],
             [
              0.3333333333333333,
              "#9c179e"
             ],
             [
              0.4444444444444444,
              "#bd3786"
             ],
             [
              0.5555555555555556,
              "#d8576b"
             ],
             [
              0.6666666666666666,
              "#ed7953"
             ],
             [
              0.7777777777777778,
              "#fb9f3a"
             ],
             [
              0.8888888888888888,
              "#fdca26"
             ],
             [
              1,
              "#f0f921"
             ]
            ],
            "type": "surface"
           }
          ],
          "table": [
           {
            "cells": {
             "fill": {
              "color": "#EBF0F8"
             },
             "line": {
              "color": "white"
             }
            },
            "header": {
             "fill": {
              "color": "#C8D4E3"
             },
             "line": {
              "color": "white"
             }
            },
            "type": "table"
           }
          ]
         },
         "layout": {
          "annotationdefaults": {
           "arrowcolor": "#2a3f5f",
           "arrowhead": 0,
           "arrowwidth": 1
          },
          "coloraxis": {
           "colorbar": {
            "outlinewidth": 0,
            "ticks": ""
           }
          },
          "colorscale": {
           "diverging": [
            [
             0,
             "#8e0152"
            ],
            [
             0.1,
             "#c51b7d"
            ],
            [
             0.2,
             "#de77ae"
            ],
            [
             0.3,
             "#f1b6da"
            ],
            [
             0.4,
             "#fde0ef"
            ],
            [
             0.5,
             "#f7f7f7"
            ],
            [
             0.6,
             "#e6f5d0"
            ],
            [
             0.7,
             "#b8e186"
            ],
            [
             0.8,
             "#7fbc41"
            ],
            [
             0.9,
             "#4d9221"
            ],
            [
             1,
             "#276419"
            ]
           ],
           "sequential": [
            [
             0,
             "#0d0887"
            ],
            [
             0.1111111111111111,
             "#46039f"
            ],
            [
             0.2222222222222222,
             "#7201a8"
            ],
            [
             0.3333333333333333,
             "#9c179e"
            ],
            [
             0.4444444444444444,
             "#bd3786"
            ],
            [
             0.5555555555555556,
             "#d8576b"
            ],
            [
             0.6666666666666666,
             "#ed7953"
            ],
            [
             0.7777777777777778,
             "#fb9f3a"
            ],
            [
             0.8888888888888888,
             "#fdca26"
            ],
            [
             1,
             "#f0f921"
            ]
           ],
           "sequentialminus": [
            [
             0,
             "#0d0887"
            ],
            [
             0.1111111111111111,
             "#46039f"
            ],
            [
             0.2222222222222222,
             "#7201a8"
            ],
            [
             0.3333333333333333,
             "#9c179e"
            ],
            [
             0.4444444444444444,
             "#bd3786"
            ],
            [
             0.5555555555555556,
             "#d8576b"
            ],
            [
             0.6666666666666666,
             "#ed7953"
            ],
            [
             0.7777777777777778,
             "#fb9f3a"
            ],
            [
             0.8888888888888888,
             "#fdca26"
            ],
            [
             1,
             "#f0f921"
            ]
           ]
          },
          "colorway": [
           "#636efa",
           "#EF553B",
           "#00cc96",
           "#ab63fa",
           "#FFA15A",
           "#19d3f3",
           "#FF6692",
           "#B6E880",
           "#FF97FF",
           "#FECB52"
          ],
          "font": {
           "color": "#2a3f5f"
          },
          "geo": {
           "bgcolor": "white",
           "lakecolor": "white",
           "landcolor": "#E5ECF6",
           "showlakes": true,
           "showland": true,
           "subunitcolor": "white"
          },
          "hoverlabel": {
           "align": "left"
          },
          "hovermode": "closest",
          "mapbox": {
           "style": "light"
          },
          "paper_bgcolor": "white",
          "plot_bgcolor": "#E5ECF6",
          "polar": {
           "angularaxis": {
            "gridcolor": "white",
            "linecolor": "white",
            "ticks": ""
           },
           "bgcolor": "#E5ECF6",
           "radialaxis": {
            "gridcolor": "white",
            "linecolor": "white",
            "ticks": ""
           }
          },
          "scene": {
           "xaxis": {
            "backgroundcolor": "#E5ECF6",
            "gridcolor": "white",
            "gridwidth": 2,
            "linecolor": "white",
            "showbackground": true,
            "ticks": "",
            "zerolinecolor": "white"
           },
           "yaxis": {
            "backgroundcolor": "#E5ECF6",
            "gridcolor": "white",
            "gridwidth": 2,
            "linecolor": "white",
            "showbackground": true,
            "ticks": "",
            "zerolinecolor": "white"
           },
           "zaxis": {
            "backgroundcolor": "#E5ECF6",
            "gridcolor": "white",
            "gridwidth": 2,
            "linecolor": "white",
            "showbackground": true,
            "ticks": "",
            "zerolinecolor": "white"
           }
          },
          "shapedefaults": {
           "line": {
            "color": "#2a3f5f"
           }
          },
          "ternary": {
           "aaxis": {
            "gridcolor": "white",
            "linecolor": "white",
            "ticks": ""
           },
           "baxis": {
            "gridcolor": "white",
            "linecolor": "white",
            "ticks": ""
           },
           "bgcolor": "#E5ECF6",
           "caxis": {
            "gridcolor": "white",
            "linecolor": "white",
            "ticks": ""
           }
          },
          "title": {
           "x": 0.05
          },
          "xaxis": {
           "automargin": true,
           "gridcolor": "white",
           "linecolor": "white",
           "ticks": "",
           "title": {
            "standoff": 15
           },
           "zerolinecolor": "white",
           "zerolinewidth": 2
          },
          "yaxis": {
           "automargin": true,
           "gridcolor": "white",
           "linecolor": "white",
           "ticks": "",
           "title": {
            "standoff": 15
           },
           "zerolinecolor": "white",
           "zerolinewidth": 2
          }
         }
        }
       }
      },
      "image/png": "[encoded data removed]",
      "text/html": [
       "<div>                            <div id=\"703d6efe-e015-438c-92c9-8cdf12d2c5b9\" class=\"plotly-graph-div\" style=\"height:525px; width:100%;\"></div>            <script type=\"text/javascript\">                require([\"plotly\"], function(Plotly) {                    window.PLOTLYENV=window.PLOTLYENV || {};                                    if (document.getElementById(\"703d6efe-e015-438c-92c9-8cdf12d2c5b9\")) {                    Plotly.newPlot(                        \"703d6efe-e015-438c-92c9-8cdf12d2c5b9\",                        [{\"customdata\": [[19551, 148, 0.76, \"Ain\"], [7019, 320, 4.56, \"Aisne\"], [4786, 80, 1.67, \"Allier\"], [2325, 24, 1.03, \"Alpes-de-Haute-Provence\"], [3007, 40, 1.33, \"Hautes-Alpes\"], [20854, 266, 1.28, \"Alpes_Maritimes\"], [7525, 154, 2.05, \"Ardeche\"], [4129, 72, 1.74, \"Ardennes\"], [2554, 9, 0.35, \"Ariege\"], [5061, 149, 2.94, \"Aube\"], [4900, 78, 1.59, \"Aude\"], [5180, 51, 0.98, \"Aveyron\"], [73151, 980, 1.34, \"Bouches-du-Rh\\u00f4ne\"], [10308, 118, 1.14, \"Calvados\"], [1565, 24, 1.53, \"Cantal\"], [2588, 20, 0.77, \"Charente\"], [3412, 67, 1.96, \"Charente-Maritime\"], [4146, 123, 2.97, \"Cher\"], [2219, 56, 2.52, \"Correze\"], [10641, 286, 2.69, \"C\\u00f4te-d'Or\"], [4462, 52, 1.17, \"C\\u00f4tes-D'Armor\"], [1367, 21, 1.54, \"Creuse\"], [4070, 18, 0.44, \"Dordogne\"], [9387, 152, 1.62, \"Doubs\"], [11339, 179, 1.58, \"Drome\"], [8657, 124, 1.43, \"Eure\"], [5796, 165, 2.85, \"Eure-et-Loire\"], [6681, 56, 0.84, \"Finist\\u00e8re\"], [2633, 57, 2.16, \"Corde-du-Sud\"], [2503, 22, 0.88, \"Haute-Corse\"], [17465, 157, 0.9, \"Gard\"], [35267, 160, 0.45, \"Haute-Garonne\"], [2558, 36, 1.41, \"Gers\"], [26508, 264, 1.0, \"Gironde\"], [27157, 260, 0.96, \"H\\u00e9rault\"], [16843, 133, 0.79, \"Ille-et-Vilaine\"], [2208, 84, 3.8, \"Indre\"], [9803, 120, 1.22, \"Indre-et-Loire\"], [41473, 328, 0.79, \"Is\\u00e8re\"], [5277, 80, 1.52, \"Jura\"], [5179, 28, 0.54, \"Landes\"], [3431, 81, 2.36, \"Loir-et-Cher\"], [33397, 431, 1.29, \"Loire\"], [7050, 35, 0.5, \"Haute-Loire\"], [20399, 218, 1.07, \"Loire-Atlantique\"], [13016, 127, 0.98, \"Loiret\"], [1334, 24, 1.8, \"Lot\"], [3755, 24, 0.64, \"Lot-et-Garonne\"], [1294, 15, 1.16, \"Loz\\u00e8re\"], [13072, 196, 1.5, \"Manne-et-Loire\"], [3817, 70, 1.83, \"Manche\"], [8882, 306, 3.45, \"Marne\"], [2205, 100, 4.54, \"Haute-Marne\"], [4791, 57, 1.19, \"Mayenne\"], [11613, 399, 3.44, \"Meurthe-et-Moselle\"], [1908, 114, 5.97, \"Meuse\"], [5751, 121, 2.1, \"Morbihan\"], [14468, 918, 6.35, \"Moselle\"], [2328, 33, 1.42, \"Ni\\u00e8vre\"], [95098, 1000, 1.05, \"Nord\"], [15988, 466, 2.91, \"Oise\"], [2871, 56, 1.95, \"Orne\"], [30986, 423, 1.37, \"Pas-de-Calais\"], [13429, 98, 0.73, \"Puy-de-D\\u00f4me\"], [12900, 69, 0.53, \"Pyr\\u00e9n\\u00e9es-Altantiques\"], [3826, 38, 0.99, \"Hautes-Pyr\\u00e9n\\u00e9es\"], [8109, 77, 0.95, \"Pyr\\u00e9n\\u00e9es-Orientales\"], [20747, 744, 3.59, \"Bas-Rhin\"], [9787, 855, 8.74, \"Haut-Rhin\"], [75517, 998, 1.32, \"Rhone\"], [2670, 90, 3.37, \"Haute-Sa\\u00f4ne\"], [12486, 286, 2.29, \"Sa\\u00f4ne-et-Loire\"], [7283, 110, 1.51, \"Sarthe\"], [12005, 149, 1.24, \"Savoie\"], [22075, 227, 1.03, \"Haute-Savoie\"], [86897, 2116, 2.44, \"Paris\"], [25256, 315, 1.25, \"Seine-Maritime\"], [30676, 830, 2.71, \"Seine-et-Marne\"], [35363, 657, 1.86, \"Yvellines\"], [3620, 35, 0.97, \"Deux-S\\u00e8vres\"], [7385, 273, 3.7, \"Somme\"], [7710, 49, 0.64, \"Tarn\"], [5106, 30, 0.59, \"Tarn-et-Garonne\"], [20715, 224, 1.08, \"Var\"], [13112, 143, 1.09, \"Vaucluse\"], [6287, 52, 0.83, \"Vend\\u00e9e\"], [5241, 56, 1.07, \"Vienne\"], [5444, 56, 1.03, \"Haute-Vienne\"], [4602, 279, 6.06, \"Vosges\"], [5118, 98, 1.91, \"Yonne\"], [1749, 214, 12.24, \"Territoire de Belfort\"], [34262, 730, 2.13, \"Essonne\"], [54110, 1271, 2.35, \"Hauts-de-Seine\"], [52292, 1211, 2.32, \"Seine-Saint_Denis\"], [44509, 1416, 3.18, \"Val-de-Marne\"], [39422, 885, 2.24, \"Val-d'Oise\"], [7778, 143, 1.84, \"Guadeloupe\"], [4265, 31, 0.73, \"Martinique\"], [9723, 66, 0.68, \"Guyane\"], [5942, 33, 0.56, \"La R\\u00e9union\"], [2819, 31, 1.1, \"Mayotte\"]], \"hovertemplate\": \"%{customdata[3]}<br>Confirmed: %{customdata[0]}<br>Deaths: %{customdata[1]}<br>Death Rate: %{customdata[2]}\", \"hovertext\": [\"Ain\", \"Aisne\", \"Allier\", \"Alpes-de-Haute-Provence\", \"Hautes-Alpes\", \"Alpes_Maritimes\", \"Ardeche\", \"Ardennes\", \"Ariege\", \"Aube\", \"Aude\", \"Aveyron\", \"Bouches-du-Rh\\u00f4ne\", \"Calvados\", \"Cantal\", \"Charente\", \"Charente-Maritime\", \"Cher\", \"Correze\", \"C\\u00f4te-d'Or\", \"C\\u00f4tes-D'Armor\", \"Creuse\", \"Dordogne\", \"Doubs\", \"Drome\", \"Eure\", \"Eure-et-Loire\", \"Finist\\u00e8re\", \"Corde-du-Sud\", \"Haute-Corse\", \"Gard\", \"Haute-Garonne\", \"Gers\", \"Gironde\", \"H\\u00e9rault\", \"Ille-et-Vilaine\", \"Indre\", \"Indre-et-Loire\", \"Is\\u00e8re\", \"Jura\", \"Landes\", \"Loir-et-Cher\", \"Loire\", \"Haute-Loire\", \"Loire-Atlantique\", \"Loiret\", \"Lot\", \"Lot-et-Garonne\", \"Loz\\u00e8re\", \"Manne-et-Loire\", \"Manche\", \"Marne\", \"Haute-Marne\", \"Mayenne\", \"Meurthe-et-Moselle\", \"Meuse\", \"Morbihan\", \"Moselle\", \"Ni\\u00e8vre\", \"Nord\", \"Oise\", \"Orne\", \"Pas-de-Calais\", \"Puy-de-D\\u00f4me\", \"Pyr\\u00e9n\\u00e9es-Altantiques\", \"Hautes-Pyr\\u00e9n\\u00e9es\", \"Pyr\\u00e9n\\u00e9es-Orientales\", \"Bas-Rhin\", \"Haut-Rhin\", \"Rhone\", \"Haute-Sa\\u00f4ne\", \"Sa\\u00f4ne-et-Loire\", \"Sarthe\", \"Savoie\", \"Haute-Savoie\", \"Paris\", \"Seine-Maritime\", \"Seine-et-Marne\", \"Yvellines\", \"Deux-S\\u00e8vres\", \"Somme\", \"Tarn\", \"Tarn-et-Garonne\", \"Var\", \"Vaucluse\", \"Vend\\u00e9e\", \"Vienne\", \"Haute-Vienne\", \"Vosges\", \"Yonne\", \"Territoire de Belfort\", \"Essonne\", \"Hauts-de-Seine\", \"Seine-Saint_Denis\", \"Val-de-Marne\", \"Val-d'Oise\", \"Guadeloupe\", \"Martinique\", \"Guyane\", \"La R\\u00e9union\", \"Mayotte\"], \"lat\": [46.1, 49.55, 44.1, 44.09, 44.66, 43.94, 44.73, 49.61, 42.94, 48.31, 43.1, 44.28, 43.54, 49.1, 45.01, 45.71, 45.76, 47.07, 45.34, 47.43, 48.44, 46.08, 45.13, 47.16, 44.68, 49.1, 48.39, 48.27, 41.88, 42.37, 43.99, 43.35, 43.68, 44.84, 43.9, 48.18, 46.8, 47.24, 45.27, 46.73, 43.96, 47.61, 45.72, 45.13, 47.38, 47.85, 44.63, 44.37, 44.51, 47.39, 49.08, 48.38, 48.09, 48.12, 48.79, 49.0, 47.85, 49.02, 47.1, 50.45, 49.39, 48.61, 50.49, 45.73, 43.28, 43.05, 42.61, 48.65, 47.86, 45.86, 47.63, 46.64, 48.0, 45.47, 46.04, 48.85, 49.65, 48.6, 48.97, 46.53, 49.97, 43.77, 44.07, 43.47, 43.99, 46.67, 46.55, 45.87, 48.19, 47.84, 47.62, 48.52, 48.83, 48.9, 48.77, 49.07, 16.0, 14.6, 4.93, -20.88, -12.77], \"legendgroup\": \"\", \"lon\": [5.33, 3.56, 2.35, 6.23, 6.21, 7.12, 4.41, 4.61, 1.53, 4.14, 2.35, 2.72, 5.03, -0.37, 2.66, 0.2, -0.71, 2.52, 1.81, 4.78, -2.85, 2.04, 0.7, 6.37, 5.15, 1.0, 1.36, -4.04, 8.97, 9.23, 4.17, 1.23, 0.45, -0.58, 4.47, -1.64, 1.62, 0.69, 5.61, 5.69, -0.8, 1.41, 4.16, 3.81, -1.71, 2.26, 1.59, 0.46, 3.49, -0.53, -1.34, 7.47, 5.15, -0.67, 6.16, 5.39, -2.83, 6.65, 3.51, 3.2, 2.42, 0.11, 2.27, 3.14, -0.75, 0.16, 2.51, 7.56, 7.27, 4.66, 6.07, 4.53, 0.19, 6.45, 6.44, 2.35, 1.04, 2.97, 1.97, -0.32, 2.29, 2.18, 1.28, 6.18, 5.14, -1.28, 0.5, 1.23, 6.37, 3.57, 6.92, 2.26, 2.24, 2.48, 2.45, 2.17, -61.73, -61.06, -52.32, 55.45, 45.22], \"marker\": {\"color\": [19551, 7019, 4786, 2325, 3007, 20854, 7525, 4129, 2554, 5061, 4900, 5180, 73151, 10308, 1565, 2588, 3412, 4146, 2219, 10641, 4462, 1367, 4070, 9387, 11339, 8657, 5796, 6681, 2633, 2503, 17465, 35267, 2558, 26508, 27157, 16843, 2208, 9803, 41473, 5277, 5179, 3431, 33397, 7050, 20399, 13016, 1334, 3755, 1294, 13072, 3817, 8882, 2205, 4791, 11613, 1908, 5751, 14468, 2328, 95098, 15988, 2871, 30986, 13429, 12900, 3826, 8109, 20747, 9787, 75517, 2670, 12486, 7283, 12005, 22075, 86897, 25256, 30676, 35363, 3620, 7385, 7710, 5106, 20715, 13112, 6287, 5241, 5444, 4602, 5118, 1749, 34262, 54110, 52292, 44509, 39422, 7778, 4265, 9723, 5942, 2819], \"coloraxis\": \"coloraxis\", \"size\": [2014.6523340281424, 915.4443247986592, 681.677523598011, 390.97201904368404, 476.60954936599455, 2117.267905272428, 965.8507208651662, 608.415906550421, 420.3006750717514, 711.6426688459129, 694.1462497087122, 724.4925350690139, 5564.800584576953, 1230.6775991087363, 288.25446506772744, 424.602443817322, 525.3115470986844, 610.3438309129978, 377.1734573317416, 1261.178275738665, 645.8590742989918, 259.7417463925654, 601.7106454728038, 1145.1058932496305, 1324.4103364594966, 1075.902487199941, 789.966819265488, 881.3084481443983, 430.27603853713777, 413.82321859324657, 1847.0124135002004, 3173.026934961359, 420.8074460475508, 2546.8317812758683, 2594.7109228365193, 1796.1515419544246, 375.73295075407736, 1183.9856317233555, 3594.8386123638497, 734.9166090655056, 724.384837841622, 527.5625428681835, 3042.669222952554, 918.5559614234646, 2081.6074619029164, 1472.813328507462, 254.9000899807657, 565.5221956752164, 248.99429281911026, 1477.6901219886481, 572.6985231311709, 1097.3705275033444, 375.3397991200384, 682.2258193132071, 1348.9852717138854, 335.7726708212501, 785.2399614288223, 1597.771039526286, 391.36041105216566, 6810.703363425814, 1725.5259201932088, 459.92345510595237, 2872.086051062288, 1508.667826744476, 1462.6960107490281, 573.7380111172065, 1023.0687550260457, 2108.8980553631154, 1182.497368670573, 5702.882730092187, 434.9242980938078, 1426.4152213093982, 941.843920207932, 1383.9132473530706, 2212.093850451482, 6353.802089315417, 2453.695791599162, 2849.935436200224, 3179.675552908793, 549.801093542354, 951.984516162036, 984.0833209692098, 716.5099472664023, 2106.3929957930027, 1481.1706039325393, 841.0105900076446, 731.0530661867365, 752.7607213004671, 661.4071615527671, 717.8062191614841, 314.0133797798593, 3103.171566401932, 4411.8800985447515, 4297.294765961336, 3795.8132237065956, 3457.154298670903, 990.7596541731654, 623.7889213911327, 1176.5387081056163, 805.2451885860822, 453.4957364863549], \"sizemode\": \"area\", \"sizeref\": 5.559757847694542}, \"mode\": \"markers\", \"name\": \"\", \"showlegend\": false, \"subplot\": \"mapbox\", \"type\": \"scattermapbox\"}],                        {\"coloraxis\": {\"colorbar\": {\"title\": {\"text\": \"nb_pos_cum\"}}, \"colorscale\": [[0.0, \"#fadc8f\"], [0.1, \"#f9d67a\"], [0.2, \"#f8d066\"], [0.3, \"#f8c952\"], [0.4, \"#f7c33d\"], [0.5, \"#f6bd29\"], [0.6, \"#f5b614\"], [0.7, \"#F4B000\"], [0.8, \"#eaa900\"], [0.9, \"#e0a200\"], [1.0, \"#dc9e00\"]]}, \"legend\": {\"itemsizing\": \"constant\", \"tracegroupgap\": 0}, \"mapbox\": {\"accesstoken\": \"pk.eyJ1IjoicG1lY2NoaWEiLCJhIjoiY2toNTVlajU4MDBtcTJycXBzNGlsOTByYyJ9.sfNsB0a0UzZxosdqWYhWyQ\", \"center\": {\"lat\": 46.4, \"lon\": 0.5}, \"domain\": {\"x\": [0.0, 1.0], \"y\": [0.0, 1.0]}, \"style\": \"dark\", \"zoom\": 3.5}, \"margin\": {\"t\": 60}, \"template\": {\"data\": {\"bar\": [{\"error_x\": {\"color\": \"#2a3f5f\"}, \"error_y\": {\"color\": \"#2a3f5f\"}, \"marker\": {\"line\": {\"color\": \"#E5ECF6\", \"width\": 0.5}}, \"type\": \"bar\"}], \"barpolar\": [{\"marker\": {\"line\": {\"color\": \"#E5ECF6\", \"width\": 0.5}}, \"type\": \"barpolar\"}], \"carpet\": [{\"aaxis\": {\"endlinecolor\": \"#2a3f5f\", \"gridcolor\": \"white\", \"linecolor\": \"white\", \"minorgridcolor\": \"white\", \"startlinecolor\": \"#2a3f5f\"}, \"baxis\": {\"endlinecolor\": \"#2a3f5f\", \"gridcolor\": \"white\", \"linecolor\": \"white\", \"minorgridcolor\": \"white\", \"startlinecolor\": \"#2a3f5f\"}, \"type\": \"carpet\"}], \"choropleth\": [{\"colorbar\": {\"outlinewidth\": 0, \"ticks\": \"\"}, \"type\": \"choropleth\"}], \"contour\": [{\"colorbar\": {\"outlinewidth\": 0, \"ticks\": \"\"}, \"colorscale\": [[0.0, \"#0d0887\"], [0.1111111111111111, \"#46039f\"], [0.2222222222222222, \"#7201a8\"], [0.3333333333333333, \"#9c179e\"], [0.4444444444444444, \"#bd3786\"], [0.5555555555555556, \"#d8576b\"], [0.6666666666666666, \"#ed7953\"], [0.7777777777777778, \"#fb9f3a\"], [0.8888888888888888, \"#fdca26\"], [1.0, \"#f0f921\"]], \"type\": \"contour\"}], \"contourcarpet\": [{\"colorbar\": {\"outlinewidth\": 0, \"ticks\": \"\"}, \"type\": \"contourcarpet\"}], \"heatmap\": [{\"colorbar\": {\"outlinewidth\": 0, \"ticks\": \"\"}, \"colorscale\": [[0.0, \"#0d0887\"], [0.1111111111111111, \"#46039f\"], [0.2222222222222222, \"#7201a8\"], [0.3333333333333333, \"#9c179e\"], [0.4444444444444444, \"#bd3786\"], [0.5555555555555556, \"#d8576b\"], [0.6666666666666666, \"#ed7953\"], [0.7777777777777778, \"#fb9f3a\"], [0.8888888888888888, \"#fdca26\"], [1.0, \"#f0f921\"]], \"type\": \"heatmap\"}], \"heatmapgl\": [{\"colorbar\": {\"outlinewidth\": 0, \"ticks\": \"\"}, \"colorscale\": [[0.0, \"#0d0887\"], [0.1111111111111111, \"#46039f\"], [0.2222222222222222, \"#7201a8\"], [0.3333333333333333, \"#9c179e\"], [0.4444444444444444, \"#bd3786\"], [0.5555555555555556, \"#d8576b\"], [0.6666666666666666, \"#ed7953\"], [0.7777777777777778, \"#fb9f3a\"], [0.8888888888888888, \"#fdca26\"], [1.0, \"#f0f921\"]], \"type\": \"heatmapgl\"}], \"histogram\": [{\"marker\": {\"colorbar\": {\"outlinewidth\": 0, \"ticks\": \"\"}}, \"type\": \"histogram\"}], \"histogram2d\": [{\"colorbar\": {\"outlinewidth\": 0, \"ticks\": \"\"}, \"colorscale\": [[0.0, \"#0d0887\"], [0.1111111111111111, \"#46039f\"], [0.2222222222222222, \"#7201a8\"], [0.3333333333333333, \"#9c179e\"], [0.4444444444444444, \"#bd3786\"], [0.5555555555555556, \"#d8576b\"], [0.6666666666666666, \"#ed7953\"], [0.7777777777777778, \"#fb9f3a\"], [0.8888888888888888, \"#fdca26\"], [1.0, \"#f0f921\"]], \"type\": \"histogram2d\"}], \"histogram2dcontour\": [{\"colorbar\": {\"outlinewidth\": 0, \"ticks\": \"\"}, \"colorscale\": [[0.0, \"#0d0887\"], [0.1111111111111111, \"#46039f\"], [0.2222222222222222, \"#7201a8\"], [0.3333333333333333, \"#9c179e\"], [0.4444444444444444, \"#bd3786\"], [0.5555555555555556, \"#d8576b\"], [0.6666666666666666, \"#ed7953\"], [0.7777777777777778, \"#fb9f3a\"], [0.8888888888888888, \"#fdca26\"], [1.0, \"#f0f921\"]], \"type\": \"histogram2dcontour\"}], \"mesh3d\": [{\"colorbar\": {\"outlinewidth\": 0, \"ticks\": \"\"}, \"type\": \"mesh3d\"}], \"parcoords\": [{\"line\": {\"colorbar\": {\"outlinewidth\": 0, \"ticks\": \"\"}}, \"type\": \"parcoords\"}], \"pie\": [{\"automargin\": true, \"type\": \"pie\"}], \"scatter\": [{\"marker\": {\"colorbar\": {\"outlinewidth\": 0, \"ticks\": \"\"}}, \"type\": \"scatter\"}], \"scatter3d\": [{\"line\": {\"colorbar\": {\"outlinewidth\": 0, \"ticks\": \"\"}}, \"marker\": {\"colorbar\": {\"outlinewidth\": 0, \"ticks\": \"\"}}, \"type\": \"scatter3d\"}], \"scattercarpet\": [{\"marker\": {\"colorbar\": {\"outlinewidth\": 0, \"ticks\": \"\"}}, \"type\": \"scattercarpet\"}], \"scattergeo\": [{\"marker\": {\"colorbar\": {\"outlinewidth\": 0, \"ticks\": \"\"}}, \"type\": \"scattergeo\"}], \"scattergl\": [{\"marker\": {\"colorbar\": {\"outlinewidth\": 0, \"ticks\": \"\"}}, \"type\": \"scattergl\"}], \"scattermapbox\": [{\"marker\": {\"colorbar\": {\"outlinewidth\": 0, \"ticks\": \"\"}}, \"type\": \"scattermapbox\"}], \"scatterpolar\": [{\"marker\": {\"colorbar\": {\"outlinewidth\": 0, \"ticks\": \"\"}}, \"type\": \"scatterpolar\"}], \"scatterpolargl\": [{\"marker\": {\"colorbar\": {\"outlinewidth\": 0, \"ticks\": \"\"}}, \"type\": \"scatterpolargl\"}], \"scatterternary\": [{\"marker\": {\"colorbar\": {\"outlinewidth\": 0, \"ticks\": \"\"}}, \"type\": \"scatterternary\"}], \"surface\": [{\"colorbar\": {\"outlinewidth\": 0, \"ticks\": \"\"}, \"colorscale\": [[0.0, \"#0d0887\"], [0.1111111111111111, \"#46039f\"], [0.2222222222222222, \"#7201a8\"], [0.3333333333333333, \"#9c179e\"], [0.4444444444444444, \"#bd3786\"], [0.5555555555555556, \"#d8576b\"], [0.6666666666666666, \"#ed7953\"], [0.7777777777777778, \"#fb9f3a\"], [0.8888888888888888, \"#fdca26\"], [1.0, \"#f0f921\"]], \"type\": \"surface\"}], \"table\": [{\"cells\": {\"fill\": {\"color\": \"#EBF0F8\"}, \"line\": {\"color\": \"white\"}}, \"header\": {\"fill\": {\"color\": \"#C8D4E3\"}, \"line\": {\"color\": \"white\"}}, \"type\": \"table\"}]}, \"layout\": {\"annotationdefaults\": {\"arrowcolor\": \"#2a3f5f\", \"arrowhead\": 0, \"arrowwidth\": 1}, \"coloraxis\": {\"colorbar\": {\"outlinewidth\": 0, \"ticks\": \"\"}}, \"colorscale\": {\"diverging\": [[0, \"#8e0152\"], [0.1, \"#c51b7d\"], [0.2, \"#de77ae\"], [0.3, \"#f1b6da\"], [0.4, \"#fde0ef\"], [0.5, \"#f7f7f7\"], [0.6, \"#e6f5d0\"], [0.7, \"#b8e186\"], [0.8, \"#7fbc41\"], [0.9, \"#4d9221\"], [1, \"#276419\"]], \"sequential\": [[0.0, \"#0d0887\"], [0.1111111111111111, \"#46039f\"], [0.2222222222222222, \"#7201a8\"], [0.3333333333333333, \"#9c179e\"], [0.4444444444444444, \"#bd3786\"], [0.5555555555555556, \"#d8576b\"], [0.6666666666666666, \"#ed7953\"], [0.7777777777777778, \"#fb9f3a\"], [0.8888888888888888, \"#fdca26\"], [1.0, \"#f0f921\"]], \"sequentialminus\": [[0.0, \"#0d0887\"], [0.1111111111111111, \"#46039f\"], [0.2222222222222222, \"#7201a8\"], [0.3333333333333333, \"#9c179e\"], [0.4444444444444444, \"#bd3786\"], [0.5555555555555556, \"#d8576b\"], [0.6666666666666666, \"#ed7953\"], [0.7777777777777778, \"#fb9f3a\"], [0.8888888888888888, \"#fdca26\"], [1.0, \"#f0f921\"]]}, \"colorway\": [\"#636efa\", \"#EF553B\", \"#00cc96\", \"#ab63fa\", \"#FFA15A\", \"#19d3f3\", \"#FF6692\", \"#B6E880\", \"#FF97FF\", \"#FECB52\"], \"font\": {\"color\": \"#2a3f5f\"}, \"geo\": {\"bgcolor\": \"white\", \"lakecolor\": \"white\", \"landcolor\": \"#E5ECF6\", \"showlakes\": true, \"showland\": true, \"subunitcolor\": \"white\"}, \"hoverlabel\": {\"align\": \"left\"}, \"hovermode\": \"closest\", \"mapbox\": {\"style\": \"light\"}, \"paper_bgcolor\": \"white\", \"plot_bgcolor\": \"#E5ECF6\", \"polar\": {\"angularaxis\": {\"gridcolor\": \"white\", \"linecolor\": \"white\", \"ticks\": \"\"}, \"bgcolor\": \"#E5ECF6\", \"radialaxis\": {\"gridcolor\": \"white\", \"linecolor\": \"white\", \"ticks\": \"\"}}, \"scene\": {\"xaxis\": {\"backgroundcolor\": \"#E5ECF6\", \"gridcolor\": \"white\", \"gridwidth\": 2, \"linecolor\": \"white\", \"showbackground\": true, \"ticks\": \"\", \"zerolinecolor\": \"white\"}, \"yaxis\": {\"backgroundcolor\": \"#E5ECF6\", \"gridcolor\": \"white\", \"gridwidth\": 2, \"linecolor\": \"white\", \"showbackground\": true, \"ticks\": \"\", \"zerolinecolor\": \"white\"}, \"zaxis\": {\"backgroundcolor\": \"#E5ECF6\", \"gridcolor\": \"white\", \"gridwidth\": 2, \"linecolor\": \"white\", \"showbackground\": true, \"ticks\": \"\", \"zerolinecolor\": \"white\"}}, \"shapedefaults\": {\"line\": {\"color\": \"#2a3f5f\"}}, \"ternary\": {\"aaxis\": {\"gridcolor\": \"white\", \"linecolor\": \"white\", \"ticks\": \"\"}, \"baxis\": {\"gridcolor\": \"white\", \"linecolor\": \"white\", \"ticks\": \"\"}, \"bgcolor\": \"#E5ECF6\", \"caxis\": {\"gridcolor\": \"white\", \"linecolor\": \"white\", \"ticks\": \"\"}}, \"title\": {\"x\": 0.05}, \"xaxis\": {\"automargin\": true, \"gridcolor\": \"white\", \"linecolor\": \"white\", \"ticks\": \"\", \"title\": {\"standoff\": 15}, \"zerolinecolor\": \"white\", \"zerolinewidth\": 2}, \"yaxis\": {\"automargin\": true, \"gridcolor\": \"white\", \"linecolor\": \"white\", \"ticks\": \"\", \"title\": {\"standoff\": 15}, \"zerolinecolor\": \"white\", \"zerolinewidth\": 2}}}},                        {\"responsive\": true}                    ).then(function(){\n",
       "                            \n",
       "var gd = document.getElementById('703d6efe-e015-438c-92c9-8cdf12d2c5b9');\n",
       "var x = new MutationObserver(function (mutations, observer) {{\n",
       "        var display = window.getComputedStyle(gd).display;\n",
       "        if (!display || display === 'none') {{\n",
       "            console.log([gd, 'removed!']);\n",
       "            Plotly.purge(gd);\n",
       "            observer.disconnect();\n",
       "        }}\n",
       "}});\n",
       "\n",
       "// Listen for the removal of the full notebook cells\n",
       "var notebookContainer = gd.closest('#notebook-container');\n",
       "if (notebookContainer) {{\n",
       "    x.observe(notebookContainer, {childList: true});\n",
       "}}\n",
       "\n",
       "// Listen for the clearing of the current output cell\n",
       "var outputEl = gd.closest('.output');\n",
       "if (outputEl) {{\n",
       "    x.observe(outputEl, {childList: true});\n",
       "}}\n",
       "\n",
       "                        })                };                });            </script>        </div>"
      ]
     },
     "metadata": {},
     "output_type": "display_data"
    }
   ],
   "source": [
    "plot_map()"
   ]
  },
  {
   "cell_type": "markdown",
   "metadata": {},
   "source": [
    "### **Graph**"
   ]
  },
  {
   "cell_type": "markdown",
   "metadata": {},
   "source": [
    "1. **Confirmed Cases**"
   ]
  },
  {
   "cell_type": "code",
   "execution_count": 881,
   "metadata": {},
   "outputs": [],
   "source": [
    "last_days=30\n",
    "select_df=\"departments\"\n",
    "dep_number = \"75\""
   ]
  },
  {
   "cell_type": "code",
   "execution_count": 888,
   "metadata": {},
   "outputs": [],
   "source": [
    "#z=df_dep[df_dep[\"dep\"]==dep_number]\n",
    "#z.tail()"
   ]
  },
  {
   "cell_type": "code",
   "execution_count": 885,
   "metadata": {},
   "outputs": [],
   "source": [
    "all_df={\"departments\":df_dep[df_dep[\"dep\"]==dep_number],\"country\":df_france}"
   ]
  },
  {
   "cell_type": "code",
   "execution_count": 886,
   "metadata": {},
   "outputs": [],
   "source": [
    "def confirmed_cases(selected_df,last_days_nb):    \n",
    "    fig_confirmed = go.Figure()\n",
    "    fig_confirmed.add_trace(\n",
    "        go.Scatter(\n",
    "            x=selected_df['jour'].tail(last_days_nb),\n",
    "            y=selected_df['nb_pos_cum'].tail(last_days_nb),\n",
    "            mode=\"lines\",\n",
    "            line={\"color\":\"#f9d67a\"},\n",
    "            showlegend=False,\n",
    "            #name=\"Total Confirmed Cases\"\n",
    "        )\n",
    "    )\n",
    "    fig_confirmed.add_trace(\n",
    "        go.Bar(\n",
    "            x=selected_df['jour'].tail(last_days_nb),\n",
    "            y=selected_df['nb_pos'].tail(last_days_nb),\n",
    "            marker={\"color\":\"#f9d67a\"},\n",
    "            showlegend=False,\n",
    "            #name=\"New Confirmed Cases\",\n",
    "\n",
    "        )\n",
    "    )\n",
    "\n",
    "\n",
    "    # LINE CHART ANNOTATION\n",
    "    fig_confirmed.add_annotation(\n",
    "         x=selected_df['jour'].tail(1).tolist()[0],\n",
    "         y=selected_df['nb_pos_cum'].tail(1).tolist()[0],\n",
    "         text=\"Total Confirmed Cases\",\n",
    "         font={\"size\": 14,\"color\":\"#ffffff\"},\n",
    "         xshift=-220,  # Annotation x displacement!\n",
    "         showarrow=False,\n",
    "    )\n",
    "\n",
    "    # BAR CHART ANNOTATION\n",
    "    fig_confirmed.add_annotation(\n",
    "        x=selected_df['jour'].tail(1).tolist()[0],\n",
    "        y=selected_df['nb_pos'].tail(1).max(),\n",
    "        text=\"New Confirmed Cases\",\n",
    "        font={\"size\": 14, \"color\":\"#ffffff\"},\n",
    "        xshift=-60,  # Annotation x displacement!\n",
    "        yshift=20,  # Annotation y displacement!\n",
    "        showarrow=False,\n",
    "        )\n",
    "    fig_confirmed.update_layout(\n",
    "        template=\"plotly_dark\",\n",
    "        xaxis={\"title\":\"Dates\"},\n",
    "        yaxis={\"title\":\"Number of cases\"},\n",
    "        autosize=True,\n",
    "    )\n",
    "    fig_confirmed.show()"
   ]
  },
  {
   "cell_type": "code",
   "execution_count": 887,
   "metadata": {},
   "outputs": [
    {
     "data": {
      "application/vnd.plotly.v1+json": {
       "config": {
        "plotlyServerURL": "https://plot.ly"
       },
       "data": [
        {
         "line": {
          "color": "#f9d67a"
         },
         "mode": "lines",
         "showlegend": false,
         "type": "scatter",
         "x": [
          "2020-10-04",
          "2020-10-05",
          "2020-10-06",
          "2020-10-07",
          "2020-10-08",
          "2020-10-09",
          "2020-10-10",
          "2020-10-11",
          "2020-10-12",
          "2020-10-13",
          "2020-10-14",
          "2020-10-15",
          "2020-10-16",
          "2020-10-17",
          "2020-10-18",
          "2020-10-19",
          "2020-10-20",
          "2020-10-21",
          "2020-10-22",
          "2020-10-23",
          "2020-10-24",
          "2020-10-25",
          "2020-10-26",
          "2020-10-27",
          "2020-10-28",
          "2020-10-29",
          "2020-10-30",
          "2020-10-31",
          "2020-11-01",
          "2020-11-02"
         ],
         "y": [
          41618,
          43408,
          45019,
          46631,
          48343,
          49972,
          50710,
          51004,
          53002,
          54741,
          56389,
          58094,
          59860,
          60704,
          60993,
          63201,
          65400,
          67654,
          69963,
          72227,
          73347,
          73691,
          76444,
          78740,
          80702,
          82475,
          84242,
          85087,
          85342,
          86897
         ]
        },
        {
         "marker": {
          "color": "#f9d67a"
         },
         "showlegend": false,
         "type": "bar",
         "x": [
          "2020-10-04",
          "2020-10-05",
          "2020-10-06",
          "2020-10-07",
          "2020-10-08",
          "2020-10-09",
          "2020-10-10",
          "2020-10-11",
          "2020-10-12",
          "2020-10-13",
          "2020-10-14",
          "2020-10-15",
          "2020-10-16",
          "2020-10-17",
          "2020-10-18",
          "2020-10-19",
          "2020-10-20",
          "2020-10-21",
          "2020-10-22",
          "2020-10-23",
          "2020-10-24",
          "2020-10-25",
          "2020-10-26",
          "2020-10-27",
          "2020-10-28",
          "2020-10-29",
          "2020-10-30",
          "2020-10-31",
          "2020-11-01",
          "2020-11-02"
         ],
         "y": [
          236,
          1790,
          1611,
          1612,
          1712,
          1629,
          738,
          294,
          1998,
          1739,
          1648,
          1705,
          1766,
          844,
          289,
          2208,
          2199,
          2254,
          2309,
          2264,
          1120,
          344,
          2753,
          2296,
          1962,
          1773,
          1767,
          845,
          255,
          1555
         ]
        }
       ],
       "layout": {
        "annotations": [
         {
          "font": {
           "color": "#ffffff",
           "size": 14
          },
          "showarrow": false,
          "text": "Total Confirmed Cases",
          "x": "2020-11-02",
          "xshift": -220,
          "y": 86897
         },
         {
          "font": {
           "color": "#ffffff",
           "size": 14
          },
          "showarrow": false,
          "text": "New Confirmed Cases",
          "x": "2020-11-02",
          "xshift": -60,
          "y": 1555,
          "yshift": 20
         }
        ],
        "autosize": true,
        "template": {
         "data": {
          "bar": [
           {
            "error_x": {
             "color": "#f2f5fa"
            },
            "error_y": {
             "color": "#f2f5fa"
            },
            "marker": {
             "line": {
              "color": "rgb(17,17,17)",
              "width": 0.5
             }
            },
            "type": "bar"
           }
          ],
          "barpolar": [
           {
            "marker": {
             "line": {
              "color": "rgb(17,17,17)",
              "width": 0.5
             }
            },
            "type": "barpolar"
           }
          ],
          "carpet": [
           {
            "aaxis": {
             "endlinecolor": "#A2B1C6",
             "gridcolor": "#506784",
             "linecolor": "#506784",
             "minorgridcolor": "#506784",
             "startlinecolor": "#A2B1C6"
            },
            "baxis": {
             "endlinecolor": "#A2B1C6",
             "gridcolor": "#506784",
             "linecolor": "#506784",
             "minorgridcolor": "#506784",
             "startlinecolor": "#A2B1C6"
            },
            "type": "carpet"
           }
          ],
          "choropleth": [
           {
            "colorbar": {
             "outlinewidth": 0,
             "ticks": ""
            },
            "type": "choropleth"
           }
          ],
          "contour": [
           {
            "colorbar": {
             "outlinewidth": 0,
             "ticks": ""
            },
            "colorscale": [
             [
              0,
              "#0d0887"
             ],
             [
              0.1111111111111111,
              "#46039f"
             ],
             [
              0.2222222222222222,
              "#7201a8"
             ],
             [
              0.3333333333333333,
              "#9c179e"
             ],
             [
              0.4444444444444444,
              "#bd3786"
             ],
             [
              0.5555555555555556,
              "#d8576b"
             ],
             [
              0.6666666666666666,
              "#ed7953"
             ],
             [
              0.7777777777777778,
              "#fb9f3a"
             ],
             [
              0.8888888888888888,
              "#fdca26"
             ],
             [
              1,
              "#f0f921"
             ]
            ],
            "type": "contour"
           }
          ],
          "contourcarpet": [
           {
            "colorbar": {
             "outlinewidth": 0,
             "ticks": ""
            },
            "type": "contourcarpet"
           }
          ],
          "heatmap": [
           {
            "colorbar": {
             "outlinewidth": 0,
             "ticks": ""
            },
            "colorscale": [
             [
              0,
              "#0d0887"
             ],
             [
              0.1111111111111111,
              "#46039f"
             ],
             [
              0.2222222222222222,
              "#7201a8"
             ],
             [
              0.3333333333333333,
              "#9c179e"
             ],
             [
              0.4444444444444444,
              "#bd3786"
             ],
             [
              0.5555555555555556,
              "#d8576b"
             ],
             [
              0.6666666666666666,
              "#ed7953"
             ],
             [
              0.7777777777777778,
              "#fb9f3a"
             ],
             [
              0.8888888888888888,
              "#fdca26"
             ],
             [
              1,
              "#f0f921"
             ]
            ],
            "type": "heatmap"
           }
          ],
          "heatmapgl": [
           {
            "colorbar": {
             "outlinewidth": 0,
             "ticks": ""
            },
            "colorscale": [
             [
              0,
              "#0d0887"
             ],
             [
              0.1111111111111111,
              "#46039f"
             ],
             [
              0.2222222222222222,
              "#7201a8"
             ],
             [
              0.3333333333333333,
              "#9c179e"
             ],
             [
              0.4444444444444444,
              "#bd3786"
             ],
             [
              0.5555555555555556,
              "#d8576b"
             ],
             [
              0.6666666666666666,
              "#ed7953"
             ],
             [
              0.7777777777777778,
              "#fb9f3a"
             ],
             [
              0.8888888888888888,
              "#fdca26"
             ],
             [
              1,
              "#f0f921"
             ]
            ],
            "type": "heatmapgl"
           }
          ],
          "histogram": [
           {
            "marker": {
             "colorbar": {
              "outlinewidth": 0,
              "ticks": ""
             }
            },
            "type": "histogram"
           }
          ],
          "histogram2d": [
           {
            "colorbar": {
             "outlinewidth": 0,
             "ticks": ""
            },
            "colorscale": [
             [
              0,
              "#0d0887"
             ],
             [
              0.1111111111111111,
              "#46039f"
             ],
             [
              0.2222222222222222,
              "#7201a8"
             ],
             [
              0.3333333333333333,
              "#9c179e"
             ],
             [
              0.4444444444444444,
              "#bd3786"
             ],
             [
              0.5555555555555556,
              "#d8576b"
             ],
             [
              0.6666666666666666,
              "#ed7953"
             ],
             [
              0.7777777777777778,
              "#fb9f3a"
             ],
             [
              0.8888888888888888,
              "#fdca26"
             ],
             [
              1,
              "#f0f921"
             ]
            ],
            "type": "histogram2d"
           }
          ],
          "histogram2dcontour": [
           {
            "colorbar": {
             "outlinewidth": 0,
             "ticks": ""
            },
            "colorscale": [
             [
              0,
              "#0d0887"
             ],
             [
              0.1111111111111111,
              "#46039f"
             ],
             [
              0.2222222222222222,
              "#7201a8"
             ],
             [
              0.3333333333333333,
              "#9c179e"
             ],
             [
              0.4444444444444444,
              "#bd3786"
             ],
             [
              0.5555555555555556,
              "#d8576b"
             ],
             [
              0.6666666666666666,
              "#ed7953"
             ],
             [
              0.7777777777777778,
              "#fb9f3a"
             ],
             [
              0.8888888888888888,
              "#fdca26"
             ],
             [
              1,
              "#f0f921"
             ]
            ],
            "type": "histogram2dcontour"
           }
          ],
          "mesh3d": [
           {
            "colorbar": {
             "outlinewidth": 0,
             "ticks": ""
            },
            "type": "mesh3d"
           }
          ],
          "parcoords": [
           {
            "line": {
             "colorbar": {
              "outlinewidth": 0,
              "ticks": ""
             }
            },
            "type": "parcoords"
           }
          ],
          "pie": [
           {
            "automargin": true,
            "type": "pie"
           }
          ],
          "scatter": [
           {
            "marker": {
             "line": {
              "color": "#283442"
             }
            },
            "type": "scatter"
           }
          ],
          "scatter3d": [
           {
            "line": {
             "colorbar": {
              "outlinewidth": 0,
              "ticks": ""
             }
            },
            "marker": {
             "colorbar": {
              "outlinewidth": 0,
              "ticks": ""
             }
            },
            "type": "scatter3d"
           }
          ],
          "scattercarpet": [
           {
            "marker": {
             "colorbar": {
              "outlinewidth": 0,
              "ticks": ""
             }
            },
            "type": "scattercarpet"
           }
          ],
          "scattergeo": [
           {
            "marker": {
             "colorbar": {
              "outlinewidth": 0,
              "ticks": ""
             }
            },
            "type": "scattergeo"
           }
          ],
          "scattergl": [
           {
            "marker": {
             "line": {
              "color": "#283442"
             }
            },
            "type": "scattergl"
           }
          ],
          "scattermapbox": [
           {
            "marker": {
             "colorbar": {
              "outlinewidth": 0,
              "ticks": ""
             }
            },
            "type": "scattermapbox"
           }
          ],
          "scatterpolar": [
           {
            "marker": {
             "colorbar": {
              "outlinewidth": 0,
              "ticks": ""
             }
            },
            "type": "scatterpolar"
           }
          ],
          "scatterpolargl": [
           {
            "marker": {
             "colorbar": {
              "outlinewidth": 0,
              "ticks": ""
             }
            },
            "type": "scatterpolargl"
           }
          ],
          "scatterternary": [
           {
            "marker": {
             "colorbar": {
              "outlinewidth": 0,
              "ticks": ""
             }
            },
            "type": "scatterternary"
           }
          ],
          "surface": [
           {
            "colorbar": {
             "outlinewidth": 0,
             "ticks": ""
            },
            "colorscale": [
             [
              0,
              "#0d0887"
             ],
             [
              0.1111111111111111,
              "#46039f"
             ],
             [
              0.2222222222222222,
              "#7201a8"
             ],
             [
              0.3333333333333333,
              "#9c179e"
             ],
             [
              0.4444444444444444,
              "#bd3786"
             ],
             [
              0.5555555555555556,
              "#d8576b"
             ],
             [
              0.6666666666666666,
              "#ed7953"
             ],
             [
              0.7777777777777778,
              "#fb9f3a"
             ],
             [
              0.8888888888888888,
              "#fdca26"
             ],
             [
              1,
              "#f0f921"
             ]
            ],
            "type": "surface"
           }
          ],
          "table": [
           {
            "cells": {
             "fill": {
              "color": "#506784"
             },
             "line": {
              "color": "rgb(17,17,17)"
             }
            },
            "header": {
             "fill": {
              "color": "#2a3f5f"
             },
             "line": {
              "color": "rgb(17,17,17)"
             }
            },
            "type": "table"
           }
          ]
         },
         "layout": {
          "annotationdefaults": {
           "arrowcolor": "#f2f5fa",
           "arrowhead": 0,
           "arrowwidth": 1
          },
          "coloraxis": {
           "colorbar": {
            "outlinewidth": 0,
            "ticks": ""
           }
          },
          "colorscale": {
           "diverging": [
            [
             0,
             "#8e0152"
            ],
            [
             0.1,
             "#c51b7d"
            ],
            [
             0.2,
             "#de77ae"
            ],
            [
             0.3,
             "#f1b6da"
            ],
            [
             0.4,
             "#fde0ef"
            ],
            [
             0.5,
             "#f7f7f7"
            ],
            [
             0.6,
             "#e6f5d0"
            ],
            [
             0.7,
             "#b8e186"
            ],
            [
             0.8,
             "#7fbc41"
            ],
            [
             0.9,
             "#4d9221"
            ],
            [
             1,
             "#276419"
            ]
           ],
           "sequential": [
            [
             0,
             "#0d0887"
            ],
            [
             0.1111111111111111,
             "#46039f"
            ],
            [
             0.2222222222222222,
             "#7201a8"
            ],
            [
             0.3333333333333333,
             "#9c179e"
            ],
            [
             0.4444444444444444,
             "#bd3786"
            ],
            [
             0.5555555555555556,
             "#d8576b"
            ],
            [
             0.6666666666666666,
             "#ed7953"
            ],
            [
             0.7777777777777778,
             "#fb9f3a"
            ],
            [
             0.8888888888888888,
             "#fdca26"
            ],
            [
             1,
             "#f0f921"
            ]
           ],
           "sequentialminus": [
            [
             0,
             "#0d0887"
            ],
            [
             0.1111111111111111,
             "#46039f"
            ],
            [
             0.2222222222222222,
             "#7201a8"
            ],
            [
             0.3333333333333333,
             "#9c179e"
            ],
            [
             0.4444444444444444,
             "#bd3786"
            ],
            [
             0.5555555555555556,
             "#d8576b"
            ],
            [
             0.6666666666666666,
             "#ed7953"
            ],
            [
             0.7777777777777778,
             "#fb9f3a"
            ],
            [
             0.8888888888888888,
             "#fdca26"
            ],
            [
             1,
             "#f0f921"
            ]
           ]
          },
          "colorway": [
           "#636efa",
           "#EF553B",
           "#00cc96",
           "#ab63fa",
           "#FFA15A",
           "#19d3f3",
           "#FF6692",
           "#B6E880",
           "#FF97FF",
           "#FECB52"
          ],
          "font": {
           "color": "#f2f5fa"
          },
          "geo": {
           "bgcolor": "rgb(17,17,17)",
           "lakecolor": "rgb(17,17,17)",
           "landcolor": "rgb(17,17,17)",
           "showlakes": true,
           "showland": true,
           "subunitcolor": "#506784"
          },
          "hoverlabel": {
           "align": "left"
          },
          "hovermode": "closest",
          "mapbox": {
           "style": "dark"
          },
          "paper_bgcolor": "rgb(17,17,17)",
          "plot_bgcolor": "rgb(17,17,17)",
          "polar": {
           "angularaxis": {
            "gridcolor": "#506784",
            "linecolor": "#506784",
            "ticks": ""
           },
           "bgcolor": "rgb(17,17,17)",
           "radialaxis": {
            "gridcolor": "#506784",
            "linecolor": "#506784",
            "ticks": ""
           }
          },
          "scene": {
           "xaxis": {
            "backgroundcolor": "rgb(17,17,17)",
            "gridcolor": "#506784",
            "gridwidth": 2,
            "linecolor": "#506784",
            "showbackground": true,
            "ticks": "",
            "zerolinecolor": "#C8D4E3"
           },
           "yaxis": {
            "backgroundcolor": "rgb(17,17,17)",
            "gridcolor": "#506784",
            "gridwidth": 2,
            "linecolor": "#506784",
            "showbackground": true,
            "ticks": "",
            "zerolinecolor": "#C8D4E3"
           },
           "zaxis": {
            "backgroundcolor": "rgb(17,17,17)",
            "gridcolor": "#506784",
            "gridwidth": 2,
            "linecolor": "#506784",
            "showbackground": true,
            "ticks": "",
            "zerolinecolor": "#C8D4E3"
           }
          },
          "shapedefaults": {
           "line": {
            "color": "#f2f5fa"
           }
          },
          "sliderdefaults": {
           "bgcolor": "#C8D4E3",
           "bordercolor": "rgb(17,17,17)",
           "borderwidth": 1,
           "tickwidth": 0
          },
          "ternary": {
           "aaxis": {
            "gridcolor": "#506784",
            "linecolor": "#506784",
            "ticks": ""
           },
           "baxis": {
            "gridcolor": "#506784",
            "linecolor": "#506784",
            "ticks": ""
           },
           "bgcolor": "rgb(17,17,17)",
           "caxis": {
            "gridcolor": "#506784",
            "linecolor": "#506784",
            "ticks": ""
           }
          },
          "title": {
           "x": 0.05
          },
          "updatemenudefaults": {
           "bgcolor": "#506784",
           "borderwidth": 0
          },
          "xaxis": {
           "automargin": true,
           "gridcolor": "#283442",
           "linecolor": "#506784",
           "ticks": "",
           "title": {
            "standoff": 15
           },
           "zerolinecolor": "#283442",
           "zerolinewidth": 2
          },
          "yaxis": {
           "automargin": true,
           "gridcolor": "#283442",
           "linecolor": "#506784",
           "ticks": "",
           "title": {
            "standoff": 15
           },
           "zerolinecolor": "#283442",
           "zerolinewidth": 2
          }
         }
        },
        "xaxis": {
         "autorange": true,
         "range": [
          "2020-10-03 12:00",
          "2020-11-02 16:52:41.857"
         ],
         "title": {
          "text": "Dates"
         },
         "type": "date"
        },
        "yaxis": {
         "autorange": true,
         "range": [
          0,
          91470.52631578948
         ],
         "title": {
          "text": "Number of cases"
         },
         "type": "linear"
        }
       }
      },
      "image/png": "[encoded data removed]",
      "text/html": [
       "<div>                            <div id=\"886ed3f4-c5a3-41ba-8245-25e25ae7886d\" class=\"plotly-graph-div\" style=\"height:525px; width:100%;\"></div>            <script type=\"text/javascript\">                require([\"plotly\"], function(Plotly) {                    window.PLOTLYENV=window.PLOTLYENV || {};                                    if (document.getElementById(\"886ed3f4-c5a3-41ba-8245-25e25ae7886d\")) {                    Plotly.newPlot(                        \"886ed3f4-c5a3-41ba-8245-25e25ae7886d\",                        [{\"line\": {\"color\": \"#f9d67a\"}, \"mode\": \"lines\", \"showlegend\": false, \"type\": \"scatter\", \"x\": [\"2020-10-04\", \"2020-10-05\", \"2020-10-06\", \"2020-10-07\", \"2020-10-08\", \"2020-10-09\", \"2020-10-10\", \"2020-10-11\", \"2020-10-12\", \"2020-10-13\", \"2020-10-14\", \"2020-10-15\", \"2020-10-16\", \"2020-10-17\", \"2020-10-18\", \"2020-10-19\", \"2020-10-20\", \"2020-10-21\", \"2020-10-22\", \"2020-10-23\", \"2020-10-24\", \"2020-10-25\", \"2020-10-26\", \"2020-10-27\", \"2020-10-28\", \"2020-10-29\", \"2020-10-30\", \"2020-10-31\", \"2020-11-01\", \"2020-11-02\"], \"y\": [41618, 43408, 45019, 46631, 48343, 49972, 50710, 51004, 53002, 54741, 56389, 58094, 59860, 60704, 60993, 63201, 65400, 67654, 69963, 72227, 73347, 73691, 76444, 78740, 80702, 82475, 84242, 85087, 85342, 86897]}, {\"marker\": {\"color\": \"#f9d67a\"}, \"showlegend\": false, \"type\": \"bar\", \"x\": [\"2020-10-04\", \"2020-10-05\", \"2020-10-06\", \"2020-10-07\", \"2020-10-08\", \"2020-10-09\", \"2020-10-10\", \"2020-10-11\", \"2020-10-12\", \"2020-10-13\", \"2020-10-14\", \"2020-10-15\", \"2020-10-16\", \"2020-10-17\", \"2020-10-18\", \"2020-10-19\", \"2020-10-20\", \"2020-10-21\", \"2020-10-22\", \"2020-10-23\", \"2020-10-24\", \"2020-10-25\", \"2020-10-26\", \"2020-10-27\", \"2020-10-28\", \"2020-10-29\", \"2020-10-30\", \"2020-10-31\", \"2020-11-01\", \"2020-11-02\"], \"y\": [236, 1790, 1611, 1612, 1712, 1629, 738, 294, 1998, 1739, 1648, 1705, 1766, 844, 289, 2208, 2199, 2254, 2309, 2264, 1120, 344, 2753, 2296, 1962, 1773, 1767, 845, 255, 1555]}],                        {\"annotations\": [{\"font\": {\"color\": \"#ffffff\", \"size\": 14}, \"showarrow\": false, \"text\": \"Total Confirmed Cases\", \"x\": \"2020-11-02\", \"xshift\": -220, \"y\": 86897}, {\"font\": {\"color\": \"#ffffff\", \"size\": 14}, \"showarrow\": false, \"text\": \"New Confirmed Cases\", \"x\": \"2020-11-02\", \"xshift\": -60, \"y\": 1555, \"yshift\": 20}], \"autosize\": true, \"template\": {\"data\": {\"bar\": [{\"error_x\": {\"color\": \"#f2f5fa\"}, \"error_y\": {\"color\": \"#f2f5fa\"}, \"marker\": {\"line\": {\"color\": \"rgb(17,17,17)\", \"width\": 0.5}}, \"type\": \"bar\"}], \"barpolar\": [{\"marker\": {\"line\": {\"color\": \"rgb(17,17,17)\", \"width\": 0.5}}, \"type\": \"barpolar\"}], \"carpet\": [{\"aaxis\": {\"endlinecolor\": \"#A2B1C6\", \"gridcolor\": \"#506784\", \"linecolor\": \"#506784\", \"minorgridcolor\": \"#506784\", \"startlinecolor\": \"#A2B1C6\"}, \"baxis\": {\"endlinecolor\": \"#A2B1C6\", \"gridcolor\": \"#506784\", \"linecolor\": \"#506784\", \"minorgridcolor\": \"#506784\", \"startlinecolor\": \"#A2B1C6\"}, \"type\": \"carpet\"}], \"choropleth\": [{\"colorbar\": {\"outlinewidth\": 0, \"ticks\": \"\"}, \"type\": \"choropleth\"}], \"contour\": [{\"colorbar\": {\"outlinewidth\": 0, \"ticks\": \"\"}, \"colorscale\": [[0.0, \"#0d0887\"], [0.1111111111111111, \"#46039f\"], [0.2222222222222222, \"#7201a8\"], [0.3333333333333333, \"#9c179e\"], [0.4444444444444444, \"#bd3786\"], [0.5555555555555556, \"#d8576b\"], [0.6666666666666666, \"#ed7953\"], [0.7777777777777778, \"#fb9f3a\"], [0.8888888888888888, \"#fdca26\"], [1.0, \"#f0f921\"]], \"type\": \"contour\"}], \"contourcarpet\": [{\"colorbar\": {\"outlinewidth\": 0, \"ticks\": \"\"}, \"type\": \"contourcarpet\"}], \"heatmap\": [{\"colorbar\": {\"outlinewidth\": 0, \"ticks\": \"\"}, \"colorscale\": [[0.0, \"#0d0887\"], [0.1111111111111111, \"#46039f\"], [0.2222222222222222, \"#7201a8\"], [0.3333333333333333, \"#9c179e\"], [0.4444444444444444, \"#bd3786\"], [0.5555555555555556, \"#d8576b\"], [0.6666666666666666, \"#ed7953\"], [0.7777777777777778, \"#fb9f3a\"], [0.8888888888888888, \"#fdca26\"], [1.0, \"#f0f921\"]], \"type\": \"heatmap\"}], \"heatmapgl\": [{\"colorbar\": {\"outlinewidth\": 0, \"ticks\": \"\"}, \"colorscale\": [[0.0, \"#0d0887\"], [0.1111111111111111, \"#46039f\"], [0.2222222222222222, \"#7201a8\"], [0.3333333333333333, \"#9c179e\"], [0.4444444444444444, \"#bd3786\"], [0.5555555555555556, \"#d8576b\"], [0.6666666666666666, \"#ed7953\"], [0.7777777777777778, \"#fb9f3a\"], [0.8888888888888888, \"#fdca26\"], [1.0, \"#f0f921\"]], \"type\": \"heatmapgl\"}], \"histogram\": [{\"marker\": {\"colorbar\": {\"outlinewidth\": 0, \"ticks\": \"\"}}, \"type\": \"histogram\"}], \"histogram2d\": [{\"colorbar\": {\"outlinewidth\": 0, \"ticks\": \"\"}, \"colorscale\": [[0.0, \"#0d0887\"], [0.1111111111111111, \"#46039f\"], [0.2222222222222222, \"#7201a8\"], [0.3333333333333333, \"#9c179e\"], [0.4444444444444444, \"#bd3786\"], [0.5555555555555556, \"#d8576b\"], [0.6666666666666666, \"#ed7953\"], [0.7777777777777778, \"#fb9f3a\"], [0.8888888888888888, \"#fdca26\"], [1.0, \"#f0f921\"]], \"type\": \"histogram2d\"}], \"histogram2dcontour\": [{\"colorbar\": {\"outlinewidth\": 0, \"ticks\": \"\"}, \"colorscale\": [[0.0, \"#0d0887\"], [0.1111111111111111, \"#46039f\"], [0.2222222222222222, \"#7201a8\"], [0.3333333333333333, \"#9c179e\"], [0.4444444444444444, \"#bd3786\"], [0.5555555555555556, \"#d8576b\"], [0.6666666666666666, \"#ed7953\"], [0.7777777777777778, \"#fb9f3a\"], [0.8888888888888888, \"#fdca26\"], [1.0, \"#f0f921\"]], \"type\": \"histogram2dcontour\"}], \"mesh3d\": [{\"colorbar\": {\"outlinewidth\": 0, \"ticks\": \"\"}, \"type\": \"mesh3d\"}], \"parcoords\": [{\"line\": {\"colorbar\": {\"outlinewidth\": 0, \"ticks\": \"\"}}, \"type\": \"parcoords\"}], \"pie\": [{\"automargin\": true, \"type\": \"pie\"}], \"scatter\": [{\"marker\": {\"line\": {\"color\": \"#283442\"}}, \"type\": \"scatter\"}], \"scatter3d\": [{\"line\": {\"colorbar\": {\"outlinewidth\": 0, \"ticks\": \"\"}}, \"marker\": {\"colorbar\": {\"outlinewidth\": 0, \"ticks\": \"\"}}, \"type\": \"scatter3d\"}], \"scattercarpet\": [{\"marker\": {\"colorbar\": {\"outlinewidth\": 0, \"ticks\": \"\"}}, \"type\": \"scattercarpet\"}], \"scattergeo\": [{\"marker\": {\"colorbar\": {\"outlinewidth\": 0, \"ticks\": \"\"}}, \"type\": \"scattergeo\"}], \"scattergl\": [{\"marker\": {\"line\": {\"color\": \"#283442\"}}, \"type\": \"scattergl\"}], \"scattermapbox\": [{\"marker\": {\"colorbar\": {\"outlinewidth\": 0, \"ticks\": \"\"}}, \"type\": \"scattermapbox\"}], \"scatterpolar\": [{\"marker\": {\"colorbar\": {\"outlinewidth\": 0, \"ticks\": \"\"}}, \"type\": \"scatterpolar\"}], \"scatterpolargl\": [{\"marker\": {\"colorbar\": {\"outlinewidth\": 0, \"ticks\": \"\"}}, \"type\": \"scatterpolargl\"}], \"scatterternary\": [{\"marker\": {\"colorbar\": {\"outlinewidth\": 0, \"ticks\": \"\"}}, \"type\": \"scatterternary\"}], \"surface\": [{\"colorbar\": {\"outlinewidth\": 0, \"ticks\": \"\"}, \"colorscale\": [[0.0, \"#0d0887\"], [0.1111111111111111, \"#46039f\"], [0.2222222222222222, \"#7201a8\"], [0.3333333333333333, \"#9c179e\"], [0.4444444444444444, \"#bd3786\"], [0.5555555555555556, \"#d8576b\"], [0.6666666666666666, \"#ed7953\"], [0.7777777777777778, \"#fb9f3a\"], [0.8888888888888888, \"#fdca26\"], [1.0, \"#f0f921\"]], \"type\": \"surface\"}], \"table\": [{\"cells\": {\"fill\": {\"color\": \"#506784\"}, \"line\": {\"color\": \"rgb(17,17,17)\"}}, \"header\": {\"fill\": {\"color\": \"#2a3f5f\"}, \"line\": {\"color\": \"rgb(17,17,17)\"}}, \"type\": \"table\"}]}, \"layout\": {\"annotationdefaults\": {\"arrowcolor\": \"#f2f5fa\", \"arrowhead\": 0, \"arrowwidth\": 1}, \"coloraxis\": {\"colorbar\": {\"outlinewidth\": 0, \"ticks\": \"\"}}, \"colorscale\": {\"diverging\": [[0, \"#8e0152\"], [0.1, \"#c51b7d\"], [0.2, \"#de77ae\"], [0.3, \"#f1b6da\"], [0.4, \"#fde0ef\"], [0.5, \"#f7f7f7\"], [0.6, \"#e6f5d0\"], [0.7, \"#b8e186\"], [0.8, \"#7fbc41\"], [0.9, \"#4d9221\"], [1, \"#276419\"]], \"sequential\": [[0.0, \"#0d0887\"], [0.1111111111111111, \"#46039f\"], [0.2222222222222222, \"#7201a8\"], [0.3333333333333333, \"#9c179e\"], [0.4444444444444444, \"#bd3786\"], [0.5555555555555556, \"#d8576b\"], [0.6666666666666666, \"#ed7953\"], [0.7777777777777778, \"#fb9f3a\"], [0.8888888888888888, \"#fdca26\"], [1.0, \"#f0f921\"]], \"sequentialminus\": [[0.0, \"#0d0887\"], [0.1111111111111111, \"#46039f\"], [0.2222222222222222, \"#7201a8\"], [0.3333333333333333, \"#9c179e\"], [0.4444444444444444, \"#bd3786\"], [0.5555555555555556, \"#d8576b\"], [0.6666666666666666, \"#ed7953\"], [0.7777777777777778, \"#fb9f3a\"], [0.8888888888888888, \"#fdca26\"], [1.0, \"#f0f921\"]]}, \"colorway\": [\"#636efa\", \"#EF553B\", \"#00cc96\", \"#ab63fa\", \"#FFA15A\", \"#19d3f3\", \"#FF6692\", \"#B6E880\", \"#FF97FF\", \"#FECB52\"], \"font\": {\"color\": \"#f2f5fa\"}, \"geo\": {\"bgcolor\": \"rgb(17,17,17)\", \"lakecolor\": \"rgb(17,17,17)\", \"landcolor\": \"rgb(17,17,17)\", \"showlakes\": true, \"showland\": true, \"subunitcolor\": \"#506784\"}, \"hoverlabel\": {\"align\": \"left\"}, \"hovermode\": \"closest\", \"mapbox\": {\"style\": \"dark\"}, \"paper_bgcolor\": \"rgb(17,17,17)\", \"plot_bgcolor\": \"rgb(17,17,17)\", \"polar\": {\"angularaxis\": {\"gridcolor\": \"#506784\", \"linecolor\": \"#506784\", \"ticks\": \"\"}, \"bgcolor\": \"rgb(17,17,17)\", \"radialaxis\": {\"gridcolor\": \"#506784\", \"linecolor\": \"#506784\", \"ticks\": \"\"}}, \"scene\": {\"xaxis\": {\"backgroundcolor\": \"rgb(17,17,17)\", \"gridcolor\": \"#506784\", \"gridwidth\": 2, \"linecolor\": \"#506784\", \"showbackground\": true, \"ticks\": \"\", \"zerolinecolor\": \"#C8D4E3\"}, \"yaxis\": {\"backgroundcolor\": \"rgb(17,17,17)\", \"gridcolor\": \"#506784\", \"gridwidth\": 2, \"linecolor\": \"#506784\", \"showbackground\": true, \"ticks\": \"\", \"zerolinecolor\": \"#C8D4E3\"}, \"zaxis\": {\"backgroundcolor\": \"rgb(17,17,17)\", \"gridcolor\": \"#506784\", \"gridwidth\": 2, \"linecolor\": \"#506784\", \"showbackground\": true, \"ticks\": \"\", \"zerolinecolor\": \"#C8D4E3\"}}, \"shapedefaults\": {\"line\": {\"color\": \"#f2f5fa\"}}, \"sliderdefaults\": {\"bgcolor\": \"#C8D4E3\", \"bordercolor\": \"rgb(17,17,17)\", \"borderwidth\": 1, \"tickwidth\": 0}, \"ternary\": {\"aaxis\": {\"gridcolor\": \"#506784\", \"linecolor\": \"#506784\", \"ticks\": \"\"}, \"baxis\": {\"gridcolor\": \"#506784\", \"linecolor\": \"#506784\", \"ticks\": \"\"}, \"bgcolor\": \"rgb(17,17,17)\", \"caxis\": {\"gridcolor\": \"#506784\", \"linecolor\": \"#506784\", \"ticks\": \"\"}}, \"title\": {\"x\": 0.05}, \"updatemenudefaults\": {\"bgcolor\": \"#506784\", \"borderwidth\": 0}, \"xaxis\": {\"automargin\": true, \"gridcolor\": \"#283442\", \"linecolor\": \"#506784\", \"ticks\": \"\", \"title\": {\"standoff\": 15}, \"zerolinecolor\": \"#283442\", \"zerolinewidth\": 2}, \"yaxis\": {\"automargin\": true, \"gridcolor\": \"#283442\", \"linecolor\": \"#506784\", \"ticks\": \"\", \"title\": {\"standoff\": 15}, \"zerolinecolor\": \"#283442\", \"zerolinewidth\": 2}}}, \"xaxis\": {\"title\": {\"text\": \"Dates\"}}, \"yaxis\": {\"title\": {\"text\": \"Number of cases\"}}},                        {\"responsive\": true}                    ).then(function(){\n",
       "                            \n",
       "var gd = document.getElementById('886ed3f4-c5a3-41ba-8245-25e25ae7886d');\n",
       "var x = new MutationObserver(function (mutations, observer) {{\n",
       "        var display = window.getComputedStyle(gd).display;\n",
       "        if (!display || display === 'none') {{\n",
       "            console.log([gd, 'removed!']);\n",
       "            Plotly.purge(gd);\n",
       "            observer.disconnect();\n",
       "        }}\n",
       "}});\n",
       "\n",
       "// Listen for the removal of the full notebook cells\n",
       "var notebookContainer = gd.closest('#notebook-container');\n",
       "if (notebookContainer) {{\n",
       "    x.observe(notebookContainer, {childList: true});\n",
       "}}\n",
       "\n",
       "// Listen for the clearing of the current output cell\n",
       "var outputEl = gd.closest('.output');\n",
       "if (outputEl) {{\n",
       "    x.observe(outputEl, {childList: true});\n",
       "}}\n",
       "\n",
       "                        })                };                });            </script>        </div>"
      ]
     },
     "metadata": {},
     "output_type": "display_data"
    }
   ],
   "source": [
    "confirmed_cases(all_df[select_df],last_days)"
   ]
  },
  {
   "cell_type": "markdown",
   "metadata": {},
   "source": []
  },
  {
   "cell_type": "code",
   "execution_count": 706,
   "metadata": {},
   "outputs": [],
   "source": [
    "df = pd.read_csv('datasets/covid_19_data.csv')"
   ]
  },
  {
   "cell_type": "code",
   "execution_count": 707,
   "metadata": {},
   "outputs": [],
   "source": [
    "#df.head()"
   ]
  },
  {
   "cell_type": "code",
   "execution_count": 715,
   "metadata": {},
   "outputs": [],
   "source": [
    "#df['Country/Region'].unique()"
   ]
  },
  {
   "cell_type": "code",
   "execution_count": 709,
   "metadata": {},
   "outputs": [],
   "source": [
    "df = df.drop(df[(df[\"Country/Region\"]==\"('St. Martin',)\")].index)"
   ]
  },
  {
   "cell_type": "code",
   "execution_count": 710,
   "metadata": {},
   "outputs": [],
   "source": [
    "countries = df['Country/Region'].unique()\n",
    "countries.sort()"
   ]
  },
  {
   "cell_type": "code",
   "execution_count": 711,
   "metadata": {},
   "outputs": [
    {
     "data": {
      "text/html": [
       "<div>\n",
       "<style scoped>\n",
       "    .dataframe tbody tr th:only-of-type {\n",
       "        vertical-align: middle;\n",
       "    }\n",
       "\n",
       "    .dataframe tbody tr th {\n",
       "        vertical-align: top;\n",
       "    }\n",
       "\n",
       "    .dataframe thead th {\n",
       "        text-align: right;\n",
       "    }\n",
       "</style>\n",
       "<table border=\"1\" class=\"dataframe\">\n",
       "  <thead>\n",
       "    <tr style=\"text-align: right;\">\n",
       "      <th></th>\n",
       "      <th>Country/Region</th>\n",
       "      <th>ObservationDate</th>\n",
       "      <th>Confirmed</th>\n",
       "      <th>Deaths</th>\n",
       "      <th>Recovered</th>\n",
       "    </tr>\n",
       "  </thead>\n",
       "  <tbody>\n",
       "    <tr>\n",
       "      <th>0</th>\n",
       "      <td>Azerbaijan</td>\n",
       "      <td>02/28/2020</td>\n",
       "      <td>1.0</td>\n",
       "      <td>0.0</td>\n",
       "      <td>0.0</td>\n",
       "    </tr>\n",
       "    <tr>\n",
       "      <th>1</th>\n",
       "      <td>Afghanistan</td>\n",
       "      <td>02/24/2020</td>\n",
       "      <td>1.0</td>\n",
       "      <td>0.0</td>\n",
       "      <td>0.0</td>\n",
       "    </tr>\n",
       "    <tr>\n",
       "      <th>2</th>\n",
       "      <td>Afghanistan</td>\n",
       "      <td>02/25/2020</td>\n",
       "      <td>1.0</td>\n",
       "      <td>0.0</td>\n",
       "      <td>0.0</td>\n",
       "    </tr>\n",
       "    <tr>\n",
       "      <th>3</th>\n",
       "      <td>Afghanistan</td>\n",
       "      <td>02/26/2020</td>\n",
       "      <td>1.0</td>\n",
       "      <td>0.0</td>\n",
       "      <td>0.0</td>\n",
       "    </tr>\n",
       "    <tr>\n",
       "      <th>4</th>\n",
       "      <td>Afghanistan</td>\n",
       "      <td>02/27/2020</td>\n",
       "      <td>1.0</td>\n",
       "      <td>0.0</td>\n",
       "      <td>0.0</td>\n",
       "    </tr>\n",
       "  </tbody>\n",
       "</table>\n",
       "</div>"
      ],
      "text/plain": [
       "  Country/Region ObservationDate  Confirmed  Deaths  Recovered\n",
       "0     Azerbaijan      02/28/2020        1.0     0.0        0.0\n",
       "1    Afghanistan      02/24/2020        1.0     0.0        0.0\n",
       "2    Afghanistan      02/25/2020        1.0     0.0        0.0\n",
       "3    Afghanistan      02/26/2020        1.0     0.0        0.0\n",
       "4    Afghanistan      02/27/2020        1.0     0.0        0.0"
      ]
     },
     "execution_count": 711,
     "metadata": {},
     "output_type": "execute_result"
    }
   ],
   "source": [
    "df_country=df.groupby(['Country/Region','ObservationDate'])[[\"Confirmed\",\"Deaths\",\"Recovered\"]].sum().reset_index()\n",
    "df_country.head()"
   ]
  },
  {
   "cell_type": "code",
   "execution_count": 712,
   "metadata": {},
   "outputs": [
    {
     "data": {
      "text/html": [
       "<div>\n",
       "<style scoped>\n",
       "    .dataframe tbody tr th:only-of-type {\n",
       "        vertical-align: middle;\n",
       "    }\n",
       "\n",
       "    .dataframe tbody tr th {\n",
       "        vertical-align: top;\n",
       "    }\n",
       "\n",
       "    .dataframe thead th {\n",
       "        text-align: right;\n",
       "    }\n",
       "</style>\n",
       "<table border=\"1\" class=\"dataframe\">\n",
       "  <thead>\n",
       "    <tr style=\"text-align: right;\">\n",
       "      <th></th>\n",
       "      <th>Country/Region</th>\n",
       "      <th>ObservationDate</th>\n",
       "      <th>Confirmed</th>\n",
       "      <th>Deaths</th>\n",
       "      <th>Recovered</th>\n",
       "    </tr>\n",
       "  </thead>\n",
       "  <tbody>\n",
       "    <tr>\n",
       "      <th>12088</th>\n",
       "      <td>France</td>\n",
       "      <td>01/24/2020</td>\n",
       "      <td>2.0</td>\n",
       "      <td>0.0</td>\n",
       "      <td>0.0</td>\n",
       "    </tr>\n",
       "    <tr>\n",
       "      <th>12089</th>\n",
       "      <td>France</td>\n",
       "      <td>01/25/2020</td>\n",
       "      <td>3.0</td>\n",
       "      <td>0.0</td>\n",
       "      <td>0.0</td>\n",
       "    </tr>\n",
       "    <tr>\n",
       "      <th>12090</th>\n",
       "      <td>France</td>\n",
       "      <td>01/26/2020</td>\n",
       "      <td>3.0</td>\n",
       "      <td>0.0</td>\n",
       "      <td>0.0</td>\n",
       "    </tr>\n",
       "    <tr>\n",
       "      <th>12091</th>\n",
       "      <td>France</td>\n",
       "      <td>01/27/2020</td>\n",
       "      <td>3.0</td>\n",
       "      <td>0.0</td>\n",
       "      <td>0.0</td>\n",
       "    </tr>\n",
       "    <tr>\n",
       "      <th>12092</th>\n",
       "      <td>France</td>\n",
       "      <td>01/28/2020</td>\n",
       "      <td>4.0</td>\n",
       "      <td>0.0</td>\n",
       "      <td>0.0</td>\n",
       "    </tr>\n",
       "  </tbody>\n",
       "</table>\n",
       "</div>"
      ],
      "text/plain": [
       "      Country/Region ObservationDate  Confirmed  Deaths  Recovered\n",
       "12088         France      01/24/2020        2.0     0.0        0.0\n",
       "12089         France      01/25/2020        3.0     0.0        0.0\n",
       "12090         France      01/26/2020        3.0     0.0        0.0\n",
       "12091         France      01/27/2020        3.0     0.0        0.0\n",
       "12092         France      01/28/2020        4.0     0.0        0.0"
      ]
     },
     "execution_count": 712,
     "metadata": {},
     "output_type": "execute_result"
    }
   ],
   "source": [
    "df_france=df_country[(df_country[\"Country/Region\"]==\"France\")]\n",
    "df_france.head()"
   ]
  },
  {
   "cell_type": "code",
   "execution_count": 713,
   "metadata": {},
   "outputs": [
    {
     "data": {
      "text/plain": [
       "Country/Region         France\n",
       "ObservationDate    09/23/2020\n",
       "Confirmed              508456\n",
       "Deaths                  31447\n",
       "Recovered               96498\n",
       "Name: 12331, dtype: object"
      ]
     },
     "execution_count": 713,
     "metadata": {},
     "output_type": "execute_result"
    }
   ],
   "source": [
    "df_france.iloc[-1][:]"
   ]
  },
  {
   "cell_type": "code",
   "execution_count": 714,
   "metadata": {},
   "outputs": [
    {
     "ename": "KeyError",
     "evalue": "'Confirmed_acc'",
     "output_type": "error",
     "traceback": [
      "\u001b[0;31m---------------------------------------------------------------------------\u001b[0m",
      "\u001b[0;31mKeyError\u001b[0m                                  Traceback (most recent call last)",
      "\u001b[0;32m~/anaconda3/lib/python3.7/site-packages/pandas/core/indexes/base.py\u001b[0m in \u001b[0;36mget_loc\u001b[0;34m(self, key, method, tolerance)\u001b[0m\n\u001b[1;32m   2894\u001b[0m             \u001b[0;32mtry\u001b[0m\u001b[0;34m:\u001b[0m\u001b[0;34m\u001b[0m\u001b[0;34m\u001b[0m\u001b[0m\n\u001b[0;32m-> 2895\u001b[0;31m                 \u001b[0;32mreturn\u001b[0m \u001b[0mself\u001b[0m\u001b[0;34m.\u001b[0m\u001b[0m_engine\u001b[0m\u001b[0;34m.\u001b[0m\u001b[0mget_loc\u001b[0m\u001b[0;34m(\u001b[0m\u001b[0mcasted_key\u001b[0m\u001b[0;34m)\u001b[0m\u001b[0;34m\u001b[0m\u001b[0;34m\u001b[0m\u001b[0m\n\u001b[0m\u001b[1;32m   2896\u001b[0m             \u001b[0;32mexcept\u001b[0m \u001b[0mKeyError\u001b[0m \u001b[0;32mas\u001b[0m \u001b[0merr\u001b[0m\u001b[0;34m:\u001b[0m\u001b[0;34m\u001b[0m\u001b[0;34m\u001b[0m\u001b[0m\n",
      "\u001b[0;32mpandas/_libs/index.pyx\u001b[0m in \u001b[0;36mpandas._libs.index.IndexEngine.get_loc\u001b[0;34m()\u001b[0m\n",
      "\u001b[0;32mpandas/_libs/index.pyx\u001b[0m in \u001b[0;36mpandas._libs.index.IndexEngine.get_loc\u001b[0;34m()\u001b[0m\n",
      "\u001b[0;32mpandas/_libs/hashtable_class_helper.pxi\u001b[0m in \u001b[0;36mpandas._libs.hashtable.PyObjectHashTable.get_item\u001b[0;34m()\u001b[0m\n",
      "\u001b[0;32mpandas/_libs/hashtable_class_helper.pxi\u001b[0m in \u001b[0;36mpandas._libs.hashtable.PyObjectHashTable.get_item\u001b[0;34m()\u001b[0m\n",
      "\u001b[0;31mKeyError\u001b[0m: 'Confirmed_acc'",
      "\nThe above exception was the direct cause of the following exception:\n",
      "\u001b[0;31mKeyError\u001b[0m                                  Traceback (most recent call last)",
      "\u001b[0;32m<ipython-input-714-f2dfb20ac547>\u001b[0m in \u001b[0;36m<module>\u001b[0;34m\u001b[0m\n\u001b[1;32m      1\u001b[0m y_data = np.array([\n\u001b[0;32m----> 2\u001b[0;31m     \u001b[0mdf_france\u001b[0m\u001b[0;34m[\u001b[0m\u001b[0;34m'Confirmed_acc'\u001b[0m\u001b[0;34m]\u001b[0m\u001b[0;34m,\u001b[0m\u001b[0;34m\u001b[0m\u001b[0;34m\u001b[0m\u001b[0m\n\u001b[0m\u001b[1;32m      3\u001b[0m     \u001b[0mdf_france\u001b[0m\u001b[0;34m[\u001b[0m\u001b[0;34m'Deaths_acc'\u001b[0m\u001b[0;34m]\u001b[0m\u001b[0;34m,\u001b[0m\u001b[0;34m\u001b[0m\u001b[0;34m\u001b[0m\u001b[0m\n\u001b[1;32m      4\u001b[0m     \u001b[0mdf_france\u001b[0m\u001b[0;34m[\u001b[0m\u001b[0;34m'Recovered'\u001b[0m\u001b[0;34m]\u001b[0m\u001b[0;34m\u001b[0m\u001b[0;34m\u001b[0m\u001b[0m\n\u001b[1;32m      5\u001b[0m ])\n",
      "\u001b[0;32m~/anaconda3/lib/python3.7/site-packages/pandas/core/frame.py\u001b[0m in \u001b[0;36m__getitem__\u001b[0;34m(self, key)\u001b[0m\n\u001b[1;32m   2900\u001b[0m             \u001b[0;32mif\u001b[0m \u001b[0mself\u001b[0m\u001b[0;34m.\u001b[0m\u001b[0mcolumns\u001b[0m\u001b[0;34m.\u001b[0m\u001b[0mnlevels\u001b[0m \u001b[0;34m>\u001b[0m \u001b[0;36m1\u001b[0m\u001b[0;34m:\u001b[0m\u001b[0;34m\u001b[0m\u001b[0;34m\u001b[0m\u001b[0m\n\u001b[1;32m   2901\u001b[0m                 \u001b[0;32mreturn\u001b[0m \u001b[0mself\u001b[0m\u001b[0;34m.\u001b[0m\u001b[0m_getitem_multilevel\u001b[0m\u001b[0;34m(\u001b[0m\u001b[0mkey\u001b[0m\u001b[0;34m)\u001b[0m\u001b[0;34m\u001b[0m\u001b[0;34m\u001b[0m\u001b[0m\n\u001b[0;32m-> 2902\u001b[0;31m             \u001b[0mindexer\u001b[0m \u001b[0;34m=\u001b[0m \u001b[0mself\u001b[0m\u001b[0;34m.\u001b[0m\u001b[0mcolumns\u001b[0m\u001b[0;34m.\u001b[0m\u001b[0mget_loc\u001b[0m\u001b[0;34m(\u001b[0m\u001b[0mkey\u001b[0m\u001b[0;34m)\u001b[0m\u001b[0;34m\u001b[0m\u001b[0;34m\u001b[0m\u001b[0m\n\u001b[0m\u001b[1;32m   2903\u001b[0m             \u001b[0;32mif\u001b[0m \u001b[0mis_integer\u001b[0m\u001b[0;34m(\u001b[0m\u001b[0mindexer\u001b[0m\u001b[0;34m)\u001b[0m\u001b[0;34m:\u001b[0m\u001b[0;34m\u001b[0m\u001b[0;34m\u001b[0m\u001b[0m\n\u001b[1;32m   2904\u001b[0m                 \u001b[0mindexer\u001b[0m \u001b[0;34m=\u001b[0m \u001b[0;34m[\u001b[0m\u001b[0mindexer\u001b[0m\u001b[0;34m]\u001b[0m\u001b[0;34m\u001b[0m\u001b[0;34m\u001b[0m\u001b[0m\n",
      "\u001b[0;32m~/anaconda3/lib/python3.7/site-packages/pandas/core/indexes/base.py\u001b[0m in \u001b[0;36mget_loc\u001b[0;34m(self, key, method, tolerance)\u001b[0m\n\u001b[1;32m   2895\u001b[0m                 \u001b[0;32mreturn\u001b[0m \u001b[0mself\u001b[0m\u001b[0;34m.\u001b[0m\u001b[0m_engine\u001b[0m\u001b[0;34m.\u001b[0m\u001b[0mget_loc\u001b[0m\u001b[0;34m(\u001b[0m\u001b[0mcasted_key\u001b[0m\u001b[0;34m)\u001b[0m\u001b[0;34m\u001b[0m\u001b[0;34m\u001b[0m\u001b[0m\n\u001b[1;32m   2896\u001b[0m             \u001b[0;32mexcept\u001b[0m \u001b[0mKeyError\u001b[0m \u001b[0;32mas\u001b[0m \u001b[0merr\u001b[0m\u001b[0;34m:\u001b[0m\u001b[0;34m\u001b[0m\u001b[0;34m\u001b[0m\u001b[0m\n\u001b[0;32m-> 2897\u001b[0;31m                 \u001b[0;32mraise\u001b[0m \u001b[0mKeyError\u001b[0m\u001b[0;34m(\u001b[0m\u001b[0mkey\u001b[0m\u001b[0;34m)\u001b[0m \u001b[0;32mfrom\u001b[0m \u001b[0merr\u001b[0m\u001b[0;34m\u001b[0m\u001b[0;34m\u001b[0m\u001b[0m\n\u001b[0m\u001b[1;32m   2898\u001b[0m \u001b[0;34m\u001b[0m\u001b[0m\n\u001b[1;32m   2899\u001b[0m         \u001b[0;32mif\u001b[0m \u001b[0mtolerance\u001b[0m \u001b[0;32mis\u001b[0m \u001b[0;32mnot\u001b[0m \u001b[0;32mNone\u001b[0m\u001b[0;34m:\u001b[0m\u001b[0;34m\u001b[0m\u001b[0;34m\u001b[0m\u001b[0m\n",
      "\u001b[0;31mKeyError\u001b[0m: 'Confirmed_acc'"
     ]
    }
   ],
   "source": [
    "y_data = np.array([\n",
    "    df_france['Confirmed_acc'],\n",
    "    df_france['Deaths_acc'],\n",
    "    df_france['Recovered']\n",
    "])\n",
    "labels = ['Confirmed', 'Deaths', 'Recovered']\n",
    "colors = ['rgb(67,67,67)', 'rgb(115,115,115)', 'rgb(49,130,189)']\n",
    "line_size = [2, 4, 2]"
   ]
  },
  {
   "cell_type": "code",
   "execution_count": null,
   "metadata": {},
   "outputs": [],
   "source": [
    "fig = go.Figure()\n",
    "\n",
    "for i in range(0, 3):\n",
    "    fig.add_trace(go.Scatter(x=df_france['ObservationDate'], y=y_data[i], mode='lines',\n",
    "        name=labels[i],\n",
    "        line=dict(color=colors[i], width=line_size[i]),\n",
    "        connectgaps=True,\n",
    "    ))\n",
    "\n",
    "fig.update_layout(\n",
    "    xaxis=dict(\n",
    "        showline=True,\n",
    "        showgrid=True,\n",
    "        showticklabels=True,\n",
    "        linecolor='rgb(204, 204, 204)',\n",
    "        linewidth=2,\n",
    "        ticks='outside',\n",
    "        tickfont=dict(\n",
    "            family='Arial',\n",
    "            size=12,\n",
    "            color='rgb(82, 82, 82)',\n",
    "        ),\n",
    "    ),\n",
    "    yaxis=dict(\n",
    "        showgrid=True,\n",
    "        zeroline=True,\n",
    "        showline=True,\n",
    "        showticklabels=True,\n",
    "    ),\n",
    "    autosize=False,\n",
    "    margin=dict(\n",
    "        autoexpand=False,\n",
    "        l=100,\n",
    "        r=20,\n",
    "        t=110,\n",
    "    ),\n",
    "    showlegend=False,\n",
    "    plot_bgcolor='white'\n",
    ")\n",
    "\n",
    "fig.show()"
   ]
  },
  {
   "cell_type": "code",
   "execution_count": null,
   "metadata": {},
   "outputs": [],
   "source": []
  },
  {
   "cell_type": "code",
   "execution_count": null,
   "metadata": {},
   "outputs": [],
   "source": []
  }
 ],
 "metadata": {
  "kernelspec": {
   "display_name": "Python 3",
   "language": "python",
   "name": "python3"
  },
  "language_info": {
   "codemirror_mode": {
    "name": "ipython",
    "version": 3
   },
   "file_extension": ".py",
   "mimetype": "text/x-python",
   "name": "python",
   "nbconvert_exporter": "python",
   "pygments_lexer": "ipython3",
   "version": "3.7.1"
  }
 },
 "nbformat": 4,
 "nbformat_minor": 4
}
