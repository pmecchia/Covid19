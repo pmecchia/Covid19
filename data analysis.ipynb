{
 "cells": [
  {
   "cell_type": "code",
   "execution_count": 362,
   "metadata": {},
   "outputs": [],
   "source": [
    "import pandas as pd\n",
    "import plotly.express as px\n",
    "import plotly.graph_objects as go\n",
    "import numpy as np\n",
    "from config import *"
   ]
  },
  {
   "cell_type": "markdown",
   "metadata": {},
   "source": [
    "## **Test/Positve dataset**"
   ]
  },
  {
   "cell_type": "markdown",
   "metadata": {},
   "source": [
    "1. **Dataset before 2020-05-12**"
   ]
  },
  {
   "cell_type": "markdown",
   "metadata": {},
   "source": [
    "* **extract dataset**"
   ]
  },
  {
   "cell_type": "code",
   "execution_count": 363,
   "metadata": {},
   "outputs": [
    {
     "data": {
      "text/html": [
       "<div>\n",
       "<style scoped>\n",
       "    .dataframe tbody tr th:only-of-type {\n",
       "        vertical-align: middle;\n",
       "    }\n",
       "\n",
       "    .dataframe tbody tr th {\n",
       "        vertical-align: top;\n",
       "    }\n",
       "\n",
       "    .dataframe thead th {\n",
       "        text-align: right;\n",
       "    }\n",
       "</style>\n",
       "<table border=\"1\" class=\"dataframe\">\n",
       "  <thead>\n",
       "    <tr style=\"text-align: right;\">\n",
       "      <th></th>\n",
       "      <th>dep</th>\n",
       "      <th>jour</th>\n",
       "      <th>clage_covid</th>\n",
       "      <th>nb_test</th>\n",
       "      <th>nb_pos</th>\n",
       "      <th>nb_test_h</th>\n",
       "      <th>nb_pos_h</th>\n",
       "      <th>nb_test_f</th>\n",
       "      <th>nb_pos_f</th>\n",
       "    </tr>\n",
       "  </thead>\n",
       "  <tbody>\n",
       "    <tr>\n",
       "      <th>0</th>\n",
       "      <td>01</td>\n",
       "      <td>2020-03-10</td>\n",
       "      <td>0</td>\n",
       "      <td>0</td>\n",
       "      <td>0</td>\n",
       "      <td>0</td>\n",
       "      <td>0</td>\n",
       "      <td>0</td>\n",
       "      <td>0</td>\n",
       "    </tr>\n",
       "    <tr>\n",
       "      <th>1</th>\n",
       "      <td>01</td>\n",
       "      <td>2020-03-10</td>\n",
       "      <td>A</td>\n",
       "      <td>0</td>\n",
       "      <td>0</td>\n",
       "      <td>0</td>\n",
       "      <td>0</td>\n",
       "      <td>0</td>\n",
       "      <td>0</td>\n",
       "    </tr>\n",
       "    <tr>\n",
       "      <th>2</th>\n",
       "      <td>01</td>\n",
       "      <td>2020-03-10</td>\n",
       "      <td>B</td>\n",
       "      <td>0</td>\n",
       "      <td>0</td>\n",
       "      <td>0</td>\n",
       "      <td>0</td>\n",
       "      <td>0</td>\n",
       "      <td>0</td>\n",
       "    </tr>\n",
       "    <tr>\n",
       "      <th>3</th>\n",
       "      <td>01</td>\n",
       "      <td>2020-03-10</td>\n",
       "      <td>C</td>\n",
       "      <td>0</td>\n",
       "      <td>0</td>\n",
       "      <td>0</td>\n",
       "      <td>0</td>\n",
       "      <td>0</td>\n",
       "      <td>0</td>\n",
       "    </tr>\n",
       "    <tr>\n",
       "      <th>4</th>\n",
       "      <td>01</td>\n",
       "      <td>2020-03-10</td>\n",
       "      <td>D</td>\n",
       "      <td>0</td>\n",
       "      <td>0</td>\n",
       "      <td>0</td>\n",
       "      <td>0</td>\n",
       "      <td>0</td>\n",
       "      <td>0</td>\n",
       "    </tr>\n",
       "  </tbody>\n",
       "</table>\n",
       "</div>"
      ],
      "text/plain": [
       "  dep        jour clage_covid  nb_test  nb_pos  nb_test_h  nb_pos_h  \\\n",
       "0  01  2020-03-10           0        0       0          0         0   \n",
       "1  01  2020-03-10           A        0       0          0         0   \n",
       "2  01  2020-03-10           B        0       0          0         0   \n",
       "3  01  2020-03-10           C        0       0          0         0   \n",
       "4  01  2020-03-10           D        0       0          0         0   \n",
       "\n",
       "   nb_test_f  nb_pos_f  \n",
       "0          0         0  \n",
       "1          0         0  \n",
       "2          0         0  \n",
       "3          0         0  \n",
       "4          0         0  "
      ]
     },
     "execution_count": 363,
     "metadata": {},
     "output_type": "execute_result"
    }
   ],
   "source": [
    "url_test1=\"https://www.data.gouv.fr/fr/datasets/r/b4ea7b4b-b7d1-4885-a099-71852291ff20\"\n",
    "dtype={'dep': str,'clage_covid':str,'nb_test':int,'nb_pos':int}\n",
    "df_test1=pd.read_csv(url_test1,sep = ';',dtype=dtype)\n",
    "df_test1.head()"
   ]
  },
  {
   "cell_type": "markdown",
   "metadata": {},
   "source": [
    "* **clean dataset**"
   ]
  },
  {
   "cell_type": "code",
   "execution_count": 364,
   "metadata": {},
   "outputs": [],
   "source": [
    "#keep summary columns only (genre datas not used)\n",
    "df_test1=df_test1.drop([\"nb_test_h\",\"nb_test_f\",\"nb_pos_h\",\"nb_pos_f\"],axis=1)"
   ]
  },
  {
   "cell_type": "code",
   "execution_count": 365,
   "metadata": {},
   "outputs": [
    {
     "data": {
      "text/html": [
       "<div>\n",
       "<style scoped>\n",
       "    .dataframe tbody tr th:only-of-type {\n",
       "        vertical-align: middle;\n",
       "    }\n",
       "\n",
       "    .dataframe tbody tr th {\n",
       "        vertical-align: top;\n",
       "    }\n",
       "\n",
       "    .dataframe thead th {\n",
       "        text-align: right;\n",
       "    }\n",
       "</style>\n",
       "<table border=\"1\" class=\"dataframe\">\n",
       "  <thead>\n",
       "    <tr style=\"text-align: right;\">\n",
       "      <th></th>\n",
       "      <th>dep</th>\n",
       "      <th>jour</th>\n",
       "      <th>clage_covid</th>\n",
       "      <th>nb_test</th>\n",
       "      <th>nb_pos</th>\n",
       "    </tr>\n",
       "  </thead>\n",
       "  <tbody>\n",
       "    <tr>\n",
       "      <th>48</th>\n",
       "      <td>01</td>\n",
       "      <td>2020-03-18</td>\n",
       "      <td>0</td>\n",
       "      <td>37</td>\n",
       "      <td>8</td>\n",
       "    </tr>\n",
       "    <tr>\n",
       "      <th>49</th>\n",
       "      <td>01</td>\n",
       "      <td>2020-03-18</td>\n",
       "      <td>A</td>\n",
       "      <td>0</td>\n",
       "      <td>0</td>\n",
       "    </tr>\n",
       "    <tr>\n",
       "      <th>50</th>\n",
       "      <td>01</td>\n",
       "      <td>2020-03-18</td>\n",
       "      <td>B</td>\n",
       "      <td>15</td>\n",
       "      <td>1</td>\n",
       "    </tr>\n",
       "    <tr>\n",
       "      <th>51</th>\n",
       "      <td>01</td>\n",
       "      <td>2020-03-18</td>\n",
       "      <td>C</td>\n",
       "      <td>11</td>\n",
       "      <td>3</td>\n",
       "    </tr>\n",
       "    <tr>\n",
       "      <th>52</th>\n",
       "      <td>01</td>\n",
       "      <td>2020-03-18</td>\n",
       "      <td>D</td>\n",
       "      <td>4</td>\n",
       "      <td>3</td>\n",
       "    </tr>\n",
       "  </tbody>\n",
       "</table>\n",
       "</div>"
      ],
      "text/plain": [
       "   dep        jour clage_covid  nb_test  nb_pos\n",
       "48  01  2020-03-18           0       37       8\n",
       "49  01  2020-03-18           A        0       0\n",
       "50  01  2020-03-18           B       15       1\n",
       "51  01  2020-03-18           C       11       3\n",
       "52  01  2020-03-18           D        4       3"
      ]
     },
     "execution_count": 365,
     "metadata": {},
     "output_type": "execute_result"
    }
   ],
   "source": [
    "#hospital dataset start on 2020-03-18 and second test/positive dataset start on 2020-05-12\n",
    "df_test1=df_test1.drop(df_test1[(df_test1[\"jour\"]<\"2020-03-18\") | (df_test1[\"jour\"]>\"2020-05-12\")].index)\n",
    "df_test1.head()"
   ]
  },
  {
   "cell_type": "code",
   "execution_count": 366,
   "metadata": {},
   "outputs": [
    {
     "data": {
      "text/html": [
       "<div>\n",
       "<style scoped>\n",
       "    .dataframe tbody tr th:only-of-type {\n",
       "        vertical-align: middle;\n",
       "    }\n",
       "\n",
       "    .dataframe tbody tr th {\n",
       "        vertical-align: top;\n",
       "    }\n",
       "\n",
       "    .dataframe thead th {\n",
       "        text-align: right;\n",
       "    }\n",
       "</style>\n",
       "<table border=\"1\" class=\"dataframe\">\n",
       "  <thead>\n",
       "    <tr style=\"text-align: right;\">\n",
       "      <th></th>\n",
       "      <th>dep</th>\n",
       "      <th>jour</th>\n",
       "      <th>nb_test</th>\n",
       "      <th>nb_pos</th>\n",
       "    </tr>\n",
       "  </thead>\n",
       "  <tbody>\n",
       "    <tr>\n",
       "      <th>48</th>\n",
       "      <td>01</td>\n",
       "      <td>2020-03-18</td>\n",
       "      <td>37</td>\n",
       "      <td>8</td>\n",
       "    </tr>\n",
       "    <tr>\n",
       "      <th>54</th>\n",
       "      <td>01</td>\n",
       "      <td>2020-03-19</td>\n",
       "      <td>82</td>\n",
       "      <td>13</td>\n",
       "    </tr>\n",
       "    <tr>\n",
       "      <th>60</th>\n",
       "      <td>01</td>\n",
       "      <td>2020-03-20</td>\n",
       "      <td>44</td>\n",
       "      <td>9</td>\n",
       "    </tr>\n",
       "    <tr>\n",
       "      <th>66</th>\n",
       "      <td>01</td>\n",
       "      <td>2020-03-21</td>\n",
       "      <td>13</td>\n",
       "      <td>1</td>\n",
       "    </tr>\n",
       "    <tr>\n",
       "      <th>72</th>\n",
       "      <td>01</td>\n",
       "      <td>2020-03-22</td>\n",
       "      <td>4</td>\n",
       "      <td>0</td>\n",
       "    </tr>\n",
       "  </tbody>\n",
       "</table>\n",
       "</div>"
      ],
      "text/plain": [
       "   dep        jour  nb_test  nb_pos\n",
       "48  01  2020-03-18       37       8\n",
       "54  01  2020-03-19       82      13\n",
       "60  01  2020-03-20       44       9\n",
       "66  01  2020-03-21       13       1\n",
       "72  01  2020-03-22        4       0"
      ]
     },
     "execution_count": 366,
     "metadata": {},
     "output_type": "execute_result"
    }
   ],
   "source": [
    "#not interesting in age: keep only row where clage_covid=0 (summary row)\n",
    "df_test1=df_test1.drop(df_test1[df_test1[\"clage_covid\"] != \"0\"].index)\n",
    "df_test1=df_test1.drop(\"clage_covid\",axis=1)\n",
    "df_test1.head()"
   ]
  },
  {
   "cell_type": "markdown",
   "metadata": {},
   "source": [
    "2. **Dataset after 2020-05-12**"
   ]
  },
  {
   "cell_type": "markdown",
   "metadata": {},
   "source": [
    "* **import second dataset**"
   ]
  },
  {
   "cell_type": "code",
   "execution_count": 367,
   "metadata": {},
   "outputs": [
    {
     "data": {
      "text/html": [
       "<div>\n",
       "<style scoped>\n",
       "    .dataframe tbody tr th:only-of-type {\n",
       "        vertical-align: middle;\n",
       "    }\n",
       "\n",
       "    .dataframe tbody tr th {\n",
       "        vertical-align: top;\n",
       "    }\n",
       "\n",
       "    .dataframe thead th {\n",
       "        text-align: right;\n",
       "    }\n",
       "</style>\n",
       "<table border=\"1\" class=\"dataframe\">\n",
       "  <thead>\n",
       "    <tr style=\"text-align: right;\">\n",
       "      <th></th>\n",
       "      <th>dep</th>\n",
       "      <th>jour</th>\n",
       "      <th>P</th>\n",
       "      <th>T</th>\n",
       "      <th>cl_age90</th>\n",
       "    </tr>\n",
       "  </thead>\n",
       "  <tbody>\n",
       "    <tr>\n",
       "      <th>0</th>\n",
       "      <td>01</td>\n",
       "      <td>2020-05-13</td>\n",
       "      <td>0</td>\n",
       "      <td>16</td>\n",
       "      <td>9</td>\n",
       "    </tr>\n",
       "    <tr>\n",
       "      <th>1</th>\n",
       "      <td>01</td>\n",
       "      <td>2020-05-13</td>\n",
       "      <td>1</td>\n",
       "      <td>16</td>\n",
       "      <td>19</td>\n",
       "    </tr>\n",
       "    <tr>\n",
       "      <th>2</th>\n",
       "      <td>01</td>\n",
       "      <td>2020-05-13</td>\n",
       "      <td>0</td>\n",
       "      <td>31</td>\n",
       "      <td>29</td>\n",
       "    </tr>\n",
       "    <tr>\n",
       "      <th>3</th>\n",
       "      <td>01</td>\n",
       "      <td>2020-05-13</td>\n",
       "      <td>1</td>\n",
       "      <td>71</td>\n",
       "      <td>39</td>\n",
       "    </tr>\n",
       "    <tr>\n",
       "      <th>4</th>\n",
       "      <td>01</td>\n",
       "      <td>2020-05-13</td>\n",
       "      <td>0</td>\n",
       "      <td>52</td>\n",
       "      <td>49</td>\n",
       "    </tr>\n",
       "    <tr>\n",
       "      <th>5</th>\n",
       "      <td>01</td>\n",
       "      <td>2020-05-13</td>\n",
       "      <td>0</td>\n",
       "      <td>40</td>\n",
       "      <td>59</td>\n",
       "    </tr>\n",
       "    <tr>\n",
       "      <th>6</th>\n",
       "      <td>01</td>\n",
       "      <td>2020-05-13</td>\n",
       "      <td>0</td>\n",
       "      <td>28</td>\n",
       "      <td>69</td>\n",
       "    </tr>\n",
       "    <tr>\n",
       "      <th>7</th>\n",
       "      <td>01</td>\n",
       "      <td>2020-05-13</td>\n",
       "      <td>1</td>\n",
       "      <td>29</td>\n",
       "      <td>79</td>\n",
       "    </tr>\n",
       "    <tr>\n",
       "      <th>8</th>\n",
       "      <td>01</td>\n",
       "      <td>2020-05-13</td>\n",
       "      <td>4</td>\n",
       "      <td>27</td>\n",
       "      <td>89</td>\n",
       "    </tr>\n",
       "    <tr>\n",
       "      <th>9</th>\n",
       "      <td>01</td>\n",
       "      <td>2020-05-13</td>\n",
       "      <td>2</td>\n",
       "      <td>13</td>\n",
       "      <td>90</td>\n",
       "    </tr>\n",
       "    <tr>\n",
       "      <th>10</th>\n",
       "      <td>01</td>\n",
       "      <td>2020-05-13</td>\n",
       "      <td>9</td>\n",
       "      <td>323</td>\n",
       "      <td>0</td>\n",
       "    </tr>\n",
       "    <tr>\n",
       "      <th>11</th>\n",
       "      <td>01</td>\n",
       "      <td>2020-05-14</td>\n",
       "      <td>0</td>\n",
       "      <td>27</td>\n",
       "      <td>9</td>\n",
       "    </tr>\n",
       "    <tr>\n",
       "      <th>12</th>\n",
       "      <td>01</td>\n",
       "      <td>2020-05-14</td>\n",
       "      <td>6</td>\n",
       "      <td>35</td>\n",
       "      <td>19</td>\n",
       "    </tr>\n",
       "    <tr>\n",
       "      <th>13</th>\n",
       "      <td>01</td>\n",
       "      <td>2020-05-14</td>\n",
       "      <td>1</td>\n",
       "      <td>43</td>\n",
       "      <td>29</td>\n",
       "    </tr>\n",
       "  </tbody>\n",
       "</table>\n",
       "</div>"
      ],
      "text/plain": [
       "   dep        jour  P    T  cl_age90\n",
       "0   01  2020-05-13  0   16         9\n",
       "1   01  2020-05-13  1   16        19\n",
       "2   01  2020-05-13  0   31        29\n",
       "3   01  2020-05-13  1   71        39\n",
       "4   01  2020-05-13  0   52        49\n",
       "5   01  2020-05-13  0   40        59\n",
       "6   01  2020-05-13  0   28        69\n",
       "7   01  2020-05-13  1   29        79\n",
       "8   01  2020-05-13  4   27        89\n",
       "9   01  2020-05-13  2   13        90\n",
       "10  01  2020-05-13  9  323         0\n",
       "11  01  2020-05-14  0   27         9\n",
       "12  01  2020-05-14  6   35        19\n",
       "13  01  2020-05-14  1   43        29"
      ]
     },
     "execution_count": 367,
     "metadata": {},
     "output_type": "execute_result"
    }
   ],
   "source": [
    "url_test2=\"https://www.data.gouv.fr/fr/datasets/r/406c6a23-e283-4300-9484-54e78c8ae675\"\n",
    "dtype={'dep': str,'P':int,'T':int,'cl_age':int}\n",
    "df_test2=pd.read_csv(url_test2,sep = ';',dtype=dtype)\n",
    "df_test2.head(14)"
   ]
  },
  {
   "cell_type": "markdown",
   "metadata": {},
   "source": [
    "* **clean dataset**"
   ]
  },
  {
   "cell_type": "code",
   "execution_count": 368,
   "metadata": {},
   "outputs": [],
   "source": [
    "#rename colums and drop cl_age90 column\n",
    "df_test2=df_test2.rename(columns={'P':'nb_pos','T':'nb_test'})\n",
    "df_test2=df_test2.drop(\"cl_age90\",axis=1)"
   ]
  },
  {
   "cell_type": "code",
   "execution_count": 369,
   "metadata": {},
   "outputs": [
    {
     "data": {
      "text/html": [
       "<div>\n",
       "<style scoped>\n",
       "    .dataframe tbody tr th:only-of-type {\n",
       "        vertical-align: middle;\n",
       "    }\n",
       "\n",
       "    .dataframe tbody tr th {\n",
       "        vertical-align: top;\n",
       "    }\n",
       "\n",
       "    .dataframe thead th {\n",
       "        text-align: right;\n",
       "    }\n",
       "</style>\n",
       "<table border=\"1\" class=\"dataframe\">\n",
       "  <thead>\n",
       "    <tr style=\"text-align: right;\">\n",
       "      <th></th>\n",
       "      <th>dep</th>\n",
       "      <th>jour</th>\n",
       "      <th>nb_pos</th>\n",
       "      <th>nb_test</th>\n",
       "    </tr>\n",
       "  </thead>\n",
       "  <tbody>\n",
       "    <tr>\n",
       "      <th>10</th>\n",
       "      <td>01</td>\n",
       "      <td>2020-05-13</td>\n",
       "      <td>9</td>\n",
       "      <td>323</td>\n",
       "    </tr>\n",
       "    <tr>\n",
       "      <th>21</th>\n",
       "      <td>01</td>\n",
       "      <td>2020-05-14</td>\n",
       "      <td>9</td>\n",
       "      <td>427</td>\n",
       "    </tr>\n",
       "    <tr>\n",
       "      <th>32</th>\n",
       "      <td>01</td>\n",
       "      <td>2020-05-15</td>\n",
       "      <td>5</td>\n",
       "      <td>437</td>\n",
       "    </tr>\n",
       "    <tr>\n",
       "      <th>43</th>\n",
       "      <td>01</td>\n",
       "      <td>2020-05-16</td>\n",
       "      <td>0</td>\n",
       "      <td>142</td>\n",
       "    </tr>\n",
       "    <tr>\n",
       "      <th>54</th>\n",
       "      <td>01</td>\n",
       "      <td>2020-05-17</td>\n",
       "      <td>0</td>\n",
       "      <td>30</td>\n",
       "    </tr>\n",
       "  </tbody>\n",
       "</table>\n",
       "</div>"
      ],
      "text/plain": [
       "   dep        jour  nb_pos  nb_test\n",
       "10  01  2020-05-13       9      323\n",
       "21  01  2020-05-14       9      427\n",
       "32  01  2020-05-15       5      437\n",
       "43  01  2020-05-16       0      142\n",
       "54  01  2020-05-17       0       30"
      ]
     },
     "execution_count": 369,
     "metadata": {},
     "output_type": "execute_result"
    }
   ],
   "source": [
    "#for each dep and date select the last row which is a sum of previous \n",
    "df_test2=df_test2.groupby([\"dep\",\"jour\"]).tail(1)\n",
    "df_test2.head()"
   ]
  },
  {
   "cell_type": "markdown",
   "metadata": {},
   "source": [
    "3. **Merge in one dataset**"
   ]
  },
  {
   "cell_type": "code",
   "execution_count": 370,
   "metadata": {},
   "outputs": [
    {
     "data": {
      "text/html": [
       "<div>\n",
       "<style scoped>\n",
       "    .dataframe tbody tr th:only-of-type {\n",
       "        vertical-align: middle;\n",
       "    }\n",
       "\n",
       "    .dataframe tbody tr th {\n",
       "        vertical-align: top;\n",
       "    }\n",
       "\n",
       "    .dataframe thead th {\n",
       "        text-align: right;\n",
       "    }\n",
       "</style>\n",
       "<table border=\"1\" class=\"dataframe\">\n",
       "  <thead>\n",
       "    <tr style=\"text-align: right;\">\n",
       "      <th></th>\n",
       "      <th>dep</th>\n",
       "      <th>jour</th>\n",
       "      <th>nb_test</th>\n",
       "      <th>nb_pos</th>\n",
       "      <th>nb_test_cum</th>\n",
       "      <th>nb_pos_cum</th>\n",
       "    </tr>\n",
       "  </thead>\n",
       "  <tbody>\n",
       "    <tr>\n",
       "      <th>0</th>\n",
       "      <td>01</td>\n",
       "      <td>2020-03-18</td>\n",
       "      <td>37</td>\n",
       "      <td>8</td>\n",
       "      <td>37</td>\n",
       "      <td>8</td>\n",
       "    </tr>\n",
       "    <tr>\n",
       "      <th>1</th>\n",
       "      <td>01</td>\n",
       "      <td>2020-03-19</td>\n",
       "      <td>82</td>\n",
       "      <td>13</td>\n",
       "      <td>119</td>\n",
       "      <td>21</td>\n",
       "    </tr>\n",
       "    <tr>\n",
       "      <th>2</th>\n",
       "      <td>01</td>\n",
       "      <td>2020-03-20</td>\n",
       "      <td>44</td>\n",
       "      <td>9</td>\n",
       "      <td>163</td>\n",
       "      <td>30</td>\n",
       "    </tr>\n",
       "    <tr>\n",
       "      <th>3</th>\n",
       "      <td>01</td>\n",
       "      <td>2020-03-21</td>\n",
       "      <td>13</td>\n",
       "      <td>1</td>\n",
       "      <td>176</td>\n",
       "      <td>31</td>\n",
       "    </tr>\n",
       "    <tr>\n",
       "      <th>4</th>\n",
       "      <td>01</td>\n",
       "      <td>2020-03-22</td>\n",
       "      <td>4</td>\n",
       "      <td>0</td>\n",
       "      <td>180</td>\n",
       "      <td>31</td>\n",
       "    </tr>\n",
       "  </tbody>\n",
       "</table>\n",
       "</div>"
      ],
      "text/plain": [
       "  dep        jour  nb_test  nb_pos  nb_test_cum  nb_pos_cum\n",
       "0  01  2020-03-18       37       8           37           8\n",
       "1  01  2020-03-19       82      13          119          21\n",
       "2  01  2020-03-20       44       9          163          30\n",
       "3  01  2020-03-21       13       1          176          31\n",
       "4  01  2020-03-22        4       0          180          31"
      ]
     },
     "execution_count": 370,
     "metadata": {},
     "output_type": "execute_result"
    }
   ],
   "source": [
    "df_test = pd.concat([df_test1,df_test2],ignore_index=True)\n",
    "#create accumulation columns for nb_test and nb_pos\n",
    "df_test['nb_test_cum']=df_test.groupby(\"dep\")['nb_test'].cumsum()\n",
    "df_test['nb_pos_cum']=df_test.groupby(\"dep\")['nb_pos'].cumsum()\n",
    "df_test.head()"
   ]
  },
  {
   "cell_type": "markdown",
   "metadata": {},
   "source": [
    "## **Hospital dataset**"
   ]
  },
  {
   "cell_type": "markdown",
   "metadata": {},
   "source": [
    "* **import dataset**"
   ]
  },
  {
   "cell_type": "code",
   "execution_count": 371,
   "metadata": {},
   "outputs": [
    {
     "data": {
      "text/html": [
       "<div>\n",
       "<style scoped>\n",
       "    .dataframe tbody tr th:only-of-type {\n",
       "        vertical-align: middle;\n",
       "    }\n",
       "\n",
       "    .dataframe tbody tr th {\n",
       "        vertical-align: top;\n",
       "    }\n",
       "\n",
       "    .dataframe thead th {\n",
       "        text-align: right;\n",
       "    }\n",
       "</style>\n",
       "<table border=\"1\" class=\"dataframe\">\n",
       "  <thead>\n",
       "    <tr style=\"text-align: right;\">\n",
       "      <th></th>\n",
       "      <th>dep</th>\n",
       "      <th>sexe</th>\n",
       "      <th>jour</th>\n",
       "      <th>hosp</th>\n",
       "      <th>rea</th>\n",
       "      <th>dc</th>\n",
       "      <th>rad</th>\n",
       "    </tr>\n",
       "  </thead>\n",
       "  <tbody>\n",
       "    <tr>\n",
       "      <th>0</th>\n",
       "      <td>01</td>\n",
       "      <td>0</td>\n",
       "      <td>2020-03-18</td>\n",
       "      <td>2</td>\n",
       "      <td>0</td>\n",
       "      <td>0</td>\n",
       "      <td>1</td>\n",
       "    </tr>\n",
       "    <tr>\n",
       "      <th>1</th>\n",
       "      <td>01</td>\n",
       "      <td>1</td>\n",
       "      <td>2020-03-18</td>\n",
       "      <td>1</td>\n",
       "      <td>0</td>\n",
       "      <td>0</td>\n",
       "      <td>1</td>\n",
       "    </tr>\n",
       "    <tr>\n",
       "      <th>2</th>\n",
       "      <td>01</td>\n",
       "      <td>2</td>\n",
       "      <td>2020-03-18</td>\n",
       "      <td>1</td>\n",
       "      <td>0</td>\n",
       "      <td>0</td>\n",
       "      <td>0</td>\n",
       "    </tr>\n",
       "    <tr>\n",
       "      <th>3</th>\n",
       "      <td>02</td>\n",
       "      <td>0</td>\n",
       "      <td>2020-03-18</td>\n",
       "      <td>41</td>\n",
       "      <td>10</td>\n",
       "      <td>11</td>\n",
       "      <td>18</td>\n",
       "    </tr>\n",
       "    <tr>\n",
       "      <th>4</th>\n",
       "      <td>02</td>\n",
       "      <td>1</td>\n",
       "      <td>2020-03-18</td>\n",
       "      <td>19</td>\n",
       "      <td>4</td>\n",
       "      <td>6</td>\n",
       "      <td>11</td>\n",
       "    </tr>\n",
       "  </tbody>\n",
       "</table>\n",
       "</div>"
      ],
      "text/plain": [
       "  dep  sexe        jour  hosp  rea  dc  rad\n",
       "0  01     0  2020-03-18     2    0   0    1\n",
       "1  01     1  2020-03-18     1    0   0    1\n",
       "2  01     2  2020-03-18     1    0   0    0\n",
       "3  02     0  2020-03-18    41   10  11   18\n",
       "4  02     1  2020-03-18    19    4   6   11"
      ]
     },
     "execution_count": 371,
     "metadata": {},
     "output_type": "execute_result"
    }
   ],
   "source": [
    "url2=\"https://www.data.gouv.fr/fr/datasets/r/63352e38-d353-4b54-bfd1-f1b3ee1cabd7\"\n",
    "df_hospital = pd.read_csv(url2,sep=';')\n",
    "df_hospital.head()"
   ]
  },
  {
   "cell_type": "markdown",
   "metadata": {},
   "source": [
    "* **clean dataset**"
   ]
  },
  {
   "cell_type": "code",
   "execution_count": 372,
   "metadata": {},
   "outputs": [
    {
     "data": {
      "text/html": [
       "<div>\n",
       "<style scoped>\n",
       "    .dataframe tbody tr th:only-of-type {\n",
       "        vertical-align: middle;\n",
       "    }\n",
       "\n",
       "    .dataframe tbody tr th {\n",
       "        vertical-align: top;\n",
       "    }\n",
       "\n",
       "    .dataframe thead th {\n",
       "        text-align: right;\n",
       "    }\n",
       "</style>\n",
       "<table border=\"1\" class=\"dataframe\">\n",
       "  <thead>\n",
       "    <tr style=\"text-align: right;\">\n",
       "      <th></th>\n",
       "      <th>dep</th>\n",
       "      <th>jour</th>\n",
       "      <th>hosp</th>\n",
       "      <th>rea</th>\n",
       "      <th>dc</th>\n",
       "      <th>rad</th>\n",
       "    </tr>\n",
       "  </thead>\n",
       "  <tbody>\n",
       "    <tr>\n",
       "      <th>0</th>\n",
       "      <td>01</td>\n",
       "      <td>2020-03-18</td>\n",
       "      <td>2</td>\n",
       "      <td>0</td>\n",
       "      <td>0</td>\n",
       "      <td>1</td>\n",
       "    </tr>\n",
       "    <tr>\n",
       "      <th>1</th>\n",
       "      <td>02</td>\n",
       "      <td>2020-03-18</td>\n",
       "      <td>41</td>\n",
       "      <td>10</td>\n",
       "      <td>11</td>\n",
       "      <td>18</td>\n",
       "    </tr>\n",
       "    <tr>\n",
       "      <th>2</th>\n",
       "      <td>03</td>\n",
       "      <td>2020-03-18</td>\n",
       "      <td>4</td>\n",
       "      <td>0</td>\n",
       "      <td>0</td>\n",
       "      <td>1</td>\n",
       "    </tr>\n",
       "    <tr>\n",
       "      <th>3</th>\n",
       "      <td>04</td>\n",
       "      <td>2020-03-18</td>\n",
       "      <td>3</td>\n",
       "      <td>1</td>\n",
       "      <td>0</td>\n",
       "      <td>2</td>\n",
       "    </tr>\n",
       "    <tr>\n",
       "      <th>4</th>\n",
       "      <td>05</td>\n",
       "      <td>2020-03-18</td>\n",
       "      <td>8</td>\n",
       "      <td>1</td>\n",
       "      <td>0</td>\n",
       "      <td>9</td>\n",
       "    </tr>\n",
       "  </tbody>\n",
       "</table>\n",
       "</div>"
      ],
      "text/plain": [
       "  dep        jour  hosp  rea  dc  rad\n",
       "0  01  2020-03-18     2    0   0    1\n",
       "1  02  2020-03-18    41   10  11   18\n",
       "2  03  2020-03-18     4    0   0    1\n",
       "3  04  2020-03-18     3    1   0    2\n",
       "4  05  2020-03-18     8    1   0    9"
      ]
     },
     "execution_count": 372,
     "metadata": {},
     "output_type": "execute_result"
    }
   ],
   "source": [
    "#Select only row where \"sex\"=0 (sum of \"sex\"=2 and \"sex\"=1 )\n",
    "df_hospital = df_hospital.drop(df_hospital[df_hospital[\"sexe\"]!=0 ].index).reset_index(drop=True)\n",
    "df_hospital = df_hospital.drop([\"sexe\"],axis=1)\n",
    "df_hospital.head()"
   ]
  },
  {
   "cell_type": "markdown",
   "metadata": {},
   "source": [
    "## **Create departement longitude/latitude Dataframe**"
   ]
  },
  {
   "cell_type": "markdown",
   "metadata": {},
   "source": [
    "Source: <a href=\"https://www.ign.fr/sites/default/files/2020-09/Quels%20sont%20les%20centres%20des%2096%20d%C3%A9partements%20m%C3%A9tropolitains.pdf\" target=\"_blank\">https://www.ign.fr/sites/default/files/2020-09/Quels%20sont%20les%20centres%20des%2096%20d%C3%A9partements%20m%C3%A9tropolitains.pdf</a>\n",
    "\n",
    "Source: <a href=\"https://www.coordonnees-gps.fr/\" target=\"_blank\">https://www.coordonnees-gps.fr/</a>"
   ]
  },
  {
   "cell_type": "code",
   "execution_count": 373,
   "metadata": {},
   "outputs": [
    {
     "name": "stdout",
     "output_type": "stream",
     "text": [
      "['01' '02' '03' '04' '05' '06' '07' '08' '09' '10' '11' '12' '13' '14'\n",
      " '15' '16' '17' '18' '19' '21' '22' '23' '24' '25' '26' '27' '28' '29'\n",
      " '2A' '2B' '30' '31' '32' '33' '34' '35' '36' '37' '38' '39' '40' '41'\n",
      " '42' '43' '44' '45' '46' '47' '48' '49' '50' '51' '52' '53' '54' '55'\n",
      " '56' '57' '58' '59' '60' '61' '62' '63' '64' '65' '66' '67' '68' '69'\n",
      " '70' '71' '72' '73' '74' '75' '76' '77' '78' '79' '80' '81' '82' '83'\n",
      " '84' '85' '86' '87' '88' '89' '90' '91' '92' '93' '94' '95' '971' '972'\n",
      " '973' '974' '976' '975' '977' '978']\n"
     ]
    }
   ],
   "source": [
    "departements= df_test[\"dep\"].unique()\n",
    "print(departements)"
   ]
  },
  {
   "cell_type": "code",
   "execution_count": 374,
   "metadata": {},
   "outputs": [],
   "source": [
    "#create zoom for scatter_mapbox\n",
    "zoom_dep=[7.5]*len(departements)"
   ]
  },
  {
   "cell_type": "code",
   "execution_count": 375,
   "metadata": {},
   "outputs": [],
   "source": [
    "#lat and long are the coordinates of the department center\n",
    "data={'dep':departements,\n",
    "      'dep_name':['Ain','Aisne','Allier','Alpes-de-Haute-Provence','Hautes-Alpes','Alpes_Maritimes','Ardeche','Ardennes','Ariege','Aube','Aude','Aveyron','Bouches-du-Rhône','Calvados','Cantal','Charente','Charente-Maritime','Cher','Correze',\"Côte-d'Or\",\"Côtes-D'Armor\",\"Creuse\",\"Dordogne\",\"Doubs\",\"Drome\",\"Eure\",\"Eure-et-Loire\",\"Finistère\",\"Corde-du-Sud\",\"Haute-Corse\",\"Gard\",\"Haute-Garonne\",\"Gers\",\"Gironde\",\"Hérault\",\"Ille-et-Vilaine\",\"Indre\",\"Indre-et-Loire\",\"Isère\",\"Jura\",\"Landes\",\"Loir-et-Cher\",\"Loire\",\"Haute-Loire\",\"Loire-Atlantique\",\"Loiret\",\"Lot\",\"Lot-et-Garonne\",\"Lozère\",\"Manne-et-Loire\",\"Manche\",\"Marne\",\"Haute-Marne\",\"Mayenne\",\"Meurthe-et-Moselle\",\"Meuse\",\"Morbihan\",\"Moselle\",\"Nièvre\",\"Nord\",\"Oise\",\"Orne\",\"Pas-de-Calais\",\"Puy-de-Dôme\",\"Pyrénées-Altantiques\",\"Hautes-Pyrénées\",\"Pyrénées-Orientales\",\"Bas-Rhin\",\"Haut-Rhin\",\"Rhone\",\"Haute-Saône\",\"Saône-et-Loire\",\"Sarthe\",\"Savoie\",\"Haute-Savoie\",\"Paris\",\"Seine-Maritime\",\"Seine-et-Marne\",\"Yvellines\",\"Deux-Sèvres\",\"Somme\",\"Tarn\",\"Tarn-et-Garonne\",\"Var\",\"Vaucluse\",\"Vendée\",\"Vienne\",\"Haute-Vienne\",\"Vosges\",\"Yonne\",\"Territoire de Belfort\",\"Essonne\",\"Hauts-de-Seine\",\"Seine-Saint_Denis\",\"Val-de-Marne\",\"Val-d'Oise\",\"Guadeloupe\",\"Martinique\",\"Guyane\",\"La Réunion\",\"Mayotte\",\"Saint-Pierre-et-Miquelon\",\"Saint-Barthélémy\",\"Saint-Martin\"],\n",
    "      'lat':[46.1,49.55,44.1,44.09,44.66,43.94,44.73,49.61,42.94,48.31,43.10,44.28,43.54,49.10,45.01,45.71,45.76,47.07,45.34,47.43,48.44,46.08,45.13,47.16,44.68,49.10,48.39,48.27,41.88,42.37,43.99,43.35,43.68,44.84,43.90,48.18,46.80,47.24,45.27,46.73,43.96,47.61,45.72,45.13,47.38,47.85,44.63,44.37,44.51,47.39,49.08,48.38,48.09,48.12,48.79,49.00,47.85,49.02,47.10,50.45,49.39,48.61,50.49,45.73,43.28,43.05,42.61,48.65,47.86,45.86,47.63,46.64,48.00,45.47,46.04,48.85,49.65,48.60,48.97,46.53,49.97,43.77,44.07,43.47,43.99,46.67,46.55,45.87,48.19,47.84,47.62,48.52,48.83,48.90,48.77,49.07,16.00,14.60,4.93,-20.88,-12.77,46.78,17.90,18.06],\n",
    "      'long':[5.33,3.56,2.35,6.23,6.21,7.12,4.41,4.61,1.53,4.14,2.35,2.72,5.03,-0.37,2.66,0.20,-0.71,2.52,1.81,4.78,-2.85,2.04,0.70,6.37,5.15,1.00,1.36,-4.04,8.97,9.23,4.17,1.23,0.45,-0.58,4.47,-1.64,1.62,0.69,5.61,5.69,-0.80,1.41,4.16,3.81,-1.71,2.26,1.59,0.46,3.49,-0.53,-1.34,7.47,5.15,-0.67,6.16,5.39,-2.83,6.65,3.51,3.20,2.42,0.11,2.27,3.14,-0.75,0.16,2.51,7.56,7.27,4.66,6.07,4.53,0.19,6.45,6.44,2.35,1.04,2.97,1.97,-0.32,2.29,2.18,1.28,6.18,5.14,-1.28,0.50,1.23,6.37,3.57,6.92,2.26,2.24,2.48,2.45,2.17,-61.73,-61.06,-52.32,55.45,45.22,-56.19,-62.81,-63.08],\n",
    "      'zoom':zoom_dep\n",
    "     }"
   ]
  },
  {
   "cell_type": "markdown",
   "metadata": {},
   "source": [
    "* **Create departments info dataframe**"
   ]
  },
  {
   "cell_type": "code",
   "execution_count": 376,
   "metadata": {},
   "outputs": [
    {
     "data": {
      "text/html": [
       "<div>\n",
       "<style scoped>\n",
       "    .dataframe tbody tr th:only-of-type {\n",
       "        vertical-align: middle;\n",
       "    }\n",
       "\n",
       "    .dataframe tbody tr th {\n",
       "        vertical-align: top;\n",
       "    }\n",
       "\n",
       "    .dataframe thead th {\n",
       "        text-align: right;\n",
       "    }\n",
       "</style>\n",
       "<table border=\"1\" class=\"dataframe\">\n",
       "  <thead>\n",
       "    <tr style=\"text-align: right;\">\n",
       "      <th></th>\n",
       "      <th>dep</th>\n",
       "      <th>dep_name</th>\n",
       "      <th>lat</th>\n",
       "      <th>long</th>\n",
       "      <th>zoom</th>\n",
       "    </tr>\n",
       "  </thead>\n",
       "  <tbody>\n",
       "    <tr>\n",
       "      <th>0</th>\n",
       "      <td>01</td>\n",
       "      <td>Ain</td>\n",
       "      <td>46.10</td>\n",
       "      <td>5.33</td>\n",
       "      <td>7.5</td>\n",
       "    </tr>\n",
       "    <tr>\n",
       "      <th>1</th>\n",
       "      <td>02</td>\n",
       "      <td>Aisne</td>\n",
       "      <td>49.55</td>\n",
       "      <td>3.56</td>\n",
       "      <td>7.5</td>\n",
       "    </tr>\n",
       "    <tr>\n",
       "      <th>2</th>\n",
       "      <td>03</td>\n",
       "      <td>Allier</td>\n",
       "      <td>44.10</td>\n",
       "      <td>2.35</td>\n",
       "      <td>7.5</td>\n",
       "    </tr>\n",
       "    <tr>\n",
       "      <th>3</th>\n",
       "      <td>04</td>\n",
       "      <td>Alpes-de-Haute-Provence</td>\n",
       "      <td>44.09</td>\n",
       "      <td>6.23</td>\n",
       "      <td>7.5</td>\n",
       "    </tr>\n",
       "    <tr>\n",
       "      <th>4</th>\n",
       "      <td>05</td>\n",
       "      <td>Hautes-Alpes</td>\n",
       "      <td>44.66</td>\n",
       "      <td>6.21</td>\n",
       "      <td>7.5</td>\n",
       "    </tr>\n",
       "  </tbody>\n",
       "</table>\n",
       "</div>"
      ],
      "text/plain": [
       "  dep                 dep_name    lat  long  zoom\n",
       "0  01                      Ain  46.10  5.33   7.5\n",
       "1  02                    Aisne  49.55  3.56   7.5\n",
       "2  03                   Allier  44.10  2.35   7.5\n",
       "3  04  Alpes-de-Haute-Provence  44.09  6.23   7.5\n",
       "4  05             Hautes-Alpes  44.66  6.21   7.5"
      ]
     },
     "execution_count": 376,
     "metadata": {},
     "output_type": "execute_result"
    }
   ],
   "source": [
    "df_coord = pd.DataFrame(data,columns=['dep','dep_name','lat','long','zoom'])\n",
    "df_coord.head()"
   ]
  },
  {
   "cell_type": "markdown",
   "metadata": {},
   "source": [
    "## **Complete Dataset**"
   ]
  },
  {
   "cell_type": "markdown",
   "metadata": {},
   "source": [
    "* **merge all datasets**"
   ]
  },
  {
   "cell_type": "code",
   "execution_count": 377,
   "metadata": {},
   "outputs": [],
   "source": [
    "df_dep = pd.merge(df_hospital,df_test,on=['dep','jour'])\n",
    "df_dep = pd.merge(df_dep,df_coord,on=['dep'])"
   ]
  },
  {
   "cell_type": "code",
   "execution_count": 378,
   "metadata": {},
   "outputs": [
    {
     "data": {
      "text/html": [
       "<div>\n",
       "<style scoped>\n",
       "    .dataframe tbody tr th:only-of-type {\n",
       "        vertical-align: middle;\n",
       "    }\n",
       "\n",
       "    .dataframe tbody tr th {\n",
       "        vertical-align: top;\n",
       "    }\n",
       "\n",
       "    .dataframe thead th {\n",
       "        text-align: right;\n",
       "    }\n",
       "</style>\n",
       "<table border=\"1\" class=\"dataframe\">\n",
       "  <thead>\n",
       "    <tr style=\"text-align: right;\">\n",
       "      <th></th>\n",
       "      <th>dep</th>\n",
       "      <th>jour</th>\n",
       "      <th>hosp</th>\n",
       "      <th>rea</th>\n",
       "      <th>dc</th>\n",
       "      <th>rad</th>\n",
       "      <th>nb_test</th>\n",
       "      <th>nb_pos</th>\n",
       "      <th>nb_test_cum</th>\n",
       "      <th>nb_pos_cum</th>\n",
       "      <th>dep_name</th>\n",
       "      <th>lat</th>\n",
       "      <th>long</th>\n",
       "      <th>zoom</th>\n",
       "    </tr>\n",
       "  </thead>\n",
       "  <tbody>\n",
       "    <tr>\n",
       "      <th>0</th>\n",
       "      <td>01</td>\n",
       "      <td>2020-03-18</td>\n",
       "      <td>2</td>\n",
       "      <td>0</td>\n",
       "      <td>0</td>\n",
       "      <td>1</td>\n",
       "      <td>37</td>\n",
       "      <td>8</td>\n",
       "      <td>37</td>\n",
       "      <td>8</td>\n",
       "      <td>Ain</td>\n",
       "      <td>46.1</td>\n",
       "      <td>5.33</td>\n",
       "      <td>7.5</td>\n",
       "    </tr>\n",
       "    <tr>\n",
       "      <th>1</th>\n",
       "      <td>01</td>\n",
       "      <td>2020-03-19</td>\n",
       "      <td>2</td>\n",
       "      <td>0</td>\n",
       "      <td>0</td>\n",
       "      <td>1</td>\n",
       "      <td>82</td>\n",
       "      <td>13</td>\n",
       "      <td>119</td>\n",
       "      <td>21</td>\n",
       "      <td>Ain</td>\n",
       "      <td>46.1</td>\n",
       "      <td>5.33</td>\n",
       "      <td>7.5</td>\n",
       "    </tr>\n",
       "    <tr>\n",
       "      <th>2</th>\n",
       "      <td>01</td>\n",
       "      <td>2020-03-20</td>\n",
       "      <td>2</td>\n",
       "      <td>0</td>\n",
       "      <td>0</td>\n",
       "      <td>1</td>\n",
       "      <td>44</td>\n",
       "      <td>9</td>\n",
       "      <td>163</td>\n",
       "      <td>30</td>\n",
       "      <td>Ain</td>\n",
       "      <td>46.1</td>\n",
       "      <td>5.33</td>\n",
       "      <td>7.5</td>\n",
       "    </tr>\n",
       "    <tr>\n",
       "      <th>3</th>\n",
       "      <td>01</td>\n",
       "      <td>2020-03-21</td>\n",
       "      <td>4</td>\n",
       "      <td>0</td>\n",
       "      <td>0</td>\n",
       "      <td>1</td>\n",
       "      <td>13</td>\n",
       "      <td>1</td>\n",
       "      <td>176</td>\n",
       "      <td>31</td>\n",
       "      <td>Ain</td>\n",
       "      <td>46.1</td>\n",
       "      <td>5.33</td>\n",
       "      <td>7.5</td>\n",
       "    </tr>\n",
       "    <tr>\n",
       "      <th>4</th>\n",
       "      <td>01</td>\n",
       "      <td>2020-03-22</td>\n",
       "      <td>8</td>\n",
       "      <td>1</td>\n",
       "      <td>0</td>\n",
       "      <td>2</td>\n",
       "      <td>4</td>\n",
       "      <td>0</td>\n",
       "      <td>180</td>\n",
       "      <td>31</td>\n",
       "      <td>Ain</td>\n",
       "      <td>46.1</td>\n",
       "      <td>5.33</td>\n",
       "      <td>7.5</td>\n",
       "    </tr>\n",
       "  </tbody>\n",
       "</table>\n",
       "</div>"
      ],
      "text/plain": [
       "  dep        jour  hosp  rea  dc  rad  nb_test  nb_pos  nb_test_cum  \\\n",
       "0  01  2020-03-18     2    0   0    1       37       8           37   \n",
       "1  01  2020-03-19     2    0   0    1       82      13          119   \n",
       "2  01  2020-03-20     2    0   0    1       44       9          163   \n",
       "3  01  2020-03-21     4    0   0    1       13       1          176   \n",
       "4  01  2020-03-22     8    1   0    2        4       0          180   \n",
       "\n",
       "   nb_pos_cum dep_name   lat  long  zoom  \n",
       "0           8      Ain  46.1  5.33   7.5  \n",
       "1          21      Ain  46.1  5.33   7.5  \n",
       "2          30      Ain  46.1  5.33   7.5  \n",
       "3          31      Ain  46.1  5.33   7.5  \n",
       "4          31      Ain  46.1  5.33   7.5  "
      ]
     },
     "execution_count": 378,
     "metadata": {},
     "output_type": "execute_result"
    }
   ],
   "source": [
    "#sort by departements and date\n",
    "df_dep=df_dep.sort_values(['dep','jour'])\n",
    "df_dep.head()"
   ]
  },
  {
   "cell_type": "markdown",
   "metadata": {},
   "source": [
    "* **create new columns**"
   ]
  },
  {
   "cell_type": "code",
   "execution_count": 379,
   "metadata": {},
   "outputs": [],
   "source": [
    "#scale for scatter mapbox\n",
    "df_dep[\"scaled\"] = df_dep[\"nb_pos_cum\"] ** 0.77"
   ]
  },
  {
   "cell_type": "code",
   "execution_count": 380,
   "metadata": {},
   "outputs": [
    {
     "data": {
      "text/html": [
       "<div>\n",
       "<style scoped>\n",
       "    .dataframe tbody tr th:only-of-type {\n",
       "        vertical-align: middle;\n",
       "    }\n",
       "\n",
       "    .dataframe tbody tr th {\n",
       "        vertical-align: top;\n",
       "    }\n",
       "\n",
       "    .dataframe thead th {\n",
       "        text-align: right;\n",
       "    }\n",
       "</style>\n",
       "<table border=\"1\" class=\"dataframe\">\n",
       "  <thead>\n",
       "    <tr style=\"text-align: right;\">\n",
       "      <th></th>\n",
       "      <th>dep</th>\n",
       "      <th>jour</th>\n",
       "      <th>hosp</th>\n",
       "      <th>rea</th>\n",
       "      <th>dc</th>\n",
       "      <th>rad</th>\n",
       "      <th>nb_test</th>\n",
       "      <th>nb_pos</th>\n",
       "      <th>nb_test_cum</th>\n",
       "      <th>nb_pos_cum</th>\n",
       "      <th>dep_name</th>\n",
       "      <th>lat</th>\n",
       "      <th>long</th>\n",
       "      <th>zoom</th>\n",
       "      <th>scaled</th>\n",
       "      <th>death_rate</th>\n",
       "      <th>new_death_rate</th>\n",
       "    </tr>\n",
       "  </thead>\n",
       "  <tbody>\n",
       "    <tr>\n",
       "      <th>0</th>\n",
       "      <td>01</td>\n",
       "      <td>2020-03-18</td>\n",
       "      <td>2</td>\n",
       "      <td>0</td>\n",
       "      <td>0</td>\n",
       "      <td>1</td>\n",
       "      <td>37</td>\n",
       "      <td>8</td>\n",
       "      <td>37</td>\n",
       "      <td>8</td>\n",
       "      <td>Ain</td>\n",
       "      <td>46.1</td>\n",
       "      <td>5.33</td>\n",
       "      <td>7.5</td>\n",
       "      <td>4.958831</td>\n",
       "      <td>0.0</td>\n",
       "      <td>0.0</td>\n",
       "    </tr>\n",
       "    <tr>\n",
       "      <th>1</th>\n",
       "      <td>01</td>\n",
       "      <td>2020-03-19</td>\n",
       "      <td>2</td>\n",
       "      <td>0</td>\n",
       "      <td>0</td>\n",
       "      <td>1</td>\n",
       "      <td>82</td>\n",
       "      <td>13</td>\n",
       "      <td>119</td>\n",
       "      <td>21</td>\n",
       "      <td>Ain</td>\n",
       "      <td>46.1</td>\n",
       "      <td>5.33</td>\n",
       "      <td>7.5</td>\n",
       "      <td>10.425787</td>\n",
       "      <td>0.0</td>\n",
       "      <td>0.0</td>\n",
       "    </tr>\n",
       "    <tr>\n",
       "      <th>2</th>\n",
       "      <td>01</td>\n",
       "      <td>2020-03-20</td>\n",
       "      <td>2</td>\n",
       "      <td>0</td>\n",
       "      <td>0</td>\n",
       "      <td>1</td>\n",
       "      <td>44</td>\n",
       "      <td>9</td>\n",
       "      <td>163</td>\n",
       "      <td>30</td>\n",
       "      <td>Ain</td>\n",
       "      <td>46.1</td>\n",
       "      <td>5.33</td>\n",
       "      <td>7.5</td>\n",
       "      <td>13.720924</td>\n",
       "      <td>0.0</td>\n",
       "      <td>0.0</td>\n",
       "    </tr>\n",
       "    <tr>\n",
       "      <th>3</th>\n",
       "      <td>01</td>\n",
       "      <td>2020-03-21</td>\n",
       "      <td>4</td>\n",
       "      <td>0</td>\n",
       "      <td>0</td>\n",
       "      <td>1</td>\n",
       "      <td>13</td>\n",
       "      <td>1</td>\n",
       "      <td>176</td>\n",
       "      <td>31</td>\n",
       "      <td>Ain</td>\n",
       "      <td>46.1</td>\n",
       "      <td>5.33</td>\n",
       "      <td>7.5</td>\n",
       "      <td>14.071763</td>\n",
       "      <td>0.0</td>\n",
       "      <td>0.0</td>\n",
       "    </tr>\n",
       "    <tr>\n",
       "      <th>4</th>\n",
       "      <td>01</td>\n",
       "      <td>2020-03-22</td>\n",
       "      <td>8</td>\n",
       "      <td>1</td>\n",
       "      <td>0</td>\n",
       "      <td>2</td>\n",
       "      <td>4</td>\n",
       "      <td>0</td>\n",
       "      <td>180</td>\n",
       "      <td>31</td>\n",
       "      <td>Ain</td>\n",
       "      <td>46.1</td>\n",
       "      <td>5.33</td>\n",
       "      <td>7.5</td>\n",
       "      <td>14.071763</td>\n",
       "      <td>0.0</td>\n",
       "      <td>0.0</td>\n",
       "    </tr>\n",
       "  </tbody>\n",
       "</table>\n",
       "</div>"
      ],
      "text/plain": [
       "  dep        jour  hosp  rea  dc  rad  nb_test  nb_pos  nb_test_cum  \\\n",
       "0  01  2020-03-18     2    0   0    1       37       8           37   \n",
       "1  01  2020-03-19     2    0   0    1       82      13          119   \n",
       "2  01  2020-03-20     2    0   0    1       44       9          163   \n",
       "3  01  2020-03-21     4    0   0    1       13       1          176   \n",
       "4  01  2020-03-22     8    1   0    2        4       0          180   \n",
       "\n",
       "   nb_pos_cum dep_name   lat  long  zoom     scaled  death_rate  \\\n",
       "0           8      Ain  46.1  5.33   7.5   4.958831         0.0   \n",
       "1          21      Ain  46.1  5.33   7.5  10.425787         0.0   \n",
       "2          30      Ain  46.1  5.33   7.5  13.720924         0.0   \n",
       "3          31      Ain  46.1  5.33   7.5  14.071763         0.0   \n",
       "4          31      Ain  46.1  5.33   7.5  14.071763         0.0   \n",
       "\n",
       "   new_death_rate  \n",
       "0             0.0  \n",
       "1             0.0  \n",
       "2             0.0  \n",
       "3             0.0  \n",
       "4             0.0  "
      ]
     },
     "execution_count": 380,
     "metadata": {},
     "output_type": "execute_result"
    }
   ],
   "source": [
    "#create death rate and new death rate columns\n",
    "df_dep['death_rate']=round(df_dep['dc']/df_dep['nb_pos_cum']*100,2)\n",
    "df_dep[\"new_death_rate\"]=df_dep.groupby(\"dep\")[\"death_rate\"].apply(lambda row: round(row-(row.shift(1)),2))\n",
    "df_dep[\"new_death_rate\"].fillna(df_dep[\"death_rate\"], inplace = True) # first date, new_death_rate = death rate\n",
    "df_dep.head()"
   ]
  },
  {
   "cell_type": "code",
   "execution_count": 381,
   "metadata": {},
   "outputs": [
    {
     "data": {
      "text/html": [
       "<div>\n",
       "<style scoped>\n",
       "    .dataframe tbody tr th:only-of-type {\n",
       "        vertical-align: middle;\n",
       "    }\n",
       "\n",
       "    .dataframe tbody tr th {\n",
       "        vertical-align: top;\n",
       "    }\n",
       "\n",
       "    .dataframe thead th {\n",
       "        text-align: right;\n",
       "    }\n",
       "</style>\n",
       "<table border=\"1\" class=\"dataframe\">\n",
       "  <thead>\n",
       "    <tr style=\"text-align: right;\">\n",
       "      <th></th>\n",
       "      <th>dep</th>\n",
       "      <th>jour</th>\n",
       "      <th>hosp</th>\n",
       "      <th>rea</th>\n",
       "      <th>dc</th>\n",
       "      <th>rad</th>\n",
       "      <th>nb_test</th>\n",
       "      <th>nb_pos</th>\n",
       "      <th>nb_test_cum</th>\n",
       "      <th>nb_pos_cum</th>\n",
       "      <th>dep_name</th>\n",
       "      <th>lat</th>\n",
       "      <th>long</th>\n",
       "      <th>zoom</th>\n",
       "      <th>scaled</th>\n",
       "      <th>death_rate</th>\n",
       "      <th>new_death_rate</th>\n",
       "      <th>new_dc</th>\n",
       "    </tr>\n",
       "  </thead>\n",
       "  <tbody>\n",
       "    <tr>\n",
       "      <th>0</th>\n",
       "      <td>01</td>\n",
       "      <td>2020-03-18</td>\n",
       "      <td>2</td>\n",
       "      <td>0</td>\n",
       "      <td>0</td>\n",
       "      <td>1</td>\n",
       "      <td>37</td>\n",
       "      <td>8</td>\n",
       "      <td>37</td>\n",
       "      <td>8</td>\n",
       "      <td>Ain</td>\n",
       "      <td>46.1</td>\n",
       "      <td>5.33</td>\n",
       "      <td>7.5</td>\n",
       "      <td>4.958831</td>\n",
       "      <td>0.0</td>\n",
       "      <td>0.0</td>\n",
       "      <td>0.0</td>\n",
       "    </tr>\n",
       "    <tr>\n",
       "      <th>1</th>\n",
       "      <td>01</td>\n",
       "      <td>2020-03-19</td>\n",
       "      <td>2</td>\n",
       "      <td>0</td>\n",
       "      <td>0</td>\n",
       "      <td>1</td>\n",
       "      <td>82</td>\n",
       "      <td>13</td>\n",
       "      <td>119</td>\n",
       "      <td>21</td>\n",
       "      <td>Ain</td>\n",
       "      <td>46.1</td>\n",
       "      <td>5.33</td>\n",
       "      <td>7.5</td>\n",
       "      <td>10.425787</td>\n",
       "      <td>0.0</td>\n",
       "      <td>0.0</td>\n",
       "      <td>0.0</td>\n",
       "    </tr>\n",
       "    <tr>\n",
       "      <th>2</th>\n",
       "      <td>01</td>\n",
       "      <td>2020-03-20</td>\n",
       "      <td>2</td>\n",
       "      <td>0</td>\n",
       "      <td>0</td>\n",
       "      <td>1</td>\n",
       "      <td>44</td>\n",
       "      <td>9</td>\n",
       "      <td>163</td>\n",
       "      <td>30</td>\n",
       "      <td>Ain</td>\n",
       "      <td>46.1</td>\n",
       "      <td>5.33</td>\n",
       "      <td>7.5</td>\n",
       "      <td>13.720924</td>\n",
       "      <td>0.0</td>\n",
       "      <td>0.0</td>\n",
       "      <td>0.0</td>\n",
       "    </tr>\n",
       "    <tr>\n",
       "      <th>3</th>\n",
       "      <td>01</td>\n",
       "      <td>2020-03-21</td>\n",
       "      <td>4</td>\n",
       "      <td>0</td>\n",
       "      <td>0</td>\n",
       "      <td>1</td>\n",
       "      <td>13</td>\n",
       "      <td>1</td>\n",
       "      <td>176</td>\n",
       "      <td>31</td>\n",
       "      <td>Ain</td>\n",
       "      <td>46.1</td>\n",
       "      <td>5.33</td>\n",
       "      <td>7.5</td>\n",
       "      <td>14.071763</td>\n",
       "      <td>0.0</td>\n",
       "      <td>0.0</td>\n",
       "      <td>0.0</td>\n",
       "    </tr>\n",
       "    <tr>\n",
       "      <th>4</th>\n",
       "      <td>01</td>\n",
       "      <td>2020-03-22</td>\n",
       "      <td>8</td>\n",
       "      <td>1</td>\n",
       "      <td>0</td>\n",
       "      <td>2</td>\n",
       "      <td>4</td>\n",
       "      <td>0</td>\n",
       "      <td>180</td>\n",
       "      <td>31</td>\n",
       "      <td>Ain</td>\n",
       "      <td>46.1</td>\n",
       "      <td>5.33</td>\n",
       "      <td>7.5</td>\n",
       "      <td>14.071763</td>\n",
       "      <td>0.0</td>\n",
       "      <td>0.0</td>\n",
       "      <td>0.0</td>\n",
       "    </tr>\n",
       "  </tbody>\n",
       "</table>\n",
       "</div>"
      ],
      "text/plain": [
       "  dep        jour  hosp  rea  dc  rad  nb_test  nb_pos  nb_test_cum  \\\n",
       "0  01  2020-03-18     2    0   0    1       37       8           37   \n",
       "1  01  2020-03-19     2    0   0    1       82      13          119   \n",
       "2  01  2020-03-20     2    0   0    1       44       9          163   \n",
       "3  01  2020-03-21     4    0   0    1       13       1          176   \n",
       "4  01  2020-03-22     8    1   0    2        4       0          180   \n",
       "\n",
       "   nb_pos_cum dep_name   lat  long  zoom     scaled  death_rate  \\\n",
       "0           8      Ain  46.1  5.33   7.5   4.958831         0.0   \n",
       "1          21      Ain  46.1  5.33   7.5  10.425787         0.0   \n",
       "2          30      Ain  46.1  5.33   7.5  13.720924         0.0   \n",
       "3          31      Ain  46.1  5.33   7.5  14.071763         0.0   \n",
       "4          31      Ain  46.1  5.33   7.5  14.071763         0.0   \n",
       "\n",
       "   new_death_rate  new_dc  \n",
       "0             0.0     0.0  \n",
       "1             0.0     0.0  \n",
       "2             0.0     0.0  \n",
       "3             0.0     0.0  \n",
       "4             0.0     0.0  "
      ]
     },
     "execution_count": 381,
     "metadata": {},
     "output_type": "execute_result"
    }
   ],
   "source": [
    "#create new deaths by day\n",
    "df_dep[\"new_dc\"]=df_dep.groupby(\"dep\")[\"dc\"].apply(lambda row: row-(row.shift(1)))\n",
    "df_dep[\"new_dc\"].fillna(df_dep[\"dc\"], inplace = True) # first date, new_dc = dc\n",
    "df_dep.head()"
   ]
  },
  {
   "cell_type": "markdown",
   "metadata": {},
   "source": [
    "* **select last day for each department**"
   ]
  },
  {
   "cell_type": "code",
   "execution_count": 382,
   "metadata": {},
   "outputs": [
    {
     "data": {
      "text/html": [
       "<div>\n",
       "<style scoped>\n",
       "    .dataframe tbody tr th:only-of-type {\n",
       "        vertical-align: middle;\n",
       "    }\n",
       "\n",
       "    .dataframe tbody tr th {\n",
       "        vertical-align: top;\n",
       "    }\n",
       "\n",
       "    .dataframe thead th {\n",
       "        text-align: right;\n",
       "    }\n",
       "</style>\n",
       "<table border=\"1\" class=\"dataframe\">\n",
       "  <thead>\n",
       "    <tr style=\"text-align: right;\">\n",
       "      <th></th>\n",
       "      <th>dep</th>\n",
       "      <th>jour</th>\n",
       "      <th>hosp</th>\n",
       "      <th>rea</th>\n",
       "      <th>dc</th>\n",
       "      <th>rad</th>\n",
       "      <th>nb_test</th>\n",
       "      <th>nb_pos</th>\n",
       "      <th>nb_test_cum</th>\n",
       "      <th>nb_pos_cum</th>\n",
       "      <th>dep_name</th>\n",
       "      <th>lat</th>\n",
       "      <th>long</th>\n",
       "      <th>zoom</th>\n",
       "      <th>scaled</th>\n",
       "      <th>death_rate</th>\n",
       "      <th>new_death_rate</th>\n",
       "      <th>new_dc</th>\n",
       "    </tr>\n",
       "  </thead>\n",
       "  <tbody>\n",
       "    <tr>\n",
       "      <th>0</th>\n",
       "      <td>01</td>\n",
       "      <td>2020-11-12</td>\n",
       "      <td>442</td>\n",
       "      <td>35</td>\n",
       "      <td>199</td>\n",
       "      <td>880</td>\n",
       "      <td>2600</td>\n",
       "      <td>556</td>\n",
       "      <td>175734</td>\n",
       "      <td>26529</td>\n",
       "      <td>Ain</td>\n",
       "      <td>46.10</td>\n",
       "      <td>5.33</td>\n",
       "      <td>7.5</td>\n",
       "      <td>2548.385219</td>\n",
       "      <td>0.75</td>\n",
       "      <td>0.00</td>\n",
       "      <td>5.0</td>\n",
       "    </tr>\n",
       "    <tr>\n",
       "      <th>1</th>\n",
       "      <td>02</td>\n",
       "      <td>2020-11-12</td>\n",
       "      <td>238</td>\n",
       "      <td>31</td>\n",
       "      <td>345</td>\n",
       "      <td>1434</td>\n",
       "      <td>1701</td>\n",
       "      <td>223</td>\n",
       "      <td>105020</td>\n",
       "      <td>9324</td>\n",
       "      <td>Aisne</td>\n",
       "      <td>49.55</td>\n",
       "      <td>3.56</td>\n",
       "      <td>7.5</td>\n",
       "      <td>1139.183652</td>\n",
       "      <td>3.70</td>\n",
       "      <td>-0.08</td>\n",
       "      <td>1.0</td>\n",
       "    </tr>\n",
       "    <tr>\n",
       "      <th>2</th>\n",
       "      <td>03</td>\n",
       "      <td>2020-11-12</td>\n",
       "      <td>249</td>\n",
       "      <td>25</td>\n",
       "      <td>124</td>\n",
       "      <td>521</td>\n",
       "      <td>1381</td>\n",
       "      <td>282</td>\n",
       "      <td>80547</td>\n",
       "      <td>7170</td>\n",
       "      <td>Allier</td>\n",
       "      <td>44.10</td>\n",
       "      <td>2.35</td>\n",
       "      <td>7.5</td>\n",
       "      <td>930.571505</td>\n",
       "      <td>1.73</td>\n",
       "      <td>-0.04</td>\n",
       "      <td>2.0</td>\n",
       "    </tr>\n",
       "    <tr>\n",
       "      <th>3</th>\n",
       "      <td>04</td>\n",
       "      <td>2020-11-12</td>\n",
       "      <td>121</td>\n",
       "      <td>13</td>\n",
       "      <td>35</td>\n",
       "      <td>263</td>\n",
       "      <td>358</td>\n",
       "      <td>42</td>\n",
       "      <td>41987</td>\n",
       "      <td>3355</td>\n",
       "      <td>Alpes-de-Haute-Provence</td>\n",
       "      <td>44.09</td>\n",
       "      <td>6.23</td>\n",
       "      <td>7.5</td>\n",
       "      <td>518.541171</td>\n",
       "      <td>1.04</td>\n",
       "      <td>0.01</td>\n",
       "      <td>1.0</td>\n",
       "    </tr>\n",
       "    <tr>\n",
       "      <th>4</th>\n",
       "      <td>05</td>\n",
       "      <td>2020-11-12</td>\n",
       "      <td>174</td>\n",
       "      <td>21</td>\n",
       "      <td>51</td>\n",
       "      <td>297</td>\n",
       "      <td>360</td>\n",
       "      <td>69</td>\n",
       "      <td>31012</td>\n",
       "      <td>4396</td>\n",
       "      <td>Hautes-Alpes</td>\n",
       "      <td>44.66</td>\n",
       "      <td>6.21</td>\n",
       "      <td>7.5</td>\n",
       "      <td>638.490466</td>\n",
       "      <td>1.16</td>\n",
       "      <td>0.00</td>\n",
       "      <td>1.0</td>\n",
       "    </tr>\n",
       "  </tbody>\n",
       "</table>\n",
       "</div>"
      ],
      "text/plain": [
       "  dep        jour  hosp  rea   dc   rad  nb_test  nb_pos  nb_test_cum  \\\n",
       "0  01  2020-11-12   442   35  199   880     2600     556       175734   \n",
       "1  02  2020-11-12   238   31  345  1434     1701     223       105020   \n",
       "2  03  2020-11-12   249   25  124   521     1381     282        80547   \n",
       "3  04  2020-11-12   121   13   35   263      358      42        41987   \n",
       "4  05  2020-11-12   174   21   51   297      360      69        31012   \n",
       "\n",
       "   nb_pos_cum                 dep_name    lat  long  zoom       scaled  \\\n",
       "0       26529                      Ain  46.10  5.33   7.5  2548.385219   \n",
       "1        9324                    Aisne  49.55  3.56   7.5  1139.183652   \n",
       "2        7170                   Allier  44.10  2.35   7.5   930.571505   \n",
       "3        3355  Alpes-de-Haute-Provence  44.09  6.23   7.5   518.541171   \n",
       "4        4396             Hautes-Alpes  44.66  6.21   7.5   638.490466   \n",
       "\n",
       "   death_rate  new_death_rate  new_dc  \n",
       "0        0.75            0.00     5.0  \n",
       "1        3.70           -0.08     1.0  \n",
       "2        1.73           -0.04     2.0  \n",
       "3        1.04            0.01     1.0  \n",
       "4        1.16            0.00     1.0  "
      ]
     },
     "execution_count": 382,
     "metadata": {},
     "output_type": "execute_result"
    }
   ],
   "source": [
    "df_last_update=df_dep.groupby(\"dep\").tail(1).reset_index(drop=True)\n",
    "df_last_update.head()"
   ]
  },
  {
   "cell_type": "code",
   "execution_count": 383,
   "metadata": {},
   "outputs": [
    {
     "name": "stdout",
     "output_type": "stream",
     "text": [
      "-0.08\n"
     ]
    }
   ],
   "source": [
    "#some tests\n",
    "n=df_last_update.loc[df_last_update[\"dep_name\"]==\"Aisne\"]\n",
    "print(n.iloc[0][\"new_death_rate\"])"
   ]
  },
  {
   "cell_type": "markdown",
   "metadata": {},
   "source": [
    "## **France dataset**"
   ]
  },
  {
   "cell_type": "code",
   "execution_count": 384,
   "metadata": {},
   "outputs": [],
   "source": [
    "df_france=df_dep.groupby(\"jour\").sum().reset_index()\n",
    "df_france['death_rate']=round(df_france['dc']/df_france['nb_pos_cum']*100,2)\n",
    "df_france['new_death_rate']=round(df_france.death_rate-df_france.death_rate.shift(1),2)\n",
    "df_france[\"new_death_rate\"].fillna(df_france[\"death_rate\"], inplace = True) # first date, new_death_rate = death rate\n",
    "df_france[\"lat\"]=46.40\n",
    "df_france[\"long\"]=0.5\n",
    "df_france[\"zoom\"]=3.5"
   ]
  },
  {
   "cell_type": "markdown",
   "metadata": {},
   "source": [
    "## **Plot Figures**"
   ]
  },
  {
   "cell_type": "markdown",
   "metadata": {},
   "source": [
    "### **Map**"
   ]
  },
  {
   "cell_type": "code",
   "execution_count": 385,
   "metadata": {},
   "outputs": [],
   "source": [
    "color_scale = [\"#fadc8f\",\n",
    "        \"#f9d67a\",\n",
    "        \"#f8d066\",\n",
    "        \"#f8c952\",\n",
    "        \"#f7c33d\",\n",
    "        \"#f6bd29\",\n",
    "        \"#f5b614\",\n",
    "        \"#F4B000\",\n",
    "        \"#eaa900\",\n",
    "        \"#e0a200\",\n",
    "        \"#dc9e00\",]\n",
    "\n"
   ]
  },
  {
   "cell_type": "code",
   "execution_count": 386,
   "metadata": {},
   "outputs": [],
   "source": [
    "px.set_mapbox_access_token(MAPBOX_ACCESS_TOKEN)"
   ]
  },
  {
   "cell_type": "code",
   "execution_count": 387,
   "metadata": {},
   "outputs": [],
   "source": [
    "def plot_map(lat=46.4,lon=0.5,zoom=3.5):    \n",
    "    fig = px.scatter_mapbox(\n",
    "        df_last_update,\n",
    "        lat = \"lat\",\n",
    "        lon = \"long\",\n",
    "        color = \"nb_pos_cum\",\n",
    "        size=\"scaled\",\n",
    "        size_max = 35,\n",
    "        hover_name = \"dep_name\",\n",
    "        hover_data = [\"nb_pos_cum\",\"dc\",\"death_rate\",\"dep_name\"],\n",
    "        color_continuous_scale = color_scale,\n",
    "    )\n",
    "\n",
    "    fig.layout.update(\n",
    "            mapbox_style=\"dark\",\n",
    "            mapbox=dict(center=dict(lat=lat, lon=lon), zoom=zoom),\n",
    "        )\n",
    "    fig.data[0].update(\n",
    "            hovertemplate=(\"%{customdata[3]}<br>Confirmed:\"\n",
    "                          \" %{customdata[0]}<br>Deaths: %{customdata[1]}<br>Death Rate: %{customdata[2]}\")\n",
    "        )\n",
    "\n",
    "    fig.show()"
   ]
  },
  {
   "cell_type": "code",
   "execution_count": 388,
   "metadata": {},
   "outputs": [
    {
     "data": {
      "application/vnd.plotly.v1+json": {
       "config": {
        "plotlyServerURL": "https://plot.ly"
       },
       "data": [
        {
         "customdata": [
          [
           26529,
           199,
           0.75,
           "Ain"
          ],
          [
           9324,
           345,
           3.7,
           "Aisne"
          ],
          [
           7170,
           124,
           1.73,
           "Allier"
          ],
          [
           3355,
           35,
           1.04,
           "Alpes-de-Haute-Provence"
          ],
          [
           4396,
           51,
           1.16,
           "Hautes-Alpes"
          ],
          [
           25925,
           331,
           1.28,
           "Alpes_Maritimes"
          ],
          [
           10076,
           189,
           1.88,
           "Ardeche"
          ],
          [
           5887,
           87,
           1.48,
           "Ardennes"
          ],
          [
           2986,
           10,
           0.33,
           "Ariege"
          ],
          [
           6621,
           170,
           2.57,
           "Aube"
          ],
          [
           6392,
           92,
           1.44,
           "Aude"
          ],
          [
           6575,
           64,
           0.97,
           "Aveyron"
          ],
          [
           86189,
           1199,
           1.39,
           "Bouches-du-Rhône"
          ],
          [
           12897,
           156,
           1.21,
           "Calvados"
          ],
          [
           2167,
           26,
           1.2,
           "Cantal"
          ],
          [
           3694,
           24,
           0.65,
           "Charente"
          ],
          [
           4682,
           75,
           1.6,
           "Charente-Maritime"
          ],
          [
           5874,
           150,
           2.55,
           "Cher"
          ],
          [
           3169,
           68,
           2.15,
           "Correze"
          ],
          [
           14455,
           333,
           2.3,
           "Côte-d'Or"
          ],
          [
           6149,
           62,
           1.01,
           "Côtes-D'Armor"
          ],
          [
           2042,
           30,
           1.47,
           "Creuse"
          ],
          [
           5520,
           23,
           0.42,
           "Dordogne"
          ],
          [
           15044,
           175,
           1.16,
           "Doubs"
          ],
          [
           15730,
           234,
           1.49,
           "Drome"
          ],
          [
           11499,
           141,
           1.23,
           "Eure"
          ],
          [
           7582,
           179,
           2.36,
           "Eure-et-Loire"
          ],
          [
           8439,
           66,
           0.78,
           "Finistère"
          ],
          [
           3209,
           67,
           2.09,
           "Corde-du-Sud"
          ],
          [
           3019,
           29,
           0.96,
           "Haute-Corse"
          ],
          [
           22226,
           199,
           0.9,
           "Gard"
          ],
          [
           40591,
           204,
           0.5,
           "Haute-Garonne"
          ],
          [
           3227,
           42,
           1.3,
           "Gers"
          ],
          [
           31467,
           295,
           0.94,
           "Gironde"
          ],
          [
           33022,
           310,
           0.94,
           "Hérault"
          ],
          [
           20800,
           160,
           0.77,
           "Ille-et-Vilaine"
          ],
          [
           3171,
           90,
           2.84,
           "Indre"
          ],
          [
           12223,
           136,
           1.11,
           "Indre-et-Loire"
          ],
          [
           55518,
           446,
           0.8,
           "Isère"
          ],
          [
           7527,
           110,
           1.46,
           "Jura"
          ],
          [
           7113,
           37,
           0.52,
           "Landes"
          ],
          [
           4643,
           98,
           2.11,
           "Loir-et-Cher"
          ],
          [
           43389,
           553,
           1.27,
           "Loire"
          ],
          [
           10476,
           62,
           0.59,
           "Haute-Loire"
          ],
          [
           26873,
           269,
           1,
           "Loire-Atlantique"
          ],
          [
           17378,
           156,
           0.9,
           "Loiret"
          ],
          [
           1874,
           27,
           1.44,
           "Lot"
          ],
          [
           5196,
           28,
           0.54,
           "Lot-et-Garonne"
          ],
          [
           1969,
           29,
           1.47,
           "Lozère"
          ],
          [
           17448,
           243,
           1.39,
           "Manne-et-Loire"
          ],
          [
           5167,
           88,
           1.7,
           "Manche"
          ],
          [
           11081,
           324,
           2.92,
           "Marne"
          ],
          [
           3644,
           115,
           3.16,
           "Haute-Marne"
          ],
          [
           6278,
           73,
           1.16,
           "Mayenne"
          ],
          [
           14967,
           435,
           2.91,
           "Meurthe-et-Moselle"
          ],
          [
           2795,
           122,
           4.36,
           "Meuse"
          ],
          [
           7561,
           141,
           1.86,
           "Morbihan"
          ],
          [
           20546,
           960,
           4.67,
           "Moselle"
          ],
          [
           3266,
           40,
           1.22,
           "Nièvre"
          ],
          [
           114660,
           1254,
           1.09,
           "Nord"
          ],
          [
           20508,
           496,
           2.42,
           "Oise"
          ],
          [
           4092,
           67,
           1.64,
           "Orne"
          ],
          [
           41539,
           517,
           1.24,
           "Pas-de-Calais"
          ],
          [
           17747,
           156,
           0.88,
           "Puy-de-Dôme"
          ],
          [
           17216,
           94,
           0.55,
           "Pyrénées-Altantiques"
          ],
          [
           5554,
           53,
           0.95,
           "Hautes-Pyrénées"
          ],
          [
           9832,
           92,
           0.94,
           "Pyrénées-Orientales"
          ],
          [
           27771,
           785,
           2.83,
           "Bas-Rhin"
          ],
          [
           14331,
           868,
           6.06,
           "Haut-Rhin"
          ],
          [
           95551,
           1182,
           1.24,
           "Rhone"
          ],
          [
           4321,
           106,
           2.45,
           "Haute-Saône"
          ],
          [
           17971,
           371,
           2.06,
           "Saône-et-Loire"
          ],
          [
           9553,
           131,
           1.37,
           "Sarthe"
          ],
          [
           18342,
           235,
           1.28,
           "Savoie"
          ],
          [
           34878,
           321,
           0.92,
           "Haute-Savoie"
          ],
          [
           95174,
           2265,
           2.38,
           "Paris"
          ],
          [
           31080,
           407,
           1.31,
           "Seine-Maritime"
          ],
          [
           38299,
           913,
           2.38,
           "Seine-et-Marne"
          ],
          [
           41599,
           751,
           1.81,
           "Yvellines"
          ],
          [
           4997,
           46,
           0.92,
           "Deux-Sèvres"
          ],
          [
           9582,
           296,
           3.09,
           "Somme"
          ],
          [
           9735,
           73,
           0.75,
           "Tarn"
          ],
          [
           6311,
           52,
           0.82,
           "Tarn-et-Garonne"
          ],
          [
           26791,
           292,
           1.09,
           "Var"
          ],
          [
           17590,
           226,
           1.28,
           "Vaucluse"
          ],
          [
           8882,
           59,
           0.66,
           "Vendée"
          ],
          [
           6868,
           85,
           1.24,
           "Vienne"
          ],
          [
           6730,
           79,
           1.17,
           "Haute-Vienne"
          ],
          [
           6787,
           306,
           4.51,
           "Vosges"
          ],
          [
           7724,
           117,
           1.51,
           "Yonne"
          ],
          [
           2675,
           228,
           8.52,
           "Territoire de Belfort"
          ],
          [
           40597,
           811,
           2,
           "Essonne"
          ],
          [
           60782,
           1343,
           2.21,
           "Hauts-de-Seine"
          ],
          [
           60283,
           1276,
           2.12,
           "Seine-Saint_Denis"
          ],
          [
           52059,
           1518,
           2.92,
           "Val-de-Marne"
          ],
          [
           45787,
           952,
           2.08,
           "Val-d'Oise"
          ],
          [
           8066,
           152,
           1.88,
           "Guadeloupe"
          ],
          [
           5073,
           37,
           0.73,
           "Martinique"
          ],
          [
           9951,
           66,
           0.66,
           "Guyane"
          ],
          [
           6918,
           37,
           0.53,
           "La Réunion"
          ],
          [
           3219,
           32,
           0.99,
           "Mayotte"
          ]
         ],
         "hovertemplate": "%{customdata[3]}<br>Confirmed: %{customdata[0]}<br>Deaths: %{customdata[1]}<br>Death Rate: %{customdata[2]}",
         "hovertext": [
          "Ain",
          "Aisne",
          "Allier",
          "Alpes-de-Haute-Provence",
          "Hautes-Alpes",
          "Alpes_Maritimes",
          "Ardeche",
          "Ardennes",
          "Ariege",
          "Aube",
          "Aude",
          "Aveyron",
          "Bouches-du-Rhône",
          "Calvados",
          "Cantal",
          "Charente",
          "Charente-Maritime",
          "Cher",
          "Correze",
          "Côte-d'Or",
          "Côtes-D'Armor",
          "Creuse",
          "Dordogne",
          "Doubs",
          "Drome",
          "Eure",
          "Eure-et-Loire",
          "Finistère",
          "Corde-du-Sud",
          "Haute-Corse",
          "Gard",
          "Haute-Garonne",
          "Gers",
          "Gironde",
          "Hérault",
          "Ille-et-Vilaine",
          "Indre",
          "Indre-et-Loire",
          "Isère",
          "Jura",
          "Landes",
          "Loir-et-Cher",
          "Loire",
          "Haute-Loire",
          "Loire-Atlantique",
          "Loiret",
          "Lot",
          "Lot-et-Garonne",
          "Lozère",
          "Manne-et-Loire",
          "Manche",
          "Marne",
          "Haute-Marne",
          "Mayenne",
          "Meurthe-et-Moselle",
          "Meuse",
          "Morbihan",
          "Moselle",
          "Nièvre",
          "Nord",
          "Oise",
          "Orne",
          "Pas-de-Calais",
          "Puy-de-Dôme",
          "Pyrénées-Altantiques",
          "Hautes-Pyrénées",
          "Pyrénées-Orientales",
          "Bas-Rhin",
          "Haut-Rhin",
          "Rhone",
          "Haute-Saône",
          "Saône-et-Loire",
          "Sarthe",
          "Savoie",
          "Haute-Savoie",
          "Paris",
          "Seine-Maritime",
          "Seine-et-Marne",
          "Yvellines",
          "Deux-Sèvres",
          "Somme",
          "Tarn",
          "Tarn-et-Garonne",
          "Var",
          "Vaucluse",
          "Vendée",
          "Vienne",
          "Haute-Vienne",
          "Vosges",
          "Yonne",
          "Territoire de Belfort",
          "Essonne",
          "Hauts-de-Seine",
          "Seine-Saint_Denis",
          "Val-de-Marne",
          "Val-d'Oise",
          "Guadeloupe",
          "Martinique",
          "Guyane",
          "La Réunion",
          "Mayotte"
         ],
         "lat": [
          46.1,
          49.55,
          44.1,
          44.09,
          44.66,
          43.94,
          44.73,
          49.61,
          42.94,
          48.31,
          43.1,
          44.28,
          43.54,
          49.1,
          45.01,
          45.71,
          45.76,
          47.07,
          45.34,
          47.43,
          48.44,
          46.08,
          45.13,
          47.16,
          44.68,
          49.1,
          48.39,
          48.27,
          41.88,
          42.37,
          43.99,
          43.35,
          43.68,
          44.84,
          43.9,
          48.18,
          46.8,
          47.24,
          45.27,
          46.73,
          43.96,
          47.61,
          45.72,
          45.13,
          47.38,
          47.85,
          44.63,
          44.37,
          44.51,
          47.39,
          49.08,
          48.38,
          48.09,
          48.12,
          48.79,
          49,
          47.85,
          49.02,
          47.1,
          50.45,
          49.39,
          48.61,
          50.49,
          45.73,
          43.28,
          43.05,
          42.61,
          48.65,
          47.86,
          45.86,
          47.63,
          46.64,
          48,
          45.47,
          46.04,
          48.85,
          49.65,
          48.6,
          48.97,
          46.53,
          49.97,
          43.77,
          44.07,
          43.47,
          43.99,
          46.67,
          46.55,
          45.87,
          48.19,
          47.84,
          47.62,
          48.52,
          48.83,
          48.9,
          48.77,
          49.07,
          16,
          14.6,
          4.93,
          -20.88,
          -12.77
         ],
         "legendgroup": "",
         "lon": [
          5.33,
          3.56,
          2.35,
          6.23,
          6.21,
          7.12,
          4.41,
          4.61,
          1.53,
          4.14,
          2.35,
          2.72,
          5.03,
          -0.37,
          2.66,
          0.2,
          -0.71,
          2.52,
          1.81,
          4.78,
          -2.85,
          2.04,
          0.7,
          6.37,
          5.15,
          1,
          1.36,
          -4.04,
          8.97,
          9.23,
          4.17,
          1.23,
          0.45,
          -0.58,
          4.47,
          -1.64,
          1.62,
          0.69,
          5.61,
          5.69,
          -0.8,
          1.41,
          4.16,
          3.81,
          -1.71,
          2.26,
          1.59,
          0.46,
          3.49,
          -0.53,
          -1.34,
          7.47,
          5.15,
          -0.67,
          6.16,
          5.39,
          -2.83,
          6.65,
          3.51,
          3.2,
          2.42,
          0.11,
          2.27,
          3.14,
          -0.75,
          0.16,
          2.51,
          7.56,
          7.27,
          4.66,
          6.07,
          4.53,
          0.19,
          6.45,
          6.44,
          2.35,
          1.04,
          2.97,
          1.97,
          -0.32,
          2.29,
          2.18,
          1.28,
          6.18,
          5.14,
          -1.28,
          0.5,
          1.23,
          6.37,
          3.57,
          6.92,
          2.26,
          2.24,
          2.48,
          2.45,
          2.17,
          -61.73,
          -61.06,
          -52.32,
          55.45,
          45.22
         ],
         "marker": {
          "color": [
           26529,
           9324,
           7170,
           3355,
           4396,
           25925,
           10076,
           5887,
           2986,
           6621,
           6392,
           6575,
           86189,
           12897,
           2167,
           3694,
           4682,
           5874,
           3169,
           14455,
           6149,
           2042,
           5520,
           15044,
           15730,
           11499,
           7582,
           8439,
           3209,
           3019,
           22226,
           40591,
           3227,
           31467,
           33022,
           20800,
           3171,
           12223,
           55518,
           7527,
           7113,
           4643,
           43389,
           10476,
           26873,
           17378,
           1874,
           5196,
           1969,
           17448,
           5167,
           11081,
           3644,
           6278,
           14967,
           2795,
           7561,
           20546,
           3266,
           114660,
           20508,
           4092,
           41539,
           17747,
           17216,
           5554,
           9832,
           27771,
           14331,
           95551,
           4321,
           17971,
           9553,
           18342,
           34878,
           95174,
           31080,
           38299,
           41599,
           4997,
           9582,
           9735,
           6311,
           26791,
           17590,
           8882,
           6868,
           6730,
           6787,
           7724,
           2675,
           40597,
           60782,
           60283,
           52059,
           45787,
           8066,
           5073,
           9951,
           6918,
           3219
          ],
          "coloraxis": "coloraxis",
          "size": [
           2548.385218699599,
           1139.1836519845688,
           930.5715049585576,
           518.5411707277973,
           638.490465657492,
           2503.5913887191355,
           1209.2939560094012,
           799.4998886118709,
           474.0445398156362,
           875.2077660555036,
           851.805245268003,
           870.5219636163565,
           6313.90318422224,
           1462.434079108916,
           370.34915809307864,
           558.434969407573,
           670.242843030353,
           798.1401080644491,
           496.26097467055394,
           1596.6654726638014,
           826.7600058208342,
           353.78785329651936,
           760.8395671994379,
           1646.5304247494516,
           1704.0452240291427,
           1338.7770441684754,
           971.4792093076156,
           1054.9795953383732,
           501.0772464119182,
           478.07341849476927,
           2223.7359068156893,
           3535.8261878422272,
           503.2400575691901,
           2906.354674167376,
           3016.3282199306946,
           2113.0451066180412,
           496.5021190214895,
           1403.2237125271608,
           4500.015769282882,
           966.0483772974209,
           924.8699365998579,
           665.9398231153027,
           3722.0510335815065,
           1246.0932030220783,
           2573.7919436676484,
           1839.9238141588344,
           331.1559645366911,
           726.2150411509377,
           344.00852207904165,
           1845.627924525322,
           723.0920977173032,
           1301.1452938638777,
           552.6056788027254,
           840.0834127493725,
           1640.0374460705827,
           450.51991698006884,
           969.4066917608499,
           2093.1483444586165,
           507.91666082107645,
           7865.877739588443,
           2090.1668124344155,
           604.2135093938734,
           3599.2428340482825,
           1869.9337103911555,
           1826.7025522628683,
           764.4454922433424,
           1186.681685548915,
           2639.7662329538334,
           1586.1085343118966,
           6835.670687563603,
           630.0860798078716,
           1888.0810266259566,
           1160.6669788255504,
           1918.0236178568455,
           3146.043414525157,
           6814.894048223329,
           2878.7926009671787,
           3381.0712636802577,
           3603.2452754610867,
           704.7031277488736,
           1163.379075222844,
           1177.6566424339994,
           843.4815719479483,
           2567.7425140962137,
           1857.1829860970693,
           1097.3705275033444,
           900.2421034236876,
           886.2813273513356,
           892.055641021952,
           985.4589635892802,
           435.5513011724116,
           3536.228622848011,
           4825.104676010176,
           4794.574153416682,
           4282.543495500041,
           3879.4618517788667,
           1018.888892118115,
           712.9415795385996,
           1197.7257296393082,
           905.2843850054999,
           502.27915163940895
          ],
          "sizemode": "area",
          "sizeref": 6.42112468537832
         },
         "mode": "markers",
         "name": "",
         "showlegend": false,
         "subplot": "mapbox",
         "type": "scattermapbox"
        }
       ],
       "layout": {
        "autosize": true,
        "coloraxis": {
         "colorbar": {
          "title": {
           "text": "nb_pos_cum"
          }
         },
         "colorscale": [
          [
           0,
           "#fadc8f"
          ],
          [
           0.1,
           "#f9d67a"
          ],
          [
           0.2,
           "#f8d066"
          ],
          [
           0.3,
           "#f8c952"
          ],
          [
           0.4,
           "#f7c33d"
          ],
          [
           0.5,
           "#f6bd29"
          ],
          [
           0.6,
           "#f5b614"
          ],
          [
           0.7,
           "#F4B000"
          ],
          [
           0.8,
           "#eaa900"
          ],
          [
           0.9,
           "#e0a200"
          ],
          [
           1,
           "#dc9e00"
          ]
         ]
        },
        "legend": {
         "itemsizing": "constant",
         "tracegroupgap": 0
        },
        "mapbox": {
         "accesstoken": "pk.eyJ1IjoicG1lY2NoaWEiLCJhIjoiY2toNTVlajU4MDBtcTJycXBzNGlsOTByYyJ9.sfNsB0a0UzZxosdqWYhWyQ",
         "center": {
          "lat": 46.4,
          "lon": 0.5
         },
         "domain": {
          "x": [
           0,
           1
          ],
          "y": [
           0,
           1
          ]
         },
         "style": "dark",
         "zoom": 3.5
        },
        "margin": {
         "t": 60
        },
        "template": {
         "data": {
          "bar": [
           {
            "error_x": {
             "color": "#2a3f5f"
            },
            "error_y": {
             "color": "#2a3f5f"
            },
            "marker": {
             "line": {
              "color": "#E5ECF6",
              "width": 0.5
             }
            },
            "type": "bar"
           }
          ],
          "barpolar": [
           {
            "marker": {
             "line": {
              "color": "#E5ECF6",
              "width": 0.5
             }
            },
            "type": "barpolar"
           }
          ],
          "carpet": [
           {
            "aaxis": {
             "endlinecolor": "#2a3f5f",
             "gridcolor": "white",
             "linecolor": "white",
             "minorgridcolor": "white",
             "startlinecolor": "#2a3f5f"
            },
            "baxis": {
             "endlinecolor": "#2a3f5f",
             "gridcolor": "white",
             "linecolor": "white",
             "minorgridcolor": "white",
             "startlinecolor": "#2a3f5f"
            },
            "type": "carpet"
           }
          ],
          "choropleth": [
           {
            "colorbar": {
             "outlinewidth": 0,
             "ticks": ""
            },
            "type": "choropleth"
           }
          ],
          "contour": [
           {
            "colorbar": {
             "outlinewidth": 0,
             "ticks": ""
            },
            "colorscale": [
             [
              0,
              "#0d0887"
             ],
             [
              0.1111111111111111,
              "#46039f"
             ],
             [
              0.2222222222222222,
              "#7201a8"
             ],
             [
              0.3333333333333333,
              "#9c179e"
             ],
             [
              0.4444444444444444,
              "#bd3786"
             ],
             [
              0.5555555555555556,
              "#d8576b"
             ],
             [
              0.6666666666666666,
              "#ed7953"
             ],
             [
              0.7777777777777778,
              "#fb9f3a"
             ],
             [
              0.8888888888888888,
              "#fdca26"
             ],
             [
              1,
              "#f0f921"
             ]
            ],
            "type": "contour"
           }
          ],
          "contourcarpet": [
           {
            "colorbar": {
             "outlinewidth": 0,
             "ticks": ""
            },
            "type": "contourcarpet"
           }
          ],
          "heatmap": [
           {
            "colorbar": {
             "outlinewidth": 0,
             "ticks": ""
            },
            "colorscale": [
             [
              0,
              "#0d0887"
             ],
             [
              0.1111111111111111,
              "#46039f"
             ],
             [
              0.2222222222222222,
              "#7201a8"
             ],
             [
              0.3333333333333333,
              "#9c179e"
             ],
             [
              0.4444444444444444,
              "#bd3786"
             ],
             [
              0.5555555555555556,
              "#d8576b"
             ],
             [
              0.6666666666666666,
              "#ed7953"
             ],
             [
              0.7777777777777778,
              "#fb9f3a"
             ],
             [
              0.8888888888888888,
              "#fdca26"
             ],
             [
              1,
              "#f0f921"
             ]
            ],
            "type": "heatmap"
           }
          ],
          "heatmapgl": [
           {
            "colorbar": {
             "outlinewidth": 0,
             "ticks": ""
            },
            "colorscale": [
             [
              0,
              "#0d0887"
             ],
             [
              0.1111111111111111,
              "#46039f"
             ],
             [
              0.2222222222222222,
              "#7201a8"
             ],
             [
              0.3333333333333333,
              "#9c179e"
             ],
             [
              0.4444444444444444,
              "#bd3786"
             ],
             [
              0.5555555555555556,
              "#d8576b"
             ],
             [
              0.6666666666666666,
              "#ed7953"
             ],
             [
              0.7777777777777778,
              "#fb9f3a"
             ],
             [
              0.8888888888888888,
              "#fdca26"
             ],
             [
              1,
              "#f0f921"
             ]
            ],
            "type": "heatmapgl"
           }
          ],
          "histogram": [
           {
            "marker": {
             "colorbar": {
              "outlinewidth": 0,
              "ticks": ""
             }
            },
            "type": "histogram"
           }
          ],
          "histogram2d": [
           {
            "colorbar": {
             "outlinewidth": 0,
             "ticks": ""
            },
            "colorscale": [
             [
              0,
              "#0d0887"
             ],
             [
              0.1111111111111111,
              "#46039f"
             ],
             [
              0.2222222222222222,
              "#7201a8"
             ],
             [
              0.3333333333333333,
              "#9c179e"
             ],
             [
              0.4444444444444444,
              "#bd3786"
             ],
             [
              0.5555555555555556,
              "#d8576b"
             ],
             [
              0.6666666666666666,
              "#ed7953"
             ],
             [
              0.7777777777777778,
              "#fb9f3a"
             ],
             [
              0.8888888888888888,
              "#fdca26"
             ],
             [
              1,
              "#f0f921"
             ]
            ],
            "type": "histogram2d"
           }
          ],
          "histogram2dcontour": [
           {
            "colorbar": {
             "outlinewidth": 0,
             "ticks": ""
            },
            "colorscale": [
             [
              0,
              "#0d0887"
             ],
             [
              0.1111111111111111,
              "#46039f"
             ],
             [
              0.2222222222222222,
              "#7201a8"
             ],
             [
              0.3333333333333333,
              "#9c179e"
             ],
             [
              0.4444444444444444,
              "#bd3786"
             ],
             [
              0.5555555555555556,
              "#d8576b"
             ],
             [
              0.6666666666666666,
              "#ed7953"
             ],
             [
              0.7777777777777778,
              "#fb9f3a"
             ],
             [
              0.8888888888888888,
              "#fdca26"
             ],
             [
              1,
              "#f0f921"
             ]
            ],
            "type": "histogram2dcontour"
           }
          ],
          "mesh3d": [
           {
            "colorbar": {
             "outlinewidth": 0,
             "ticks": ""
            },
            "type": "mesh3d"
           }
          ],
          "parcoords": [
           {
            "line": {
             "colorbar": {
              "outlinewidth": 0,
              "ticks": ""
             }
            },
            "type": "parcoords"
           }
          ],
          "pie": [
           {
            "automargin": true,
            "type": "pie"
           }
          ],
          "scatter": [
           {
            "marker": {
             "colorbar": {
              "outlinewidth": 0,
              "ticks": ""
             }
            },
            "type": "scatter"
           }
          ],
          "scatter3d": [
           {
            "line": {
             "colorbar": {
              "outlinewidth": 0,
              "ticks": ""
             }
            },
            "marker": {
             "colorbar": {
              "outlinewidth": 0,
              "ticks": ""
             }
            },
            "type": "scatter3d"
           }
          ],
          "scattercarpet": [
           {
            "marker": {
             "colorbar": {
              "outlinewidth": 0,
              "ticks": ""
             }
            },
            "type": "scattercarpet"
           }
          ],
          "scattergeo": [
           {
            "marker": {
             "colorbar": {
              "outlinewidth": 0,
              "ticks": ""
             }
            },
            "type": "scattergeo"
           }
          ],
          "scattergl": [
           {
            "marker": {
             "colorbar": {
              "outlinewidth": 0,
              "ticks": ""
             }
            },
            "type": "scattergl"
           }
          ],
          "scattermapbox": [
           {
            "marker": {
             "colorbar": {
              "outlinewidth": 0,
              "ticks": ""
             }
            },
            "type": "scattermapbox"
           }
          ],
          "scatterpolar": [
           {
            "marker": {
             "colorbar": {
              "outlinewidth": 0,
              "ticks": ""
             }
            },
            "type": "scatterpolar"
           }
          ],
          "scatterpolargl": [
           {
            "marker": {
             "colorbar": {
              "outlinewidth": 0,
              "ticks": ""
             }
            },
            "type": "scatterpolargl"
           }
          ],
          "scatterternary": [
           {
            "marker": {
             "colorbar": {
              "outlinewidth": 0,
              "ticks": ""
             }
            },
            "type": "scatterternary"
           }
          ],
          "surface": [
           {
            "colorbar": {
             "outlinewidth": 0,
             "ticks": ""
            },
            "colorscale": [
             [
              0,
              "#0d0887"
             ],
             [
              0.1111111111111111,
              "#46039f"
             ],
             [
              0.2222222222222222,
              "#7201a8"
             ],
             [
              0.3333333333333333,
              "#9c179e"
             ],
             [
              0.4444444444444444,
              "#bd3786"
             ],
             [
              0.5555555555555556,
              "#d8576b"
             ],
             [
              0.6666666666666666,
              "#ed7953"
             ],
             [
              0.7777777777777778,
              "#fb9f3a"
             ],
             [
              0.8888888888888888,
              "#fdca26"
             ],
             [
              1,
              "#f0f921"
             ]
            ],
            "type": "surface"
           }
          ],
          "table": [
           {
            "cells": {
             "fill": {
              "color": "#EBF0F8"
             },
             "line": {
              "color": "white"
             }
            },
            "header": {
             "fill": {
              "color": "#C8D4E3"
             },
             "line": {
              "color": "white"
             }
            },
            "type": "table"
           }
          ]
         },
         "layout": {
          "annotationdefaults": {
           "arrowcolor": "#2a3f5f",
           "arrowhead": 0,
           "arrowwidth": 1
          },
          "coloraxis": {
           "colorbar": {
            "outlinewidth": 0,
            "ticks": ""
           }
          },
          "colorscale": {
           "diverging": [
            [
             0,
             "#8e0152"
            ],
            [
             0.1,
             "#c51b7d"
            ],
            [
             0.2,
             "#de77ae"
            ],
            [
             0.3,
             "#f1b6da"
            ],
            [
             0.4,
             "#fde0ef"
            ],
            [
             0.5,
             "#f7f7f7"
            ],
            [
             0.6,
             "#e6f5d0"
            ],
            [
             0.7,
             "#b8e186"
            ],
            [
             0.8,
             "#7fbc41"
            ],
            [
             0.9,
             "#4d9221"
            ],
            [
             1,
             "#276419"
            ]
           ],
           "sequential": [
            [
             0,
             "#0d0887"
            ],
            [
             0.1111111111111111,
             "#46039f"
            ],
            [
             0.2222222222222222,
             "#7201a8"
            ],
            [
             0.3333333333333333,
             "#9c179e"
            ],
            [
             0.4444444444444444,
             "#bd3786"
            ],
            [
             0.5555555555555556,
             "#d8576b"
            ],
            [
             0.6666666666666666,
             "#ed7953"
            ],
            [
             0.7777777777777778,
             "#fb9f3a"
            ],
            [
             0.8888888888888888,
             "#fdca26"
            ],
            [
             1,
             "#f0f921"
            ]
           ],
           "sequentialminus": [
            [
             0,
             "#0d0887"
            ],
            [
             0.1111111111111111,
             "#46039f"
            ],
            [
             0.2222222222222222,
             "#7201a8"
            ],
            [
             0.3333333333333333,
             "#9c179e"
            ],
            [
             0.4444444444444444,
             "#bd3786"
            ],
            [
             0.5555555555555556,
             "#d8576b"
            ],
            [
             0.6666666666666666,
             "#ed7953"
            ],
            [
             0.7777777777777778,
             "#fb9f3a"
            ],
            [
             0.8888888888888888,
             "#fdca26"
            ],
            [
             1,
             "#f0f921"
            ]
           ]
          },
          "colorway": [
           "#636efa",
           "#EF553B",
           "#00cc96",
           "#ab63fa",
           "#FFA15A",
           "#19d3f3",
           "#FF6692",
           "#B6E880",
           "#FF97FF",
           "#FECB52"
          ],
          "font": {
           "color": "#2a3f5f"
          },
          "geo": {
           "bgcolor": "white",
           "lakecolor": "white",
           "landcolor": "#E5ECF6",
           "showlakes": true,
           "showland": true,
           "subunitcolor": "white"
          },
          "hoverlabel": {
           "align": "left"
          },
          "hovermode": "closest",
          "mapbox": {
           "style": "light"
          },
          "paper_bgcolor": "white",
          "plot_bgcolor": "#E5ECF6",
          "polar": {
           "angularaxis": {
            "gridcolor": "white",
            "linecolor": "white",
            "ticks": ""
           },
           "bgcolor": "#E5ECF6",
           "radialaxis": {
            "gridcolor": "white",
            "linecolor": "white",
            "ticks": ""
           }
          },
          "scene": {
           "xaxis": {
            "backgroundcolor": "#E5ECF6",
            "gridcolor": "white",
            "gridwidth": 2,
            "linecolor": "white",
            "showbackground": true,
            "ticks": "",
            "zerolinecolor": "white"
           },
           "yaxis": {
            "backgroundcolor": "#E5ECF6",
            "gridcolor": "white",
            "gridwidth": 2,
            "linecolor": "white",
            "showbackground": true,
            "ticks": "",
            "zerolinecolor": "white"
           },
           "zaxis": {
            "backgroundcolor": "#E5ECF6",
            "gridcolor": "white",
            "gridwidth": 2,
            "linecolor": "white",
            "showbackground": true,
            "ticks": "",
            "zerolinecolor": "white"
           }
          },
          "shapedefaults": {
           "line": {
            "color": "#2a3f5f"
           }
          },
          "ternary": {
           "aaxis": {
            "gridcolor": "white",
            "linecolor": "white",
            "ticks": ""
           },
           "baxis": {
            "gridcolor": "white",
            "linecolor": "white",
            "ticks": ""
           },
           "bgcolor": "#E5ECF6",
           "caxis": {
            "gridcolor": "white",
            "linecolor": "white",
            "ticks": ""
           }
          },
          "title": {
           "x": 0.05
          },
          "xaxis": {
           "automargin": true,
           "gridcolor": "white",
           "linecolor": "white",
           "ticks": "",
           "title": {
            "standoff": 15
           },
           "zerolinecolor": "white",
           "zerolinewidth": 2
          },
          "yaxis": {
           "automargin": true,
           "gridcolor": "white",
           "linecolor": "white",
           "ticks": "",
           "title": {
            "standoff": 15
           },
           "zerolinecolor": "white",
           "zerolinewidth": 2
          }
         }
        }
       }
      },
      "image/png": "[encoded data removed]",
      "text/html": [
       "<div>                            <div id=\"b5a4ff40-e5bc-475e-9073-c1ca2eaf454a\" class=\"plotly-graph-div\" style=\"height:525px; width:100%;\"></div>            <script type=\"text/javascript\">                require([\"plotly\"], function(Plotly) {                    window.PLOTLYENV=window.PLOTLYENV || {};                                    if (document.getElementById(\"b5a4ff40-e5bc-475e-9073-c1ca2eaf454a\")) {                    Plotly.newPlot(                        \"b5a4ff40-e5bc-475e-9073-c1ca2eaf454a\",                        [{\"customdata\": [[26529, 199, 0.75, \"Ain\"], [9324, 345, 3.7, \"Aisne\"], [7170, 124, 1.73, \"Allier\"], [3355, 35, 1.04, \"Alpes-de-Haute-Provence\"], [4396, 51, 1.16, \"Hautes-Alpes\"], [25925, 331, 1.28, \"Alpes_Maritimes\"], [10076, 189, 1.88, \"Ardeche\"], [5887, 87, 1.48, \"Ardennes\"], [2986, 10, 0.33, \"Ariege\"], [6621, 170, 2.57, \"Aube\"], [6392, 92, 1.44, \"Aude\"], [6575, 64, 0.97, \"Aveyron\"], [86189, 1199, 1.39, \"Bouches-du-Rh\\u00f4ne\"], [12897, 156, 1.21, \"Calvados\"], [2167, 26, 1.2, \"Cantal\"], [3694, 24, 0.65, \"Charente\"], [4682, 75, 1.6, \"Charente-Maritime\"], [5874, 150, 2.55, \"Cher\"], [3169, 68, 2.15, \"Correze\"], [14455, 333, 2.3, \"C\\u00f4te-d'Or\"], [6149, 62, 1.01, \"C\\u00f4tes-D'Armor\"], [2042, 30, 1.47, \"Creuse\"], [5520, 23, 0.42, \"Dordogne\"], [15044, 175, 1.16, \"Doubs\"], [15730, 234, 1.49, \"Drome\"], [11499, 141, 1.23, \"Eure\"], [7582, 179, 2.36, \"Eure-et-Loire\"], [8439, 66, 0.78, \"Finist\\u00e8re\"], [3209, 67, 2.09, \"Corde-du-Sud\"], [3019, 29, 0.96, \"Haute-Corse\"], [22226, 199, 0.9, \"Gard\"], [40591, 204, 0.5, \"Haute-Garonne\"], [3227, 42, 1.3, \"Gers\"], [31467, 295, 0.94, \"Gironde\"], [33022, 310, 0.94, \"H\\u00e9rault\"], [20800, 160, 0.77, \"Ille-et-Vilaine\"], [3171, 90, 2.84, \"Indre\"], [12223, 136, 1.11, \"Indre-et-Loire\"], [55518, 446, 0.8, \"Is\\u00e8re\"], [7527, 110, 1.46, \"Jura\"], [7113, 37, 0.52, \"Landes\"], [4643, 98, 2.11, \"Loir-et-Cher\"], [43389, 553, 1.27, \"Loire\"], [10476, 62, 0.59, \"Haute-Loire\"], [26873, 269, 1.0, \"Loire-Atlantique\"], [17378, 156, 0.9, \"Loiret\"], [1874, 27, 1.44, \"Lot\"], [5196, 28, 0.54, \"Lot-et-Garonne\"], [1969, 29, 1.47, \"Loz\\u00e8re\"], [17448, 243, 1.39, \"Manne-et-Loire\"], [5167, 88, 1.7, \"Manche\"], [11081, 324, 2.92, \"Marne\"], [3644, 115, 3.16, \"Haute-Marne\"], [6278, 73, 1.16, \"Mayenne\"], [14967, 435, 2.91, \"Meurthe-et-Moselle\"], [2795, 122, 4.36, \"Meuse\"], [7561, 141, 1.86, \"Morbihan\"], [20546, 960, 4.67, \"Moselle\"], [3266, 40, 1.22, \"Ni\\u00e8vre\"], [114660, 1254, 1.09, \"Nord\"], [20508, 496, 2.42, \"Oise\"], [4092, 67, 1.64, \"Orne\"], [41539, 517, 1.24, \"Pas-de-Calais\"], [17747, 156, 0.88, \"Puy-de-D\\u00f4me\"], [17216, 94, 0.55, \"Pyr\\u00e9n\\u00e9es-Altantiques\"], [5554, 53, 0.95, \"Hautes-Pyr\\u00e9n\\u00e9es\"], [9832, 92, 0.94, \"Pyr\\u00e9n\\u00e9es-Orientales\"], [27771, 785, 2.83, \"Bas-Rhin\"], [14331, 868, 6.06, \"Haut-Rhin\"], [95551, 1182, 1.24, \"Rhone\"], [4321, 106, 2.45, \"Haute-Sa\\u00f4ne\"], [17971, 371, 2.06, \"Sa\\u00f4ne-et-Loire\"], [9553, 131, 1.37, \"Sarthe\"], [18342, 235, 1.28, \"Savoie\"], [34878, 321, 0.92, \"Haute-Savoie\"], [95174, 2265, 2.38, \"Paris\"], [31080, 407, 1.31, \"Seine-Maritime\"], [38299, 913, 2.38, \"Seine-et-Marne\"], [41599, 751, 1.81, \"Yvellines\"], [4997, 46, 0.92, \"Deux-S\\u00e8vres\"], [9582, 296, 3.09, \"Somme\"], [9735, 73, 0.75, \"Tarn\"], [6311, 52, 0.82, \"Tarn-et-Garonne\"], [26791, 292, 1.09, \"Var\"], [17590, 226, 1.28, \"Vaucluse\"], [8882, 59, 0.66, \"Vend\\u00e9e\"], [6868, 85, 1.24, \"Vienne\"], [6730, 79, 1.17, \"Haute-Vienne\"], [6787, 306, 4.51, \"Vosges\"], [7724, 117, 1.51, \"Yonne\"], [2675, 228, 8.52, \"Territoire de Belfort\"], [40597, 811, 2.0, \"Essonne\"], [60782, 1343, 2.21, \"Hauts-de-Seine\"], [60283, 1276, 2.12, \"Seine-Saint_Denis\"], [52059, 1518, 2.92, \"Val-de-Marne\"], [45787, 952, 2.08, \"Val-d'Oise\"], [8066, 152, 1.88, \"Guadeloupe\"], [5073, 37, 0.73, \"Martinique\"], [9951, 66, 0.66, \"Guyane\"], [6918, 37, 0.53, \"La R\\u00e9union\"], [3219, 32, 0.99, \"Mayotte\"]], \"hovertemplate\": \"%{customdata[3]}<br>Confirmed: %{customdata[0]}<br>Deaths: %{customdata[1]}<br>Death Rate: %{customdata[2]}\", \"hovertext\": [\"Ain\", \"Aisne\", \"Allier\", \"Alpes-de-Haute-Provence\", \"Hautes-Alpes\", \"Alpes_Maritimes\", \"Ardeche\", \"Ardennes\", \"Ariege\", \"Aube\", \"Aude\", \"Aveyron\", \"Bouches-du-Rh\\u00f4ne\", \"Calvados\", \"Cantal\", \"Charente\", \"Charente-Maritime\", \"Cher\", \"Correze\", \"C\\u00f4te-d'Or\", \"C\\u00f4tes-D'Armor\", \"Creuse\", \"Dordogne\", \"Doubs\", \"Drome\", \"Eure\", \"Eure-et-Loire\", \"Finist\\u00e8re\", \"Corde-du-Sud\", \"Haute-Corse\", \"Gard\", \"Haute-Garonne\", \"Gers\", \"Gironde\", \"H\\u00e9rault\", \"Ille-et-Vilaine\", \"Indre\", \"Indre-et-Loire\", \"Is\\u00e8re\", \"Jura\", \"Landes\", \"Loir-et-Cher\", \"Loire\", \"Haute-Loire\", \"Loire-Atlantique\", \"Loiret\", \"Lot\", \"Lot-et-Garonne\", \"Loz\\u00e8re\", \"Manne-et-Loire\", \"Manche\", \"Marne\", \"Haute-Marne\", \"Mayenne\", \"Meurthe-et-Moselle\", \"Meuse\", \"Morbihan\", \"Moselle\", \"Ni\\u00e8vre\", \"Nord\", \"Oise\", \"Orne\", \"Pas-de-Calais\", \"Puy-de-D\\u00f4me\", \"Pyr\\u00e9n\\u00e9es-Altantiques\", \"Hautes-Pyr\\u00e9n\\u00e9es\", \"Pyr\\u00e9n\\u00e9es-Orientales\", \"Bas-Rhin\", \"Haut-Rhin\", \"Rhone\", \"Haute-Sa\\u00f4ne\", \"Sa\\u00f4ne-et-Loire\", \"Sarthe\", \"Savoie\", \"Haute-Savoie\", \"Paris\", \"Seine-Maritime\", \"Seine-et-Marne\", \"Yvellines\", \"Deux-S\\u00e8vres\", \"Somme\", \"Tarn\", \"Tarn-et-Garonne\", \"Var\", \"Vaucluse\", \"Vend\\u00e9e\", \"Vienne\", \"Haute-Vienne\", \"Vosges\", \"Yonne\", \"Territoire de Belfort\", \"Essonne\", \"Hauts-de-Seine\", \"Seine-Saint_Denis\", \"Val-de-Marne\", \"Val-d'Oise\", \"Guadeloupe\", \"Martinique\", \"Guyane\", \"La R\\u00e9union\", \"Mayotte\"], \"lat\": [46.1, 49.55, 44.1, 44.09, 44.66, 43.94, 44.73, 49.61, 42.94, 48.31, 43.1, 44.28, 43.54, 49.1, 45.01, 45.71, 45.76, 47.07, 45.34, 47.43, 48.44, 46.08, 45.13, 47.16, 44.68, 49.1, 48.39, 48.27, 41.88, 42.37, 43.99, 43.35, 43.68, 44.84, 43.9, 48.18, 46.8, 47.24, 45.27, 46.73, 43.96, 47.61, 45.72, 45.13, 47.38, 47.85, 44.63, 44.37, 44.51, 47.39, 49.08, 48.38, 48.09, 48.12, 48.79, 49.0, 47.85, 49.02, 47.1, 50.45, 49.39, 48.61, 50.49, 45.73, 43.28, 43.05, 42.61, 48.65, 47.86, 45.86, 47.63, 46.64, 48.0, 45.47, 46.04, 48.85, 49.65, 48.6, 48.97, 46.53, 49.97, 43.77, 44.07, 43.47, 43.99, 46.67, 46.55, 45.87, 48.19, 47.84, 47.62, 48.52, 48.83, 48.9, 48.77, 49.07, 16.0, 14.6, 4.93, -20.88, -12.77], \"legendgroup\": \"\", \"lon\": [5.33, 3.56, 2.35, 6.23, 6.21, 7.12, 4.41, 4.61, 1.53, 4.14, 2.35, 2.72, 5.03, -0.37, 2.66, 0.2, -0.71, 2.52, 1.81, 4.78, -2.85, 2.04, 0.7, 6.37, 5.15, 1.0, 1.36, -4.04, 8.97, 9.23, 4.17, 1.23, 0.45, -0.58, 4.47, -1.64, 1.62, 0.69, 5.61, 5.69, -0.8, 1.41, 4.16, 3.81, -1.71, 2.26, 1.59, 0.46, 3.49, -0.53, -1.34, 7.47, 5.15, -0.67, 6.16, 5.39, -2.83, 6.65, 3.51, 3.2, 2.42, 0.11, 2.27, 3.14, -0.75, 0.16, 2.51, 7.56, 7.27, 4.66, 6.07, 4.53, 0.19, 6.45, 6.44, 2.35, 1.04, 2.97, 1.97, -0.32, 2.29, 2.18, 1.28, 6.18, 5.14, -1.28, 0.5, 1.23, 6.37, 3.57, 6.92, 2.26, 2.24, 2.48, 2.45, 2.17, -61.73, -61.06, -52.32, 55.45, 45.22], \"marker\": {\"color\": [26529, 9324, 7170, 3355, 4396, 25925, 10076, 5887, 2986, 6621, 6392, 6575, 86189, 12897, 2167, 3694, 4682, 5874, 3169, 14455, 6149, 2042, 5520, 15044, 15730, 11499, 7582, 8439, 3209, 3019, 22226, 40591, 3227, 31467, 33022, 20800, 3171, 12223, 55518, 7527, 7113, 4643, 43389, 10476, 26873, 17378, 1874, 5196, 1969, 17448, 5167, 11081, 3644, 6278, 14967, 2795, 7561, 20546, 3266, 114660, 20508, 4092, 41539, 17747, 17216, 5554, 9832, 27771, 14331, 95551, 4321, 17971, 9553, 18342, 34878, 95174, 31080, 38299, 41599, 4997, 9582, 9735, 6311, 26791, 17590, 8882, 6868, 6730, 6787, 7724, 2675, 40597, 60782, 60283, 52059, 45787, 8066, 5073, 9951, 6918, 3219], \"coloraxis\": \"coloraxis\", \"size\": [2548.385218699599, 1139.1836519845688, 930.5715049585576, 518.5411707277973, 638.490465657492, 2503.5913887191355, 1209.2939560094012, 799.4998886118709, 474.0445398156362, 875.2077660555036, 851.805245268003, 870.5219636163565, 6313.90318422224, 1462.434079108916, 370.34915809307864, 558.434969407573, 670.242843030353, 798.1401080644491, 496.26097467055394, 1596.6654726638014, 826.7600058208342, 353.78785329651936, 760.8395671994379, 1646.5304247494516, 1704.0452240291427, 1338.7770441684754, 971.4792093076156, 1054.9795953383732, 501.0772464119182, 478.07341849476927, 2223.7359068156893, 3535.8261878422272, 503.2400575691901, 2906.354674167376, 3016.3282199306946, 2113.0451066180412, 496.5021190214895, 1403.2237125271608, 4500.015769282882, 966.0483772974209, 924.8699365998579, 665.9398231153027, 3722.0510335815065, 1246.0932030220783, 2573.7919436676484, 1839.9238141588344, 331.1559645366911, 726.2150411509377, 344.00852207904165, 1845.627924525322, 723.0920977173032, 1301.1452938638777, 552.6056788027254, 840.0834127493725, 1640.0374460705827, 450.51991698006884, 969.4066917608499, 2093.1483444586165, 507.91666082107645, 7865.877739588443, 2090.1668124344155, 604.2135093938734, 3599.2428340482825, 1869.9337103911555, 1826.7025522628683, 764.4454922433424, 1186.681685548915, 2639.7662329538334, 1586.1085343118966, 6835.670687563603, 630.0860798078716, 1888.0810266259566, 1160.6669788255504, 1918.0236178568455, 3146.043414525157, 6814.894048223329, 2878.7926009671787, 3381.0712636802577, 3603.2452754610867, 704.7031277488736, 1163.379075222844, 1177.6566424339994, 843.4815719479483, 2567.7425140962137, 1857.1829860970693, 1097.3705275033444, 900.2421034236876, 886.2813273513356, 892.055641021952, 985.4589635892802, 435.5513011724116, 3536.228622848011, 4825.104676010176, 4794.574153416682, 4282.543495500041, 3879.4618517788667, 1018.888892118115, 712.9415795385996, 1197.7257296393082, 905.2843850054999, 502.27915163940895], \"sizemode\": \"area\", \"sizeref\": 6.42112468537832}, \"mode\": \"markers\", \"name\": \"\", \"showlegend\": false, \"subplot\": \"mapbox\", \"type\": \"scattermapbox\"}],                        {\"coloraxis\": {\"colorbar\": {\"title\": {\"text\": \"nb_pos_cum\"}}, \"colorscale\": [[0.0, \"#fadc8f\"], [0.1, \"#f9d67a\"], [0.2, \"#f8d066\"], [0.3, \"#f8c952\"], [0.4, \"#f7c33d\"], [0.5, \"#f6bd29\"], [0.6, \"#f5b614\"], [0.7, \"#F4B000\"], [0.8, \"#eaa900\"], [0.9, \"#e0a200\"], [1.0, \"#dc9e00\"]]}, \"legend\": {\"itemsizing\": \"constant\", \"tracegroupgap\": 0}, \"mapbox\": {\"accesstoken\": \"pk.eyJ1IjoicG1lY2NoaWEiLCJhIjoiY2toNTVlajU4MDBtcTJycXBzNGlsOTByYyJ9.sfNsB0a0UzZxosdqWYhWyQ\", \"center\": {\"lat\": 46.4, \"lon\": 0.5}, \"domain\": {\"x\": [0.0, 1.0], \"y\": [0.0, 1.0]}, \"style\": \"dark\", \"zoom\": 3.5}, \"margin\": {\"t\": 60}, \"template\": {\"data\": {\"bar\": [{\"error_x\": {\"color\": \"#2a3f5f\"}, \"error_y\": {\"color\": \"#2a3f5f\"}, \"marker\": {\"line\": {\"color\": \"#E5ECF6\", \"width\": 0.5}}, \"type\": \"bar\"}], \"barpolar\": [{\"marker\": {\"line\": {\"color\": \"#E5ECF6\", \"width\": 0.5}}, \"type\": \"barpolar\"}], \"carpet\": [{\"aaxis\": {\"endlinecolor\": \"#2a3f5f\", \"gridcolor\": \"white\", \"linecolor\": \"white\", \"minorgridcolor\": \"white\", \"startlinecolor\": \"#2a3f5f\"}, \"baxis\": {\"endlinecolor\": \"#2a3f5f\", \"gridcolor\": \"white\", \"linecolor\": \"white\", \"minorgridcolor\": \"white\", \"startlinecolor\": \"#2a3f5f\"}, \"type\": \"carpet\"}], \"choropleth\": [{\"colorbar\": {\"outlinewidth\": 0, \"ticks\": \"\"}, \"type\": \"choropleth\"}], \"contour\": [{\"colorbar\": {\"outlinewidth\": 0, \"ticks\": \"\"}, \"colorscale\": [[0.0, \"#0d0887\"], [0.1111111111111111, \"#46039f\"], [0.2222222222222222, \"#7201a8\"], [0.3333333333333333, \"#9c179e\"], [0.4444444444444444, \"#bd3786\"], [0.5555555555555556, \"#d8576b\"], [0.6666666666666666, \"#ed7953\"], [0.7777777777777778, \"#fb9f3a\"], [0.8888888888888888, \"#fdca26\"], [1.0, \"#f0f921\"]], \"type\": \"contour\"}], \"contourcarpet\": [{\"colorbar\": {\"outlinewidth\": 0, \"ticks\": \"\"}, \"type\": \"contourcarpet\"}], \"heatmap\": [{\"colorbar\": {\"outlinewidth\": 0, \"ticks\": \"\"}, \"colorscale\": [[0.0, \"#0d0887\"], [0.1111111111111111, \"#46039f\"], [0.2222222222222222, \"#7201a8\"], [0.3333333333333333, \"#9c179e\"], [0.4444444444444444, \"#bd3786\"], [0.5555555555555556, \"#d8576b\"], [0.6666666666666666, \"#ed7953\"], [0.7777777777777778, \"#fb9f3a\"], [0.8888888888888888, \"#fdca26\"], [1.0, \"#f0f921\"]], \"type\": \"heatmap\"}], \"heatmapgl\": [{\"colorbar\": {\"outlinewidth\": 0, \"ticks\": \"\"}, \"colorscale\": [[0.0, \"#0d0887\"], [0.1111111111111111, \"#46039f\"], [0.2222222222222222, \"#7201a8\"], [0.3333333333333333, \"#9c179e\"], [0.4444444444444444, \"#bd3786\"], [0.5555555555555556, \"#d8576b\"], [0.6666666666666666, \"#ed7953\"], [0.7777777777777778, \"#fb9f3a\"], [0.8888888888888888, \"#fdca26\"], [1.0, \"#f0f921\"]], \"type\": \"heatmapgl\"}], \"histogram\": [{\"marker\": {\"colorbar\": {\"outlinewidth\": 0, \"ticks\": \"\"}}, \"type\": \"histogram\"}], \"histogram2d\": [{\"colorbar\": {\"outlinewidth\": 0, \"ticks\": \"\"}, \"colorscale\": [[0.0, \"#0d0887\"], [0.1111111111111111, \"#46039f\"], [0.2222222222222222, \"#7201a8\"], [0.3333333333333333, \"#9c179e\"], [0.4444444444444444, \"#bd3786\"], [0.5555555555555556, \"#d8576b\"], [0.6666666666666666, \"#ed7953\"], [0.7777777777777778, \"#fb9f3a\"], [0.8888888888888888, \"#fdca26\"], [1.0, \"#f0f921\"]], \"type\": \"histogram2d\"}], \"histogram2dcontour\": [{\"colorbar\": {\"outlinewidth\": 0, \"ticks\": \"\"}, \"colorscale\": [[0.0, \"#0d0887\"], [0.1111111111111111, \"#46039f\"], [0.2222222222222222, \"#7201a8\"], [0.3333333333333333, \"#9c179e\"], [0.4444444444444444, \"#bd3786\"], [0.5555555555555556, \"#d8576b\"], [0.6666666666666666, \"#ed7953\"], [0.7777777777777778, \"#fb9f3a\"], [0.8888888888888888, \"#fdca26\"], [1.0, \"#f0f921\"]], \"type\": \"histogram2dcontour\"}], \"mesh3d\": [{\"colorbar\": {\"outlinewidth\": 0, \"ticks\": \"\"}, \"type\": \"mesh3d\"}], \"parcoords\": [{\"line\": {\"colorbar\": {\"outlinewidth\": 0, \"ticks\": \"\"}}, \"type\": \"parcoords\"}], \"pie\": [{\"automargin\": true, \"type\": \"pie\"}], \"scatter\": [{\"marker\": {\"colorbar\": {\"outlinewidth\": 0, \"ticks\": \"\"}}, \"type\": \"scatter\"}], \"scatter3d\": [{\"line\": {\"colorbar\": {\"outlinewidth\": 0, \"ticks\": \"\"}}, \"marker\": {\"colorbar\": {\"outlinewidth\": 0, \"ticks\": \"\"}}, \"type\": \"scatter3d\"}], \"scattercarpet\": [{\"marker\": {\"colorbar\": {\"outlinewidth\": 0, \"ticks\": \"\"}}, \"type\": \"scattercarpet\"}], \"scattergeo\": [{\"marker\": {\"colorbar\": {\"outlinewidth\": 0, \"ticks\": \"\"}}, \"type\": \"scattergeo\"}], \"scattergl\": [{\"marker\": {\"colorbar\": {\"outlinewidth\": 0, \"ticks\": \"\"}}, \"type\": \"scattergl\"}], \"scattermapbox\": [{\"marker\": {\"colorbar\": {\"outlinewidth\": 0, \"ticks\": \"\"}}, \"type\": \"scattermapbox\"}], \"scatterpolar\": [{\"marker\": {\"colorbar\": {\"outlinewidth\": 0, \"ticks\": \"\"}}, \"type\": \"scatterpolar\"}], \"scatterpolargl\": [{\"marker\": {\"colorbar\": {\"outlinewidth\": 0, \"ticks\": \"\"}}, \"type\": \"scatterpolargl\"}], \"scatterternary\": [{\"marker\": {\"colorbar\": {\"outlinewidth\": 0, \"ticks\": \"\"}}, \"type\": \"scatterternary\"}], \"surface\": [{\"colorbar\": {\"outlinewidth\": 0, \"ticks\": \"\"}, \"colorscale\": [[0.0, \"#0d0887\"], [0.1111111111111111, \"#46039f\"], [0.2222222222222222, \"#7201a8\"], [0.3333333333333333, \"#9c179e\"], [0.4444444444444444, \"#bd3786\"], [0.5555555555555556, \"#d8576b\"], [0.6666666666666666, \"#ed7953\"], [0.7777777777777778, \"#fb9f3a\"], [0.8888888888888888, \"#fdca26\"], [1.0, \"#f0f921\"]], \"type\": \"surface\"}], \"table\": [{\"cells\": {\"fill\": {\"color\": \"#EBF0F8\"}, \"line\": {\"color\": \"white\"}}, \"header\": {\"fill\": {\"color\": \"#C8D4E3\"}, \"line\": {\"color\": \"white\"}}, \"type\": \"table\"}]}, \"layout\": {\"annotationdefaults\": {\"arrowcolor\": \"#2a3f5f\", \"arrowhead\": 0, \"arrowwidth\": 1}, \"coloraxis\": {\"colorbar\": {\"outlinewidth\": 0, \"ticks\": \"\"}}, \"colorscale\": {\"diverging\": [[0, \"#8e0152\"], [0.1, \"#c51b7d\"], [0.2, \"#de77ae\"], [0.3, \"#f1b6da\"], [0.4, \"#fde0ef\"], [0.5, \"#f7f7f7\"], [0.6, \"#e6f5d0\"], [0.7, \"#b8e186\"], [0.8, \"#7fbc41\"], [0.9, \"#4d9221\"], [1, \"#276419\"]], \"sequential\": [[0.0, \"#0d0887\"], [0.1111111111111111, \"#46039f\"], [0.2222222222222222, \"#7201a8\"], [0.3333333333333333, \"#9c179e\"], [0.4444444444444444, \"#bd3786\"], [0.5555555555555556, \"#d8576b\"], [0.6666666666666666, \"#ed7953\"], [0.7777777777777778, \"#fb9f3a\"], [0.8888888888888888, \"#fdca26\"], [1.0, \"#f0f921\"]], \"sequentialminus\": [[0.0, \"#0d0887\"], [0.1111111111111111, \"#46039f\"], [0.2222222222222222, \"#7201a8\"], [0.3333333333333333, \"#9c179e\"], [0.4444444444444444, \"#bd3786\"], [0.5555555555555556, \"#d8576b\"], [0.6666666666666666, \"#ed7953\"], [0.7777777777777778, \"#fb9f3a\"], [0.8888888888888888, \"#fdca26\"], [1.0, \"#f0f921\"]]}, \"colorway\": [\"#636efa\", \"#EF553B\", \"#00cc96\", \"#ab63fa\", \"#FFA15A\", \"#19d3f3\", \"#FF6692\", \"#B6E880\", \"#FF97FF\", \"#FECB52\"], \"font\": {\"color\": \"#2a3f5f\"}, \"geo\": {\"bgcolor\": \"white\", \"lakecolor\": \"white\", \"landcolor\": \"#E5ECF6\", \"showlakes\": true, \"showland\": true, \"subunitcolor\": \"white\"}, \"hoverlabel\": {\"align\": \"left\"}, \"hovermode\": \"closest\", \"mapbox\": {\"style\": \"light\"}, \"paper_bgcolor\": \"white\", \"plot_bgcolor\": \"#E5ECF6\", \"polar\": {\"angularaxis\": {\"gridcolor\": \"white\", \"linecolor\": \"white\", \"ticks\": \"\"}, \"bgcolor\": \"#E5ECF6\", \"radialaxis\": {\"gridcolor\": \"white\", \"linecolor\": \"white\", \"ticks\": \"\"}}, \"scene\": {\"xaxis\": {\"backgroundcolor\": \"#E5ECF6\", \"gridcolor\": \"white\", \"gridwidth\": 2, \"linecolor\": \"white\", \"showbackground\": true, \"ticks\": \"\", \"zerolinecolor\": \"white\"}, \"yaxis\": {\"backgroundcolor\": \"#E5ECF6\", \"gridcolor\": \"white\", \"gridwidth\": 2, \"linecolor\": \"white\", \"showbackground\": true, \"ticks\": \"\", \"zerolinecolor\": \"white\"}, \"zaxis\": {\"backgroundcolor\": \"#E5ECF6\", \"gridcolor\": \"white\", \"gridwidth\": 2, \"linecolor\": \"white\", \"showbackground\": true, \"ticks\": \"\", \"zerolinecolor\": \"white\"}}, \"shapedefaults\": {\"line\": {\"color\": \"#2a3f5f\"}}, \"ternary\": {\"aaxis\": {\"gridcolor\": \"white\", \"linecolor\": \"white\", \"ticks\": \"\"}, \"baxis\": {\"gridcolor\": \"white\", \"linecolor\": \"white\", \"ticks\": \"\"}, \"bgcolor\": \"#E5ECF6\", \"caxis\": {\"gridcolor\": \"white\", \"linecolor\": \"white\", \"ticks\": \"\"}}, \"title\": {\"x\": 0.05}, \"xaxis\": {\"automargin\": true, \"gridcolor\": \"white\", \"linecolor\": \"white\", \"ticks\": \"\", \"title\": {\"standoff\": 15}, \"zerolinecolor\": \"white\", \"zerolinewidth\": 2}, \"yaxis\": {\"automargin\": true, \"gridcolor\": \"white\", \"linecolor\": \"white\", \"ticks\": \"\", \"title\": {\"standoff\": 15}, \"zerolinecolor\": \"white\", \"zerolinewidth\": 2}}}},                        {\"responsive\": true}                    ).then(function(){\n",
       "                            \n",
       "var gd = document.getElementById('b5a4ff40-e5bc-475e-9073-c1ca2eaf454a');\n",
       "var x = new MutationObserver(function (mutations, observer) {{\n",
       "        var display = window.getComputedStyle(gd).display;\n",
       "        if (!display || display === 'none') {{\n",
       "            console.log([gd, 'removed!']);\n",
       "            Plotly.purge(gd);\n",
       "            observer.disconnect();\n",
       "        }}\n",
       "}});\n",
       "\n",
       "// Listen for the removal of the full notebook cells\n",
       "var notebookContainer = gd.closest('#notebook-container');\n",
       "if (notebookContainer) {{\n",
       "    x.observe(notebookContainer, {childList: true});\n",
       "}}\n",
       "\n",
       "// Listen for the clearing of the current output cell\n",
       "var outputEl = gd.closest('.output');\n",
       "if (outputEl) {{\n",
       "    x.observe(outputEl, {childList: true});\n",
       "}}\n",
       "\n",
       "                        })                };                });            </script>        </div>"
      ]
     },
     "metadata": {},
     "output_type": "display_data"
    }
   ],
   "source": [
    "plot_map()"
   ]
  },
  {
   "cell_type": "markdown",
   "metadata": {},
   "source": [
    "### **Graph**"
   ]
  },
  {
   "cell_type": "code",
   "execution_count": 389,
   "metadata": {},
   "outputs": [],
   "source": [
    "#parameters for graph\n",
    "last_days=30 #number of last days to plot\n",
    "select_df=\"country\" #select dataframe to use\n",
    "dep_name = \"Aisne\" #if department dataframe used, department to focus"
   ]
  },
  {
   "cell_type": "code",
   "execution_count": 390,
   "metadata": {},
   "outputs": [],
   "source": [
    "#dictionnary of differents dataframes\n",
    "all_df={\"departments\":df_dep[df_dep[\"dep_name\"]==dep_name],\"country\":df_france}"
   ]
  },
  {
   "cell_type": "markdown",
   "metadata": {},
   "source": [
    "1. **Confirmed Cases**"
   ]
  },
  {
   "cell_type": "code",
   "execution_count": 391,
   "metadata": {},
   "outputs": [],
   "source": [
    "def confirmed_cases(selected_df,last_days_nb):    \n",
    "    yaxis_max=np.log10(selected_df['nb_pos_cum'].tail(1).tolist()[0])+0.5 \n",
    "    fig_confirmed = go.Figure()\n",
    "    fig_confirmed.add_trace(\n",
    "        go.Scatter(\n",
    "            x=selected_df['jour'].tail(last_days_nb),\n",
    "            y=selected_df['nb_pos_cum'].tail(last_days_nb),\n",
    "            mode=\"lines\",\n",
    "            line={\"color\":\"#dc9e00\"},\n",
    "            showlegend=False,\n",
    "            #name=\"Total Confirmed Cases\"\n",
    "        )\n",
    "    )\n",
    "    fig_confirmed.add_trace(\n",
    "        go.Bar(\n",
    "            x=selected_df['jour'].tail(last_days),\n",
    "            y=selected_df['nb_pos'].tail(last_days),\n",
    "            marker={\"color\":\"#f9d67a\"},\n",
    "            showlegend=False,\n",
    "            #name=\"New Confirmed Cases\",\n",
    "\n",
    "        )\n",
    "    )\n",
    "\n",
    "\n",
    "    # LINE CHART ANNOTATION\n",
    "    fig_confirmed.add_annotation(\n",
    "         x=selected_df['jour'].tail(1).tolist()[0],\n",
    "         y=yaxis_max,\n",
    "         text=\"Total Confirmed Cases\",\n",
    "         font={\"size\": 14,\"color\":\"#dc9e00\"},\n",
    "         xshift=-220,  # Annotation x displacement!\n",
    "         showarrow=False,\n",
    "    )\n",
    "\n",
    "    # BAR CHART ANNOTATION\n",
    "    fig_confirmed.add_annotation(\n",
    "        x=selected_df['jour'].tail(last_days).tolist()[0],\n",
    "        y=np.log10(selected_df['nb_pos'].tail(last_days).max()),\n",
    "        text=\"New Confirmed Cases\",\n",
    "        font={\"size\": 14, \"color\":\"#f9d67a\"},\n",
    "        xshift=100,  # Annotation x displacement!\n",
    "        yshift=20,  # Annotation y displacement!\n",
    "        showarrow=False,\n",
    "        )\n",
    "    fig_confirmed.update_layout(\n",
    "        template=\"plotly_dark\",\n",
    "        xaxis={\"title\":\"Dates\"},\n",
    "        yaxis=dict(range=[0,yaxis_max],title=\"Number of cases\"),\n",
    "        yaxis_type=\"log\",\n",
    "        autosize=True,\n",
    "    )\n",
    "    fig_confirmed.show()"
   ]
  },
  {
   "cell_type": "code",
   "execution_count": 392,
   "metadata": {},
   "outputs": [
    {
     "data": {
      "application/vnd.plotly.v1+json": {
       "config": {
        "plotlyServerURL": "https://plot.ly"
       },
       "data": [
        {
         "line": {
          "color": "#dc9e00"
         },
         "mode": "lines",
         "showlegend": false,
         "type": "scatter",
         "x": [
          "2020-10-14",
          "2020-10-15",
          "2020-10-16",
          "2020-10-17",
          "2020-10-18",
          "2020-10-19",
          "2020-10-20",
          "2020-10-21",
          "2020-10-22",
          "2020-10-23",
          "2020-10-24",
          "2020-10-25",
          "2020-10-26",
          "2020-10-27",
          "2020-10-28",
          "2020-10-29",
          "2020-10-30",
          "2020-10-31",
          "2020-11-01",
          "2020-11-02",
          "2020-11-03",
          "2020-11-04",
          "2020-11-05",
          "2020-11-06",
          "2020-11-07",
          "2020-11-08",
          "2020-11-09",
          "2020-11-10",
          "2020-11-11",
          "2020-11-12"
         ],
         "y": [
          736077,
          767786,
          800967,
          816039,
          820611,
          865274,
          909052,
          955133,
          1005486,
          1060019,
          1084863,
          1091991,
          1160087,
          1220862,
          1277141,
          1332703,
          1390589,
          1416563,
          1423325,
          1492622,
          1550994,
          1600480,
          1646564,
          1690943,
          1708520,
          1712734,
          1759539,
          1796015,
          1801157,
          1835457
         ]
        },
        {
         "marker": {
          "color": "#f9d67a"
         },
         "showlegend": false,
         "type": "bar",
         "x": [
          "2020-10-14",
          "2020-10-15",
          "2020-10-16",
          "2020-10-17",
          "2020-10-18",
          "2020-10-19",
          "2020-10-20",
          "2020-10-21",
          "2020-10-22",
          "2020-10-23",
          "2020-10-24",
          "2020-10-25",
          "2020-10-26",
          "2020-10-27",
          "2020-10-28",
          "2020-10-29",
          "2020-10-30",
          "2020-10-31",
          "2020-11-01",
          "2020-11-02",
          "2020-11-03",
          "2020-11-04",
          "2020-11-05",
          "2020-11-06",
          "2020-11-07",
          "2020-11-08",
          "2020-11-09",
          "2020-11-10",
          "2020-11-11",
          "2020-11-12"
         ],
         "y": [
          28482,
          31709,
          33181,
          15072,
          4572,
          44663,
          43778,
          46081,
          50353,
          54533,
          24844,
          7128,
          68096,
          60775,
          56279,
          55562,
          57886,
          25974,
          6762,
          69297,
          58372,
          49486,
          46084,
          44379,
          17577,
          4214,
          46805,
          36476,
          5142,
          34300
         ]
        }
       ],
       "layout": {
        "annotations": [
         {
          "font": {
           "color": "#dc9e00",
           "size": 14
          },
          "showarrow": false,
          "text": "Total Confirmed Cases",
          "x": "2020-11-12",
          "xshift": -220,
          "y": 6.763744214565165
         },
         {
          "font": {
           "color": "#f9d67a",
           "size": 14
          },
          "showarrow": false,
          "text": "New Confirmed Cases",
          "x": "2020-10-14",
          "xshift": 100,
          "y": 4.840714433577933,
          "yshift": 20
         }
        ],
        "autosize": true,
        "template": {
         "data": {
          "bar": [
           {
            "error_x": {
             "color": "#f2f5fa"
            },
            "error_y": {
             "color": "#f2f5fa"
            },
            "marker": {
             "line": {
              "color": "rgb(17,17,17)",
              "width": 0.5
             }
            },
            "type": "bar"
           }
          ],
          "barpolar": [
           {
            "marker": {
             "line": {
              "color": "rgb(17,17,17)",
              "width": 0.5
             }
            },
            "type": "barpolar"
           }
          ],
          "carpet": [
           {
            "aaxis": {
             "endlinecolor": "#A2B1C6",
             "gridcolor": "#506784",
             "linecolor": "#506784",
             "minorgridcolor": "#506784",
             "startlinecolor": "#A2B1C6"
            },
            "baxis": {
             "endlinecolor": "#A2B1C6",
             "gridcolor": "#506784",
             "linecolor": "#506784",
             "minorgridcolor": "#506784",
             "startlinecolor": "#A2B1C6"
            },
            "type": "carpet"
           }
          ],
          "choropleth": [
           {
            "colorbar": {
             "outlinewidth": 0,
             "ticks": ""
            },
            "type": "choropleth"
           }
          ],
          "contour": [
           {
            "colorbar": {
             "outlinewidth": 0,
             "ticks": ""
            },
            "colorscale": [
             [
              0,
              "#0d0887"
             ],
             [
              0.1111111111111111,
              "#46039f"
             ],
             [
              0.2222222222222222,
              "#7201a8"
             ],
             [
              0.3333333333333333,
              "#9c179e"
             ],
             [
              0.4444444444444444,
              "#bd3786"
             ],
             [
              0.5555555555555556,
              "#d8576b"
             ],
             [
              0.6666666666666666,
              "#ed7953"
             ],
             [
              0.7777777777777778,
              "#fb9f3a"
             ],
             [
              0.8888888888888888,
              "#fdca26"
             ],
             [
              1,
              "#f0f921"
             ]
            ],
            "type": "contour"
           }
          ],
          "contourcarpet": [
           {
            "colorbar": {
             "outlinewidth": 0,
             "ticks": ""
            },
            "type": "contourcarpet"
           }
          ],
          "heatmap": [
           {
            "colorbar": {
             "outlinewidth": 0,
             "ticks": ""
            },
            "colorscale": [
             [
              0,
              "#0d0887"
             ],
             [
              0.1111111111111111,
              "#46039f"
             ],
             [
              0.2222222222222222,
              "#7201a8"
             ],
             [
              0.3333333333333333,
              "#9c179e"
             ],
             [
              0.4444444444444444,
              "#bd3786"
             ],
             [
              0.5555555555555556,
              "#d8576b"
             ],
             [
              0.6666666666666666,
              "#ed7953"
             ],
             [
              0.7777777777777778,
              "#fb9f3a"
             ],
             [
              0.8888888888888888,
              "#fdca26"
             ],
             [
              1,
              "#f0f921"
             ]
            ],
            "type": "heatmap"
           }
          ],
          "heatmapgl": [
           {
            "colorbar": {
             "outlinewidth": 0,
             "ticks": ""
            },
            "colorscale": [
             [
              0,
              "#0d0887"
             ],
             [
              0.1111111111111111,
              "#46039f"
             ],
             [
              0.2222222222222222,
              "#7201a8"
             ],
             [
              0.3333333333333333,
              "#9c179e"
             ],
             [
              0.4444444444444444,
              "#bd3786"
             ],
             [
              0.5555555555555556,
              "#d8576b"
             ],
             [
              0.6666666666666666,
              "#ed7953"
             ],
             [
              0.7777777777777778,
              "#fb9f3a"
             ],
             [
              0.8888888888888888,
              "#fdca26"
             ],
             [
              1,
              "#f0f921"
             ]
            ],
            "type": "heatmapgl"
           }
          ],
          "histogram": [
           {
            "marker": {
             "colorbar": {
              "outlinewidth": 0,
              "ticks": ""
             }
            },
            "type": "histogram"
           }
          ],
          "histogram2d": [
           {
            "colorbar": {
             "outlinewidth": 0,
             "ticks": ""
            },
            "colorscale": [
             [
              0,
              "#0d0887"
             ],
             [
              0.1111111111111111,
              "#46039f"
             ],
             [
              0.2222222222222222,
              "#7201a8"
             ],
             [
              0.3333333333333333,
              "#9c179e"
             ],
             [
              0.4444444444444444,
              "#bd3786"
             ],
             [
              0.5555555555555556,
              "#d8576b"
             ],
             [
              0.6666666666666666,
              "#ed7953"
             ],
             [
              0.7777777777777778,
              "#fb9f3a"
             ],
             [
              0.8888888888888888,
              "#fdca26"
             ],
             [
              1,
              "#f0f921"
             ]
            ],
            "type": "histogram2d"
           }
          ],
          "histogram2dcontour": [
           {
            "colorbar": {
             "outlinewidth": 0,
             "ticks": ""
            },
            "colorscale": [
             [
              0,
              "#0d0887"
             ],
             [
              0.1111111111111111,
              "#46039f"
             ],
             [
              0.2222222222222222,
              "#7201a8"
             ],
             [
              0.3333333333333333,
              "#9c179e"
             ],
             [
              0.4444444444444444,
              "#bd3786"
             ],
             [
              0.5555555555555556,
              "#d8576b"
             ],
             [
              0.6666666666666666,
              "#ed7953"
             ],
             [
              0.7777777777777778,
              "#fb9f3a"
             ],
             [
              0.8888888888888888,
              "#fdca26"
             ],
             [
              1,
              "#f0f921"
             ]
            ],
            "type": "histogram2dcontour"
           }
          ],
          "mesh3d": [
           {
            "colorbar": {
             "outlinewidth": 0,
             "ticks": ""
            },
            "type": "mesh3d"
           }
          ],
          "parcoords": [
           {
            "line": {
             "colorbar": {
              "outlinewidth": 0,
              "ticks": ""
             }
            },
            "type": "parcoords"
           }
          ],
          "pie": [
           {
            "automargin": true,
            "type": "pie"
           }
          ],
          "scatter": [
           {
            "marker": {
             "line": {
              "color": "#283442"
             }
            },
            "type": "scatter"
           }
          ],
          "scatter3d": [
           {
            "line": {
             "colorbar": {
              "outlinewidth": 0,
              "ticks": ""
             }
            },
            "marker": {
             "colorbar": {
              "outlinewidth": 0,
              "ticks": ""
             }
            },
            "type": "scatter3d"
           }
          ],
          "scattercarpet": [
           {
            "marker": {
             "colorbar": {
              "outlinewidth": 0,
              "ticks": ""
             }
            },
            "type": "scattercarpet"
           }
          ],
          "scattergeo": [
           {
            "marker": {
             "colorbar": {
              "outlinewidth": 0,
              "ticks": ""
             }
            },
            "type": "scattergeo"
           }
          ],
          "scattergl": [
           {
            "marker": {
             "line": {
              "color": "#283442"
             }
            },
            "type": "scattergl"
           }
          ],
          "scattermapbox": [
           {
            "marker": {
             "colorbar": {
              "outlinewidth": 0,
              "ticks": ""
             }
            },
            "type": "scattermapbox"
           }
          ],
          "scatterpolar": [
           {
            "marker": {
             "colorbar": {
              "outlinewidth": 0,
              "ticks": ""
             }
            },
            "type": "scatterpolar"
           }
          ],
          "scatterpolargl": [
           {
            "marker": {
             "colorbar": {
              "outlinewidth": 0,
              "ticks": ""
             }
            },
            "type": "scatterpolargl"
           }
          ],
          "scatterternary": [
           {
            "marker": {
             "colorbar": {
              "outlinewidth": 0,
              "ticks": ""
             }
            },
            "type": "scatterternary"
           }
          ],
          "surface": [
           {
            "colorbar": {
             "outlinewidth": 0,
             "ticks": ""
            },
            "colorscale": [
             [
              0,
              "#0d0887"
             ],
             [
              0.1111111111111111,
              "#46039f"
             ],
             [
              0.2222222222222222,
              "#7201a8"
             ],
             [
              0.3333333333333333,
              "#9c179e"
             ],
             [
              0.4444444444444444,
              "#bd3786"
             ],
             [
              0.5555555555555556,
              "#d8576b"
             ],
             [
              0.6666666666666666,
              "#ed7953"
             ],
             [
              0.7777777777777778,
              "#fb9f3a"
             ],
             [
              0.8888888888888888,
              "#fdca26"
             ],
             [
              1,
              "#f0f921"
             ]
            ],
            "type": "surface"
           }
          ],
          "table": [
           {
            "cells": {
             "fill": {
              "color": "#506784"
             },
             "line": {
              "color": "rgb(17,17,17)"
             }
            },
            "header": {
             "fill": {
              "color": "#2a3f5f"
             },
             "line": {
              "color": "rgb(17,17,17)"
             }
            },
            "type": "table"
           }
          ]
         },
         "layout": {
          "annotationdefaults": {
           "arrowcolor": "#f2f5fa",
           "arrowhead": 0,
           "arrowwidth": 1
          },
          "coloraxis": {
           "colorbar": {
            "outlinewidth": 0,
            "ticks": ""
           }
          },
          "colorscale": {
           "diverging": [
            [
             0,
             "#8e0152"
            ],
            [
             0.1,
             "#c51b7d"
            ],
            [
             0.2,
             "#de77ae"
            ],
            [
             0.3,
             "#f1b6da"
            ],
            [
             0.4,
             "#fde0ef"
            ],
            [
             0.5,
             "#f7f7f7"
            ],
            [
             0.6,
             "#e6f5d0"
            ],
            [
             0.7,
             "#b8e186"
            ],
            [
             0.8,
             "#7fbc41"
            ],
            [
             0.9,
             "#4d9221"
            ],
            [
             1,
             "#276419"
            ]
           ],
           "sequential": [
            [
             0,
             "#0d0887"
            ],
            [
             0.1111111111111111,
             "#46039f"
            ],
            [
             0.2222222222222222,
             "#7201a8"
            ],
            [
             0.3333333333333333,
             "#9c179e"
            ],
            [
             0.4444444444444444,
             "#bd3786"
            ],
            [
             0.5555555555555556,
             "#d8576b"
            ],
            [
             0.6666666666666666,
             "#ed7953"
            ],
            [
             0.7777777777777778,
             "#fb9f3a"
            ],
            [
             0.8888888888888888,
             "#fdca26"
            ],
            [
             1,
             "#f0f921"
            ]
           ],
           "sequentialminus": [
            [
             0,
             "#0d0887"
            ],
            [
             0.1111111111111111,
             "#46039f"
            ],
            [
             0.2222222222222222,
             "#7201a8"
            ],
            [
             0.3333333333333333,
             "#9c179e"
            ],
            [
             0.4444444444444444,
             "#bd3786"
            ],
            [
             0.5555555555555556,
             "#d8576b"
            ],
            [
             0.6666666666666666,
             "#ed7953"
            ],
            [
             0.7777777777777778,
             "#fb9f3a"
            ],
            [
             0.8888888888888888,
             "#fdca26"
            ],
            [
             1,
             "#f0f921"
            ]
           ]
          },
          "colorway": [
           "#636efa",
           "#EF553B",
           "#00cc96",
           "#ab63fa",
           "#FFA15A",
           "#19d3f3",
           "#FF6692",
           "#B6E880",
           "#FF97FF",
           "#FECB52"
          ],
          "font": {
           "color": "#f2f5fa"
          },
          "geo": {
           "bgcolor": "rgb(17,17,17)",
           "lakecolor": "rgb(17,17,17)",
           "landcolor": "rgb(17,17,17)",
           "showlakes": true,
           "showland": true,
           "subunitcolor": "#506784"
          },
          "hoverlabel": {
           "align": "left"
          },
          "hovermode": "closest",
          "mapbox": {
           "style": "dark"
          },
          "paper_bgcolor": "rgb(17,17,17)",
          "plot_bgcolor": "rgb(17,17,17)",
          "polar": {
           "angularaxis": {
            "gridcolor": "#506784",
            "linecolor": "#506784",
            "ticks": ""
           },
           "bgcolor": "rgb(17,17,17)",
           "radialaxis": {
            "gridcolor": "#506784",
            "linecolor": "#506784",
            "ticks": ""
           }
          },
          "scene": {
           "xaxis": {
            "backgroundcolor": "rgb(17,17,17)",
            "gridcolor": "#506784",
            "gridwidth": 2,
            "linecolor": "#506784",
            "showbackground": true,
            "ticks": "",
            "zerolinecolor": "#C8D4E3"
           },
           "yaxis": {
            "backgroundcolor": "rgb(17,17,17)",
            "gridcolor": "#506784",
            "gridwidth": 2,
            "linecolor": "#506784",
            "showbackground": true,
            "ticks": "",
            "zerolinecolor": "#C8D4E3"
           },
           "zaxis": {
            "backgroundcolor": "rgb(17,17,17)",
            "gridcolor": "#506784",
            "gridwidth": 2,
            "linecolor": "#506784",
            "showbackground": true,
            "ticks": "",
            "zerolinecolor": "#C8D4E3"
           }
          },
          "shapedefaults": {
           "line": {
            "color": "#f2f5fa"
           }
          },
          "sliderdefaults": {
           "bgcolor": "#C8D4E3",
           "bordercolor": "rgb(17,17,17)",
           "borderwidth": 1,
           "tickwidth": 0
          },
          "ternary": {
           "aaxis": {
            "gridcolor": "#506784",
            "linecolor": "#506784",
            "ticks": ""
           },
           "baxis": {
            "gridcolor": "#506784",
            "linecolor": "#506784",
            "ticks": ""
           },
           "bgcolor": "rgb(17,17,17)",
           "caxis": {
            "gridcolor": "#506784",
            "linecolor": "#506784",
            "ticks": ""
           }
          },
          "title": {
           "x": 0.05
          },
          "updatemenudefaults": {
           "bgcolor": "#506784",
           "borderwidth": 0
          },
          "xaxis": {
           "automargin": true,
           "gridcolor": "#283442",
           "linecolor": "#506784",
           "ticks": "",
           "title": {
            "standoff": 15
           },
           "zerolinecolor": "#283442",
           "zerolinewidth": 2
          },
          "yaxis": {
           "automargin": true,
           "gridcolor": "#283442",
           "linecolor": "#506784",
           "ticks": "",
           "title": {
            "standoff": 15
           },
           "zerolinecolor": "#283442",
           "zerolinewidth": 2
          }
         }
        },
        "xaxis": {
         "autorange": true,
         "range": [
          "2020-10-13 12:00",
          "2020-11-12 12:00"
         ],
         "title": {
          "text": "Dates"
         },
         "type": "date"
        },
        "yaxis": {
         "range": [
          0,
          6.763744214565165
         ],
         "title": {
          "text": "Number of cases"
         },
         "type": "log"
        }
       }
      },
      "image/png": "[encoded data removed]",
      "text/html": [
       "<div>                            <div id=\"3d296efa-37ea-4e7f-b393-4f4abc724895\" class=\"plotly-graph-div\" style=\"height:525px; width:100%;\"></div>            <script type=\"text/javascript\">                require([\"plotly\"], function(Plotly) {                    window.PLOTLYENV=window.PLOTLYENV || {};                                    if (document.getElementById(\"3d296efa-37ea-4e7f-b393-4f4abc724895\")) {                    Plotly.newPlot(                        \"3d296efa-37ea-4e7f-b393-4f4abc724895\",                        [{\"line\": {\"color\": \"#dc9e00\"}, \"mode\": \"lines\", \"showlegend\": false, \"type\": \"scatter\", \"x\": [\"2020-10-14\", \"2020-10-15\", \"2020-10-16\", \"2020-10-17\", \"2020-10-18\", \"2020-10-19\", \"2020-10-20\", \"2020-10-21\", \"2020-10-22\", \"2020-10-23\", \"2020-10-24\", \"2020-10-25\", \"2020-10-26\", \"2020-10-27\", \"2020-10-28\", \"2020-10-29\", \"2020-10-30\", \"2020-10-31\", \"2020-11-01\", \"2020-11-02\", \"2020-11-03\", \"2020-11-04\", \"2020-11-05\", \"2020-11-06\", \"2020-11-07\", \"2020-11-08\", \"2020-11-09\", \"2020-11-10\", \"2020-11-11\", \"2020-11-12\"], \"y\": [736077, 767786, 800967, 816039, 820611, 865274, 909052, 955133, 1005486, 1060019, 1084863, 1091991, 1160087, 1220862, 1277141, 1332703, 1390589, 1416563, 1423325, 1492622, 1550994, 1600480, 1646564, 1690943, 1708520, 1712734, 1759539, 1796015, 1801157, 1835457]}, {\"marker\": {\"color\": \"#f9d67a\"}, \"showlegend\": false, \"type\": \"bar\", \"x\": [\"2020-10-14\", \"2020-10-15\", \"2020-10-16\", \"2020-10-17\", \"2020-10-18\", \"2020-10-19\", \"2020-10-20\", \"2020-10-21\", \"2020-10-22\", \"2020-10-23\", \"2020-10-24\", \"2020-10-25\", \"2020-10-26\", \"2020-10-27\", \"2020-10-28\", \"2020-10-29\", \"2020-10-30\", \"2020-10-31\", \"2020-11-01\", \"2020-11-02\", \"2020-11-03\", \"2020-11-04\", \"2020-11-05\", \"2020-11-06\", \"2020-11-07\", \"2020-11-08\", \"2020-11-09\", \"2020-11-10\", \"2020-11-11\", \"2020-11-12\"], \"y\": [28482, 31709, 33181, 15072, 4572, 44663, 43778, 46081, 50353, 54533, 24844, 7128, 68096, 60775, 56279, 55562, 57886, 25974, 6762, 69297, 58372, 49486, 46084, 44379, 17577, 4214, 46805, 36476, 5142, 34300]}],                        {\"annotations\": [{\"font\": {\"color\": \"#dc9e00\", \"size\": 14}, \"showarrow\": false, \"text\": \"Total Confirmed Cases\", \"x\": \"2020-11-12\", \"xshift\": -220, \"y\": 6.763744214565165}, {\"font\": {\"color\": \"#f9d67a\", \"size\": 14}, \"showarrow\": false, \"text\": \"New Confirmed Cases\", \"x\": \"2020-10-14\", \"xshift\": 100, \"y\": 4.840714433577933, \"yshift\": 20}], \"autosize\": true, \"template\": {\"data\": {\"bar\": [{\"error_x\": {\"color\": \"#f2f5fa\"}, \"error_y\": {\"color\": \"#f2f5fa\"}, \"marker\": {\"line\": {\"color\": \"rgb(17,17,17)\", \"width\": 0.5}}, \"type\": \"bar\"}], \"barpolar\": [{\"marker\": {\"line\": {\"color\": \"rgb(17,17,17)\", \"width\": 0.5}}, \"type\": \"barpolar\"}], \"carpet\": [{\"aaxis\": {\"endlinecolor\": \"#A2B1C6\", \"gridcolor\": \"#506784\", \"linecolor\": \"#506784\", \"minorgridcolor\": \"#506784\", \"startlinecolor\": \"#A2B1C6\"}, \"baxis\": {\"endlinecolor\": \"#A2B1C6\", \"gridcolor\": \"#506784\", \"linecolor\": \"#506784\", \"minorgridcolor\": \"#506784\", \"startlinecolor\": \"#A2B1C6\"}, \"type\": \"carpet\"}], \"choropleth\": [{\"colorbar\": {\"outlinewidth\": 0, \"ticks\": \"\"}, \"type\": \"choropleth\"}], \"contour\": [{\"colorbar\": {\"outlinewidth\": 0, \"ticks\": \"\"}, \"colorscale\": [[0.0, \"#0d0887\"], [0.1111111111111111, \"#46039f\"], [0.2222222222222222, \"#7201a8\"], [0.3333333333333333, \"#9c179e\"], [0.4444444444444444, \"#bd3786\"], [0.5555555555555556, \"#d8576b\"], [0.6666666666666666, \"#ed7953\"], [0.7777777777777778, \"#fb9f3a\"], [0.8888888888888888, \"#fdca26\"], [1.0, \"#f0f921\"]], \"type\": \"contour\"}], \"contourcarpet\": [{\"colorbar\": {\"outlinewidth\": 0, \"ticks\": \"\"}, \"type\": \"contourcarpet\"}], \"heatmap\": [{\"colorbar\": {\"outlinewidth\": 0, \"ticks\": \"\"}, \"colorscale\": [[0.0, \"#0d0887\"], [0.1111111111111111, \"#46039f\"], [0.2222222222222222, \"#7201a8\"], [0.3333333333333333, \"#9c179e\"], [0.4444444444444444, \"#bd3786\"], [0.5555555555555556, \"#d8576b\"], [0.6666666666666666, \"#ed7953\"], [0.7777777777777778, \"#fb9f3a\"], [0.8888888888888888, \"#fdca26\"], [1.0, \"#f0f921\"]], \"type\": \"heatmap\"}], \"heatmapgl\": [{\"colorbar\": {\"outlinewidth\": 0, \"ticks\": \"\"}, \"colorscale\": [[0.0, \"#0d0887\"], [0.1111111111111111, \"#46039f\"], [0.2222222222222222, \"#7201a8\"], [0.3333333333333333, \"#9c179e\"], [0.4444444444444444, \"#bd3786\"], [0.5555555555555556, \"#d8576b\"], [0.6666666666666666, \"#ed7953\"], [0.7777777777777778, \"#fb9f3a\"], [0.8888888888888888, \"#fdca26\"], [1.0, \"#f0f921\"]], \"type\": \"heatmapgl\"}], \"histogram\": [{\"marker\": {\"colorbar\": {\"outlinewidth\": 0, \"ticks\": \"\"}}, \"type\": \"histogram\"}], \"histogram2d\": [{\"colorbar\": {\"outlinewidth\": 0, \"ticks\": \"\"}, \"colorscale\": [[0.0, \"#0d0887\"], [0.1111111111111111, \"#46039f\"], [0.2222222222222222, \"#7201a8\"], [0.3333333333333333, \"#9c179e\"], [0.4444444444444444, \"#bd3786\"], [0.5555555555555556, \"#d8576b\"], [0.6666666666666666, \"#ed7953\"], [0.7777777777777778, \"#fb9f3a\"], [0.8888888888888888, \"#fdca26\"], [1.0, \"#f0f921\"]], \"type\": \"histogram2d\"}], \"histogram2dcontour\": [{\"colorbar\": {\"outlinewidth\": 0, \"ticks\": \"\"}, \"colorscale\": [[0.0, \"#0d0887\"], [0.1111111111111111, \"#46039f\"], [0.2222222222222222, \"#7201a8\"], [0.3333333333333333, \"#9c179e\"], [0.4444444444444444, \"#bd3786\"], [0.5555555555555556, \"#d8576b\"], [0.6666666666666666, \"#ed7953\"], [0.7777777777777778, \"#fb9f3a\"], [0.8888888888888888, \"#fdca26\"], [1.0, \"#f0f921\"]], \"type\": \"histogram2dcontour\"}], \"mesh3d\": [{\"colorbar\": {\"outlinewidth\": 0, \"ticks\": \"\"}, \"type\": \"mesh3d\"}], \"parcoords\": [{\"line\": {\"colorbar\": {\"outlinewidth\": 0, \"ticks\": \"\"}}, \"type\": \"parcoords\"}], \"pie\": [{\"automargin\": true, \"type\": \"pie\"}], \"scatter\": [{\"marker\": {\"line\": {\"color\": \"#283442\"}}, \"type\": \"scatter\"}], \"scatter3d\": [{\"line\": {\"colorbar\": {\"outlinewidth\": 0, \"ticks\": \"\"}}, \"marker\": {\"colorbar\": {\"outlinewidth\": 0, \"ticks\": \"\"}}, \"type\": \"scatter3d\"}], \"scattercarpet\": [{\"marker\": {\"colorbar\": {\"outlinewidth\": 0, \"ticks\": \"\"}}, \"type\": \"scattercarpet\"}], \"scattergeo\": [{\"marker\": {\"colorbar\": {\"outlinewidth\": 0, \"ticks\": \"\"}}, \"type\": \"scattergeo\"}], \"scattergl\": [{\"marker\": {\"line\": {\"color\": \"#283442\"}}, \"type\": \"scattergl\"}], \"scattermapbox\": [{\"marker\": {\"colorbar\": {\"outlinewidth\": 0, \"ticks\": \"\"}}, \"type\": \"scattermapbox\"}], \"scatterpolar\": [{\"marker\": {\"colorbar\": {\"outlinewidth\": 0, \"ticks\": \"\"}}, \"type\": \"scatterpolar\"}], \"scatterpolargl\": [{\"marker\": {\"colorbar\": {\"outlinewidth\": 0, \"ticks\": \"\"}}, \"type\": \"scatterpolargl\"}], \"scatterternary\": [{\"marker\": {\"colorbar\": {\"outlinewidth\": 0, \"ticks\": \"\"}}, \"type\": \"scatterternary\"}], \"surface\": [{\"colorbar\": {\"outlinewidth\": 0, \"ticks\": \"\"}, \"colorscale\": [[0.0, \"#0d0887\"], [0.1111111111111111, \"#46039f\"], [0.2222222222222222, \"#7201a8\"], [0.3333333333333333, \"#9c179e\"], [0.4444444444444444, \"#bd3786\"], [0.5555555555555556, \"#d8576b\"], [0.6666666666666666, \"#ed7953\"], [0.7777777777777778, \"#fb9f3a\"], [0.8888888888888888, \"#fdca26\"], [1.0, \"#f0f921\"]], \"type\": \"surface\"}], \"table\": [{\"cells\": {\"fill\": {\"color\": \"#506784\"}, \"line\": {\"color\": \"rgb(17,17,17)\"}}, \"header\": {\"fill\": {\"color\": \"#2a3f5f\"}, \"line\": {\"color\": \"rgb(17,17,17)\"}}, \"type\": \"table\"}]}, \"layout\": {\"annotationdefaults\": {\"arrowcolor\": \"#f2f5fa\", \"arrowhead\": 0, \"arrowwidth\": 1}, \"coloraxis\": {\"colorbar\": {\"outlinewidth\": 0, \"ticks\": \"\"}}, \"colorscale\": {\"diverging\": [[0, \"#8e0152\"], [0.1, \"#c51b7d\"], [0.2, \"#de77ae\"], [0.3, \"#f1b6da\"], [0.4, \"#fde0ef\"], [0.5, \"#f7f7f7\"], [0.6, \"#e6f5d0\"], [0.7, \"#b8e186\"], [0.8, \"#7fbc41\"], [0.9, \"#4d9221\"], [1, \"#276419\"]], \"sequential\": [[0.0, \"#0d0887\"], [0.1111111111111111, \"#46039f\"], [0.2222222222222222, \"#7201a8\"], [0.3333333333333333, \"#9c179e\"], [0.4444444444444444, \"#bd3786\"], [0.5555555555555556, \"#d8576b\"], [0.6666666666666666, \"#ed7953\"], [0.7777777777777778, \"#fb9f3a\"], [0.8888888888888888, \"#fdca26\"], [1.0, \"#f0f921\"]], \"sequentialminus\": [[0.0, \"#0d0887\"], [0.1111111111111111, \"#46039f\"], [0.2222222222222222, \"#7201a8\"], [0.3333333333333333, \"#9c179e\"], [0.4444444444444444, \"#bd3786\"], [0.5555555555555556, \"#d8576b\"], [0.6666666666666666, \"#ed7953\"], [0.7777777777777778, \"#fb9f3a\"], [0.8888888888888888, \"#fdca26\"], [1.0, \"#f0f921\"]]}, \"colorway\": [\"#636efa\", \"#EF553B\", \"#00cc96\", \"#ab63fa\", \"#FFA15A\", \"#19d3f3\", \"#FF6692\", \"#B6E880\", \"#FF97FF\", \"#FECB52\"], \"font\": {\"color\": \"#f2f5fa\"}, \"geo\": {\"bgcolor\": \"rgb(17,17,17)\", \"lakecolor\": \"rgb(17,17,17)\", \"landcolor\": \"rgb(17,17,17)\", \"showlakes\": true, \"showland\": true, \"subunitcolor\": \"#506784\"}, \"hoverlabel\": {\"align\": \"left\"}, \"hovermode\": \"closest\", \"mapbox\": {\"style\": \"dark\"}, \"paper_bgcolor\": \"rgb(17,17,17)\", \"plot_bgcolor\": \"rgb(17,17,17)\", \"polar\": {\"angularaxis\": {\"gridcolor\": \"#506784\", \"linecolor\": \"#506784\", \"ticks\": \"\"}, \"bgcolor\": \"rgb(17,17,17)\", \"radialaxis\": {\"gridcolor\": \"#506784\", \"linecolor\": \"#506784\", \"ticks\": \"\"}}, \"scene\": {\"xaxis\": {\"backgroundcolor\": \"rgb(17,17,17)\", \"gridcolor\": \"#506784\", \"gridwidth\": 2, \"linecolor\": \"#506784\", \"showbackground\": true, \"ticks\": \"\", \"zerolinecolor\": \"#C8D4E3\"}, \"yaxis\": {\"backgroundcolor\": \"rgb(17,17,17)\", \"gridcolor\": \"#506784\", \"gridwidth\": 2, \"linecolor\": \"#506784\", \"showbackground\": true, \"ticks\": \"\", \"zerolinecolor\": \"#C8D4E3\"}, \"zaxis\": {\"backgroundcolor\": \"rgb(17,17,17)\", \"gridcolor\": \"#506784\", \"gridwidth\": 2, \"linecolor\": \"#506784\", \"showbackground\": true, \"ticks\": \"\", \"zerolinecolor\": \"#C8D4E3\"}}, \"shapedefaults\": {\"line\": {\"color\": \"#f2f5fa\"}}, \"sliderdefaults\": {\"bgcolor\": \"#C8D4E3\", \"bordercolor\": \"rgb(17,17,17)\", \"borderwidth\": 1, \"tickwidth\": 0}, \"ternary\": {\"aaxis\": {\"gridcolor\": \"#506784\", \"linecolor\": \"#506784\", \"ticks\": \"\"}, \"baxis\": {\"gridcolor\": \"#506784\", \"linecolor\": \"#506784\", \"ticks\": \"\"}, \"bgcolor\": \"rgb(17,17,17)\", \"caxis\": {\"gridcolor\": \"#506784\", \"linecolor\": \"#506784\", \"ticks\": \"\"}}, \"title\": {\"x\": 0.05}, \"updatemenudefaults\": {\"bgcolor\": \"#506784\", \"borderwidth\": 0}, \"xaxis\": {\"automargin\": true, \"gridcolor\": \"#283442\", \"linecolor\": \"#506784\", \"ticks\": \"\", \"title\": {\"standoff\": 15}, \"zerolinecolor\": \"#283442\", \"zerolinewidth\": 2}, \"yaxis\": {\"automargin\": true, \"gridcolor\": \"#283442\", \"linecolor\": \"#506784\", \"ticks\": \"\", \"title\": {\"standoff\": 15}, \"zerolinecolor\": \"#283442\", \"zerolinewidth\": 2}}}, \"xaxis\": {\"title\": {\"text\": \"Dates\"}}, \"yaxis\": {\"range\": [0, 6.763744214565165], \"title\": {\"text\": \"Number of cases\"}, \"type\": \"log\"}},                        {\"responsive\": true}                    ).then(function(){\n",
       "                            \n",
       "var gd = document.getElementById('3d296efa-37ea-4e7f-b393-4f4abc724895');\n",
       "var x = new MutationObserver(function (mutations, observer) {{\n",
       "        var display = window.getComputedStyle(gd).display;\n",
       "        if (!display || display === 'none') {{\n",
       "            console.log([gd, 'removed!']);\n",
       "            Plotly.purge(gd);\n",
       "            observer.disconnect();\n",
       "        }}\n",
       "}});\n",
       "\n",
       "// Listen for the removal of the full notebook cells\n",
       "var notebookContainer = gd.closest('#notebook-container');\n",
       "if (notebookContainer) {{\n",
       "    x.observe(notebookContainer, {childList: true});\n",
       "}}\n",
       "\n",
       "// Listen for the clearing of the current output cell\n",
       "var outputEl = gd.closest('.output');\n",
       "if (outputEl) {{\n",
       "    x.observe(outputEl, {childList: true});\n",
       "}}\n",
       "\n",
       "                        })                };                });            </script>        </div>"
      ]
     },
     "metadata": {},
     "output_type": "display_data"
    }
   ],
   "source": [
    "confirmed_cases(all_df[select_df],last_days)"
   ]
  },
  {
   "cell_type": "markdown",
   "metadata": {},
   "source": [
    "2. **Covid19 Deaths**"
   ]
  },
  {
   "cell_type": "code",
   "execution_count": 393,
   "metadata": {},
   "outputs": [],
   "source": [
    "def covid_deaths(selected_df,last_days_nb):    \n",
    "    yaxis_max=np.log10(selected_df['dc'].tail(1).tolist()[0])+0.5\n",
    "    fig_confirmed = go.Figure()\n",
    "    fig_confirmed.add_trace(\n",
    "        go.Scatter(\n",
    "            x=selected_df['jour'].tail(last_days_nb),\n",
    "            y=selected_df['dc'].tail(last_days_nb),\n",
    "            mode=\"lines\",\n",
    "            line={\"color\":\"#C616C4\"},\n",
    "            showlegend=False,\n",
    "            #name=\"Total Confirmed Cases\"\n",
    "        )\n",
    "    )\n",
    "    fig_confirmed.add_trace(\n",
    "        go.Bar(\n",
    "            x=selected_df['jour'].tail(last_days_nb),\n",
    "            y=selected_df['new_dc'].tail(last_days_nb),\n",
    "            marker={\"color\":\"#e66ee0\"},\n",
    "            showlegend=False,\n",
    "            #name=\"New Confirmed Cases\",\n",
    "\n",
    "        )\n",
    "    )\n",
    "\n",
    "\n",
    "    # LINE CHART ANNOTATION\n",
    "    fig_confirmed.add_annotation(\n",
    "         x=selected_df['jour'].tail(1).tolist()[0],\n",
    "         y=yaxis_max,\n",
    "         text=\"Total Deaths\",\n",
    "         font={\"size\": 14,\"color\":\"#C616C4\"},\n",
    "         xshift=-220,  # Annotation x displacement!\n",
    "         showarrow=False,\n",
    "    )\n",
    "\n",
    "    # BAR CHART ANNOTATION\n",
    "    fig_confirmed.add_annotation(\n",
    "        x=selected_df['jour'].tail(1).tolist()[0],\n",
    "        y=np.log10(selected_df['new_dc'].tail(last_days_nb).max()),\n",
    "        text=\"New Deaths\",\n",
    "        font={\"size\": 14, \"color\":\"#e66ee0\"},\n",
    "        xshift=-60,  # Annotation x displacement!\n",
    "        yshift=20,  # Annotation y displacement!\n",
    "        showarrow=False,\n",
    "        )\n",
    "    fig_confirmed.update_layout(\n",
    "        template=\"plotly_dark\",\n",
    "        xaxis={\"title\":\"Dates\"},\n",
    "        yaxis=dict(range=[0,yaxis_max],title=\"Number of deaths\"),\n",
    "        yaxis_type=\"log\",\n",
    "        autosize=True,\n",
    "        \n",
    "    )\n",
    "    fig_confirmed.show()"
   ]
  },
  {
   "cell_type": "code",
   "execution_count": 394,
   "metadata": {},
   "outputs": [
    {
     "data": {
      "application/vnd.plotly.v1+json": {
       "config": {
        "plotlyServerURL": "https://plot.ly"
       },
       "data": [
        {
         "line": {
          "color": "#C616C4"
         },
         "mode": "lines",
         "showlegend": false,
         "type": "scatter",
         "x": [
          "2020-10-14",
          "2020-10-15",
          "2020-10-16",
          "2020-10-17",
          "2020-10-18",
          "2020-10-19",
          "2020-10-20",
          "2020-10-21",
          "2020-10-22",
          "2020-10-23",
          "2020-10-24",
          "2020-10-25",
          "2020-10-26",
          "2020-10-27",
          "2020-10-28",
          "2020-10-29",
          "2020-10-30",
          "2020-10-31",
          "2020-11-01",
          "2020-11-02",
          "2020-11-03",
          "2020-11-04",
          "2020-11-05",
          "2020-11-06",
          "2020-11-07",
          "2020-11-08",
          "2020-11-09",
          "2020-11-10",
          "2020-11-11",
          "2020-11-12"
         ],
         "y": [
          22157,
          22245,
          22367,
          22456,
          22541,
          22687,
          22849,
          23012,
          23174,
          23358,
          23495,
          23611,
          23868,
          24156,
          24400,
          24635,
          24890,
          25113,
          25344,
          25760,
          26186,
          26571,
          26934,
          27332,
          27636,
          27906,
          28454,
          28920,
          29248,
          29673
         ]
        },
        {
         "marker": {
          "color": "#e66ee0"
         },
         "showlegend": false,
         "type": "bar",
         "x": [
          "2020-10-14",
          "2020-10-15",
          "2020-10-16",
          "2020-10-17",
          "2020-10-18",
          "2020-10-19",
          "2020-10-20",
          "2020-10-21",
          "2020-10-22",
          "2020-10-23",
          "2020-10-24",
          "2020-10-25",
          "2020-10-26",
          "2020-10-27",
          "2020-10-28",
          "2020-10-29",
          "2020-10-30",
          "2020-10-31",
          "2020-11-01",
          "2020-11-02",
          "2020-11-03",
          "2020-11-04",
          "2020-11-05",
          "2020-11-06",
          "2020-11-07",
          "2020-11-08",
          "2020-11-09",
          "2020-11-10",
          "2020-11-11",
          "2020-11-12"
         ],
         "y": [
          104,
          88,
          122,
          89,
          85,
          146,
          162,
          163,
          162,
          184,
          137,
          116,
          257,
          288,
          244,
          235,
          255,
          223,
          231,
          416,
          426,
          385,
          363,
          398,
          304,
          270,
          548,
          466,
          328,
          425
         ]
        }
       ],
       "layout": {
        "annotations": [
         {
          "font": {
           "color": "#C616C4",
           "size": 14
          },
          "showarrow": false,
          "text": "Total Deaths",
          "x": "2020-11-12",
          "xshift": -220,
          "y": 4.972361456582478
         },
         {
          "font": {
           "color": "#e66ee0",
           "size": 14
          },
          "showarrow": false,
          "text": "New Deaths",
          "x": "2020-11-12",
          "xshift": -60,
          "y": 2.738780558484369,
          "yshift": 20
         }
        ],
        "autosize": true,
        "template": {
         "data": {
          "bar": [
           {
            "error_x": {
             "color": "#f2f5fa"
            },
            "error_y": {
             "color": "#f2f5fa"
            },
            "marker": {
             "line": {
              "color": "rgb(17,17,17)",
              "width": 0.5
             }
            },
            "type": "bar"
           }
          ],
          "barpolar": [
           {
            "marker": {
             "line": {
              "color": "rgb(17,17,17)",
              "width": 0.5
             }
            },
            "type": "barpolar"
           }
          ],
          "carpet": [
           {
            "aaxis": {
             "endlinecolor": "#A2B1C6",
             "gridcolor": "#506784",
             "linecolor": "#506784",
             "minorgridcolor": "#506784",
             "startlinecolor": "#A2B1C6"
            },
            "baxis": {
             "endlinecolor": "#A2B1C6",
             "gridcolor": "#506784",
             "linecolor": "#506784",
             "minorgridcolor": "#506784",
             "startlinecolor": "#A2B1C6"
            },
            "type": "carpet"
           }
          ],
          "choropleth": [
           {
            "colorbar": {
             "outlinewidth": 0,
             "ticks": ""
            },
            "type": "choropleth"
           }
          ],
          "contour": [
           {
            "colorbar": {
             "outlinewidth": 0,
             "ticks": ""
            },
            "colorscale": [
             [
              0,
              "#0d0887"
             ],
             [
              0.1111111111111111,
              "#46039f"
             ],
             [
              0.2222222222222222,
              "#7201a8"
             ],
             [
              0.3333333333333333,
              "#9c179e"
             ],
             [
              0.4444444444444444,
              "#bd3786"
             ],
             [
              0.5555555555555556,
              "#d8576b"
             ],
             [
              0.6666666666666666,
              "#ed7953"
             ],
             [
              0.7777777777777778,
              "#fb9f3a"
             ],
             [
              0.8888888888888888,
              "#fdca26"
             ],
             [
              1,
              "#f0f921"
             ]
            ],
            "type": "contour"
           }
          ],
          "contourcarpet": [
           {
            "colorbar": {
             "outlinewidth": 0,
             "ticks": ""
            },
            "type": "contourcarpet"
           }
          ],
          "heatmap": [
           {
            "colorbar": {
             "outlinewidth": 0,
             "ticks": ""
            },
            "colorscale": [
             [
              0,
              "#0d0887"
             ],
             [
              0.1111111111111111,
              "#46039f"
             ],
             [
              0.2222222222222222,
              "#7201a8"
             ],
             [
              0.3333333333333333,
              "#9c179e"
             ],
             [
              0.4444444444444444,
              "#bd3786"
             ],
             [
              0.5555555555555556,
              "#d8576b"
             ],
             [
              0.6666666666666666,
              "#ed7953"
             ],
             [
              0.7777777777777778,
              "#fb9f3a"
             ],
             [
              0.8888888888888888,
              "#fdca26"
             ],
             [
              1,
              "#f0f921"
             ]
            ],
            "type": "heatmap"
           }
          ],
          "heatmapgl": [
           {
            "colorbar": {
             "outlinewidth": 0,
             "ticks": ""
            },
            "colorscale": [
             [
              0,
              "#0d0887"
             ],
             [
              0.1111111111111111,
              "#46039f"
             ],
             [
              0.2222222222222222,
              "#7201a8"
             ],
             [
              0.3333333333333333,
              "#9c179e"
             ],
             [
              0.4444444444444444,
              "#bd3786"
             ],
             [
              0.5555555555555556,
              "#d8576b"
             ],
             [
              0.6666666666666666,
              "#ed7953"
             ],
             [
              0.7777777777777778,
              "#fb9f3a"
             ],
             [
              0.8888888888888888,
              "#fdca26"
             ],
             [
              1,
              "#f0f921"
             ]
            ],
            "type": "heatmapgl"
           }
          ],
          "histogram": [
           {
            "marker": {
             "colorbar": {
              "outlinewidth": 0,
              "ticks": ""
             }
            },
            "type": "histogram"
           }
          ],
          "histogram2d": [
           {
            "colorbar": {
             "outlinewidth": 0,
             "ticks": ""
            },
            "colorscale": [
             [
              0,
              "#0d0887"
             ],
             [
              0.1111111111111111,
              "#46039f"
             ],
             [
              0.2222222222222222,
              "#7201a8"
             ],
             [
              0.3333333333333333,
              "#9c179e"
             ],
             [
              0.4444444444444444,
              "#bd3786"
             ],
             [
              0.5555555555555556,
              "#d8576b"
             ],
             [
              0.6666666666666666,
              "#ed7953"
             ],
             [
              0.7777777777777778,
              "#fb9f3a"
             ],
             [
              0.8888888888888888,
              "#fdca26"
             ],
             [
              1,
              "#f0f921"
             ]
            ],
            "type": "histogram2d"
           }
          ],
          "histogram2dcontour": [
           {
            "colorbar": {
             "outlinewidth": 0,
             "ticks": ""
            },
            "colorscale": [
             [
              0,
              "#0d0887"
             ],
             [
              0.1111111111111111,
              "#46039f"
             ],
             [
              0.2222222222222222,
              "#7201a8"
             ],
             [
              0.3333333333333333,
              "#9c179e"
             ],
             [
              0.4444444444444444,
              "#bd3786"
             ],
             [
              0.5555555555555556,
              "#d8576b"
             ],
             [
              0.6666666666666666,
              "#ed7953"
             ],
             [
              0.7777777777777778,
              "#fb9f3a"
             ],
             [
              0.8888888888888888,
              "#fdca26"
             ],
             [
              1,
              "#f0f921"
             ]
            ],
            "type": "histogram2dcontour"
           }
          ],
          "mesh3d": [
           {
            "colorbar": {
             "outlinewidth": 0,
             "ticks": ""
            },
            "type": "mesh3d"
           }
          ],
          "parcoords": [
           {
            "line": {
             "colorbar": {
              "outlinewidth": 0,
              "ticks": ""
             }
            },
            "type": "parcoords"
           }
          ],
          "pie": [
           {
            "automargin": true,
            "type": "pie"
           }
          ],
          "scatter": [
           {
            "marker": {
             "line": {
              "color": "#283442"
             }
            },
            "type": "scatter"
           }
          ],
          "scatter3d": [
           {
            "line": {
             "colorbar": {
              "outlinewidth": 0,
              "ticks": ""
             }
            },
            "marker": {
             "colorbar": {
              "outlinewidth": 0,
              "ticks": ""
             }
            },
            "type": "scatter3d"
           }
          ],
          "scattercarpet": [
           {
            "marker": {
             "colorbar": {
              "outlinewidth": 0,
              "ticks": ""
             }
            },
            "type": "scattercarpet"
           }
          ],
          "scattergeo": [
           {
            "marker": {
             "colorbar": {
              "outlinewidth": 0,
              "ticks": ""
             }
            },
            "type": "scattergeo"
           }
          ],
          "scattergl": [
           {
            "marker": {
             "line": {
              "color": "#283442"
             }
            },
            "type": "scattergl"
           }
          ],
          "scattermapbox": [
           {
            "marker": {
             "colorbar": {
              "outlinewidth": 0,
              "ticks": ""
             }
            },
            "type": "scattermapbox"
           }
          ],
          "scatterpolar": [
           {
            "marker": {
             "colorbar": {
              "outlinewidth": 0,
              "ticks": ""
             }
            },
            "type": "scatterpolar"
           }
          ],
          "scatterpolargl": [
           {
            "marker": {
             "colorbar": {
              "outlinewidth": 0,
              "ticks": ""
             }
            },
            "type": "scatterpolargl"
           }
          ],
          "scatterternary": [
           {
            "marker": {
             "colorbar": {
              "outlinewidth": 0,
              "ticks": ""
             }
            },
            "type": "scatterternary"
           }
          ],
          "surface": [
           {
            "colorbar": {
             "outlinewidth": 0,
             "ticks": ""
            },
            "colorscale": [
             [
              0,
              "#0d0887"
             ],
             [
              0.1111111111111111,
              "#46039f"
             ],
             [
              0.2222222222222222,
              "#7201a8"
             ],
             [
              0.3333333333333333,
              "#9c179e"
             ],
             [
              0.4444444444444444,
              "#bd3786"
             ],
             [
              0.5555555555555556,
              "#d8576b"
             ],
             [
              0.6666666666666666,
              "#ed7953"
             ],
             [
              0.7777777777777778,
              "#fb9f3a"
             ],
             [
              0.8888888888888888,
              "#fdca26"
             ],
             [
              1,
              "#f0f921"
             ]
            ],
            "type": "surface"
           }
          ],
          "table": [
           {
            "cells": {
             "fill": {
              "color": "#506784"
             },
             "line": {
              "color": "rgb(17,17,17)"
             }
            },
            "header": {
             "fill": {
              "color": "#2a3f5f"
             },
             "line": {
              "color": "rgb(17,17,17)"
             }
            },
            "type": "table"
           }
          ]
         },
         "layout": {
          "annotationdefaults": {
           "arrowcolor": "#f2f5fa",
           "arrowhead": 0,
           "arrowwidth": 1
          },
          "coloraxis": {
           "colorbar": {
            "outlinewidth": 0,
            "ticks": ""
           }
          },
          "colorscale": {
           "diverging": [
            [
             0,
             "#8e0152"
            ],
            [
             0.1,
             "#c51b7d"
            ],
            [
             0.2,
             "#de77ae"
            ],
            [
             0.3,
             "#f1b6da"
            ],
            [
             0.4,
             "#fde0ef"
            ],
            [
             0.5,
             "#f7f7f7"
            ],
            [
             0.6,
             "#e6f5d0"
            ],
            [
             0.7,
             "#b8e186"
            ],
            [
             0.8,
             "#7fbc41"
            ],
            [
             0.9,
             "#4d9221"
            ],
            [
             1,
             "#276419"
            ]
           ],
           "sequential": [
            [
             0,
             "#0d0887"
            ],
            [
             0.1111111111111111,
             "#46039f"
            ],
            [
             0.2222222222222222,
             "#7201a8"
            ],
            [
             0.3333333333333333,
             "#9c179e"
            ],
            [
             0.4444444444444444,
             "#bd3786"
            ],
            [
             0.5555555555555556,
             "#d8576b"
            ],
            [
             0.6666666666666666,
             "#ed7953"
            ],
            [
             0.7777777777777778,
             "#fb9f3a"
            ],
            [
             0.8888888888888888,
             "#fdca26"
            ],
            [
             1,
             "#f0f921"
            ]
           ],
           "sequentialminus": [
            [
             0,
             "#0d0887"
            ],
            [
             0.1111111111111111,
             "#46039f"
            ],
            [
             0.2222222222222222,
             "#7201a8"
            ],
            [
             0.3333333333333333,
             "#9c179e"
            ],
            [
             0.4444444444444444,
             "#bd3786"
            ],
            [
             0.5555555555555556,
             "#d8576b"
            ],
            [
             0.6666666666666666,
             "#ed7953"
            ],
            [
             0.7777777777777778,
             "#fb9f3a"
            ],
            [
             0.8888888888888888,
             "#fdca26"
            ],
            [
             1,
             "#f0f921"
            ]
           ]
          },
          "colorway": [
           "#636efa",
           "#EF553B",
           "#00cc96",
           "#ab63fa",
           "#FFA15A",
           "#19d3f3",
           "#FF6692",
           "#B6E880",
           "#FF97FF",
           "#FECB52"
          ],
          "font": {
           "color": "#f2f5fa"
          },
          "geo": {
           "bgcolor": "rgb(17,17,17)",
           "lakecolor": "rgb(17,17,17)",
           "landcolor": "rgb(17,17,17)",
           "showlakes": true,
           "showland": true,
           "subunitcolor": "#506784"
          },
          "hoverlabel": {
           "align": "left"
          },
          "hovermode": "closest",
          "mapbox": {
           "style": "dark"
          },
          "paper_bgcolor": "rgb(17,17,17)",
          "plot_bgcolor": "rgb(17,17,17)",
          "polar": {
           "angularaxis": {
            "gridcolor": "#506784",
            "linecolor": "#506784",
            "ticks": ""
           },
           "bgcolor": "rgb(17,17,17)",
           "radialaxis": {
            "gridcolor": "#506784",
            "linecolor": "#506784",
            "ticks": ""
           }
          },
          "scene": {
           "xaxis": {
            "backgroundcolor": "rgb(17,17,17)",
            "gridcolor": "#506784",
            "gridwidth": 2,
            "linecolor": "#506784",
            "showbackground": true,
            "ticks": "",
            "zerolinecolor": "#C8D4E3"
           },
           "yaxis": {
            "backgroundcolor": "rgb(17,17,17)",
            "gridcolor": "#506784",
            "gridwidth": 2,
            "linecolor": "#506784",
            "showbackground": true,
            "ticks": "",
            "zerolinecolor": "#C8D4E3"
           },
           "zaxis": {
            "backgroundcolor": "rgb(17,17,17)",
            "gridcolor": "#506784",
            "gridwidth": 2,
            "linecolor": "#506784",
            "showbackground": true,
            "ticks": "",
            "zerolinecolor": "#C8D4E3"
           }
          },
          "shapedefaults": {
           "line": {
            "color": "#f2f5fa"
           }
          },
          "sliderdefaults": {
           "bgcolor": "#C8D4E3",
           "bordercolor": "rgb(17,17,17)",
           "borderwidth": 1,
           "tickwidth": 0
          },
          "ternary": {
           "aaxis": {
            "gridcolor": "#506784",
            "linecolor": "#506784",
            "ticks": ""
           },
           "baxis": {
            "gridcolor": "#506784",
            "linecolor": "#506784",
            "ticks": ""
           },
           "bgcolor": "rgb(17,17,17)",
           "caxis": {
            "gridcolor": "#506784",
            "linecolor": "#506784",
            "ticks": ""
           }
          },
          "title": {
           "x": 0.05
          },
          "updatemenudefaults": {
           "bgcolor": "#506784",
           "borderwidth": 0
          },
          "xaxis": {
           "automargin": true,
           "gridcolor": "#283442",
           "linecolor": "#506784",
           "ticks": "",
           "title": {
            "standoff": 15
           },
           "zerolinecolor": "#283442",
           "zerolinewidth": 2
          },
          "yaxis": {
           "automargin": true,
           "gridcolor": "#283442",
           "linecolor": "#506784",
           "ticks": "",
           "title": {
            "standoff": 15
           },
           "zerolinecolor": "#283442",
           "zerolinewidth": 2
          }
         }
        },
        "xaxis": {
         "autorange": true,
         "range": [
          "2020-10-13 12:00",
          "2020-11-12 12:00"
         ],
         "title": {
          "text": "Dates"
         },
         "type": "date"
        },
        "yaxis": {
         "range": [
          0,
          4.972361456582478
         ],
         "title": {
          "text": "Number of deaths"
         },
         "type": "log"
        }
       }
      },
      "image/png": "[encoded data removed]",
      "text/html": [
       "<div>                            <div id=\"2e3374af-0859-445a-948c-3c09b7f0a337\" class=\"plotly-graph-div\" style=\"height:525px; width:100%;\"></div>            <script type=\"text/javascript\">                require([\"plotly\"], function(Plotly) {                    window.PLOTLYENV=window.PLOTLYENV || {};                                    if (document.getElementById(\"2e3374af-0859-445a-948c-3c09b7f0a337\")) {                    Plotly.newPlot(                        \"2e3374af-0859-445a-948c-3c09b7f0a337\",                        [{\"line\": {\"color\": \"#C616C4\"}, \"mode\": \"lines\", \"showlegend\": false, \"type\": \"scatter\", \"x\": [\"2020-10-14\", \"2020-10-15\", \"2020-10-16\", \"2020-10-17\", \"2020-10-18\", \"2020-10-19\", \"2020-10-20\", \"2020-10-21\", \"2020-10-22\", \"2020-10-23\", \"2020-10-24\", \"2020-10-25\", \"2020-10-26\", \"2020-10-27\", \"2020-10-28\", \"2020-10-29\", \"2020-10-30\", \"2020-10-31\", \"2020-11-01\", \"2020-11-02\", \"2020-11-03\", \"2020-11-04\", \"2020-11-05\", \"2020-11-06\", \"2020-11-07\", \"2020-11-08\", \"2020-11-09\", \"2020-11-10\", \"2020-11-11\", \"2020-11-12\"], \"y\": [22157, 22245, 22367, 22456, 22541, 22687, 22849, 23012, 23174, 23358, 23495, 23611, 23868, 24156, 24400, 24635, 24890, 25113, 25344, 25760, 26186, 26571, 26934, 27332, 27636, 27906, 28454, 28920, 29248, 29673]}, {\"marker\": {\"color\": \"#e66ee0\"}, \"showlegend\": false, \"type\": \"bar\", \"x\": [\"2020-10-14\", \"2020-10-15\", \"2020-10-16\", \"2020-10-17\", \"2020-10-18\", \"2020-10-19\", \"2020-10-20\", \"2020-10-21\", \"2020-10-22\", \"2020-10-23\", \"2020-10-24\", \"2020-10-25\", \"2020-10-26\", \"2020-10-27\", \"2020-10-28\", \"2020-10-29\", \"2020-10-30\", \"2020-10-31\", \"2020-11-01\", \"2020-11-02\", \"2020-11-03\", \"2020-11-04\", \"2020-11-05\", \"2020-11-06\", \"2020-11-07\", \"2020-11-08\", \"2020-11-09\", \"2020-11-10\", \"2020-11-11\", \"2020-11-12\"], \"y\": [104.0, 88.0, 122.0, 89.0, 85.0, 146.0, 162.0, 163.0, 162.0, 184.0, 137.0, 116.0, 257.0, 288.0, 244.0, 235.0, 255.0, 223.0, 231.0, 416.0, 426.0, 385.0, 363.0, 398.0, 304.0, 270.0, 548.0, 466.0, 328.0, 425.0]}],                        {\"annotations\": [{\"font\": {\"color\": \"#C616C4\", \"size\": 14}, \"showarrow\": false, \"text\": \"Total Deaths\", \"x\": \"2020-11-12\", \"xshift\": -220, \"y\": 4.972361456582478}, {\"font\": {\"color\": \"#e66ee0\", \"size\": 14}, \"showarrow\": false, \"text\": \"New Deaths\", \"x\": \"2020-11-12\", \"xshift\": -60, \"y\": 2.738780558484369, \"yshift\": 20}], \"autosize\": true, \"template\": {\"data\": {\"bar\": [{\"error_x\": {\"color\": \"#f2f5fa\"}, \"error_y\": {\"color\": \"#f2f5fa\"}, \"marker\": {\"line\": {\"color\": \"rgb(17,17,17)\", \"width\": 0.5}}, \"type\": \"bar\"}], \"barpolar\": [{\"marker\": {\"line\": {\"color\": \"rgb(17,17,17)\", \"width\": 0.5}}, \"type\": \"barpolar\"}], \"carpet\": [{\"aaxis\": {\"endlinecolor\": \"#A2B1C6\", \"gridcolor\": \"#506784\", \"linecolor\": \"#506784\", \"minorgridcolor\": \"#506784\", \"startlinecolor\": \"#A2B1C6\"}, \"baxis\": {\"endlinecolor\": \"#A2B1C6\", \"gridcolor\": \"#506784\", \"linecolor\": \"#506784\", \"minorgridcolor\": \"#506784\", \"startlinecolor\": \"#A2B1C6\"}, \"type\": \"carpet\"}], \"choropleth\": [{\"colorbar\": {\"outlinewidth\": 0, \"ticks\": \"\"}, \"type\": \"choropleth\"}], \"contour\": [{\"colorbar\": {\"outlinewidth\": 0, \"ticks\": \"\"}, \"colorscale\": [[0.0, \"#0d0887\"], [0.1111111111111111, \"#46039f\"], [0.2222222222222222, \"#7201a8\"], [0.3333333333333333, \"#9c179e\"], [0.4444444444444444, \"#bd3786\"], [0.5555555555555556, \"#d8576b\"], [0.6666666666666666, \"#ed7953\"], [0.7777777777777778, \"#fb9f3a\"], [0.8888888888888888, \"#fdca26\"], [1.0, \"#f0f921\"]], \"type\": \"contour\"}], \"contourcarpet\": [{\"colorbar\": {\"outlinewidth\": 0, \"ticks\": \"\"}, \"type\": \"contourcarpet\"}], \"heatmap\": [{\"colorbar\": {\"outlinewidth\": 0, \"ticks\": \"\"}, \"colorscale\": [[0.0, \"#0d0887\"], [0.1111111111111111, \"#46039f\"], [0.2222222222222222, \"#7201a8\"], [0.3333333333333333, \"#9c179e\"], [0.4444444444444444, \"#bd3786\"], [0.5555555555555556, \"#d8576b\"], [0.6666666666666666, \"#ed7953\"], [0.7777777777777778, \"#fb9f3a\"], [0.8888888888888888, \"#fdca26\"], [1.0, \"#f0f921\"]], \"type\": \"heatmap\"}], \"heatmapgl\": [{\"colorbar\": {\"outlinewidth\": 0, \"ticks\": \"\"}, \"colorscale\": [[0.0, \"#0d0887\"], [0.1111111111111111, \"#46039f\"], [0.2222222222222222, \"#7201a8\"], [0.3333333333333333, \"#9c179e\"], [0.4444444444444444, \"#bd3786\"], [0.5555555555555556, \"#d8576b\"], [0.6666666666666666, \"#ed7953\"], [0.7777777777777778, \"#fb9f3a\"], [0.8888888888888888, \"#fdca26\"], [1.0, \"#f0f921\"]], \"type\": \"heatmapgl\"}], \"histogram\": [{\"marker\": {\"colorbar\": {\"outlinewidth\": 0, \"ticks\": \"\"}}, \"type\": \"histogram\"}], \"histogram2d\": [{\"colorbar\": {\"outlinewidth\": 0, \"ticks\": \"\"}, \"colorscale\": [[0.0, \"#0d0887\"], [0.1111111111111111, \"#46039f\"], [0.2222222222222222, \"#7201a8\"], [0.3333333333333333, \"#9c179e\"], [0.4444444444444444, \"#bd3786\"], [0.5555555555555556, \"#d8576b\"], [0.6666666666666666, \"#ed7953\"], [0.7777777777777778, \"#fb9f3a\"], [0.8888888888888888, \"#fdca26\"], [1.0, \"#f0f921\"]], \"type\": \"histogram2d\"}], \"histogram2dcontour\": [{\"colorbar\": {\"outlinewidth\": 0, \"ticks\": \"\"}, \"colorscale\": [[0.0, \"#0d0887\"], [0.1111111111111111, \"#46039f\"], [0.2222222222222222, \"#7201a8\"], [0.3333333333333333, \"#9c179e\"], [0.4444444444444444, \"#bd3786\"], [0.5555555555555556, \"#d8576b\"], [0.6666666666666666, \"#ed7953\"], [0.7777777777777778, \"#fb9f3a\"], [0.8888888888888888, \"#fdca26\"], [1.0, \"#f0f921\"]], \"type\": \"histogram2dcontour\"}], \"mesh3d\": [{\"colorbar\": {\"outlinewidth\": 0, \"ticks\": \"\"}, \"type\": \"mesh3d\"}], \"parcoords\": [{\"line\": {\"colorbar\": {\"outlinewidth\": 0, \"ticks\": \"\"}}, \"type\": \"parcoords\"}], \"pie\": [{\"automargin\": true, \"type\": \"pie\"}], \"scatter\": [{\"marker\": {\"line\": {\"color\": \"#283442\"}}, \"type\": \"scatter\"}], \"scatter3d\": [{\"line\": {\"colorbar\": {\"outlinewidth\": 0, \"ticks\": \"\"}}, \"marker\": {\"colorbar\": {\"outlinewidth\": 0, \"ticks\": \"\"}}, \"type\": \"scatter3d\"}], \"scattercarpet\": [{\"marker\": {\"colorbar\": {\"outlinewidth\": 0, \"ticks\": \"\"}}, \"type\": \"scattercarpet\"}], \"scattergeo\": [{\"marker\": {\"colorbar\": {\"outlinewidth\": 0, \"ticks\": \"\"}}, \"type\": \"scattergeo\"}], \"scattergl\": [{\"marker\": {\"line\": {\"color\": \"#283442\"}}, \"type\": \"scattergl\"}], \"scattermapbox\": [{\"marker\": {\"colorbar\": {\"outlinewidth\": 0, \"ticks\": \"\"}}, \"type\": \"scattermapbox\"}], \"scatterpolar\": [{\"marker\": {\"colorbar\": {\"outlinewidth\": 0, \"ticks\": \"\"}}, \"type\": \"scatterpolar\"}], \"scatterpolargl\": [{\"marker\": {\"colorbar\": {\"outlinewidth\": 0, \"ticks\": \"\"}}, \"type\": \"scatterpolargl\"}], \"scatterternary\": [{\"marker\": {\"colorbar\": {\"outlinewidth\": 0, \"ticks\": \"\"}}, \"type\": \"scatterternary\"}], \"surface\": [{\"colorbar\": {\"outlinewidth\": 0, \"ticks\": \"\"}, \"colorscale\": [[0.0, \"#0d0887\"], [0.1111111111111111, \"#46039f\"], [0.2222222222222222, \"#7201a8\"], [0.3333333333333333, \"#9c179e\"], [0.4444444444444444, \"#bd3786\"], [0.5555555555555556, \"#d8576b\"], [0.6666666666666666, \"#ed7953\"], [0.7777777777777778, \"#fb9f3a\"], [0.8888888888888888, \"#fdca26\"], [1.0, \"#f0f921\"]], \"type\": \"surface\"}], \"table\": [{\"cells\": {\"fill\": {\"color\": \"#506784\"}, \"line\": {\"color\": \"rgb(17,17,17)\"}}, \"header\": {\"fill\": {\"color\": \"#2a3f5f\"}, \"line\": {\"color\": \"rgb(17,17,17)\"}}, \"type\": \"table\"}]}, \"layout\": {\"annotationdefaults\": {\"arrowcolor\": \"#f2f5fa\", \"arrowhead\": 0, \"arrowwidth\": 1}, \"coloraxis\": {\"colorbar\": {\"outlinewidth\": 0, \"ticks\": \"\"}}, \"colorscale\": {\"diverging\": [[0, \"#8e0152\"], [0.1, \"#c51b7d\"], [0.2, \"#de77ae\"], [0.3, \"#f1b6da\"], [0.4, \"#fde0ef\"], [0.5, \"#f7f7f7\"], [0.6, \"#e6f5d0\"], [0.7, \"#b8e186\"], [0.8, \"#7fbc41\"], [0.9, \"#4d9221\"], [1, \"#276419\"]], \"sequential\": [[0.0, \"#0d0887\"], [0.1111111111111111, \"#46039f\"], [0.2222222222222222, \"#7201a8\"], [0.3333333333333333, \"#9c179e\"], [0.4444444444444444, \"#bd3786\"], [0.5555555555555556, \"#d8576b\"], [0.6666666666666666, \"#ed7953\"], [0.7777777777777778, \"#fb9f3a\"], [0.8888888888888888, \"#fdca26\"], [1.0, \"#f0f921\"]], \"sequentialminus\": [[0.0, \"#0d0887\"], [0.1111111111111111, \"#46039f\"], [0.2222222222222222, \"#7201a8\"], [0.3333333333333333, \"#9c179e\"], [0.4444444444444444, \"#bd3786\"], [0.5555555555555556, \"#d8576b\"], [0.6666666666666666, \"#ed7953\"], [0.7777777777777778, \"#fb9f3a\"], [0.8888888888888888, \"#fdca26\"], [1.0, \"#f0f921\"]]}, \"colorway\": [\"#636efa\", \"#EF553B\", \"#00cc96\", \"#ab63fa\", \"#FFA15A\", \"#19d3f3\", \"#FF6692\", \"#B6E880\", \"#FF97FF\", \"#FECB52\"], \"font\": {\"color\": \"#f2f5fa\"}, \"geo\": {\"bgcolor\": \"rgb(17,17,17)\", \"lakecolor\": \"rgb(17,17,17)\", \"landcolor\": \"rgb(17,17,17)\", \"showlakes\": true, \"showland\": true, \"subunitcolor\": \"#506784\"}, \"hoverlabel\": {\"align\": \"left\"}, \"hovermode\": \"closest\", \"mapbox\": {\"style\": \"dark\"}, \"paper_bgcolor\": \"rgb(17,17,17)\", \"plot_bgcolor\": \"rgb(17,17,17)\", \"polar\": {\"angularaxis\": {\"gridcolor\": \"#506784\", \"linecolor\": \"#506784\", \"ticks\": \"\"}, \"bgcolor\": \"rgb(17,17,17)\", \"radialaxis\": {\"gridcolor\": \"#506784\", \"linecolor\": \"#506784\", \"ticks\": \"\"}}, \"scene\": {\"xaxis\": {\"backgroundcolor\": \"rgb(17,17,17)\", \"gridcolor\": \"#506784\", \"gridwidth\": 2, \"linecolor\": \"#506784\", \"showbackground\": true, \"ticks\": \"\", \"zerolinecolor\": \"#C8D4E3\"}, \"yaxis\": {\"backgroundcolor\": \"rgb(17,17,17)\", \"gridcolor\": \"#506784\", \"gridwidth\": 2, \"linecolor\": \"#506784\", \"showbackground\": true, \"ticks\": \"\", \"zerolinecolor\": \"#C8D4E3\"}, \"zaxis\": {\"backgroundcolor\": \"rgb(17,17,17)\", \"gridcolor\": \"#506784\", \"gridwidth\": 2, \"linecolor\": \"#506784\", \"showbackground\": true, \"ticks\": \"\", \"zerolinecolor\": \"#C8D4E3\"}}, \"shapedefaults\": {\"line\": {\"color\": \"#f2f5fa\"}}, \"sliderdefaults\": {\"bgcolor\": \"#C8D4E3\", \"bordercolor\": \"rgb(17,17,17)\", \"borderwidth\": 1, \"tickwidth\": 0}, \"ternary\": {\"aaxis\": {\"gridcolor\": \"#506784\", \"linecolor\": \"#506784\", \"ticks\": \"\"}, \"baxis\": {\"gridcolor\": \"#506784\", \"linecolor\": \"#506784\", \"ticks\": \"\"}, \"bgcolor\": \"rgb(17,17,17)\", \"caxis\": {\"gridcolor\": \"#506784\", \"linecolor\": \"#506784\", \"ticks\": \"\"}}, \"title\": {\"x\": 0.05}, \"updatemenudefaults\": {\"bgcolor\": \"#506784\", \"borderwidth\": 0}, \"xaxis\": {\"automargin\": true, \"gridcolor\": \"#283442\", \"linecolor\": \"#506784\", \"ticks\": \"\", \"title\": {\"standoff\": 15}, \"zerolinecolor\": \"#283442\", \"zerolinewidth\": 2}, \"yaxis\": {\"automargin\": true, \"gridcolor\": \"#283442\", \"linecolor\": \"#506784\", \"ticks\": \"\", \"title\": {\"standoff\": 15}, \"zerolinecolor\": \"#283442\", \"zerolinewidth\": 2}}}, \"xaxis\": {\"title\": {\"text\": \"Dates\"}}, \"yaxis\": {\"range\": [0, 4.972361456582478], \"title\": {\"text\": \"Number of deaths\"}, \"type\": \"log\"}},                        {\"responsive\": true}                    ).then(function(){\n",
       "                            \n",
       "var gd = document.getElementById('2e3374af-0859-445a-948c-3c09b7f0a337');\n",
       "var x = new MutationObserver(function (mutations, observer) {{\n",
       "        var display = window.getComputedStyle(gd).display;\n",
       "        if (!display || display === 'none') {{\n",
       "            console.log([gd, 'removed!']);\n",
       "            Plotly.purge(gd);\n",
       "            observer.disconnect();\n",
       "        }}\n",
       "}});\n",
       "\n",
       "// Listen for the removal of the full notebook cells\n",
       "var notebookContainer = gd.closest('#notebook-container');\n",
       "if (notebookContainer) {{\n",
       "    x.observe(notebookContainer, {childList: true});\n",
       "}}\n",
       "\n",
       "// Listen for the clearing of the current output cell\n",
       "var outputEl = gd.closest('.output');\n",
       "if (outputEl) {{\n",
       "    x.observe(outputEl, {childList: true});\n",
       "}}\n",
       "\n",
       "                        })                };                });            </script>        </div>"
      ]
     },
     "metadata": {},
     "output_type": "display_data"
    }
   ],
   "source": [
    "covid_deaths(all_df[select_df],last_days)"
   ]
  },
  {
   "cell_type": "code",
   "execution_count": null,
   "metadata": {},
   "outputs": [],
   "source": []
  },
  {
   "cell_type": "code",
   "execution_count": null,
   "metadata": {},
   "outputs": [],
   "source": []
  }
 ],
 "metadata": {
  "kernelspec": {
   "display_name": "Python 3",
   "language": "python",
   "name": "python3"
  },
  "language_info": {
   "codemirror_mode": {
    "name": "ipython",
    "version": 3
   },
   "file_extension": ".py",
   "mimetype": "text/x-python",
   "name": "python",
   "nbconvert_exporter": "python",
   "pygments_lexer": "ipython3",
   "version": "3.7.1"
  }
 },
 "nbformat": 4,
 "nbformat_minor": 4
}
