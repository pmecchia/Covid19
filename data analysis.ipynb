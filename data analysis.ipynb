{
 "cells": [
  {
   "cell_type": "code",
   "execution_count": 555,
   "metadata": {},
   "outputs": [],
   "source": [
    "import pandas as pd\n",
    "import plotly.express as px\n",
    "import plotly.graph_objects as go\n",
    "import numpy as np\n",
    "from config import *"
   ]
  },
  {
   "cell_type": "markdown",
   "metadata": {},
   "source": [
    "## **Test/Positve dataset**"
   ]
  },
  {
   "cell_type": "markdown",
   "metadata": {},
   "source": [
    "1. **Dataset before 2020-05-12**"
   ]
  },
  {
   "cell_type": "code",
   "execution_count": 458,
   "metadata": {},
   "outputs": [],
   "source": [
    "url_test1=\"https://www.data.gouv.fr/fr/datasets/r/b4ea7b4b-b7d1-4885-a099-71852291ff20\"\n",
    "dtype={'dep': str,'clage_covid':str,'nb_test':int,'nb_pos':int}\n",
    "df_test1=pd.read_csv(url_test1,sep = ';',dtype=dtype)\n",
    "df_test1=df_test1.drop([\"nb_test_h\",\"nb_test_f\",\"nb_pos_h\",\"nb_pos_f\"],axis=1)"
   ]
  },
  {
   "cell_type": "code",
   "execution_count": 459,
   "metadata": {},
   "outputs": [
    {
     "data": {
      "text/html": [
       "<div>\n",
       "<style scoped>\n",
       "    .dataframe tbody tr th:only-of-type {\n",
       "        vertical-align: middle;\n",
       "    }\n",
       "\n",
       "    .dataframe tbody tr th {\n",
       "        vertical-align: top;\n",
       "    }\n",
       "\n",
       "    .dataframe thead th {\n",
       "        text-align: right;\n",
       "    }\n",
       "</style>\n",
       "<table border=\"1\" class=\"dataframe\">\n",
       "  <thead>\n",
       "    <tr style=\"text-align: right;\">\n",
       "      <th></th>\n",
       "      <th>dep</th>\n",
       "      <th>jour</th>\n",
       "      <th>clage_covid</th>\n",
       "      <th>nb_test</th>\n",
       "      <th>nb_pos</th>\n",
       "    </tr>\n",
       "  </thead>\n",
       "  <tbody>\n",
       "    <tr>\n",
       "      <th>48</th>\n",
       "      <td>01</td>\n",
       "      <td>2020-03-18</td>\n",
       "      <td>0</td>\n",
       "      <td>37</td>\n",
       "      <td>8</td>\n",
       "    </tr>\n",
       "    <tr>\n",
       "      <th>49</th>\n",
       "      <td>01</td>\n",
       "      <td>2020-03-18</td>\n",
       "      <td>A</td>\n",
       "      <td>0</td>\n",
       "      <td>0</td>\n",
       "    </tr>\n",
       "    <tr>\n",
       "      <th>50</th>\n",
       "      <td>01</td>\n",
       "      <td>2020-03-18</td>\n",
       "      <td>B</td>\n",
       "      <td>15</td>\n",
       "      <td>1</td>\n",
       "    </tr>\n",
       "    <tr>\n",
       "      <th>51</th>\n",
       "      <td>01</td>\n",
       "      <td>2020-03-18</td>\n",
       "      <td>C</td>\n",
       "      <td>11</td>\n",
       "      <td>3</td>\n",
       "    </tr>\n",
       "    <tr>\n",
       "      <th>52</th>\n",
       "      <td>01</td>\n",
       "      <td>2020-03-18</td>\n",
       "      <td>D</td>\n",
       "      <td>4</td>\n",
       "      <td>3</td>\n",
       "    </tr>\n",
       "  </tbody>\n",
       "</table>\n",
       "</div>"
      ],
      "text/plain": [
       "   dep        jour clage_covid  nb_test  nb_pos\n",
       "48  01  2020-03-18           0       37       8\n",
       "49  01  2020-03-18           A        0       0\n",
       "50  01  2020-03-18           B       15       1\n",
       "51  01  2020-03-18           C       11       3\n",
       "52  01  2020-03-18           D        4       3"
      ]
     },
     "execution_count": 459,
     "metadata": {},
     "output_type": "execute_result"
    }
   ],
   "source": [
    "df_test1=df_test1.drop(df_test1[(df_test1[\"jour\"]<\"2020-03-18\") | (df_test1[\"jour\"]>\"2020-05-12\")].index)\n",
    "df_test1.head()"
   ]
  },
  {
   "cell_type": "code",
   "execution_count": 460,
   "metadata": {},
   "outputs": [
    {
     "data": {
      "text/html": [
       "<div>\n",
       "<style scoped>\n",
       "    .dataframe tbody tr th:only-of-type {\n",
       "        vertical-align: middle;\n",
       "    }\n",
       "\n",
       "    .dataframe tbody tr th {\n",
       "        vertical-align: top;\n",
       "    }\n",
       "\n",
       "    .dataframe thead th {\n",
       "        text-align: right;\n",
       "    }\n",
       "</style>\n",
       "<table border=\"1\" class=\"dataframe\">\n",
       "  <thead>\n",
       "    <tr style=\"text-align: right;\">\n",
       "      <th></th>\n",
       "      <th>dep</th>\n",
       "      <th>jour</th>\n",
       "      <th>nb_test</th>\n",
       "      <th>nb_pos</th>\n",
       "    </tr>\n",
       "  </thead>\n",
       "  <tbody>\n",
       "    <tr>\n",
       "      <th>48</th>\n",
       "      <td>01</td>\n",
       "      <td>2020-03-18</td>\n",
       "      <td>37</td>\n",
       "      <td>8</td>\n",
       "    </tr>\n",
       "    <tr>\n",
       "      <th>54</th>\n",
       "      <td>01</td>\n",
       "      <td>2020-03-19</td>\n",
       "      <td>82</td>\n",
       "      <td>13</td>\n",
       "    </tr>\n",
       "    <tr>\n",
       "      <th>60</th>\n",
       "      <td>01</td>\n",
       "      <td>2020-03-20</td>\n",
       "      <td>44</td>\n",
       "      <td>9</td>\n",
       "    </tr>\n",
       "    <tr>\n",
       "      <th>66</th>\n",
       "      <td>01</td>\n",
       "      <td>2020-03-21</td>\n",
       "      <td>13</td>\n",
       "      <td>1</td>\n",
       "    </tr>\n",
       "    <tr>\n",
       "      <th>72</th>\n",
       "      <td>01</td>\n",
       "      <td>2020-03-22</td>\n",
       "      <td>4</td>\n",
       "      <td>0</td>\n",
       "    </tr>\n",
       "  </tbody>\n",
       "</table>\n",
       "</div>"
      ],
      "text/plain": [
       "   dep        jour  nb_test  nb_pos\n",
       "48  01  2020-03-18       37       8\n",
       "54  01  2020-03-19       82      13\n",
       "60  01  2020-03-20       44       9\n",
       "66  01  2020-03-21       13       1\n",
       "72  01  2020-03-22        4       0"
      ]
     },
     "execution_count": 460,
     "metadata": {},
     "output_type": "execute_result"
    }
   ],
   "source": [
    "df_test1=df_test1.drop(df_test1[df_test1[\"clage_covid\"] != \"0\"].index)\n",
    "df_test1=df_test1.drop(\"clage_covid\",axis=1)\n",
    "df_test1.head()"
   ]
  },
  {
   "cell_type": "markdown",
   "metadata": {},
   "source": [
    "2. **Dataset after 2020-05-12**"
   ]
  },
  {
   "cell_type": "code",
   "execution_count": 461,
   "metadata": {},
   "outputs": [
    {
     "data": {
      "text/html": [
       "<div>\n",
       "<style scoped>\n",
       "    .dataframe tbody tr th:only-of-type {\n",
       "        vertical-align: middle;\n",
       "    }\n",
       "\n",
       "    .dataframe tbody tr th {\n",
       "        vertical-align: top;\n",
       "    }\n",
       "\n",
       "    .dataframe thead th {\n",
       "        text-align: right;\n",
       "    }\n",
       "</style>\n",
       "<table border=\"1\" class=\"dataframe\">\n",
       "  <thead>\n",
       "    <tr style=\"text-align: right;\">\n",
       "      <th></th>\n",
       "      <th>dep</th>\n",
       "      <th>jour</th>\n",
       "      <th>P</th>\n",
       "      <th>T</th>\n",
       "      <th>cl_age90</th>\n",
       "    </tr>\n",
       "  </thead>\n",
       "  <tbody>\n",
       "    <tr>\n",
       "      <th>0</th>\n",
       "      <td>01</td>\n",
       "      <td>2020-05-13</td>\n",
       "      <td>0</td>\n",
       "      <td>16</td>\n",
       "      <td>9</td>\n",
       "    </tr>\n",
       "    <tr>\n",
       "      <th>1</th>\n",
       "      <td>01</td>\n",
       "      <td>2020-05-13</td>\n",
       "      <td>1</td>\n",
       "      <td>16</td>\n",
       "      <td>19</td>\n",
       "    </tr>\n",
       "    <tr>\n",
       "      <th>2</th>\n",
       "      <td>01</td>\n",
       "      <td>2020-05-13</td>\n",
       "      <td>0</td>\n",
       "      <td>33</td>\n",
       "      <td>29</td>\n",
       "    </tr>\n",
       "    <tr>\n",
       "      <th>3</th>\n",
       "      <td>01</td>\n",
       "      <td>2020-05-13</td>\n",
       "      <td>1</td>\n",
       "      <td>71</td>\n",
       "      <td>39</td>\n",
       "    </tr>\n",
       "    <tr>\n",
       "      <th>4</th>\n",
       "      <td>01</td>\n",
       "      <td>2020-05-13</td>\n",
       "      <td>0</td>\n",
       "      <td>53</td>\n",
       "      <td>49</td>\n",
       "    </tr>\n",
       "  </tbody>\n",
       "</table>\n",
       "</div>"
      ],
      "text/plain": [
       "  dep        jour  P   T  cl_age90\n",
       "0  01  2020-05-13  0  16         9\n",
       "1  01  2020-05-13  1  16        19\n",
       "2  01  2020-05-13  0  33        29\n",
       "3  01  2020-05-13  1  71        39\n",
       "4  01  2020-05-13  0  53        49"
      ]
     },
     "execution_count": 461,
     "metadata": {},
     "output_type": "execute_result"
    }
   ],
   "source": [
    "url_test2=\"https://www.data.gouv.fr/fr/datasets/r/406c6a23-e283-4300-9484-54e78c8ae675\"\n",
    "dtype={'dep': str,'P':int,'T':int,'cl_age':int}\n",
    "df_test2=pd.read_csv(url_test2,sep = ';',dtype=dtype)\n",
    "df_test2.head()"
   ]
  },
  {
   "cell_type": "code",
   "execution_count": 462,
   "metadata": {},
   "outputs": [
    {
     "data": {
      "text/html": [
       "<div>\n",
       "<style scoped>\n",
       "    .dataframe tbody tr th:only-of-type {\n",
       "        vertical-align: middle;\n",
       "    }\n",
       "\n",
       "    .dataframe tbody tr th {\n",
       "        vertical-align: top;\n",
       "    }\n",
       "\n",
       "    .dataframe thead th {\n",
       "        text-align: right;\n",
       "    }\n",
       "</style>\n",
       "<table border=\"1\" class=\"dataframe\">\n",
       "  <thead>\n",
       "    <tr style=\"text-align: right;\">\n",
       "      <th></th>\n",
       "      <th>dep</th>\n",
       "      <th>jour</th>\n",
       "      <th>P</th>\n",
       "      <th>T</th>\n",
       "      <th>cl_age90</th>\n",
       "    </tr>\n",
       "  </thead>\n",
       "  <tbody>\n",
       "    <tr>\n",
       "      <th>142725</th>\n",
       "      <td>75</td>\n",
       "      <td>2020-05-13</td>\n",
       "      <td>0</td>\n",
       "      <td>62</td>\n",
       "      <td>9</td>\n",
       "    </tr>\n",
       "    <tr>\n",
       "      <th>142726</th>\n",
       "      <td>75</td>\n",
       "      <td>2020-05-13</td>\n",
       "      <td>0</td>\n",
       "      <td>40</td>\n",
       "      <td>19</td>\n",
       "    </tr>\n",
       "    <tr>\n",
       "      <th>142727</th>\n",
       "      <td>75</td>\n",
       "      <td>2020-05-13</td>\n",
       "      <td>6</td>\n",
       "      <td>188</td>\n",
       "      <td>29</td>\n",
       "    </tr>\n",
       "    <tr>\n",
       "      <th>142728</th>\n",
       "      <td>75</td>\n",
       "      <td>2020-05-13</td>\n",
       "      <td>2</td>\n",
       "      <td>234</td>\n",
       "      <td>39</td>\n",
       "    </tr>\n",
       "    <tr>\n",
       "      <th>142729</th>\n",
       "      <td>75</td>\n",
       "      <td>2020-05-13</td>\n",
       "      <td>2</td>\n",
       "      <td>207</td>\n",
       "      <td>49</td>\n",
       "    </tr>\n",
       "    <tr>\n",
       "      <th>...</th>\n",
       "      <td>...</td>\n",
       "      <td>...</td>\n",
       "      <td>...</td>\n",
       "      <td>...</td>\n",
       "      <td>...</td>\n",
       "    </tr>\n",
       "    <tr>\n",
       "      <th>144623</th>\n",
       "      <td>75</td>\n",
       "      <td>2020-11-01</td>\n",
       "      <td>18</td>\n",
       "      <td>147</td>\n",
       "      <td>69</td>\n",
       "    </tr>\n",
       "    <tr>\n",
       "      <th>144624</th>\n",
       "      <td>75</td>\n",
       "      <td>2020-11-01</td>\n",
       "      <td>21</td>\n",
       "      <td>103</td>\n",
       "      <td>79</td>\n",
       "    </tr>\n",
       "    <tr>\n",
       "      <th>144625</th>\n",
       "      <td>75</td>\n",
       "      <td>2020-11-01</td>\n",
       "      <td>12</td>\n",
       "      <td>63</td>\n",
       "      <td>89</td>\n",
       "    </tr>\n",
       "    <tr>\n",
       "      <th>144626</th>\n",
       "      <td>75</td>\n",
       "      <td>2020-11-01</td>\n",
       "      <td>4</td>\n",
       "      <td>37</td>\n",
       "      <td>90</td>\n",
       "    </tr>\n",
       "    <tr>\n",
       "      <th>144627</th>\n",
       "      <td>75</td>\n",
       "      <td>2020-11-01</td>\n",
       "      <td>243</td>\n",
       "      <td>1196</td>\n",
       "      <td>0</td>\n",
       "    </tr>\n",
       "  </tbody>\n",
       "</table>\n",
       "<p>1903 rows × 5 columns</p>\n",
       "</div>"
      ],
      "text/plain": [
       "       dep        jour    P     T  cl_age90\n",
       "142725  75  2020-05-13    0    62         9\n",
       "142726  75  2020-05-13    0    40        19\n",
       "142727  75  2020-05-13    6   188        29\n",
       "142728  75  2020-05-13    2   234        39\n",
       "142729  75  2020-05-13    2   207        49\n",
       "...     ..         ...  ...   ...       ...\n",
       "144623  75  2020-11-01   18   147        69\n",
       "144624  75  2020-11-01   21   103        79\n",
       "144625  75  2020-11-01   12    63        89\n",
       "144626  75  2020-11-01    4    37        90\n",
       "144627  75  2020-11-01  243  1196         0\n",
       "\n",
       "[1903 rows x 5 columns]"
      ]
     },
     "execution_count": 462,
     "metadata": {},
     "output_type": "execute_result"
    }
   ],
   "source": [
    "df_test2.loc[df_test2['dep'] == '75']"
   ]
  },
  {
   "cell_type": "code",
   "execution_count": 463,
   "metadata": {},
   "outputs": [],
   "source": [
    "df_test2=df_test2.rename(columns={'P':'nb_pos','T':'nb_test'})\n",
    "df_test2=df_test2.drop(\"cl_age90\",axis=1)"
   ]
  },
  {
   "cell_type": "code",
   "execution_count": 464,
   "metadata": {},
   "outputs": [
    {
     "data": {
      "text/html": [
       "<div>\n",
       "<style scoped>\n",
       "    .dataframe tbody tr th:only-of-type {\n",
       "        vertical-align: middle;\n",
       "    }\n",
       "\n",
       "    .dataframe tbody tr th {\n",
       "        vertical-align: top;\n",
       "    }\n",
       "\n",
       "    .dataframe thead th {\n",
       "        text-align: right;\n",
       "    }\n",
       "</style>\n",
       "<table border=\"1\" class=\"dataframe\">\n",
       "  <thead>\n",
       "    <tr style=\"text-align: right;\">\n",
       "      <th></th>\n",
       "      <th>dep</th>\n",
       "      <th>jour</th>\n",
       "      <th>nb_pos</th>\n",
       "      <th>nb_test</th>\n",
       "    </tr>\n",
       "  </thead>\n",
       "  <tbody>\n",
       "    <tr>\n",
       "      <th>10</th>\n",
       "      <td>01</td>\n",
       "      <td>2020-05-13</td>\n",
       "      <td>9</td>\n",
       "      <td>328</td>\n",
       "    </tr>\n",
       "    <tr>\n",
       "      <th>21</th>\n",
       "      <td>01</td>\n",
       "      <td>2020-05-14</td>\n",
       "      <td>9</td>\n",
       "      <td>429</td>\n",
       "    </tr>\n",
       "    <tr>\n",
       "      <th>32</th>\n",
       "      <td>01</td>\n",
       "      <td>2020-05-15</td>\n",
       "      <td>5</td>\n",
       "      <td>440</td>\n",
       "    </tr>\n",
       "    <tr>\n",
       "      <th>43</th>\n",
       "      <td>01</td>\n",
       "      <td>2020-05-16</td>\n",
       "      <td>0</td>\n",
       "      <td>142</td>\n",
       "    </tr>\n",
       "    <tr>\n",
       "      <th>54</th>\n",
       "      <td>01</td>\n",
       "      <td>2020-05-17</td>\n",
       "      <td>0</td>\n",
       "      <td>30</td>\n",
       "    </tr>\n",
       "  </tbody>\n",
       "</table>\n",
       "</div>"
      ],
      "text/plain": [
       "   dep        jour  nb_pos  nb_test\n",
       "10  01  2020-05-13       9      328\n",
       "21  01  2020-05-14       9      429\n",
       "32  01  2020-05-15       5      440\n",
       "43  01  2020-05-16       0      142\n",
       "54  01  2020-05-17       0       30"
      ]
     },
     "execution_count": 464,
     "metadata": {},
     "output_type": "execute_result"
    }
   ],
   "source": [
    "df_test2=df_test2.groupby([\"dep\",\"jour\"]).tail(1)\n",
    "df_test2.head()"
   ]
  },
  {
   "cell_type": "markdown",
   "metadata": {},
   "source": [
    "3. **Merge in one dataset**"
   ]
  },
  {
   "cell_type": "code",
   "execution_count": 465,
   "metadata": {},
   "outputs": [
    {
     "data": {
      "text/html": [
       "<div>\n",
       "<style scoped>\n",
       "    .dataframe tbody tr th:only-of-type {\n",
       "        vertical-align: middle;\n",
       "    }\n",
       "\n",
       "    .dataframe tbody tr th {\n",
       "        vertical-align: top;\n",
       "    }\n",
       "\n",
       "    .dataframe thead th {\n",
       "        text-align: right;\n",
       "    }\n",
       "</style>\n",
       "<table border=\"1\" class=\"dataframe\">\n",
       "  <thead>\n",
       "    <tr style=\"text-align: right;\">\n",
       "      <th></th>\n",
       "      <th>dep</th>\n",
       "      <th>jour</th>\n",
       "      <th>nb_test</th>\n",
       "      <th>nb_pos</th>\n",
       "      <th>nb_test_cum</th>\n",
       "      <th>nb_pos_cum</th>\n",
       "    </tr>\n",
       "  </thead>\n",
       "  <tbody>\n",
       "    <tr>\n",
       "      <th>0</th>\n",
       "      <td>01</td>\n",
       "      <td>2020-03-18</td>\n",
       "      <td>37</td>\n",
       "      <td>8</td>\n",
       "      <td>37</td>\n",
       "      <td>8</td>\n",
       "    </tr>\n",
       "    <tr>\n",
       "      <th>1</th>\n",
       "      <td>01</td>\n",
       "      <td>2020-03-19</td>\n",
       "      <td>82</td>\n",
       "      <td>13</td>\n",
       "      <td>119</td>\n",
       "      <td>21</td>\n",
       "    </tr>\n",
       "    <tr>\n",
       "      <th>2</th>\n",
       "      <td>01</td>\n",
       "      <td>2020-03-20</td>\n",
       "      <td>44</td>\n",
       "      <td>9</td>\n",
       "      <td>163</td>\n",
       "      <td>30</td>\n",
       "    </tr>\n",
       "    <tr>\n",
       "      <th>3</th>\n",
       "      <td>01</td>\n",
       "      <td>2020-03-21</td>\n",
       "      <td>13</td>\n",
       "      <td>1</td>\n",
       "      <td>176</td>\n",
       "      <td>31</td>\n",
       "    </tr>\n",
       "    <tr>\n",
       "      <th>4</th>\n",
       "      <td>01</td>\n",
       "      <td>2020-03-22</td>\n",
       "      <td>4</td>\n",
       "      <td>0</td>\n",
       "      <td>180</td>\n",
       "      <td>31</td>\n",
       "    </tr>\n",
       "  </tbody>\n",
       "</table>\n",
       "</div>"
      ],
      "text/plain": [
       "  dep        jour  nb_test  nb_pos  nb_test_cum  nb_pos_cum\n",
       "0  01  2020-03-18       37       8           37           8\n",
       "1  01  2020-03-19       82      13          119          21\n",
       "2  01  2020-03-20       44       9          163          30\n",
       "3  01  2020-03-21       13       1          176          31\n",
       "4  01  2020-03-22        4       0          180          31"
      ]
     },
     "execution_count": 465,
     "metadata": {},
     "output_type": "execute_result"
    }
   ],
   "source": [
    "df_test = pd.concat([df_test1,df_test2],ignore_index=True)\n",
    "df_test['nb_test_cum']=df_test.groupby(\"dep\")['nb_test'].cumsum()\n",
    "df_test['nb_pos_cum']=df_test.groupby(\"dep\")['nb_pos'].cumsum()\n",
    "df_test.head()"
   ]
  },
  {
   "cell_type": "markdown",
   "metadata": {},
   "source": [
    "## **Hospital dataset**"
   ]
  },
  {
   "cell_type": "code",
   "execution_count": 466,
   "metadata": {},
   "outputs": [
    {
     "data": {
      "text/html": [
       "<div>\n",
       "<style scoped>\n",
       "    .dataframe tbody tr th:only-of-type {\n",
       "        vertical-align: middle;\n",
       "    }\n",
       "\n",
       "    .dataframe tbody tr th {\n",
       "        vertical-align: top;\n",
       "    }\n",
       "\n",
       "    .dataframe thead th {\n",
       "        text-align: right;\n",
       "    }\n",
       "</style>\n",
       "<table border=\"1\" class=\"dataframe\">\n",
       "  <thead>\n",
       "    <tr style=\"text-align: right;\">\n",
       "      <th></th>\n",
       "      <th>dep</th>\n",
       "      <th>sexe</th>\n",
       "      <th>jour</th>\n",
       "      <th>hosp</th>\n",
       "      <th>rea</th>\n",
       "      <th>rad</th>\n",
       "      <th>dc</th>\n",
       "    </tr>\n",
       "  </thead>\n",
       "  <tbody>\n",
       "    <tr>\n",
       "      <th>0</th>\n",
       "      <td>01</td>\n",
       "      <td>0</td>\n",
       "      <td>2020-03-18</td>\n",
       "      <td>2</td>\n",
       "      <td>0</td>\n",
       "      <td>1</td>\n",
       "      <td>0</td>\n",
       "    </tr>\n",
       "    <tr>\n",
       "      <th>1</th>\n",
       "      <td>01</td>\n",
       "      <td>1</td>\n",
       "      <td>2020-03-18</td>\n",
       "      <td>1</td>\n",
       "      <td>0</td>\n",
       "      <td>1</td>\n",
       "      <td>0</td>\n",
       "    </tr>\n",
       "    <tr>\n",
       "      <th>2</th>\n",
       "      <td>01</td>\n",
       "      <td>2</td>\n",
       "      <td>2020-03-18</td>\n",
       "      <td>1</td>\n",
       "      <td>0</td>\n",
       "      <td>0</td>\n",
       "      <td>0</td>\n",
       "    </tr>\n",
       "    <tr>\n",
       "      <th>3</th>\n",
       "      <td>02</td>\n",
       "      <td>0</td>\n",
       "      <td>2020-03-18</td>\n",
       "      <td>41</td>\n",
       "      <td>10</td>\n",
       "      <td>18</td>\n",
       "      <td>11</td>\n",
       "    </tr>\n",
       "    <tr>\n",
       "      <th>4</th>\n",
       "      <td>02</td>\n",
       "      <td>1</td>\n",
       "      <td>2020-03-18</td>\n",
       "      <td>19</td>\n",
       "      <td>4</td>\n",
       "      <td>11</td>\n",
       "      <td>6</td>\n",
       "    </tr>\n",
       "  </tbody>\n",
       "</table>\n",
       "</div>"
      ],
      "text/plain": [
       "  dep  sexe        jour  hosp  rea  rad  dc\n",
       "0  01     0  2020-03-18     2    0    1   0\n",
       "1  01     1  2020-03-18     1    0    1   0\n",
       "2  01     2  2020-03-18     1    0    0   0\n",
       "3  02     0  2020-03-18    41   10   18  11\n",
       "4  02     1  2020-03-18    19    4   11   6"
      ]
     },
     "execution_count": 466,
     "metadata": {},
     "output_type": "execute_result"
    }
   ],
   "source": [
    "url2=\"https://www.data.gouv.fr/fr/datasets/r/63352e38-d353-4b54-bfd1-f1b3ee1cabd7\"\n",
    "df_hospital = pd.read_csv(url2,sep=';')\n",
    "df_hospital.head()"
   ]
  },
  {
   "cell_type": "code",
   "execution_count": 467,
   "metadata": {},
   "outputs": [
    {
     "data": {
      "text/html": [
       "<div>\n",
       "<style scoped>\n",
       "    .dataframe tbody tr th:only-of-type {\n",
       "        vertical-align: middle;\n",
       "    }\n",
       "\n",
       "    .dataframe tbody tr th {\n",
       "        vertical-align: top;\n",
       "    }\n",
       "\n",
       "    .dataframe thead th {\n",
       "        text-align: right;\n",
       "    }\n",
       "</style>\n",
       "<table border=\"1\" class=\"dataframe\">\n",
       "  <thead>\n",
       "    <tr style=\"text-align: right;\">\n",
       "      <th></th>\n",
       "      <th>dep</th>\n",
       "      <th>jour</th>\n",
       "      <th>hosp</th>\n",
       "      <th>rea</th>\n",
       "      <th>rad</th>\n",
       "      <th>dc</th>\n",
       "    </tr>\n",
       "  </thead>\n",
       "  <tbody>\n",
       "    <tr>\n",
       "      <th>0</th>\n",
       "      <td>01</td>\n",
       "      <td>2020-03-18</td>\n",
       "      <td>2</td>\n",
       "      <td>0</td>\n",
       "      <td>1</td>\n",
       "      <td>0</td>\n",
       "    </tr>\n",
       "    <tr>\n",
       "      <th>1</th>\n",
       "      <td>02</td>\n",
       "      <td>2020-03-18</td>\n",
       "      <td>41</td>\n",
       "      <td>10</td>\n",
       "      <td>18</td>\n",
       "      <td>11</td>\n",
       "    </tr>\n",
       "    <tr>\n",
       "      <th>2</th>\n",
       "      <td>03</td>\n",
       "      <td>2020-03-18</td>\n",
       "      <td>4</td>\n",
       "      <td>0</td>\n",
       "      <td>1</td>\n",
       "      <td>0</td>\n",
       "    </tr>\n",
       "    <tr>\n",
       "      <th>3</th>\n",
       "      <td>04</td>\n",
       "      <td>2020-03-18</td>\n",
       "      <td>3</td>\n",
       "      <td>1</td>\n",
       "      <td>2</td>\n",
       "      <td>0</td>\n",
       "    </tr>\n",
       "    <tr>\n",
       "      <th>4</th>\n",
       "      <td>05</td>\n",
       "      <td>2020-03-18</td>\n",
       "      <td>8</td>\n",
       "      <td>1</td>\n",
       "      <td>9</td>\n",
       "      <td>0</td>\n",
       "    </tr>\n",
       "  </tbody>\n",
       "</table>\n",
       "</div>"
      ],
      "text/plain": [
       "  dep        jour  hosp  rea  rad  dc\n",
       "0  01  2020-03-18     2    0    1   0\n",
       "1  02  2020-03-18    41   10   18  11\n",
       "2  03  2020-03-18     4    0    1   0\n",
       "3  04  2020-03-18     3    1    2   0\n",
       "4  05  2020-03-18     8    1    9   0"
      ]
     },
     "execution_count": 467,
     "metadata": {},
     "output_type": "execute_result"
    }
   ],
   "source": [
    "df_hospital = df_hospital.drop(df_hospital[(df_hospital[\"sexe\"]==1) | (df_hospital[\"sexe\"]==2 ) ].index).reset_index(drop=True)\n",
    "df_hospital = df_hospital.drop([\"sexe\"],axis=1)\n",
    "df_hospital.head()"
   ]
  },
  {
   "cell_type": "markdown",
   "metadata": {},
   "source": [
    "## **Create departement longitude/latitude Dataframe**"
   ]
  },
  {
   "cell_type": "markdown",
   "metadata": {},
   "source": [
    "Source: <a href=\"https://www.ign.fr/sites/default/files/2020-09/Quels%20sont%20les%20centres%20des%2096%20d%C3%A9partements%20m%C3%A9tropolitains.pdf\" target=\"_blank\">https://www.ign.fr/sites/default/files/2020-09/Quels%20sont%20les%20centres%20des%2096%20d%C3%A9partements%20m%C3%A9tropolitains.pdf</a>\n",
    "\n",
    "Source: <a href=\"https://www.coordonnees-gps.fr/\" target=\"_blank\">https://www.coordonnees-gps.fr/</a>"
   ]
  },
  {
   "cell_type": "code",
   "execution_count": 527,
   "metadata": {},
   "outputs": [],
   "source": [
    "departements= df_test[\"dep\"].unique()"
   ]
  },
  {
   "cell_type": "code",
   "execution_count": 526,
   "metadata": {},
   "outputs": [
    {
     "name": "stdout",
     "output_type": "stream",
     "text": [
      "104\n"
     ]
    },
    {
     "data": {
      "text/html": [
       "<div>\n",
       "<style scoped>\n",
       "    .dataframe tbody tr th:only-of-type {\n",
       "        vertical-align: middle;\n",
       "    }\n",
       "\n",
       "    .dataframe tbody tr th {\n",
       "        vertical-align: top;\n",
       "    }\n",
       "\n",
       "    .dataframe thead th {\n",
       "        text-align: right;\n",
       "    }\n",
       "</style>\n",
       "<table border=\"1\" class=\"dataframe\">\n",
       "  <thead>\n",
       "    <tr style=\"text-align: right;\">\n",
       "      <th></th>\n",
       "      <th>dep</th>\n",
       "      <th>dep_name</th>\n",
       "      <th>lat</th>\n",
       "      <th>long</th>\n",
       "    </tr>\n",
       "  </thead>\n",
       "  <tbody>\n",
       "    <tr>\n",
       "      <th>99</th>\n",
       "      <td>974</td>\n",
       "      <td>La Réunion</td>\n",
       "      <td>-20.88</td>\n",
       "      <td>55.45</td>\n",
       "    </tr>\n",
       "    <tr>\n",
       "      <th>100</th>\n",
       "      <td>976</td>\n",
       "      <td>Mayotte</td>\n",
       "      <td>-12.77</td>\n",
       "      <td>45.22</td>\n",
       "    </tr>\n",
       "    <tr>\n",
       "      <th>101</th>\n",
       "      <td>975</td>\n",
       "      <td>Saint-Pierre-et-Miquelon</td>\n",
       "      <td>46.78</td>\n",
       "      <td>-56.19</td>\n",
       "    </tr>\n",
       "    <tr>\n",
       "      <th>102</th>\n",
       "      <td>977</td>\n",
       "      <td>Saint-Barthélémy</td>\n",
       "      <td>17.90</td>\n",
       "      <td>-62.81</td>\n",
       "    </tr>\n",
       "    <tr>\n",
       "      <th>103</th>\n",
       "      <td>978</td>\n",
       "      <td>Saint-Martin</td>\n",
       "      <td>18.06</td>\n",
       "      <td>-63.08</td>\n",
       "    </tr>\n",
       "  </tbody>\n",
       "</table>\n",
       "</div>"
      ],
      "text/plain": [
       "     dep                  dep_name    lat   long\n",
       "99   974                La Réunion -20.88  55.45\n",
       "100  976                   Mayotte -12.77  45.22\n",
       "101  975  Saint-Pierre-et-Miquelon  46.78 -56.19\n",
       "102  977          Saint-Barthélémy  17.90 -62.81\n",
       "103  978              Saint-Martin  18.06 -63.08"
      ]
     },
     "execution_count": 526,
     "metadata": {},
     "output_type": "execute_result"
    }
   ],
   "source": [
    "data={'dep':departements,\n",
    "      'dep_name':['Ain','Aisne','Allier','Alpes-de-Haute-Provence','Hautes-Alpes','Alpes_Maritimes','Ardeche','Ardennes','Ariege','Aube','Aude','Aveyron','Bouches-du-Rhône','Calvados','Cantal','Charente','Charente-Maritime','Cher','Correze',\"Côte-d'Or\",\"Côtes-D'Armor\",\"Creuse\",\"Dordogne\",\"Doubs\",\"Drome\",\"Eure\",\"Eure-et-Loire\",\"Finistère\",\"Corde-du-Sud\",\"Haute-Corse\",\"Gard\",\"Haute-Garonne\",\"Gers\",\"Gironde\",\"Hérault\",\"Ille-et-Vilaine\",\"Indre\",\"Indre-et-Loire\",\"Isère\",\"Jura\",\"Landes\",\"Loir-et-Cher\",\"Loire\",\"Haute-Loire\",\"Loire-Atlantique\",\"Loiret\",\"Lot\",\"Lot-et-Garonne\",\"Lozère\",\"Manne-et-Loire\",\"Manche\",\"Marne\",\"Haute-Marne\",\"Mayenne\",\"Meurthe-et-Moselle\",\"Meuse\",\"Morbihan\",\"Moselle\",\"Nièvre\",\"Nord\",\"Oise\",\"Orne\",\"Pas-de-Calais\",\"Puy-de-Dôme\",\"Pyrénées-Altantiques\",\"Hautes-Pyrénées\",\"Pyrénées-Orientales\",\"Bas-Rhin\",\"Haut-Rhin\",\"Rhone\",\"Haute-Saône\",\"Saône-et-Loire\",\"Sarthe\",\"Savoie\",\"Haute-Savoie\",\"Paris\",\"Seine-Maritime\",\"Seine-et-Marne\",\"Yvellines\",\"Deux-Sèvres\",\"Somme\",\"Tarn\",\"Tarn-et-Garonne\",\"Var\",\"Vaucluse\",\"Vendée\",\"Vienne\",\"Haute-Vienne\",\"Vosges\",\"Yonne\",\"Territoire de Belfort\",\"Essonne\",\"Hauts-de-Seine\",\"Seine-Saint_Denis\",\"Val-de-Marne\",\"Val-d'Oise\",\"Guadeloupe\",\"Martinique\",\"Guyane\",\"La Réunion\",\"Mayotte\",\"Saint-Pierre-et-Miquelon\",\"Saint-Barthélémy\",\"Saint-Martin\"],\n",
    "      'lat':[46.1,49.55,44.1,44.09,44.66,43.94,44.73,49.61,42.94,48.31,43.10,44.28,43.54,49.10,45.01,45.71,45.76,47.07,45.34,47.43,48.44,46.08,45.13,47.16,44.68,49.10,48.39,48.27,41.88,42.37,43.99,43.35,43.68,44.84,43.90,48.18,46.80,47.24,45.27,46.73,43.96,47.61,45.72,45.13,47.38,47.85,44.63,44.37,44.51,47.39,49.08,48.38,48.09,48.12,48.79,49.00,47.85,49.02,47.10,50.45,49.39,48.61,50.49,45.73,43.28,43.05,42.61,48.65,47.86,45.86,47.63,46.64,48.00,45.47,46.04,48.85,49.65,48.60,48.97,46.53,49.97,43.77,44.07,43.47,43.99,46.67,46.55,45.87,48.19,47.84,47.62,48.52,48.83,48.90,48.77,49.07,16.00,14.60,4.93,-20.88,-12.77,46.78,17.90,18.06],\n",
    "      'long':[5.33,3.56,2.35,6.23,6.21,7.12,4.41,4.61,1.53,4.14,2.35,2.72,5.03,-0.37,2.66,0.20,-0.71,2.52,1.81,4.78,-2.85,2.04,0.70,6.37,5.15,1.00,1.36,-4.04,8.97,9.23,4.17,1.23,0.45,-0.58,4.47,-1.64,1.62,0.69,5.61,5.69,-0.80,1.41,4.16,3.81,-1.71,2.26,1.59,0.46,3.49,-0.53,-1.34,7.47,5.15,-0.67,6.16,5.39,-2.83,6.65,3.51,3.20,2.42,0.11,2.27,3.14,-0.75,0.16,2.51,7.56,7.27,4.66,6.07,4.53,0.19,6.45,6.44,2.35,1.04,2.97,1.97,-0.32,2.29,2.18,1.28,6.18,5.14,-1.28,0.50,1.23,6.37,3.57,6.92,2.26,2.24,2.48,2.45,2.17,-61.73,-61.06,-52.32,55.45,45.22,-56.19,-62.81,-63.08]\n",
    "     }\n",
    "print(len(data['dep_name']))\n",
    "df_coord = pd.DataFrame(data,columns=['dep','dep_name','lat','long'])\n",
    "df_coord.tail()"
   ]
  },
  {
   "cell_type": "markdown",
   "metadata": {},
   "source": [
    "## **Complete Dataset**"
   ]
  },
  {
   "cell_type": "code",
   "execution_count": 533,
   "metadata": {},
   "outputs": [],
   "source": [
    "df_dep = pd.merge(df_hospital,df_test,on=['dep','jour'])\n",
    "df_dep = pd.merge(df_dep,df_coord,on=['dep'])\n",
    "df_dep=df_dep.sort_values(['dep','jour'])"
   ]
  },
  {
   "cell_type": "code",
   "execution_count": 534,
   "metadata": {},
   "outputs": [
    {
     "data": {
      "text/html": [
       "<div>\n",
       "<style scoped>\n",
       "    .dataframe tbody tr th:only-of-type {\n",
       "        vertical-align: middle;\n",
       "    }\n",
       "\n",
       "    .dataframe tbody tr th {\n",
       "        vertical-align: top;\n",
       "    }\n",
       "\n",
       "    .dataframe thead th {\n",
       "        text-align: right;\n",
       "    }\n",
       "</style>\n",
       "<table border=\"1\" class=\"dataframe\">\n",
       "  <thead>\n",
       "    <tr style=\"text-align: right;\">\n",
       "      <th></th>\n",
       "      <th>dep</th>\n",
       "      <th>jour</th>\n",
       "      <th>hosp</th>\n",
       "      <th>rea</th>\n",
       "      <th>rad</th>\n",
       "      <th>dc</th>\n",
       "      <th>nb_test</th>\n",
       "      <th>nb_pos</th>\n",
       "      <th>nb_test_cum</th>\n",
       "      <th>nb_pos_cum</th>\n",
       "      <th>dep_name</th>\n",
       "      <th>lat</th>\n",
       "      <th>long</th>\n",
       "    </tr>\n",
       "  </thead>\n",
       "  <tbody>\n",
       "    <tr>\n",
       "      <th>0</th>\n",
       "      <td>01</td>\n",
       "      <td>2020-03-18</td>\n",
       "      <td>2</td>\n",
       "      <td>0</td>\n",
       "      <td>1</td>\n",
       "      <td>0</td>\n",
       "      <td>37</td>\n",
       "      <td>8</td>\n",
       "      <td>37</td>\n",
       "      <td>8</td>\n",
       "      <td>Ain</td>\n",
       "      <td>46.1</td>\n",
       "      <td>5.33</td>\n",
       "    </tr>\n",
       "    <tr>\n",
       "      <th>1</th>\n",
       "      <td>01</td>\n",
       "      <td>2020-03-19</td>\n",
       "      <td>2</td>\n",
       "      <td>0</td>\n",
       "      <td>1</td>\n",
       "      <td>0</td>\n",
       "      <td>82</td>\n",
       "      <td>13</td>\n",
       "      <td>119</td>\n",
       "      <td>21</td>\n",
       "      <td>Ain</td>\n",
       "      <td>46.1</td>\n",
       "      <td>5.33</td>\n",
       "    </tr>\n",
       "    <tr>\n",
       "      <th>2</th>\n",
       "      <td>01</td>\n",
       "      <td>2020-03-20</td>\n",
       "      <td>2</td>\n",
       "      <td>0</td>\n",
       "      <td>1</td>\n",
       "      <td>0</td>\n",
       "      <td>44</td>\n",
       "      <td>9</td>\n",
       "      <td>163</td>\n",
       "      <td>30</td>\n",
       "      <td>Ain</td>\n",
       "      <td>46.1</td>\n",
       "      <td>5.33</td>\n",
       "    </tr>\n",
       "    <tr>\n",
       "      <th>3</th>\n",
       "      <td>01</td>\n",
       "      <td>2020-03-21</td>\n",
       "      <td>4</td>\n",
       "      <td>0</td>\n",
       "      <td>1</td>\n",
       "      <td>0</td>\n",
       "      <td>13</td>\n",
       "      <td>1</td>\n",
       "      <td>176</td>\n",
       "      <td>31</td>\n",
       "      <td>Ain</td>\n",
       "      <td>46.1</td>\n",
       "      <td>5.33</td>\n",
       "    </tr>\n",
       "    <tr>\n",
       "      <th>4</th>\n",
       "      <td>01</td>\n",
       "      <td>2020-03-22</td>\n",
       "      <td>8</td>\n",
       "      <td>1</td>\n",
       "      <td>2</td>\n",
       "      <td>0</td>\n",
       "      <td>4</td>\n",
       "      <td>0</td>\n",
       "      <td>180</td>\n",
       "      <td>31</td>\n",
       "      <td>Ain</td>\n",
       "      <td>46.1</td>\n",
       "      <td>5.33</td>\n",
       "    </tr>\n",
       "  </tbody>\n",
       "</table>\n",
       "</div>"
      ],
      "text/plain": [
       "  dep        jour  hosp  rea  rad  dc  nb_test  nb_pos  nb_test_cum  \\\n",
       "0  01  2020-03-18     2    0    1   0       37       8           37   \n",
       "1  01  2020-03-19     2    0    1   0       82      13          119   \n",
       "2  01  2020-03-20     2    0    1   0       44       9          163   \n",
       "3  01  2020-03-21     4    0    1   0       13       1          176   \n",
       "4  01  2020-03-22     8    1    2   0        4       0          180   \n",
       "\n",
       "   nb_pos_cum dep_name   lat  long  \n",
       "0           8      Ain  46.1  5.33  \n",
       "1          21      Ain  46.1  5.33  \n",
       "2          30      Ain  46.1  5.33  \n",
       "3          31      Ain  46.1  5.33  \n",
       "4          31      Ain  46.1  5.33  "
      ]
     },
     "execution_count": 534,
     "metadata": {},
     "output_type": "execute_result"
    }
   ],
   "source": [
    "df_dep.head()"
   ]
  },
  {
   "cell_type": "code",
   "execution_count": 535,
   "metadata": {},
   "outputs": [
    {
     "data": {
      "text/html": [
       "<div>\n",
       "<style scoped>\n",
       "    .dataframe tbody tr th:only-of-type {\n",
       "        vertical-align: middle;\n",
       "    }\n",
       "\n",
       "    .dataframe tbody tr th {\n",
       "        vertical-align: top;\n",
       "    }\n",
       "\n",
       "    .dataframe thead th {\n",
       "        text-align: right;\n",
       "    }\n",
       "</style>\n",
       "<table border=\"1\" class=\"dataframe\">\n",
       "  <thead>\n",
       "    <tr style=\"text-align: right;\">\n",
       "      <th></th>\n",
       "      <th>dep</th>\n",
       "      <th>jour</th>\n",
       "      <th>hosp</th>\n",
       "      <th>rea</th>\n",
       "      <th>rad</th>\n",
       "      <th>dc</th>\n",
       "      <th>nb_test</th>\n",
       "      <th>nb_pos</th>\n",
       "      <th>nb_test_cum</th>\n",
       "      <th>nb_pos_cum</th>\n",
       "      <th>dep_name</th>\n",
       "      <th>lat</th>\n",
       "      <th>long</th>\n",
       "      <th>death rate</th>\n",
       "    </tr>\n",
       "  </thead>\n",
       "  <tbody>\n",
       "    <tr>\n",
       "      <th>0</th>\n",
       "      <td>01</td>\n",
       "      <td>2020-03-18</td>\n",
       "      <td>2</td>\n",
       "      <td>0</td>\n",
       "      <td>1</td>\n",
       "      <td>0</td>\n",
       "      <td>37</td>\n",
       "      <td>8</td>\n",
       "      <td>37</td>\n",
       "      <td>8</td>\n",
       "      <td>Ain</td>\n",
       "      <td>46.1</td>\n",
       "      <td>5.33</td>\n",
       "      <td>0.0</td>\n",
       "    </tr>\n",
       "    <tr>\n",
       "      <th>1</th>\n",
       "      <td>01</td>\n",
       "      <td>2020-03-19</td>\n",
       "      <td>2</td>\n",
       "      <td>0</td>\n",
       "      <td>1</td>\n",
       "      <td>0</td>\n",
       "      <td>82</td>\n",
       "      <td>13</td>\n",
       "      <td>119</td>\n",
       "      <td>21</td>\n",
       "      <td>Ain</td>\n",
       "      <td>46.1</td>\n",
       "      <td>5.33</td>\n",
       "      <td>0.0</td>\n",
       "    </tr>\n",
       "    <tr>\n",
       "      <th>2</th>\n",
       "      <td>01</td>\n",
       "      <td>2020-03-20</td>\n",
       "      <td>2</td>\n",
       "      <td>0</td>\n",
       "      <td>1</td>\n",
       "      <td>0</td>\n",
       "      <td>44</td>\n",
       "      <td>9</td>\n",
       "      <td>163</td>\n",
       "      <td>30</td>\n",
       "      <td>Ain</td>\n",
       "      <td>46.1</td>\n",
       "      <td>5.33</td>\n",
       "      <td>0.0</td>\n",
       "    </tr>\n",
       "    <tr>\n",
       "      <th>3</th>\n",
       "      <td>01</td>\n",
       "      <td>2020-03-21</td>\n",
       "      <td>4</td>\n",
       "      <td>0</td>\n",
       "      <td>1</td>\n",
       "      <td>0</td>\n",
       "      <td>13</td>\n",
       "      <td>1</td>\n",
       "      <td>176</td>\n",
       "      <td>31</td>\n",
       "      <td>Ain</td>\n",
       "      <td>46.1</td>\n",
       "      <td>5.33</td>\n",
       "      <td>0.0</td>\n",
       "    </tr>\n",
       "    <tr>\n",
       "      <th>4</th>\n",
       "      <td>01</td>\n",
       "      <td>2020-03-22</td>\n",
       "      <td>8</td>\n",
       "      <td>1</td>\n",
       "      <td>2</td>\n",
       "      <td>0</td>\n",
       "      <td>4</td>\n",
       "      <td>0</td>\n",
       "      <td>180</td>\n",
       "      <td>31</td>\n",
       "      <td>Ain</td>\n",
       "      <td>46.1</td>\n",
       "      <td>5.33</td>\n",
       "      <td>0.0</td>\n",
       "    </tr>\n",
       "  </tbody>\n",
       "</table>\n",
       "</div>"
      ],
      "text/plain": [
       "  dep        jour  hosp  rea  rad  dc  nb_test  nb_pos  nb_test_cum  \\\n",
       "0  01  2020-03-18     2    0    1   0       37       8           37   \n",
       "1  01  2020-03-19     2    0    1   0       82      13          119   \n",
       "2  01  2020-03-20     2    0    1   0       44       9          163   \n",
       "3  01  2020-03-21     4    0    1   0       13       1          176   \n",
       "4  01  2020-03-22     8    1    2   0        4       0          180   \n",
       "\n",
       "   nb_pos_cum dep_name   lat  long  death rate  \n",
       "0           8      Ain  46.1  5.33         0.0  \n",
       "1          21      Ain  46.1  5.33         0.0  \n",
       "2          30      Ain  46.1  5.33         0.0  \n",
       "3          31      Ain  46.1  5.33         0.0  \n",
       "4          31      Ain  46.1  5.33         0.0  "
      ]
     },
     "execution_count": 535,
     "metadata": {},
     "output_type": "execute_result"
    }
   ],
   "source": [
    "df_dep['death rate']=df_dep['dc']/df_dep['nb_pos_cum']*100\n",
    "df_dep.head()"
   ]
  },
  {
   "cell_type": "code",
   "execution_count": 536,
   "metadata": {},
   "outputs": [
    {
     "data": {
      "text/html": [
       "<div>\n",
       "<style scoped>\n",
       "    .dataframe tbody tr th:only-of-type {\n",
       "        vertical-align: middle;\n",
       "    }\n",
       "\n",
       "    .dataframe tbody tr th {\n",
       "        vertical-align: top;\n",
       "    }\n",
       "\n",
       "    .dataframe thead th {\n",
       "        text-align: right;\n",
       "    }\n",
       "</style>\n",
       "<table border=\"1\" class=\"dataframe\">\n",
       "  <thead>\n",
       "    <tr style=\"text-align: right;\">\n",
       "      <th></th>\n",
       "      <th>dep</th>\n",
       "      <th>jour</th>\n",
       "      <th>hosp</th>\n",
       "      <th>rea</th>\n",
       "      <th>rad</th>\n",
       "      <th>dc</th>\n",
       "      <th>nb_test</th>\n",
       "      <th>nb_pos</th>\n",
       "      <th>nb_test_cum</th>\n",
       "      <th>nb_pos_cum</th>\n",
       "      <th>dep_name</th>\n",
       "      <th>lat</th>\n",
       "      <th>long</th>\n",
       "      <th>death rate</th>\n",
       "    </tr>\n",
       "  </thead>\n",
       "  <tbody>\n",
       "    <tr>\n",
       "      <th>0</th>\n",
       "      <td>01</td>\n",
       "      <td>2020-11-01</td>\n",
       "      <td>279</td>\n",
       "      <td>30</td>\n",
       "      <td>671</td>\n",
       "      <td>145</td>\n",
       "      <td>129</td>\n",
       "      <td>35</td>\n",
       "      <td>148205</td>\n",
       "      <td>18490</td>\n",
       "      <td>Ain</td>\n",
       "      <td>46.10</td>\n",
       "      <td>5.33</td>\n",
       "      <td>0.784208</td>\n",
       "    </tr>\n",
       "    <tr>\n",
       "      <th>1</th>\n",
       "      <td>02</td>\n",
       "      <td>2020-11-01</td>\n",
       "      <td>159</td>\n",
       "      <td>21</td>\n",
       "      <td>1310</td>\n",
       "      <td>320</td>\n",
       "      <td>54</td>\n",
       "      <td>11</td>\n",
       "      <td>88873</td>\n",
       "      <td>6691</td>\n",
       "      <td>Aisne</td>\n",
       "      <td>49.55</td>\n",
       "      <td>3.56</td>\n",
       "      <td>4.782544</td>\n",
       "    </tr>\n",
       "    <tr>\n",
       "      <th>2</th>\n",
       "      <td>03</td>\n",
       "      <td>2020-11-01</td>\n",
       "      <td>210</td>\n",
       "      <td>15</td>\n",
       "      <td>354</td>\n",
       "      <td>72</td>\n",
       "      <td>62</td>\n",
       "      <td>18</td>\n",
       "      <td>66500</td>\n",
       "      <td>4363</td>\n",
       "      <td>Allier</td>\n",
       "      <td>44.10</td>\n",
       "      <td>2.35</td>\n",
       "      <td>1.650241</td>\n",
       "    </tr>\n",
       "    <tr>\n",
       "      <th>3</th>\n",
       "      <td>04</td>\n",
       "      <td>2020-11-01</td>\n",
       "      <td>67</td>\n",
       "      <td>11</td>\n",
       "      <td>202</td>\n",
       "      <td>24</td>\n",
       "      <td>36</td>\n",
       "      <td>13</td>\n",
       "      <td>37023</td>\n",
       "      <td>2227</td>\n",
       "      <td>Alpes-de-Haute-Provence</td>\n",
       "      <td>44.09</td>\n",
       "      <td>6.23</td>\n",
       "      <td>1.077683</td>\n",
       "    </tr>\n",
       "    <tr>\n",
       "      <th>4</th>\n",
       "      <td>05</td>\n",
       "      <td>2020-11-01</td>\n",
       "      <td>176</td>\n",
       "      <td>24</td>\n",
       "      <td>224</td>\n",
       "      <td>39</td>\n",
       "      <td>59</td>\n",
       "      <td>34</td>\n",
       "      <td>25796</td>\n",
       "      <td>2855</td>\n",
       "      <td>Hautes-Alpes</td>\n",
       "      <td>44.66</td>\n",
       "      <td>6.21</td>\n",
       "      <td>1.366025</td>\n",
       "    </tr>\n",
       "  </tbody>\n",
       "</table>\n",
       "</div>"
      ],
      "text/plain": [
       "  dep        jour  hosp  rea   rad   dc  nb_test  nb_pos  nb_test_cum  \\\n",
       "0  01  2020-11-01   279   30   671  145      129      35       148205   \n",
       "1  02  2020-11-01   159   21  1310  320       54      11        88873   \n",
       "2  03  2020-11-01   210   15   354   72       62      18        66500   \n",
       "3  04  2020-11-01    67   11   202   24       36      13        37023   \n",
       "4  05  2020-11-01   176   24   224   39       59      34        25796   \n",
       "\n",
       "   nb_pos_cum                 dep_name    lat  long  death rate  \n",
       "0       18490                      Ain  46.10  5.33    0.784208  \n",
       "1        6691                    Aisne  49.55  3.56    4.782544  \n",
       "2        4363                   Allier  44.10  2.35    1.650241  \n",
       "3        2227  Alpes-de-Haute-Provence  44.09  6.23    1.077683  \n",
       "4        2855             Hautes-Alpes  44.66  6.21    1.366025  "
      ]
     },
     "execution_count": 536,
     "metadata": {},
     "output_type": "execute_result"
    }
   ],
   "source": [
    "df_last_update=df_dep.groupby(\"dep\").tail(1).reset_index(drop=True)\n",
    "df_last_update.head()"
   ]
  },
  {
   "cell_type": "code",
   "execution_count": 537,
   "metadata": {},
   "outputs": [
    {
     "data": {
      "text/plain": [
       "dep                    75\n",
       "jour           2020-11-01\n",
       "hosp                 1185\n",
       "rea                   254\n",
       "rad                  8399\n",
       "dc                   2099\n",
       "nb_test              1196\n",
       "nb_pos                243\n",
       "nb_test_cum        815133\n",
       "nb_pos_cum          85244\n",
       "dep_name            Paris\n",
       "lat                 48.85\n",
       "long                 2.35\n",
       "death rate        2.46234\n",
       "Name: 75, dtype: object"
      ]
     },
     "execution_count": 537,
     "metadata": {},
     "output_type": "execute_result"
    }
   ],
   "source": [
    "df_last_update.iloc[75]"
   ]
  },
  {
   "cell_type": "markdown",
   "metadata": {},
   "source": [
    "## **Plot Graph**"
   ]
  },
  {
   "cell_type": "code",
   "execution_count": 551,
   "metadata": {},
   "outputs": [],
   "source": [
    "color_scale = [\"#fadc8f\",\n",
    "        \"#f9d67a\",\n",
    "        \"#f8d066\",\n",
    "        \"#f8c952\",\n",
    "        \"#f7c33d\",\n",
    "        \"#f6bd29\",\n",
    "        \"#f5b614\",\n",
    "        \"#F4B000\",\n",
    "        \"#eaa900\",\n",
    "        \"#e0a200\",\n",
    "        \"#dc9e00\",]"
   ]
  },
  {
   "cell_type": "code",
   "execution_count": 556,
   "metadata": {},
   "outputs": [],
   "source": [
    "px.set_mapbox_access_token(MAPBOX_ACCESS_TOKEN)"
   ]
  },
  {
   "cell_type": "code",
   "execution_count": 557,
   "metadata": {},
   "outputs": [
    {
     "data": {
      "application/vnd.plotly.v1+json": {
       "config": {
        "plotlyServerURL": "https://plot.ly"
       },
       "data": [
        {
         "customdata": [
          [
           18490,
           145,
           "Ain"
          ],
          [
           6691,
           320,
           "Aisne"
          ],
          [
           4363,
           72,
           "Allier"
          ],
          [
           2227,
           24,
           "Alpes-de-Haute-Provence"
          ],
          [
           2855,
           39,
           "Hautes-Alpes"
          ],
          [
           20077,
           258,
           "Alpes_Maritimes"
          ],
          [
           7151,
           148,
           "Ardeche"
          ],
          [
           3829,
           72,
           "Ardennes"
          ],
          [
           2451,
           8,
           "Ariege"
          ],
          [
           4867,
           149,
           "Aube"
          ],
          [
           4618,
           78,
           "Aude"
          ],
          [
           5024,
           48,
           "Aveyron"
          ],
          [
           70797,
           945,
           "Bouches-du-Rhône"
          ],
          [
           9891,
           114,
           "Calvados"
          ],
          [
           1497,
           24,
           "Cantal"
          ],
          [
           2483,
           20,
           "Charente"
          ],
          [
           3262,
           66,
           "Charente-Maritime"
          ],
          [
           3902,
           118,
           "Cher"
          ],
          [
           2091,
           53,
           "Correze"
          ],
          [
           10079,
           283,
           "Côte-d'Or"
          ],
          [
           4242,
           51,
           "Côtes-D'Armor"
          ],
          [
           1275,
           21,
           "Creuse"
          ],
          [
           3814,
           18,
           "Dordogne"
          ],
          [
           8715,
           152,
           "Doubs"
          ],
          [
           10705,
           175,
           "Drome"
          ],
          [
           8111,
           121,
           "Eure"
          ],
          [
           5628,
           162,
           "Eure-et-Loire"
          ],
          [
           6313,
           54,
           "Finistère"
          ],
          [
           2501,
           57,
           "Corde-du-Sud"
          ],
          [
           2386,
           21,
           "Haute-Corse"
          ],
          [
           16719,
           153,
           "Gard"
          ],
          [
           34563,
           155,
           "Haute-Garonne"
          ],
          [
           2465,
           35,
           "Gers"
          ],
          [
           25675,
           261,
           "Gironde"
          ],
          [
           26229,
           257,
           "Hérault"
          ],
          [
           16280,
           131,
           "Ille-et-Vilaine"
          ],
          [
           2113,
           83,
           "Indre"
          ],
          [
           9382,
           119,
           "Indre-et-Loire"
          ],
          [
           39714,
           304,
           "Isère"
          ],
          [
           4987,
           78,
           "Jura"
          ],
          [
           4955,
           27,
           "Landes"
          ],
          [
           3283,
           80,
           "Loir-et-Cher"
          ],
          [
           32094,
           423,
           "Loire"
          ],
          [
           6824,
           33,
           "Haute-Loire"
          ],
          [
           19850,
           212,
           "Loire-Atlantique"
          ],
          [
           12630,
           126,
           "Loiret"
          ],
          [
           1295,
           24,
           "Lot"
          ],
          [
           3652,
           24,
           "Lot-et-Garonne"
          ],
          [
           1226,
           15,
           "Lozère"
          ],
          [
           12597,
           188,
           "Manne-et-Loire"
          ],
          [
           3656,
           68,
           "Manche"
          ],
          [
           8599,
           305,
           "Marne"
          ],
          [
           2059,
           99,
           "Haute-Marne"
          ],
          [
           4639,
           56,
           "Mayenne"
          ],
          [
           11050,
           398,
           "Meurthe-et-Moselle"
          ],
          [
           1802,
           112,
           "Meuse"
          ],
          [
           5508,
           119,
           "Morbihan"
          ],
          [
           13720,
           907,
           "Moselle"
          ],
          [
           2192,
           32,
           "Nièvre"
          ],
          [
           91668,
           978,
           "Nord"
          ],
          [
           15283,
           463,
           "Oise"
          ],
          [
           2743,
           56,
           "Orne"
          ],
          [
           29882,
           418,
           "Pas-de-Calais"
          ],
          [
           12891,
           96,
           "Puy-de-Dôme"
          ],
          [
           12446,
           63,
           "Pyrénées-Altantiques"
          ],
          [
           3691,
           37,
           "Hautes-Pyrénées"
          ],
          [
           8008,
           71,
           "Pyrénées-Orientales"
          ],
          [
           19900,
           739,
           "Bas-Rhin"
          ],
          [
           9417,
           855,
           "Haut-Rhin"
          ],
          [
           73409,
           973,
           "Rhone"
          ],
          [
           2552,
           89,
           "Haute-Saône"
          ],
          [
           11966,
           275,
           "Saône-et-Loire"
          ],
          [
           7046,
           109,
           "Sarthe"
          ],
          [
           11332,
           138,
           "Savoie"
          ],
          [
           21011,
           220,
           "Haute-Savoie"
          ],
          [
           85244,
           2099,
           "Paris"
          ],
          [
           24011,
           305,
           "Seine-Maritime"
          ],
          [
           29731,
           821,
           "Seine-et-Marne"
          ],
          [
           34019,
           649,
           "Yvellines"
          ],
          [
           3423,
           35,
           "Deux-Sèvres"
          ],
          [
           7123,
           271,
           "Somme"
          ],
          [
           7420,
           48,
           "Tarn"
          ],
          [
           4976,
           28,
           "Tarn-et-Garonne"
          ],
          [
           19613,
           215,
           "Var"
          ],
          [
           12374,
           130,
           "Vaucluse"
          ],
          [
           6008,
           51,
           "Vendée"
          ],
          [
           4963,
           50,
           "Vienne"
          ],
          [
           5148,
           55,
           "Haute-Vienne"
          ],
          [
           4369,
           279,
           "Vosges"
          ],
          [
           4791,
           97,
           "Yonne"
          ],
          [
           1600,
           213,
           "Territoire de Belfort"
          ],
          [
           33140,
           725,
           "Essonne"
          ],
          [
           52572,
           1265,
           "Hauts-de-Seine"
          ],
          [
           50780,
           1202,
           "Seine-Saint_Denis"
          ],
          [
           43099,
           1405,
           "Val-de-Marne"
          ],
          [
           38080,
           879,
           "Val-d'Oise"
          ],
          [
           7764,
           143,
           "Guadeloupe"
          ],
          [
           4245,
           31,
           "Martinique"
          ],
          [
           9698,
           66,
           "Guyane"
          ],
          [
           5807,
           32,
           "La Réunion"
          ],
          [
           2758,
           30,
           "Mayotte"
          ]
         ],
         "hovertemplate": "<b>%{hovertext}</b><br><br>lat=%{lat}<br>long=%{lon}<br>nb_pos_cum=%{marker.color}<br>dc=%{customdata[1]}<br>dep_name=%{customdata[2]}<extra></extra>",
         "hovertext": [
          "Ain",
          "Aisne",
          "Allier",
          "Alpes-de-Haute-Provence",
          "Hautes-Alpes",
          "Alpes_Maritimes",
          "Ardeche",
          "Ardennes",
          "Ariege",
          "Aube",
          "Aude",
          "Aveyron",
          "Bouches-du-Rhône",
          "Calvados",
          "Cantal",
          "Charente",
          "Charente-Maritime",
          "Cher",
          "Correze",
          "Côte-d'Or",
          "Côtes-D'Armor",
          "Creuse",
          "Dordogne",
          "Doubs",
          "Drome",
          "Eure",
          "Eure-et-Loire",
          "Finistère",
          "Corde-du-Sud",
          "Haute-Corse",
          "Gard",
          "Haute-Garonne",
          "Gers",
          "Gironde",
          "Hérault",
          "Ille-et-Vilaine",
          "Indre",
          "Indre-et-Loire",
          "Isère",
          "Jura",
          "Landes",
          "Loir-et-Cher",
          "Loire",
          "Haute-Loire",
          "Loire-Atlantique",
          "Loiret",
          "Lot",
          "Lot-et-Garonne",
          "Lozère",
          "Manne-et-Loire",
          "Manche",
          "Marne",
          "Haute-Marne",
          "Mayenne",
          "Meurthe-et-Moselle",
          "Meuse",
          "Morbihan",
          "Moselle",
          "Nièvre",
          "Nord",
          "Oise",
          "Orne",
          "Pas-de-Calais",
          "Puy-de-Dôme",
          "Pyrénées-Altantiques",
          "Hautes-Pyrénées",
          "Pyrénées-Orientales",
          "Bas-Rhin",
          "Haut-Rhin",
          "Rhone",
          "Haute-Saône",
          "Saône-et-Loire",
          "Sarthe",
          "Savoie",
          "Haute-Savoie",
          "Paris",
          "Seine-Maritime",
          "Seine-et-Marne",
          "Yvellines",
          "Deux-Sèvres",
          "Somme",
          "Tarn",
          "Tarn-et-Garonne",
          "Var",
          "Vaucluse",
          "Vendée",
          "Vienne",
          "Haute-Vienne",
          "Vosges",
          "Yonne",
          "Territoire de Belfort",
          "Essonne",
          "Hauts-de-Seine",
          "Seine-Saint_Denis",
          "Val-de-Marne",
          "Val-d'Oise",
          "Guadeloupe",
          "Martinique",
          "Guyane",
          "La Réunion",
          "Mayotte"
         ],
         "lat": [
          46.1,
          49.55,
          44.1,
          44.09,
          44.66,
          43.94,
          44.73,
          49.61,
          42.94,
          48.31,
          43.1,
          44.28,
          43.54,
          49.1,
          45.01,
          45.71,
          45.76,
          47.07,
          45.34,
          47.43,
          48.44,
          46.08,
          45.13,
          47.16,
          44.68,
          49.1,
          48.39,
          48.27,
          41.88,
          42.37,
          43.99,
          43.35,
          43.68,
          44.84,
          43.9,
          48.18,
          46.8,
          47.24,
          45.27,
          46.73,
          43.96,
          47.61,
          45.72,
          45.13,
          47.38,
          47.85,
          44.63,
          44.37,
          44.51,
          47.39,
          49.08,
          48.38,
          48.09,
          48.12,
          48.79,
          49,
          47.85,
          49.02,
          47.1,
          50.45,
          49.39,
          48.61,
          50.49,
          45.73,
          43.28,
          43.05,
          42.61,
          48.65,
          47.86,
          45.86,
          47.63,
          46.64,
          48,
          45.47,
          46.04,
          48.85,
          49.65,
          48.6,
          48.97,
          46.53,
          49.97,
          43.77,
          44.07,
          43.47,
          43.99,
          46.67,
          46.55,
          45.87,
          48.19,
          47.84,
          47.62,
          48.52,
          48.83,
          48.9,
          48.77,
          49.07,
          16,
          14.6,
          4.93,
          -20.88,
          -12.77
         ],
         "legendgroup": "",
         "lon": [
          5.33,
          3.56,
          2.35,
          6.23,
          6.21,
          7.12,
          4.41,
          4.61,
          1.53,
          4.14,
          2.35,
          2.72,
          5.03,
          -0.37,
          2.66,
          0.2,
          -0.71,
          2.52,
          1.81,
          4.78,
          -2.85,
          2.04,
          0.7,
          6.37,
          5.15,
          1,
          1.36,
          -4.04,
          8.97,
          9.23,
          4.17,
          1.23,
          0.45,
          -0.58,
          4.47,
          -1.64,
          1.62,
          0.69,
          5.61,
          5.69,
          -0.8,
          1.41,
          4.16,
          3.81,
          -1.71,
          2.26,
          1.59,
          0.46,
          3.49,
          -0.53,
          -1.34,
          7.47,
          5.15,
          -0.67,
          6.16,
          5.39,
          -2.83,
          6.65,
          3.51,
          3.2,
          2.42,
          0.11,
          2.27,
          3.14,
          -0.75,
          0.16,
          2.51,
          7.56,
          7.27,
          4.66,
          6.07,
          4.53,
          0.19,
          6.45,
          6.44,
          2.35,
          1.04,
          2.97,
          1.97,
          -0.32,
          2.29,
          2.18,
          1.28,
          6.18,
          5.14,
          -1.28,
          0.5,
          1.23,
          6.37,
          3.57,
          6.92,
          2.26,
          2.24,
          2.48,
          2.45,
          2.17,
          -61.73,
          -61.06,
          -52.32,
          55.45,
          45.22
         ],
         "marker": {
          "color": [
           18490,
           6691,
           4363,
           2227,
           2855,
           20077,
           7151,
           3829,
           2451,
           4867,
           4618,
           5024,
           70797,
           9891,
           1497,
           2483,
           3262,
           3902,
           2091,
           10079,
           4242,
           1275,
           3814,
           8715,
           10705,
           8111,
           5628,
           6313,
           2501,
           2386,
           16719,
           34563,
           2465,
           25675,
           26229,
           16280,
           2113,
           9382,
           39714,
           4987,
           4955,
           3283,
           32094,
           6824,
           19850,
           12630,
           1295,
           3652,
           1226,
           12597,
           3656,
           8599,
           2059,
           4639,
           11050,
           1802,
           5508,
           13720,
           2192,
           91668,
           15283,
           2743,
           29882,
           12891,
           12446,
           3691,
           8008,
           19900,
           9417,
           73409,
           2552,
           11966,
           7046,
           11332,
           21011,
           85244,
           24011,
           29731,
           34019,
           3423,
           7123,
           7420,
           4976,
           19613,
           12374,
           6008,
           4963,
           5148,
           4369,
           4791,
           1600,
           33140,
           52572,
           50780,
           43099,
           38080,
           7764,
           4245,
           9698,
           5807,
           2758
          ],
          "coloraxis": "coloraxis"
         },
         "mode": "markers",
         "name": "",
         "showlegend": false,
         "subplot": "mapbox",
         "type": "scattermapbox"
        }
       ],
       "layout": {
        "autosize": true,
        "coloraxis": {
         "colorbar": {
          "title": {
           "text": "nb_pos_cum"
          }
         },
         "colorscale": [
          [
           0,
           "#fadc8f"
          ],
          [
           0.1,
           "#f9d67a"
          ],
          [
           0.2,
           "#f8d066"
          ],
          [
           0.3,
           "#f8c952"
          ],
          [
           0.4,
           "#f7c33d"
          ],
          [
           0.5,
           "#f6bd29"
          ],
          [
           0.6,
           "#f5b614"
          ],
          [
           0.7,
           "#F4B000"
          ],
          [
           0.8,
           "#eaa900"
          ],
          [
           0.9,
           "#e0a200"
          ],
          [
           1,
           "#dc9e00"
          ]
         ]
        },
        "legend": {
         "tracegroupgap": 0
        },
        "mapbox": {
         "accesstoken": "pk.eyJ1IjoicG1lY2NoaWEiLCJhIjoiY2toNTVlajU4MDBtcTJycXBzNGlsOTByYyJ9.sfNsB0a0UzZxosdqWYhWyQ",
         "center": {
          "lat": 44.25910891089109,
          "lon": 1.9359405940594059
         },
         "domain": {
          "x": [
           0,
           1
          ],
          "y": [
           0,
           1
          ]
         },
         "zoom": 8
        },
        "margin": {
         "t": 60
        },
        "template": {
         "data": {
          "bar": [
           {
            "error_x": {
             "color": "#2a3f5f"
            },
            "error_y": {
             "color": "#2a3f5f"
            },
            "marker": {
             "line": {
              "color": "#E5ECF6",
              "width": 0.5
             }
            },
            "type": "bar"
           }
          ],
          "barpolar": [
           {
            "marker": {
             "line": {
              "color": "#E5ECF6",
              "width": 0.5
             }
            },
            "type": "barpolar"
           }
          ],
          "carpet": [
           {
            "aaxis": {
             "endlinecolor": "#2a3f5f",
             "gridcolor": "white",
             "linecolor": "white",
             "minorgridcolor": "white",
             "startlinecolor": "#2a3f5f"
            },
            "baxis": {
             "endlinecolor": "#2a3f5f",
             "gridcolor": "white",
             "linecolor": "white",
             "minorgridcolor": "white",
             "startlinecolor": "#2a3f5f"
            },
            "type": "carpet"
           }
          ],
          "choropleth": [
           {
            "colorbar": {
             "outlinewidth": 0,
             "ticks": ""
            },
            "type": "choropleth"
           }
          ],
          "contour": [
           {
            "colorbar": {
             "outlinewidth": 0,
             "ticks": ""
            },
            "colorscale": [
             [
              0,
              "#0d0887"
             ],
             [
              0.1111111111111111,
              "#46039f"
             ],
             [
              0.2222222222222222,
              "#7201a8"
             ],
             [
              0.3333333333333333,
              "#9c179e"
             ],
             [
              0.4444444444444444,
              "#bd3786"
             ],
             [
              0.5555555555555556,
              "#d8576b"
             ],
             [
              0.6666666666666666,
              "#ed7953"
             ],
             [
              0.7777777777777778,
              "#fb9f3a"
             ],
             [
              0.8888888888888888,
              "#fdca26"
             ],
             [
              1,
              "#f0f921"
             ]
            ],
            "type": "contour"
           }
          ],
          "contourcarpet": [
           {
            "colorbar": {
             "outlinewidth": 0,
             "ticks": ""
            },
            "type": "contourcarpet"
           }
          ],
          "heatmap": [
           {
            "colorbar": {
             "outlinewidth": 0,
             "ticks": ""
            },
            "colorscale": [
             [
              0,
              "#0d0887"
             ],
             [
              0.1111111111111111,
              "#46039f"
             ],
             [
              0.2222222222222222,
              "#7201a8"
             ],
             [
              0.3333333333333333,
              "#9c179e"
             ],
             [
              0.4444444444444444,
              "#bd3786"
             ],
             [
              0.5555555555555556,
              "#d8576b"
             ],
             [
              0.6666666666666666,
              "#ed7953"
             ],
             [
              0.7777777777777778,
              "#fb9f3a"
             ],
             [
              0.8888888888888888,
              "#fdca26"
             ],
             [
              1,
              "#f0f921"
             ]
            ],
            "type": "heatmap"
           }
          ],
          "heatmapgl": [
           {
            "colorbar": {
             "outlinewidth": 0,
             "ticks": ""
            },
            "colorscale": [
             [
              0,
              "#0d0887"
             ],
             [
              0.1111111111111111,
              "#46039f"
             ],
             [
              0.2222222222222222,
              "#7201a8"
             ],
             [
              0.3333333333333333,
              "#9c179e"
             ],
             [
              0.4444444444444444,
              "#bd3786"
             ],
             [
              0.5555555555555556,
              "#d8576b"
             ],
             [
              0.6666666666666666,
              "#ed7953"
             ],
             [
              0.7777777777777778,
              "#fb9f3a"
             ],
             [
              0.8888888888888888,
              "#fdca26"
             ],
             [
              1,
              "#f0f921"
             ]
            ],
            "type": "heatmapgl"
           }
          ],
          "histogram": [
           {
            "marker": {
             "colorbar": {
              "outlinewidth": 0,
              "ticks": ""
             }
            },
            "type": "histogram"
           }
          ],
          "histogram2d": [
           {
            "colorbar": {
             "outlinewidth": 0,
             "ticks": ""
            },
            "colorscale": [
             [
              0,
              "#0d0887"
             ],
             [
              0.1111111111111111,
              "#46039f"
             ],
             [
              0.2222222222222222,
              "#7201a8"
             ],
             [
              0.3333333333333333,
              "#9c179e"
             ],
             [
              0.4444444444444444,
              "#bd3786"
             ],
             [
              0.5555555555555556,
              "#d8576b"
             ],
             [
              0.6666666666666666,
              "#ed7953"
             ],
             [
              0.7777777777777778,
              "#fb9f3a"
             ],
             [
              0.8888888888888888,
              "#fdca26"
             ],
             [
              1,
              "#f0f921"
             ]
            ],
            "type": "histogram2d"
           }
          ],
          "histogram2dcontour": [
           {
            "colorbar": {
             "outlinewidth": 0,
             "ticks": ""
            },
            "colorscale": [
             [
              0,
              "#0d0887"
             ],
             [
              0.1111111111111111,
              "#46039f"
             ],
             [
              0.2222222222222222,
              "#7201a8"
             ],
             [
              0.3333333333333333,
              "#9c179e"
             ],
             [
              0.4444444444444444,
              "#bd3786"
             ],
             [
              0.5555555555555556,
              "#d8576b"
             ],
             [
              0.6666666666666666,
              "#ed7953"
             ],
             [
              0.7777777777777778,
              "#fb9f3a"
             ],
             [
              0.8888888888888888,
              "#fdca26"
             ],
             [
              1,
              "#f0f921"
             ]
            ],
            "type": "histogram2dcontour"
           }
          ],
          "mesh3d": [
           {
            "colorbar": {
             "outlinewidth": 0,
             "ticks": ""
            },
            "type": "mesh3d"
           }
          ],
          "parcoords": [
           {
            "line": {
             "colorbar": {
              "outlinewidth": 0,
              "ticks": ""
             }
            },
            "type": "parcoords"
           }
          ],
          "pie": [
           {
            "automargin": true,
            "type": "pie"
           }
          ],
          "scatter": [
           {
            "marker": {
             "colorbar": {
              "outlinewidth": 0,
              "ticks": ""
             }
            },
            "type": "scatter"
           }
          ],
          "scatter3d": [
           {
            "line": {
             "colorbar": {
              "outlinewidth": 0,
              "ticks": ""
             }
            },
            "marker": {
             "colorbar": {
              "outlinewidth": 0,
              "ticks": ""
             }
            },
            "type": "scatter3d"
           }
          ],
          "scattercarpet": [
           {
            "marker": {
             "colorbar": {
              "outlinewidth": 0,
              "ticks": ""
             }
            },
            "type": "scattercarpet"
           }
          ],
          "scattergeo": [
           {
            "marker": {
             "colorbar": {
              "outlinewidth": 0,
              "ticks": ""
             }
            },
            "type": "scattergeo"
           }
          ],
          "scattergl": [
           {
            "marker": {
             "colorbar": {
              "outlinewidth": 0,
              "ticks": ""
             }
            },
            "type": "scattergl"
           }
          ],
          "scattermapbox": [
           {
            "marker": {
             "colorbar": {
              "outlinewidth": 0,
              "ticks": ""
             }
            },
            "type": "scattermapbox"
           }
          ],
          "scatterpolar": [
           {
            "marker": {
             "colorbar": {
              "outlinewidth": 0,
              "ticks": ""
             }
            },
            "type": "scatterpolar"
           }
          ],
          "scatterpolargl": [
           {
            "marker": {
             "colorbar": {
              "outlinewidth": 0,
              "ticks": ""
             }
            },
            "type": "scatterpolargl"
           }
          ],
          "scatterternary": [
           {
            "marker": {
             "colorbar": {
              "outlinewidth": 0,
              "ticks": ""
             }
            },
            "type": "scatterternary"
           }
          ],
          "surface": [
           {
            "colorbar": {
             "outlinewidth": 0,
             "ticks": ""
            },
            "colorscale": [
             [
              0,
              "#0d0887"
             ],
             [
              0.1111111111111111,
              "#46039f"
             ],
             [
              0.2222222222222222,
              "#7201a8"
             ],
             [
              0.3333333333333333,
              "#9c179e"
             ],
             [
              0.4444444444444444,
              "#bd3786"
             ],
             [
              0.5555555555555556,
              "#d8576b"
             ],
             [
              0.6666666666666666,
              "#ed7953"
             ],
             [
              0.7777777777777778,
              "#fb9f3a"
             ],
             [
              0.8888888888888888,
              "#fdca26"
             ],
             [
              1,
              "#f0f921"
             ]
            ],
            "type": "surface"
           }
          ],
          "table": [
           {
            "cells": {
             "fill": {
              "color": "#EBF0F8"
             },
             "line": {
              "color": "white"
             }
            },
            "header": {
             "fill": {
              "color": "#C8D4E3"
             },
             "line": {
              "color": "white"
             }
            },
            "type": "table"
           }
          ]
         },
         "layout": {
          "annotationdefaults": {
           "arrowcolor": "#2a3f5f",
           "arrowhead": 0,
           "arrowwidth": 1
          },
          "coloraxis": {
           "colorbar": {
            "outlinewidth": 0,
            "ticks": ""
           }
          },
          "colorscale": {
           "diverging": [
            [
             0,
             "#8e0152"
            ],
            [
             0.1,
             "#c51b7d"
            ],
            [
             0.2,
             "#de77ae"
            ],
            [
             0.3,
             "#f1b6da"
            ],
            [
             0.4,
             "#fde0ef"
            ],
            [
             0.5,
             "#f7f7f7"
            ],
            [
             0.6,
             "#e6f5d0"
            ],
            [
             0.7,
             "#b8e186"
            ],
            [
             0.8,
             "#7fbc41"
            ],
            [
             0.9,
             "#4d9221"
            ],
            [
             1,
             "#276419"
            ]
           ],
           "sequential": [
            [
             0,
             "#0d0887"
            ],
            [
             0.1111111111111111,
             "#46039f"
            ],
            [
             0.2222222222222222,
             "#7201a8"
            ],
            [
             0.3333333333333333,
             "#9c179e"
            ],
            [
             0.4444444444444444,
             "#bd3786"
            ],
            [
             0.5555555555555556,
             "#d8576b"
            ],
            [
             0.6666666666666666,
             "#ed7953"
            ],
            [
             0.7777777777777778,
             "#fb9f3a"
            ],
            [
             0.8888888888888888,
             "#fdca26"
            ],
            [
             1,
             "#f0f921"
            ]
           ],
           "sequentialminus": [
            [
             0,
             "#0d0887"
            ],
            [
             0.1111111111111111,
             "#46039f"
            ],
            [
             0.2222222222222222,
             "#7201a8"
            ],
            [
             0.3333333333333333,
             "#9c179e"
            ],
            [
             0.4444444444444444,
             "#bd3786"
            ],
            [
             0.5555555555555556,
             "#d8576b"
            ],
            [
             0.6666666666666666,
             "#ed7953"
            ],
            [
             0.7777777777777778,
             "#fb9f3a"
            ],
            [
             0.8888888888888888,
             "#fdca26"
            ],
            [
             1,
             "#f0f921"
            ]
           ]
          },
          "colorway": [
           "#636efa",
           "#EF553B",
           "#00cc96",
           "#ab63fa",
           "#FFA15A",
           "#19d3f3",
           "#FF6692",
           "#B6E880",
           "#FF97FF",
           "#FECB52"
          ],
          "font": {
           "color": "#2a3f5f"
          },
          "geo": {
           "bgcolor": "white",
           "lakecolor": "white",
           "landcolor": "#E5ECF6",
           "showlakes": true,
           "showland": true,
           "subunitcolor": "white"
          },
          "hoverlabel": {
           "align": "left"
          },
          "hovermode": "closest",
          "mapbox": {
           "style": "light"
          },
          "paper_bgcolor": "white",
          "plot_bgcolor": "#E5ECF6",
          "polar": {
           "angularaxis": {
            "gridcolor": "white",
            "linecolor": "white",
            "ticks": ""
           },
           "bgcolor": "#E5ECF6",
           "radialaxis": {
            "gridcolor": "white",
            "linecolor": "white",
            "ticks": ""
           }
          },
          "scene": {
           "xaxis": {
            "backgroundcolor": "#E5ECF6",
            "gridcolor": "white",
            "gridwidth": 2,
            "linecolor": "white",
            "showbackground": true,
            "ticks": "",
            "zerolinecolor": "white"
           },
           "yaxis": {
            "backgroundcolor": "#E5ECF6",
            "gridcolor": "white",
            "gridwidth": 2,
            "linecolor": "white",
            "showbackground": true,
            "ticks": "",
            "zerolinecolor": "white"
           },
           "zaxis": {
            "backgroundcolor": "#E5ECF6",
            "gridcolor": "white",
            "gridwidth": 2,
            "linecolor": "white",
            "showbackground": true,
            "ticks": "",
            "zerolinecolor": "white"
           }
          },
          "shapedefaults": {
           "line": {
            "color": "#2a3f5f"
           }
          },
          "ternary": {
           "aaxis": {
            "gridcolor": "white",
            "linecolor": "white",
            "ticks": ""
           },
           "baxis": {
            "gridcolor": "white",
            "linecolor": "white",
            "ticks": ""
           },
           "bgcolor": "#E5ECF6",
           "caxis": {
            "gridcolor": "white",
            "linecolor": "white",
            "ticks": ""
           }
          },
          "title": {
           "x": 0.05
          },
          "xaxis": {
           "automargin": true,
           "gridcolor": "white",
           "linecolor": "white",
           "ticks": "",
           "title": {
            "standoff": 15
           },
           "zerolinecolor": "white",
           "zerolinewidth": 2
          },
          "yaxis": {
           "automargin": true,
           "gridcolor": "white",
           "linecolor": "white",
           "ticks": "",
           "title": {
            "standoff": 15
           },
           "zerolinecolor": "white",
           "zerolinewidth": 2
          }
         }
        }
       }
      },
      "image/png": "[encoded data removed]",
      "text/html": [
       "<div>                            <div id=\"f0941b77-c379-40d8-8962-bf6e3603c4eb\" class=\"plotly-graph-div\" style=\"height:525px; width:100%;\"></div>            <script type=\"text/javascript\">                require([\"plotly\"], function(Plotly) {                    window.PLOTLYENV=window.PLOTLYENV || {};                                    if (document.getElementById(\"f0941b77-c379-40d8-8962-bf6e3603c4eb\")) {                    Plotly.newPlot(                        \"f0941b77-c379-40d8-8962-bf6e3603c4eb\",                        [{\"customdata\": [[18490, 145, \"Ain\"], [6691, 320, \"Aisne\"], [4363, 72, \"Allier\"], [2227, 24, \"Alpes-de-Haute-Provence\"], [2855, 39, \"Hautes-Alpes\"], [20077, 258, \"Alpes_Maritimes\"], [7151, 148, \"Ardeche\"], [3829, 72, \"Ardennes\"], [2451, 8, \"Ariege\"], [4867, 149, \"Aube\"], [4618, 78, \"Aude\"], [5024, 48, \"Aveyron\"], [70797, 945, \"Bouches-du-Rh\\u00f4ne\"], [9891, 114, \"Calvados\"], [1497, 24, \"Cantal\"], [2483, 20, \"Charente\"], [3262, 66, \"Charente-Maritime\"], [3902, 118, \"Cher\"], [2091, 53, \"Correze\"], [10079, 283, \"C\\u00f4te-d'Or\"], [4242, 51, \"C\\u00f4tes-D'Armor\"], [1275, 21, \"Creuse\"], [3814, 18, \"Dordogne\"], [8715, 152, \"Doubs\"], [10705, 175, \"Drome\"], [8111, 121, \"Eure\"], [5628, 162, \"Eure-et-Loire\"], [6313, 54, \"Finist\\u00e8re\"], [2501, 57, \"Corde-du-Sud\"], [2386, 21, \"Haute-Corse\"], [16719, 153, \"Gard\"], [34563, 155, \"Haute-Garonne\"], [2465, 35, \"Gers\"], [25675, 261, \"Gironde\"], [26229, 257, \"H\\u00e9rault\"], [16280, 131, \"Ille-et-Vilaine\"], [2113, 83, \"Indre\"], [9382, 119, \"Indre-et-Loire\"], [39714, 304, \"Is\\u00e8re\"], [4987, 78, \"Jura\"], [4955, 27, \"Landes\"], [3283, 80, \"Loir-et-Cher\"], [32094, 423, \"Loire\"], [6824, 33, \"Haute-Loire\"], [19850, 212, \"Loire-Atlantique\"], [12630, 126, \"Loiret\"], [1295, 24, \"Lot\"], [3652, 24, \"Lot-et-Garonne\"], [1226, 15, \"Loz\\u00e8re\"], [12597, 188, \"Manne-et-Loire\"], [3656, 68, \"Manche\"], [8599, 305, \"Marne\"], [2059, 99, \"Haute-Marne\"], [4639, 56, \"Mayenne\"], [11050, 398, \"Meurthe-et-Moselle\"], [1802, 112, \"Meuse\"], [5508, 119, \"Morbihan\"], [13720, 907, \"Moselle\"], [2192, 32, \"Ni\\u00e8vre\"], [91668, 978, \"Nord\"], [15283, 463, \"Oise\"], [2743, 56, \"Orne\"], [29882, 418, \"Pas-de-Calais\"], [12891, 96, \"Puy-de-D\\u00f4me\"], [12446, 63, \"Pyr\\u00e9n\\u00e9es-Altantiques\"], [3691, 37, \"Hautes-Pyr\\u00e9n\\u00e9es\"], [8008, 71, \"Pyr\\u00e9n\\u00e9es-Orientales\"], [19900, 739, \"Bas-Rhin\"], [9417, 855, \"Haut-Rhin\"], [73409, 973, \"Rhone\"], [2552, 89, \"Haute-Sa\\u00f4ne\"], [11966, 275, \"Sa\\u00f4ne-et-Loire\"], [7046, 109, \"Sarthe\"], [11332, 138, \"Savoie\"], [21011, 220, \"Haute-Savoie\"], [85244, 2099, \"Paris\"], [24011, 305, \"Seine-Maritime\"], [29731, 821, \"Seine-et-Marne\"], [34019, 649, \"Yvellines\"], [3423, 35, \"Deux-S\\u00e8vres\"], [7123, 271, \"Somme\"], [7420, 48, \"Tarn\"], [4976, 28, \"Tarn-et-Garonne\"], [19613, 215, \"Var\"], [12374, 130, \"Vaucluse\"], [6008, 51, \"Vend\\u00e9e\"], [4963, 50, \"Vienne\"], [5148, 55, \"Haute-Vienne\"], [4369, 279, \"Vosges\"], [4791, 97, \"Yonne\"], [1600, 213, \"Territoire de Belfort\"], [33140, 725, \"Essonne\"], [52572, 1265, \"Hauts-de-Seine\"], [50780, 1202, \"Seine-Saint_Denis\"], [43099, 1405, \"Val-de-Marne\"], [38080, 879, \"Val-d'Oise\"], [7764, 143, \"Guadeloupe\"], [4245, 31, \"Martinique\"], [9698, 66, \"Guyane\"], [5807, 32, \"La R\\u00e9union\"], [2758, 30, \"Mayotte\"]], \"hovertemplate\": \"<b>%{hovertext}</b><br><br>lat=%{lat}<br>long=%{lon}<br>nb_pos_cum=%{marker.color}<br>dc=%{customdata[1]}<br>dep_name=%{customdata[2]}<extra></extra>\", \"hovertext\": [\"Ain\", \"Aisne\", \"Allier\", \"Alpes-de-Haute-Provence\", \"Hautes-Alpes\", \"Alpes_Maritimes\", \"Ardeche\", \"Ardennes\", \"Ariege\", \"Aube\", \"Aude\", \"Aveyron\", \"Bouches-du-Rh\\u00f4ne\", \"Calvados\", \"Cantal\", \"Charente\", \"Charente-Maritime\", \"Cher\", \"Correze\", \"C\\u00f4te-d'Or\", \"C\\u00f4tes-D'Armor\", \"Creuse\", \"Dordogne\", \"Doubs\", \"Drome\", \"Eure\", \"Eure-et-Loire\", \"Finist\\u00e8re\", \"Corde-du-Sud\", \"Haute-Corse\", \"Gard\", \"Haute-Garonne\", \"Gers\", \"Gironde\", \"H\\u00e9rault\", \"Ille-et-Vilaine\", \"Indre\", \"Indre-et-Loire\", \"Is\\u00e8re\", \"Jura\", \"Landes\", \"Loir-et-Cher\", \"Loire\", \"Haute-Loire\", \"Loire-Atlantique\", \"Loiret\", \"Lot\", \"Lot-et-Garonne\", \"Loz\\u00e8re\", \"Manne-et-Loire\", \"Manche\", \"Marne\", \"Haute-Marne\", \"Mayenne\", \"Meurthe-et-Moselle\", \"Meuse\", \"Morbihan\", \"Moselle\", \"Ni\\u00e8vre\", \"Nord\", \"Oise\", \"Orne\", \"Pas-de-Calais\", \"Puy-de-D\\u00f4me\", \"Pyr\\u00e9n\\u00e9es-Altantiques\", \"Hautes-Pyr\\u00e9n\\u00e9es\", \"Pyr\\u00e9n\\u00e9es-Orientales\", \"Bas-Rhin\", \"Haut-Rhin\", \"Rhone\", \"Haute-Sa\\u00f4ne\", \"Sa\\u00f4ne-et-Loire\", \"Sarthe\", \"Savoie\", \"Haute-Savoie\", \"Paris\", \"Seine-Maritime\", \"Seine-et-Marne\", \"Yvellines\", \"Deux-S\\u00e8vres\", \"Somme\", \"Tarn\", \"Tarn-et-Garonne\", \"Var\", \"Vaucluse\", \"Vend\\u00e9e\", \"Vienne\", \"Haute-Vienne\", \"Vosges\", \"Yonne\", \"Territoire de Belfort\", \"Essonne\", \"Hauts-de-Seine\", \"Seine-Saint_Denis\", \"Val-de-Marne\", \"Val-d'Oise\", \"Guadeloupe\", \"Martinique\", \"Guyane\", \"La R\\u00e9union\", \"Mayotte\"], \"lat\": [46.1, 49.55, 44.1, 44.09, 44.66, 43.94, 44.73, 49.61, 42.94, 48.31, 43.1, 44.28, 43.54, 49.1, 45.01, 45.71, 45.76, 47.07, 45.34, 47.43, 48.44, 46.08, 45.13, 47.16, 44.68, 49.1, 48.39, 48.27, 41.88, 42.37, 43.99, 43.35, 43.68, 44.84, 43.9, 48.18, 46.8, 47.24, 45.27, 46.73, 43.96, 47.61, 45.72, 45.13, 47.38, 47.85, 44.63, 44.37, 44.51, 47.39, 49.08, 48.38, 48.09, 48.12, 48.79, 49.0, 47.85, 49.02, 47.1, 50.45, 49.39, 48.61, 50.49, 45.73, 43.28, 43.05, 42.61, 48.65, 47.86, 45.86, 47.63, 46.64, 48.0, 45.47, 46.04, 48.85, 49.65, 48.6, 48.97, 46.53, 49.97, 43.77, 44.07, 43.47, 43.99, 46.67, 46.55, 45.87, 48.19, 47.84, 47.62, 48.52, 48.83, 48.9, 48.77, 49.07, 16.0, 14.6, 4.93, -20.88, -12.77], \"legendgroup\": \"\", \"lon\": [5.33, 3.56, 2.35, 6.23, 6.21, 7.12, 4.41, 4.61, 1.53, 4.14, 2.35, 2.72, 5.03, -0.37, 2.66, 0.2, -0.71, 2.52, 1.81, 4.78, -2.85, 2.04, 0.7, 6.37, 5.15, 1.0, 1.36, -4.04, 8.97, 9.23, 4.17, 1.23, 0.45, -0.58, 4.47, -1.64, 1.62, 0.69, 5.61, 5.69, -0.8, 1.41, 4.16, 3.81, -1.71, 2.26, 1.59, 0.46, 3.49, -0.53, -1.34, 7.47, 5.15, -0.67, 6.16, 5.39, -2.83, 6.65, 3.51, 3.2, 2.42, 0.11, 2.27, 3.14, -0.75, 0.16, 2.51, 7.56, 7.27, 4.66, 6.07, 4.53, 0.19, 6.45, 6.44, 2.35, 1.04, 2.97, 1.97, -0.32, 2.29, 2.18, 1.28, 6.18, 5.14, -1.28, 0.5, 1.23, 6.37, 3.57, 6.92, 2.26, 2.24, 2.48, 2.45, 2.17, -61.73, -61.06, -52.32, 55.45, 45.22], \"marker\": {\"color\": [18490, 6691, 4363, 2227, 2855, 20077, 7151, 3829, 2451, 4867, 4618, 5024, 70797, 9891, 1497, 2483, 3262, 3902, 2091, 10079, 4242, 1275, 3814, 8715, 10705, 8111, 5628, 6313, 2501, 2386, 16719, 34563, 2465, 25675, 26229, 16280, 2113, 9382, 39714, 4987, 4955, 3283, 32094, 6824, 19850, 12630, 1295, 3652, 1226, 12597, 3656, 8599, 2059, 4639, 11050, 1802, 5508, 13720, 2192, 91668, 15283, 2743, 29882, 12891, 12446, 3691, 8008, 19900, 9417, 73409, 2552, 11966, 7046, 11332, 21011, 85244, 24011, 29731, 34019, 3423, 7123, 7420, 4976, 19613, 12374, 6008, 4963, 5148, 4369, 4791, 1600, 33140, 52572, 50780, 43099, 38080, 7764, 4245, 9698, 5807, 2758], \"coloraxis\": \"coloraxis\"}, \"mode\": \"markers\", \"name\": \"\", \"showlegend\": false, \"subplot\": \"mapbox\", \"type\": \"scattermapbox\"}],                        {\"coloraxis\": {\"colorbar\": {\"title\": {\"text\": \"nb_pos_cum\"}}, \"colorscale\": [[0.0, \"#fadc8f\"], [0.1, \"#f9d67a\"], [0.2, \"#f8d066\"], [0.3, \"#f8c952\"], [0.4, \"#f7c33d\"], [0.5, \"#f6bd29\"], [0.6, \"#f5b614\"], [0.7, \"#F4B000\"], [0.8, \"#eaa900\"], [0.9, \"#e0a200\"], [1.0, \"#dc9e00\"]]}, \"legend\": {\"tracegroupgap\": 0}, \"mapbox\": {\"accesstoken\": \"pk.eyJ1IjoicG1lY2NoaWEiLCJhIjoiY2toNTVlajU4MDBtcTJycXBzNGlsOTByYyJ9.sfNsB0a0UzZxosdqWYhWyQ\", \"center\": {\"lat\": 44.25910891089109, \"lon\": 1.9359405940594059}, \"domain\": {\"x\": [0.0, 1.0], \"y\": [0.0, 1.0]}, \"zoom\": 8}, \"margin\": {\"t\": 60}, \"template\": {\"data\": {\"bar\": [{\"error_x\": {\"color\": \"#2a3f5f\"}, \"error_y\": {\"color\": \"#2a3f5f\"}, \"marker\": {\"line\": {\"color\": \"#E5ECF6\", \"width\": 0.5}}, \"type\": \"bar\"}], \"barpolar\": [{\"marker\": {\"line\": {\"color\": \"#E5ECF6\", \"width\": 0.5}}, \"type\": \"barpolar\"}], \"carpet\": [{\"aaxis\": {\"endlinecolor\": \"#2a3f5f\", \"gridcolor\": \"white\", \"linecolor\": \"white\", \"minorgridcolor\": \"white\", \"startlinecolor\": \"#2a3f5f\"}, \"baxis\": {\"endlinecolor\": \"#2a3f5f\", \"gridcolor\": \"white\", \"linecolor\": \"white\", \"minorgridcolor\": \"white\", \"startlinecolor\": \"#2a3f5f\"}, \"type\": \"carpet\"}], \"choropleth\": [{\"colorbar\": {\"outlinewidth\": 0, \"ticks\": \"\"}, \"type\": \"choropleth\"}], \"contour\": [{\"colorbar\": {\"outlinewidth\": 0, \"ticks\": \"\"}, \"colorscale\": [[0.0, \"#0d0887\"], [0.1111111111111111, \"#46039f\"], [0.2222222222222222, \"#7201a8\"], [0.3333333333333333, \"#9c179e\"], [0.4444444444444444, \"#bd3786\"], [0.5555555555555556, \"#d8576b\"], [0.6666666666666666, \"#ed7953\"], [0.7777777777777778, \"#fb9f3a\"], [0.8888888888888888, \"#fdca26\"], [1.0, \"#f0f921\"]], \"type\": \"contour\"}], \"contourcarpet\": [{\"colorbar\": {\"outlinewidth\": 0, \"ticks\": \"\"}, \"type\": \"contourcarpet\"}], \"heatmap\": [{\"colorbar\": {\"outlinewidth\": 0, \"ticks\": \"\"}, \"colorscale\": [[0.0, \"#0d0887\"], [0.1111111111111111, \"#46039f\"], [0.2222222222222222, \"#7201a8\"], [0.3333333333333333, \"#9c179e\"], [0.4444444444444444, \"#bd3786\"], [0.5555555555555556, \"#d8576b\"], [0.6666666666666666, \"#ed7953\"], [0.7777777777777778, \"#fb9f3a\"], [0.8888888888888888, \"#fdca26\"], [1.0, \"#f0f921\"]], \"type\": \"heatmap\"}], \"heatmapgl\": [{\"colorbar\": {\"outlinewidth\": 0, \"ticks\": \"\"}, \"colorscale\": [[0.0, \"#0d0887\"], [0.1111111111111111, \"#46039f\"], [0.2222222222222222, \"#7201a8\"], [0.3333333333333333, \"#9c179e\"], [0.4444444444444444, \"#bd3786\"], [0.5555555555555556, \"#d8576b\"], [0.6666666666666666, \"#ed7953\"], [0.7777777777777778, \"#fb9f3a\"], [0.8888888888888888, \"#fdca26\"], [1.0, \"#f0f921\"]], \"type\": \"heatmapgl\"}], \"histogram\": [{\"marker\": {\"colorbar\": {\"outlinewidth\": 0, \"ticks\": \"\"}}, \"type\": \"histogram\"}], \"histogram2d\": [{\"colorbar\": {\"outlinewidth\": 0, \"ticks\": \"\"}, \"colorscale\": [[0.0, \"#0d0887\"], [0.1111111111111111, \"#46039f\"], [0.2222222222222222, \"#7201a8\"], [0.3333333333333333, \"#9c179e\"], [0.4444444444444444, \"#bd3786\"], [0.5555555555555556, \"#d8576b\"], [0.6666666666666666, \"#ed7953\"], [0.7777777777777778, \"#fb9f3a\"], [0.8888888888888888, \"#fdca26\"], [1.0, \"#f0f921\"]], \"type\": \"histogram2d\"}], \"histogram2dcontour\": [{\"colorbar\": {\"outlinewidth\": 0, \"ticks\": \"\"}, \"colorscale\": [[0.0, \"#0d0887\"], [0.1111111111111111, \"#46039f\"], [0.2222222222222222, \"#7201a8\"], [0.3333333333333333, \"#9c179e\"], [0.4444444444444444, \"#bd3786\"], [0.5555555555555556, \"#d8576b\"], [0.6666666666666666, \"#ed7953\"], [0.7777777777777778, \"#fb9f3a\"], [0.8888888888888888, \"#fdca26\"], [1.0, \"#f0f921\"]], \"type\": \"histogram2dcontour\"}], \"mesh3d\": [{\"colorbar\": {\"outlinewidth\": 0, \"ticks\": \"\"}, \"type\": \"mesh3d\"}], \"parcoords\": [{\"line\": {\"colorbar\": {\"outlinewidth\": 0, \"ticks\": \"\"}}, \"type\": \"parcoords\"}], \"pie\": [{\"automargin\": true, \"type\": \"pie\"}], \"scatter\": [{\"marker\": {\"colorbar\": {\"outlinewidth\": 0, \"ticks\": \"\"}}, \"type\": \"scatter\"}], \"scatter3d\": [{\"line\": {\"colorbar\": {\"outlinewidth\": 0, \"ticks\": \"\"}}, \"marker\": {\"colorbar\": {\"outlinewidth\": 0, \"ticks\": \"\"}}, \"type\": \"scatter3d\"}], \"scattercarpet\": [{\"marker\": {\"colorbar\": {\"outlinewidth\": 0, \"ticks\": \"\"}}, \"type\": \"scattercarpet\"}], \"scattergeo\": [{\"marker\": {\"colorbar\": {\"outlinewidth\": 0, \"ticks\": \"\"}}, \"type\": \"scattergeo\"}], \"scattergl\": [{\"marker\": {\"colorbar\": {\"outlinewidth\": 0, \"ticks\": \"\"}}, \"type\": \"scattergl\"}], \"scattermapbox\": [{\"marker\": {\"colorbar\": {\"outlinewidth\": 0, \"ticks\": \"\"}}, \"type\": \"scattermapbox\"}], \"scatterpolar\": [{\"marker\": {\"colorbar\": {\"outlinewidth\": 0, \"ticks\": \"\"}}, \"type\": \"scatterpolar\"}], \"scatterpolargl\": [{\"marker\": {\"colorbar\": {\"outlinewidth\": 0, \"ticks\": \"\"}}, \"type\": \"scatterpolargl\"}], \"scatterternary\": [{\"marker\": {\"colorbar\": {\"outlinewidth\": 0, \"ticks\": \"\"}}, \"type\": \"scatterternary\"}], \"surface\": [{\"colorbar\": {\"outlinewidth\": 0, \"ticks\": \"\"}, \"colorscale\": [[0.0, \"#0d0887\"], [0.1111111111111111, \"#46039f\"], [0.2222222222222222, \"#7201a8\"], [0.3333333333333333, \"#9c179e\"], [0.4444444444444444, \"#bd3786\"], [0.5555555555555556, \"#d8576b\"], [0.6666666666666666, \"#ed7953\"], [0.7777777777777778, \"#fb9f3a\"], [0.8888888888888888, \"#fdca26\"], [1.0, \"#f0f921\"]], \"type\": \"surface\"}], \"table\": [{\"cells\": {\"fill\": {\"color\": \"#EBF0F8\"}, \"line\": {\"color\": \"white\"}}, \"header\": {\"fill\": {\"color\": \"#C8D4E3\"}, \"line\": {\"color\": \"white\"}}, \"type\": \"table\"}]}, \"layout\": {\"annotationdefaults\": {\"arrowcolor\": \"#2a3f5f\", \"arrowhead\": 0, \"arrowwidth\": 1}, \"coloraxis\": {\"colorbar\": {\"outlinewidth\": 0, \"ticks\": \"\"}}, \"colorscale\": {\"diverging\": [[0, \"#8e0152\"], [0.1, \"#c51b7d\"], [0.2, \"#de77ae\"], [0.3, \"#f1b6da\"], [0.4, \"#fde0ef\"], [0.5, \"#f7f7f7\"], [0.6, \"#e6f5d0\"], [0.7, \"#b8e186\"], [0.8, \"#7fbc41\"], [0.9, \"#4d9221\"], [1, \"#276419\"]], \"sequential\": [[0.0, \"#0d0887\"], [0.1111111111111111, \"#46039f\"], [0.2222222222222222, \"#7201a8\"], [0.3333333333333333, \"#9c179e\"], [0.4444444444444444, \"#bd3786\"], [0.5555555555555556, \"#d8576b\"], [0.6666666666666666, \"#ed7953\"], [0.7777777777777778, \"#fb9f3a\"], [0.8888888888888888, \"#fdca26\"], [1.0, \"#f0f921\"]], \"sequentialminus\": [[0.0, \"#0d0887\"], [0.1111111111111111, \"#46039f\"], [0.2222222222222222, \"#7201a8\"], [0.3333333333333333, \"#9c179e\"], [0.4444444444444444, \"#bd3786\"], [0.5555555555555556, \"#d8576b\"], [0.6666666666666666, \"#ed7953\"], [0.7777777777777778, \"#fb9f3a\"], [0.8888888888888888, \"#fdca26\"], [1.0, \"#f0f921\"]]}, \"colorway\": [\"#636efa\", \"#EF553B\", \"#00cc96\", \"#ab63fa\", \"#FFA15A\", \"#19d3f3\", \"#FF6692\", \"#B6E880\", \"#FF97FF\", \"#FECB52\"], \"font\": {\"color\": \"#2a3f5f\"}, \"geo\": {\"bgcolor\": \"white\", \"lakecolor\": \"white\", \"landcolor\": \"#E5ECF6\", \"showlakes\": true, \"showland\": true, \"subunitcolor\": \"white\"}, \"hoverlabel\": {\"align\": \"left\"}, \"hovermode\": \"closest\", \"mapbox\": {\"style\": \"light\"}, \"paper_bgcolor\": \"white\", \"plot_bgcolor\": \"#E5ECF6\", \"polar\": {\"angularaxis\": {\"gridcolor\": \"white\", \"linecolor\": \"white\", \"ticks\": \"\"}, \"bgcolor\": \"#E5ECF6\", \"radialaxis\": {\"gridcolor\": \"white\", \"linecolor\": \"white\", \"ticks\": \"\"}}, \"scene\": {\"xaxis\": {\"backgroundcolor\": \"#E5ECF6\", \"gridcolor\": \"white\", \"gridwidth\": 2, \"linecolor\": \"white\", \"showbackground\": true, \"ticks\": \"\", \"zerolinecolor\": \"white\"}, \"yaxis\": {\"backgroundcolor\": \"#E5ECF6\", \"gridcolor\": \"white\", \"gridwidth\": 2, \"linecolor\": \"white\", \"showbackground\": true, \"ticks\": \"\", \"zerolinecolor\": \"white\"}, \"zaxis\": {\"backgroundcolor\": \"#E5ECF6\", \"gridcolor\": \"white\", \"gridwidth\": 2, \"linecolor\": \"white\", \"showbackground\": true, \"ticks\": \"\", \"zerolinecolor\": \"white\"}}, \"shapedefaults\": {\"line\": {\"color\": \"#2a3f5f\"}}, \"ternary\": {\"aaxis\": {\"gridcolor\": \"white\", \"linecolor\": \"white\", \"ticks\": \"\"}, \"baxis\": {\"gridcolor\": \"white\", \"linecolor\": \"white\", \"ticks\": \"\"}, \"bgcolor\": \"#E5ECF6\", \"caxis\": {\"gridcolor\": \"white\", \"linecolor\": \"white\", \"ticks\": \"\"}}, \"title\": {\"x\": 0.05}, \"xaxis\": {\"automargin\": true, \"gridcolor\": \"white\", \"linecolor\": \"white\", \"ticks\": \"\", \"title\": {\"standoff\": 15}, \"zerolinecolor\": \"white\", \"zerolinewidth\": 2}, \"yaxis\": {\"automargin\": true, \"gridcolor\": \"white\", \"linecolor\": \"white\", \"ticks\": \"\", \"title\": {\"standoff\": 15}, \"zerolinecolor\": \"white\", \"zerolinewidth\": 2}}}},                        {\"responsive\": true}                    ).then(function(){\n",
       "                            \n",
       "var gd = document.getElementById('f0941b77-c379-40d8-8962-bf6e3603c4eb');\n",
       "var x = new MutationObserver(function (mutations, observer) {{\n",
       "        var display = window.getComputedStyle(gd).display;\n",
       "        if (!display || display === 'none') {{\n",
       "            console.log([gd, 'removed!']);\n",
       "            Plotly.purge(gd);\n",
       "            observer.disconnect();\n",
       "        }}\n",
       "}});\n",
       "\n",
       "// Listen for the removal of the full notebook cells\n",
       "var notebookContainer = gd.closest('#notebook-container');\n",
       "if (notebookContainer) {{\n",
       "    x.observe(notebookContainer, {childList: true});\n",
       "}}\n",
       "\n",
       "// Listen for the clearing of the current output cell\n",
       "var outputEl = gd.closest('.output');\n",
       "if (outputEl) {{\n",
       "    x.observe(outputEl, {childList: true});\n",
       "}}\n",
       "\n",
       "                        })                };                });            </script>        </div>"
      ]
     },
     "metadata": {},
     "output_type": "display_data"
    }
   ],
   "source": [
    "fig = px.scatter_mapbox(\n",
    "    df_last_update,\n",
    "    lat = \"lat\",\n",
    "    lon = \"long\",\n",
    "    color = \"nb_pos_cum\",\n",
    "    size_max = 50,\n",
    "    hover_name = \"dep_name\",\n",
    "    hover_data = [\"nb_pos_cum\",\"dc\",\"dep_name\"],\n",
    "    color_continuous_scale = color_scale,\n",
    ")\n",
    "fig.show()"
   ]
  },
  {
   "cell_type": "code",
   "execution_count": 492,
   "metadata": {},
   "outputs": [],
   "source": [
    "df = pd.read_csv('datasets/covid_19_data.csv')"
   ]
  },
  {
   "cell_type": "code",
   "execution_count": 493,
   "metadata": {},
   "outputs": [
    {
     "data": {
      "text/html": [
       "<div>\n",
       "<style scoped>\n",
       "    .dataframe tbody tr th:only-of-type {\n",
       "        vertical-align: middle;\n",
       "    }\n",
       "\n",
       "    .dataframe tbody tr th {\n",
       "        vertical-align: top;\n",
       "    }\n",
       "\n",
       "    .dataframe thead th {\n",
       "        text-align: right;\n",
       "    }\n",
       "</style>\n",
       "<table border=\"1\" class=\"dataframe\">\n",
       "  <thead>\n",
       "    <tr style=\"text-align: right;\">\n",
       "      <th></th>\n",
       "      <th>SNo</th>\n",
       "      <th>ObservationDate</th>\n",
       "      <th>Province/State</th>\n",
       "      <th>Country/Region</th>\n",
       "      <th>Last Update</th>\n",
       "      <th>Confirmed</th>\n",
       "      <th>Deaths</th>\n",
       "      <th>Recovered</th>\n",
       "    </tr>\n",
       "  </thead>\n",
       "  <tbody>\n",
       "    <tr>\n",
       "      <th>0</th>\n",
       "      <td>1</td>\n",
       "      <td>01/22/2020</td>\n",
       "      <td>Anhui</td>\n",
       "      <td>Mainland China</td>\n",
       "      <td>1/22/2020 17:00</td>\n",
       "      <td>1.0</td>\n",
       "      <td>0.0</td>\n",
       "      <td>0.0</td>\n",
       "    </tr>\n",
       "    <tr>\n",
       "      <th>1</th>\n",
       "      <td>2</td>\n",
       "      <td>01/22/2020</td>\n",
       "      <td>Beijing</td>\n",
       "      <td>Mainland China</td>\n",
       "      <td>1/22/2020 17:00</td>\n",
       "      <td>14.0</td>\n",
       "      <td>0.0</td>\n",
       "      <td>0.0</td>\n",
       "    </tr>\n",
       "    <tr>\n",
       "      <th>2</th>\n",
       "      <td>3</td>\n",
       "      <td>01/22/2020</td>\n",
       "      <td>Chongqing</td>\n",
       "      <td>Mainland China</td>\n",
       "      <td>1/22/2020 17:00</td>\n",
       "      <td>6.0</td>\n",
       "      <td>0.0</td>\n",
       "      <td>0.0</td>\n",
       "    </tr>\n",
       "    <tr>\n",
       "      <th>3</th>\n",
       "      <td>4</td>\n",
       "      <td>01/22/2020</td>\n",
       "      <td>Fujian</td>\n",
       "      <td>Mainland China</td>\n",
       "      <td>1/22/2020 17:00</td>\n",
       "      <td>1.0</td>\n",
       "      <td>0.0</td>\n",
       "      <td>0.0</td>\n",
       "    </tr>\n",
       "    <tr>\n",
       "      <th>4</th>\n",
       "      <td>5</td>\n",
       "      <td>01/22/2020</td>\n",
       "      <td>Gansu</td>\n",
       "      <td>Mainland China</td>\n",
       "      <td>1/22/2020 17:00</td>\n",
       "      <td>0.0</td>\n",
       "      <td>0.0</td>\n",
       "      <td>0.0</td>\n",
       "    </tr>\n",
       "  </tbody>\n",
       "</table>\n",
       "</div>"
      ],
      "text/plain": [
       "   SNo ObservationDate Province/State  Country/Region      Last Update  \\\n",
       "0    1      01/22/2020          Anhui  Mainland China  1/22/2020 17:00   \n",
       "1    2      01/22/2020        Beijing  Mainland China  1/22/2020 17:00   \n",
       "2    3      01/22/2020      Chongqing  Mainland China  1/22/2020 17:00   \n",
       "3    4      01/22/2020         Fujian  Mainland China  1/22/2020 17:00   \n",
       "4    5      01/22/2020          Gansu  Mainland China  1/22/2020 17:00   \n",
       "\n",
       "   Confirmed  Deaths  Recovered  \n",
       "0        1.0     0.0        0.0  \n",
       "1       14.0     0.0        0.0  \n",
       "2        6.0     0.0        0.0  \n",
       "3        1.0     0.0        0.0  \n",
       "4        0.0     0.0        0.0  "
      ]
     },
     "execution_count": 493,
     "metadata": {},
     "output_type": "execute_result"
    }
   ],
   "source": [
    "df.head()"
   ]
  },
  {
   "cell_type": "code",
   "execution_count": 475,
   "metadata": {},
   "outputs": [
    {
     "data": {
      "text/plain": [
       "array(['Mainland China', 'Hong Kong', 'Macau', 'Taiwan', 'US', 'Japan',\n",
       "       'Thailand', 'South Korea', 'Singapore', 'Philippines', 'Malaysia',\n",
       "       'Vietnam', 'Australia', 'Mexico', 'Brazil', 'Colombia', 'France',\n",
       "       'Nepal', 'Canada', 'Cambodia', 'Sri Lanka', 'Ivory Coast',\n",
       "       'Germany', 'Finland', 'United Arab Emirates', 'India', 'Italy',\n",
       "       'UK', 'Russia', 'Sweden', 'Spain', 'Belgium', 'Others', 'Egypt',\n",
       "       'Iran', 'Israel', 'Lebanon', 'Iraq', 'Oman', 'Afghanistan',\n",
       "       'Bahrain', 'Kuwait', 'Austria', 'Algeria', 'Croatia',\n",
       "       'Switzerland', 'Pakistan', 'Georgia', 'Greece', 'North Macedonia',\n",
       "       'Norway', 'Romania', 'Denmark', 'Estonia', 'Netherlands',\n",
       "       'San Marino', ' Azerbaijan', 'Belarus', 'Iceland', 'Lithuania',\n",
       "       'New Zealand', 'Nigeria', 'North Ireland', 'Ireland', 'Luxembourg',\n",
       "       'Monaco', 'Qatar', 'Ecuador', 'Azerbaijan', 'Czech Republic',\n",
       "       'Armenia', 'Dominican Republic', 'Indonesia', 'Portugal',\n",
       "       'Andorra', 'Latvia', 'Morocco', 'Saudi Arabia', 'Senegal',\n",
       "       'Argentina', 'Chile', 'Jordan', 'Ukraine', 'Saint Barthelemy',\n",
       "       'Hungary', 'Faroe Islands', 'Gibraltar', 'Liechtenstein', 'Poland',\n",
       "       'Tunisia', 'Palestine', 'Bosnia and Herzegovina', 'Slovenia',\n",
       "       'South Africa', 'Bhutan', 'Cameroon', 'Costa Rica', 'Peru',\n",
       "       'Serbia', 'Slovakia', 'Togo', 'Vatican City', 'French Guiana',\n",
       "       'Malta', 'Martinique', 'Republic of Ireland', 'Bulgaria',\n",
       "       'Maldives', 'Bangladesh', 'Moldova', 'Paraguay', 'Albania',\n",
       "       'Cyprus', 'St. Martin', 'Brunei', 'occupied Palestinian territory',\n",
       "       \"('St. Martin',)\", 'Burkina Faso', 'Channel Islands', 'Holy See',\n",
       "       'Mongolia', 'Panama', 'Bolivia', 'Honduras', 'Congo (Kinshasa)',\n",
       "       'Jamaica', 'Reunion', 'Turkey', 'Cuba', 'Guyana', 'Kazakhstan',\n",
       "       'Cayman Islands', 'Guadeloupe', 'Ethiopia', 'Sudan', 'Guinea',\n",
       "       'Antigua and Barbuda', 'Aruba', 'Kenya', 'Uruguay', 'Ghana',\n",
       "       'Jersey', 'Namibia', 'Seychelles', 'Trinidad and Tobago',\n",
       "       'Venezuela', 'Curacao', 'Eswatini', 'Gabon', 'Guatemala',\n",
       "       'Guernsey', 'Mauritania', 'Rwanda', 'Saint Lucia',\n",
       "       'Saint Vincent and the Grenadines', 'Suriname', 'Kosovo',\n",
       "       'Central African Republic', 'Congo (Brazzaville)',\n",
       "       'Equatorial Guinea', 'Uzbekistan', 'Guam', 'Puerto Rico', 'Benin',\n",
       "       'Greenland', 'Liberia', 'Mayotte', 'Republic of the Congo',\n",
       "       'Somalia', 'Tanzania', 'The Bahamas', 'Barbados', 'Montenegro',\n",
       "       'The Gambia', 'Kyrgyzstan', 'Mauritius', 'Zambia', 'Djibouti',\n",
       "       'Gambia, The', 'Bahamas, The', 'Chad', 'El Salvador', 'Fiji',\n",
       "       'Nicaragua', 'Madagascar', 'Haiti', 'Angola', 'Cabo Verde',\n",
       "       'Niger', 'Papua New Guinea', 'Zimbabwe', 'Cape Verde',\n",
       "       'East Timor', 'Eritrea', 'Uganda', 'Bahamas', 'Dominica', 'Gambia',\n",
       "       'Grenada', 'Mozambique', 'Syria', 'Timor-Leste', 'Belize', 'Laos',\n",
       "       'Libya', 'Diamond Princess', 'Guinea-Bissau', 'Mali',\n",
       "       'Saint Kitts and Nevis', 'West Bank and Gaza', 'Burma',\n",
       "       'MS Zaandam', 'Botswana', 'Burundi', 'Sierra Leone', 'Malawi',\n",
       "       'South Sudan', 'Western Sahara', 'Sao Tome and Principe', 'Yemen',\n",
       "       'Comoros', 'Tajikistan', 'Lesotho'], dtype=object)"
      ]
     },
     "execution_count": 475,
     "metadata": {},
     "output_type": "execute_result"
    }
   ],
   "source": [
    "df['Country/Region'].unique()"
   ]
  },
  {
   "cell_type": "code",
   "execution_count": 476,
   "metadata": {},
   "outputs": [],
   "source": [
    "df = df.drop(df[(df[\"Country/Region\"]==\"('St. Martin',)\")].index)"
   ]
  },
  {
   "cell_type": "code",
   "execution_count": 477,
   "metadata": {},
   "outputs": [
    {
     "name": "stdout",
     "output_type": "stream",
     "text": [
      "[' Azerbaijan' 'Afghanistan' 'Albania' 'Algeria' 'Andorra' 'Angola'\n",
      " 'Antigua and Barbuda' 'Argentina' 'Armenia' 'Aruba' 'Australia' 'Austria'\n",
      " 'Azerbaijan' 'Bahamas' 'Bahamas, The' 'Bahrain' 'Bangladesh' 'Barbados'\n",
      " 'Belarus' 'Belgium' 'Belize' 'Benin' 'Bhutan' 'Bolivia'\n",
      " 'Bosnia and Herzegovina' 'Botswana' 'Brazil' 'Brunei' 'Bulgaria'\n",
      " 'Burkina Faso' 'Burma' 'Burundi' 'Cabo Verde' 'Cambodia' 'Cameroon'\n",
      " 'Canada' 'Cape Verde' 'Cayman Islands' 'Central African Republic' 'Chad'\n",
      " 'Channel Islands' 'Chile' 'Colombia' 'Comoros' 'Congo (Brazzaville)'\n",
      " 'Congo (Kinshasa)' 'Costa Rica' 'Croatia' 'Cuba' 'Curacao' 'Cyprus'\n",
      " 'Czech Republic' 'Denmark' 'Diamond Princess' 'Djibouti' 'Dominica'\n",
      " 'Dominican Republic' 'East Timor' 'Ecuador' 'Egypt' 'El Salvador'\n",
      " 'Equatorial Guinea' 'Eritrea' 'Estonia' 'Eswatini' 'Ethiopia'\n",
      " 'Faroe Islands' 'Fiji' 'Finland' 'France' 'French Guiana' 'Gabon'\n",
      " 'Gambia' 'Gambia, The' 'Georgia' 'Germany' 'Ghana' 'Gibraltar' 'Greece'\n",
      " 'Greenland' 'Grenada' 'Guadeloupe' 'Guam' 'Guatemala' 'Guernsey' 'Guinea'\n",
      " 'Guinea-Bissau' 'Guyana' 'Haiti' 'Holy See' 'Honduras' 'Hong Kong'\n",
      " 'Hungary' 'Iceland' 'India' 'Indonesia' 'Iran' 'Iraq' 'Ireland' 'Israel'\n",
      " 'Italy' 'Ivory Coast' 'Jamaica' 'Japan' 'Jersey' 'Jordan' 'Kazakhstan'\n",
      " 'Kenya' 'Kosovo' 'Kuwait' 'Kyrgyzstan' 'Laos' 'Latvia' 'Lebanon'\n",
      " 'Lesotho' 'Liberia' 'Libya' 'Liechtenstein' 'Lithuania' 'Luxembourg'\n",
      " 'MS Zaandam' 'Macau' 'Madagascar' 'Mainland China' 'Malawi' 'Malaysia'\n",
      " 'Maldives' 'Mali' 'Malta' 'Martinique' 'Mauritania' 'Mauritius' 'Mayotte'\n",
      " 'Mexico' 'Moldova' 'Monaco' 'Mongolia' 'Montenegro' 'Morocco'\n",
      " 'Mozambique' 'Namibia' 'Nepal' 'Netherlands' 'New Zealand' 'Nicaragua'\n",
      " 'Niger' 'Nigeria' 'North Ireland' 'North Macedonia' 'Norway' 'Oman'\n",
      " 'Others' 'Pakistan' 'Palestine' 'Panama' 'Papua New Guinea' 'Paraguay'\n",
      " 'Peru' 'Philippines' 'Poland' 'Portugal' 'Puerto Rico' 'Qatar'\n",
      " 'Republic of Ireland' 'Republic of the Congo' 'Reunion' 'Romania'\n",
      " 'Russia' 'Rwanda' 'Saint Barthelemy' 'Saint Kitts and Nevis'\n",
      " 'Saint Lucia' 'Saint Vincent and the Grenadines' 'San Marino'\n",
      " 'Sao Tome and Principe' 'Saudi Arabia' 'Senegal' 'Serbia' 'Seychelles'\n",
      " 'Sierra Leone' 'Singapore' 'Slovakia' 'Slovenia' 'Somalia' 'South Africa'\n",
      " 'South Korea' 'South Sudan' 'Spain' 'Sri Lanka' 'St. Martin' 'Sudan'\n",
      " 'Suriname' 'Sweden' 'Switzerland' 'Syria' 'Taiwan' 'Tajikistan'\n",
      " 'Tanzania' 'Thailand' 'The Bahamas' 'The Gambia' 'Timor-Leste' 'Togo'\n",
      " 'Trinidad and Tobago' 'Tunisia' 'Turkey' 'UK' 'US' 'Uganda' 'Ukraine'\n",
      " 'United Arab Emirates' 'Uruguay' 'Uzbekistan' 'Vatican City' 'Venezuela'\n",
      " 'Vietnam' 'West Bank and Gaza' 'Western Sahara' 'Yemen' 'Zambia'\n",
      " 'Zimbabwe' 'occupied Palestinian territory']\n"
     ]
    }
   ],
   "source": [
    "countries = df['Country/Region'].unique()\n",
    "countries.sort()\n",
    "print(countries)"
   ]
  },
  {
   "cell_type": "code",
   "execution_count": 478,
   "metadata": {},
   "outputs": [
    {
     "data": {
      "text/html": [
       "<div>\n",
       "<style scoped>\n",
       "    .dataframe tbody tr th:only-of-type {\n",
       "        vertical-align: middle;\n",
       "    }\n",
       "\n",
       "    .dataframe tbody tr th {\n",
       "        vertical-align: top;\n",
       "    }\n",
       "\n",
       "    .dataframe thead th {\n",
       "        text-align: right;\n",
       "    }\n",
       "</style>\n",
       "<table border=\"1\" class=\"dataframe\">\n",
       "  <thead>\n",
       "    <tr style=\"text-align: right;\">\n",
       "      <th></th>\n",
       "      <th>Country/Region</th>\n",
       "      <th>ObservationDate</th>\n",
       "      <th>Confirmed</th>\n",
       "      <th>Deaths</th>\n",
       "      <th>Recovered</th>\n",
       "    </tr>\n",
       "  </thead>\n",
       "  <tbody>\n",
       "    <tr>\n",
       "      <th>0</th>\n",
       "      <td>Azerbaijan</td>\n",
       "      <td>02/28/2020</td>\n",
       "      <td>1.0</td>\n",
       "      <td>0.0</td>\n",
       "      <td>0.0</td>\n",
       "    </tr>\n",
       "    <tr>\n",
       "      <th>1</th>\n",
       "      <td>Afghanistan</td>\n",
       "      <td>02/24/2020</td>\n",
       "      <td>1.0</td>\n",
       "      <td>0.0</td>\n",
       "      <td>0.0</td>\n",
       "    </tr>\n",
       "    <tr>\n",
       "      <th>2</th>\n",
       "      <td>Afghanistan</td>\n",
       "      <td>02/25/2020</td>\n",
       "      <td>1.0</td>\n",
       "      <td>0.0</td>\n",
       "      <td>0.0</td>\n",
       "    </tr>\n",
       "    <tr>\n",
       "      <th>3</th>\n",
       "      <td>Afghanistan</td>\n",
       "      <td>02/26/2020</td>\n",
       "      <td>1.0</td>\n",
       "      <td>0.0</td>\n",
       "      <td>0.0</td>\n",
       "    </tr>\n",
       "    <tr>\n",
       "      <th>4</th>\n",
       "      <td>Afghanistan</td>\n",
       "      <td>02/27/2020</td>\n",
       "      <td>1.0</td>\n",
       "      <td>0.0</td>\n",
       "      <td>0.0</td>\n",
       "    </tr>\n",
       "    <tr>\n",
       "      <th>5</th>\n",
       "      <td>Afghanistan</td>\n",
       "      <td>02/28/2020</td>\n",
       "      <td>1.0</td>\n",
       "      <td>0.0</td>\n",
       "      <td>0.0</td>\n",
       "    </tr>\n",
       "    <tr>\n",
       "      <th>6</th>\n",
       "      <td>Afghanistan</td>\n",
       "      <td>02/29/2020</td>\n",
       "      <td>1.0</td>\n",
       "      <td>0.0</td>\n",
       "      <td>0.0</td>\n",
       "    </tr>\n",
       "    <tr>\n",
       "      <th>7</th>\n",
       "      <td>Afghanistan</td>\n",
       "      <td>03/01/2020</td>\n",
       "      <td>1.0</td>\n",
       "      <td>0.0</td>\n",
       "      <td>0.0</td>\n",
       "    </tr>\n",
       "    <tr>\n",
       "      <th>8</th>\n",
       "      <td>Afghanistan</td>\n",
       "      <td>03/02/2020</td>\n",
       "      <td>1.0</td>\n",
       "      <td>0.0</td>\n",
       "      <td>0.0</td>\n",
       "    </tr>\n",
       "    <tr>\n",
       "      <th>9</th>\n",
       "      <td>Afghanistan</td>\n",
       "      <td>03/03/2020</td>\n",
       "      <td>1.0</td>\n",
       "      <td>0.0</td>\n",
       "      <td>0.0</td>\n",
       "    </tr>\n",
       "    <tr>\n",
       "      <th>10</th>\n",
       "      <td>Afghanistan</td>\n",
       "      <td>03/04/2020</td>\n",
       "      <td>1.0</td>\n",
       "      <td>0.0</td>\n",
       "      <td>0.0</td>\n",
       "    </tr>\n",
       "    <tr>\n",
       "      <th>11</th>\n",
       "      <td>Afghanistan</td>\n",
       "      <td>03/05/2020</td>\n",
       "      <td>1.0</td>\n",
       "      <td>0.0</td>\n",
       "      <td>0.0</td>\n",
       "    </tr>\n",
       "    <tr>\n",
       "      <th>12</th>\n",
       "      <td>Afghanistan</td>\n",
       "      <td>03/06/2020</td>\n",
       "      <td>1.0</td>\n",
       "      <td>0.0</td>\n",
       "      <td>0.0</td>\n",
       "    </tr>\n",
       "    <tr>\n",
       "      <th>13</th>\n",
       "      <td>Afghanistan</td>\n",
       "      <td>03/07/2020</td>\n",
       "      <td>1.0</td>\n",
       "      <td>0.0</td>\n",
       "      <td>0.0</td>\n",
       "    </tr>\n",
       "    <tr>\n",
       "      <th>14</th>\n",
       "      <td>Afghanistan</td>\n",
       "      <td>03/08/2020</td>\n",
       "      <td>4.0</td>\n",
       "      <td>0.0</td>\n",
       "      <td>0.0</td>\n",
       "    </tr>\n",
       "    <tr>\n",
       "      <th>15</th>\n",
       "      <td>Afghanistan</td>\n",
       "      <td>03/09/2020</td>\n",
       "      <td>4.0</td>\n",
       "      <td>0.0</td>\n",
       "      <td>0.0</td>\n",
       "    </tr>\n",
       "    <tr>\n",
       "      <th>16</th>\n",
       "      <td>Afghanistan</td>\n",
       "      <td>03/10/2020</td>\n",
       "      <td>5.0</td>\n",
       "      <td>0.0</td>\n",
       "      <td>0.0</td>\n",
       "    </tr>\n",
       "    <tr>\n",
       "      <th>17</th>\n",
       "      <td>Afghanistan</td>\n",
       "      <td>03/11/2020</td>\n",
       "      <td>7.0</td>\n",
       "      <td>0.0</td>\n",
       "      <td>0.0</td>\n",
       "    </tr>\n",
       "    <tr>\n",
       "      <th>18</th>\n",
       "      <td>Afghanistan</td>\n",
       "      <td>03/12/2020</td>\n",
       "      <td>7.0</td>\n",
       "      <td>0.0</td>\n",
       "      <td>0.0</td>\n",
       "    </tr>\n",
       "    <tr>\n",
       "      <th>19</th>\n",
       "      <td>Afghanistan</td>\n",
       "      <td>03/13/2020</td>\n",
       "      <td>7.0</td>\n",
       "      <td>0.0</td>\n",
       "      <td>0.0</td>\n",
       "    </tr>\n",
       "    <tr>\n",
       "      <th>20</th>\n",
       "      <td>Afghanistan</td>\n",
       "      <td>03/14/2020</td>\n",
       "      <td>11.0</td>\n",
       "      <td>0.0</td>\n",
       "      <td>0.0</td>\n",
       "    </tr>\n",
       "    <tr>\n",
       "      <th>21</th>\n",
       "      <td>Afghanistan</td>\n",
       "      <td>03/15/2020</td>\n",
       "      <td>16.0</td>\n",
       "      <td>0.0</td>\n",
       "      <td>0.0</td>\n",
       "    </tr>\n",
       "    <tr>\n",
       "      <th>22</th>\n",
       "      <td>Afghanistan</td>\n",
       "      <td>03/16/2020</td>\n",
       "      <td>21.0</td>\n",
       "      <td>0.0</td>\n",
       "      <td>1.0</td>\n",
       "    </tr>\n",
       "    <tr>\n",
       "      <th>23</th>\n",
       "      <td>Afghanistan</td>\n",
       "      <td>03/17/2020</td>\n",
       "      <td>22.0</td>\n",
       "      <td>0.0</td>\n",
       "      <td>1.0</td>\n",
       "    </tr>\n",
       "    <tr>\n",
       "      <th>24</th>\n",
       "      <td>Afghanistan</td>\n",
       "      <td>03/18/2020</td>\n",
       "      <td>22.0</td>\n",
       "      <td>0.0</td>\n",
       "      <td>1.0</td>\n",
       "    </tr>\n",
       "    <tr>\n",
       "      <th>25</th>\n",
       "      <td>Afghanistan</td>\n",
       "      <td>03/19/2020</td>\n",
       "      <td>22.0</td>\n",
       "      <td>0.0</td>\n",
       "      <td>1.0</td>\n",
       "    </tr>\n",
       "    <tr>\n",
       "      <th>26</th>\n",
       "      <td>Afghanistan</td>\n",
       "      <td>03/20/2020</td>\n",
       "      <td>24.0</td>\n",
       "      <td>0.0</td>\n",
       "      <td>1.0</td>\n",
       "    </tr>\n",
       "    <tr>\n",
       "      <th>27</th>\n",
       "      <td>Afghanistan</td>\n",
       "      <td>03/21/2020</td>\n",
       "      <td>24.0</td>\n",
       "      <td>0.0</td>\n",
       "      <td>1.0</td>\n",
       "    </tr>\n",
       "    <tr>\n",
       "      <th>28</th>\n",
       "      <td>Afghanistan</td>\n",
       "      <td>03/22/2020</td>\n",
       "      <td>40.0</td>\n",
       "      <td>1.0</td>\n",
       "      <td>1.0</td>\n",
       "    </tr>\n",
       "    <tr>\n",
       "      <th>29</th>\n",
       "      <td>Afghanistan</td>\n",
       "      <td>03/23/2020</td>\n",
       "      <td>40.0</td>\n",
       "      <td>1.0</td>\n",
       "      <td>1.0</td>\n",
       "    </tr>\n",
       "  </tbody>\n",
       "</table>\n",
       "</div>"
      ],
      "text/plain": [
       "   Country/Region ObservationDate  Confirmed  Deaths  Recovered\n",
       "0      Azerbaijan      02/28/2020        1.0     0.0        0.0\n",
       "1     Afghanistan      02/24/2020        1.0     0.0        0.0\n",
       "2     Afghanistan      02/25/2020        1.0     0.0        0.0\n",
       "3     Afghanistan      02/26/2020        1.0     0.0        0.0\n",
       "4     Afghanistan      02/27/2020        1.0     0.0        0.0\n",
       "5     Afghanistan      02/28/2020        1.0     0.0        0.0\n",
       "6     Afghanistan      02/29/2020        1.0     0.0        0.0\n",
       "7     Afghanistan      03/01/2020        1.0     0.0        0.0\n",
       "8     Afghanistan      03/02/2020        1.0     0.0        0.0\n",
       "9     Afghanistan      03/03/2020        1.0     0.0        0.0\n",
       "10    Afghanistan      03/04/2020        1.0     0.0        0.0\n",
       "11    Afghanistan      03/05/2020        1.0     0.0        0.0\n",
       "12    Afghanistan      03/06/2020        1.0     0.0        0.0\n",
       "13    Afghanistan      03/07/2020        1.0     0.0        0.0\n",
       "14    Afghanistan      03/08/2020        4.0     0.0        0.0\n",
       "15    Afghanistan      03/09/2020        4.0     0.0        0.0\n",
       "16    Afghanistan      03/10/2020        5.0     0.0        0.0\n",
       "17    Afghanistan      03/11/2020        7.0     0.0        0.0\n",
       "18    Afghanistan      03/12/2020        7.0     0.0        0.0\n",
       "19    Afghanistan      03/13/2020        7.0     0.0        0.0\n",
       "20    Afghanistan      03/14/2020       11.0     0.0        0.0\n",
       "21    Afghanistan      03/15/2020       16.0     0.0        0.0\n",
       "22    Afghanistan      03/16/2020       21.0     0.0        1.0\n",
       "23    Afghanistan      03/17/2020       22.0     0.0        1.0\n",
       "24    Afghanistan      03/18/2020       22.0     0.0        1.0\n",
       "25    Afghanistan      03/19/2020       22.0     0.0        1.0\n",
       "26    Afghanistan      03/20/2020       24.0     0.0        1.0\n",
       "27    Afghanistan      03/21/2020       24.0     0.0        1.0\n",
       "28    Afghanistan      03/22/2020       40.0     1.0        1.0\n",
       "29    Afghanistan      03/23/2020       40.0     1.0        1.0"
      ]
     },
     "execution_count": 478,
     "metadata": {},
     "output_type": "execute_result"
    }
   ],
   "source": [
    "df_country=df.groupby(['Country/Region','ObservationDate'])[[\"Confirmed\",\"Deaths\",\"Recovered\"]].sum().reset_index()\n",
    "df_country.head(30)"
   ]
  },
  {
   "cell_type": "code",
   "execution_count": 479,
   "metadata": {},
   "outputs": [
    {
     "data": {
      "text/html": [
       "<div>\n",
       "<style scoped>\n",
       "    .dataframe tbody tr th:only-of-type {\n",
       "        vertical-align: middle;\n",
       "    }\n",
       "\n",
       "    .dataframe tbody tr th {\n",
       "        vertical-align: top;\n",
       "    }\n",
       "\n",
       "    .dataframe thead th {\n",
       "        text-align: right;\n",
       "    }\n",
       "</style>\n",
       "<table border=\"1\" class=\"dataframe\">\n",
       "  <thead>\n",
       "    <tr style=\"text-align: right;\">\n",
       "      <th></th>\n",
       "      <th>Country/Region</th>\n",
       "      <th>ObservationDate</th>\n",
       "      <th>Confirmed</th>\n",
       "      <th>Deaths</th>\n",
       "      <th>Recovered</th>\n",
       "    </tr>\n",
       "  </thead>\n",
       "  <tbody>\n",
       "    <tr>\n",
       "      <th>12088</th>\n",
       "      <td>France</td>\n",
       "      <td>01/24/2020</td>\n",
       "      <td>2.0</td>\n",
       "      <td>0.0</td>\n",
       "      <td>0.0</td>\n",
       "    </tr>\n",
       "    <tr>\n",
       "      <th>12089</th>\n",
       "      <td>France</td>\n",
       "      <td>01/25/2020</td>\n",
       "      <td>3.0</td>\n",
       "      <td>0.0</td>\n",
       "      <td>0.0</td>\n",
       "    </tr>\n",
       "    <tr>\n",
       "      <th>12090</th>\n",
       "      <td>France</td>\n",
       "      <td>01/26/2020</td>\n",
       "      <td>3.0</td>\n",
       "      <td>0.0</td>\n",
       "      <td>0.0</td>\n",
       "    </tr>\n",
       "    <tr>\n",
       "      <th>12091</th>\n",
       "      <td>France</td>\n",
       "      <td>01/27/2020</td>\n",
       "      <td>3.0</td>\n",
       "      <td>0.0</td>\n",
       "      <td>0.0</td>\n",
       "    </tr>\n",
       "    <tr>\n",
       "      <th>12092</th>\n",
       "      <td>France</td>\n",
       "      <td>01/28/2020</td>\n",
       "      <td>4.0</td>\n",
       "      <td>0.0</td>\n",
       "      <td>0.0</td>\n",
       "    </tr>\n",
       "    <tr>\n",
       "      <th>12093</th>\n",
       "      <td>France</td>\n",
       "      <td>01/29/2020</td>\n",
       "      <td>5.0</td>\n",
       "      <td>0.0</td>\n",
       "      <td>0.0</td>\n",
       "    </tr>\n",
       "    <tr>\n",
       "      <th>12094</th>\n",
       "      <td>France</td>\n",
       "      <td>01/30/2020</td>\n",
       "      <td>5.0</td>\n",
       "      <td>0.0</td>\n",
       "      <td>0.0</td>\n",
       "    </tr>\n",
       "    <tr>\n",
       "      <th>12095</th>\n",
       "      <td>France</td>\n",
       "      <td>01/31/2020</td>\n",
       "      <td>5.0</td>\n",
       "      <td>0.0</td>\n",
       "      <td>0.0</td>\n",
       "    </tr>\n",
       "    <tr>\n",
       "      <th>12096</th>\n",
       "      <td>France</td>\n",
       "      <td>02/01/2020</td>\n",
       "      <td>6.0</td>\n",
       "      <td>0.0</td>\n",
       "      <td>0.0</td>\n",
       "    </tr>\n",
       "    <tr>\n",
       "      <th>12097</th>\n",
       "      <td>France</td>\n",
       "      <td>02/02/2020</td>\n",
       "      <td>6.0</td>\n",
       "      <td>0.0</td>\n",
       "      <td>0.0</td>\n",
       "    </tr>\n",
       "    <tr>\n",
       "      <th>12098</th>\n",
       "      <td>France</td>\n",
       "      <td>02/03/2020</td>\n",
       "      <td>6.0</td>\n",
       "      <td>0.0</td>\n",
       "      <td>0.0</td>\n",
       "    </tr>\n",
       "    <tr>\n",
       "      <th>12099</th>\n",
       "      <td>France</td>\n",
       "      <td>02/04/2020</td>\n",
       "      <td>6.0</td>\n",
       "      <td>0.0</td>\n",
       "      <td>0.0</td>\n",
       "    </tr>\n",
       "    <tr>\n",
       "      <th>12100</th>\n",
       "      <td>France</td>\n",
       "      <td>02/05/2020</td>\n",
       "      <td>6.0</td>\n",
       "      <td>0.0</td>\n",
       "      <td>0.0</td>\n",
       "    </tr>\n",
       "    <tr>\n",
       "      <th>12101</th>\n",
       "      <td>France</td>\n",
       "      <td>02/06/2020</td>\n",
       "      <td>6.0</td>\n",
       "      <td>0.0</td>\n",
       "      <td>0.0</td>\n",
       "    </tr>\n",
       "    <tr>\n",
       "      <th>12102</th>\n",
       "      <td>France</td>\n",
       "      <td>02/07/2020</td>\n",
       "      <td>6.0</td>\n",
       "      <td>0.0</td>\n",
       "      <td>0.0</td>\n",
       "    </tr>\n",
       "    <tr>\n",
       "      <th>12103</th>\n",
       "      <td>France</td>\n",
       "      <td>02/08/2020</td>\n",
       "      <td>11.0</td>\n",
       "      <td>0.0</td>\n",
       "      <td>0.0</td>\n",
       "    </tr>\n",
       "    <tr>\n",
       "      <th>12104</th>\n",
       "      <td>France</td>\n",
       "      <td>02/09/2020</td>\n",
       "      <td>11.0</td>\n",
       "      <td>0.0</td>\n",
       "      <td>0.0</td>\n",
       "    </tr>\n",
       "    <tr>\n",
       "      <th>12105</th>\n",
       "      <td>France</td>\n",
       "      <td>02/10/2020</td>\n",
       "      <td>11.0</td>\n",
       "      <td>0.0</td>\n",
       "      <td>0.0</td>\n",
       "    </tr>\n",
       "    <tr>\n",
       "      <th>12106</th>\n",
       "      <td>France</td>\n",
       "      <td>02/11/2020</td>\n",
       "      <td>11.0</td>\n",
       "      <td>0.0</td>\n",
       "      <td>0.0</td>\n",
       "    </tr>\n",
       "    <tr>\n",
       "      <th>12107</th>\n",
       "      <td>France</td>\n",
       "      <td>02/12/2020</td>\n",
       "      <td>11.0</td>\n",
       "      <td>0.0</td>\n",
       "      <td>2.0</td>\n",
       "    </tr>\n",
       "    <tr>\n",
       "      <th>12108</th>\n",
       "      <td>France</td>\n",
       "      <td>02/13/2020</td>\n",
       "      <td>11.0</td>\n",
       "      <td>0.0</td>\n",
       "      <td>2.0</td>\n",
       "    </tr>\n",
       "    <tr>\n",
       "      <th>12109</th>\n",
       "      <td>France</td>\n",
       "      <td>02/14/2020</td>\n",
       "      <td>11.0</td>\n",
       "      <td>0.0</td>\n",
       "      <td>2.0</td>\n",
       "    </tr>\n",
       "    <tr>\n",
       "      <th>12110</th>\n",
       "      <td>France</td>\n",
       "      <td>02/15/2020</td>\n",
       "      <td>12.0</td>\n",
       "      <td>1.0</td>\n",
       "      <td>4.0</td>\n",
       "    </tr>\n",
       "    <tr>\n",
       "      <th>12111</th>\n",
       "      <td>France</td>\n",
       "      <td>02/16/2020</td>\n",
       "      <td>12.0</td>\n",
       "      <td>1.0</td>\n",
       "      <td>4.0</td>\n",
       "    </tr>\n",
       "    <tr>\n",
       "      <th>12112</th>\n",
       "      <td>France</td>\n",
       "      <td>02/17/2020</td>\n",
       "      <td>12.0</td>\n",
       "      <td>1.0</td>\n",
       "      <td>4.0</td>\n",
       "    </tr>\n",
       "    <tr>\n",
       "      <th>12113</th>\n",
       "      <td>France</td>\n",
       "      <td>02/18/2020</td>\n",
       "      <td>12.0</td>\n",
       "      <td>1.0</td>\n",
       "      <td>4.0</td>\n",
       "    </tr>\n",
       "    <tr>\n",
       "      <th>12114</th>\n",
       "      <td>France</td>\n",
       "      <td>02/19/2020</td>\n",
       "      <td>12.0</td>\n",
       "      <td>1.0</td>\n",
       "      <td>4.0</td>\n",
       "    </tr>\n",
       "    <tr>\n",
       "      <th>12115</th>\n",
       "      <td>France</td>\n",
       "      <td>02/20/2020</td>\n",
       "      <td>12.0</td>\n",
       "      <td>1.0</td>\n",
       "      <td>4.0</td>\n",
       "    </tr>\n",
       "    <tr>\n",
       "      <th>12116</th>\n",
       "      <td>France</td>\n",
       "      <td>02/21/2020</td>\n",
       "      <td>12.0</td>\n",
       "      <td>1.0</td>\n",
       "      <td>4.0</td>\n",
       "    </tr>\n",
       "    <tr>\n",
       "      <th>12117</th>\n",
       "      <td>France</td>\n",
       "      <td>02/22/2020</td>\n",
       "      <td>12.0</td>\n",
       "      <td>1.0</td>\n",
       "      <td>4.0</td>\n",
       "    </tr>\n",
       "  </tbody>\n",
       "</table>\n",
       "</div>"
      ],
      "text/plain": [
       "      Country/Region ObservationDate  Confirmed  Deaths  Recovered\n",
       "12088         France      01/24/2020        2.0     0.0        0.0\n",
       "12089         France      01/25/2020        3.0     0.0        0.0\n",
       "12090         France      01/26/2020        3.0     0.0        0.0\n",
       "12091         France      01/27/2020        3.0     0.0        0.0\n",
       "12092         France      01/28/2020        4.0     0.0        0.0\n",
       "12093         France      01/29/2020        5.0     0.0        0.0\n",
       "12094         France      01/30/2020        5.0     0.0        0.0\n",
       "12095         France      01/31/2020        5.0     0.0        0.0\n",
       "12096         France      02/01/2020        6.0     0.0        0.0\n",
       "12097         France      02/02/2020        6.0     0.0        0.0\n",
       "12098         France      02/03/2020        6.0     0.0        0.0\n",
       "12099         France      02/04/2020        6.0     0.0        0.0\n",
       "12100         France      02/05/2020        6.0     0.0        0.0\n",
       "12101         France      02/06/2020        6.0     0.0        0.0\n",
       "12102         France      02/07/2020        6.0     0.0        0.0\n",
       "12103         France      02/08/2020       11.0     0.0        0.0\n",
       "12104         France      02/09/2020       11.0     0.0        0.0\n",
       "12105         France      02/10/2020       11.0     0.0        0.0\n",
       "12106         France      02/11/2020       11.0     0.0        0.0\n",
       "12107         France      02/12/2020       11.0     0.0        2.0\n",
       "12108         France      02/13/2020       11.0     0.0        2.0\n",
       "12109         France      02/14/2020       11.0     0.0        2.0\n",
       "12110         France      02/15/2020       12.0     1.0        4.0\n",
       "12111         France      02/16/2020       12.0     1.0        4.0\n",
       "12112         France      02/17/2020       12.0     1.0        4.0\n",
       "12113         France      02/18/2020       12.0     1.0        4.0\n",
       "12114         France      02/19/2020       12.0     1.0        4.0\n",
       "12115         France      02/20/2020       12.0     1.0        4.0\n",
       "12116         France      02/21/2020       12.0     1.0        4.0\n",
       "12117         France      02/22/2020       12.0     1.0        4.0"
      ]
     },
     "execution_count": 479,
     "metadata": {},
     "output_type": "execute_result"
    }
   ],
   "source": [
    "df_france=df_country[(df_country[\"Country/Region\"]==\"France\")]\n",
    "df_france.head(30)"
   ]
  },
  {
   "cell_type": "code",
   "execution_count": 480,
   "metadata": {},
   "outputs": [
    {
     "data": {
      "text/plain": [
       "Country/Region         France\n",
       "ObservationDate    09/23/2020\n",
       "Confirmed              508456\n",
       "Deaths                  31447\n",
       "Recovered               96498\n",
       "Name: 12331, dtype: object"
      ]
     },
     "execution_count": 480,
     "metadata": {},
     "output_type": "execute_result"
    }
   ],
   "source": [
    "df_france.iloc[-1][:]"
   ]
  },
  {
   "cell_type": "code",
   "execution_count": 481,
   "metadata": {},
   "outputs": [
    {
     "ename": "KeyError",
     "evalue": "'Confirmed_acc'",
     "output_type": "error",
     "traceback": [
      "\u001b[0;31m---------------------------------------------------------------------------\u001b[0m",
      "\u001b[0;31mKeyError\u001b[0m                                  Traceback (most recent call last)",
      "\u001b[0;32m~/anaconda3/lib/python3.7/site-packages/pandas/core/indexes/base.py\u001b[0m in \u001b[0;36mget_loc\u001b[0;34m(self, key, method, tolerance)\u001b[0m\n\u001b[1;32m   2894\u001b[0m             \u001b[0;32mtry\u001b[0m\u001b[0;34m:\u001b[0m\u001b[0;34m\u001b[0m\u001b[0;34m\u001b[0m\u001b[0m\n\u001b[0;32m-> 2895\u001b[0;31m                 \u001b[0;32mreturn\u001b[0m \u001b[0mself\u001b[0m\u001b[0;34m.\u001b[0m\u001b[0m_engine\u001b[0m\u001b[0;34m.\u001b[0m\u001b[0mget_loc\u001b[0m\u001b[0;34m(\u001b[0m\u001b[0mcasted_key\u001b[0m\u001b[0;34m)\u001b[0m\u001b[0;34m\u001b[0m\u001b[0;34m\u001b[0m\u001b[0m\n\u001b[0m\u001b[1;32m   2896\u001b[0m             \u001b[0;32mexcept\u001b[0m \u001b[0mKeyError\u001b[0m \u001b[0;32mas\u001b[0m \u001b[0merr\u001b[0m\u001b[0;34m:\u001b[0m\u001b[0;34m\u001b[0m\u001b[0;34m\u001b[0m\u001b[0m\n",
      "\u001b[0;32mpandas/_libs/index.pyx\u001b[0m in \u001b[0;36mpandas._libs.index.IndexEngine.get_loc\u001b[0;34m()\u001b[0m\n",
      "\u001b[0;32mpandas/_libs/index.pyx\u001b[0m in \u001b[0;36mpandas._libs.index.IndexEngine.get_loc\u001b[0;34m()\u001b[0m\n",
      "\u001b[0;32mpandas/_libs/hashtable_class_helper.pxi\u001b[0m in \u001b[0;36mpandas._libs.hashtable.PyObjectHashTable.get_item\u001b[0;34m()\u001b[0m\n",
      "\u001b[0;32mpandas/_libs/hashtable_class_helper.pxi\u001b[0m in \u001b[0;36mpandas._libs.hashtable.PyObjectHashTable.get_item\u001b[0;34m()\u001b[0m\n",
      "\u001b[0;31mKeyError\u001b[0m: 'Confirmed_acc'",
      "\nThe above exception was the direct cause of the following exception:\n",
      "\u001b[0;31mKeyError\u001b[0m                                  Traceback (most recent call last)",
      "\u001b[0;32m<ipython-input-481-f2dfb20ac547>\u001b[0m in \u001b[0;36m<module>\u001b[0;34m\u001b[0m\n\u001b[1;32m      1\u001b[0m y_data = np.array([\n\u001b[0;32m----> 2\u001b[0;31m     \u001b[0mdf_france\u001b[0m\u001b[0;34m[\u001b[0m\u001b[0;34m'Confirmed_acc'\u001b[0m\u001b[0;34m]\u001b[0m\u001b[0;34m,\u001b[0m\u001b[0;34m\u001b[0m\u001b[0;34m\u001b[0m\u001b[0m\n\u001b[0m\u001b[1;32m      3\u001b[0m     \u001b[0mdf_france\u001b[0m\u001b[0;34m[\u001b[0m\u001b[0;34m'Deaths_acc'\u001b[0m\u001b[0;34m]\u001b[0m\u001b[0;34m,\u001b[0m\u001b[0;34m\u001b[0m\u001b[0;34m\u001b[0m\u001b[0m\n\u001b[1;32m      4\u001b[0m     \u001b[0mdf_france\u001b[0m\u001b[0;34m[\u001b[0m\u001b[0;34m'Recovered'\u001b[0m\u001b[0;34m]\u001b[0m\u001b[0;34m\u001b[0m\u001b[0;34m\u001b[0m\u001b[0m\n\u001b[1;32m      5\u001b[0m ])\n",
      "\u001b[0;32m~/anaconda3/lib/python3.7/site-packages/pandas/core/frame.py\u001b[0m in \u001b[0;36m__getitem__\u001b[0;34m(self, key)\u001b[0m\n\u001b[1;32m   2900\u001b[0m             \u001b[0;32mif\u001b[0m \u001b[0mself\u001b[0m\u001b[0;34m.\u001b[0m\u001b[0mcolumns\u001b[0m\u001b[0;34m.\u001b[0m\u001b[0mnlevels\u001b[0m \u001b[0;34m>\u001b[0m \u001b[0;36m1\u001b[0m\u001b[0;34m:\u001b[0m\u001b[0;34m\u001b[0m\u001b[0;34m\u001b[0m\u001b[0m\n\u001b[1;32m   2901\u001b[0m                 \u001b[0;32mreturn\u001b[0m \u001b[0mself\u001b[0m\u001b[0;34m.\u001b[0m\u001b[0m_getitem_multilevel\u001b[0m\u001b[0;34m(\u001b[0m\u001b[0mkey\u001b[0m\u001b[0;34m)\u001b[0m\u001b[0;34m\u001b[0m\u001b[0;34m\u001b[0m\u001b[0m\n\u001b[0;32m-> 2902\u001b[0;31m             \u001b[0mindexer\u001b[0m \u001b[0;34m=\u001b[0m \u001b[0mself\u001b[0m\u001b[0;34m.\u001b[0m\u001b[0mcolumns\u001b[0m\u001b[0;34m.\u001b[0m\u001b[0mget_loc\u001b[0m\u001b[0;34m(\u001b[0m\u001b[0mkey\u001b[0m\u001b[0;34m)\u001b[0m\u001b[0;34m\u001b[0m\u001b[0;34m\u001b[0m\u001b[0m\n\u001b[0m\u001b[1;32m   2903\u001b[0m             \u001b[0;32mif\u001b[0m \u001b[0mis_integer\u001b[0m\u001b[0;34m(\u001b[0m\u001b[0mindexer\u001b[0m\u001b[0;34m)\u001b[0m\u001b[0;34m:\u001b[0m\u001b[0;34m\u001b[0m\u001b[0;34m\u001b[0m\u001b[0m\n\u001b[1;32m   2904\u001b[0m                 \u001b[0mindexer\u001b[0m \u001b[0;34m=\u001b[0m \u001b[0;34m[\u001b[0m\u001b[0mindexer\u001b[0m\u001b[0;34m]\u001b[0m\u001b[0;34m\u001b[0m\u001b[0;34m\u001b[0m\u001b[0m\n",
      "\u001b[0;32m~/anaconda3/lib/python3.7/site-packages/pandas/core/indexes/base.py\u001b[0m in \u001b[0;36mget_loc\u001b[0;34m(self, key, method, tolerance)\u001b[0m\n\u001b[1;32m   2895\u001b[0m                 \u001b[0;32mreturn\u001b[0m \u001b[0mself\u001b[0m\u001b[0;34m.\u001b[0m\u001b[0m_engine\u001b[0m\u001b[0;34m.\u001b[0m\u001b[0mget_loc\u001b[0m\u001b[0;34m(\u001b[0m\u001b[0mcasted_key\u001b[0m\u001b[0;34m)\u001b[0m\u001b[0;34m\u001b[0m\u001b[0;34m\u001b[0m\u001b[0m\n\u001b[1;32m   2896\u001b[0m             \u001b[0;32mexcept\u001b[0m \u001b[0mKeyError\u001b[0m \u001b[0;32mas\u001b[0m \u001b[0merr\u001b[0m\u001b[0;34m:\u001b[0m\u001b[0;34m\u001b[0m\u001b[0;34m\u001b[0m\u001b[0m\n\u001b[0;32m-> 2897\u001b[0;31m                 \u001b[0;32mraise\u001b[0m \u001b[0mKeyError\u001b[0m\u001b[0;34m(\u001b[0m\u001b[0mkey\u001b[0m\u001b[0;34m)\u001b[0m \u001b[0;32mfrom\u001b[0m \u001b[0merr\u001b[0m\u001b[0;34m\u001b[0m\u001b[0;34m\u001b[0m\u001b[0m\n\u001b[0m\u001b[1;32m   2898\u001b[0m \u001b[0;34m\u001b[0m\u001b[0m\n\u001b[1;32m   2899\u001b[0m         \u001b[0;32mif\u001b[0m \u001b[0mtolerance\u001b[0m \u001b[0;32mis\u001b[0m \u001b[0;32mnot\u001b[0m \u001b[0;32mNone\u001b[0m\u001b[0;34m:\u001b[0m\u001b[0;34m\u001b[0m\u001b[0;34m\u001b[0m\u001b[0m\n",
      "\u001b[0;31mKeyError\u001b[0m: 'Confirmed_acc'"
     ]
    }
   ],
   "source": [
    "y_data = np.array([\n",
    "    df_france['Confirmed_acc'],\n",
    "    df_france['Deaths_acc'],\n",
    "    df_france['Recovered']\n",
    "])\n",
    "labels = ['Confirmed', 'Deaths', 'Recovered']\n",
    "colors = ['rgb(67,67,67)', 'rgb(115,115,115)', 'rgb(49,130,189)']\n",
    "line_size = [2, 4, 2]"
   ]
  },
  {
   "cell_type": "code",
   "execution_count": null,
   "metadata": {},
   "outputs": [],
   "source": [
    "fig = go.Figure()\n",
    "\n",
    "for i in range(0, 3):\n",
    "    fig.add_trace(go.Scatter(x=df_france['ObservationDate'], y=y_data[i], mode='lines',\n",
    "        name=labels[i],\n",
    "        line=dict(color=colors[i], width=line_size[i]),\n",
    "        connectgaps=True,\n",
    "    ))\n",
    "\n",
    "fig.update_layout(\n",
    "    xaxis=dict(\n",
    "        showline=True,\n",
    "        showgrid=True,\n",
    "        showticklabels=True,\n",
    "        linecolor='rgb(204, 204, 204)',\n",
    "        linewidth=2,\n",
    "        ticks='outside',\n",
    "        tickfont=dict(\n",
    "            family='Arial',\n",
    "            size=12,\n",
    "            color='rgb(82, 82, 82)',\n",
    "        ),\n",
    "    ),\n",
    "    yaxis=dict(\n",
    "        showgrid=True,\n",
    "        zeroline=True,\n",
    "        showline=True,\n",
    "        showticklabels=True,\n",
    "    ),\n",
    "    autosize=False,\n",
    "    margin=dict(\n",
    "        autoexpand=False,\n",
    "        l=100,\n",
    "        r=20,\n",
    "        t=110,\n",
    "    ),\n",
    "    showlegend=False,\n",
    "    plot_bgcolor='white'\n",
    ")\n",
    "\n",
    "fig.show()"
   ]
  },
  {
   "cell_type": "code",
   "execution_count": null,
   "metadata": {},
   "outputs": [],
   "source": []
  },
  {
   "cell_type": "code",
   "execution_count": null,
   "metadata": {},
   "outputs": [],
   "source": []
  }
 ],
 "metadata": {
  "kernelspec": {
   "display_name": "Python 3",
   "language": "python",
   "name": "python3"
  },
  "language_info": {
   "codemirror_mode": {
    "name": "ipython",
    "version": 3
   },
   "file_extension": ".py",
   "mimetype": "text/x-python",
   "name": "python",
   "nbconvert_exporter": "python",
   "pygments_lexer": "ipython3",
   "version": "3.7.1"
  }
 },
 "nbformat": 4,
 "nbformat_minor": 4
}
