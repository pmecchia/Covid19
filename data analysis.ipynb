{
 "cells": [
  {
   "cell_type": "code",
   "execution_count": 170,
   "metadata": {},
   "outputs": [],
   "source": [
    "import pandas as pd\n",
    "import plotly.express as px\n",
    "import plotly.graph_objects as go\n",
    "import numpy as np\n",
    "from config import *"
   ]
  },
  {
   "cell_type": "markdown",
   "metadata": {},
   "source": [
    "## **Test/Positve dataset**"
   ]
  },
  {
   "cell_type": "markdown",
   "metadata": {},
   "source": [
    "1. **Dataset before 2020-05-12**"
   ]
  },
  {
   "cell_type": "code",
   "execution_count": 102,
   "metadata": {},
   "outputs": [],
   "source": [
    "url_test1=\"https://www.data.gouv.fr/fr/datasets/r/b4ea7b4b-b7d1-4885-a099-71852291ff20\"\n",
    "dtype={'dep': str,'clage_covid':str,'nb_test':int,'nb_pos':int}\n",
    "df_test1=pd.read_csv(url_test1,sep = ';',dtype=dtype)\n",
    "df_test1=df_test1.drop([\"nb_test_h\",\"nb_test_f\",\"nb_pos_h\",\"nb_pos_f\"],axis=1)"
   ]
  },
  {
   "cell_type": "code",
   "execution_count": 103,
   "metadata": {},
   "outputs": [
    {
     "data": {
      "text/html": [
       "<div>\n",
       "<style scoped>\n",
       "    .dataframe tbody tr th:only-of-type {\n",
       "        vertical-align: middle;\n",
       "    }\n",
       "\n",
       "    .dataframe tbody tr th {\n",
       "        vertical-align: top;\n",
       "    }\n",
       "\n",
       "    .dataframe thead th {\n",
       "        text-align: right;\n",
       "    }\n",
       "</style>\n",
       "<table border=\"1\" class=\"dataframe\">\n",
       "  <thead>\n",
       "    <tr style=\"text-align: right;\">\n",
       "      <th></th>\n",
       "      <th>dep</th>\n",
       "      <th>jour</th>\n",
       "      <th>clage_covid</th>\n",
       "      <th>nb_test</th>\n",
       "      <th>nb_pos</th>\n",
       "    </tr>\n",
       "  </thead>\n",
       "  <tbody>\n",
       "    <tr>\n",
       "      <th>48</th>\n",
       "      <td>01</td>\n",
       "      <td>2020-03-18</td>\n",
       "      <td>0</td>\n",
       "      <td>37</td>\n",
       "      <td>8</td>\n",
       "    </tr>\n",
       "    <tr>\n",
       "      <th>49</th>\n",
       "      <td>01</td>\n",
       "      <td>2020-03-18</td>\n",
       "      <td>A</td>\n",
       "      <td>0</td>\n",
       "      <td>0</td>\n",
       "    </tr>\n",
       "    <tr>\n",
       "      <th>50</th>\n",
       "      <td>01</td>\n",
       "      <td>2020-03-18</td>\n",
       "      <td>B</td>\n",
       "      <td>15</td>\n",
       "      <td>1</td>\n",
       "    </tr>\n",
       "    <tr>\n",
       "      <th>51</th>\n",
       "      <td>01</td>\n",
       "      <td>2020-03-18</td>\n",
       "      <td>C</td>\n",
       "      <td>11</td>\n",
       "      <td>3</td>\n",
       "    </tr>\n",
       "    <tr>\n",
       "      <th>52</th>\n",
       "      <td>01</td>\n",
       "      <td>2020-03-18</td>\n",
       "      <td>D</td>\n",
       "      <td>4</td>\n",
       "      <td>3</td>\n",
       "    </tr>\n",
       "  </tbody>\n",
       "</table>\n",
       "</div>"
      ],
      "text/plain": [
       "   dep        jour clage_covid  nb_test  nb_pos\n",
       "48  01  2020-03-18           0       37       8\n",
       "49  01  2020-03-18           A        0       0\n",
       "50  01  2020-03-18           B       15       1\n",
       "51  01  2020-03-18           C       11       3\n",
       "52  01  2020-03-18           D        4       3"
      ]
     },
     "execution_count": 103,
     "metadata": {},
     "output_type": "execute_result"
    }
   ],
   "source": [
    "df_test1=df_test1.drop(df_test1[(df_test1[\"jour\"]<\"2020-03-18\") | (df_test1[\"jour\"]>\"2020-05-12\")].index)\n",
    "df_test1.head()"
   ]
  },
  {
   "cell_type": "code",
   "execution_count": 104,
   "metadata": {},
   "outputs": [
    {
     "data": {
      "text/html": [
       "<div>\n",
       "<style scoped>\n",
       "    .dataframe tbody tr th:only-of-type {\n",
       "        vertical-align: middle;\n",
       "    }\n",
       "\n",
       "    .dataframe tbody tr th {\n",
       "        vertical-align: top;\n",
       "    }\n",
       "\n",
       "    .dataframe thead th {\n",
       "        text-align: right;\n",
       "    }\n",
       "</style>\n",
       "<table border=\"1\" class=\"dataframe\">\n",
       "  <thead>\n",
       "    <tr style=\"text-align: right;\">\n",
       "      <th></th>\n",
       "      <th>dep</th>\n",
       "      <th>jour</th>\n",
       "      <th>nb_test</th>\n",
       "      <th>nb_pos</th>\n",
       "    </tr>\n",
       "  </thead>\n",
       "  <tbody>\n",
       "    <tr>\n",
       "      <th>48</th>\n",
       "      <td>01</td>\n",
       "      <td>2020-03-18</td>\n",
       "      <td>37</td>\n",
       "      <td>8</td>\n",
       "    </tr>\n",
       "    <tr>\n",
       "      <th>54</th>\n",
       "      <td>01</td>\n",
       "      <td>2020-03-19</td>\n",
       "      <td>82</td>\n",
       "      <td>13</td>\n",
       "    </tr>\n",
       "    <tr>\n",
       "      <th>60</th>\n",
       "      <td>01</td>\n",
       "      <td>2020-03-20</td>\n",
       "      <td>44</td>\n",
       "      <td>9</td>\n",
       "    </tr>\n",
       "    <tr>\n",
       "      <th>66</th>\n",
       "      <td>01</td>\n",
       "      <td>2020-03-21</td>\n",
       "      <td>13</td>\n",
       "      <td>1</td>\n",
       "    </tr>\n",
       "    <tr>\n",
       "      <th>72</th>\n",
       "      <td>01</td>\n",
       "      <td>2020-03-22</td>\n",
       "      <td>4</td>\n",
       "      <td>0</td>\n",
       "    </tr>\n",
       "  </tbody>\n",
       "</table>\n",
       "</div>"
      ],
      "text/plain": [
       "   dep        jour  nb_test  nb_pos\n",
       "48  01  2020-03-18       37       8\n",
       "54  01  2020-03-19       82      13\n",
       "60  01  2020-03-20       44       9\n",
       "66  01  2020-03-21       13       1\n",
       "72  01  2020-03-22        4       0"
      ]
     },
     "execution_count": 104,
     "metadata": {},
     "output_type": "execute_result"
    }
   ],
   "source": [
    "df_test1=df_test1.drop(df_test1[df_test1[\"clage_covid\"] != \"0\"].index)\n",
    "df_test1=df_test1.drop(\"clage_covid\",axis=1)\n",
    "df_test1.head()"
   ]
  },
  {
   "cell_type": "markdown",
   "metadata": {},
   "source": [
    "2. **Dataset after 2020-05-12**"
   ]
  },
  {
   "cell_type": "code",
   "execution_count": 105,
   "metadata": {},
   "outputs": [
    {
     "data": {
      "text/html": [
       "<div>\n",
       "<style scoped>\n",
       "    .dataframe tbody tr th:only-of-type {\n",
       "        vertical-align: middle;\n",
       "    }\n",
       "\n",
       "    .dataframe tbody tr th {\n",
       "        vertical-align: top;\n",
       "    }\n",
       "\n",
       "    .dataframe thead th {\n",
       "        text-align: right;\n",
       "    }\n",
       "</style>\n",
       "<table border=\"1\" class=\"dataframe\">\n",
       "  <thead>\n",
       "    <tr style=\"text-align: right;\">\n",
       "      <th></th>\n",
       "      <th>dep</th>\n",
       "      <th>jour</th>\n",
       "      <th>P</th>\n",
       "      <th>T</th>\n",
       "      <th>cl_age90</th>\n",
       "    </tr>\n",
       "  </thead>\n",
       "  <tbody>\n",
       "    <tr>\n",
       "      <th>0</th>\n",
       "      <td>01</td>\n",
       "      <td>2020-05-13</td>\n",
       "      <td>0</td>\n",
       "      <td>16</td>\n",
       "      <td>9</td>\n",
       "    </tr>\n",
       "    <tr>\n",
       "      <th>1</th>\n",
       "      <td>01</td>\n",
       "      <td>2020-05-13</td>\n",
       "      <td>1</td>\n",
       "      <td>16</td>\n",
       "      <td>19</td>\n",
       "    </tr>\n",
       "    <tr>\n",
       "      <th>2</th>\n",
       "      <td>01</td>\n",
       "      <td>2020-05-13</td>\n",
       "      <td>0</td>\n",
       "      <td>31</td>\n",
       "      <td>29</td>\n",
       "    </tr>\n",
       "    <tr>\n",
       "      <th>3</th>\n",
       "      <td>01</td>\n",
       "      <td>2020-05-13</td>\n",
       "      <td>1</td>\n",
       "      <td>71</td>\n",
       "      <td>39</td>\n",
       "    </tr>\n",
       "    <tr>\n",
       "      <th>4</th>\n",
       "      <td>01</td>\n",
       "      <td>2020-05-13</td>\n",
       "      <td>0</td>\n",
       "      <td>52</td>\n",
       "      <td>49</td>\n",
       "    </tr>\n",
       "  </tbody>\n",
       "</table>\n",
       "</div>"
      ],
      "text/plain": [
       "  dep        jour  P   T  cl_age90\n",
       "0  01  2020-05-13  0  16         9\n",
       "1  01  2020-05-13  1  16        19\n",
       "2  01  2020-05-13  0  31        29\n",
       "3  01  2020-05-13  1  71        39\n",
       "4  01  2020-05-13  0  52        49"
      ]
     },
     "execution_count": 105,
     "metadata": {},
     "output_type": "execute_result"
    }
   ],
   "source": [
    "url_test2=\"https://www.data.gouv.fr/fr/datasets/r/406c6a23-e283-4300-9484-54e78c8ae675\"\n",
    "dtype={'dep': str,'P':int,'T':int,'cl_age':int}\n",
    "df_test2=pd.read_csv(url_test2,sep = ';',dtype=dtype)\n",
    "df_test2.head()"
   ]
  },
  {
   "cell_type": "code",
   "execution_count": 106,
   "metadata": {},
   "outputs": [
    {
     "data": {
      "text/html": [
       "<div>\n",
       "<style scoped>\n",
       "    .dataframe tbody tr th:only-of-type {\n",
       "        vertical-align: middle;\n",
       "    }\n",
       "\n",
       "    .dataframe tbody tr th {\n",
       "        vertical-align: top;\n",
       "    }\n",
       "\n",
       "    .dataframe thead th {\n",
       "        text-align: right;\n",
       "    }\n",
       "</style>\n",
       "<table border=\"1\" class=\"dataframe\">\n",
       "  <thead>\n",
       "    <tr style=\"text-align: right;\">\n",
       "      <th></th>\n",
       "      <th>dep</th>\n",
       "      <th>jour</th>\n",
       "      <th>P</th>\n",
       "      <th>T</th>\n",
       "      <th>cl_age90</th>\n",
       "    </tr>\n",
       "  </thead>\n",
       "  <tbody>\n",
       "    <tr>\n",
       "      <th>147675</th>\n",
       "      <td>75</td>\n",
       "      <td>2020-05-13</td>\n",
       "      <td>0</td>\n",
       "      <td>62</td>\n",
       "      <td>9</td>\n",
       "    </tr>\n",
       "    <tr>\n",
       "      <th>147676</th>\n",
       "      <td>75</td>\n",
       "      <td>2020-05-13</td>\n",
       "      <td>0</td>\n",
       "      <td>40</td>\n",
       "      <td>19</td>\n",
       "    </tr>\n",
       "    <tr>\n",
       "      <th>147677</th>\n",
       "      <td>75</td>\n",
       "      <td>2020-05-13</td>\n",
       "      <td>6</td>\n",
       "      <td>188</td>\n",
       "      <td>29</td>\n",
       "    </tr>\n",
       "    <tr>\n",
       "      <th>147678</th>\n",
       "      <td>75</td>\n",
       "      <td>2020-05-13</td>\n",
       "      <td>2</td>\n",
       "      <td>234</td>\n",
       "      <td>39</td>\n",
       "    </tr>\n",
       "    <tr>\n",
       "      <th>147679</th>\n",
       "      <td>75</td>\n",
       "      <td>2020-05-13</td>\n",
       "      <td>2</td>\n",
       "      <td>206</td>\n",
       "      <td>49</td>\n",
       "    </tr>\n",
       "    <tr>\n",
       "      <th>...</th>\n",
       "      <td>...</td>\n",
       "      <td>...</td>\n",
       "      <td>...</td>\n",
       "      <td>...</td>\n",
       "      <td>...</td>\n",
       "    </tr>\n",
       "    <tr>\n",
       "      <th>149639</th>\n",
       "      <td>75</td>\n",
       "      <td>2020-11-07</td>\n",
       "      <td>26</td>\n",
       "      <td>222</td>\n",
       "      <td>69</td>\n",
       "    </tr>\n",
       "    <tr>\n",
       "      <th>149640</th>\n",
       "      <td>75</td>\n",
       "      <td>2020-11-07</td>\n",
       "      <td>16</td>\n",
       "      <td>122</td>\n",
       "      <td>79</td>\n",
       "    </tr>\n",
       "    <tr>\n",
       "      <th>149641</th>\n",
       "      <td>75</td>\n",
       "      <td>2020-11-07</td>\n",
       "      <td>13</td>\n",
       "      <td>67</td>\n",
       "      <td>89</td>\n",
       "    </tr>\n",
       "    <tr>\n",
       "      <th>149642</th>\n",
       "      <td>75</td>\n",
       "      <td>2020-11-07</td>\n",
       "      <td>8</td>\n",
       "      <td>21</td>\n",
       "      <td>90</td>\n",
       "    </tr>\n",
       "    <tr>\n",
       "      <th>149643</th>\n",
       "      <td>75</td>\n",
       "      <td>2020-11-07</td>\n",
       "      <td>248</td>\n",
       "      <td>1904</td>\n",
       "      <td>0</td>\n",
       "    </tr>\n",
       "  </tbody>\n",
       "</table>\n",
       "<p>1969 rows × 5 columns</p>\n",
       "</div>"
      ],
      "text/plain": [
       "       dep        jour    P     T  cl_age90\n",
       "147675  75  2020-05-13    0    62         9\n",
       "147676  75  2020-05-13    0    40        19\n",
       "147677  75  2020-05-13    6   188        29\n",
       "147678  75  2020-05-13    2   234        39\n",
       "147679  75  2020-05-13    2   206        49\n",
       "...     ..         ...  ...   ...       ...\n",
       "149639  75  2020-11-07   26   222        69\n",
       "149640  75  2020-11-07   16   122        79\n",
       "149641  75  2020-11-07   13    67        89\n",
       "149642  75  2020-11-07    8    21        90\n",
       "149643  75  2020-11-07  248  1904         0\n",
       "\n",
       "[1969 rows x 5 columns]"
      ]
     },
     "execution_count": 106,
     "metadata": {},
     "output_type": "execute_result"
    }
   ],
   "source": [
    "df_test2.loc[df_test2['dep'] == '75']"
   ]
  },
  {
   "cell_type": "code",
   "execution_count": 107,
   "metadata": {},
   "outputs": [],
   "source": [
    "df_test2=df_test2.rename(columns={'P':'nb_pos','T':'nb_test'})\n",
    "df_test2=df_test2.drop(\"cl_age90\",axis=1)"
   ]
  },
  {
   "cell_type": "code",
   "execution_count": 108,
   "metadata": {},
   "outputs": [
    {
     "data": {
      "text/html": [
       "<div>\n",
       "<style scoped>\n",
       "    .dataframe tbody tr th:only-of-type {\n",
       "        vertical-align: middle;\n",
       "    }\n",
       "\n",
       "    .dataframe tbody tr th {\n",
       "        vertical-align: top;\n",
       "    }\n",
       "\n",
       "    .dataframe thead th {\n",
       "        text-align: right;\n",
       "    }\n",
       "</style>\n",
       "<table border=\"1\" class=\"dataframe\">\n",
       "  <thead>\n",
       "    <tr style=\"text-align: right;\">\n",
       "      <th></th>\n",
       "      <th>dep</th>\n",
       "      <th>jour</th>\n",
       "      <th>nb_pos</th>\n",
       "      <th>nb_test</th>\n",
       "    </tr>\n",
       "  </thead>\n",
       "  <tbody>\n",
       "    <tr>\n",
       "      <th>10</th>\n",
       "      <td>01</td>\n",
       "      <td>2020-05-13</td>\n",
       "      <td>9</td>\n",
       "      <td>324</td>\n",
       "    </tr>\n",
       "    <tr>\n",
       "      <th>21</th>\n",
       "      <td>01</td>\n",
       "      <td>2020-05-14</td>\n",
       "      <td>9</td>\n",
       "      <td>428</td>\n",
       "    </tr>\n",
       "    <tr>\n",
       "      <th>32</th>\n",
       "      <td>01</td>\n",
       "      <td>2020-05-15</td>\n",
       "      <td>5</td>\n",
       "      <td>438</td>\n",
       "    </tr>\n",
       "    <tr>\n",
       "      <th>43</th>\n",
       "      <td>01</td>\n",
       "      <td>2020-05-16</td>\n",
       "      <td>0</td>\n",
       "      <td>142</td>\n",
       "    </tr>\n",
       "    <tr>\n",
       "      <th>54</th>\n",
       "      <td>01</td>\n",
       "      <td>2020-05-17</td>\n",
       "      <td>0</td>\n",
       "      <td>30</td>\n",
       "    </tr>\n",
       "  </tbody>\n",
       "</table>\n",
       "</div>"
      ],
      "text/plain": [
       "   dep        jour  nb_pos  nb_test\n",
       "10  01  2020-05-13       9      324\n",
       "21  01  2020-05-14       9      428\n",
       "32  01  2020-05-15       5      438\n",
       "43  01  2020-05-16       0      142\n",
       "54  01  2020-05-17       0       30"
      ]
     },
     "execution_count": 108,
     "metadata": {},
     "output_type": "execute_result"
    }
   ],
   "source": [
    "df_test2=df_test2.groupby([\"dep\",\"jour\"]).tail(1)\n",
    "df_test2.head()"
   ]
  },
  {
   "cell_type": "markdown",
   "metadata": {},
   "source": [
    "3. **Merge in one dataset**"
   ]
  },
  {
   "cell_type": "code",
   "execution_count": 109,
   "metadata": {},
   "outputs": [
    {
     "data": {
      "text/html": [
       "<div>\n",
       "<style scoped>\n",
       "    .dataframe tbody tr th:only-of-type {\n",
       "        vertical-align: middle;\n",
       "    }\n",
       "\n",
       "    .dataframe tbody tr th {\n",
       "        vertical-align: top;\n",
       "    }\n",
       "\n",
       "    .dataframe thead th {\n",
       "        text-align: right;\n",
       "    }\n",
       "</style>\n",
       "<table border=\"1\" class=\"dataframe\">\n",
       "  <thead>\n",
       "    <tr style=\"text-align: right;\">\n",
       "      <th></th>\n",
       "      <th>dep</th>\n",
       "      <th>jour</th>\n",
       "      <th>nb_test</th>\n",
       "      <th>nb_pos</th>\n",
       "      <th>nb_test_cum</th>\n",
       "      <th>nb_pos_cum</th>\n",
       "    </tr>\n",
       "  </thead>\n",
       "  <tbody>\n",
       "    <tr>\n",
       "      <th>0</th>\n",
       "      <td>01</td>\n",
       "      <td>2020-03-18</td>\n",
       "      <td>37</td>\n",
       "      <td>8</td>\n",
       "      <td>37</td>\n",
       "      <td>8</td>\n",
       "    </tr>\n",
       "    <tr>\n",
       "      <th>1</th>\n",
       "      <td>01</td>\n",
       "      <td>2020-03-19</td>\n",
       "      <td>82</td>\n",
       "      <td>13</td>\n",
       "      <td>119</td>\n",
       "      <td>21</td>\n",
       "    </tr>\n",
       "    <tr>\n",
       "      <th>2</th>\n",
       "      <td>01</td>\n",
       "      <td>2020-03-20</td>\n",
       "      <td>44</td>\n",
       "      <td>9</td>\n",
       "      <td>163</td>\n",
       "      <td>30</td>\n",
       "    </tr>\n",
       "    <tr>\n",
       "      <th>3</th>\n",
       "      <td>01</td>\n",
       "      <td>2020-03-21</td>\n",
       "      <td>13</td>\n",
       "      <td>1</td>\n",
       "      <td>176</td>\n",
       "      <td>31</td>\n",
       "    </tr>\n",
       "    <tr>\n",
       "      <th>4</th>\n",
       "      <td>01</td>\n",
       "      <td>2020-03-22</td>\n",
       "      <td>4</td>\n",
       "      <td>0</td>\n",
       "      <td>180</td>\n",
       "      <td>31</td>\n",
       "    </tr>\n",
       "  </tbody>\n",
       "</table>\n",
       "</div>"
      ],
      "text/plain": [
       "  dep        jour  nb_test  nb_pos  nb_test_cum  nb_pos_cum\n",
       "0  01  2020-03-18       37       8           37           8\n",
       "1  01  2020-03-19       82      13          119          21\n",
       "2  01  2020-03-20       44       9          163          30\n",
       "3  01  2020-03-21       13       1          176          31\n",
       "4  01  2020-03-22        4       0          180          31"
      ]
     },
     "execution_count": 109,
     "metadata": {},
     "output_type": "execute_result"
    }
   ],
   "source": [
    "df_test = pd.concat([df_test1,df_test2],ignore_index=True)\n",
    "df_test['nb_test_cum']=df_test.groupby(\"dep\")['nb_test'].cumsum()\n",
    "df_test['nb_pos_cum']=df_test.groupby(\"dep\")['nb_pos'].cumsum()\n",
    "df_test.head()"
   ]
  },
  {
   "cell_type": "markdown",
   "metadata": {},
   "source": [
    "## **Hospital dataset**"
   ]
  },
  {
   "cell_type": "code",
   "execution_count": 110,
   "metadata": {},
   "outputs": [
    {
     "data": {
      "text/html": [
       "<div>\n",
       "<style scoped>\n",
       "    .dataframe tbody tr th:only-of-type {\n",
       "        vertical-align: middle;\n",
       "    }\n",
       "\n",
       "    .dataframe tbody tr th {\n",
       "        vertical-align: top;\n",
       "    }\n",
       "\n",
       "    .dataframe thead th {\n",
       "        text-align: right;\n",
       "    }\n",
       "</style>\n",
       "<table border=\"1\" class=\"dataframe\">\n",
       "  <thead>\n",
       "    <tr style=\"text-align: right;\">\n",
       "      <th></th>\n",
       "      <th>dep</th>\n",
       "      <th>sexe</th>\n",
       "      <th>jour</th>\n",
       "      <th>hosp</th>\n",
       "      <th>rea</th>\n",
       "      <th>rad</th>\n",
       "      <th>dc</th>\n",
       "    </tr>\n",
       "  </thead>\n",
       "  <tbody>\n",
       "    <tr>\n",
       "      <th>0</th>\n",
       "      <td>01</td>\n",
       "      <td>0</td>\n",
       "      <td>2020-03-18</td>\n",
       "      <td>2</td>\n",
       "      <td>0</td>\n",
       "      <td>1</td>\n",
       "      <td>0</td>\n",
       "    </tr>\n",
       "    <tr>\n",
       "      <th>1</th>\n",
       "      <td>01</td>\n",
       "      <td>1</td>\n",
       "      <td>2020-03-18</td>\n",
       "      <td>1</td>\n",
       "      <td>0</td>\n",
       "      <td>1</td>\n",
       "      <td>0</td>\n",
       "    </tr>\n",
       "    <tr>\n",
       "      <th>2</th>\n",
       "      <td>01</td>\n",
       "      <td>2</td>\n",
       "      <td>2020-03-18</td>\n",
       "      <td>1</td>\n",
       "      <td>0</td>\n",
       "      <td>0</td>\n",
       "      <td>0</td>\n",
       "    </tr>\n",
       "    <tr>\n",
       "      <th>3</th>\n",
       "      <td>02</td>\n",
       "      <td>0</td>\n",
       "      <td>2020-03-18</td>\n",
       "      <td>41</td>\n",
       "      <td>10</td>\n",
       "      <td>18</td>\n",
       "      <td>11</td>\n",
       "    </tr>\n",
       "    <tr>\n",
       "      <th>4</th>\n",
       "      <td>02</td>\n",
       "      <td>1</td>\n",
       "      <td>2020-03-18</td>\n",
       "      <td>19</td>\n",
       "      <td>4</td>\n",
       "      <td>11</td>\n",
       "      <td>6</td>\n",
       "    </tr>\n",
       "  </tbody>\n",
       "</table>\n",
       "</div>"
      ],
      "text/plain": [
       "  dep  sexe        jour  hosp  rea  rad  dc\n",
       "0  01     0  2020-03-18     2    0    1   0\n",
       "1  01     1  2020-03-18     1    0    1   0\n",
       "2  01     2  2020-03-18     1    0    0   0\n",
       "3  02     0  2020-03-18    41   10   18  11\n",
       "4  02     1  2020-03-18    19    4   11   6"
      ]
     },
     "execution_count": 110,
     "metadata": {},
     "output_type": "execute_result"
    }
   ],
   "source": [
    "url2=\"https://www.data.gouv.fr/fr/datasets/r/63352e38-d353-4b54-bfd1-f1b3ee1cabd7\"\n",
    "df_hospital = pd.read_csv(url2,sep=';')\n",
    "df_hospital.head()"
   ]
  },
  {
   "cell_type": "code",
   "execution_count": 111,
   "metadata": {},
   "outputs": [
    {
     "data": {
      "text/html": [
       "<div>\n",
       "<style scoped>\n",
       "    .dataframe tbody tr th:only-of-type {\n",
       "        vertical-align: middle;\n",
       "    }\n",
       "\n",
       "    .dataframe tbody tr th {\n",
       "        vertical-align: top;\n",
       "    }\n",
       "\n",
       "    .dataframe thead th {\n",
       "        text-align: right;\n",
       "    }\n",
       "</style>\n",
       "<table border=\"1\" class=\"dataframe\">\n",
       "  <thead>\n",
       "    <tr style=\"text-align: right;\">\n",
       "      <th></th>\n",
       "      <th>dep</th>\n",
       "      <th>jour</th>\n",
       "      <th>hosp</th>\n",
       "      <th>rea</th>\n",
       "      <th>rad</th>\n",
       "      <th>dc</th>\n",
       "    </tr>\n",
       "  </thead>\n",
       "  <tbody>\n",
       "    <tr>\n",
       "      <th>0</th>\n",
       "      <td>01</td>\n",
       "      <td>2020-03-18</td>\n",
       "      <td>2</td>\n",
       "      <td>0</td>\n",
       "      <td>1</td>\n",
       "      <td>0</td>\n",
       "    </tr>\n",
       "    <tr>\n",
       "      <th>1</th>\n",
       "      <td>02</td>\n",
       "      <td>2020-03-18</td>\n",
       "      <td>41</td>\n",
       "      <td>10</td>\n",
       "      <td>18</td>\n",
       "      <td>11</td>\n",
       "    </tr>\n",
       "    <tr>\n",
       "      <th>2</th>\n",
       "      <td>03</td>\n",
       "      <td>2020-03-18</td>\n",
       "      <td>4</td>\n",
       "      <td>0</td>\n",
       "      <td>1</td>\n",
       "      <td>0</td>\n",
       "    </tr>\n",
       "    <tr>\n",
       "      <th>3</th>\n",
       "      <td>04</td>\n",
       "      <td>2020-03-18</td>\n",
       "      <td>3</td>\n",
       "      <td>1</td>\n",
       "      <td>2</td>\n",
       "      <td>0</td>\n",
       "    </tr>\n",
       "    <tr>\n",
       "      <th>4</th>\n",
       "      <td>05</td>\n",
       "      <td>2020-03-18</td>\n",
       "      <td>8</td>\n",
       "      <td>1</td>\n",
       "      <td>9</td>\n",
       "      <td>0</td>\n",
       "    </tr>\n",
       "  </tbody>\n",
       "</table>\n",
       "</div>"
      ],
      "text/plain": [
       "  dep        jour  hosp  rea  rad  dc\n",
       "0  01  2020-03-18     2    0    1   0\n",
       "1  02  2020-03-18    41   10   18  11\n",
       "2  03  2020-03-18     4    0    1   0\n",
       "3  04  2020-03-18     3    1    2   0\n",
       "4  05  2020-03-18     8    1    9   0"
      ]
     },
     "execution_count": 111,
     "metadata": {},
     "output_type": "execute_result"
    }
   ],
   "source": [
    "df_hospital = df_hospital.drop(df_hospital[(df_hospital[\"sexe\"]==1) | (df_hospital[\"sexe\"]==2 ) ].index).reset_index(drop=True)\n",
    "df_hospital = df_hospital.drop([\"sexe\"],axis=1)\n",
    "df_hospital.head()"
   ]
  },
  {
   "cell_type": "markdown",
   "metadata": {},
   "source": [
    "## **Create departement longitude/latitude Dataframe**"
   ]
  },
  {
   "cell_type": "markdown",
   "metadata": {},
   "source": [
    "Source: <a href=\"https://www.ign.fr/sites/default/files/2020-09/Quels%20sont%20les%20centres%20des%2096%20d%C3%A9partements%20m%C3%A9tropolitains.pdf\" target=\"_blank\">https://www.ign.fr/sites/default/files/2020-09/Quels%20sont%20les%20centres%20des%2096%20d%C3%A9partements%20m%C3%A9tropolitains.pdf</a>\n",
    "\n",
    "Source: <a href=\"https://www.coordonnees-gps.fr/\" target=\"_blank\">https://www.coordonnees-gps.fr/</a>"
   ]
  },
  {
   "cell_type": "code",
   "execution_count": 112,
   "metadata": {},
   "outputs": [
    {
     "name": "stdout",
     "output_type": "stream",
     "text": [
      "['01' '02' '03' '04' '05' '06' '07' '08' '09' '10' '11' '12' '13' '14'\n",
      " '15' '16' '17' '18' '19' '21' '22' '23' '24' '25' '26' '27' '28' '29'\n",
      " '2A' '2B' '30' '31' '32' '33' '34' '35' '36' '37' '38' '39' '40' '41'\n",
      " '42' '43' '44' '45' '46' '47' '48' '49' '50' '51' '52' '53' '54' '55'\n",
      " '56' '57' '58' '59' '60' '61' '62' '63' '64' '65' '66' '67' '68' '69'\n",
      " '70' '71' '72' '73' '74' '75' '76' '77' '78' '79' '80' '81' '82' '83'\n",
      " '84' '85' '86' '87' '88' '89' '90' '91' '92' '93' '94' '95' '971' '972'\n",
      " '973' '974' '976' '975' '977' '978']\n"
     ]
    }
   ],
   "source": [
    "departements= df_test[\"dep\"].unique()\n",
    "zoom_dep=[7.5]*len(departements)\n",
    "print(departements)"
   ]
  },
  {
   "cell_type": "code",
   "execution_count": 113,
   "metadata": {},
   "outputs": [
    {
     "name": "stdout",
     "output_type": "stream",
     "text": [
      "104\n"
     ]
    },
    {
     "data": {
      "text/html": [
       "<div>\n",
       "<style scoped>\n",
       "    .dataframe tbody tr th:only-of-type {\n",
       "        vertical-align: middle;\n",
       "    }\n",
       "\n",
       "    .dataframe tbody tr th {\n",
       "        vertical-align: top;\n",
       "    }\n",
       "\n",
       "    .dataframe thead th {\n",
       "        text-align: right;\n",
       "    }\n",
       "</style>\n",
       "<table border=\"1\" class=\"dataframe\">\n",
       "  <thead>\n",
       "    <tr style=\"text-align: right;\">\n",
       "      <th></th>\n",
       "      <th>dep</th>\n",
       "      <th>dep_name</th>\n",
       "      <th>lat</th>\n",
       "      <th>long</th>\n",
       "      <th>zoom</th>\n",
       "    </tr>\n",
       "  </thead>\n",
       "  <tbody>\n",
       "    <tr>\n",
       "      <th>99</th>\n",
       "      <td>974</td>\n",
       "      <td>La Réunion</td>\n",
       "      <td>-20.88</td>\n",
       "      <td>55.45</td>\n",
       "      <td>7.5</td>\n",
       "    </tr>\n",
       "    <tr>\n",
       "      <th>100</th>\n",
       "      <td>976</td>\n",
       "      <td>Mayotte</td>\n",
       "      <td>-12.77</td>\n",
       "      <td>45.22</td>\n",
       "      <td>7.5</td>\n",
       "    </tr>\n",
       "    <tr>\n",
       "      <th>101</th>\n",
       "      <td>975</td>\n",
       "      <td>Saint-Pierre-et-Miquelon</td>\n",
       "      <td>46.78</td>\n",
       "      <td>-56.19</td>\n",
       "      <td>7.5</td>\n",
       "    </tr>\n",
       "    <tr>\n",
       "      <th>102</th>\n",
       "      <td>977</td>\n",
       "      <td>Saint-Barthélémy</td>\n",
       "      <td>17.90</td>\n",
       "      <td>-62.81</td>\n",
       "      <td>7.5</td>\n",
       "    </tr>\n",
       "    <tr>\n",
       "      <th>103</th>\n",
       "      <td>978</td>\n",
       "      <td>Saint-Martin</td>\n",
       "      <td>18.06</td>\n",
       "      <td>-63.08</td>\n",
       "      <td>7.5</td>\n",
       "    </tr>\n",
       "  </tbody>\n",
       "</table>\n",
       "</div>"
      ],
      "text/plain": [
       "     dep                  dep_name    lat   long  zoom\n",
       "99   974                La Réunion -20.88  55.45   7.5\n",
       "100  976                   Mayotte -12.77  45.22   7.5\n",
       "101  975  Saint-Pierre-et-Miquelon  46.78 -56.19   7.5\n",
       "102  977          Saint-Barthélémy  17.90 -62.81   7.5\n",
       "103  978              Saint-Martin  18.06 -63.08   7.5"
      ]
     },
     "execution_count": 113,
     "metadata": {},
     "output_type": "execute_result"
    }
   ],
   "source": [
    "data={'dep':departements,\n",
    "      'dep_name':['Ain','Aisne','Allier','Alpes-de-Haute-Provence','Hautes-Alpes','Alpes_Maritimes','Ardeche','Ardennes','Ariege','Aube','Aude','Aveyron','Bouches-du-Rhône','Calvados','Cantal','Charente','Charente-Maritime','Cher','Correze',\"Côte-d'Or\",\"Côtes-D'Armor\",\"Creuse\",\"Dordogne\",\"Doubs\",\"Drome\",\"Eure\",\"Eure-et-Loire\",\"Finistère\",\"Corde-du-Sud\",\"Haute-Corse\",\"Gard\",\"Haute-Garonne\",\"Gers\",\"Gironde\",\"Hérault\",\"Ille-et-Vilaine\",\"Indre\",\"Indre-et-Loire\",\"Isère\",\"Jura\",\"Landes\",\"Loir-et-Cher\",\"Loire\",\"Haute-Loire\",\"Loire-Atlantique\",\"Loiret\",\"Lot\",\"Lot-et-Garonne\",\"Lozère\",\"Manne-et-Loire\",\"Manche\",\"Marne\",\"Haute-Marne\",\"Mayenne\",\"Meurthe-et-Moselle\",\"Meuse\",\"Morbihan\",\"Moselle\",\"Nièvre\",\"Nord\",\"Oise\",\"Orne\",\"Pas-de-Calais\",\"Puy-de-Dôme\",\"Pyrénées-Altantiques\",\"Hautes-Pyrénées\",\"Pyrénées-Orientales\",\"Bas-Rhin\",\"Haut-Rhin\",\"Rhone\",\"Haute-Saône\",\"Saône-et-Loire\",\"Sarthe\",\"Savoie\",\"Haute-Savoie\",\"Paris\",\"Seine-Maritime\",\"Seine-et-Marne\",\"Yvellines\",\"Deux-Sèvres\",\"Somme\",\"Tarn\",\"Tarn-et-Garonne\",\"Var\",\"Vaucluse\",\"Vendée\",\"Vienne\",\"Haute-Vienne\",\"Vosges\",\"Yonne\",\"Territoire de Belfort\",\"Essonne\",\"Hauts-de-Seine\",\"Seine-Saint_Denis\",\"Val-de-Marne\",\"Val-d'Oise\",\"Guadeloupe\",\"Martinique\",\"Guyane\",\"La Réunion\",\"Mayotte\",\"Saint-Pierre-et-Miquelon\",\"Saint-Barthélémy\",\"Saint-Martin\"],\n",
    "      'lat':[46.1,49.55,44.1,44.09,44.66,43.94,44.73,49.61,42.94,48.31,43.10,44.28,43.54,49.10,45.01,45.71,45.76,47.07,45.34,47.43,48.44,46.08,45.13,47.16,44.68,49.10,48.39,48.27,41.88,42.37,43.99,43.35,43.68,44.84,43.90,48.18,46.80,47.24,45.27,46.73,43.96,47.61,45.72,45.13,47.38,47.85,44.63,44.37,44.51,47.39,49.08,48.38,48.09,48.12,48.79,49.00,47.85,49.02,47.10,50.45,49.39,48.61,50.49,45.73,43.28,43.05,42.61,48.65,47.86,45.86,47.63,46.64,48.00,45.47,46.04,48.85,49.65,48.60,48.97,46.53,49.97,43.77,44.07,43.47,43.99,46.67,46.55,45.87,48.19,47.84,47.62,48.52,48.83,48.90,48.77,49.07,16.00,14.60,4.93,-20.88,-12.77,46.78,17.90,18.06],\n",
    "      'long':[5.33,3.56,2.35,6.23,6.21,7.12,4.41,4.61,1.53,4.14,2.35,2.72,5.03,-0.37,2.66,0.20,-0.71,2.52,1.81,4.78,-2.85,2.04,0.70,6.37,5.15,1.00,1.36,-4.04,8.97,9.23,4.17,1.23,0.45,-0.58,4.47,-1.64,1.62,0.69,5.61,5.69,-0.80,1.41,4.16,3.81,-1.71,2.26,1.59,0.46,3.49,-0.53,-1.34,7.47,5.15,-0.67,6.16,5.39,-2.83,6.65,3.51,3.20,2.42,0.11,2.27,3.14,-0.75,0.16,2.51,7.56,7.27,4.66,6.07,4.53,0.19,6.45,6.44,2.35,1.04,2.97,1.97,-0.32,2.29,2.18,1.28,6.18,5.14,-1.28,0.50,1.23,6.37,3.57,6.92,2.26,2.24,2.48,2.45,2.17,-61.73,-61.06,-52.32,55.45,45.22,-56.19,-62.81,-63.08],\n",
    "      'zoom':zoom_dep\n",
    "     }\n",
    "print(len(data['dep_name']))\n",
    "df_coord = pd.DataFrame(data,columns=['dep','dep_name','lat','long','zoom'])\n",
    "df_coord.tail()"
   ]
  },
  {
   "cell_type": "markdown",
   "metadata": {},
   "source": [
    "## **Complete Dataset**"
   ]
  },
  {
   "cell_type": "code",
   "execution_count": 114,
   "metadata": {},
   "outputs": [],
   "source": [
    "df_dep = pd.merge(df_hospital,df_test,on=['dep','jour'])\n",
    "df_dep = pd.merge(df_dep,df_coord,on=['dep'])\n",
    "df_dep=df_dep.sort_values(['dep','jour'])"
   ]
  },
  {
   "cell_type": "code",
   "execution_count": 115,
   "metadata": {},
   "outputs": [
    {
     "data": {
      "text/html": [
       "<div>\n",
       "<style scoped>\n",
       "    .dataframe tbody tr th:only-of-type {\n",
       "        vertical-align: middle;\n",
       "    }\n",
       "\n",
       "    .dataframe tbody tr th {\n",
       "        vertical-align: top;\n",
       "    }\n",
       "\n",
       "    .dataframe thead th {\n",
       "        text-align: right;\n",
       "    }\n",
       "</style>\n",
       "<table border=\"1\" class=\"dataframe\">\n",
       "  <thead>\n",
       "    <tr style=\"text-align: right;\">\n",
       "      <th></th>\n",
       "      <th>dep</th>\n",
       "      <th>jour</th>\n",
       "      <th>hosp</th>\n",
       "      <th>rea</th>\n",
       "      <th>rad</th>\n",
       "      <th>dc</th>\n",
       "      <th>nb_test</th>\n",
       "      <th>nb_pos</th>\n",
       "      <th>nb_test_cum</th>\n",
       "      <th>nb_pos_cum</th>\n",
       "      <th>dep_name</th>\n",
       "      <th>lat</th>\n",
       "      <th>long</th>\n",
       "      <th>zoom</th>\n",
       "    </tr>\n",
       "  </thead>\n",
       "  <tbody>\n",
       "    <tr>\n",
       "      <th>0</th>\n",
       "      <td>01</td>\n",
       "      <td>2020-03-18</td>\n",
       "      <td>2</td>\n",
       "      <td>0</td>\n",
       "      <td>1</td>\n",
       "      <td>0</td>\n",
       "      <td>37</td>\n",
       "      <td>8</td>\n",
       "      <td>37</td>\n",
       "      <td>8</td>\n",
       "      <td>Ain</td>\n",
       "      <td>46.1</td>\n",
       "      <td>5.33</td>\n",
       "      <td>7.5</td>\n",
       "    </tr>\n",
       "    <tr>\n",
       "      <th>1</th>\n",
       "      <td>01</td>\n",
       "      <td>2020-03-19</td>\n",
       "      <td>2</td>\n",
       "      <td>0</td>\n",
       "      <td>1</td>\n",
       "      <td>0</td>\n",
       "      <td>82</td>\n",
       "      <td>13</td>\n",
       "      <td>119</td>\n",
       "      <td>21</td>\n",
       "      <td>Ain</td>\n",
       "      <td>46.1</td>\n",
       "      <td>5.33</td>\n",
       "      <td>7.5</td>\n",
       "    </tr>\n",
       "    <tr>\n",
       "      <th>2</th>\n",
       "      <td>01</td>\n",
       "      <td>2020-03-20</td>\n",
       "      <td>2</td>\n",
       "      <td>0</td>\n",
       "      <td>1</td>\n",
       "      <td>0</td>\n",
       "      <td>44</td>\n",
       "      <td>9</td>\n",
       "      <td>163</td>\n",
       "      <td>30</td>\n",
       "      <td>Ain</td>\n",
       "      <td>46.1</td>\n",
       "      <td>5.33</td>\n",
       "      <td>7.5</td>\n",
       "    </tr>\n",
       "    <tr>\n",
       "      <th>3</th>\n",
       "      <td>01</td>\n",
       "      <td>2020-03-21</td>\n",
       "      <td>4</td>\n",
       "      <td>0</td>\n",
       "      <td>1</td>\n",
       "      <td>0</td>\n",
       "      <td>13</td>\n",
       "      <td>1</td>\n",
       "      <td>176</td>\n",
       "      <td>31</td>\n",
       "      <td>Ain</td>\n",
       "      <td>46.1</td>\n",
       "      <td>5.33</td>\n",
       "      <td>7.5</td>\n",
       "    </tr>\n",
       "    <tr>\n",
       "      <th>4</th>\n",
       "      <td>01</td>\n",
       "      <td>2020-03-22</td>\n",
       "      <td>8</td>\n",
       "      <td>1</td>\n",
       "      <td>2</td>\n",
       "      <td>0</td>\n",
       "      <td>4</td>\n",
       "      <td>0</td>\n",
       "      <td>180</td>\n",
       "      <td>31</td>\n",
       "      <td>Ain</td>\n",
       "      <td>46.1</td>\n",
       "      <td>5.33</td>\n",
       "      <td>7.5</td>\n",
       "    </tr>\n",
       "  </tbody>\n",
       "</table>\n",
       "</div>"
      ],
      "text/plain": [
       "  dep        jour  hosp  rea  rad  dc  nb_test  nb_pos  nb_test_cum  \\\n",
       "0  01  2020-03-18     2    0    1   0       37       8           37   \n",
       "1  01  2020-03-19     2    0    1   0       82      13          119   \n",
       "2  01  2020-03-20     2    0    1   0       44       9          163   \n",
       "3  01  2020-03-21     4    0    1   0       13       1          176   \n",
       "4  01  2020-03-22     8    1    2   0        4       0          180   \n",
       "\n",
       "   nb_pos_cum dep_name   lat  long  zoom  \n",
       "0           8      Ain  46.1  5.33   7.5  \n",
       "1          21      Ain  46.1  5.33   7.5  \n",
       "2          30      Ain  46.1  5.33   7.5  \n",
       "3          31      Ain  46.1  5.33   7.5  \n",
       "4          31      Ain  46.1  5.33   7.5  "
      ]
     },
     "execution_count": 115,
     "metadata": {},
     "output_type": "execute_result"
    }
   ],
   "source": [
    "df_dep.head()"
   ]
  },
  {
   "cell_type": "code",
   "execution_count": 116,
   "metadata": {},
   "outputs": [
    {
     "data": {
      "text/html": [
       "<div>\n",
       "<style scoped>\n",
       "    .dataframe tbody tr th:only-of-type {\n",
       "        vertical-align: middle;\n",
       "    }\n",
       "\n",
       "    .dataframe tbody tr th {\n",
       "        vertical-align: top;\n",
       "    }\n",
       "\n",
       "    .dataframe thead th {\n",
       "        text-align: right;\n",
       "    }\n",
       "</style>\n",
       "<table border=\"1\" class=\"dataframe\">\n",
       "  <thead>\n",
       "    <tr style=\"text-align: right;\">\n",
       "      <th></th>\n",
       "      <th>dep</th>\n",
       "      <th>jour</th>\n",
       "      <th>hosp</th>\n",
       "      <th>rea</th>\n",
       "      <th>rad</th>\n",
       "      <th>dc</th>\n",
       "      <th>nb_test</th>\n",
       "      <th>nb_pos</th>\n",
       "      <th>nb_test_cum</th>\n",
       "      <th>nb_pos_cum</th>\n",
       "      <th>dep_name</th>\n",
       "      <th>lat</th>\n",
       "      <th>long</th>\n",
       "      <th>zoom</th>\n",
       "      <th>scaled</th>\n",
       "      <th>death_rate</th>\n",
       "    </tr>\n",
       "  </thead>\n",
       "  <tbody>\n",
       "    <tr>\n",
       "      <th>0</th>\n",
       "      <td>01</td>\n",
       "      <td>2020-03-18</td>\n",
       "      <td>2</td>\n",
       "      <td>0</td>\n",
       "      <td>1</td>\n",
       "      <td>0</td>\n",
       "      <td>37</td>\n",
       "      <td>8</td>\n",
       "      <td>37</td>\n",
       "      <td>8</td>\n",
       "      <td>Ain</td>\n",
       "      <td>46.1</td>\n",
       "      <td>5.33</td>\n",
       "      <td>7.5</td>\n",
       "      <td>4.958831</td>\n",
       "      <td>0.0</td>\n",
       "    </tr>\n",
       "    <tr>\n",
       "      <th>1</th>\n",
       "      <td>01</td>\n",
       "      <td>2020-03-19</td>\n",
       "      <td>2</td>\n",
       "      <td>0</td>\n",
       "      <td>1</td>\n",
       "      <td>0</td>\n",
       "      <td>82</td>\n",
       "      <td>13</td>\n",
       "      <td>119</td>\n",
       "      <td>21</td>\n",
       "      <td>Ain</td>\n",
       "      <td>46.1</td>\n",
       "      <td>5.33</td>\n",
       "      <td>7.5</td>\n",
       "      <td>10.425787</td>\n",
       "      <td>0.0</td>\n",
       "    </tr>\n",
       "    <tr>\n",
       "      <th>2</th>\n",
       "      <td>01</td>\n",
       "      <td>2020-03-20</td>\n",
       "      <td>2</td>\n",
       "      <td>0</td>\n",
       "      <td>1</td>\n",
       "      <td>0</td>\n",
       "      <td>44</td>\n",
       "      <td>9</td>\n",
       "      <td>163</td>\n",
       "      <td>30</td>\n",
       "      <td>Ain</td>\n",
       "      <td>46.1</td>\n",
       "      <td>5.33</td>\n",
       "      <td>7.5</td>\n",
       "      <td>13.720924</td>\n",
       "      <td>0.0</td>\n",
       "    </tr>\n",
       "    <tr>\n",
       "      <th>3</th>\n",
       "      <td>01</td>\n",
       "      <td>2020-03-21</td>\n",
       "      <td>4</td>\n",
       "      <td>0</td>\n",
       "      <td>1</td>\n",
       "      <td>0</td>\n",
       "      <td>13</td>\n",
       "      <td>1</td>\n",
       "      <td>176</td>\n",
       "      <td>31</td>\n",
       "      <td>Ain</td>\n",
       "      <td>46.1</td>\n",
       "      <td>5.33</td>\n",
       "      <td>7.5</td>\n",
       "      <td>14.071763</td>\n",
       "      <td>0.0</td>\n",
       "    </tr>\n",
       "    <tr>\n",
       "      <th>4</th>\n",
       "      <td>01</td>\n",
       "      <td>2020-03-22</td>\n",
       "      <td>8</td>\n",
       "      <td>1</td>\n",
       "      <td>2</td>\n",
       "      <td>0</td>\n",
       "      <td>4</td>\n",
       "      <td>0</td>\n",
       "      <td>180</td>\n",
       "      <td>31</td>\n",
       "      <td>Ain</td>\n",
       "      <td>46.1</td>\n",
       "      <td>5.33</td>\n",
       "      <td>7.5</td>\n",
       "      <td>14.071763</td>\n",
       "      <td>0.0</td>\n",
       "    </tr>\n",
       "  </tbody>\n",
       "</table>\n",
       "</div>"
      ],
      "text/plain": [
       "  dep        jour  hosp  rea  rad  dc  nb_test  nb_pos  nb_test_cum  \\\n",
       "0  01  2020-03-18     2    0    1   0       37       8           37   \n",
       "1  01  2020-03-19     2    0    1   0       82      13          119   \n",
       "2  01  2020-03-20     2    0    1   0       44       9          163   \n",
       "3  01  2020-03-21     4    0    1   0       13       1          176   \n",
       "4  01  2020-03-22     8    1    2   0        4       0          180   \n",
       "\n",
       "   nb_pos_cum dep_name   lat  long  zoom     scaled  death_rate  \n",
       "0           8      Ain  46.1  5.33   7.5   4.958831         0.0  \n",
       "1          21      Ain  46.1  5.33   7.5  10.425787         0.0  \n",
       "2          30      Ain  46.1  5.33   7.5  13.720924         0.0  \n",
       "3          31      Ain  46.1  5.33   7.5  14.071763         0.0  \n",
       "4          31      Ain  46.1  5.33   7.5  14.071763         0.0  "
      ]
     },
     "execution_count": 116,
     "metadata": {},
     "output_type": "execute_result"
    }
   ],
   "source": [
    "df_dep[\"scaled\"] = df_dep[\"nb_pos_cum\"] ** 0.77\n",
    "df_dep['death_rate']=round(df_dep['dc']/df_dep['nb_pos_cum']*100,2)\n",
    "df_dep.head()"
   ]
  },
  {
   "cell_type": "code",
   "execution_count": 141,
   "metadata": {},
   "outputs": [
    {
     "data": {
      "text/html": [
       "<div>\n",
       "<style scoped>\n",
       "    .dataframe tbody tr th:only-of-type {\n",
       "        vertical-align: middle;\n",
       "    }\n",
       "\n",
       "    .dataframe tbody tr th {\n",
       "        vertical-align: top;\n",
       "    }\n",
       "\n",
       "    .dataframe thead th {\n",
       "        text-align: right;\n",
       "    }\n",
       "</style>\n",
       "<table border=\"1\" class=\"dataframe\">\n",
       "  <thead>\n",
       "    <tr style=\"text-align: right;\">\n",
       "      <th></th>\n",
       "      <th>dep</th>\n",
       "      <th>jour</th>\n",
       "      <th>hosp</th>\n",
       "      <th>rea</th>\n",
       "      <th>rad</th>\n",
       "      <th>dc</th>\n",
       "      <th>nb_test</th>\n",
       "      <th>nb_pos</th>\n",
       "      <th>nb_test_cum</th>\n",
       "      <th>nb_pos_cum</th>\n",
       "      <th>dep_name</th>\n",
       "      <th>lat</th>\n",
       "      <th>long</th>\n",
       "      <th>zoom</th>\n",
       "      <th>scaled</th>\n",
       "      <th>death_rate</th>\n",
       "      <th>new_death_rate</th>\n",
       "      <th>new_dc</th>\n",
       "    </tr>\n",
       "  </thead>\n",
       "  <tbody>\n",
       "    <tr>\n",
       "      <th>0</th>\n",
       "      <td>01</td>\n",
       "      <td>2020-03-18</td>\n",
       "      <td>2</td>\n",
       "      <td>0</td>\n",
       "      <td>1</td>\n",
       "      <td>0</td>\n",
       "      <td>37</td>\n",
       "      <td>8</td>\n",
       "      <td>37</td>\n",
       "      <td>8</td>\n",
       "      <td>Ain</td>\n",
       "      <td>46.1</td>\n",
       "      <td>5.33</td>\n",
       "      <td>7.5</td>\n",
       "      <td>4.958831</td>\n",
       "      <td>0.0</td>\n",
       "      <td>0.0</td>\n",
       "      <td>0.0</td>\n",
       "    </tr>\n",
       "    <tr>\n",
       "      <th>1</th>\n",
       "      <td>01</td>\n",
       "      <td>2020-03-19</td>\n",
       "      <td>2</td>\n",
       "      <td>0</td>\n",
       "      <td>1</td>\n",
       "      <td>0</td>\n",
       "      <td>82</td>\n",
       "      <td>13</td>\n",
       "      <td>119</td>\n",
       "      <td>21</td>\n",
       "      <td>Ain</td>\n",
       "      <td>46.1</td>\n",
       "      <td>5.33</td>\n",
       "      <td>7.5</td>\n",
       "      <td>10.425787</td>\n",
       "      <td>0.0</td>\n",
       "      <td>0.0</td>\n",
       "      <td>0.0</td>\n",
       "    </tr>\n",
       "    <tr>\n",
       "      <th>2</th>\n",
       "      <td>01</td>\n",
       "      <td>2020-03-20</td>\n",
       "      <td>2</td>\n",
       "      <td>0</td>\n",
       "      <td>1</td>\n",
       "      <td>0</td>\n",
       "      <td>44</td>\n",
       "      <td>9</td>\n",
       "      <td>163</td>\n",
       "      <td>30</td>\n",
       "      <td>Ain</td>\n",
       "      <td>46.1</td>\n",
       "      <td>5.33</td>\n",
       "      <td>7.5</td>\n",
       "      <td>13.720924</td>\n",
       "      <td>0.0</td>\n",
       "      <td>0.0</td>\n",
       "      <td>0.0</td>\n",
       "    </tr>\n",
       "    <tr>\n",
       "      <th>3</th>\n",
       "      <td>01</td>\n",
       "      <td>2020-03-21</td>\n",
       "      <td>4</td>\n",
       "      <td>0</td>\n",
       "      <td>1</td>\n",
       "      <td>0</td>\n",
       "      <td>13</td>\n",
       "      <td>1</td>\n",
       "      <td>176</td>\n",
       "      <td>31</td>\n",
       "      <td>Ain</td>\n",
       "      <td>46.1</td>\n",
       "      <td>5.33</td>\n",
       "      <td>7.5</td>\n",
       "      <td>14.071763</td>\n",
       "      <td>0.0</td>\n",
       "      <td>0.0</td>\n",
       "      <td>0.0</td>\n",
       "    </tr>\n",
       "    <tr>\n",
       "      <th>4</th>\n",
       "      <td>01</td>\n",
       "      <td>2020-03-22</td>\n",
       "      <td>8</td>\n",
       "      <td>1</td>\n",
       "      <td>2</td>\n",
       "      <td>0</td>\n",
       "      <td>4</td>\n",
       "      <td>0</td>\n",
       "      <td>180</td>\n",
       "      <td>31</td>\n",
       "      <td>Ain</td>\n",
       "      <td>46.1</td>\n",
       "      <td>5.33</td>\n",
       "      <td>7.5</td>\n",
       "      <td>14.071763</td>\n",
       "      <td>0.0</td>\n",
       "      <td>0.0</td>\n",
       "      <td>0.0</td>\n",
       "    </tr>\n",
       "  </tbody>\n",
       "</table>\n",
       "</div>"
      ],
      "text/plain": [
       "  dep        jour  hosp  rea  rad  dc  nb_test  nb_pos  nb_test_cum  \\\n",
       "0  01  2020-03-18     2    0    1   0       37       8           37   \n",
       "1  01  2020-03-19     2    0    1   0       82      13          119   \n",
       "2  01  2020-03-20     2    0    1   0       44       9          163   \n",
       "3  01  2020-03-21     4    0    1   0       13       1          176   \n",
       "4  01  2020-03-22     8    1    2   0        4       0          180   \n",
       "\n",
       "   nb_pos_cum dep_name   lat  long  zoom     scaled  death_rate  \\\n",
       "0           8      Ain  46.1  5.33   7.5   4.958831         0.0   \n",
       "1          21      Ain  46.1  5.33   7.5  10.425787         0.0   \n",
       "2          30      Ain  46.1  5.33   7.5  13.720924         0.0   \n",
       "3          31      Ain  46.1  5.33   7.5  14.071763         0.0   \n",
       "4          31      Ain  46.1  5.33   7.5  14.071763         0.0   \n",
       "\n",
       "   new_death_rate  new_dc  \n",
       "0             0.0     0.0  \n",
       "1             0.0     0.0  \n",
       "2             0.0     0.0  \n",
       "3             0.0     0.0  \n",
       "4             0.0     0.0  "
      ]
     },
     "execution_count": 141,
     "metadata": {},
     "output_type": "execute_result"
    }
   ],
   "source": [
    "df_dep[\"new_death_rate\"]=df_dep.groupby(\"dep\")[\"death_rate\"].apply(lambda row: round(row-(row.shift(1)),2))\n",
    "df_dep[\"new_death_rate\"].fillna(df_dep[\"death_rate\"], inplace = True) # first date, new_death_rate = death rate\n",
    "df_dep[\"new_dc\"]=df_dep.groupby(\"dep\")[\"dc\"].apply(lambda row: row-(row.shift(1)))\n",
    "df_dep[\"new_dc\"].fillna(df_dep[\"dc\"], inplace = True) # first date, new_dc = dc\n",
    "\n",
    "df_dep.head()"
   ]
  },
  {
   "cell_type": "code",
   "execution_count": 142,
   "metadata": {},
   "outputs": [
    {
     "data": {
      "text/html": [
       "<div>\n",
       "<style scoped>\n",
       "    .dataframe tbody tr th:only-of-type {\n",
       "        vertical-align: middle;\n",
       "    }\n",
       "\n",
       "    .dataframe tbody tr th {\n",
       "        vertical-align: top;\n",
       "    }\n",
       "\n",
       "    .dataframe thead th {\n",
       "        text-align: right;\n",
       "    }\n",
       "</style>\n",
       "<table border=\"1\" class=\"dataframe\">\n",
       "  <thead>\n",
       "    <tr style=\"text-align: right;\">\n",
       "      <th></th>\n",
       "      <th>dep</th>\n",
       "      <th>jour</th>\n",
       "      <th>hosp</th>\n",
       "      <th>rea</th>\n",
       "      <th>rad</th>\n",
       "      <th>dc</th>\n",
       "      <th>nb_test</th>\n",
       "      <th>nb_pos</th>\n",
       "      <th>nb_test_cum</th>\n",
       "      <th>nb_pos_cum</th>\n",
       "      <th>dep_name</th>\n",
       "      <th>lat</th>\n",
       "      <th>long</th>\n",
       "      <th>zoom</th>\n",
       "      <th>scaled</th>\n",
       "      <th>death_rate</th>\n",
       "      <th>new_death_rate</th>\n",
       "      <th>new_dc</th>\n",
       "    </tr>\n",
       "  </thead>\n",
       "  <tbody>\n",
       "    <tr>\n",
       "      <th>0</th>\n",
       "      <td>01</td>\n",
       "      <td>2020-11-07</td>\n",
       "      <td>380</td>\n",
       "      <td>34</td>\n",
       "      <td>791</td>\n",
       "      <td>177</td>\n",
       "      <td>897</td>\n",
       "      <td>248</td>\n",
       "      <td>166920</td>\n",
       "      <td>24242</td>\n",
       "      <td>Ain</td>\n",
       "      <td>46.10</td>\n",
       "      <td>5.33</td>\n",
       "      <td>7.5</td>\n",
       "      <td>2377.484554</td>\n",
       "      <td>0.73</td>\n",
       "      <td>0.01</td>\n",
       "      <td>4.0</td>\n",
       "    </tr>\n",
       "    <tr>\n",
       "      <th>1</th>\n",
       "      <td>02</td>\n",
       "      <td>2020-11-07</td>\n",
       "      <td>206</td>\n",
       "      <td>30</td>\n",
       "      <td>1381</td>\n",
       "      <td>336</td>\n",
       "      <td>902</td>\n",
       "      <td>160</td>\n",
       "      <td>99503</td>\n",
       "      <td>8472</td>\n",
       "      <td>Aisne</td>\n",
       "      <td>49.55</td>\n",
       "      <td>3.56</td>\n",
       "      <td>7.5</td>\n",
       "      <td>1058.154734</td>\n",
       "      <td>3.97</td>\n",
       "      <td>-0.06</td>\n",
       "      <td>1.0</td>\n",
       "    </tr>\n",
       "    <tr>\n",
       "      <th>2</th>\n",
       "      <td>03</td>\n",
       "      <td>2020-11-07</td>\n",
       "      <td>231</td>\n",
       "      <td>22</td>\n",
       "      <td>446</td>\n",
       "      <td>106</td>\n",
       "      <td>783</td>\n",
       "      <td>127</td>\n",
       "      <td>76153</td>\n",
       "      <td>6232</td>\n",
       "      <td>Allier</td>\n",
       "      <td>44.10</td>\n",
       "      <td>2.35</td>\n",
       "      <td>7.5</td>\n",
       "      <td>835.339720</td>\n",
       "      <td>1.70</td>\n",
       "      <td>0.03</td>\n",
       "      <td>4.0</td>\n",
       "    </tr>\n",
       "    <tr>\n",
       "      <th>3</th>\n",
       "      <td>04</td>\n",
       "      <td>2020-11-07</td>\n",
       "      <td>103</td>\n",
       "      <td>12</td>\n",
       "      <td>231</td>\n",
       "      <td>26</td>\n",
       "      <td>88</td>\n",
       "      <td>20</td>\n",
       "      <td>40352</td>\n",
       "      <td>3004</td>\n",
       "      <td>Alpes-de-Haute-Provence</td>\n",
       "      <td>44.09</td>\n",
       "      <td>6.23</td>\n",
       "      <td>7.5</td>\n",
       "      <td>476.243372</td>\n",
       "      <td>0.87</td>\n",
       "      <td>0.03</td>\n",
       "      <td>1.0</td>\n",
       "    </tr>\n",
       "    <tr>\n",
       "      <th>4</th>\n",
       "      <td>05</td>\n",
       "      <td>2020-11-07</td>\n",
       "      <td>165</td>\n",
       "      <td>24</td>\n",
       "      <td>261</td>\n",
       "      <td>44</td>\n",
       "      <td>54</td>\n",
       "      <td>10</td>\n",
       "      <td>29006</td>\n",
       "      <td>3873</td>\n",
       "      <td>Hautes-Alpes</td>\n",
       "      <td>44.66</td>\n",
       "      <td>6.21</td>\n",
       "      <td>7.5</td>\n",
       "      <td>579.157351</td>\n",
       "      <td>1.14</td>\n",
       "      <td>0.03</td>\n",
       "      <td>1.0</td>\n",
       "    </tr>\n",
       "  </tbody>\n",
       "</table>\n",
       "</div>"
      ],
      "text/plain": [
       "  dep        jour  hosp  rea   rad   dc  nb_test  nb_pos  nb_test_cum  \\\n",
       "0  01  2020-11-07   380   34   791  177      897     248       166920   \n",
       "1  02  2020-11-07   206   30  1381  336      902     160        99503   \n",
       "2  03  2020-11-07   231   22   446  106      783     127        76153   \n",
       "3  04  2020-11-07   103   12   231   26       88      20        40352   \n",
       "4  05  2020-11-07   165   24   261   44       54      10        29006   \n",
       "\n",
       "   nb_pos_cum                 dep_name    lat  long  zoom       scaled  \\\n",
       "0       24242                      Ain  46.10  5.33   7.5  2377.484554   \n",
       "1        8472                    Aisne  49.55  3.56   7.5  1058.154734   \n",
       "2        6232                   Allier  44.10  2.35   7.5   835.339720   \n",
       "3        3004  Alpes-de-Haute-Provence  44.09  6.23   7.5   476.243372   \n",
       "4        3873             Hautes-Alpes  44.66  6.21   7.5   579.157351   \n",
       "\n",
       "   death_rate  new_death_rate  new_dc  \n",
       "0        0.73            0.01     4.0  \n",
       "1        3.97           -0.06     1.0  \n",
       "2        1.70            0.03     4.0  \n",
       "3        0.87            0.03     1.0  \n",
       "4        1.14            0.03     1.0  "
      ]
     },
     "execution_count": 142,
     "metadata": {},
     "output_type": "execute_result"
    }
   ],
   "source": [
    "df_last_update=df_dep.groupby(\"dep\").tail(1).reset_index(drop=True)\n",
    "df_last_update.head()"
   ]
  },
  {
   "cell_type": "code",
   "execution_count": 160,
   "metadata": {},
   "outputs": [
    {
     "name": "stdout",
     "output_type": "stream",
     "text": [
      "                 Departments  Confirmed  Deaths\n",
      "0                        Ain      24242     177\n",
      "1                      Aisne       8472     336\n",
      "2                     Allier       6232     106\n",
      "3    Alpes-de-Haute-Provence       3004      26\n",
      "4               Hautes-Alpes       3873      44\n",
      "..                       ...        ...     ...\n",
      "96                Guadeloupe       7953     148\n",
      "97                Martinique       4782      36\n",
      "98                    Guyane       9833      66\n",
      "99                La Réunion       6494      34\n",
      "100                  Mayotte       2980      32\n",
      "\n",
      "[101 rows x 3 columns]\n"
     ]
    }
   ],
   "source": [
    "y= pd.DataFrame(columns=['Departments','Confirmed','Deaths'])\n",
    "y['Departments']=df_last_update['dep_name']\n",
    "y['Confirmed']=df_last_update['nb_pos_cum']\n",
    "y['Deaths']=df_last_update['dc']\n",
    "print(y)"
   ]
  },
  {
   "cell_type": "code",
   "execution_count": 143,
   "metadata": {},
   "outputs": [],
   "source": [
    "n=df_last_update.loc[df_last_update[\"dep_name\"]==\"Aisne\"]"
   ]
  },
  {
   "cell_type": "code",
   "execution_count": 144,
   "metadata": {},
   "outputs": [
    {
     "name": "stdout",
     "output_type": "stream",
     "text": [
      "-0.06\n"
     ]
    }
   ],
   "source": [
    "print(n.iloc[0][\"new_death_rate\"])"
   ]
  },
  {
   "cell_type": "markdown",
   "metadata": {},
   "source": [
    "## **France dataset**"
   ]
  },
  {
   "cell_type": "code",
   "execution_count": 145,
   "metadata": {},
   "outputs": [],
   "source": [
    "df_france=df_dep.groupby(\"jour\").sum().reset_index()\n",
    "df_france['death_rate']=round(df_france['dc']/df_france['nb_pos_cum']*100,2)\n",
    "df_france['new_death_rate']=round(df_france.death_rate-df_france.death_rate.shift(1),2)\n",
    "df_france[\"new_death_rate\"].fillna(df_france[\"death_rate\"], inplace = True) # first date, new_death_rate = death rate\n",
    "df_france[\"lat\"]=46.40\n",
    "df_france[\"long\"]=0.5\n",
    "df_france[\"zoom\"]=3.5"
   ]
  },
  {
   "cell_type": "code",
   "execution_count": 146,
   "metadata": {},
   "outputs": [
    {
     "data": {
      "text/html": [
       "<div>\n",
       "<style scoped>\n",
       "    .dataframe tbody tr th:only-of-type {\n",
       "        vertical-align: middle;\n",
       "    }\n",
       "\n",
       "    .dataframe tbody tr th {\n",
       "        vertical-align: top;\n",
       "    }\n",
       "\n",
       "    .dataframe thead th {\n",
       "        text-align: right;\n",
       "    }\n",
       "</style>\n",
       "<table border=\"1\" class=\"dataframe\">\n",
       "  <thead>\n",
       "    <tr style=\"text-align: right;\">\n",
       "      <th></th>\n",
       "      <th>jour</th>\n",
       "      <th>hosp</th>\n",
       "      <th>rea</th>\n",
       "      <th>rad</th>\n",
       "      <th>dc</th>\n",
       "      <th>nb_test</th>\n",
       "      <th>nb_pos</th>\n",
       "      <th>nb_test_cum</th>\n",
       "      <th>nb_pos_cum</th>\n",
       "      <th>lat</th>\n",
       "      <th>long</th>\n",
       "      <th>zoom</th>\n",
       "      <th>scaled</th>\n",
       "      <th>death_rate</th>\n",
       "      <th>new_death_rate</th>\n",
       "      <th>new_dc</th>\n",
       "    </tr>\n",
       "  </thead>\n",
       "  <tbody>\n",
       "    <tr>\n",
       "      <th>234</th>\n",
       "      <td>2020-11-07</td>\n",
       "      <td>29396</td>\n",
       "      <td>4410</td>\n",
       "      <td>127907</td>\n",
       "      <td>27636</td>\n",
       "      <td>90635</td>\n",
       "      <td>14694</td>\n",
       "      <td>18006138</td>\n",
       "      <td>1699770</td>\n",
       "      <td>46.4</td>\n",
       "      <td>0.5</td>\n",
       "      <td>3.5</td>\n",
       "      <td>165101.010707</td>\n",
       "      <td>1.63</td>\n",
       "      <td>0.01</td>\n",
       "      <td>304.0</td>\n",
       "    </tr>\n",
       "  </tbody>\n",
       "</table>\n",
       "</div>"
      ],
      "text/plain": [
       "           jour   hosp   rea     rad     dc  nb_test  nb_pos  nb_test_cum  \\\n",
       "234  2020-11-07  29396  4410  127907  27636    90635   14694     18006138   \n",
       "\n",
       "     nb_pos_cum   lat  long  zoom         scaled  death_rate  new_death_rate  \\\n",
       "234     1699770  46.4   0.5   3.5  165101.010707        1.63            0.01   \n",
       "\n",
       "     new_dc  \n",
       "234   304.0  "
      ]
     },
     "execution_count": 146,
     "metadata": {},
     "output_type": "execute_result"
    }
   ],
   "source": [
    "z=df_france.tail(1)\n",
    "z.head()"
   ]
  },
  {
   "cell_type": "markdown",
   "metadata": {},
   "source": [
    "#### **Plot Figures**"
   ]
  },
  {
   "cell_type": "markdown",
   "metadata": {},
   "source": [
    "### **Map**"
   ]
  },
  {
   "cell_type": "code",
   "execution_count": 124,
   "metadata": {},
   "outputs": [],
   "source": [
    "color_scale = [\"#fadc8f\",\n",
    "        \"#f9d67a\",\n",
    "        \"#f8d066\",\n",
    "        \"#f8c952\",\n",
    "        \"#f7c33d\",\n",
    "        \"#f6bd29\",\n",
    "        \"#f5b614\",\n",
    "        \"#F4B000\",\n",
    "        \"#eaa900\",\n",
    "        \"#e0a200\",\n",
    "        \"#dc9e00\",]\n",
    "\n"
   ]
  },
  {
   "cell_type": "code",
   "execution_count": 125,
   "metadata": {},
   "outputs": [],
   "source": [
    "px.set_mapbox_access_token(MAPBOX_ACCESS_TOKEN)"
   ]
  },
  {
   "cell_type": "code",
   "execution_count": 165,
   "metadata": {},
   "outputs": [
    {
     "ename": "SyntaxError",
     "evalue": "keyword can't be an expression (<ipython-input-165-401d2b70b922>, line 12)",
     "output_type": "error",
     "traceback": [
      "\u001b[0;36m  File \u001b[0;32m\"<ipython-input-165-401d2b70b922>\"\u001b[0;36m, line \u001b[0;32m12\u001b[0m\n\u001b[0;31m    background-color=\"#000000\",\u001b[0m\n\u001b[0m    ^\u001b[0m\n\u001b[0;31mSyntaxError\u001b[0m\u001b[0;31m:\u001b[0m keyword can't be an expression\n"
     ]
    }
   ],
   "source": [
    "def plot_map(lat=46.4,lon=0.5,zoom=3.5):    \n",
    "    fig = px.scatter_mapbox(\n",
    "        df_last_update,\n",
    "        lat = \"lat\",\n",
    "        lon = \"long\",\n",
    "        color = \"nb_pos_cum\",\n",
    "        size=\"scaled\",\n",
    "        size_max = 35,\n",
    "        hover_name = \"dep_name\",\n",
    "        hover_data = [\"nb_pos_cum\",\"dc\",\"death_rate\",\"dep_name\"],\n",
    "        color_continuous_scale = color_scale,\n",
    "        background-color=\"#000000\",\n",
    "    )\n",
    "\n",
    "    fig.layout.update(\n",
    "            mapbox_style=\"dark\",\n",
    "            mapbox=dict(center=dict(lat=lat, lon=lon), zoom=zoom),\n",
    "        )\n",
    "    fig.data[0].update(\n",
    "            hovertemplate=(\"%{customdata[3]}<br>Confirmed:\"\n",
    "                          \" %{customdata[0]}<br>Deaths: %{customdata[1]}<br>Death Rate: %{customdata[2]}\")\n",
    "        )\n",
    "\n",
    "    fig.show()"
   ]
  },
  {
   "cell_type": "code",
   "execution_count": 164,
   "metadata": {},
   "outputs": [
    {
     "data": {
      "application/vnd.plotly.v1+json": {
       "config": {
        "plotlyServerURL": "https://plot.ly"
       },
       "data": [
        {
         "customdata": [
          [
           24242,
           177,
           0.73,
           "Ain"
          ],
          [
           8472,
           336,
           3.97,
           "Aisne"
          ],
          [
           6232,
           106,
           1.7,
           "Allier"
          ],
          [
           3004,
           26,
           0.87,
           "Alpes-de-Haute-Provence"
          ],
          [
           3873,
           44,
           1.14,
           "Hautes-Alpes"
          ],
          [
           24076,
           292,
           1.21,
           "Alpes_Maritimes"
          ],
          [
           9134,
           176,
           1.93,
           "Ardeche"
          ],
          [
           5123,
           80,
           1.56,
           "Ardennes"
          ],
          [
           2845,
           9,
           0.32,
           "Ariege"
          ],
          [
           6052,
           162,
           2.68,
           "Aube"
          ],
          [
           5846,
           86,
           1.47,
           "Aude"
          ],
          [
           6120,
           58,
           0.95,
           "Aveyron"
          ],
          [
           81711,
           1087,
           1.33,
           "Bouches-du-Rhône"
          ],
          [
           12011,
           133,
           1.11,
           "Calvados"
          ],
          [
           1965,
           25,
           1.27,
           "Cantal"
          ],
          [
           3239,
           20,
           0.62,
           "Charente"
          ],
          [
           4272,
           69,
           1.62,
           "Charente-Maritime"
          ],
          [
           5244,
           138,
           2.63,
           "Cher"
          ],
          [
           2810,
           60,
           2.14,
           "Correze"
          ],
          [
           12998,
           304,
           2.34,
           "Côte-d'Or"
          ],
          [
           5492,
           56,
           1.02,
           "Côtes-D'Armor"
          ],
          [
           1795,
           25,
           1.39,
           "Creuse"
          ],
          [
           4993,
           22,
           0.44,
           "Dordogne"
          ],
          [
           12992,
           163,
           1.25,
           "Doubs"
          ],
          [
           14252,
           207,
           1.45,
           "Drome"
          ],
          [
           10428,
           132,
           1.27,
           "Eure"
          ],
          [
           6912,
           169,
           2.45,
           "Eure-et-Loire"
          ],
          [
           7830,
           64,
           0.82,
           "Finistère"
          ],
          [
           3061,
           60,
           1.96,
           "Corde-du-Sud"
          ],
          [
           2809,
           27,
           0.96,
           "Haute-Corse"
          ],
          [
           20450,
           185,
           0.9,
           "Gard"
          ],
          [
           38671,
           184,
           0.48,
           "Haute-Garonne"
          ],
          [
           2982,
           41,
           1.37,
           "Gers"
          ],
          [
           29555,
           280,
           0.95,
           "Gironde"
          ],
          [
           30918,
           283,
           0.92,
           "Hérault"
          ],
          [
           19291,
           140,
           0.73,
           "Ille-et-Vilaine"
          ],
          [
           2701,
           86,
           3.18,
           "Indre"
          ],
          [
           11292,
           127,
           1.12,
           "Indre-et-Loire"
          ],
          [
           50724,
           387,
           0.76,
           "Isère"
          ],
          [
           6728,
           90,
           1.34,
           "Jura"
          ],
          [
           6364,
           28,
           0.44,
           "Landes"
          ],
          [
           4172,
           91,
           2.18,
           "Loir-et-Cher"
          ],
          [
           39741,
           487,
           1.23,
           "Loire"
          ],
          [
           9418,
           48,
           0.51,
           "Haute-Loire"
          ],
          [
           24707,
           241,
           0.98,
           "Loire-Atlantique"
          ],
          [
           15812,
           142,
           0.9,
           "Loiret"
          ],
          [
           1658,
           26,
           1.57,
           "Lot"
          ],
          [
           4654,
           27,
           0.58,
           "Lot-et-Garonne"
          ],
          [
           1778,
           22,
           1.24,
           "Lozère"
          ],
          [
           15871,
           217,
           1.37,
           "Manne-et-Loire"
          ],
          [
           4715,
           79,
           1.68,
           "Manche"
          ],
          [
           10349,
           312,
           3.01,
           "Marne"
          ],
          [
           3027,
           106,
           3.5,
           "Haute-Marne"
          ],
          [
           5590,
           65,
           1.16,
           "Mayenne"
          ],
          [
           13740,
           408,
           2.97,
           "Meurthe-et-Moselle"
          ],
          [
           2519,
           120,
           4.76,
           "Meuse"
          ],
          [
           6896,
           132,
           1.91,
           "Morbihan"
          ],
          [
           18347,
           934,
           5.09,
           "Moselle"
          ],
          [
           2906,
           36,
           1.24,
           "Nièvre"
          ],
          [
           108198,
           1144,
           1.06,
           "Nord"
          ],
          [
           18958,
           484,
           2.55,
           "Oise"
          ],
          [
           3596,
           61,
           1.7,
           "Orne"
          ],
          [
           37838,
           477,
           1.26,
           "Pas-de-Calais"
          ],
          [
           16259,
           126,
           0.77,
           "Puy-de-Dôme"
          ],
          [
           15760,
           78,
           0.49,
           "Pyrénées-Altantiques"
          ],
          [
           4819,
           43,
           0.89,
           "Hautes-Pyrénées"
          ],
          [
           9348,
           86,
           0.92,
           "Pyrénées-Orientales"
          ],
          [
           25612,
           760,
           2.97,
           "Bas-Rhin"
          ],
          [
           12793,
           858,
           6.71,
           "Haut-Rhin"
          ],
          [
           89762,
           1085,
           1.21,
           "Rhone"
          ],
          [
           3701,
           98,
           2.65,
           "Haute-Saône"
          ],
          [
           16115,
           324,
           2.01,
           "Saône-et-Loire"
          ],
          [
           8708,
           119,
           1.37,
           "Sarthe"
          ],
          [
           16326,
           187,
           1.15,
           "Savoie"
          ],
          [
           29965,
           275,
           0.92,
           "Haute-Savoie"
          ],
          [
           92008,
           2188,
           2.38,
           "Paris"
          ],
          [
           28971,
           359,
           1.24,
           "Seine-Maritime"
          ],
          [
           34737,
           864,
           2.49,
           "Seine-et-Marne"
          ],
          [
           39208,
           702,
           1.79,
           "Yvellines"
          ],
          [
           4452,
           36,
           0.81,
           "Deux-Sèvres"
          ],
          [
           8763,
           286,
           3.26,
           "Somme"
          ],
          [
           9061,
           61,
           0.67,
           "Tarn"
          ],
          [
           5835,
           42,
           0.72,
           "Tarn-et-Garonne"
          ],
          [
           24619,
           251,
           1.02,
           "Var"
          ],
          [
           16019,
           174,
           1.09,
           "Vaucluse"
          ],
          [
           7976,
           53,
           0.66,
           "Vendée"
          ],
          [
           6169,
           74,
           1.2,
           "Vienne"
          ],
          [
           6234,
           64,
           1.03,
           "Haute-Vienne"
          ],
          [
           5943,
           291,
           4.9,
           "Vosges"
          ],
          [
           6564,
           106,
           1.61,
           "Yonne"
          ],
          [
           2313,
           217,
           9.38,
           "Territoire de Belfort"
          ],
          [
           38160,
           772,
           2.02,
           "Essonne"
          ],
          [
           58233,
           1304,
           2.24,
           "Hauts-de-Seine"
          ],
          [
           56744,
           1239,
           2.18,
           "Seine-Saint_Denis"
          ],
          [
           49507,
           1471,
           2.97,
           "Val-de-Marne"
          ],
          [
           43045,
           924,
           2.15,
           "Val-d'Oise"
          ],
          [
           7953,
           148,
           1.86,
           "Guadeloupe"
          ],
          [
           4782,
           36,
           0.75,
           "Martinique"
          ],
          [
           9833,
           66,
           0.67,
           "Guyane"
          ],
          [
           6494,
           34,
           0.52,
           "La Réunion"
          ],
          [
           2980,
           32,
           1.07,
           "Mayotte"
          ]
         ],
         "hovertemplate": "%{customdata[3]}<br>Confirmed: %{customdata[0]}<br>Deaths: %{customdata[1]}<br>Death Rate: %{customdata[2]}",
         "hovertext": [
          "Ain",
          "Aisne",
          "Allier",
          "Alpes-de-Haute-Provence",
          "Hautes-Alpes",
          "Alpes_Maritimes",
          "Ardeche",
          "Ardennes",
          "Ariege",
          "Aube",
          "Aude",
          "Aveyron",
          "Bouches-du-Rhône",
          "Calvados",
          "Cantal",
          "Charente",
          "Charente-Maritime",
          "Cher",
          "Correze",
          "Côte-d'Or",
          "Côtes-D'Armor",
          "Creuse",
          "Dordogne",
          "Doubs",
          "Drome",
          "Eure",
          "Eure-et-Loire",
          "Finistère",
          "Corde-du-Sud",
          "Haute-Corse",
          "Gard",
          "Haute-Garonne",
          "Gers",
          "Gironde",
          "Hérault",
          "Ille-et-Vilaine",
          "Indre",
          "Indre-et-Loire",
          "Isère",
          "Jura",
          "Landes",
          "Loir-et-Cher",
          "Loire",
          "Haute-Loire",
          "Loire-Atlantique",
          "Loiret",
          "Lot",
          "Lot-et-Garonne",
          "Lozère",
          "Manne-et-Loire",
          "Manche",
          "Marne",
          "Haute-Marne",
          "Mayenne",
          "Meurthe-et-Moselle",
          "Meuse",
          "Morbihan",
          "Moselle",
          "Nièvre",
          "Nord",
          "Oise",
          "Orne",
          "Pas-de-Calais",
          "Puy-de-Dôme",
          "Pyrénées-Altantiques",
          "Hautes-Pyrénées",
          "Pyrénées-Orientales",
          "Bas-Rhin",
          "Haut-Rhin",
          "Rhone",
          "Haute-Saône",
          "Saône-et-Loire",
          "Sarthe",
          "Savoie",
          "Haute-Savoie",
          "Paris",
          "Seine-Maritime",
          "Seine-et-Marne",
          "Yvellines",
          "Deux-Sèvres",
          "Somme",
          "Tarn",
          "Tarn-et-Garonne",
          "Var",
          "Vaucluse",
          "Vendée",
          "Vienne",
          "Haute-Vienne",
          "Vosges",
          "Yonne",
          "Territoire de Belfort",
          "Essonne",
          "Hauts-de-Seine",
          "Seine-Saint_Denis",
          "Val-de-Marne",
          "Val-d'Oise",
          "Guadeloupe",
          "Martinique",
          "Guyane",
          "La Réunion",
          "Mayotte"
         ],
         "lat": [
          46.1,
          49.55,
          44.1,
          44.09,
          44.66,
          43.94,
          44.73,
          49.61,
          42.94,
          48.31,
          43.1,
          44.28,
          43.54,
          49.1,
          45.01,
          45.71,
          45.76,
          47.07,
          45.34,
          47.43,
          48.44,
          46.08,
          45.13,
          47.16,
          44.68,
          49.1,
          48.39,
          48.27,
          41.88,
          42.37,
          43.99,
          43.35,
          43.68,
          44.84,
          43.9,
          48.18,
          46.8,
          47.24,
          45.27,
          46.73,
          43.96,
          47.61,
          45.72,
          45.13,
          47.38,
          47.85,
          44.63,
          44.37,
          44.51,
          47.39,
          49.08,
          48.38,
          48.09,
          48.12,
          48.79,
          49,
          47.85,
          49.02,
          47.1,
          50.45,
          49.39,
          48.61,
          50.49,
          45.73,
          43.28,
          43.05,
          42.61,
          48.65,
          47.86,
          45.86,
          47.63,
          46.64,
          48,
          45.47,
          46.04,
          48.85,
          49.65,
          48.6,
          48.97,
          46.53,
          49.97,
          43.77,
          44.07,
          43.47,
          43.99,
          46.67,
          46.55,
          45.87,
          48.19,
          47.84,
          47.62,
          48.52,
          48.83,
          48.9,
          48.77,
          49.07,
          16,
          14.6,
          4.93,
          -20.88,
          -12.77
         ],
         "legendgroup": "",
         "lon": [
          5.33,
          3.56,
          2.35,
          6.23,
          6.21,
          7.12,
          4.41,
          4.61,
          1.53,
          4.14,
          2.35,
          2.72,
          5.03,
          -0.37,
          2.66,
          0.2,
          -0.71,
          2.52,
          1.81,
          4.78,
          -2.85,
          2.04,
          0.7,
          6.37,
          5.15,
          1,
          1.36,
          -4.04,
          8.97,
          9.23,
          4.17,
          1.23,
          0.45,
          -0.58,
          4.47,
          -1.64,
          1.62,
          0.69,
          5.61,
          5.69,
          -0.8,
          1.41,
          4.16,
          3.81,
          -1.71,
          2.26,
          1.59,
          0.46,
          3.49,
          -0.53,
          -1.34,
          7.47,
          5.15,
          -0.67,
          6.16,
          5.39,
          -2.83,
          6.65,
          3.51,
          3.2,
          2.42,
          0.11,
          2.27,
          3.14,
          -0.75,
          0.16,
          2.51,
          7.56,
          7.27,
          4.66,
          6.07,
          4.53,
          0.19,
          6.45,
          6.44,
          2.35,
          1.04,
          2.97,
          1.97,
          -0.32,
          2.29,
          2.18,
          1.28,
          6.18,
          5.14,
          -1.28,
          0.5,
          1.23,
          6.37,
          3.57,
          6.92,
          2.26,
          2.24,
          2.48,
          2.45,
          2.17,
          -61.73,
          -61.06,
          -52.32,
          55.45,
          45.22
         ],
         "marker": {
          "color": [
           24242,
           8472,
           6232,
           3004,
           3873,
           24076,
           9134,
           5123,
           2845,
           6052,
           5846,
           6120,
           81711,
           12011,
           1965,
           3239,
           4272,
           5244,
           2810,
           12998,
           5492,
           1795,
           4993,
           12992,
           14252,
           10428,
           6912,
           7830,
           3061,
           2809,
           20450,
           38671,
           2982,
           29555,
           30918,
           19291,
           2701,
           11292,
           50724,
           6728,
           6364,
           4172,
           39741,
           9418,
           24707,
           15812,
           1658,
           4654,
           1778,
           15871,
           4715,
           10349,
           3027,
           5590,
           13740,
           2519,
           6896,
           18347,
           2906,
           108198,
           18958,
           3596,
           37838,
           16259,
           15760,
           4819,
           9348,
           25612,
           12793,
           89762,
           3701,
           16115,
           8708,
           16326,
           29965,
           92008,
           28971,
           34737,
           39208,
           4452,
           8763,
           9061,
           5835,
           24619,
           16019,
           7976,
           6169,
           6234,
           5943,
           6564,
           2313,
           38160,
           58233,
           56744,
           49507,
           43045,
           7953,
           4782,
           9833,
           6494,
           2980
          ],
          "coloraxis": "coloraxis",
          "size": [
           2377.484554036338,
           1058.1547340679745,
           835.3397200040388,
           476.2433723033668,
           579.1573505304175,
           2364.938969663853,
           1121.2668321189767,
           718.3461260756542,
           456.71297350615254,
           816.6992709445839,
           795.2089960088902,
           823.756007896886,
           6059.768101458753,
           1384.4458014384197,
           343.4702823701546,
           504.6803899675894,
           624.5771014868584,
           731.3752607001021,
           452.3804896530132,
           1471.2447635882836,
           757.8661451249291,
           320.3536147297269,
           704.2687300095035,
           1470.7217976163304,
           1579.3717898230493,
           1241.6945854154433,
           904.6797548869258,
           995.8560285805103,
           483.18646883417136,
           452.2565226655637,
           2085.613601729691,
           3406.3303187910587,
           473.5554968714483,
           2769.400983105073,
           2867.2315873643965,
           1993.9908017827468,
           438.8073868298169,
           1320.1812777994053,
           4197.728928748297,
           886.0785160742472,
           848.9306850115329,
           613.2889090487564,
           3478.6751042274846,
           1148.0166539721804,
           2412.522718399659,
           1710.8811459348346,
           301.3561682625631,
           667.1543342110904,
           318.0148883442622,
           1715.7946312049228,
           673.8774235487502,
           1234.4450369372291,
           479.04858769074826,
           768.2580013072197,
           1535.4998706600884,
           415.8586017286437,
           903.0668173269877,
           1918.4261998796726,
           464.2347216666669,
           7522.268125640605,
           1967.4343046357267,
           546.9922283795738,
           3349.690589089475,
           1748.0033069448614,
           1706.5471196417843,
           685.2938482411536,
           1141.4408258169688,
           2480.2844456083717,
           1453.345090584717,
           6514.502286662494,
           559.2496172310324,
           1736.0704246152352,
           1080.7797120255539,
           1753.5471182099252,
           2798.9361874785072,
           6639.657917899694,
           2727.1679496574293,
           3136.245691219678,
           3442.6946997801465,
           644.7442383998529,
           1086.032107650992,
           1114.3602713066584,
           794.0566048386935,
           2405.9035580074383,
           1728.1015473417722,
           1010.1237024048421,
           828.8298298661653,
           835.5461345897169,
           805.3495350680683,
           869.4003300651594,
           389.41729635617753,
           3371.618606426836,
           4668.531102804681,
           4576.340801867767,
           4119.962752218842,
           3699.307971838386,
           1007.8800677209292,
           681.2387921648893,
           1186.7746202733556,
           862.2524934007286,
           473.3109188267582
          ],
          "sizemode": "area",
          "sizeref": 6.140627041339269
         },
         "mode": "markers",
         "name": "",
         "showlegend": false,
         "subplot": "mapbox",
         "type": "scattermapbox"
        }
       ],
       "layout": {
        "autosize": true,
        "coloraxis": {
         "colorbar": {
          "title": {
           "text": "nb_pos_cum"
          }
         },
         "colorscale": [
          [
           0,
           "#fadc8f"
          ],
          [
           0.1,
           "#f9d67a"
          ],
          [
           0.2,
           "#f8d066"
          ],
          [
           0.3,
           "#f8c952"
          ],
          [
           0.4,
           "#f7c33d"
          ],
          [
           0.5,
           "#f6bd29"
          ],
          [
           0.6,
           "#f5b614"
          ],
          [
           0.7,
           "#F4B000"
          ],
          [
           0.8,
           "#eaa900"
          ],
          [
           0.9,
           "#e0a200"
          ],
          [
           1,
           "#dc9e00"
          ]
         ]
        },
        "legend": {
         "itemsizing": "constant",
         "tracegroupgap": 0
        },
        "mapbox": {
         "accesstoken": "pk.eyJ1IjoicG1lY2NoaWEiLCJhIjoiY2toNTVlajU4MDBtcTJycXBzNGlsOTByYyJ9.sfNsB0a0UzZxosdqWYhWyQ",
         "center": {
          "lat": 46.4,
          "lon": 0.5
         },
         "domain": {
          "x": [
           0,
           1
          ],
          "y": [
           0,
           1
          ]
         },
         "style": "dark",
         "zoom": 3.5
        },
        "margin": {
         "t": 60
        },
        "template": {
         "data": {
          "bar": [
           {
            "error_x": {
             "color": "#2a3f5f"
            },
            "error_y": {
             "color": "#2a3f5f"
            },
            "marker": {
             "line": {
              "color": "#E5ECF6",
              "width": 0.5
             }
            },
            "type": "bar"
           }
          ],
          "barpolar": [
           {
            "marker": {
             "line": {
              "color": "#E5ECF6",
              "width": 0.5
             }
            },
            "type": "barpolar"
           }
          ],
          "carpet": [
           {
            "aaxis": {
             "endlinecolor": "#2a3f5f",
             "gridcolor": "white",
             "linecolor": "white",
             "minorgridcolor": "white",
             "startlinecolor": "#2a3f5f"
            },
            "baxis": {
             "endlinecolor": "#2a3f5f",
             "gridcolor": "white",
             "linecolor": "white",
             "minorgridcolor": "white",
             "startlinecolor": "#2a3f5f"
            },
            "type": "carpet"
           }
          ],
          "choropleth": [
           {
            "colorbar": {
             "outlinewidth": 0,
             "ticks": ""
            },
            "type": "choropleth"
           }
          ],
          "contour": [
           {
            "colorbar": {
             "outlinewidth": 0,
             "ticks": ""
            },
            "colorscale": [
             [
              0,
              "#0d0887"
             ],
             [
              0.1111111111111111,
              "#46039f"
             ],
             [
              0.2222222222222222,
              "#7201a8"
             ],
             [
              0.3333333333333333,
              "#9c179e"
             ],
             [
              0.4444444444444444,
              "#bd3786"
             ],
             [
              0.5555555555555556,
              "#d8576b"
             ],
             [
              0.6666666666666666,
              "#ed7953"
             ],
             [
              0.7777777777777778,
              "#fb9f3a"
             ],
             [
              0.8888888888888888,
              "#fdca26"
             ],
             [
              1,
              "#f0f921"
             ]
            ],
            "type": "contour"
           }
          ],
          "contourcarpet": [
           {
            "colorbar": {
             "outlinewidth": 0,
             "ticks": ""
            },
            "type": "contourcarpet"
           }
          ],
          "heatmap": [
           {
            "colorbar": {
             "outlinewidth": 0,
             "ticks": ""
            },
            "colorscale": [
             [
              0,
              "#0d0887"
             ],
             [
              0.1111111111111111,
              "#46039f"
             ],
             [
              0.2222222222222222,
              "#7201a8"
             ],
             [
              0.3333333333333333,
              "#9c179e"
             ],
             [
              0.4444444444444444,
              "#bd3786"
             ],
             [
              0.5555555555555556,
              "#d8576b"
             ],
             [
              0.6666666666666666,
              "#ed7953"
             ],
             [
              0.7777777777777778,
              "#fb9f3a"
             ],
             [
              0.8888888888888888,
              "#fdca26"
             ],
             [
              1,
              "#f0f921"
             ]
            ],
            "type": "heatmap"
           }
          ],
          "heatmapgl": [
           {
            "colorbar": {
             "outlinewidth": 0,
             "ticks": ""
            },
            "colorscale": [
             [
              0,
              "#0d0887"
             ],
             [
              0.1111111111111111,
              "#46039f"
             ],
             [
              0.2222222222222222,
              "#7201a8"
             ],
             [
              0.3333333333333333,
              "#9c179e"
             ],
             [
              0.4444444444444444,
              "#bd3786"
             ],
             [
              0.5555555555555556,
              "#d8576b"
             ],
             [
              0.6666666666666666,
              "#ed7953"
             ],
             [
              0.7777777777777778,
              "#fb9f3a"
             ],
             [
              0.8888888888888888,
              "#fdca26"
             ],
             [
              1,
              "#f0f921"
             ]
            ],
            "type": "heatmapgl"
           }
          ],
          "histogram": [
           {
            "marker": {
             "colorbar": {
              "outlinewidth": 0,
              "ticks": ""
             }
            },
            "type": "histogram"
           }
          ],
          "histogram2d": [
           {
            "colorbar": {
             "outlinewidth": 0,
             "ticks": ""
            },
            "colorscale": [
             [
              0,
              "#0d0887"
             ],
             [
              0.1111111111111111,
              "#46039f"
             ],
             [
              0.2222222222222222,
              "#7201a8"
             ],
             [
              0.3333333333333333,
              "#9c179e"
             ],
             [
              0.4444444444444444,
              "#bd3786"
             ],
             [
              0.5555555555555556,
              "#d8576b"
             ],
             [
              0.6666666666666666,
              "#ed7953"
             ],
             [
              0.7777777777777778,
              "#fb9f3a"
             ],
             [
              0.8888888888888888,
              "#fdca26"
             ],
             [
              1,
              "#f0f921"
             ]
            ],
            "type": "histogram2d"
           }
          ],
          "histogram2dcontour": [
           {
            "colorbar": {
             "outlinewidth": 0,
             "ticks": ""
            },
            "colorscale": [
             [
              0,
              "#0d0887"
             ],
             [
              0.1111111111111111,
              "#46039f"
             ],
             [
              0.2222222222222222,
              "#7201a8"
             ],
             [
              0.3333333333333333,
              "#9c179e"
             ],
             [
              0.4444444444444444,
              "#bd3786"
             ],
             [
              0.5555555555555556,
              "#d8576b"
             ],
             [
              0.6666666666666666,
              "#ed7953"
             ],
             [
              0.7777777777777778,
              "#fb9f3a"
             ],
             [
              0.8888888888888888,
              "#fdca26"
             ],
             [
              1,
              "#f0f921"
             ]
            ],
            "type": "histogram2dcontour"
           }
          ],
          "mesh3d": [
           {
            "colorbar": {
             "outlinewidth": 0,
             "ticks": ""
            },
            "type": "mesh3d"
           }
          ],
          "parcoords": [
           {
            "line": {
             "colorbar": {
              "outlinewidth": 0,
              "ticks": ""
             }
            },
            "type": "parcoords"
           }
          ],
          "pie": [
           {
            "automargin": true,
            "type": "pie"
           }
          ],
          "scatter": [
           {
            "marker": {
             "colorbar": {
              "outlinewidth": 0,
              "ticks": ""
             }
            },
            "type": "scatter"
           }
          ],
          "scatter3d": [
           {
            "line": {
             "colorbar": {
              "outlinewidth": 0,
              "ticks": ""
             }
            },
            "marker": {
             "colorbar": {
              "outlinewidth": 0,
              "ticks": ""
             }
            },
            "type": "scatter3d"
           }
          ],
          "scattercarpet": [
           {
            "marker": {
             "colorbar": {
              "outlinewidth": 0,
              "ticks": ""
             }
            },
            "type": "scattercarpet"
           }
          ],
          "scattergeo": [
           {
            "marker": {
             "colorbar": {
              "outlinewidth": 0,
              "ticks": ""
             }
            },
            "type": "scattergeo"
           }
          ],
          "scattergl": [
           {
            "marker": {
             "colorbar": {
              "outlinewidth": 0,
              "ticks": ""
             }
            },
            "type": "scattergl"
           }
          ],
          "scattermapbox": [
           {
            "marker": {
             "colorbar": {
              "outlinewidth": 0,
              "ticks": ""
             }
            },
            "type": "scattermapbox"
           }
          ],
          "scatterpolar": [
           {
            "marker": {
             "colorbar": {
              "outlinewidth": 0,
              "ticks": ""
             }
            },
            "type": "scatterpolar"
           }
          ],
          "scatterpolargl": [
           {
            "marker": {
             "colorbar": {
              "outlinewidth": 0,
              "ticks": ""
             }
            },
            "type": "scatterpolargl"
           }
          ],
          "scatterternary": [
           {
            "marker": {
             "colorbar": {
              "outlinewidth": 0,
              "ticks": ""
             }
            },
            "type": "scatterternary"
           }
          ],
          "surface": [
           {
            "colorbar": {
             "outlinewidth": 0,
             "ticks": ""
            },
            "colorscale": [
             [
              0,
              "#0d0887"
             ],
             [
              0.1111111111111111,
              "#46039f"
             ],
             [
              0.2222222222222222,
              "#7201a8"
             ],
             [
              0.3333333333333333,
              "#9c179e"
             ],
             [
              0.4444444444444444,
              "#bd3786"
             ],
             [
              0.5555555555555556,
              "#d8576b"
             ],
             [
              0.6666666666666666,
              "#ed7953"
             ],
             [
              0.7777777777777778,
              "#fb9f3a"
             ],
             [
              0.8888888888888888,
              "#fdca26"
             ],
             [
              1,
              "#f0f921"
             ]
            ],
            "type": "surface"
           }
          ],
          "table": [
           {
            "cells": {
             "fill": {
              "color": "#EBF0F8"
             },
             "line": {
              "color": "white"
             }
            },
            "header": {
             "fill": {
              "color": "#C8D4E3"
             },
             "line": {
              "color": "white"
             }
            },
            "type": "table"
           }
          ]
         },
         "layout": {
          "annotationdefaults": {
           "arrowcolor": "#2a3f5f",
           "arrowhead": 0,
           "arrowwidth": 1
          },
          "coloraxis": {
           "colorbar": {
            "outlinewidth": 0,
            "ticks": ""
           }
          },
          "colorscale": {
           "diverging": [
            [
             0,
             "#8e0152"
            ],
            [
             0.1,
             "#c51b7d"
            ],
            [
             0.2,
             "#de77ae"
            ],
            [
             0.3,
             "#f1b6da"
            ],
            [
             0.4,
             "#fde0ef"
            ],
            [
             0.5,
             "#f7f7f7"
            ],
            [
             0.6,
             "#e6f5d0"
            ],
            [
             0.7,
             "#b8e186"
            ],
            [
             0.8,
             "#7fbc41"
            ],
            [
             0.9,
             "#4d9221"
            ],
            [
             1,
             "#276419"
            ]
           ],
           "sequential": [
            [
             0,
             "#0d0887"
            ],
            [
             0.1111111111111111,
             "#46039f"
            ],
            [
             0.2222222222222222,
             "#7201a8"
            ],
            [
             0.3333333333333333,
             "#9c179e"
            ],
            [
             0.4444444444444444,
             "#bd3786"
            ],
            [
             0.5555555555555556,
             "#d8576b"
            ],
            [
             0.6666666666666666,
             "#ed7953"
            ],
            [
             0.7777777777777778,
             "#fb9f3a"
            ],
            [
             0.8888888888888888,
             "#fdca26"
            ],
            [
             1,
             "#f0f921"
            ]
           ],
           "sequentialminus": [
            [
             0,
             "#0d0887"
            ],
            [
             0.1111111111111111,
             "#46039f"
            ],
            [
             0.2222222222222222,
             "#7201a8"
            ],
            [
             0.3333333333333333,
             "#9c179e"
            ],
            [
             0.4444444444444444,
             "#bd3786"
            ],
            [
             0.5555555555555556,
             "#d8576b"
            ],
            [
             0.6666666666666666,
             "#ed7953"
            ],
            [
             0.7777777777777778,
             "#fb9f3a"
            ],
            [
             0.8888888888888888,
             "#fdca26"
            ],
            [
             1,
             "#f0f921"
            ]
           ]
          },
          "colorway": [
           "#636efa",
           "#EF553B",
           "#00cc96",
           "#ab63fa",
           "#FFA15A",
           "#19d3f3",
           "#FF6692",
           "#B6E880",
           "#FF97FF",
           "#FECB52"
          ],
          "font": {
           "color": "#2a3f5f"
          },
          "geo": {
           "bgcolor": "white",
           "lakecolor": "white",
           "landcolor": "#E5ECF6",
           "showlakes": true,
           "showland": true,
           "subunitcolor": "white"
          },
          "hoverlabel": {
           "align": "left"
          },
          "hovermode": "closest",
          "mapbox": {
           "style": "light"
          },
          "paper_bgcolor": "white",
          "plot_bgcolor": "#E5ECF6",
          "polar": {
           "angularaxis": {
            "gridcolor": "white",
            "linecolor": "white",
            "ticks": ""
           },
           "bgcolor": "#E5ECF6",
           "radialaxis": {
            "gridcolor": "white",
            "linecolor": "white",
            "ticks": ""
           }
          },
          "scene": {
           "xaxis": {
            "backgroundcolor": "#E5ECF6",
            "gridcolor": "white",
            "gridwidth": 2,
            "linecolor": "white",
            "showbackground": true,
            "ticks": "",
            "zerolinecolor": "white"
           },
           "yaxis": {
            "backgroundcolor": "#E5ECF6",
            "gridcolor": "white",
            "gridwidth": 2,
            "linecolor": "white",
            "showbackground": true,
            "ticks": "",
            "zerolinecolor": "white"
           },
           "zaxis": {
            "backgroundcolor": "#E5ECF6",
            "gridcolor": "white",
            "gridwidth": 2,
            "linecolor": "white",
            "showbackground": true,
            "ticks": "",
            "zerolinecolor": "white"
           }
          },
          "shapedefaults": {
           "line": {
            "color": "#2a3f5f"
           }
          },
          "ternary": {
           "aaxis": {
            "gridcolor": "white",
            "linecolor": "white",
            "ticks": ""
           },
           "baxis": {
            "gridcolor": "white",
            "linecolor": "white",
            "ticks": ""
           },
           "bgcolor": "#E5ECF6",
           "caxis": {
            "gridcolor": "white",
            "linecolor": "white",
            "ticks": ""
           }
          },
          "title": {
           "x": 0.05
          },
          "xaxis": {
           "automargin": true,
           "gridcolor": "white",
           "linecolor": "white",
           "ticks": "",
           "title": {
            "standoff": 15
           },
           "zerolinecolor": "white",
           "zerolinewidth": 2
          },
          "yaxis": {
           "automargin": true,
           "gridcolor": "white",
           "linecolor": "white",
           "ticks": "",
           "title": {
            "standoff": 15
           },
           "zerolinecolor": "white",
           "zerolinewidth": 2
          }
         }
        }
       }
      },
      "image/png": "[encoded data removed]",
      "text/html": [
       "<div>                            <div id=\"8d902f9c-4866-4caa-9610-b5b030a5d085\" class=\"plotly-graph-div\" style=\"height:525px; width:100%;\"></div>            <script type=\"text/javascript\">                require([\"plotly\"], function(Plotly) {                    window.PLOTLYENV=window.PLOTLYENV || {};                                    if (document.getElementById(\"8d902f9c-4866-4caa-9610-b5b030a5d085\")) {                    Plotly.newPlot(                        \"8d902f9c-4866-4caa-9610-b5b030a5d085\",                        [{\"customdata\": [[24242, 177, 0.73, \"Ain\"], [8472, 336, 3.97, \"Aisne\"], [6232, 106, 1.7, \"Allier\"], [3004, 26, 0.87, \"Alpes-de-Haute-Provence\"], [3873, 44, 1.14, \"Hautes-Alpes\"], [24076, 292, 1.21, \"Alpes_Maritimes\"], [9134, 176, 1.93, \"Ardeche\"], [5123, 80, 1.56, \"Ardennes\"], [2845, 9, 0.32, \"Ariege\"], [6052, 162, 2.68, \"Aube\"], [5846, 86, 1.47, \"Aude\"], [6120, 58, 0.95, \"Aveyron\"], [81711, 1087, 1.33, \"Bouches-du-Rh\\u00f4ne\"], [12011, 133, 1.11, \"Calvados\"], [1965, 25, 1.27, \"Cantal\"], [3239, 20, 0.62, \"Charente\"], [4272, 69, 1.62, \"Charente-Maritime\"], [5244, 138, 2.63, \"Cher\"], [2810, 60, 2.14, \"Correze\"], [12998, 304, 2.34, \"C\\u00f4te-d'Or\"], [5492, 56, 1.02, \"C\\u00f4tes-D'Armor\"], [1795, 25, 1.39, \"Creuse\"], [4993, 22, 0.44, \"Dordogne\"], [12992, 163, 1.25, \"Doubs\"], [14252, 207, 1.45, \"Drome\"], [10428, 132, 1.27, \"Eure\"], [6912, 169, 2.45, \"Eure-et-Loire\"], [7830, 64, 0.82, \"Finist\\u00e8re\"], [3061, 60, 1.96, \"Corde-du-Sud\"], [2809, 27, 0.96, \"Haute-Corse\"], [20450, 185, 0.9, \"Gard\"], [38671, 184, 0.48, \"Haute-Garonne\"], [2982, 41, 1.37, \"Gers\"], [29555, 280, 0.95, \"Gironde\"], [30918, 283, 0.92, \"H\\u00e9rault\"], [19291, 140, 0.73, \"Ille-et-Vilaine\"], [2701, 86, 3.18, \"Indre\"], [11292, 127, 1.12, \"Indre-et-Loire\"], [50724, 387, 0.76, \"Is\\u00e8re\"], [6728, 90, 1.34, \"Jura\"], [6364, 28, 0.44, \"Landes\"], [4172, 91, 2.18, \"Loir-et-Cher\"], [39741, 487, 1.23, \"Loire\"], [9418, 48, 0.51, \"Haute-Loire\"], [24707, 241, 0.98, \"Loire-Atlantique\"], [15812, 142, 0.9, \"Loiret\"], [1658, 26, 1.57, \"Lot\"], [4654, 27, 0.58, \"Lot-et-Garonne\"], [1778, 22, 1.24, \"Loz\\u00e8re\"], [15871, 217, 1.37, \"Manne-et-Loire\"], [4715, 79, 1.68, \"Manche\"], [10349, 312, 3.01, \"Marne\"], [3027, 106, 3.5, \"Haute-Marne\"], [5590, 65, 1.16, \"Mayenne\"], [13740, 408, 2.97, \"Meurthe-et-Moselle\"], [2519, 120, 4.76, \"Meuse\"], [6896, 132, 1.91, \"Morbihan\"], [18347, 934, 5.09, \"Moselle\"], [2906, 36, 1.24, \"Ni\\u00e8vre\"], [108198, 1144, 1.06, \"Nord\"], [18958, 484, 2.55, \"Oise\"], [3596, 61, 1.7, \"Orne\"], [37838, 477, 1.26, \"Pas-de-Calais\"], [16259, 126, 0.77, \"Puy-de-D\\u00f4me\"], [15760, 78, 0.49, \"Pyr\\u00e9n\\u00e9es-Altantiques\"], [4819, 43, 0.89, \"Hautes-Pyr\\u00e9n\\u00e9es\"], [9348, 86, 0.92, \"Pyr\\u00e9n\\u00e9es-Orientales\"], [25612, 760, 2.97, \"Bas-Rhin\"], [12793, 858, 6.71, \"Haut-Rhin\"], [89762, 1085, 1.21, \"Rhone\"], [3701, 98, 2.65, \"Haute-Sa\\u00f4ne\"], [16115, 324, 2.01, \"Sa\\u00f4ne-et-Loire\"], [8708, 119, 1.37, \"Sarthe\"], [16326, 187, 1.15, \"Savoie\"], [29965, 275, 0.92, \"Haute-Savoie\"], [92008, 2188, 2.38, \"Paris\"], [28971, 359, 1.24, \"Seine-Maritime\"], [34737, 864, 2.49, \"Seine-et-Marne\"], [39208, 702, 1.79, \"Yvellines\"], [4452, 36, 0.81, \"Deux-S\\u00e8vres\"], [8763, 286, 3.26, \"Somme\"], [9061, 61, 0.67, \"Tarn\"], [5835, 42, 0.72, \"Tarn-et-Garonne\"], [24619, 251, 1.02, \"Var\"], [16019, 174, 1.09, \"Vaucluse\"], [7976, 53, 0.66, \"Vend\\u00e9e\"], [6169, 74, 1.2, \"Vienne\"], [6234, 64, 1.03, \"Haute-Vienne\"], [5943, 291, 4.9, \"Vosges\"], [6564, 106, 1.61, \"Yonne\"], [2313, 217, 9.38, \"Territoire de Belfort\"], [38160, 772, 2.02, \"Essonne\"], [58233, 1304, 2.24, \"Hauts-de-Seine\"], [56744, 1239, 2.18, \"Seine-Saint_Denis\"], [49507, 1471, 2.97, \"Val-de-Marne\"], [43045, 924, 2.15, \"Val-d'Oise\"], [7953, 148, 1.86, \"Guadeloupe\"], [4782, 36, 0.75, \"Martinique\"], [9833, 66, 0.67, \"Guyane\"], [6494, 34, 0.52, \"La R\\u00e9union\"], [2980, 32, 1.07, \"Mayotte\"]], \"hovertemplate\": \"%{customdata[3]}<br>Confirmed: %{customdata[0]}<br>Deaths: %{customdata[1]}<br>Death Rate: %{customdata[2]}\", \"hovertext\": [\"Ain\", \"Aisne\", \"Allier\", \"Alpes-de-Haute-Provence\", \"Hautes-Alpes\", \"Alpes_Maritimes\", \"Ardeche\", \"Ardennes\", \"Ariege\", \"Aube\", \"Aude\", \"Aveyron\", \"Bouches-du-Rh\\u00f4ne\", \"Calvados\", \"Cantal\", \"Charente\", \"Charente-Maritime\", \"Cher\", \"Correze\", \"C\\u00f4te-d'Or\", \"C\\u00f4tes-D'Armor\", \"Creuse\", \"Dordogne\", \"Doubs\", \"Drome\", \"Eure\", \"Eure-et-Loire\", \"Finist\\u00e8re\", \"Corde-du-Sud\", \"Haute-Corse\", \"Gard\", \"Haute-Garonne\", \"Gers\", \"Gironde\", \"H\\u00e9rault\", \"Ille-et-Vilaine\", \"Indre\", \"Indre-et-Loire\", \"Is\\u00e8re\", \"Jura\", \"Landes\", \"Loir-et-Cher\", \"Loire\", \"Haute-Loire\", \"Loire-Atlantique\", \"Loiret\", \"Lot\", \"Lot-et-Garonne\", \"Loz\\u00e8re\", \"Manne-et-Loire\", \"Manche\", \"Marne\", \"Haute-Marne\", \"Mayenne\", \"Meurthe-et-Moselle\", \"Meuse\", \"Morbihan\", \"Moselle\", \"Ni\\u00e8vre\", \"Nord\", \"Oise\", \"Orne\", \"Pas-de-Calais\", \"Puy-de-D\\u00f4me\", \"Pyr\\u00e9n\\u00e9es-Altantiques\", \"Hautes-Pyr\\u00e9n\\u00e9es\", \"Pyr\\u00e9n\\u00e9es-Orientales\", \"Bas-Rhin\", \"Haut-Rhin\", \"Rhone\", \"Haute-Sa\\u00f4ne\", \"Sa\\u00f4ne-et-Loire\", \"Sarthe\", \"Savoie\", \"Haute-Savoie\", \"Paris\", \"Seine-Maritime\", \"Seine-et-Marne\", \"Yvellines\", \"Deux-S\\u00e8vres\", \"Somme\", \"Tarn\", \"Tarn-et-Garonne\", \"Var\", \"Vaucluse\", \"Vend\\u00e9e\", \"Vienne\", \"Haute-Vienne\", \"Vosges\", \"Yonne\", \"Territoire de Belfort\", \"Essonne\", \"Hauts-de-Seine\", \"Seine-Saint_Denis\", \"Val-de-Marne\", \"Val-d'Oise\", \"Guadeloupe\", \"Martinique\", \"Guyane\", \"La R\\u00e9union\", \"Mayotte\"], \"lat\": [46.1, 49.55, 44.1, 44.09, 44.66, 43.94, 44.73, 49.61, 42.94, 48.31, 43.1, 44.28, 43.54, 49.1, 45.01, 45.71, 45.76, 47.07, 45.34, 47.43, 48.44, 46.08, 45.13, 47.16, 44.68, 49.1, 48.39, 48.27, 41.88, 42.37, 43.99, 43.35, 43.68, 44.84, 43.9, 48.18, 46.8, 47.24, 45.27, 46.73, 43.96, 47.61, 45.72, 45.13, 47.38, 47.85, 44.63, 44.37, 44.51, 47.39, 49.08, 48.38, 48.09, 48.12, 48.79, 49.0, 47.85, 49.02, 47.1, 50.45, 49.39, 48.61, 50.49, 45.73, 43.28, 43.05, 42.61, 48.65, 47.86, 45.86, 47.63, 46.64, 48.0, 45.47, 46.04, 48.85, 49.65, 48.6, 48.97, 46.53, 49.97, 43.77, 44.07, 43.47, 43.99, 46.67, 46.55, 45.87, 48.19, 47.84, 47.62, 48.52, 48.83, 48.9, 48.77, 49.07, 16.0, 14.6, 4.93, -20.88, -12.77], \"legendgroup\": \"\", \"lon\": [5.33, 3.56, 2.35, 6.23, 6.21, 7.12, 4.41, 4.61, 1.53, 4.14, 2.35, 2.72, 5.03, -0.37, 2.66, 0.2, -0.71, 2.52, 1.81, 4.78, -2.85, 2.04, 0.7, 6.37, 5.15, 1.0, 1.36, -4.04, 8.97, 9.23, 4.17, 1.23, 0.45, -0.58, 4.47, -1.64, 1.62, 0.69, 5.61, 5.69, -0.8, 1.41, 4.16, 3.81, -1.71, 2.26, 1.59, 0.46, 3.49, -0.53, -1.34, 7.47, 5.15, -0.67, 6.16, 5.39, -2.83, 6.65, 3.51, 3.2, 2.42, 0.11, 2.27, 3.14, -0.75, 0.16, 2.51, 7.56, 7.27, 4.66, 6.07, 4.53, 0.19, 6.45, 6.44, 2.35, 1.04, 2.97, 1.97, -0.32, 2.29, 2.18, 1.28, 6.18, 5.14, -1.28, 0.5, 1.23, 6.37, 3.57, 6.92, 2.26, 2.24, 2.48, 2.45, 2.17, -61.73, -61.06, -52.32, 55.45, 45.22], \"marker\": {\"color\": [24242, 8472, 6232, 3004, 3873, 24076, 9134, 5123, 2845, 6052, 5846, 6120, 81711, 12011, 1965, 3239, 4272, 5244, 2810, 12998, 5492, 1795, 4993, 12992, 14252, 10428, 6912, 7830, 3061, 2809, 20450, 38671, 2982, 29555, 30918, 19291, 2701, 11292, 50724, 6728, 6364, 4172, 39741, 9418, 24707, 15812, 1658, 4654, 1778, 15871, 4715, 10349, 3027, 5590, 13740, 2519, 6896, 18347, 2906, 108198, 18958, 3596, 37838, 16259, 15760, 4819, 9348, 25612, 12793, 89762, 3701, 16115, 8708, 16326, 29965, 92008, 28971, 34737, 39208, 4452, 8763, 9061, 5835, 24619, 16019, 7976, 6169, 6234, 5943, 6564, 2313, 38160, 58233, 56744, 49507, 43045, 7953, 4782, 9833, 6494, 2980], \"coloraxis\": \"coloraxis\", \"size\": [2377.484554036338, 1058.1547340679745, 835.3397200040388, 476.2433723033668, 579.1573505304175, 2364.938969663853, 1121.2668321189767, 718.3461260756542, 456.71297350615254, 816.6992709445839, 795.2089960088902, 823.756007896886, 6059.768101458753, 1384.4458014384197, 343.4702823701546, 504.6803899675894, 624.5771014868584, 731.3752607001021, 452.3804896530132, 1471.2447635882836, 757.8661451249291, 320.3536147297269, 704.2687300095035, 1470.7217976163304, 1579.3717898230493, 1241.6945854154433, 904.6797548869258, 995.8560285805103, 483.18646883417136, 452.2565226655637, 2085.613601729691, 3406.3303187910587, 473.5554968714483, 2769.400983105073, 2867.2315873643965, 1993.9908017827468, 438.8073868298169, 1320.1812777994053, 4197.728928748297, 886.0785160742472, 848.9306850115329, 613.2889090487564, 3478.6751042274846, 1148.0166539721804, 2412.522718399659, 1710.8811459348346, 301.3561682625631, 667.1543342110904, 318.0148883442622, 1715.7946312049228, 673.8774235487502, 1234.4450369372291, 479.04858769074826, 768.2580013072197, 1535.4998706600884, 415.8586017286437, 903.0668173269877, 1918.4261998796726, 464.2347216666669, 7522.268125640605, 1967.4343046357267, 546.9922283795738, 3349.690589089475, 1748.0033069448614, 1706.5471196417843, 685.2938482411536, 1141.4408258169688, 2480.2844456083717, 1453.345090584717, 6514.502286662494, 559.2496172310324, 1736.0704246152352, 1080.7797120255539, 1753.5471182099252, 2798.9361874785072, 6639.657917899694, 2727.1679496574293, 3136.245691219678, 3442.6946997801465, 644.7442383998529, 1086.032107650992, 1114.3602713066584, 794.0566048386935, 2405.9035580074383, 1728.1015473417722, 1010.1237024048421, 828.8298298661653, 835.5461345897169, 805.3495350680683, 869.4003300651594, 389.41729635617753, 3371.618606426836, 4668.531102804681, 4576.340801867767, 4119.962752218842, 3699.307971838386, 1007.8800677209292, 681.2387921648893, 1186.7746202733556, 862.2524934007286, 473.3109188267582], \"sizemode\": \"area\", \"sizeref\": 6.140627041339269}, \"mode\": \"markers\", \"name\": \"\", \"showlegend\": false, \"subplot\": \"mapbox\", \"type\": \"scattermapbox\"}],                        {\"coloraxis\": {\"colorbar\": {\"title\": {\"text\": \"nb_pos_cum\"}}, \"colorscale\": [[0.0, \"#fadc8f\"], [0.1, \"#f9d67a\"], [0.2, \"#f8d066\"], [0.3, \"#f8c952\"], [0.4, \"#f7c33d\"], [0.5, \"#f6bd29\"], [0.6, \"#f5b614\"], [0.7, \"#F4B000\"], [0.8, \"#eaa900\"], [0.9, \"#e0a200\"], [1.0, \"#dc9e00\"]]}, \"legend\": {\"itemsizing\": \"constant\", \"tracegroupgap\": 0}, \"mapbox\": {\"accesstoken\": \"pk.eyJ1IjoicG1lY2NoaWEiLCJhIjoiY2toNTVlajU4MDBtcTJycXBzNGlsOTByYyJ9.sfNsB0a0UzZxosdqWYhWyQ\", \"center\": {\"lat\": 46.4, \"lon\": 0.5}, \"domain\": {\"x\": [0.0, 1.0], \"y\": [0.0, 1.0]}, \"style\": \"dark\", \"zoom\": 3.5}, \"margin\": {\"t\": 60}, \"template\": {\"data\": {\"bar\": [{\"error_x\": {\"color\": \"#2a3f5f\"}, \"error_y\": {\"color\": \"#2a3f5f\"}, \"marker\": {\"line\": {\"color\": \"#E5ECF6\", \"width\": 0.5}}, \"type\": \"bar\"}], \"barpolar\": [{\"marker\": {\"line\": {\"color\": \"#E5ECF6\", \"width\": 0.5}}, \"type\": \"barpolar\"}], \"carpet\": [{\"aaxis\": {\"endlinecolor\": \"#2a3f5f\", \"gridcolor\": \"white\", \"linecolor\": \"white\", \"minorgridcolor\": \"white\", \"startlinecolor\": \"#2a3f5f\"}, \"baxis\": {\"endlinecolor\": \"#2a3f5f\", \"gridcolor\": \"white\", \"linecolor\": \"white\", \"minorgridcolor\": \"white\", \"startlinecolor\": \"#2a3f5f\"}, \"type\": \"carpet\"}], \"choropleth\": [{\"colorbar\": {\"outlinewidth\": 0, \"ticks\": \"\"}, \"type\": \"choropleth\"}], \"contour\": [{\"colorbar\": {\"outlinewidth\": 0, \"ticks\": \"\"}, \"colorscale\": [[0.0, \"#0d0887\"], [0.1111111111111111, \"#46039f\"], [0.2222222222222222, \"#7201a8\"], [0.3333333333333333, \"#9c179e\"], [0.4444444444444444, \"#bd3786\"], [0.5555555555555556, \"#d8576b\"], [0.6666666666666666, \"#ed7953\"], [0.7777777777777778, \"#fb9f3a\"], [0.8888888888888888, \"#fdca26\"], [1.0, \"#f0f921\"]], \"type\": \"contour\"}], \"contourcarpet\": [{\"colorbar\": {\"outlinewidth\": 0, \"ticks\": \"\"}, \"type\": \"contourcarpet\"}], \"heatmap\": [{\"colorbar\": {\"outlinewidth\": 0, \"ticks\": \"\"}, \"colorscale\": [[0.0, \"#0d0887\"], [0.1111111111111111, \"#46039f\"], [0.2222222222222222, \"#7201a8\"], [0.3333333333333333, \"#9c179e\"], [0.4444444444444444, \"#bd3786\"], [0.5555555555555556, \"#d8576b\"], [0.6666666666666666, \"#ed7953\"], [0.7777777777777778, \"#fb9f3a\"], [0.8888888888888888, \"#fdca26\"], [1.0, \"#f0f921\"]], \"type\": \"heatmap\"}], \"heatmapgl\": [{\"colorbar\": {\"outlinewidth\": 0, \"ticks\": \"\"}, \"colorscale\": [[0.0, \"#0d0887\"], [0.1111111111111111, \"#46039f\"], [0.2222222222222222, \"#7201a8\"], [0.3333333333333333, \"#9c179e\"], [0.4444444444444444, \"#bd3786\"], [0.5555555555555556, \"#d8576b\"], [0.6666666666666666, \"#ed7953\"], [0.7777777777777778, \"#fb9f3a\"], [0.8888888888888888, \"#fdca26\"], [1.0, \"#f0f921\"]], \"type\": \"heatmapgl\"}], \"histogram\": [{\"marker\": {\"colorbar\": {\"outlinewidth\": 0, \"ticks\": \"\"}}, \"type\": \"histogram\"}], \"histogram2d\": [{\"colorbar\": {\"outlinewidth\": 0, \"ticks\": \"\"}, \"colorscale\": [[0.0, \"#0d0887\"], [0.1111111111111111, \"#46039f\"], [0.2222222222222222, \"#7201a8\"], [0.3333333333333333, \"#9c179e\"], [0.4444444444444444, \"#bd3786\"], [0.5555555555555556, \"#d8576b\"], [0.6666666666666666, \"#ed7953\"], [0.7777777777777778, \"#fb9f3a\"], [0.8888888888888888, \"#fdca26\"], [1.0, \"#f0f921\"]], \"type\": \"histogram2d\"}], \"histogram2dcontour\": [{\"colorbar\": {\"outlinewidth\": 0, \"ticks\": \"\"}, \"colorscale\": [[0.0, \"#0d0887\"], [0.1111111111111111, \"#46039f\"], [0.2222222222222222, \"#7201a8\"], [0.3333333333333333, \"#9c179e\"], [0.4444444444444444, \"#bd3786\"], [0.5555555555555556, \"#d8576b\"], [0.6666666666666666, \"#ed7953\"], [0.7777777777777778, \"#fb9f3a\"], [0.8888888888888888, \"#fdca26\"], [1.0, \"#f0f921\"]], \"type\": \"histogram2dcontour\"}], \"mesh3d\": [{\"colorbar\": {\"outlinewidth\": 0, \"ticks\": \"\"}, \"type\": \"mesh3d\"}], \"parcoords\": [{\"line\": {\"colorbar\": {\"outlinewidth\": 0, \"ticks\": \"\"}}, \"type\": \"parcoords\"}], \"pie\": [{\"automargin\": true, \"type\": \"pie\"}], \"scatter\": [{\"marker\": {\"colorbar\": {\"outlinewidth\": 0, \"ticks\": \"\"}}, \"type\": \"scatter\"}], \"scatter3d\": [{\"line\": {\"colorbar\": {\"outlinewidth\": 0, \"ticks\": \"\"}}, \"marker\": {\"colorbar\": {\"outlinewidth\": 0, \"ticks\": \"\"}}, \"type\": \"scatter3d\"}], \"scattercarpet\": [{\"marker\": {\"colorbar\": {\"outlinewidth\": 0, \"ticks\": \"\"}}, \"type\": \"scattercarpet\"}], \"scattergeo\": [{\"marker\": {\"colorbar\": {\"outlinewidth\": 0, \"ticks\": \"\"}}, \"type\": \"scattergeo\"}], \"scattergl\": [{\"marker\": {\"colorbar\": {\"outlinewidth\": 0, \"ticks\": \"\"}}, \"type\": \"scattergl\"}], \"scattermapbox\": [{\"marker\": {\"colorbar\": {\"outlinewidth\": 0, \"ticks\": \"\"}}, \"type\": \"scattermapbox\"}], \"scatterpolar\": [{\"marker\": {\"colorbar\": {\"outlinewidth\": 0, \"ticks\": \"\"}}, \"type\": \"scatterpolar\"}], \"scatterpolargl\": [{\"marker\": {\"colorbar\": {\"outlinewidth\": 0, \"ticks\": \"\"}}, \"type\": \"scatterpolargl\"}], \"scatterternary\": [{\"marker\": {\"colorbar\": {\"outlinewidth\": 0, \"ticks\": \"\"}}, \"type\": \"scatterternary\"}], \"surface\": [{\"colorbar\": {\"outlinewidth\": 0, \"ticks\": \"\"}, \"colorscale\": [[0.0, \"#0d0887\"], [0.1111111111111111, \"#46039f\"], [0.2222222222222222, \"#7201a8\"], [0.3333333333333333, \"#9c179e\"], [0.4444444444444444, \"#bd3786\"], [0.5555555555555556, \"#d8576b\"], [0.6666666666666666, \"#ed7953\"], [0.7777777777777778, \"#fb9f3a\"], [0.8888888888888888, \"#fdca26\"], [1.0, \"#f0f921\"]], \"type\": \"surface\"}], \"table\": [{\"cells\": {\"fill\": {\"color\": \"#EBF0F8\"}, \"line\": {\"color\": \"white\"}}, \"header\": {\"fill\": {\"color\": \"#C8D4E3\"}, \"line\": {\"color\": \"white\"}}, \"type\": \"table\"}]}, \"layout\": {\"annotationdefaults\": {\"arrowcolor\": \"#2a3f5f\", \"arrowhead\": 0, \"arrowwidth\": 1}, \"coloraxis\": {\"colorbar\": {\"outlinewidth\": 0, \"ticks\": \"\"}}, \"colorscale\": {\"diverging\": [[0, \"#8e0152\"], [0.1, \"#c51b7d\"], [0.2, \"#de77ae\"], [0.3, \"#f1b6da\"], [0.4, \"#fde0ef\"], [0.5, \"#f7f7f7\"], [0.6, \"#e6f5d0\"], [0.7, \"#b8e186\"], [0.8, \"#7fbc41\"], [0.9, \"#4d9221\"], [1, \"#276419\"]], \"sequential\": [[0.0, \"#0d0887\"], [0.1111111111111111, \"#46039f\"], [0.2222222222222222, \"#7201a8\"], [0.3333333333333333, \"#9c179e\"], [0.4444444444444444, \"#bd3786\"], [0.5555555555555556, \"#d8576b\"], [0.6666666666666666, \"#ed7953\"], [0.7777777777777778, \"#fb9f3a\"], [0.8888888888888888, \"#fdca26\"], [1.0, \"#f0f921\"]], \"sequentialminus\": [[0.0, \"#0d0887\"], [0.1111111111111111, \"#46039f\"], [0.2222222222222222, \"#7201a8\"], [0.3333333333333333, \"#9c179e\"], [0.4444444444444444, \"#bd3786\"], [0.5555555555555556, \"#d8576b\"], [0.6666666666666666, \"#ed7953\"], [0.7777777777777778, \"#fb9f3a\"], [0.8888888888888888, \"#fdca26\"], [1.0, \"#f0f921\"]]}, \"colorway\": [\"#636efa\", \"#EF553B\", \"#00cc96\", \"#ab63fa\", \"#FFA15A\", \"#19d3f3\", \"#FF6692\", \"#B6E880\", \"#FF97FF\", \"#FECB52\"], \"font\": {\"color\": \"#2a3f5f\"}, \"geo\": {\"bgcolor\": \"white\", \"lakecolor\": \"white\", \"landcolor\": \"#E5ECF6\", \"showlakes\": true, \"showland\": true, \"subunitcolor\": \"white\"}, \"hoverlabel\": {\"align\": \"left\"}, \"hovermode\": \"closest\", \"mapbox\": {\"style\": \"light\"}, \"paper_bgcolor\": \"white\", \"plot_bgcolor\": \"#E5ECF6\", \"polar\": {\"angularaxis\": {\"gridcolor\": \"white\", \"linecolor\": \"white\", \"ticks\": \"\"}, \"bgcolor\": \"#E5ECF6\", \"radialaxis\": {\"gridcolor\": \"white\", \"linecolor\": \"white\", \"ticks\": \"\"}}, \"scene\": {\"xaxis\": {\"backgroundcolor\": \"#E5ECF6\", \"gridcolor\": \"white\", \"gridwidth\": 2, \"linecolor\": \"white\", \"showbackground\": true, \"ticks\": \"\", \"zerolinecolor\": \"white\"}, \"yaxis\": {\"backgroundcolor\": \"#E5ECF6\", \"gridcolor\": \"white\", \"gridwidth\": 2, \"linecolor\": \"white\", \"showbackground\": true, \"ticks\": \"\", \"zerolinecolor\": \"white\"}, \"zaxis\": {\"backgroundcolor\": \"#E5ECF6\", \"gridcolor\": \"white\", \"gridwidth\": 2, \"linecolor\": \"white\", \"showbackground\": true, \"ticks\": \"\", \"zerolinecolor\": \"white\"}}, \"shapedefaults\": {\"line\": {\"color\": \"#2a3f5f\"}}, \"ternary\": {\"aaxis\": {\"gridcolor\": \"white\", \"linecolor\": \"white\", \"ticks\": \"\"}, \"baxis\": {\"gridcolor\": \"white\", \"linecolor\": \"white\", \"ticks\": \"\"}, \"bgcolor\": \"#E5ECF6\", \"caxis\": {\"gridcolor\": \"white\", \"linecolor\": \"white\", \"ticks\": \"\"}}, \"title\": {\"x\": 0.05}, \"xaxis\": {\"automargin\": true, \"gridcolor\": \"white\", \"linecolor\": \"white\", \"ticks\": \"\", \"title\": {\"standoff\": 15}, \"zerolinecolor\": \"white\", \"zerolinewidth\": 2}, \"yaxis\": {\"automargin\": true, \"gridcolor\": \"white\", \"linecolor\": \"white\", \"ticks\": \"\", \"title\": {\"standoff\": 15}, \"zerolinecolor\": \"white\", \"zerolinewidth\": 2}}}},                        {\"responsive\": true}                    ).then(function(){\n",
       "                            \n",
       "var gd = document.getElementById('8d902f9c-4866-4caa-9610-b5b030a5d085');\n",
       "var x = new MutationObserver(function (mutations, observer) {{\n",
       "        var display = window.getComputedStyle(gd).display;\n",
       "        if (!display || display === 'none') {{\n",
       "            console.log([gd, 'removed!']);\n",
       "            Plotly.purge(gd);\n",
       "            observer.disconnect();\n",
       "        }}\n",
       "}});\n",
       "\n",
       "// Listen for the removal of the full notebook cells\n",
       "var notebookContainer = gd.closest('#notebook-container');\n",
       "if (notebookContainer) {{\n",
       "    x.observe(notebookContainer, {childList: true});\n",
       "}}\n",
       "\n",
       "// Listen for the clearing of the current output cell\n",
       "var outputEl = gd.closest('.output');\n",
       "if (outputEl) {{\n",
       "    x.observe(outputEl, {childList: true});\n",
       "}}\n",
       "\n",
       "                        })                };                });            </script>        </div>"
      ]
     },
     "metadata": {},
     "output_type": "display_data"
    }
   ],
   "source": [
    "plot_map()"
   ]
  },
  {
   "cell_type": "markdown",
   "metadata": {},
   "source": [
    "### **Graph**"
   ]
  },
  {
   "cell_type": "code",
   "execution_count": 128,
   "metadata": {},
   "outputs": [],
   "source": [
    "last_days=30\n",
    "select_df=\"departments\"\n",
    "dep_name = \"Aisne\""
   ]
  },
  {
   "cell_type": "code",
   "execution_count": 129,
   "metadata": {},
   "outputs": [],
   "source": [
    "all_df={\"departments\":df_dep[df_dep[\"dep_name\"]==dep_name],\"country\":df_france}"
   ]
  },
  {
   "cell_type": "code",
   "execution_count": 130,
   "metadata": {},
   "outputs": [
    {
     "data": {
      "text/html": [
       "<div>\n",
       "<style scoped>\n",
       "    .dataframe tbody tr th:only-of-type {\n",
       "        vertical-align: middle;\n",
       "    }\n",
       "\n",
       "    .dataframe tbody tr th {\n",
       "        vertical-align: top;\n",
       "    }\n",
       "\n",
       "    .dataframe thead th {\n",
       "        text-align: right;\n",
       "    }\n",
       "</style>\n",
       "<table border=\"1\" class=\"dataframe\">\n",
       "  <thead>\n",
       "    <tr style=\"text-align: right;\">\n",
       "      <th></th>\n",
       "      <th>jour</th>\n",
       "      <th>hosp</th>\n",
       "      <th>rea</th>\n",
       "      <th>rad</th>\n",
       "      <th>dc</th>\n",
       "      <th>nb_test</th>\n",
       "      <th>nb_pos</th>\n",
       "      <th>nb_test_cum</th>\n",
       "      <th>nb_pos_cum</th>\n",
       "      <th>lat</th>\n",
       "      <th>long</th>\n",
       "      <th>zoom</th>\n",
       "      <th>scaled</th>\n",
       "      <th>death_rate</th>\n",
       "      <th>new_death_rate</th>\n",
       "      <th>new_dc</th>\n",
       "    </tr>\n",
       "  </thead>\n",
       "  <tbody>\n",
       "    <tr>\n",
       "      <th>0</th>\n",
       "      <td>2020-03-18</td>\n",
       "      <td>2972</td>\n",
       "      <td>771</td>\n",
       "      <td>816</td>\n",
       "      <td>218</td>\n",
       "      <td>1571</td>\n",
       "      <td>394</td>\n",
       "      <td>1571</td>\n",
       "      <td>394</td>\n",
       "      <td>46.4</td>\n",
       "      <td>0.5</td>\n",
       "      <td>3.5</td>\n",
       "      <td>203.616730</td>\n",
       "      <td>55.33</td>\n",
       "      <td>55.33</td>\n",
       "      <td>218.0</td>\n",
       "    </tr>\n",
       "    <tr>\n",
       "      <th>1</th>\n",
       "      <td>2020-03-19</td>\n",
       "      <td>4073</td>\n",
       "      <td>1002</td>\n",
       "      <td>1180</td>\n",
       "      <td>327</td>\n",
       "      <td>2098</td>\n",
       "      <td>528</td>\n",
       "      <td>3669</td>\n",
       "      <td>922</td>\n",
       "      <td>46.4</td>\n",
       "      <td>0.5</td>\n",
       "      <td>3.5</td>\n",
       "      <td>417.529025</td>\n",
       "      <td>35.47</td>\n",
       "      <td>-19.86</td>\n",
       "      <td>109.0</td>\n",
       "    </tr>\n",
       "    <tr>\n",
       "      <th>2</th>\n",
       "      <td>2020-03-20</td>\n",
       "      <td>5226</td>\n",
       "      <td>1297</td>\n",
       "      <td>1587</td>\n",
       "      <td>450</td>\n",
       "      <td>2454</td>\n",
       "      <td>705</td>\n",
       "      <td>6123</td>\n",
       "      <td>1627</td>\n",
       "      <td>46.4</td>\n",
       "      <td>0.5</td>\n",
       "      <td>3.5</td>\n",
       "      <td>659.401414</td>\n",
       "      <td>27.66</td>\n",
       "      <td>-7.81</td>\n",
       "      <td>123.0</td>\n",
       "    </tr>\n",
       "    <tr>\n",
       "      <th>3</th>\n",
       "      <td>2020-03-21</td>\n",
       "      <td>5900</td>\n",
       "      <td>1453</td>\n",
       "      <td>1811</td>\n",
       "      <td>525</td>\n",
       "      <td>783</td>\n",
       "      <td>264</td>\n",
       "      <td>6906</td>\n",
       "      <td>1891</td>\n",
       "      <td>46.4</td>\n",
       "      <td>0.5</td>\n",
       "      <td>3.5</td>\n",
       "      <td>738.186095</td>\n",
       "      <td>27.76</td>\n",
       "      <td>0.10</td>\n",
       "      <td>75.0</td>\n",
       "    </tr>\n",
       "    <tr>\n",
       "      <th>4</th>\n",
       "      <td>2020-03-22</td>\n",
       "      <td>6954</td>\n",
       "      <td>1674</td>\n",
       "      <td>2117</td>\n",
       "      <td>632</td>\n",
       "      <td>555</td>\n",
       "      <td>250</td>\n",
       "      <td>7461</td>\n",
       "      <td>2141</td>\n",
       "      <td>46.4</td>\n",
       "      <td>0.5</td>\n",
       "      <td>3.5</td>\n",
       "      <td>802.354504</td>\n",
       "      <td>29.52</td>\n",
       "      <td>1.76</td>\n",
       "      <td>107.0</td>\n",
       "    </tr>\n",
       "  </tbody>\n",
       "</table>\n",
       "</div>"
      ],
      "text/plain": [
       "         jour  hosp   rea   rad   dc  nb_test  nb_pos  nb_test_cum  \\\n",
       "0  2020-03-18  2972   771   816  218     1571     394         1571   \n",
       "1  2020-03-19  4073  1002  1180  327     2098     528         3669   \n",
       "2  2020-03-20  5226  1297  1587  450     2454     705         6123   \n",
       "3  2020-03-21  5900  1453  1811  525      783     264         6906   \n",
       "4  2020-03-22  6954  1674  2117  632      555     250         7461   \n",
       "\n",
       "   nb_pos_cum   lat  long  zoom      scaled  death_rate  new_death_rate  \\\n",
       "0         394  46.4   0.5   3.5  203.616730       55.33           55.33   \n",
       "1         922  46.4   0.5   3.5  417.529025       35.47          -19.86   \n",
       "2        1627  46.4   0.5   3.5  659.401414       27.66           -7.81   \n",
       "3        1891  46.4   0.5   3.5  738.186095       27.76            0.10   \n",
       "4        2141  46.4   0.5   3.5  802.354504       29.52            1.76   \n",
       "\n",
       "   new_dc  \n",
       "0   218.0  \n",
       "1   109.0  \n",
       "2   123.0  \n",
       "3    75.0  \n",
       "4   107.0  "
      ]
     },
     "execution_count": 130,
     "metadata": {},
     "output_type": "execute_result"
    }
   ],
   "source": [
    "df_france.head()"
   ]
  },
  {
   "cell_type": "markdown",
   "metadata": {},
   "source": [
    "1. **Confirmed Cases**"
   ]
  },
  {
   "cell_type": "code",
   "execution_count": 131,
   "metadata": {},
   "outputs": [],
   "source": [
    "#z=df_dep[df_dep[\"dep\"]==dep_number]\n",
    "#z.tail()"
   ]
  },
  {
   "cell_type": "code",
   "execution_count": 132,
   "metadata": {},
   "outputs": [],
   "source": [
    "def confirmed_cases(selected_df,last_days_nb):    \n",
    "    fig_confirmed = go.Figure()\n",
    "    fig_confirmed.add_trace(\n",
    "        go.Scatter(\n",
    "            x=selected_df['jour'].tail(last_days_nb),\n",
    "            y=selected_df['nb_pos_cum'].tail(last_days_nb),\n",
    "            mode=\"lines\",\n",
    "            line={\"color\":\"#f9d67a\"},\n",
    "            showlegend=False,\n",
    "            #name=\"Total Confirmed Cases\"\n",
    "        )\n",
    "    )\n",
    "    fig_confirmed.add_trace(\n",
    "        go.Bar(\n",
    "            x=selected_df['jour'].tail(last_days),\n",
    "            y=selected_df['nb_pos'].tail(last_days),\n",
    "            marker={\"color\":\"#f9d67a\"},\n",
    "            showlegend=False,\n",
    "            #name=\"New Confirmed Cases\",\n",
    "\n",
    "        )\n",
    "    )\n",
    "\n",
    "\n",
    "    # LINE CHART ANNOTATION\n",
    "    fig_confirmed.add_annotation(\n",
    "         x=selected_df['jour'].tail(1).tolist()[0],\n",
    "         y=selected_df['nb_pos_cum'].tail(1).tolist()[0],\n",
    "         text=\"Total Confirmed Cases\",\n",
    "         font={\"size\": 14,\"color\":\"#ffffff\"},\n",
    "         xshift=-220,  # Annotation x displacement!\n",
    "         showarrow=False,\n",
    "    )\n",
    "\n",
    "    # BAR CHART ANNOTATION\n",
    "    fig_confirmed.add_annotation(\n",
    "        x=selected_df['jour'].tail(1).tolist()[0],\n",
    "        y=selected_df['nb_pos'].tail(1).max(),\n",
    "        text=\"New Confirmed Cases\",\n",
    "        font={\"size\": 14, \"color\":\"#ffffff\"},\n",
    "        xshift=-60,  # Annotation x displacement!\n",
    "        yshift=20,  # Annotation y displacement!\n",
    "        showarrow=False,\n",
    "        )\n",
    "    fig_confirmed.update_layout(\n",
    "        template=\"plotly_dark\",\n",
    "        xaxis={\"title\":\"Dates\"},\n",
    "        yaxis={\"title\":\"Number of cases\"},\n",
    "        autosize=True,\n",
    "    )\n",
    "    fig_confirmed.show()"
   ]
  },
  {
   "cell_type": "code",
   "execution_count": 133,
   "metadata": {},
   "outputs": [
    {
     "data": {
      "application/vnd.plotly.v1+json": {
       "config": {
        "plotlyServerURL": "https://plot.ly"
       },
       "data": [
        {
         "line": {
          "color": "#f9d67a"
         },
         "mode": "lines",
         "showlegend": false,
         "type": "scatter",
         "x": [
          "2020-10-09",
          "2020-10-10",
          "2020-10-11",
          "2020-10-12",
          "2020-10-13",
          "2020-10-14",
          "2020-10-15",
          "2020-10-16",
          "2020-10-17",
          "2020-10-18",
          "2020-10-19",
          "2020-10-20",
          "2020-10-21",
          "2020-10-22",
          "2020-10-23",
          "2020-10-24",
          "2020-10-25",
          "2020-10-26",
          "2020-10-27",
          "2020-10-28",
          "2020-10-29",
          "2020-10-30",
          "2020-10-31",
          "2020-11-01",
          "2020-11-02",
          "2020-11-03",
          "2020-11-04",
          "2020-11-05",
          "2020-11-06",
          "2020-11-07"
         ],
         "y": [
          2566,
          2636,
          2640,
          2769,
          2938,
          3065,
          3253,
          3451,
          3547,
          3553,
          3796,
          4074,
          4265,
          4601,
          4903,
          5068,
          5078,
          5355,
          5688,
          5967,
          6271,
          6581,
          6776,
          6792,
          7111,
          7425,
          7720,
          8029,
          8312,
          8472
         ]
        },
        {
         "marker": {
          "color": "#f9d67a"
         },
         "showlegend": false,
         "type": "bar",
         "x": [
          "2020-10-09",
          "2020-10-10",
          "2020-10-11",
          "2020-10-12",
          "2020-10-13",
          "2020-10-14",
          "2020-10-15",
          "2020-10-16",
          "2020-10-17",
          "2020-10-18",
          "2020-10-19",
          "2020-10-20",
          "2020-10-21",
          "2020-10-22",
          "2020-10-23",
          "2020-10-24",
          "2020-10-25",
          "2020-10-26",
          "2020-10-27",
          "2020-10-28",
          "2020-10-29",
          "2020-10-30",
          "2020-10-31",
          "2020-11-01",
          "2020-11-02",
          "2020-11-03",
          "2020-11-04",
          "2020-11-05",
          "2020-11-06",
          "2020-11-07"
         ],
         "y": [
          101,
          70,
          4,
          129,
          169,
          127,
          188,
          198,
          96,
          6,
          243,
          278,
          191,
          336,
          302,
          165,
          10,
          277,
          333,
          279,
          304,
          310,
          195,
          16,
          319,
          314,
          295,
          309,
          283,
          160
         ]
        }
       ],
       "layout": {
        "annotations": [
         {
          "font": {
           "color": "#ffffff",
           "size": 14
          },
          "showarrow": false,
          "text": "Total Confirmed Cases",
          "x": "2020-11-07",
          "xshift": -220,
          "y": 8472
         },
         {
          "font": {
           "color": "#ffffff",
           "size": 14
          },
          "showarrow": false,
          "text": "New Confirmed Cases",
          "x": "2020-11-07",
          "xshift": -60,
          "y": 160,
          "yshift": 20
         }
        ],
        "autosize": true,
        "template": {
         "data": {
          "bar": [
           {
            "error_x": {
             "color": "#f2f5fa"
            },
            "error_y": {
             "color": "#f2f5fa"
            },
            "marker": {
             "line": {
              "color": "rgb(17,17,17)",
              "width": 0.5
             }
            },
            "type": "bar"
           }
          ],
          "barpolar": [
           {
            "marker": {
             "line": {
              "color": "rgb(17,17,17)",
              "width": 0.5
             }
            },
            "type": "barpolar"
           }
          ],
          "carpet": [
           {
            "aaxis": {
             "endlinecolor": "#A2B1C6",
             "gridcolor": "#506784",
             "linecolor": "#506784",
             "minorgridcolor": "#506784",
             "startlinecolor": "#A2B1C6"
            },
            "baxis": {
             "endlinecolor": "#A2B1C6",
             "gridcolor": "#506784",
             "linecolor": "#506784",
             "minorgridcolor": "#506784",
             "startlinecolor": "#A2B1C6"
            },
            "type": "carpet"
           }
          ],
          "choropleth": [
           {
            "colorbar": {
             "outlinewidth": 0,
             "ticks": ""
            },
            "type": "choropleth"
           }
          ],
          "contour": [
           {
            "colorbar": {
             "outlinewidth": 0,
             "ticks": ""
            },
            "colorscale": [
             [
              0,
              "#0d0887"
             ],
             [
              0.1111111111111111,
              "#46039f"
             ],
             [
              0.2222222222222222,
              "#7201a8"
             ],
             [
              0.3333333333333333,
              "#9c179e"
             ],
             [
              0.4444444444444444,
              "#bd3786"
             ],
             [
              0.5555555555555556,
              "#d8576b"
             ],
             [
              0.6666666666666666,
              "#ed7953"
             ],
             [
              0.7777777777777778,
              "#fb9f3a"
             ],
             [
              0.8888888888888888,
              "#fdca26"
             ],
             [
              1,
              "#f0f921"
             ]
            ],
            "type": "contour"
           }
          ],
          "contourcarpet": [
           {
            "colorbar": {
             "outlinewidth": 0,
             "ticks": ""
            },
            "type": "contourcarpet"
           }
          ],
          "heatmap": [
           {
            "colorbar": {
             "outlinewidth": 0,
             "ticks": ""
            },
            "colorscale": [
             [
              0,
              "#0d0887"
             ],
             [
              0.1111111111111111,
              "#46039f"
             ],
             [
              0.2222222222222222,
              "#7201a8"
             ],
             [
              0.3333333333333333,
              "#9c179e"
             ],
             [
              0.4444444444444444,
              "#bd3786"
             ],
             [
              0.5555555555555556,
              "#d8576b"
             ],
             [
              0.6666666666666666,
              "#ed7953"
             ],
             [
              0.7777777777777778,
              "#fb9f3a"
             ],
             [
              0.8888888888888888,
              "#fdca26"
             ],
             [
              1,
              "#f0f921"
             ]
            ],
            "type": "heatmap"
           }
          ],
          "heatmapgl": [
           {
            "colorbar": {
             "outlinewidth": 0,
             "ticks": ""
            },
            "colorscale": [
             [
              0,
              "#0d0887"
             ],
             [
              0.1111111111111111,
              "#46039f"
             ],
             [
              0.2222222222222222,
              "#7201a8"
             ],
             [
              0.3333333333333333,
              "#9c179e"
             ],
             [
              0.4444444444444444,
              "#bd3786"
             ],
             [
              0.5555555555555556,
              "#d8576b"
             ],
             [
              0.6666666666666666,
              "#ed7953"
             ],
             [
              0.7777777777777778,
              "#fb9f3a"
             ],
             [
              0.8888888888888888,
              "#fdca26"
             ],
             [
              1,
              "#f0f921"
             ]
            ],
            "type": "heatmapgl"
           }
          ],
          "histogram": [
           {
            "marker": {
             "colorbar": {
              "outlinewidth": 0,
              "ticks": ""
             }
            },
            "type": "histogram"
           }
          ],
          "histogram2d": [
           {
            "colorbar": {
             "outlinewidth": 0,
             "ticks": ""
            },
            "colorscale": [
             [
              0,
              "#0d0887"
             ],
             [
              0.1111111111111111,
              "#46039f"
             ],
             [
              0.2222222222222222,
              "#7201a8"
             ],
             [
              0.3333333333333333,
              "#9c179e"
             ],
             [
              0.4444444444444444,
              "#bd3786"
             ],
             [
              0.5555555555555556,
              "#d8576b"
             ],
             [
              0.6666666666666666,
              "#ed7953"
             ],
             [
              0.7777777777777778,
              "#fb9f3a"
             ],
             [
              0.8888888888888888,
              "#fdca26"
             ],
             [
              1,
              "#f0f921"
             ]
            ],
            "type": "histogram2d"
           }
          ],
          "histogram2dcontour": [
           {
            "colorbar": {
             "outlinewidth": 0,
             "ticks": ""
            },
            "colorscale": [
             [
              0,
              "#0d0887"
             ],
             [
              0.1111111111111111,
              "#46039f"
             ],
             [
              0.2222222222222222,
              "#7201a8"
             ],
             [
              0.3333333333333333,
              "#9c179e"
             ],
             [
              0.4444444444444444,
              "#bd3786"
             ],
             [
              0.5555555555555556,
              "#d8576b"
             ],
             [
              0.6666666666666666,
              "#ed7953"
             ],
             [
              0.7777777777777778,
              "#fb9f3a"
             ],
             [
              0.8888888888888888,
              "#fdca26"
             ],
             [
              1,
              "#f0f921"
             ]
            ],
            "type": "histogram2dcontour"
           }
          ],
          "mesh3d": [
           {
            "colorbar": {
             "outlinewidth": 0,
             "ticks": ""
            },
            "type": "mesh3d"
           }
          ],
          "parcoords": [
           {
            "line": {
             "colorbar": {
              "outlinewidth": 0,
              "ticks": ""
             }
            },
            "type": "parcoords"
           }
          ],
          "pie": [
           {
            "automargin": true,
            "type": "pie"
           }
          ],
          "scatter": [
           {
            "marker": {
             "line": {
              "color": "#283442"
             }
            },
            "type": "scatter"
           }
          ],
          "scatter3d": [
           {
            "line": {
             "colorbar": {
              "outlinewidth": 0,
              "ticks": ""
             }
            },
            "marker": {
             "colorbar": {
              "outlinewidth": 0,
              "ticks": ""
             }
            },
            "type": "scatter3d"
           }
          ],
          "scattercarpet": [
           {
            "marker": {
             "colorbar": {
              "outlinewidth": 0,
              "ticks": ""
             }
            },
            "type": "scattercarpet"
           }
          ],
          "scattergeo": [
           {
            "marker": {
             "colorbar": {
              "outlinewidth": 0,
              "ticks": ""
             }
            },
            "type": "scattergeo"
           }
          ],
          "scattergl": [
           {
            "marker": {
             "line": {
              "color": "#283442"
             }
            },
            "type": "scattergl"
           }
          ],
          "scattermapbox": [
           {
            "marker": {
             "colorbar": {
              "outlinewidth": 0,
              "ticks": ""
             }
            },
            "type": "scattermapbox"
           }
          ],
          "scatterpolar": [
           {
            "marker": {
             "colorbar": {
              "outlinewidth": 0,
              "ticks": ""
             }
            },
            "type": "scatterpolar"
           }
          ],
          "scatterpolargl": [
           {
            "marker": {
             "colorbar": {
              "outlinewidth": 0,
              "ticks": ""
             }
            },
            "type": "scatterpolargl"
           }
          ],
          "scatterternary": [
           {
            "marker": {
             "colorbar": {
              "outlinewidth": 0,
              "ticks": ""
             }
            },
            "type": "scatterternary"
           }
          ],
          "surface": [
           {
            "colorbar": {
             "outlinewidth": 0,
             "ticks": ""
            },
            "colorscale": [
             [
              0,
              "#0d0887"
             ],
             [
              0.1111111111111111,
              "#46039f"
             ],
             [
              0.2222222222222222,
              "#7201a8"
             ],
             [
              0.3333333333333333,
              "#9c179e"
             ],
             [
              0.4444444444444444,
              "#bd3786"
             ],
             [
              0.5555555555555556,
              "#d8576b"
             ],
             [
              0.6666666666666666,
              "#ed7953"
             ],
             [
              0.7777777777777778,
              "#fb9f3a"
             ],
             [
              0.8888888888888888,
              "#fdca26"
             ],
             [
              1,
              "#f0f921"
             ]
            ],
            "type": "surface"
           }
          ],
          "table": [
           {
            "cells": {
             "fill": {
              "color": "#506784"
             },
             "line": {
              "color": "rgb(17,17,17)"
             }
            },
            "header": {
             "fill": {
              "color": "#2a3f5f"
             },
             "line": {
              "color": "rgb(17,17,17)"
             }
            },
            "type": "table"
           }
          ]
         },
         "layout": {
          "annotationdefaults": {
           "arrowcolor": "#f2f5fa",
           "arrowhead": 0,
           "arrowwidth": 1
          },
          "coloraxis": {
           "colorbar": {
            "outlinewidth": 0,
            "ticks": ""
           }
          },
          "colorscale": {
           "diverging": [
            [
             0,
             "#8e0152"
            ],
            [
             0.1,
             "#c51b7d"
            ],
            [
             0.2,
             "#de77ae"
            ],
            [
             0.3,
             "#f1b6da"
            ],
            [
             0.4,
             "#fde0ef"
            ],
            [
             0.5,
             "#f7f7f7"
            ],
            [
             0.6,
             "#e6f5d0"
            ],
            [
             0.7,
             "#b8e186"
            ],
            [
             0.8,
             "#7fbc41"
            ],
            [
             0.9,
             "#4d9221"
            ],
            [
             1,
             "#276419"
            ]
           ],
           "sequential": [
            [
             0,
             "#0d0887"
            ],
            [
             0.1111111111111111,
             "#46039f"
            ],
            [
             0.2222222222222222,
             "#7201a8"
            ],
            [
             0.3333333333333333,
             "#9c179e"
            ],
            [
             0.4444444444444444,
             "#bd3786"
            ],
            [
             0.5555555555555556,
             "#d8576b"
            ],
            [
             0.6666666666666666,
             "#ed7953"
            ],
            [
             0.7777777777777778,
             "#fb9f3a"
            ],
            [
             0.8888888888888888,
             "#fdca26"
            ],
            [
             1,
             "#f0f921"
            ]
           ],
           "sequentialminus": [
            [
             0,
             "#0d0887"
            ],
            [
             0.1111111111111111,
             "#46039f"
            ],
            [
             0.2222222222222222,
             "#7201a8"
            ],
            [
             0.3333333333333333,
             "#9c179e"
            ],
            [
             0.4444444444444444,
             "#bd3786"
            ],
            [
             0.5555555555555556,
             "#d8576b"
            ],
            [
             0.6666666666666666,
             "#ed7953"
            ],
            [
             0.7777777777777778,
             "#fb9f3a"
            ],
            [
             0.8888888888888888,
             "#fdca26"
            ],
            [
             1,
             "#f0f921"
            ]
           ]
          },
          "colorway": [
           "#636efa",
           "#EF553B",
           "#00cc96",
           "#ab63fa",
           "#FFA15A",
           "#19d3f3",
           "#FF6692",
           "#B6E880",
           "#FF97FF",
           "#FECB52"
          ],
          "font": {
           "color": "#f2f5fa"
          },
          "geo": {
           "bgcolor": "rgb(17,17,17)",
           "lakecolor": "rgb(17,17,17)",
           "landcolor": "rgb(17,17,17)",
           "showlakes": true,
           "showland": true,
           "subunitcolor": "#506784"
          },
          "hoverlabel": {
           "align": "left"
          },
          "hovermode": "closest",
          "mapbox": {
           "style": "dark"
          },
          "paper_bgcolor": "rgb(17,17,17)",
          "plot_bgcolor": "rgb(17,17,17)",
          "polar": {
           "angularaxis": {
            "gridcolor": "#506784",
            "linecolor": "#506784",
            "ticks": ""
           },
           "bgcolor": "rgb(17,17,17)",
           "radialaxis": {
            "gridcolor": "#506784",
            "linecolor": "#506784",
            "ticks": ""
           }
          },
          "scene": {
           "xaxis": {
            "backgroundcolor": "rgb(17,17,17)",
            "gridcolor": "#506784",
            "gridwidth": 2,
            "linecolor": "#506784",
            "showbackground": true,
            "ticks": "",
            "zerolinecolor": "#C8D4E3"
           },
           "yaxis": {
            "backgroundcolor": "rgb(17,17,17)",
            "gridcolor": "#506784",
            "gridwidth": 2,
            "linecolor": "#506784",
            "showbackground": true,
            "ticks": "",
            "zerolinecolor": "#C8D4E3"
           },
           "zaxis": {
            "backgroundcolor": "rgb(17,17,17)",
            "gridcolor": "#506784",
            "gridwidth": 2,
            "linecolor": "#506784",
            "showbackground": true,
            "ticks": "",
            "zerolinecolor": "#C8D4E3"
           }
          },
          "shapedefaults": {
           "line": {
            "color": "#f2f5fa"
           }
          },
          "sliderdefaults": {
           "bgcolor": "#C8D4E3",
           "bordercolor": "rgb(17,17,17)",
           "borderwidth": 1,
           "tickwidth": 0
          },
          "ternary": {
           "aaxis": {
            "gridcolor": "#506784",
            "linecolor": "#506784",
            "ticks": ""
           },
           "baxis": {
            "gridcolor": "#506784",
            "linecolor": "#506784",
            "ticks": ""
           },
           "bgcolor": "rgb(17,17,17)",
           "caxis": {
            "gridcolor": "#506784",
            "linecolor": "#506784",
            "ticks": ""
           }
          },
          "title": {
           "x": 0.05
          },
          "updatemenudefaults": {
           "bgcolor": "#506784",
           "borderwidth": 0
          },
          "xaxis": {
           "automargin": true,
           "gridcolor": "#283442",
           "linecolor": "#506784",
           "ticks": "",
           "title": {
            "standoff": 15
           },
           "zerolinecolor": "#283442",
           "zerolinewidth": 2
          },
          "yaxis": {
           "automargin": true,
           "gridcolor": "#283442",
           "linecolor": "#506784",
           "ticks": "",
           "title": {
            "standoff": 15
           },
           "zerolinecolor": "#283442",
           "zerolinewidth": 2
          }
         }
        },
        "xaxis": {
         "autorange": true,
         "range": [
          "2020-10-08 12:00",
          "2020-11-07 17:36:26.3874"
         ],
         "title": {
          "text": "Dates"
         },
         "type": "date"
        },
        "yaxis": {
         "autorange": true,
         "range": [
          0,
          8917.894736842105
         ],
         "title": {
          "text": "Number of cases"
         },
         "type": "linear"
        }
       }
      },
      "image/png": "[encoded data removed]",
      "text/html": [
       "<div>                            <div id=\"a938302a-a0eb-4c2a-98e7-8795154a5220\" class=\"plotly-graph-div\" style=\"height:525px; width:100%;\"></div>            <script type=\"text/javascript\">                require([\"plotly\"], function(Plotly) {                    window.PLOTLYENV=window.PLOTLYENV || {};                                    if (document.getElementById(\"a938302a-a0eb-4c2a-98e7-8795154a5220\")) {                    Plotly.newPlot(                        \"a938302a-a0eb-4c2a-98e7-8795154a5220\",                        [{\"line\": {\"color\": \"#f9d67a\"}, \"mode\": \"lines\", \"showlegend\": false, \"type\": \"scatter\", \"x\": [\"2020-10-09\", \"2020-10-10\", \"2020-10-11\", \"2020-10-12\", \"2020-10-13\", \"2020-10-14\", \"2020-10-15\", \"2020-10-16\", \"2020-10-17\", \"2020-10-18\", \"2020-10-19\", \"2020-10-20\", \"2020-10-21\", \"2020-10-22\", \"2020-10-23\", \"2020-10-24\", \"2020-10-25\", \"2020-10-26\", \"2020-10-27\", \"2020-10-28\", \"2020-10-29\", \"2020-10-30\", \"2020-10-31\", \"2020-11-01\", \"2020-11-02\", \"2020-11-03\", \"2020-11-04\", \"2020-11-05\", \"2020-11-06\", \"2020-11-07\"], \"y\": [2566, 2636, 2640, 2769, 2938, 3065, 3253, 3451, 3547, 3553, 3796, 4074, 4265, 4601, 4903, 5068, 5078, 5355, 5688, 5967, 6271, 6581, 6776, 6792, 7111, 7425, 7720, 8029, 8312, 8472]}, {\"marker\": {\"color\": \"#f9d67a\"}, \"showlegend\": false, \"type\": \"bar\", \"x\": [\"2020-10-09\", \"2020-10-10\", \"2020-10-11\", \"2020-10-12\", \"2020-10-13\", \"2020-10-14\", \"2020-10-15\", \"2020-10-16\", \"2020-10-17\", \"2020-10-18\", \"2020-10-19\", \"2020-10-20\", \"2020-10-21\", \"2020-10-22\", \"2020-10-23\", \"2020-10-24\", \"2020-10-25\", \"2020-10-26\", \"2020-10-27\", \"2020-10-28\", \"2020-10-29\", \"2020-10-30\", \"2020-10-31\", \"2020-11-01\", \"2020-11-02\", \"2020-11-03\", \"2020-11-04\", \"2020-11-05\", \"2020-11-06\", \"2020-11-07\"], \"y\": [101, 70, 4, 129, 169, 127, 188, 198, 96, 6, 243, 278, 191, 336, 302, 165, 10, 277, 333, 279, 304, 310, 195, 16, 319, 314, 295, 309, 283, 160]}],                        {\"annotations\": [{\"font\": {\"color\": \"#ffffff\", \"size\": 14}, \"showarrow\": false, \"text\": \"Total Confirmed Cases\", \"x\": \"2020-11-07\", \"xshift\": -220, \"y\": 8472}, {\"font\": {\"color\": \"#ffffff\", \"size\": 14}, \"showarrow\": false, \"text\": \"New Confirmed Cases\", \"x\": \"2020-11-07\", \"xshift\": -60, \"y\": 160, \"yshift\": 20}], \"autosize\": true, \"template\": {\"data\": {\"bar\": [{\"error_x\": {\"color\": \"#f2f5fa\"}, \"error_y\": {\"color\": \"#f2f5fa\"}, \"marker\": {\"line\": {\"color\": \"rgb(17,17,17)\", \"width\": 0.5}}, \"type\": \"bar\"}], \"barpolar\": [{\"marker\": {\"line\": {\"color\": \"rgb(17,17,17)\", \"width\": 0.5}}, \"type\": \"barpolar\"}], \"carpet\": [{\"aaxis\": {\"endlinecolor\": \"#A2B1C6\", \"gridcolor\": \"#506784\", \"linecolor\": \"#506784\", \"minorgridcolor\": \"#506784\", \"startlinecolor\": \"#A2B1C6\"}, \"baxis\": {\"endlinecolor\": \"#A2B1C6\", \"gridcolor\": \"#506784\", \"linecolor\": \"#506784\", \"minorgridcolor\": \"#506784\", \"startlinecolor\": \"#A2B1C6\"}, \"type\": \"carpet\"}], \"choropleth\": [{\"colorbar\": {\"outlinewidth\": 0, \"ticks\": \"\"}, \"type\": \"choropleth\"}], \"contour\": [{\"colorbar\": {\"outlinewidth\": 0, \"ticks\": \"\"}, \"colorscale\": [[0.0, \"#0d0887\"], [0.1111111111111111, \"#46039f\"], [0.2222222222222222, \"#7201a8\"], [0.3333333333333333, \"#9c179e\"], [0.4444444444444444, \"#bd3786\"], [0.5555555555555556, \"#d8576b\"], [0.6666666666666666, \"#ed7953\"], [0.7777777777777778, \"#fb9f3a\"], [0.8888888888888888, \"#fdca26\"], [1.0, \"#f0f921\"]], \"type\": \"contour\"}], \"contourcarpet\": [{\"colorbar\": {\"outlinewidth\": 0, \"ticks\": \"\"}, \"type\": \"contourcarpet\"}], \"heatmap\": [{\"colorbar\": {\"outlinewidth\": 0, \"ticks\": \"\"}, \"colorscale\": [[0.0, \"#0d0887\"], [0.1111111111111111, \"#46039f\"], [0.2222222222222222, \"#7201a8\"], [0.3333333333333333, \"#9c179e\"], [0.4444444444444444, \"#bd3786\"], [0.5555555555555556, \"#d8576b\"], [0.6666666666666666, \"#ed7953\"], [0.7777777777777778, \"#fb9f3a\"], [0.8888888888888888, \"#fdca26\"], [1.0, \"#f0f921\"]], \"type\": \"heatmap\"}], \"heatmapgl\": [{\"colorbar\": {\"outlinewidth\": 0, \"ticks\": \"\"}, \"colorscale\": [[0.0, \"#0d0887\"], [0.1111111111111111, \"#46039f\"], [0.2222222222222222, \"#7201a8\"], [0.3333333333333333, \"#9c179e\"], [0.4444444444444444, \"#bd3786\"], [0.5555555555555556, \"#d8576b\"], [0.6666666666666666, \"#ed7953\"], [0.7777777777777778, \"#fb9f3a\"], [0.8888888888888888, \"#fdca26\"], [1.0, \"#f0f921\"]], \"type\": \"heatmapgl\"}], \"histogram\": [{\"marker\": {\"colorbar\": {\"outlinewidth\": 0, \"ticks\": \"\"}}, \"type\": \"histogram\"}], \"histogram2d\": [{\"colorbar\": {\"outlinewidth\": 0, \"ticks\": \"\"}, \"colorscale\": [[0.0, \"#0d0887\"], [0.1111111111111111, \"#46039f\"], [0.2222222222222222, \"#7201a8\"], [0.3333333333333333, \"#9c179e\"], [0.4444444444444444, \"#bd3786\"], [0.5555555555555556, \"#d8576b\"], [0.6666666666666666, \"#ed7953\"], [0.7777777777777778, \"#fb9f3a\"], [0.8888888888888888, \"#fdca26\"], [1.0, \"#f0f921\"]], \"type\": \"histogram2d\"}], \"histogram2dcontour\": [{\"colorbar\": {\"outlinewidth\": 0, \"ticks\": \"\"}, \"colorscale\": [[0.0, \"#0d0887\"], [0.1111111111111111, \"#46039f\"], [0.2222222222222222, \"#7201a8\"], [0.3333333333333333, \"#9c179e\"], [0.4444444444444444, \"#bd3786\"], [0.5555555555555556, \"#d8576b\"], [0.6666666666666666, \"#ed7953\"], [0.7777777777777778, \"#fb9f3a\"], [0.8888888888888888, \"#fdca26\"], [1.0, \"#f0f921\"]], \"type\": \"histogram2dcontour\"}], \"mesh3d\": [{\"colorbar\": {\"outlinewidth\": 0, \"ticks\": \"\"}, \"type\": \"mesh3d\"}], \"parcoords\": [{\"line\": {\"colorbar\": {\"outlinewidth\": 0, \"ticks\": \"\"}}, \"type\": \"parcoords\"}], \"pie\": [{\"automargin\": true, \"type\": \"pie\"}], \"scatter\": [{\"marker\": {\"line\": {\"color\": \"#283442\"}}, \"type\": \"scatter\"}], \"scatter3d\": [{\"line\": {\"colorbar\": {\"outlinewidth\": 0, \"ticks\": \"\"}}, \"marker\": {\"colorbar\": {\"outlinewidth\": 0, \"ticks\": \"\"}}, \"type\": \"scatter3d\"}], \"scattercarpet\": [{\"marker\": {\"colorbar\": {\"outlinewidth\": 0, \"ticks\": \"\"}}, \"type\": \"scattercarpet\"}], \"scattergeo\": [{\"marker\": {\"colorbar\": {\"outlinewidth\": 0, \"ticks\": \"\"}}, \"type\": \"scattergeo\"}], \"scattergl\": [{\"marker\": {\"line\": {\"color\": \"#283442\"}}, \"type\": \"scattergl\"}], \"scattermapbox\": [{\"marker\": {\"colorbar\": {\"outlinewidth\": 0, \"ticks\": \"\"}}, \"type\": \"scattermapbox\"}], \"scatterpolar\": [{\"marker\": {\"colorbar\": {\"outlinewidth\": 0, \"ticks\": \"\"}}, \"type\": \"scatterpolar\"}], \"scatterpolargl\": [{\"marker\": {\"colorbar\": {\"outlinewidth\": 0, \"ticks\": \"\"}}, \"type\": \"scatterpolargl\"}], \"scatterternary\": [{\"marker\": {\"colorbar\": {\"outlinewidth\": 0, \"ticks\": \"\"}}, \"type\": \"scatterternary\"}], \"surface\": [{\"colorbar\": {\"outlinewidth\": 0, \"ticks\": \"\"}, \"colorscale\": [[0.0, \"#0d0887\"], [0.1111111111111111, \"#46039f\"], [0.2222222222222222, \"#7201a8\"], [0.3333333333333333, \"#9c179e\"], [0.4444444444444444, \"#bd3786\"], [0.5555555555555556, \"#d8576b\"], [0.6666666666666666, \"#ed7953\"], [0.7777777777777778, \"#fb9f3a\"], [0.8888888888888888, \"#fdca26\"], [1.0, \"#f0f921\"]], \"type\": \"surface\"}], \"table\": [{\"cells\": {\"fill\": {\"color\": \"#506784\"}, \"line\": {\"color\": \"rgb(17,17,17)\"}}, \"header\": {\"fill\": {\"color\": \"#2a3f5f\"}, \"line\": {\"color\": \"rgb(17,17,17)\"}}, \"type\": \"table\"}]}, \"layout\": {\"annotationdefaults\": {\"arrowcolor\": \"#f2f5fa\", \"arrowhead\": 0, \"arrowwidth\": 1}, \"coloraxis\": {\"colorbar\": {\"outlinewidth\": 0, \"ticks\": \"\"}}, \"colorscale\": {\"diverging\": [[0, \"#8e0152\"], [0.1, \"#c51b7d\"], [0.2, \"#de77ae\"], [0.3, \"#f1b6da\"], [0.4, \"#fde0ef\"], [0.5, \"#f7f7f7\"], [0.6, \"#e6f5d0\"], [0.7, \"#b8e186\"], [0.8, \"#7fbc41\"], [0.9, \"#4d9221\"], [1, \"#276419\"]], \"sequential\": [[0.0, \"#0d0887\"], [0.1111111111111111, \"#46039f\"], [0.2222222222222222, \"#7201a8\"], [0.3333333333333333, \"#9c179e\"], [0.4444444444444444, \"#bd3786\"], [0.5555555555555556, \"#d8576b\"], [0.6666666666666666, \"#ed7953\"], [0.7777777777777778, \"#fb9f3a\"], [0.8888888888888888, \"#fdca26\"], [1.0, \"#f0f921\"]], \"sequentialminus\": [[0.0, \"#0d0887\"], [0.1111111111111111, \"#46039f\"], [0.2222222222222222, \"#7201a8\"], [0.3333333333333333, \"#9c179e\"], [0.4444444444444444, \"#bd3786\"], [0.5555555555555556, \"#d8576b\"], [0.6666666666666666, \"#ed7953\"], [0.7777777777777778, \"#fb9f3a\"], [0.8888888888888888, \"#fdca26\"], [1.0, \"#f0f921\"]]}, \"colorway\": [\"#636efa\", \"#EF553B\", \"#00cc96\", \"#ab63fa\", \"#FFA15A\", \"#19d3f3\", \"#FF6692\", \"#B6E880\", \"#FF97FF\", \"#FECB52\"], \"font\": {\"color\": \"#f2f5fa\"}, \"geo\": {\"bgcolor\": \"rgb(17,17,17)\", \"lakecolor\": \"rgb(17,17,17)\", \"landcolor\": \"rgb(17,17,17)\", \"showlakes\": true, \"showland\": true, \"subunitcolor\": \"#506784\"}, \"hoverlabel\": {\"align\": \"left\"}, \"hovermode\": \"closest\", \"mapbox\": {\"style\": \"dark\"}, \"paper_bgcolor\": \"rgb(17,17,17)\", \"plot_bgcolor\": \"rgb(17,17,17)\", \"polar\": {\"angularaxis\": {\"gridcolor\": \"#506784\", \"linecolor\": \"#506784\", \"ticks\": \"\"}, \"bgcolor\": \"rgb(17,17,17)\", \"radialaxis\": {\"gridcolor\": \"#506784\", \"linecolor\": \"#506784\", \"ticks\": \"\"}}, \"scene\": {\"xaxis\": {\"backgroundcolor\": \"rgb(17,17,17)\", \"gridcolor\": \"#506784\", \"gridwidth\": 2, \"linecolor\": \"#506784\", \"showbackground\": true, \"ticks\": \"\", \"zerolinecolor\": \"#C8D4E3\"}, \"yaxis\": {\"backgroundcolor\": \"rgb(17,17,17)\", \"gridcolor\": \"#506784\", \"gridwidth\": 2, \"linecolor\": \"#506784\", \"showbackground\": true, \"ticks\": \"\", \"zerolinecolor\": \"#C8D4E3\"}, \"zaxis\": {\"backgroundcolor\": \"rgb(17,17,17)\", \"gridcolor\": \"#506784\", \"gridwidth\": 2, \"linecolor\": \"#506784\", \"showbackground\": true, \"ticks\": \"\", \"zerolinecolor\": \"#C8D4E3\"}}, \"shapedefaults\": {\"line\": {\"color\": \"#f2f5fa\"}}, \"sliderdefaults\": {\"bgcolor\": \"#C8D4E3\", \"bordercolor\": \"rgb(17,17,17)\", \"borderwidth\": 1, \"tickwidth\": 0}, \"ternary\": {\"aaxis\": {\"gridcolor\": \"#506784\", \"linecolor\": \"#506784\", \"ticks\": \"\"}, \"baxis\": {\"gridcolor\": \"#506784\", \"linecolor\": \"#506784\", \"ticks\": \"\"}, \"bgcolor\": \"rgb(17,17,17)\", \"caxis\": {\"gridcolor\": \"#506784\", \"linecolor\": \"#506784\", \"ticks\": \"\"}}, \"title\": {\"x\": 0.05}, \"updatemenudefaults\": {\"bgcolor\": \"#506784\", \"borderwidth\": 0}, \"xaxis\": {\"automargin\": true, \"gridcolor\": \"#283442\", \"linecolor\": \"#506784\", \"ticks\": \"\", \"title\": {\"standoff\": 15}, \"zerolinecolor\": \"#283442\", \"zerolinewidth\": 2}, \"yaxis\": {\"automargin\": true, \"gridcolor\": \"#283442\", \"linecolor\": \"#506784\", \"ticks\": \"\", \"title\": {\"standoff\": 15}, \"zerolinecolor\": \"#283442\", \"zerolinewidth\": 2}}}, \"xaxis\": {\"title\": {\"text\": \"Dates\"}}, \"yaxis\": {\"title\": {\"text\": \"Number of cases\"}}},                        {\"responsive\": true}                    ).then(function(){\n",
       "                            \n",
       "var gd = document.getElementById('a938302a-a0eb-4c2a-98e7-8795154a5220');\n",
       "var x = new MutationObserver(function (mutations, observer) {{\n",
       "        var display = window.getComputedStyle(gd).display;\n",
       "        if (!display || display === 'none') {{\n",
       "            console.log([gd, 'removed!']);\n",
       "            Plotly.purge(gd);\n",
       "            observer.disconnect();\n",
       "        }}\n",
       "}});\n",
       "\n",
       "// Listen for the removal of the full notebook cells\n",
       "var notebookContainer = gd.closest('#notebook-container');\n",
       "if (notebookContainer) {{\n",
       "    x.observe(notebookContainer, {childList: true});\n",
       "}}\n",
       "\n",
       "// Listen for the clearing of the current output cell\n",
       "var outputEl = gd.closest('.output');\n",
       "if (outputEl) {{\n",
       "    x.observe(outputEl, {childList: true});\n",
       "}}\n",
       "\n",
       "                        })                };                });            </script>        </div>"
      ]
     },
     "metadata": {},
     "output_type": "display_data"
    }
   ],
   "source": [
    "confirmed_cases(all_df[select_df],last_days)"
   ]
  },
  {
   "cell_type": "markdown",
   "metadata": {},
   "source": [
    "2. **Covid19 Deaths**"
   ]
  },
  {
   "cell_type": "code",
   "execution_count": 134,
   "metadata": {},
   "outputs": [],
   "source": [
    "def covid_deaths(selected_df,last_days_nb):    \n",
    "    fig_confirmed = go.Figure()\n",
    "    fig_confirmed.add_trace(\n",
    "        go.Scatter(\n",
    "            x=selected_df['jour'].tail(last_days_nb),\n",
    "            y=selected_df['dc'].tail(last_days_nb),\n",
    "            mode=\"lines\",\n",
    "            line={\"color\":\"#C616C4\"},\n",
    "            showlegend=False,\n",
    "            #name=\"Total Confirmed Cases\"\n",
    "        )\n",
    "    )\n",
    "    fig_confirmed.add_trace(\n",
    "        go.Bar(\n",
    "            x=selected_df['jour'].tail(last_days_nb),\n",
    "            y=selected_df['new_dc'].tail(last_days_nb),\n",
    "            marker={\"color\":\"#C616C4\"},\n",
    "            showlegend=False,\n",
    "            #name=\"New Confirmed Cases\",\n",
    "\n",
    "        )\n",
    "    )\n",
    "\n",
    "\n",
    "    # LINE CHART ANNOTATION\n",
    "    fig_confirmed.add_annotation(\n",
    "         x=selected_df['jour'].tail(1).tolist()[0],\n",
    "         y=selected_df['dc'].tail(1).tolist()[0],\n",
    "         text=\"Total Deaths\",\n",
    "         font={\"size\": 14,\"color\":\"#ffffff\"},\n",
    "         xshift=-220,  # Annotation x displacement!\n",
    "         showarrow=False,\n",
    "    )\n",
    "\n",
    "    # BAR CHART ANNOTATION\n",
    "    fig_confirmed.add_annotation(\n",
    "        x=selected_df['jour'].tail(1).tolist()[0],\n",
    "        y=selected_df['new_dc'].tail(1).max(),\n",
    "        text=\"New Deaths\",\n",
    "        font={\"size\": 14, \"color\":\"#ffffff\"},\n",
    "        xshift=-60,  # Annotation x displacement!\n",
    "        yshift=20,  # Annotation y displacement!\n",
    "        showarrow=False,\n",
    "        )\n",
    "    fig_confirmed.update_layout(\n",
    "        template=\"plotly_dark\",\n",
    "        xaxis={\"title\":\"Dates\"},\n",
    "        yaxis={\"title\":\"Number of deaths\"},\n",
    "        autosize=True,\n",
    "    )\n",
    "    fig_confirmed.show()"
   ]
  },
  {
   "cell_type": "code",
   "execution_count": 135,
   "metadata": {},
   "outputs": [
    {
     "data": {
      "application/vnd.plotly.v1+json": {
       "config": {
        "plotlyServerURL": "https://plot.ly"
       },
       "data": [
        {
         "line": {
          "color": "#C616C4"
         },
         "mode": "lines",
         "showlegend": false,
         "type": "scatter",
         "x": [
          "2020-10-09",
          "2020-10-10",
          "2020-10-11",
          "2020-10-12",
          "2020-10-13",
          "2020-10-14",
          "2020-10-15",
          "2020-10-16",
          "2020-10-17",
          "2020-10-18",
          "2020-10-19",
          "2020-10-20",
          "2020-10-21",
          "2020-10-22",
          "2020-10-23",
          "2020-10-24",
          "2020-10-25",
          "2020-10-26",
          "2020-10-27",
          "2020-10-28",
          "2020-10-29",
          "2020-10-30",
          "2020-10-31",
          "2020-11-01",
          "2020-11-02",
          "2020-11-03",
          "2020-11-04",
          "2020-11-05",
          "2020-11-06",
          "2020-11-07"
         ],
         "y": [
          290,
          291,
          291,
          291,
          295,
          295,
          296,
          296,
          296,
          296,
          297,
          297,
          298,
          299,
          300,
          303,
          306,
          308,
          308,
          312,
          314,
          319,
          320,
          320,
          320,
          322,
          327,
          332,
          335,
          336
         ]
        },
        {
         "marker": {
          "color": "#C616C4"
         },
         "showlegend": false,
         "type": "bar",
         "x": [
          "2020-10-09",
          "2020-10-10",
          "2020-10-11",
          "2020-10-12",
          "2020-10-13",
          "2020-10-14",
          "2020-10-15",
          "2020-10-16",
          "2020-10-17",
          "2020-10-18",
          "2020-10-19",
          "2020-10-20",
          "2020-10-21",
          "2020-10-22",
          "2020-10-23",
          "2020-10-24",
          "2020-10-25",
          "2020-10-26",
          "2020-10-27",
          "2020-10-28",
          "2020-10-29",
          "2020-10-30",
          "2020-10-31",
          "2020-11-01",
          "2020-11-02",
          "2020-11-03",
          "2020-11-04",
          "2020-11-05",
          "2020-11-06",
          "2020-11-07"
         ],
         "y": [
          0,
          1,
          0,
          0,
          4,
          0,
          1,
          0,
          0,
          0,
          1,
          0,
          1,
          1,
          1,
          3,
          3,
          2,
          0,
          4,
          2,
          5,
          1,
          0,
          0,
          2,
          5,
          5,
          3,
          1
         ]
        }
       ],
       "layout": {
        "annotations": [
         {
          "font": {
           "color": "#ffffff",
           "size": 14
          },
          "showarrow": false,
          "text": "Total Deaths",
          "x": "2020-11-07",
          "xshift": -220,
          "y": 336
         },
         {
          "font": {
           "color": "#ffffff",
           "size": 14
          },
          "showarrow": false,
          "text": "New Deaths",
          "x": "2020-11-07",
          "xshift": -60,
          "y": 1,
          "yshift": 20
         }
        ],
        "autosize": true,
        "template": {
         "data": {
          "bar": [
           {
            "error_x": {
             "color": "#f2f5fa"
            },
            "error_y": {
             "color": "#f2f5fa"
            },
            "marker": {
             "line": {
              "color": "rgb(17,17,17)",
              "width": 0.5
             }
            },
            "type": "bar"
           }
          ],
          "barpolar": [
           {
            "marker": {
             "line": {
              "color": "rgb(17,17,17)",
              "width": 0.5
             }
            },
            "type": "barpolar"
           }
          ],
          "carpet": [
           {
            "aaxis": {
             "endlinecolor": "#A2B1C6",
             "gridcolor": "#506784",
             "linecolor": "#506784",
             "minorgridcolor": "#506784",
             "startlinecolor": "#A2B1C6"
            },
            "baxis": {
             "endlinecolor": "#A2B1C6",
             "gridcolor": "#506784",
             "linecolor": "#506784",
             "minorgridcolor": "#506784",
             "startlinecolor": "#A2B1C6"
            },
            "type": "carpet"
           }
          ],
          "choropleth": [
           {
            "colorbar": {
             "outlinewidth": 0,
             "ticks": ""
            },
            "type": "choropleth"
           }
          ],
          "contour": [
           {
            "colorbar": {
             "outlinewidth": 0,
             "ticks": ""
            },
            "colorscale": [
             [
              0,
              "#0d0887"
             ],
             [
              0.1111111111111111,
              "#46039f"
             ],
             [
              0.2222222222222222,
              "#7201a8"
             ],
             [
              0.3333333333333333,
              "#9c179e"
             ],
             [
              0.4444444444444444,
              "#bd3786"
             ],
             [
              0.5555555555555556,
              "#d8576b"
             ],
             [
              0.6666666666666666,
              "#ed7953"
             ],
             [
              0.7777777777777778,
              "#fb9f3a"
             ],
             [
              0.8888888888888888,
              "#fdca26"
             ],
             [
              1,
              "#f0f921"
             ]
            ],
            "type": "contour"
           }
          ],
          "contourcarpet": [
           {
            "colorbar": {
             "outlinewidth": 0,
             "ticks": ""
            },
            "type": "contourcarpet"
           }
          ],
          "heatmap": [
           {
            "colorbar": {
             "outlinewidth": 0,
             "ticks": ""
            },
            "colorscale": [
             [
              0,
              "#0d0887"
             ],
             [
              0.1111111111111111,
              "#46039f"
             ],
             [
              0.2222222222222222,
              "#7201a8"
             ],
             [
              0.3333333333333333,
              "#9c179e"
             ],
             [
              0.4444444444444444,
              "#bd3786"
             ],
             [
              0.5555555555555556,
              "#d8576b"
             ],
             [
              0.6666666666666666,
              "#ed7953"
             ],
             [
              0.7777777777777778,
              "#fb9f3a"
             ],
             [
              0.8888888888888888,
              "#fdca26"
             ],
             [
              1,
              "#f0f921"
             ]
            ],
            "type": "heatmap"
           }
          ],
          "heatmapgl": [
           {
            "colorbar": {
             "outlinewidth": 0,
             "ticks": ""
            },
            "colorscale": [
             [
              0,
              "#0d0887"
             ],
             [
              0.1111111111111111,
              "#46039f"
             ],
             [
              0.2222222222222222,
              "#7201a8"
             ],
             [
              0.3333333333333333,
              "#9c179e"
             ],
             [
              0.4444444444444444,
              "#bd3786"
             ],
             [
              0.5555555555555556,
              "#d8576b"
             ],
             [
              0.6666666666666666,
              "#ed7953"
             ],
             [
              0.7777777777777778,
              "#fb9f3a"
             ],
             [
              0.8888888888888888,
              "#fdca26"
             ],
             [
              1,
              "#f0f921"
             ]
            ],
            "type": "heatmapgl"
           }
          ],
          "histogram": [
           {
            "marker": {
             "colorbar": {
              "outlinewidth": 0,
              "ticks": ""
             }
            },
            "type": "histogram"
           }
          ],
          "histogram2d": [
           {
            "colorbar": {
             "outlinewidth": 0,
             "ticks": ""
            },
            "colorscale": [
             [
              0,
              "#0d0887"
             ],
             [
              0.1111111111111111,
              "#46039f"
             ],
             [
              0.2222222222222222,
              "#7201a8"
             ],
             [
              0.3333333333333333,
              "#9c179e"
             ],
             [
              0.4444444444444444,
              "#bd3786"
             ],
             [
              0.5555555555555556,
              "#d8576b"
             ],
             [
              0.6666666666666666,
              "#ed7953"
             ],
             [
              0.7777777777777778,
              "#fb9f3a"
             ],
             [
              0.8888888888888888,
              "#fdca26"
             ],
             [
              1,
              "#f0f921"
             ]
            ],
            "type": "histogram2d"
           }
          ],
          "histogram2dcontour": [
           {
            "colorbar": {
             "outlinewidth": 0,
             "ticks": ""
            },
            "colorscale": [
             [
              0,
              "#0d0887"
             ],
             [
              0.1111111111111111,
              "#46039f"
             ],
             [
              0.2222222222222222,
              "#7201a8"
             ],
             [
              0.3333333333333333,
              "#9c179e"
             ],
             [
              0.4444444444444444,
              "#bd3786"
             ],
             [
              0.5555555555555556,
              "#d8576b"
             ],
             [
              0.6666666666666666,
              "#ed7953"
             ],
             [
              0.7777777777777778,
              "#fb9f3a"
             ],
             [
              0.8888888888888888,
              "#fdca26"
             ],
             [
              1,
              "#f0f921"
             ]
            ],
            "type": "histogram2dcontour"
           }
          ],
          "mesh3d": [
           {
            "colorbar": {
             "outlinewidth": 0,
             "ticks": ""
            },
            "type": "mesh3d"
           }
          ],
          "parcoords": [
           {
            "line": {
             "colorbar": {
              "outlinewidth": 0,
              "ticks": ""
             }
            },
            "type": "parcoords"
           }
          ],
          "pie": [
           {
            "automargin": true,
            "type": "pie"
           }
          ],
          "scatter": [
           {
            "marker": {
             "line": {
              "color": "#283442"
             }
            },
            "type": "scatter"
           }
          ],
          "scatter3d": [
           {
            "line": {
             "colorbar": {
              "outlinewidth": 0,
              "ticks": ""
             }
            },
            "marker": {
             "colorbar": {
              "outlinewidth": 0,
              "ticks": ""
             }
            },
            "type": "scatter3d"
           }
          ],
          "scattercarpet": [
           {
            "marker": {
             "colorbar": {
              "outlinewidth": 0,
              "ticks": ""
             }
            },
            "type": "scattercarpet"
           }
          ],
          "scattergeo": [
           {
            "marker": {
             "colorbar": {
              "outlinewidth": 0,
              "ticks": ""
             }
            },
            "type": "scattergeo"
           }
          ],
          "scattergl": [
           {
            "marker": {
             "line": {
              "color": "#283442"
             }
            },
            "type": "scattergl"
           }
          ],
          "scattermapbox": [
           {
            "marker": {
             "colorbar": {
              "outlinewidth": 0,
              "ticks": ""
             }
            },
            "type": "scattermapbox"
           }
          ],
          "scatterpolar": [
           {
            "marker": {
             "colorbar": {
              "outlinewidth": 0,
              "ticks": ""
             }
            },
            "type": "scatterpolar"
           }
          ],
          "scatterpolargl": [
           {
            "marker": {
             "colorbar": {
              "outlinewidth": 0,
              "ticks": ""
             }
            },
            "type": "scatterpolargl"
           }
          ],
          "scatterternary": [
           {
            "marker": {
             "colorbar": {
              "outlinewidth": 0,
              "ticks": ""
             }
            },
            "type": "scatterternary"
           }
          ],
          "surface": [
           {
            "colorbar": {
             "outlinewidth": 0,
             "ticks": ""
            },
            "colorscale": [
             [
              0,
              "#0d0887"
             ],
             [
              0.1111111111111111,
              "#46039f"
             ],
             [
              0.2222222222222222,
              "#7201a8"
             ],
             [
              0.3333333333333333,
              "#9c179e"
             ],
             [
              0.4444444444444444,
              "#bd3786"
             ],
             [
              0.5555555555555556,
              "#d8576b"
             ],
             [
              0.6666666666666666,
              "#ed7953"
             ],
             [
              0.7777777777777778,
              "#fb9f3a"
             ],
             [
              0.8888888888888888,
              "#fdca26"
             ],
             [
              1,
              "#f0f921"
             ]
            ],
            "type": "surface"
           }
          ],
          "table": [
           {
            "cells": {
             "fill": {
              "color": "#506784"
             },
             "line": {
              "color": "rgb(17,17,17)"
             }
            },
            "header": {
             "fill": {
              "color": "#2a3f5f"
             },
             "line": {
              "color": "rgb(17,17,17)"
             }
            },
            "type": "table"
           }
          ]
         },
         "layout": {
          "annotationdefaults": {
           "arrowcolor": "#f2f5fa",
           "arrowhead": 0,
           "arrowwidth": 1
          },
          "coloraxis": {
           "colorbar": {
            "outlinewidth": 0,
            "ticks": ""
           }
          },
          "colorscale": {
           "diverging": [
            [
             0,
             "#8e0152"
            ],
            [
             0.1,
             "#c51b7d"
            ],
            [
             0.2,
             "#de77ae"
            ],
            [
             0.3,
             "#f1b6da"
            ],
            [
             0.4,
             "#fde0ef"
            ],
            [
             0.5,
             "#f7f7f7"
            ],
            [
             0.6,
             "#e6f5d0"
            ],
            [
             0.7,
             "#b8e186"
            ],
            [
             0.8,
             "#7fbc41"
            ],
            [
             0.9,
             "#4d9221"
            ],
            [
             1,
             "#276419"
            ]
           ],
           "sequential": [
            [
             0,
             "#0d0887"
            ],
            [
             0.1111111111111111,
             "#46039f"
            ],
            [
             0.2222222222222222,
             "#7201a8"
            ],
            [
             0.3333333333333333,
             "#9c179e"
            ],
            [
             0.4444444444444444,
             "#bd3786"
            ],
            [
             0.5555555555555556,
             "#d8576b"
            ],
            [
             0.6666666666666666,
             "#ed7953"
            ],
            [
             0.7777777777777778,
             "#fb9f3a"
            ],
            [
             0.8888888888888888,
             "#fdca26"
            ],
            [
             1,
             "#f0f921"
            ]
           ],
           "sequentialminus": [
            [
             0,
             "#0d0887"
            ],
            [
             0.1111111111111111,
             "#46039f"
            ],
            [
             0.2222222222222222,
             "#7201a8"
            ],
            [
             0.3333333333333333,
             "#9c179e"
            ],
            [
             0.4444444444444444,
             "#bd3786"
            ],
            [
             0.5555555555555556,
             "#d8576b"
            ],
            [
             0.6666666666666666,
             "#ed7953"
            ],
            [
             0.7777777777777778,
             "#fb9f3a"
            ],
            [
             0.8888888888888888,
             "#fdca26"
            ],
            [
             1,
             "#f0f921"
            ]
           ]
          },
          "colorway": [
           "#636efa",
           "#EF553B",
           "#00cc96",
           "#ab63fa",
           "#FFA15A",
           "#19d3f3",
           "#FF6692",
           "#B6E880",
           "#FF97FF",
           "#FECB52"
          ],
          "font": {
           "color": "#f2f5fa"
          },
          "geo": {
           "bgcolor": "rgb(17,17,17)",
           "lakecolor": "rgb(17,17,17)",
           "landcolor": "rgb(17,17,17)",
           "showlakes": true,
           "showland": true,
           "subunitcolor": "#506784"
          },
          "hoverlabel": {
           "align": "left"
          },
          "hovermode": "closest",
          "mapbox": {
           "style": "dark"
          },
          "paper_bgcolor": "rgb(17,17,17)",
          "plot_bgcolor": "rgb(17,17,17)",
          "polar": {
           "angularaxis": {
            "gridcolor": "#506784",
            "linecolor": "#506784",
            "ticks": ""
           },
           "bgcolor": "rgb(17,17,17)",
           "radialaxis": {
            "gridcolor": "#506784",
            "linecolor": "#506784",
            "ticks": ""
           }
          },
          "scene": {
           "xaxis": {
            "backgroundcolor": "rgb(17,17,17)",
            "gridcolor": "#506784",
            "gridwidth": 2,
            "linecolor": "#506784",
            "showbackground": true,
            "ticks": "",
            "zerolinecolor": "#C8D4E3"
           },
           "yaxis": {
            "backgroundcolor": "rgb(17,17,17)",
            "gridcolor": "#506784",
            "gridwidth": 2,
            "linecolor": "#506784",
            "showbackground": true,
            "ticks": "",
            "zerolinecolor": "#C8D4E3"
           },
           "zaxis": {
            "backgroundcolor": "rgb(17,17,17)",
            "gridcolor": "#506784",
            "gridwidth": 2,
            "linecolor": "#506784",
            "showbackground": true,
            "ticks": "",
            "zerolinecolor": "#C8D4E3"
           }
          },
          "shapedefaults": {
           "line": {
            "color": "#f2f5fa"
           }
          },
          "sliderdefaults": {
           "bgcolor": "#C8D4E3",
           "bordercolor": "rgb(17,17,17)",
           "borderwidth": 1,
           "tickwidth": 0
          },
          "ternary": {
           "aaxis": {
            "gridcolor": "#506784",
            "linecolor": "#506784",
            "ticks": ""
           },
           "baxis": {
            "gridcolor": "#506784",
            "linecolor": "#506784",
            "ticks": ""
           },
           "bgcolor": "rgb(17,17,17)",
           "caxis": {
            "gridcolor": "#506784",
            "linecolor": "#506784",
            "ticks": ""
           }
          },
          "title": {
           "x": 0.05
          },
          "updatemenudefaults": {
           "bgcolor": "#506784",
           "borderwidth": 0
          },
          "xaxis": {
           "automargin": true,
           "gridcolor": "#283442",
           "linecolor": "#506784",
           "ticks": "",
           "title": {
            "standoff": 15
           },
           "zerolinecolor": "#283442",
           "zerolinewidth": 2
          },
          "yaxis": {
           "automargin": true,
           "gridcolor": "#283442",
           "linecolor": "#506784",
           "ticks": "",
           "title": {
            "standoff": 15
           },
           "zerolinecolor": "#283442",
           "zerolinewidth": 2
          }
         }
        },
        "xaxis": {
         "autorange": true,
         "range": [
          "2020-10-08 12:00",
          "2020-11-07 12:00"
         ],
         "title": {
          "text": "Dates"
         },
         "type": "date"
        },
        "yaxis": {
         "autorange": true,
         "range": [
          0,
          353.6842105263158
         ],
         "title": {
          "text": "Number of deaths"
         },
         "type": "linear"
        }
       }
      },
      "image/png": "[encoded data removed]",
      "text/html": [
       "<div>                            <div id=\"728762c1-b30c-4cc0-aeae-d61ce308fd27\" class=\"plotly-graph-div\" style=\"height:525px; width:100%;\"></div>            <script type=\"text/javascript\">                require([\"plotly\"], function(Plotly) {                    window.PLOTLYENV=window.PLOTLYENV || {};                                    if (document.getElementById(\"728762c1-b30c-4cc0-aeae-d61ce308fd27\")) {                    Plotly.newPlot(                        \"728762c1-b30c-4cc0-aeae-d61ce308fd27\",                        [{\"line\": {\"color\": \"#C616C4\"}, \"mode\": \"lines\", \"showlegend\": false, \"type\": \"scatter\", \"x\": [\"2020-10-09\", \"2020-10-10\", \"2020-10-11\", \"2020-10-12\", \"2020-10-13\", \"2020-10-14\", \"2020-10-15\", \"2020-10-16\", \"2020-10-17\", \"2020-10-18\", \"2020-10-19\", \"2020-10-20\", \"2020-10-21\", \"2020-10-22\", \"2020-10-23\", \"2020-10-24\", \"2020-10-25\", \"2020-10-26\", \"2020-10-27\", \"2020-10-28\", \"2020-10-29\", \"2020-10-30\", \"2020-10-31\", \"2020-11-01\", \"2020-11-02\", \"2020-11-03\", \"2020-11-04\", \"2020-11-05\", \"2020-11-06\", \"2020-11-07\"], \"y\": [290, 291, 291, 291, 295, 295, 296, 296, 296, 296, 297, 297, 298, 299, 300, 303, 306, 308, 308, 312, 314, 319, 320, 320, 320, 322, 327, 332, 335, 336]}, {\"marker\": {\"color\": \"#C616C4\"}, \"showlegend\": false, \"type\": \"bar\", \"x\": [\"2020-10-09\", \"2020-10-10\", \"2020-10-11\", \"2020-10-12\", \"2020-10-13\", \"2020-10-14\", \"2020-10-15\", \"2020-10-16\", \"2020-10-17\", \"2020-10-18\", \"2020-10-19\", \"2020-10-20\", \"2020-10-21\", \"2020-10-22\", \"2020-10-23\", \"2020-10-24\", \"2020-10-25\", \"2020-10-26\", \"2020-10-27\", \"2020-10-28\", \"2020-10-29\", \"2020-10-30\", \"2020-10-31\", \"2020-11-01\", \"2020-11-02\", \"2020-11-03\", \"2020-11-04\", \"2020-11-05\", \"2020-11-06\", \"2020-11-07\"], \"y\": [0.0, 1.0, 0.0, 0.0, 4.0, 0.0, 1.0, 0.0, 0.0, 0.0, 1.0, 0.0, 1.0, 1.0, 1.0, 3.0, 3.0, 2.0, 0.0, 4.0, 2.0, 5.0, 1.0, 0.0, 0.0, 2.0, 5.0, 5.0, 3.0, 1.0]}],                        {\"annotations\": [{\"font\": {\"color\": \"#ffffff\", \"size\": 14}, \"showarrow\": false, \"text\": \"Total Deaths\", \"x\": \"2020-11-07\", \"xshift\": -220, \"y\": 336}, {\"font\": {\"color\": \"#ffffff\", \"size\": 14}, \"showarrow\": false, \"text\": \"New Deaths\", \"x\": \"2020-11-07\", \"xshift\": -60, \"y\": 1.0, \"yshift\": 20}], \"autosize\": true, \"template\": {\"data\": {\"bar\": [{\"error_x\": {\"color\": \"#f2f5fa\"}, \"error_y\": {\"color\": \"#f2f5fa\"}, \"marker\": {\"line\": {\"color\": \"rgb(17,17,17)\", \"width\": 0.5}}, \"type\": \"bar\"}], \"barpolar\": [{\"marker\": {\"line\": {\"color\": \"rgb(17,17,17)\", \"width\": 0.5}}, \"type\": \"barpolar\"}], \"carpet\": [{\"aaxis\": {\"endlinecolor\": \"#A2B1C6\", \"gridcolor\": \"#506784\", \"linecolor\": \"#506784\", \"minorgridcolor\": \"#506784\", \"startlinecolor\": \"#A2B1C6\"}, \"baxis\": {\"endlinecolor\": \"#A2B1C6\", \"gridcolor\": \"#506784\", \"linecolor\": \"#506784\", \"minorgridcolor\": \"#506784\", \"startlinecolor\": \"#A2B1C6\"}, \"type\": \"carpet\"}], \"choropleth\": [{\"colorbar\": {\"outlinewidth\": 0, \"ticks\": \"\"}, \"type\": \"choropleth\"}], \"contour\": [{\"colorbar\": {\"outlinewidth\": 0, \"ticks\": \"\"}, \"colorscale\": [[0.0, \"#0d0887\"], [0.1111111111111111, \"#46039f\"], [0.2222222222222222, \"#7201a8\"], [0.3333333333333333, \"#9c179e\"], [0.4444444444444444, \"#bd3786\"], [0.5555555555555556, \"#d8576b\"], [0.6666666666666666, \"#ed7953\"], [0.7777777777777778, \"#fb9f3a\"], [0.8888888888888888, \"#fdca26\"], [1.0, \"#f0f921\"]], \"type\": \"contour\"}], \"contourcarpet\": [{\"colorbar\": {\"outlinewidth\": 0, \"ticks\": \"\"}, \"type\": \"contourcarpet\"}], \"heatmap\": [{\"colorbar\": {\"outlinewidth\": 0, \"ticks\": \"\"}, \"colorscale\": [[0.0, \"#0d0887\"], [0.1111111111111111, \"#46039f\"], [0.2222222222222222, \"#7201a8\"], [0.3333333333333333, \"#9c179e\"], [0.4444444444444444, \"#bd3786\"], [0.5555555555555556, \"#d8576b\"], [0.6666666666666666, \"#ed7953\"], [0.7777777777777778, \"#fb9f3a\"], [0.8888888888888888, \"#fdca26\"], [1.0, \"#f0f921\"]], \"type\": \"heatmap\"}], \"heatmapgl\": [{\"colorbar\": {\"outlinewidth\": 0, \"ticks\": \"\"}, \"colorscale\": [[0.0, \"#0d0887\"], [0.1111111111111111, \"#46039f\"], [0.2222222222222222, \"#7201a8\"], [0.3333333333333333, \"#9c179e\"], [0.4444444444444444, \"#bd3786\"], [0.5555555555555556, \"#d8576b\"], [0.6666666666666666, \"#ed7953\"], [0.7777777777777778, \"#fb9f3a\"], [0.8888888888888888, \"#fdca26\"], [1.0, \"#f0f921\"]], \"type\": \"heatmapgl\"}], \"histogram\": [{\"marker\": {\"colorbar\": {\"outlinewidth\": 0, \"ticks\": \"\"}}, \"type\": \"histogram\"}], \"histogram2d\": [{\"colorbar\": {\"outlinewidth\": 0, \"ticks\": \"\"}, \"colorscale\": [[0.0, \"#0d0887\"], [0.1111111111111111, \"#46039f\"], [0.2222222222222222, \"#7201a8\"], [0.3333333333333333, \"#9c179e\"], [0.4444444444444444, \"#bd3786\"], [0.5555555555555556, \"#d8576b\"], [0.6666666666666666, \"#ed7953\"], [0.7777777777777778, \"#fb9f3a\"], [0.8888888888888888, \"#fdca26\"], [1.0, \"#f0f921\"]], \"type\": \"histogram2d\"}], \"histogram2dcontour\": [{\"colorbar\": {\"outlinewidth\": 0, \"ticks\": \"\"}, \"colorscale\": [[0.0, \"#0d0887\"], [0.1111111111111111, \"#46039f\"], [0.2222222222222222, \"#7201a8\"], [0.3333333333333333, \"#9c179e\"], [0.4444444444444444, \"#bd3786\"], [0.5555555555555556, \"#d8576b\"], [0.6666666666666666, \"#ed7953\"], [0.7777777777777778, \"#fb9f3a\"], [0.8888888888888888, \"#fdca26\"], [1.0, \"#f0f921\"]], \"type\": \"histogram2dcontour\"}], \"mesh3d\": [{\"colorbar\": {\"outlinewidth\": 0, \"ticks\": \"\"}, \"type\": \"mesh3d\"}], \"parcoords\": [{\"line\": {\"colorbar\": {\"outlinewidth\": 0, \"ticks\": \"\"}}, \"type\": \"parcoords\"}], \"pie\": [{\"automargin\": true, \"type\": \"pie\"}], \"scatter\": [{\"marker\": {\"line\": {\"color\": \"#283442\"}}, \"type\": \"scatter\"}], \"scatter3d\": [{\"line\": {\"colorbar\": {\"outlinewidth\": 0, \"ticks\": \"\"}}, \"marker\": {\"colorbar\": {\"outlinewidth\": 0, \"ticks\": \"\"}}, \"type\": \"scatter3d\"}], \"scattercarpet\": [{\"marker\": {\"colorbar\": {\"outlinewidth\": 0, \"ticks\": \"\"}}, \"type\": \"scattercarpet\"}], \"scattergeo\": [{\"marker\": {\"colorbar\": {\"outlinewidth\": 0, \"ticks\": \"\"}}, \"type\": \"scattergeo\"}], \"scattergl\": [{\"marker\": {\"line\": {\"color\": \"#283442\"}}, \"type\": \"scattergl\"}], \"scattermapbox\": [{\"marker\": {\"colorbar\": {\"outlinewidth\": 0, \"ticks\": \"\"}}, \"type\": \"scattermapbox\"}], \"scatterpolar\": [{\"marker\": {\"colorbar\": {\"outlinewidth\": 0, \"ticks\": \"\"}}, \"type\": \"scatterpolar\"}], \"scatterpolargl\": [{\"marker\": {\"colorbar\": {\"outlinewidth\": 0, \"ticks\": \"\"}}, \"type\": \"scatterpolargl\"}], \"scatterternary\": [{\"marker\": {\"colorbar\": {\"outlinewidth\": 0, \"ticks\": \"\"}}, \"type\": \"scatterternary\"}], \"surface\": [{\"colorbar\": {\"outlinewidth\": 0, \"ticks\": \"\"}, \"colorscale\": [[0.0, \"#0d0887\"], [0.1111111111111111, \"#46039f\"], [0.2222222222222222, \"#7201a8\"], [0.3333333333333333, \"#9c179e\"], [0.4444444444444444, \"#bd3786\"], [0.5555555555555556, \"#d8576b\"], [0.6666666666666666, \"#ed7953\"], [0.7777777777777778, \"#fb9f3a\"], [0.8888888888888888, \"#fdca26\"], [1.0, \"#f0f921\"]], \"type\": \"surface\"}], \"table\": [{\"cells\": {\"fill\": {\"color\": \"#506784\"}, \"line\": {\"color\": \"rgb(17,17,17)\"}}, \"header\": {\"fill\": {\"color\": \"#2a3f5f\"}, \"line\": {\"color\": \"rgb(17,17,17)\"}}, \"type\": \"table\"}]}, \"layout\": {\"annotationdefaults\": {\"arrowcolor\": \"#f2f5fa\", \"arrowhead\": 0, \"arrowwidth\": 1}, \"coloraxis\": {\"colorbar\": {\"outlinewidth\": 0, \"ticks\": \"\"}}, \"colorscale\": {\"diverging\": [[0, \"#8e0152\"], [0.1, \"#c51b7d\"], [0.2, \"#de77ae\"], [0.3, \"#f1b6da\"], [0.4, \"#fde0ef\"], [0.5, \"#f7f7f7\"], [0.6, \"#e6f5d0\"], [0.7, \"#b8e186\"], [0.8, \"#7fbc41\"], [0.9, \"#4d9221\"], [1, \"#276419\"]], \"sequential\": [[0.0, \"#0d0887\"], [0.1111111111111111, \"#46039f\"], [0.2222222222222222, \"#7201a8\"], [0.3333333333333333, \"#9c179e\"], [0.4444444444444444, \"#bd3786\"], [0.5555555555555556, \"#d8576b\"], [0.6666666666666666, \"#ed7953\"], [0.7777777777777778, \"#fb9f3a\"], [0.8888888888888888, \"#fdca26\"], [1.0, \"#f0f921\"]], \"sequentialminus\": [[0.0, \"#0d0887\"], [0.1111111111111111, \"#46039f\"], [0.2222222222222222, \"#7201a8\"], [0.3333333333333333, \"#9c179e\"], [0.4444444444444444, \"#bd3786\"], [0.5555555555555556, \"#d8576b\"], [0.6666666666666666, \"#ed7953\"], [0.7777777777777778, \"#fb9f3a\"], [0.8888888888888888, \"#fdca26\"], [1.0, \"#f0f921\"]]}, \"colorway\": [\"#636efa\", \"#EF553B\", \"#00cc96\", \"#ab63fa\", \"#FFA15A\", \"#19d3f3\", \"#FF6692\", \"#B6E880\", \"#FF97FF\", \"#FECB52\"], \"font\": {\"color\": \"#f2f5fa\"}, \"geo\": {\"bgcolor\": \"rgb(17,17,17)\", \"lakecolor\": \"rgb(17,17,17)\", \"landcolor\": \"rgb(17,17,17)\", \"showlakes\": true, \"showland\": true, \"subunitcolor\": \"#506784\"}, \"hoverlabel\": {\"align\": \"left\"}, \"hovermode\": \"closest\", \"mapbox\": {\"style\": \"dark\"}, \"paper_bgcolor\": \"rgb(17,17,17)\", \"plot_bgcolor\": \"rgb(17,17,17)\", \"polar\": {\"angularaxis\": {\"gridcolor\": \"#506784\", \"linecolor\": \"#506784\", \"ticks\": \"\"}, \"bgcolor\": \"rgb(17,17,17)\", \"radialaxis\": {\"gridcolor\": \"#506784\", \"linecolor\": \"#506784\", \"ticks\": \"\"}}, \"scene\": {\"xaxis\": {\"backgroundcolor\": \"rgb(17,17,17)\", \"gridcolor\": \"#506784\", \"gridwidth\": 2, \"linecolor\": \"#506784\", \"showbackground\": true, \"ticks\": \"\", \"zerolinecolor\": \"#C8D4E3\"}, \"yaxis\": {\"backgroundcolor\": \"rgb(17,17,17)\", \"gridcolor\": \"#506784\", \"gridwidth\": 2, \"linecolor\": \"#506784\", \"showbackground\": true, \"ticks\": \"\", \"zerolinecolor\": \"#C8D4E3\"}, \"zaxis\": {\"backgroundcolor\": \"rgb(17,17,17)\", \"gridcolor\": \"#506784\", \"gridwidth\": 2, \"linecolor\": \"#506784\", \"showbackground\": true, \"ticks\": \"\", \"zerolinecolor\": \"#C8D4E3\"}}, \"shapedefaults\": {\"line\": {\"color\": \"#f2f5fa\"}}, \"sliderdefaults\": {\"bgcolor\": \"#C8D4E3\", \"bordercolor\": \"rgb(17,17,17)\", \"borderwidth\": 1, \"tickwidth\": 0}, \"ternary\": {\"aaxis\": {\"gridcolor\": \"#506784\", \"linecolor\": \"#506784\", \"ticks\": \"\"}, \"baxis\": {\"gridcolor\": \"#506784\", \"linecolor\": \"#506784\", \"ticks\": \"\"}, \"bgcolor\": \"rgb(17,17,17)\", \"caxis\": {\"gridcolor\": \"#506784\", \"linecolor\": \"#506784\", \"ticks\": \"\"}}, \"title\": {\"x\": 0.05}, \"updatemenudefaults\": {\"bgcolor\": \"#506784\", \"borderwidth\": 0}, \"xaxis\": {\"automargin\": true, \"gridcolor\": \"#283442\", \"linecolor\": \"#506784\", \"ticks\": \"\", \"title\": {\"standoff\": 15}, \"zerolinecolor\": \"#283442\", \"zerolinewidth\": 2}, \"yaxis\": {\"automargin\": true, \"gridcolor\": \"#283442\", \"linecolor\": \"#506784\", \"ticks\": \"\", \"title\": {\"standoff\": 15}, \"zerolinecolor\": \"#283442\", \"zerolinewidth\": 2}}}, \"xaxis\": {\"title\": {\"text\": \"Dates\"}}, \"yaxis\": {\"title\": {\"text\": \"Number of deaths\"}}},                        {\"responsive\": true}                    ).then(function(){\n",
       "                            \n",
       "var gd = document.getElementById('728762c1-b30c-4cc0-aeae-d61ce308fd27');\n",
       "var x = new MutationObserver(function (mutations, observer) {{\n",
       "        var display = window.getComputedStyle(gd).display;\n",
       "        if (!display || display === 'none') {{\n",
       "            console.log([gd, 'removed!']);\n",
       "            Plotly.purge(gd);\n",
       "            observer.disconnect();\n",
       "        }}\n",
       "}});\n",
       "\n",
       "// Listen for the removal of the full notebook cells\n",
       "var notebookContainer = gd.closest('#notebook-container');\n",
       "if (notebookContainer) {{\n",
       "    x.observe(notebookContainer, {childList: true});\n",
       "}}\n",
       "\n",
       "// Listen for the clearing of the current output cell\n",
       "var outputEl = gd.closest('.output');\n",
       "if (outputEl) {{\n",
       "    x.observe(outputEl, {childList: true});\n",
       "}}\n",
       "\n",
       "                        })                };                });            </script>        </div>"
      ]
     },
     "metadata": {},
     "output_type": "display_data"
    }
   ],
   "source": [
    "covid_deaths(all_df[select_df],last_days)"
   ]
  },
  {
   "cell_type": "code",
   "execution_count": null,
   "metadata": {},
   "outputs": [],
   "source": []
  },
  {
   "cell_type": "code",
   "execution_count": null,
   "metadata": {},
   "outputs": [],
   "source": []
  }
 ],
 "metadata": {
  "kernelspec": {
   "display_name": "Python 3",
   "language": "python",
   "name": "python3"
  },
  "language_info": {
   "codemirror_mode": {
    "name": "ipython",
    "version": 3
   },
   "file_extension": ".py",
   "mimetype": "text/x-python",
   "name": "python",
   "nbconvert_exporter": "python",
   "pygments_lexer": "ipython3",
   "version": "3.7.1"
  }
 },
 "nbformat": 4,
 "nbformat_minor": 4
}
