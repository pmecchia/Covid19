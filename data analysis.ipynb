{
 "cells": [
  {
   "cell_type": "code",
   "execution_count": 1403,
   "metadata": {},
   "outputs": [],
   "source": [
    "import pandas as pd\n",
    "import plotly.express as px\n",
    "import plotly.graph_objects as go\n",
    "import numpy as np\n",
    "from config import *"
   ]
  },
  {
   "cell_type": "markdown",
   "metadata": {},
   "source": [
    "## **Test/Positve dataset**"
   ]
  },
  {
   "cell_type": "markdown",
   "metadata": {},
   "source": [
    "1. **Dataset before 2020-05-12**"
   ]
  },
  {
   "cell_type": "code",
   "execution_count": 1404,
   "metadata": {},
   "outputs": [],
   "source": [
    "url_test1=\"https://www.data.gouv.fr/fr/datasets/r/b4ea7b4b-b7d1-4885-a099-71852291ff20\"\n",
    "dtype={'dep': str,'clage_covid':str,'nb_test':int,'nb_pos':int}\n",
    "df_test1=pd.read_csv(url_test1,sep = ';',dtype=dtype)\n",
    "df_test1=df_test1.drop([\"nb_test_h\",\"nb_test_f\",\"nb_pos_h\",\"nb_pos_f\"],axis=1)"
   ]
  },
  {
   "cell_type": "code",
   "execution_count": 1405,
   "metadata": {},
   "outputs": [
    {
     "data": {
      "text/html": [
       "<div>\n",
       "<style scoped>\n",
       "    .dataframe tbody tr th:only-of-type {\n",
       "        vertical-align: middle;\n",
       "    }\n",
       "\n",
       "    .dataframe tbody tr th {\n",
       "        vertical-align: top;\n",
       "    }\n",
       "\n",
       "    .dataframe thead th {\n",
       "        text-align: right;\n",
       "    }\n",
       "</style>\n",
       "<table border=\"1\" class=\"dataframe\">\n",
       "  <thead>\n",
       "    <tr style=\"text-align: right;\">\n",
       "      <th></th>\n",
       "      <th>dep</th>\n",
       "      <th>jour</th>\n",
       "      <th>clage_covid</th>\n",
       "      <th>nb_test</th>\n",
       "      <th>nb_pos</th>\n",
       "    </tr>\n",
       "  </thead>\n",
       "  <tbody>\n",
       "    <tr>\n",
       "      <th>48</th>\n",
       "      <td>01</td>\n",
       "      <td>2020-03-18</td>\n",
       "      <td>0</td>\n",
       "      <td>37</td>\n",
       "      <td>8</td>\n",
       "    </tr>\n",
       "    <tr>\n",
       "      <th>49</th>\n",
       "      <td>01</td>\n",
       "      <td>2020-03-18</td>\n",
       "      <td>A</td>\n",
       "      <td>0</td>\n",
       "      <td>0</td>\n",
       "    </tr>\n",
       "    <tr>\n",
       "      <th>50</th>\n",
       "      <td>01</td>\n",
       "      <td>2020-03-18</td>\n",
       "      <td>B</td>\n",
       "      <td>15</td>\n",
       "      <td>1</td>\n",
       "    </tr>\n",
       "    <tr>\n",
       "      <th>51</th>\n",
       "      <td>01</td>\n",
       "      <td>2020-03-18</td>\n",
       "      <td>C</td>\n",
       "      <td>11</td>\n",
       "      <td>3</td>\n",
       "    </tr>\n",
       "    <tr>\n",
       "      <th>52</th>\n",
       "      <td>01</td>\n",
       "      <td>2020-03-18</td>\n",
       "      <td>D</td>\n",
       "      <td>4</td>\n",
       "      <td>3</td>\n",
       "    </tr>\n",
       "  </tbody>\n",
       "</table>\n",
       "</div>"
      ],
      "text/plain": [
       "   dep        jour clage_covid  nb_test  nb_pos\n",
       "48  01  2020-03-18           0       37       8\n",
       "49  01  2020-03-18           A        0       0\n",
       "50  01  2020-03-18           B       15       1\n",
       "51  01  2020-03-18           C       11       3\n",
       "52  01  2020-03-18           D        4       3"
      ]
     },
     "execution_count": 1405,
     "metadata": {},
     "output_type": "execute_result"
    }
   ],
   "source": [
    "df_test1=df_test1.drop(df_test1[(df_test1[\"jour\"]<\"2020-03-18\") | (df_test1[\"jour\"]>\"2020-05-12\")].index)\n",
    "df_test1.head()"
   ]
  },
  {
   "cell_type": "code",
   "execution_count": 1406,
   "metadata": {},
   "outputs": [
    {
     "data": {
      "text/html": [
       "<div>\n",
       "<style scoped>\n",
       "    .dataframe tbody tr th:only-of-type {\n",
       "        vertical-align: middle;\n",
       "    }\n",
       "\n",
       "    .dataframe tbody tr th {\n",
       "        vertical-align: top;\n",
       "    }\n",
       "\n",
       "    .dataframe thead th {\n",
       "        text-align: right;\n",
       "    }\n",
       "</style>\n",
       "<table border=\"1\" class=\"dataframe\">\n",
       "  <thead>\n",
       "    <tr style=\"text-align: right;\">\n",
       "      <th></th>\n",
       "      <th>dep</th>\n",
       "      <th>jour</th>\n",
       "      <th>nb_test</th>\n",
       "      <th>nb_pos</th>\n",
       "    </tr>\n",
       "  </thead>\n",
       "  <tbody>\n",
       "    <tr>\n",
       "      <th>48</th>\n",
       "      <td>01</td>\n",
       "      <td>2020-03-18</td>\n",
       "      <td>37</td>\n",
       "      <td>8</td>\n",
       "    </tr>\n",
       "    <tr>\n",
       "      <th>54</th>\n",
       "      <td>01</td>\n",
       "      <td>2020-03-19</td>\n",
       "      <td>82</td>\n",
       "      <td>13</td>\n",
       "    </tr>\n",
       "    <tr>\n",
       "      <th>60</th>\n",
       "      <td>01</td>\n",
       "      <td>2020-03-20</td>\n",
       "      <td>44</td>\n",
       "      <td>9</td>\n",
       "    </tr>\n",
       "    <tr>\n",
       "      <th>66</th>\n",
       "      <td>01</td>\n",
       "      <td>2020-03-21</td>\n",
       "      <td>13</td>\n",
       "      <td>1</td>\n",
       "    </tr>\n",
       "    <tr>\n",
       "      <th>72</th>\n",
       "      <td>01</td>\n",
       "      <td>2020-03-22</td>\n",
       "      <td>4</td>\n",
       "      <td>0</td>\n",
       "    </tr>\n",
       "  </tbody>\n",
       "</table>\n",
       "</div>"
      ],
      "text/plain": [
       "   dep        jour  nb_test  nb_pos\n",
       "48  01  2020-03-18       37       8\n",
       "54  01  2020-03-19       82      13\n",
       "60  01  2020-03-20       44       9\n",
       "66  01  2020-03-21       13       1\n",
       "72  01  2020-03-22        4       0"
      ]
     },
     "execution_count": 1406,
     "metadata": {},
     "output_type": "execute_result"
    }
   ],
   "source": [
    "df_test1=df_test1.drop(df_test1[df_test1[\"clage_covid\"] != \"0\"].index)\n",
    "df_test1=df_test1.drop(\"clage_covid\",axis=1)\n",
    "df_test1.head()"
   ]
  },
  {
   "cell_type": "markdown",
   "metadata": {},
   "source": [
    "2. **Dataset after 2020-05-12**"
   ]
  },
  {
   "cell_type": "code",
   "execution_count": 1407,
   "metadata": {},
   "outputs": [
    {
     "data": {
      "text/html": [
       "<div>\n",
       "<style scoped>\n",
       "    .dataframe tbody tr th:only-of-type {\n",
       "        vertical-align: middle;\n",
       "    }\n",
       "\n",
       "    .dataframe tbody tr th {\n",
       "        vertical-align: top;\n",
       "    }\n",
       "\n",
       "    .dataframe thead th {\n",
       "        text-align: right;\n",
       "    }\n",
       "</style>\n",
       "<table border=\"1\" class=\"dataframe\">\n",
       "  <thead>\n",
       "    <tr style=\"text-align: right;\">\n",
       "      <th></th>\n",
       "      <th>dep</th>\n",
       "      <th>jour</th>\n",
       "      <th>P</th>\n",
       "      <th>T</th>\n",
       "      <th>cl_age90</th>\n",
       "    </tr>\n",
       "  </thead>\n",
       "  <tbody>\n",
       "    <tr>\n",
       "      <th>0</th>\n",
       "      <td>01</td>\n",
       "      <td>2020-05-13</td>\n",
       "      <td>0</td>\n",
       "      <td>16</td>\n",
       "      <td>9</td>\n",
       "    </tr>\n",
       "    <tr>\n",
       "      <th>1</th>\n",
       "      <td>01</td>\n",
       "      <td>2020-05-13</td>\n",
       "      <td>1</td>\n",
       "      <td>16</td>\n",
       "      <td>19</td>\n",
       "    </tr>\n",
       "    <tr>\n",
       "      <th>2</th>\n",
       "      <td>01</td>\n",
       "      <td>2020-05-13</td>\n",
       "      <td>0</td>\n",
       "      <td>31</td>\n",
       "      <td>29</td>\n",
       "    </tr>\n",
       "    <tr>\n",
       "      <th>3</th>\n",
       "      <td>01</td>\n",
       "      <td>2020-05-13</td>\n",
       "      <td>1</td>\n",
       "      <td>71</td>\n",
       "      <td>39</td>\n",
       "    </tr>\n",
       "    <tr>\n",
       "      <th>4</th>\n",
       "      <td>01</td>\n",
       "      <td>2020-05-13</td>\n",
       "      <td>0</td>\n",
       "      <td>52</td>\n",
       "      <td>49</td>\n",
       "    </tr>\n",
       "  </tbody>\n",
       "</table>\n",
       "</div>"
      ],
      "text/plain": [
       "  dep        jour  P   T  cl_age90\n",
       "0  01  2020-05-13  0  16         9\n",
       "1  01  2020-05-13  1  16        19\n",
       "2  01  2020-05-13  0  31        29\n",
       "3  01  2020-05-13  1  71        39\n",
       "4  01  2020-05-13  0  52        49"
      ]
     },
     "execution_count": 1407,
     "metadata": {},
     "output_type": "execute_result"
    }
   ],
   "source": [
    "url_test2=\"https://www.data.gouv.fr/fr/datasets/r/406c6a23-e283-4300-9484-54e78c8ae675\"\n",
    "dtype={'dep': str,'P':int,'T':int,'cl_age':int}\n",
    "df_test2=pd.read_csv(url_test2,sep = ';',dtype=dtype)\n",
    "df_test2.head()"
   ]
  },
  {
   "cell_type": "code",
   "execution_count": 1408,
   "metadata": {},
   "outputs": [
    {
     "data": {
      "text/html": [
       "<div>\n",
       "<style scoped>\n",
       "    .dataframe tbody tr th:only-of-type {\n",
       "        vertical-align: middle;\n",
       "    }\n",
       "\n",
       "    .dataframe tbody tr th {\n",
       "        vertical-align: top;\n",
       "    }\n",
       "\n",
       "    .dataframe thead th {\n",
       "        text-align: right;\n",
       "    }\n",
       "</style>\n",
       "<table border=\"1\" class=\"dataframe\">\n",
       "  <thead>\n",
       "    <tr style=\"text-align: right;\">\n",
       "      <th></th>\n",
       "      <th>dep</th>\n",
       "      <th>jour</th>\n",
       "      <th>P</th>\n",
       "      <th>T</th>\n",
       "      <th>cl_age90</th>\n",
       "    </tr>\n",
       "  </thead>\n",
       "  <tbody>\n",
       "    <tr>\n",
       "      <th>145200</th>\n",
       "      <td>75</td>\n",
       "      <td>2020-05-13</td>\n",
       "      <td>0</td>\n",
       "      <td>62</td>\n",
       "      <td>9</td>\n",
       "    </tr>\n",
       "    <tr>\n",
       "      <th>145201</th>\n",
       "      <td>75</td>\n",
       "      <td>2020-05-13</td>\n",
       "      <td>0</td>\n",
       "      <td>40</td>\n",
       "      <td>19</td>\n",
       "    </tr>\n",
       "    <tr>\n",
       "      <th>145202</th>\n",
       "      <td>75</td>\n",
       "      <td>2020-05-13</td>\n",
       "      <td>6</td>\n",
       "      <td>188</td>\n",
       "      <td>29</td>\n",
       "    </tr>\n",
       "    <tr>\n",
       "      <th>145203</th>\n",
       "      <td>75</td>\n",
       "      <td>2020-05-13</td>\n",
       "      <td>2</td>\n",
       "      <td>234</td>\n",
       "      <td>39</td>\n",
       "    </tr>\n",
       "    <tr>\n",
       "      <th>145204</th>\n",
       "      <td>75</td>\n",
       "      <td>2020-05-13</td>\n",
       "      <td>2</td>\n",
       "      <td>206</td>\n",
       "      <td>49</td>\n",
       "    </tr>\n",
       "    <tr>\n",
       "      <th>...</th>\n",
       "      <td>...</td>\n",
       "      <td>...</td>\n",
       "      <td>...</td>\n",
       "      <td>...</td>\n",
       "      <td>...</td>\n",
       "    </tr>\n",
       "    <tr>\n",
       "      <th>147131</th>\n",
       "      <td>75</td>\n",
       "      <td>2020-11-04</td>\n",
       "      <td>137</td>\n",
       "      <td>842</td>\n",
       "      <td>69</td>\n",
       "    </tr>\n",
       "    <tr>\n",
       "      <th>147132</th>\n",
       "      <td>75</td>\n",
       "      <td>2020-11-04</td>\n",
       "      <td>65</td>\n",
       "      <td>415</td>\n",
       "      <td>79</td>\n",
       "    </tr>\n",
       "    <tr>\n",
       "      <th>147133</th>\n",
       "      <td>75</td>\n",
       "      <td>2020-11-04</td>\n",
       "      <td>22</td>\n",
       "      <td>184</td>\n",
       "      <td>89</td>\n",
       "    </tr>\n",
       "    <tr>\n",
       "      <th>147134</th>\n",
       "      <td>75</td>\n",
       "      <td>2020-11-04</td>\n",
       "      <td>20</td>\n",
       "      <td>90</td>\n",
       "      <td>90</td>\n",
       "    </tr>\n",
       "    <tr>\n",
       "      <th>147135</th>\n",
       "      <td>75</td>\n",
       "      <td>2020-11-04</td>\n",
       "      <td>1106</td>\n",
       "      <td>6602</td>\n",
       "      <td>0</td>\n",
       "    </tr>\n",
       "  </tbody>\n",
       "</table>\n",
       "<p>1936 rows × 5 columns</p>\n",
       "</div>"
      ],
      "text/plain": [
       "       dep        jour     P     T  cl_age90\n",
       "145200  75  2020-05-13     0    62         9\n",
       "145201  75  2020-05-13     0    40        19\n",
       "145202  75  2020-05-13     6   188        29\n",
       "145203  75  2020-05-13     2   234        39\n",
       "145204  75  2020-05-13     2   206        49\n",
       "...     ..         ...   ...   ...       ...\n",
       "147131  75  2020-11-04   137   842        69\n",
       "147132  75  2020-11-04    65   415        79\n",
       "147133  75  2020-11-04    22   184        89\n",
       "147134  75  2020-11-04    20    90        90\n",
       "147135  75  2020-11-04  1106  6602         0\n",
       "\n",
       "[1936 rows x 5 columns]"
      ]
     },
     "execution_count": 1408,
     "metadata": {},
     "output_type": "execute_result"
    }
   ],
   "source": [
    "df_test2.loc[df_test2['dep'] == '75']"
   ]
  },
  {
   "cell_type": "code",
   "execution_count": 1409,
   "metadata": {},
   "outputs": [],
   "source": [
    "df_test2=df_test2.rename(columns={'P':'nb_pos','T':'nb_test'})\n",
    "df_test2=df_test2.drop(\"cl_age90\",axis=1)"
   ]
  },
  {
   "cell_type": "code",
   "execution_count": 1410,
   "metadata": {},
   "outputs": [
    {
     "data": {
      "text/html": [
       "<div>\n",
       "<style scoped>\n",
       "    .dataframe tbody tr th:only-of-type {\n",
       "        vertical-align: middle;\n",
       "    }\n",
       "\n",
       "    .dataframe tbody tr th {\n",
       "        vertical-align: top;\n",
       "    }\n",
       "\n",
       "    .dataframe thead th {\n",
       "        text-align: right;\n",
       "    }\n",
       "</style>\n",
       "<table border=\"1\" class=\"dataframe\">\n",
       "  <thead>\n",
       "    <tr style=\"text-align: right;\">\n",
       "      <th></th>\n",
       "      <th>dep</th>\n",
       "      <th>jour</th>\n",
       "      <th>nb_pos</th>\n",
       "      <th>nb_test</th>\n",
       "    </tr>\n",
       "  </thead>\n",
       "  <tbody>\n",
       "    <tr>\n",
       "      <th>10</th>\n",
       "      <td>01</td>\n",
       "      <td>2020-05-13</td>\n",
       "      <td>9</td>\n",
       "      <td>324</td>\n",
       "    </tr>\n",
       "    <tr>\n",
       "      <th>21</th>\n",
       "      <td>01</td>\n",
       "      <td>2020-05-14</td>\n",
       "      <td>9</td>\n",
       "      <td>429</td>\n",
       "    </tr>\n",
       "    <tr>\n",
       "      <th>32</th>\n",
       "      <td>01</td>\n",
       "      <td>2020-05-15</td>\n",
       "      <td>5</td>\n",
       "      <td>438</td>\n",
       "    </tr>\n",
       "    <tr>\n",
       "      <th>43</th>\n",
       "      <td>01</td>\n",
       "      <td>2020-05-16</td>\n",
       "      <td>0</td>\n",
       "      <td>142</td>\n",
       "    </tr>\n",
       "    <tr>\n",
       "      <th>54</th>\n",
       "      <td>01</td>\n",
       "      <td>2020-05-17</td>\n",
       "      <td>0</td>\n",
       "      <td>30</td>\n",
       "    </tr>\n",
       "  </tbody>\n",
       "</table>\n",
       "</div>"
      ],
      "text/plain": [
       "   dep        jour  nb_pos  nb_test\n",
       "10  01  2020-05-13       9      324\n",
       "21  01  2020-05-14       9      429\n",
       "32  01  2020-05-15       5      438\n",
       "43  01  2020-05-16       0      142\n",
       "54  01  2020-05-17       0       30"
      ]
     },
     "execution_count": 1410,
     "metadata": {},
     "output_type": "execute_result"
    }
   ],
   "source": [
    "df_test2=df_test2.groupby([\"dep\",\"jour\"]).tail(1)\n",
    "df_test2.head()"
   ]
  },
  {
   "cell_type": "markdown",
   "metadata": {},
   "source": [
    "3. **Merge in one dataset**"
   ]
  },
  {
   "cell_type": "code",
   "execution_count": 1411,
   "metadata": {},
   "outputs": [
    {
     "data": {
      "text/html": [
       "<div>\n",
       "<style scoped>\n",
       "    .dataframe tbody tr th:only-of-type {\n",
       "        vertical-align: middle;\n",
       "    }\n",
       "\n",
       "    .dataframe tbody tr th {\n",
       "        vertical-align: top;\n",
       "    }\n",
       "\n",
       "    .dataframe thead th {\n",
       "        text-align: right;\n",
       "    }\n",
       "</style>\n",
       "<table border=\"1\" class=\"dataframe\">\n",
       "  <thead>\n",
       "    <tr style=\"text-align: right;\">\n",
       "      <th></th>\n",
       "      <th>dep</th>\n",
       "      <th>jour</th>\n",
       "      <th>nb_test</th>\n",
       "      <th>nb_pos</th>\n",
       "      <th>nb_test_cum</th>\n",
       "      <th>nb_pos_cum</th>\n",
       "    </tr>\n",
       "  </thead>\n",
       "  <tbody>\n",
       "    <tr>\n",
       "      <th>0</th>\n",
       "      <td>01</td>\n",
       "      <td>2020-03-18</td>\n",
       "      <td>37</td>\n",
       "      <td>8</td>\n",
       "      <td>37</td>\n",
       "      <td>8</td>\n",
       "    </tr>\n",
       "    <tr>\n",
       "      <th>1</th>\n",
       "      <td>01</td>\n",
       "      <td>2020-03-19</td>\n",
       "      <td>82</td>\n",
       "      <td>13</td>\n",
       "      <td>119</td>\n",
       "      <td>21</td>\n",
       "    </tr>\n",
       "    <tr>\n",
       "      <th>2</th>\n",
       "      <td>01</td>\n",
       "      <td>2020-03-20</td>\n",
       "      <td>44</td>\n",
       "      <td>9</td>\n",
       "      <td>163</td>\n",
       "      <td>30</td>\n",
       "    </tr>\n",
       "    <tr>\n",
       "      <th>3</th>\n",
       "      <td>01</td>\n",
       "      <td>2020-03-21</td>\n",
       "      <td>13</td>\n",
       "      <td>1</td>\n",
       "      <td>176</td>\n",
       "      <td>31</td>\n",
       "    </tr>\n",
       "    <tr>\n",
       "      <th>4</th>\n",
       "      <td>01</td>\n",
       "      <td>2020-03-22</td>\n",
       "      <td>4</td>\n",
       "      <td>0</td>\n",
       "      <td>180</td>\n",
       "      <td>31</td>\n",
       "    </tr>\n",
       "  </tbody>\n",
       "</table>\n",
       "</div>"
      ],
      "text/plain": [
       "  dep        jour  nb_test  nb_pos  nb_test_cum  nb_pos_cum\n",
       "0  01  2020-03-18       37       8           37           8\n",
       "1  01  2020-03-19       82      13          119          21\n",
       "2  01  2020-03-20       44       9          163          30\n",
       "3  01  2020-03-21       13       1          176          31\n",
       "4  01  2020-03-22        4       0          180          31"
      ]
     },
     "execution_count": 1411,
     "metadata": {},
     "output_type": "execute_result"
    }
   ],
   "source": [
    "df_test = pd.concat([df_test1,df_test2],ignore_index=True)\n",
    "df_test['nb_test_cum']=df_test.groupby(\"dep\")['nb_test'].cumsum()\n",
    "df_test['nb_pos_cum']=df_test.groupby(\"dep\")['nb_pos'].cumsum()\n",
    "df_test.head()"
   ]
  },
  {
   "cell_type": "markdown",
   "metadata": {},
   "source": [
    "## **Hospital dataset**"
   ]
  },
  {
   "cell_type": "code",
   "execution_count": 1412,
   "metadata": {},
   "outputs": [
    {
     "data": {
      "text/html": [
       "<div>\n",
       "<style scoped>\n",
       "    .dataframe tbody tr th:only-of-type {\n",
       "        vertical-align: middle;\n",
       "    }\n",
       "\n",
       "    .dataframe tbody tr th {\n",
       "        vertical-align: top;\n",
       "    }\n",
       "\n",
       "    .dataframe thead th {\n",
       "        text-align: right;\n",
       "    }\n",
       "</style>\n",
       "<table border=\"1\" class=\"dataframe\">\n",
       "  <thead>\n",
       "    <tr style=\"text-align: right;\">\n",
       "      <th></th>\n",
       "      <th>dep</th>\n",
       "      <th>sexe</th>\n",
       "      <th>jour</th>\n",
       "      <th>hosp</th>\n",
       "      <th>rea</th>\n",
       "      <th>rad</th>\n",
       "      <th>dc</th>\n",
       "    </tr>\n",
       "  </thead>\n",
       "  <tbody>\n",
       "    <tr>\n",
       "      <th>0</th>\n",
       "      <td>01</td>\n",
       "      <td>0</td>\n",
       "      <td>2020-03-18</td>\n",
       "      <td>2</td>\n",
       "      <td>0</td>\n",
       "      <td>1</td>\n",
       "      <td>0</td>\n",
       "    </tr>\n",
       "    <tr>\n",
       "      <th>1</th>\n",
       "      <td>01</td>\n",
       "      <td>1</td>\n",
       "      <td>2020-03-18</td>\n",
       "      <td>1</td>\n",
       "      <td>0</td>\n",
       "      <td>1</td>\n",
       "      <td>0</td>\n",
       "    </tr>\n",
       "    <tr>\n",
       "      <th>2</th>\n",
       "      <td>01</td>\n",
       "      <td>2</td>\n",
       "      <td>2020-03-18</td>\n",
       "      <td>1</td>\n",
       "      <td>0</td>\n",
       "      <td>0</td>\n",
       "      <td>0</td>\n",
       "    </tr>\n",
       "    <tr>\n",
       "      <th>3</th>\n",
       "      <td>02</td>\n",
       "      <td>0</td>\n",
       "      <td>2020-03-18</td>\n",
       "      <td>41</td>\n",
       "      <td>10</td>\n",
       "      <td>18</td>\n",
       "      <td>11</td>\n",
       "    </tr>\n",
       "    <tr>\n",
       "      <th>4</th>\n",
       "      <td>02</td>\n",
       "      <td>1</td>\n",
       "      <td>2020-03-18</td>\n",
       "      <td>19</td>\n",
       "      <td>4</td>\n",
       "      <td>11</td>\n",
       "      <td>6</td>\n",
       "    </tr>\n",
       "  </tbody>\n",
       "</table>\n",
       "</div>"
      ],
      "text/plain": [
       "  dep  sexe        jour  hosp  rea  rad  dc\n",
       "0  01     0  2020-03-18     2    0    1   0\n",
       "1  01     1  2020-03-18     1    0    1   0\n",
       "2  01     2  2020-03-18     1    0    0   0\n",
       "3  02     0  2020-03-18    41   10   18  11\n",
       "4  02     1  2020-03-18    19    4   11   6"
      ]
     },
     "execution_count": 1412,
     "metadata": {},
     "output_type": "execute_result"
    }
   ],
   "source": [
    "url2=\"https://www.data.gouv.fr/fr/datasets/r/63352e38-d353-4b54-bfd1-f1b3ee1cabd7\"\n",
    "df_hospital = pd.read_csv(url2,sep=';')\n",
    "df_hospital.head()"
   ]
  },
  {
   "cell_type": "code",
   "execution_count": 1413,
   "metadata": {},
   "outputs": [
    {
     "data": {
      "text/html": [
       "<div>\n",
       "<style scoped>\n",
       "    .dataframe tbody tr th:only-of-type {\n",
       "        vertical-align: middle;\n",
       "    }\n",
       "\n",
       "    .dataframe tbody tr th {\n",
       "        vertical-align: top;\n",
       "    }\n",
       "\n",
       "    .dataframe thead th {\n",
       "        text-align: right;\n",
       "    }\n",
       "</style>\n",
       "<table border=\"1\" class=\"dataframe\">\n",
       "  <thead>\n",
       "    <tr style=\"text-align: right;\">\n",
       "      <th></th>\n",
       "      <th>dep</th>\n",
       "      <th>jour</th>\n",
       "      <th>hosp</th>\n",
       "      <th>rea</th>\n",
       "      <th>rad</th>\n",
       "      <th>dc</th>\n",
       "    </tr>\n",
       "  </thead>\n",
       "  <tbody>\n",
       "    <tr>\n",
       "      <th>0</th>\n",
       "      <td>01</td>\n",
       "      <td>2020-03-18</td>\n",
       "      <td>2</td>\n",
       "      <td>0</td>\n",
       "      <td>1</td>\n",
       "      <td>0</td>\n",
       "    </tr>\n",
       "    <tr>\n",
       "      <th>1</th>\n",
       "      <td>02</td>\n",
       "      <td>2020-03-18</td>\n",
       "      <td>41</td>\n",
       "      <td>10</td>\n",
       "      <td>18</td>\n",
       "      <td>11</td>\n",
       "    </tr>\n",
       "    <tr>\n",
       "      <th>2</th>\n",
       "      <td>03</td>\n",
       "      <td>2020-03-18</td>\n",
       "      <td>4</td>\n",
       "      <td>0</td>\n",
       "      <td>1</td>\n",
       "      <td>0</td>\n",
       "    </tr>\n",
       "    <tr>\n",
       "      <th>3</th>\n",
       "      <td>04</td>\n",
       "      <td>2020-03-18</td>\n",
       "      <td>3</td>\n",
       "      <td>1</td>\n",
       "      <td>2</td>\n",
       "      <td>0</td>\n",
       "    </tr>\n",
       "    <tr>\n",
       "      <th>4</th>\n",
       "      <td>05</td>\n",
       "      <td>2020-03-18</td>\n",
       "      <td>8</td>\n",
       "      <td>1</td>\n",
       "      <td>9</td>\n",
       "      <td>0</td>\n",
       "    </tr>\n",
       "  </tbody>\n",
       "</table>\n",
       "</div>"
      ],
      "text/plain": [
       "  dep        jour  hosp  rea  rad  dc\n",
       "0  01  2020-03-18     2    0    1   0\n",
       "1  02  2020-03-18    41   10   18  11\n",
       "2  03  2020-03-18     4    0    1   0\n",
       "3  04  2020-03-18     3    1    2   0\n",
       "4  05  2020-03-18     8    1    9   0"
      ]
     },
     "execution_count": 1413,
     "metadata": {},
     "output_type": "execute_result"
    }
   ],
   "source": [
    "df_hospital = df_hospital.drop(df_hospital[(df_hospital[\"sexe\"]==1) | (df_hospital[\"sexe\"]==2 ) ].index).reset_index(drop=True)\n",
    "df_hospital = df_hospital.drop([\"sexe\"],axis=1)\n",
    "df_hospital.head()"
   ]
  },
  {
   "cell_type": "markdown",
   "metadata": {},
   "source": [
    "## **Create departement longitude/latitude Dataframe**"
   ]
  },
  {
   "cell_type": "markdown",
   "metadata": {},
   "source": [
    "Source: <a href=\"https://www.ign.fr/sites/default/files/2020-09/Quels%20sont%20les%20centres%20des%2096%20d%C3%A9partements%20m%C3%A9tropolitains.pdf\" target=\"_blank\">https://www.ign.fr/sites/default/files/2020-09/Quels%20sont%20les%20centres%20des%2096%20d%C3%A9partements%20m%C3%A9tropolitains.pdf</a>\n",
    "\n",
    "Source: <a href=\"https://www.coordonnees-gps.fr/\" target=\"_blank\">https://www.coordonnees-gps.fr/</a>"
   ]
  },
  {
   "cell_type": "code",
   "execution_count": 1414,
   "metadata": {},
   "outputs": [],
   "source": [
    "departements= df_test[\"dep\"].unique()\n",
    "zoom_dep=[7.5]*len(departements)"
   ]
  },
  {
   "cell_type": "code",
   "execution_count": 1415,
   "metadata": {},
   "outputs": [
    {
     "name": "stdout",
     "output_type": "stream",
     "text": [
      "104\n"
     ]
    },
    {
     "data": {
      "text/html": [
       "<div>\n",
       "<style scoped>\n",
       "    .dataframe tbody tr th:only-of-type {\n",
       "        vertical-align: middle;\n",
       "    }\n",
       "\n",
       "    .dataframe tbody tr th {\n",
       "        vertical-align: top;\n",
       "    }\n",
       "\n",
       "    .dataframe thead th {\n",
       "        text-align: right;\n",
       "    }\n",
       "</style>\n",
       "<table border=\"1\" class=\"dataframe\">\n",
       "  <thead>\n",
       "    <tr style=\"text-align: right;\">\n",
       "      <th></th>\n",
       "      <th>dep</th>\n",
       "      <th>dep_name</th>\n",
       "      <th>lat</th>\n",
       "      <th>long</th>\n",
       "      <th>zoom</th>\n",
       "    </tr>\n",
       "  </thead>\n",
       "  <tbody>\n",
       "    <tr>\n",
       "      <th>99</th>\n",
       "      <td>974</td>\n",
       "      <td>La Réunion</td>\n",
       "      <td>-20.88</td>\n",
       "      <td>55.45</td>\n",
       "      <td>7.5</td>\n",
       "    </tr>\n",
       "    <tr>\n",
       "      <th>100</th>\n",
       "      <td>976</td>\n",
       "      <td>Mayotte</td>\n",
       "      <td>-12.77</td>\n",
       "      <td>45.22</td>\n",
       "      <td>7.5</td>\n",
       "    </tr>\n",
       "    <tr>\n",
       "      <th>101</th>\n",
       "      <td>975</td>\n",
       "      <td>Saint-Pierre-et-Miquelon</td>\n",
       "      <td>46.78</td>\n",
       "      <td>-56.19</td>\n",
       "      <td>7.5</td>\n",
       "    </tr>\n",
       "    <tr>\n",
       "      <th>102</th>\n",
       "      <td>977</td>\n",
       "      <td>Saint-Barthélémy</td>\n",
       "      <td>17.90</td>\n",
       "      <td>-62.81</td>\n",
       "      <td>7.5</td>\n",
       "    </tr>\n",
       "    <tr>\n",
       "      <th>103</th>\n",
       "      <td>978</td>\n",
       "      <td>Saint-Martin</td>\n",
       "      <td>18.06</td>\n",
       "      <td>-63.08</td>\n",
       "      <td>7.5</td>\n",
       "    </tr>\n",
       "  </tbody>\n",
       "</table>\n",
       "</div>"
      ],
      "text/plain": [
       "     dep                  dep_name    lat   long  zoom\n",
       "99   974                La Réunion -20.88  55.45   7.5\n",
       "100  976                   Mayotte -12.77  45.22   7.5\n",
       "101  975  Saint-Pierre-et-Miquelon  46.78 -56.19   7.5\n",
       "102  977          Saint-Barthélémy  17.90 -62.81   7.5\n",
       "103  978              Saint-Martin  18.06 -63.08   7.5"
      ]
     },
     "execution_count": 1415,
     "metadata": {},
     "output_type": "execute_result"
    }
   ],
   "source": [
    "data={'dep':departements,\n",
    "      'dep_name':['Ain','Aisne','Allier','Alpes-de-Haute-Provence','Hautes-Alpes','Alpes_Maritimes','Ardeche','Ardennes','Ariege','Aube','Aude','Aveyron','Bouches-du-Rhône','Calvados','Cantal','Charente','Charente-Maritime','Cher','Correze',\"Côte-d'Or\",\"Côtes-D'Armor\",\"Creuse\",\"Dordogne\",\"Doubs\",\"Drome\",\"Eure\",\"Eure-et-Loire\",\"Finistère\",\"Corde-du-Sud\",\"Haute-Corse\",\"Gard\",\"Haute-Garonne\",\"Gers\",\"Gironde\",\"Hérault\",\"Ille-et-Vilaine\",\"Indre\",\"Indre-et-Loire\",\"Isère\",\"Jura\",\"Landes\",\"Loir-et-Cher\",\"Loire\",\"Haute-Loire\",\"Loire-Atlantique\",\"Loiret\",\"Lot\",\"Lot-et-Garonne\",\"Lozère\",\"Manne-et-Loire\",\"Manche\",\"Marne\",\"Haute-Marne\",\"Mayenne\",\"Meurthe-et-Moselle\",\"Meuse\",\"Morbihan\",\"Moselle\",\"Nièvre\",\"Nord\",\"Oise\",\"Orne\",\"Pas-de-Calais\",\"Puy-de-Dôme\",\"Pyrénées-Altantiques\",\"Hautes-Pyrénées\",\"Pyrénées-Orientales\",\"Bas-Rhin\",\"Haut-Rhin\",\"Rhone\",\"Haute-Saône\",\"Saône-et-Loire\",\"Sarthe\",\"Savoie\",\"Haute-Savoie\",\"Paris\",\"Seine-Maritime\",\"Seine-et-Marne\",\"Yvellines\",\"Deux-Sèvres\",\"Somme\",\"Tarn\",\"Tarn-et-Garonne\",\"Var\",\"Vaucluse\",\"Vendée\",\"Vienne\",\"Haute-Vienne\",\"Vosges\",\"Yonne\",\"Territoire de Belfort\",\"Essonne\",\"Hauts-de-Seine\",\"Seine-Saint_Denis\",\"Val-de-Marne\",\"Val-d'Oise\",\"Guadeloupe\",\"Martinique\",\"Guyane\",\"La Réunion\",\"Mayotte\",\"Saint-Pierre-et-Miquelon\",\"Saint-Barthélémy\",\"Saint-Martin\"],\n",
    "      'lat':[46.1,49.55,44.1,44.09,44.66,43.94,44.73,49.61,42.94,48.31,43.10,44.28,43.54,49.10,45.01,45.71,45.76,47.07,45.34,47.43,48.44,46.08,45.13,47.16,44.68,49.10,48.39,48.27,41.88,42.37,43.99,43.35,43.68,44.84,43.90,48.18,46.80,47.24,45.27,46.73,43.96,47.61,45.72,45.13,47.38,47.85,44.63,44.37,44.51,47.39,49.08,48.38,48.09,48.12,48.79,49.00,47.85,49.02,47.10,50.45,49.39,48.61,50.49,45.73,43.28,43.05,42.61,48.65,47.86,45.86,47.63,46.64,48.00,45.47,46.04,48.85,49.65,48.60,48.97,46.53,49.97,43.77,44.07,43.47,43.99,46.67,46.55,45.87,48.19,47.84,47.62,48.52,48.83,48.90,48.77,49.07,16.00,14.60,4.93,-20.88,-12.77,46.78,17.90,18.06],\n",
    "      'long':[5.33,3.56,2.35,6.23,6.21,7.12,4.41,4.61,1.53,4.14,2.35,2.72,5.03,-0.37,2.66,0.20,-0.71,2.52,1.81,4.78,-2.85,2.04,0.70,6.37,5.15,1.00,1.36,-4.04,8.97,9.23,4.17,1.23,0.45,-0.58,4.47,-1.64,1.62,0.69,5.61,5.69,-0.80,1.41,4.16,3.81,-1.71,2.26,1.59,0.46,3.49,-0.53,-1.34,7.47,5.15,-0.67,6.16,5.39,-2.83,6.65,3.51,3.20,2.42,0.11,2.27,3.14,-0.75,0.16,2.51,7.56,7.27,4.66,6.07,4.53,0.19,6.45,6.44,2.35,1.04,2.97,1.97,-0.32,2.29,2.18,1.28,6.18,5.14,-1.28,0.50,1.23,6.37,3.57,6.92,2.26,2.24,2.48,2.45,2.17,-61.73,-61.06,-52.32,55.45,45.22,-56.19,-62.81,-63.08],\n",
    "      'zoom':zoom_dep\n",
    "     }\n",
    "print(len(data['dep_name']))\n",
    "df_coord = pd.DataFrame(data,columns=['dep','dep_name','lat','long','zoom'])\n",
    "df_coord.tail()"
   ]
  },
  {
   "cell_type": "markdown",
   "metadata": {},
   "source": [
    "## **Complete Dataset**"
   ]
  },
  {
   "cell_type": "code",
   "execution_count": 1416,
   "metadata": {},
   "outputs": [],
   "source": [
    "df_dep = pd.merge(df_hospital,df_test,on=['dep','jour'])\n",
    "df_dep = pd.merge(df_dep,df_coord,on=['dep'])\n",
    "df_dep=df_dep.sort_values(['dep','jour'])"
   ]
  },
  {
   "cell_type": "code",
   "execution_count": 1417,
   "metadata": {},
   "outputs": [
    {
     "data": {
      "text/html": [
       "<div>\n",
       "<style scoped>\n",
       "    .dataframe tbody tr th:only-of-type {\n",
       "        vertical-align: middle;\n",
       "    }\n",
       "\n",
       "    .dataframe tbody tr th {\n",
       "        vertical-align: top;\n",
       "    }\n",
       "\n",
       "    .dataframe thead th {\n",
       "        text-align: right;\n",
       "    }\n",
       "</style>\n",
       "<table border=\"1\" class=\"dataframe\">\n",
       "  <thead>\n",
       "    <tr style=\"text-align: right;\">\n",
       "      <th></th>\n",
       "      <th>dep</th>\n",
       "      <th>jour</th>\n",
       "      <th>hosp</th>\n",
       "      <th>rea</th>\n",
       "      <th>rad</th>\n",
       "      <th>dc</th>\n",
       "      <th>nb_test</th>\n",
       "      <th>nb_pos</th>\n",
       "      <th>nb_test_cum</th>\n",
       "      <th>nb_pos_cum</th>\n",
       "      <th>dep_name</th>\n",
       "      <th>lat</th>\n",
       "      <th>long</th>\n",
       "      <th>zoom</th>\n",
       "    </tr>\n",
       "  </thead>\n",
       "  <tbody>\n",
       "    <tr>\n",
       "      <th>0</th>\n",
       "      <td>01</td>\n",
       "      <td>2020-03-18</td>\n",
       "      <td>2</td>\n",
       "      <td>0</td>\n",
       "      <td>1</td>\n",
       "      <td>0</td>\n",
       "      <td>37</td>\n",
       "      <td>8</td>\n",
       "      <td>37</td>\n",
       "      <td>8</td>\n",
       "      <td>Ain</td>\n",
       "      <td>46.1</td>\n",
       "      <td>5.33</td>\n",
       "      <td>7.5</td>\n",
       "    </tr>\n",
       "    <tr>\n",
       "      <th>1</th>\n",
       "      <td>01</td>\n",
       "      <td>2020-03-19</td>\n",
       "      <td>2</td>\n",
       "      <td>0</td>\n",
       "      <td>1</td>\n",
       "      <td>0</td>\n",
       "      <td>82</td>\n",
       "      <td>13</td>\n",
       "      <td>119</td>\n",
       "      <td>21</td>\n",
       "      <td>Ain</td>\n",
       "      <td>46.1</td>\n",
       "      <td>5.33</td>\n",
       "      <td>7.5</td>\n",
       "    </tr>\n",
       "    <tr>\n",
       "      <th>2</th>\n",
       "      <td>01</td>\n",
       "      <td>2020-03-20</td>\n",
       "      <td>2</td>\n",
       "      <td>0</td>\n",
       "      <td>1</td>\n",
       "      <td>0</td>\n",
       "      <td>44</td>\n",
       "      <td>9</td>\n",
       "      <td>163</td>\n",
       "      <td>30</td>\n",
       "      <td>Ain</td>\n",
       "      <td>46.1</td>\n",
       "      <td>5.33</td>\n",
       "      <td>7.5</td>\n",
       "    </tr>\n",
       "    <tr>\n",
       "      <th>3</th>\n",
       "      <td>01</td>\n",
       "      <td>2020-03-21</td>\n",
       "      <td>4</td>\n",
       "      <td>0</td>\n",
       "      <td>1</td>\n",
       "      <td>0</td>\n",
       "      <td>13</td>\n",
       "      <td>1</td>\n",
       "      <td>176</td>\n",
       "      <td>31</td>\n",
       "      <td>Ain</td>\n",
       "      <td>46.1</td>\n",
       "      <td>5.33</td>\n",
       "      <td>7.5</td>\n",
       "    </tr>\n",
       "    <tr>\n",
       "      <th>4</th>\n",
       "      <td>01</td>\n",
       "      <td>2020-03-22</td>\n",
       "      <td>8</td>\n",
       "      <td>1</td>\n",
       "      <td>2</td>\n",
       "      <td>0</td>\n",
       "      <td>4</td>\n",
       "      <td>0</td>\n",
       "      <td>180</td>\n",
       "      <td>31</td>\n",
       "      <td>Ain</td>\n",
       "      <td>46.1</td>\n",
       "      <td>5.33</td>\n",
       "      <td>7.5</td>\n",
       "    </tr>\n",
       "  </tbody>\n",
       "</table>\n",
       "</div>"
      ],
      "text/plain": [
       "  dep        jour  hosp  rea  rad  dc  nb_test  nb_pos  nb_test_cum  \\\n",
       "0  01  2020-03-18     2    0    1   0       37       8           37   \n",
       "1  01  2020-03-19     2    0    1   0       82      13          119   \n",
       "2  01  2020-03-20     2    0    1   0       44       9          163   \n",
       "3  01  2020-03-21     4    0    1   0       13       1          176   \n",
       "4  01  2020-03-22     8    1    2   0        4       0          180   \n",
       "\n",
       "   nb_pos_cum dep_name   lat  long  zoom  \n",
       "0           8      Ain  46.1  5.33   7.5  \n",
       "1          21      Ain  46.1  5.33   7.5  \n",
       "2          30      Ain  46.1  5.33   7.5  \n",
       "3          31      Ain  46.1  5.33   7.5  \n",
       "4          31      Ain  46.1  5.33   7.5  "
      ]
     },
     "execution_count": 1417,
     "metadata": {},
     "output_type": "execute_result"
    }
   ],
   "source": [
    "df_dep.head()"
   ]
  },
  {
   "cell_type": "code",
   "execution_count": 1418,
   "metadata": {},
   "outputs": [
    {
     "data": {
      "text/html": [
       "<div>\n",
       "<style scoped>\n",
       "    .dataframe tbody tr th:only-of-type {\n",
       "        vertical-align: middle;\n",
       "    }\n",
       "\n",
       "    .dataframe tbody tr th {\n",
       "        vertical-align: top;\n",
       "    }\n",
       "\n",
       "    .dataframe thead th {\n",
       "        text-align: right;\n",
       "    }\n",
       "</style>\n",
       "<table border=\"1\" class=\"dataframe\">\n",
       "  <thead>\n",
       "    <tr style=\"text-align: right;\">\n",
       "      <th></th>\n",
       "      <th>dep</th>\n",
       "      <th>jour</th>\n",
       "      <th>hosp</th>\n",
       "      <th>rea</th>\n",
       "      <th>rad</th>\n",
       "      <th>dc</th>\n",
       "      <th>nb_test</th>\n",
       "      <th>nb_pos</th>\n",
       "      <th>nb_test_cum</th>\n",
       "      <th>nb_pos_cum</th>\n",
       "      <th>dep_name</th>\n",
       "      <th>lat</th>\n",
       "      <th>long</th>\n",
       "      <th>zoom</th>\n",
       "      <th>scaled</th>\n",
       "      <th>death_rate</th>\n",
       "    </tr>\n",
       "  </thead>\n",
       "  <tbody>\n",
       "    <tr>\n",
       "      <th>0</th>\n",
       "      <td>01</td>\n",
       "      <td>2020-03-18</td>\n",
       "      <td>2</td>\n",
       "      <td>0</td>\n",
       "      <td>1</td>\n",
       "      <td>0</td>\n",
       "      <td>37</td>\n",
       "      <td>8</td>\n",
       "      <td>37</td>\n",
       "      <td>8</td>\n",
       "      <td>Ain</td>\n",
       "      <td>46.1</td>\n",
       "      <td>5.33</td>\n",
       "      <td>7.5</td>\n",
       "      <td>4.958831</td>\n",
       "      <td>0.0</td>\n",
       "    </tr>\n",
       "    <tr>\n",
       "      <th>1</th>\n",
       "      <td>01</td>\n",
       "      <td>2020-03-19</td>\n",
       "      <td>2</td>\n",
       "      <td>0</td>\n",
       "      <td>1</td>\n",
       "      <td>0</td>\n",
       "      <td>82</td>\n",
       "      <td>13</td>\n",
       "      <td>119</td>\n",
       "      <td>21</td>\n",
       "      <td>Ain</td>\n",
       "      <td>46.1</td>\n",
       "      <td>5.33</td>\n",
       "      <td>7.5</td>\n",
       "      <td>10.425787</td>\n",
       "      <td>0.0</td>\n",
       "    </tr>\n",
       "    <tr>\n",
       "      <th>2</th>\n",
       "      <td>01</td>\n",
       "      <td>2020-03-20</td>\n",
       "      <td>2</td>\n",
       "      <td>0</td>\n",
       "      <td>1</td>\n",
       "      <td>0</td>\n",
       "      <td>44</td>\n",
       "      <td>9</td>\n",
       "      <td>163</td>\n",
       "      <td>30</td>\n",
       "      <td>Ain</td>\n",
       "      <td>46.1</td>\n",
       "      <td>5.33</td>\n",
       "      <td>7.5</td>\n",
       "      <td>13.720924</td>\n",
       "      <td>0.0</td>\n",
       "    </tr>\n",
       "    <tr>\n",
       "      <th>3</th>\n",
       "      <td>01</td>\n",
       "      <td>2020-03-21</td>\n",
       "      <td>4</td>\n",
       "      <td>0</td>\n",
       "      <td>1</td>\n",
       "      <td>0</td>\n",
       "      <td>13</td>\n",
       "      <td>1</td>\n",
       "      <td>176</td>\n",
       "      <td>31</td>\n",
       "      <td>Ain</td>\n",
       "      <td>46.1</td>\n",
       "      <td>5.33</td>\n",
       "      <td>7.5</td>\n",
       "      <td>14.071763</td>\n",
       "      <td>0.0</td>\n",
       "    </tr>\n",
       "    <tr>\n",
       "      <th>4</th>\n",
       "      <td>01</td>\n",
       "      <td>2020-03-22</td>\n",
       "      <td>8</td>\n",
       "      <td>1</td>\n",
       "      <td>2</td>\n",
       "      <td>0</td>\n",
       "      <td>4</td>\n",
       "      <td>0</td>\n",
       "      <td>180</td>\n",
       "      <td>31</td>\n",
       "      <td>Ain</td>\n",
       "      <td>46.1</td>\n",
       "      <td>5.33</td>\n",
       "      <td>7.5</td>\n",
       "      <td>14.071763</td>\n",
       "      <td>0.0</td>\n",
       "    </tr>\n",
       "  </tbody>\n",
       "</table>\n",
       "</div>"
      ],
      "text/plain": [
       "  dep        jour  hosp  rea  rad  dc  nb_test  nb_pos  nb_test_cum  \\\n",
       "0  01  2020-03-18     2    0    1   0       37       8           37   \n",
       "1  01  2020-03-19     2    0    1   0       82      13          119   \n",
       "2  01  2020-03-20     2    0    1   0       44       9          163   \n",
       "3  01  2020-03-21     4    0    1   0       13       1          176   \n",
       "4  01  2020-03-22     8    1    2   0        4       0          180   \n",
       "\n",
       "   nb_pos_cum dep_name   lat  long  zoom     scaled  death_rate  \n",
       "0           8      Ain  46.1  5.33   7.5   4.958831         0.0  \n",
       "1          21      Ain  46.1  5.33   7.5  10.425787         0.0  \n",
       "2          30      Ain  46.1  5.33   7.5  13.720924         0.0  \n",
       "3          31      Ain  46.1  5.33   7.5  14.071763         0.0  \n",
       "4          31      Ain  46.1  5.33   7.5  14.071763         0.0  "
      ]
     },
     "execution_count": 1418,
     "metadata": {},
     "output_type": "execute_result"
    }
   ],
   "source": [
    "df_dep[\"scaled\"] = df_dep[\"nb_pos_cum\"] ** 0.77\n",
    "df_dep['death_rate']=round(df_dep['dc']/df_dep['nb_pos_cum']*100,2)\n",
    "df_dep.head()"
   ]
  },
  {
   "cell_type": "code",
   "execution_count": 1419,
   "metadata": {},
   "outputs": [
    {
     "data": {
      "text/html": [
       "<div>\n",
       "<style scoped>\n",
       "    .dataframe tbody tr th:only-of-type {\n",
       "        vertical-align: middle;\n",
       "    }\n",
       "\n",
       "    .dataframe tbody tr th {\n",
       "        vertical-align: top;\n",
       "    }\n",
       "\n",
       "    .dataframe thead th {\n",
       "        text-align: right;\n",
       "    }\n",
       "</style>\n",
       "<table border=\"1\" class=\"dataframe\">\n",
       "  <thead>\n",
       "    <tr style=\"text-align: right;\">\n",
       "      <th></th>\n",
       "      <th>dep</th>\n",
       "      <th>jour</th>\n",
       "      <th>hosp</th>\n",
       "      <th>rea</th>\n",
       "      <th>rad</th>\n",
       "      <th>dc</th>\n",
       "      <th>nb_test</th>\n",
       "      <th>nb_pos</th>\n",
       "      <th>nb_test_cum</th>\n",
       "      <th>nb_pos_cum</th>\n",
       "      <th>dep_name</th>\n",
       "      <th>lat</th>\n",
       "      <th>long</th>\n",
       "      <th>zoom</th>\n",
       "      <th>scaled</th>\n",
       "      <th>death_rate</th>\n",
       "      <th>new_death_rate</th>\n",
       "      <th>new_dc</th>\n",
       "    </tr>\n",
       "  </thead>\n",
       "  <tbody>\n",
       "    <tr>\n",
       "      <th>0</th>\n",
       "      <td>01</td>\n",
       "      <td>2020-03-18</td>\n",
       "      <td>2</td>\n",
       "      <td>0</td>\n",
       "      <td>1</td>\n",
       "      <td>0</td>\n",
       "      <td>37</td>\n",
       "      <td>8</td>\n",
       "      <td>37</td>\n",
       "      <td>8</td>\n",
       "      <td>Ain</td>\n",
       "      <td>46.1</td>\n",
       "      <td>5.33</td>\n",
       "      <td>7.5</td>\n",
       "      <td>4.958831</td>\n",
       "      <td>0.00</td>\n",
       "      <td>0.00</td>\n",
       "      <td>0.0</td>\n",
       "    </tr>\n",
       "    <tr>\n",
       "      <th>1</th>\n",
       "      <td>01</td>\n",
       "      <td>2020-03-19</td>\n",
       "      <td>2</td>\n",
       "      <td>0</td>\n",
       "      <td>1</td>\n",
       "      <td>0</td>\n",
       "      <td>82</td>\n",
       "      <td>13</td>\n",
       "      <td>119</td>\n",
       "      <td>21</td>\n",
       "      <td>Ain</td>\n",
       "      <td>46.1</td>\n",
       "      <td>5.33</td>\n",
       "      <td>7.5</td>\n",
       "      <td>10.425787</td>\n",
       "      <td>0.00</td>\n",
       "      <td>0.00</td>\n",
       "      <td>0.0</td>\n",
       "    </tr>\n",
       "    <tr>\n",
       "      <th>2</th>\n",
       "      <td>01</td>\n",
       "      <td>2020-03-20</td>\n",
       "      <td>2</td>\n",
       "      <td>0</td>\n",
       "      <td>1</td>\n",
       "      <td>0</td>\n",
       "      <td>44</td>\n",
       "      <td>9</td>\n",
       "      <td>163</td>\n",
       "      <td>30</td>\n",
       "      <td>Ain</td>\n",
       "      <td>46.1</td>\n",
       "      <td>5.33</td>\n",
       "      <td>7.5</td>\n",
       "      <td>13.720924</td>\n",
       "      <td>0.00</td>\n",
       "      <td>0.00</td>\n",
       "      <td>0.0</td>\n",
       "    </tr>\n",
       "    <tr>\n",
       "      <th>3</th>\n",
       "      <td>01</td>\n",
       "      <td>2020-03-21</td>\n",
       "      <td>4</td>\n",
       "      <td>0</td>\n",
       "      <td>1</td>\n",
       "      <td>0</td>\n",
       "      <td>13</td>\n",
       "      <td>1</td>\n",
       "      <td>176</td>\n",
       "      <td>31</td>\n",
       "      <td>Ain</td>\n",
       "      <td>46.1</td>\n",
       "      <td>5.33</td>\n",
       "      <td>7.5</td>\n",
       "      <td>14.071763</td>\n",
       "      <td>0.00</td>\n",
       "      <td>0.00</td>\n",
       "      <td>0.0</td>\n",
       "    </tr>\n",
       "    <tr>\n",
       "      <th>4</th>\n",
       "      <td>01</td>\n",
       "      <td>2020-03-22</td>\n",
       "      <td>8</td>\n",
       "      <td>1</td>\n",
       "      <td>2</td>\n",
       "      <td>0</td>\n",
       "      <td>4</td>\n",
       "      <td>0</td>\n",
       "      <td>180</td>\n",
       "      <td>31</td>\n",
       "      <td>Ain</td>\n",
       "      <td>46.1</td>\n",
       "      <td>5.33</td>\n",
       "      <td>7.5</td>\n",
       "      <td>14.071763</td>\n",
       "      <td>0.00</td>\n",
       "      <td>0.00</td>\n",
       "      <td>0.0</td>\n",
       "    </tr>\n",
       "    <tr>\n",
       "      <th>5</th>\n",
       "      <td>01</td>\n",
       "      <td>2020-03-23</td>\n",
       "      <td>17</td>\n",
       "      <td>3</td>\n",
       "      <td>7</td>\n",
       "      <td>0</td>\n",
       "      <td>36</td>\n",
       "      <td>9</td>\n",
       "      <td>216</td>\n",
       "      <td>40</td>\n",
       "      <td>Ain</td>\n",
       "      <td>46.1</td>\n",
       "      <td>5.33</td>\n",
       "      <td>7.5</td>\n",
       "      <td>17.123250</td>\n",
       "      <td>0.00</td>\n",
       "      <td>0.00</td>\n",
       "      <td>0.0</td>\n",
       "    </tr>\n",
       "    <tr>\n",
       "      <th>6</th>\n",
       "      <td>01</td>\n",
       "      <td>2020-03-24</td>\n",
       "      <td>22</td>\n",
       "      <td>3</td>\n",
       "      <td>11</td>\n",
       "      <td>0</td>\n",
       "      <td>17</td>\n",
       "      <td>2</td>\n",
       "      <td>233</td>\n",
       "      <td>42</td>\n",
       "      <td>Ain</td>\n",
       "      <td>46.1</td>\n",
       "      <td>5.33</td>\n",
       "      <td>7.5</td>\n",
       "      <td>17.778780</td>\n",
       "      <td>0.00</td>\n",
       "      <td>0.00</td>\n",
       "      <td>0.0</td>\n",
       "    </tr>\n",
       "    <tr>\n",
       "      <th>7</th>\n",
       "      <td>01</td>\n",
       "      <td>2020-03-25</td>\n",
       "      <td>29</td>\n",
       "      <td>6</td>\n",
       "      <td>15</td>\n",
       "      <td>0</td>\n",
       "      <td>21</td>\n",
       "      <td>3</td>\n",
       "      <td>254</td>\n",
       "      <td>45</td>\n",
       "      <td>Ain</td>\n",
       "      <td>46.1</td>\n",
       "      <td>5.33</td>\n",
       "      <td>7.5</td>\n",
       "      <td>18.748807</td>\n",
       "      <td>0.00</td>\n",
       "      <td>0.00</td>\n",
       "      <td>0.0</td>\n",
       "    </tr>\n",
       "    <tr>\n",
       "      <th>8</th>\n",
       "      <td>01</td>\n",
       "      <td>2020-03-26</td>\n",
       "      <td>33</td>\n",
       "      <td>6</td>\n",
       "      <td>17</td>\n",
       "      <td>2</td>\n",
       "      <td>27</td>\n",
       "      <td>5</td>\n",
       "      <td>281</td>\n",
       "      <td>50</td>\n",
       "      <td>Ain</td>\n",
       "      <td>46.1</td>\n",
       "      <td>5.33</td>\n",
       "      <td>7.5</td>\n",
       "      <td>20.333255</td>\n",
       "      <td>4.00</td>\n",
       "      <td>4.00</td>\n",
       "      <td>2.0</td>\n",
       "    </tr>\n",
       "    <tr>\n",
       "      <th>9</th>\n",
       "      <td>01</td>\n",
       "      <td>2020-03-27</td>\n",
       "      <td>49</td>\n",
       "      <td>9</td>\n",
       "      <td>17</td>\n",
       "      <td>2</td>\n",
       "      <td>30</td>\n",
       "      <td>5</td>\n",
       "      <td>311</td>\n",
       "      <td>55</td>\n",
       "      <td>Ain</td>\n",
       "      <td>46.1</td>\n",
       "      <td>5.33</td>\n",
       "      <td>7.5</td>\n",
       "      <td>21.881610</td>\n",
       "      <td>3.64</td>\n",
       "      <td>-0.36</td>\n",
       "      <td>0.0</td>\n",
       "    </tr>\n",
       "    <tr>\n",
       "      <th>10</th>\n",
       "      <td>01</td>\n",
       "      <td>2020-03-28</td>\n",
       "      <td>53</td>\n",
       "      <td>12</td>\n",
       "      <td>20</td>\n",
       "      <td>3</td>\n",
       "      <td>13</td>\n",
       "      <td>2</td>\n",
       "      <td>324</td>\n",
       "      <td>57</td>\n",
       "      <td>Ain</td>\n",
       "      <td>46.1</td>\n",
       "      <td>5.33</td>\n",
       "      <td>7.5</td>\n",
       "      <td>22.491770</td>\n",
       "      <td>5.26</td>\n",
       "      <td>1.62</td>\n",
       "      <td>1.0</td>\n",
       "    </tr>\n",
       "    <tr>\n",
       "      <th>11</th>\n",
       "      <td>01</td>\n",
       "      <td>2020-03-29</td>\n",
       "      <td>55</td>\n",
       "      <td>13</td>\n",
       "      <td>23</td>\n",
       "      <td>6</td>\n",
       "      <td>0</td>\n",
       "      <td>0</td>\n",
       "      <td>324</td>\n",
       "      <td>57</td>\n",
       "      <td>Ain</td>\n",
       "      <td>46.1</td>\n",
       "      <td>5.33</td>\n",
       "      <td>7.5</td>\n",
       "      <td>22.491770</td>\n",
       "      <td>10.53</td>\n",
       "      <td>5.27</td>\n",
       "      <td>3.0</td>\n",
       "    </tr>\n",
       "    <tr>\n",
       "      <th>12</th>\n",
       "      <td>01</td>\n",
       "      <td>2020-03-30</td>\n",
       "      <td>67</td>\n",
       "      <td>19</td>\n",
       "      <td>24</td>\n",
       "      <td>10</td>\n",
       "      <td>53</td>\n",
       "      <td>9</td>\n",
       "      <td>377</td>\n",
       "      <td>66</td>\n",
       "      <td>Ain</td>\n",
       "      <td>46.1</td>\n",
       "      <td>5.33</td>\n",
       "      <td>7.5</td>\n",
       "      <td>25.179600</td>\n",
       "      <td>15.15</td>\n",
       "      <td>4.62</td>\n",
       "      <td>4.0</td>\n",
       "    </tr>\n",
       "    <tr>\n",
       "      <th>13</th>\n",
       "      <td>01</td>\n",
       "      <td>2020-03-31</td>\n",
       "      <td>72</td>\n",
       "      <td>16</td>\n",
       "      <td>33</td>\n",
       "      <td>10</td>\n",
       "      <td>57</td>\n",
       "      <td>10</td>\n",
       "      <td>434</td>\n",
       "      <td>76</td>\n",
       "      <td>Ain</td>\n",
       "      <td>46.1</td>\n",
       "      <td>5.33</td>\n",
       "      <td>7.5</td>\n",
       "      <td>28.068969</td>\n",
       "      <td>13.16</td>\n",
       "      <td>-1.99</td>\n",
       "      <td>0.0</td>\n",
       "    </tr>\n",
       "    <tr>\n",
       "      <th>14</th>\n",
       "      <td>01</td>\n",
       "      <td>2020-04-01</td>\n",
       "      <td>92</td>\n",
       "      <td>28</td>\n",
       "      <td>43</td>\n",
       "      <td>12</td>\n",
       "      <td>29</td>\n",
       "      <td>4</td>\n",
       "      <td>463</td>\n",
       "      <td>80</td>\n",
       "      <td>Ain</td>\n",
       "      <td>46.1</td>\n",
       "      <td>5.33</td>\n",
       "      <td>7.5</td>\n",
       "      <td>29.199761</td>\n",
       "      <td>15.00</td>\n",
       "      <td>1.84</td>\n",
       "      <td>2.0</td>\n",
       "    </tr>\n",
       "  </tbody>\n",
       "</table>\n",
       "</div>"
      ],
      "text/plain": [
       "   dep        jour  hosp  rea  rad  dc  nb_test  nb_pos  nb_test_cum  \\\n",
       "0   01  2020-03-18     2    0    1   0       37       8           37   \n",
       "1   01  2020-03-19     2    0    1   0       82      13          119   \n",
       "2   01  2020-03-20     2    0    1   0       44       9          163   \n",
       "3   01  2020-03-21     4    0    1   0       13       1          176   \n",
       "4   01  2020-03-22     8    1    2   0        4       0          180   \n",
       "5   01  2020-03-23    17    3    7   0       36       9          216   \n",
       "6   01  2020-03-24    22    3   11   0       17       2          233   \n",
       "7   01  2020-03-25    29    6   15   0       21       3          254   \n",
       "8   01  2020-03-26    33    6   17   2       27       5          281   \n",
       "9   01  2020-03-27    49    9   17   2       30       5          311   \n",
       "10  01  2020-03-28    53   12   20   3       13       2          324   \n",
       "11  01  2020-03-29    55   13   23   6        0       0          324   \n",
       "12  01  2020-03-30    67   19   24  10       53       9          377   \n",
       "13  01  2020-03-31    72   16   33  10       57      10          434   \n",
       "14  01  2020-04-01    92   28   43  12       29       4          463   \n",
       "\n",
       "    nb_pos_cum dep_name   lat  long  zoom     scaled  death_rate  \\\n",
       "0            8      Ain  46.1  5.33   7.5   4.958831        0.00   \n",
       "1           21      Ain  46.1  5.33   7.5  10.425787        0.00   \n",
       "2           30      Ain  46.1  5.33   7.5  13.720924        0.00   \n",
       "3           31      Ain  46.1  5.33   7.5  14.071763        0.00   \n",
       "4           31      Ain  46.1  5.33   7.5  14.071763        0.00   \n",
       "5           40      Ain  46.1  5.33   7.5  17.123250        0.00   \n",
       "6           42      Ain  46.1  5.33   7.5  17.778780        0.00   \n",
       "7           45      Ain  46.1  5.33   7.5  18.748807        0.00   \n",
       "8           50      Ain  46.1  5.33   7.5  20.333255        4.00   \n",
       "9           55      Ain  46.1  5.33   7.5  21.881610        3.64   \n",
       "10          57      Ain  46.1  5.33   7.5  22.491770        5.26   \n",
       "11          57      Ain  46.1  5.33   7.5  22.491770       10.53   \n",
       "12          66      Ain  46.1  5.33   7.5  25.179600       15.15   \n",
       "13          76      Ain  46.1  5.33   7.5  28.068969       13.16   \n",
       "14          80      Ain  46.1  5.33   7.5  29.199761       15.00   \n",
       "\n",
       "    new_death_rate  new_dc  \n",
       "0             0.00     0.0  \n",
       "1             0.00     0.0  \n",
       "2             0.00     0.0  \n",
       "3             0.00     0.0  \n",
       "4             0.00     0.0  \n",
       "5             0.00     0.0  \n",
       "6             0.00     0.0  \n",
       "7             0.00     0.0  \n",
       "8             4.00     2.0  \n",
       "9            -0.36     0.0  \n",
       "10            1.62     1.0  \n",
       "11            5.27     3.0  \n",
       "12            4.62     4.0  \n",
       "13           -1.99     0.0  \n",
       "14            1.84     2.0  "
      ]
     },
     "execution_count": 1419,
     "metadata": {},
     "output_type": "execute_result"
    }
   ],
   "source": [
    "df_dep[\"new_death_rate\"]=df_dep.groupby(\"dep\")[\"death_rate\"].apply(lambda row: row-(row.shift(1)))\n",
    "df_dep[\"new_death_rate\"].fillna(df_dep[\"death_rate\"], inplace = True) # first date, new_death_rate = death rate\n",
    "df_dep[\"new_dc\"]=df_dep.groupby(\"dep\")[\"dc\"].apply(lambda row: row-(row.shift(1)))\n",
    "df_dep[\"new_dc\"].fillna(df_dep[\"dc\"], inplace = True) # first date, new_dc = dc\n",
    "\n",
    "df_dep.head(15)"
   ]
  },
  {
   "cell_type": "code",
   "execution_count": 1420,
   "metadata": {},
   "outputs": [
    {
     "data": {
      "text/html": [
       "<div>\n",
       "<style scoped>\n",
       "    .dataframe tbody tr th:only-of-type {\n",
       "        vertical-align: middle;\n",
       "    }\n",
       "\n",
       "    .dataframe tbody tr th {\n",
       "        vertical-align: top;\n",
       "    }\n",
       "\n",
       "    .dataframe thead th {\n",
       "        text-align: right;\n",
       "    }\n",
       "</style>\n",
       "<table border=\"1\" class=\"dataframe\">\n",
       "  <thead>\n",
       "    <tr style=\"text-align: right;\">\n",
       "      <th></th>\n",
       "      <th>dep</th>\n",
       "      <th>jour</th>\n",
       "      <th>hosp</th>\n",
       "      <th>rea</th>\n",
       "      <th>rad</th>\n",
       "      <th>dc</th>\n",
       "      <th>nb_test</th>\n",
       "      <th>nb_pos</th>\n",
       "      <th>nb_test_cum</th>\n",
       "      <th>nb_pos_cum</th>\n",
       "      <th>dep_name</th>\n",
       "      <th>lat</th>\n",
       "      <th>long</th>\n",
       "      <th>zoom</th>\n",
       "      <th>scaled</th>\n",
       "      <th>death_rate</th>\n",
       "      <th>new_death_rate</th>\n",
       "      <th>new_dc</th>\n",
       "    </tr>\n",
       "  </thead>\n",
       "  <tbody>\n",
       "    <tr>\n",
       "      <th>0</th>\n",
       "      <td>01</td>\n",
       "      <td>2020-11-04</td>\n",
       "      <td>359</td>\n",
       "      <td>36</td>\n",
       "      <td>706</td>\n",
       "      <td>161</td>\n",
       "      <td>2939</td>\n",
       "      <td>821</td>\n",
       "      <td>159515</td>\n",
       "      <td>22186</td>\n",
       "      <td>Ain</td>\n",
       "      <td>46.10</td>\n",
       "      <td>5.33</td>\n",
       "      <td>7.5</td>\n",
       "      <td>2220.653694</td>\n",
       "      <td>0.73</td>\n",
       "      <td>0.00</td>\n",
       "      <td>6.0</td>\n",
       "    </tr>\n",
       "    <tr>\n",
       "      <th>1</th>\n",
       "      <td>02</td>\n",
       "      <td>2020-11-04</td>\n",
       "      <td>189</td>\n",
       "      <td>29</td>\n",
       "      <td>1345</td>\n",
       "      <td>327</td>\n",
       "      <td>1747</td>\n",
       "      <td>291</td>\n",
       "      <td>94740</td>\n",
       "      <td>7715</td>\n",
       "      <td>Aisne</td>\n",
       "      <td>49.55</td>\n",
       "      <td>3.56</td>\n",
       "      <td>7.5</td>\n",
       "      <td>984.574688</td>\n",
       "      <td>4.24</td>\n",
       "      <td>-0.10</td>\n",
       "      <td>5.0</td>\n",
       "    </tr>\n",
       "    <tr>\n",
       "      <th>2</th>\n",
       "      <td>03</td>\n",
       "      <td>2020-11-04</td>\n",
       "      <td>240</td>\n",
       "      <td>21</td>\n",
       "      <td>386</td>\n",
       "      <td>90</td>\n",
       "      <td>1549</td>\n",
       "      <td>309</td>\n",
       "      <td>72004</td>\n",
       "      <td>5554</td>\n",
       "      <td>Allier</td>\n",
       "      <td>44.10</td>\n",
       "      <td>2.35</td>\n",
       "      <td>7.5</td>\n",
       "      <td>764.445492</td>\n",
       "      <td>1.62</td>\n",
       "      <td>0.02</td>\n",
       "      <td>6.0</td>\n",
       "    </tr>\n",
       "    <tr>\n",
       "      <th>3</th>\n",
       "      <td>04</td>\n",
       "      <td>2020-11-04</td>\n",
       "      <td>89</td>\n",
       "      <td>9</td>\n",
       "      <td>213</td>\n",
       "      <td>25</td>\n",
       "      <td>426</td>\n",
       "      <td>118</td>\n",
       "      <td>39010</td>\n",
       "      <td>2706</td>\n",
       "      <td>Alpes-de-Haute-Provence</td>\n",
       "      <td>44.09</td>\n",
       "      <td>6.23</td>\n",
       "      <td>7.5</td>\n",
       "      <td>439.432729</td>\n",
       "      <td>0.92</td>\n",
       "      <td>-0.05</td>\n",
       "      <td>0.0</td>\n",
       "    </tr>\n",
       "    <tr>\n",
       "      <th>4</th>\n",
       "      <td>05</td>\n",
       "      <td>2020-11-04</td>\n",
       "      <td>145</td>\n",
       "      <td>21</td>\n",
       "      <td>233</td>\n",
       "      <td>41</td>\n",
       "      <td>415</td>\n",
       "      <td>127</td>\n",
       "      <td>27612</td>\n",
       "      <td>3445</td>\n",
       "      <td>Hautes-Alpes</td>\n",
       "      <td>44.66</td>\n",
       "      <td>6.21</td>\n",
       "      <td>7.5</td>\n",
       "      <td>529.219337</td>\n",
       "      <td>1.19</td>\n",
       "      <td>-0.05</td>\n",
       "      <td>0.0</td>\n",
       "    </tr>\n",
       "  </tbody>\n",
       "</table>\n",
       "</div>"
      ],
      "text/plain": [
       "  dep        jour  hosp  rea   rad   dc  nb_test  nb_pos  nb_test_cum  \\\n",
       "0  01  2020-11-04   359   36   706  161     2939     821       159515   \n",
       "1  02  2020-11-04   189   29  1345  327     1747     291        94740   \n",
       "2  03  2020-11-04   240   21   386   90     1549     309        72004   \n",
       "3  04  2020-11-04    89    9   213   25      426     118        39010   \n",
       "4  05  2020-11-04   145   21   233   41      415     127        27612   \n",
       "\n",
       "   nb_pos_cum                 dep_name    lat  long  zoom       scaled  \\\n",
       "0       22186                      Ain  46.10  5.33   7.5  2220.653694   \n",
       "1        7715                    Aisne  49.55  3.56   7.5   984.574688   \n",
       "2        5554                   Allier  44.10  2.35   7.5   764.445492   \n",
       "3        2706  Alpes-de-Haute-Provence  44.09  6.23   7.5   439.432729   \n",
       "4        3445             Hautes-Alpes  44.66  6.21   7.5   529.219337   \n",
       "\n",
       "   death_rate  new_death_rate  new_dc  \n",
       "0        0.73            0.00     6.0  \n",
       "1        4.24           -0.10     5.0  \n",
       "2        1.62            0.02     6.0  \n",
       "3        0.92           -0.05     0.0  \n",
       "4        1.19           -0.05     0.0  "
      ]
     },
     "execution_count": 1420,
     "metadata": {},
     "output_type": "execute_result"
    }
   ],
   "source": [
    "df_last_update=df_dep.groupby(\"dep\").tail(1).reset_index(drop=True)\n",
    "df_last_update.head()"
   ]
  },
  {
   "cell_type": "code",
   "execution_count": 1421,
   "metadata": {},
   "outputs": [
    {
     "data": {
      "text/plain": [
       "dep                       75\n",
       "jour              2020-11-04\n",
       "hosp                    1348\n",
       "rea                      277\n",
       "rad                     8550\n",
       "dc                      2146\n",
       "nb_test                 6602\n",
       "nb_pos                  1106\n",
       "nb_test_cum           838219\n",
       "nb_pos_cum             89965\n",
       "dep_name               Paris\n",
       "lat                    48.85\n",
       "long                    2.35\n",
       "zoom                     7.5\n",
       "scaled               6525.84\n",
       "death_rate              2.39\n",
       "new_death_rate         -0.01\n",
       "new_dc                    15\n",
       "Name: 75, dtype: object"
      ]
     },
     "execution_count": 1421,
     "metadata": {},
     "output_type": "execute_result"
    }
   ],
   "source": [
    "df_last_update.iloc[75]"
   ]
  },
  {
   "cell_type": "markdown",
   "metadata": {},
   "source": [
    "## **France dataset**"
   ]
  },
  {
   "cell_type": "code",
   "execution_count": 1422,
   "metadata": {},
   "outputs": [],
   "source": [
    "df_france=df_dep.groupby(\"jour\").sum().reset_index()\n",
    "df_france['death_rate']=round(df_france['dc']/df_france['nb_pos_cum']*100,2)\n",
    "df_france['new_death_rate']=df_france.death_rate-df_france.death_rate.shift(1)\n",
    "df_france[\"new_death_rate\"].fillna(df_france[\"death_rate\"], inplace = True) # first date, new_death_rate = death rate\n",
    "df_france[\"lat\"]=46.40\n",
    "df_france[\"long\"]=0.5\n",
    "df_france[\"zoom\"]=3.5"
   ]
  },
  {
   "cell_type": "code",
   "execution_count": 1423,
   "metadata": {},
   "outputs": [
    {
     "data": {
      "text/html": [
       "<div>\n",
       "<style scoped>\n",
       "    .dataframe tbody tr th:only-of-type {\n",
       "        vertical-align: middle;\n",
       "    }\n",
       "\n",
       "    .dataframe tbody tr th {\n",
       "        vertical-align: top;\n",
       "    }\n",
       "\n",
       "    .dataframe thead th {\n",
       "        text-align: right;\n",
       "    }\n",
       "</style>\n",
       "<table border=\"1\" class=\"dataframe\">\n",
       "  <thead>\n",
       "    <tr style=\"text-align: right;\">\n",
       "      <th></th>\n",
       "      <th>jour</th>\n",
       "      <th>hosp</th>\n",
       "      <th>rea</th>\n",
       "      <th>rad</th>\n",
       "      <th>dc</th>\n",
       "      <th>nb_test</th>\n",
       "      <th>nb_pos</th>\n",
       "      <th>nb_test_cum</th>\n",
       "      <th>nb_pos_cum</th>\n",
       "      <th>lat</th>\n",
       "      <th>long</th>\n",
       "      <th>zoom</th>\n",
       "      <th>scaled</th>\n",
       "      <th>death_rate</th>\n",
       "      <th>new_death_rate</th>\n",
       "      <th>new_dc</th>\n",
       "    </tr>\n",
       "  </thead>\n",
       "  <tbody>\n",
       "    <tr>\n",
       "      <th>227</th>\n",
       "      <td>2020-10-31</td>\n",
       "      <td>23013</td>\n",
       "      <td>3443</td>\n",
       "      <td>117563</td>\n",
       "      <td>25113</td>\n",
       "      <td>128916</td>\n",
       "      <td>25906</td>\n",
       "      <td>16573582</td>\n",
       "      <td>1414871</td>\n",
       "      <td>46.4</td>\n",
       "      <td>0.5</td>\n",
       "      <td>3.5</td>\n",
       "      <td>142433.208313</td>\n",
       "      <td>1.77</td>\n",
       "      <td>-0.02</td>\n",
       "      <td>223.0</td>\n",
       "    </tr>\n",
       "    <tr>\n",
       "      <th>228</th>\n",
       "      <td>2020-11-01</td>\n",
       "      <td>24008</td>\n",
       "      <td>3569</td>\n",
       "      <td>118196</td>\n",
       "      <td>25344</td>\n",
       "      <td>31895</td>\n",
       "      <td>6724</td>\n",
       "      <td>16605477</td>\n",
       "      <td>1421595</td>\n",
       "      <td>46.4</td>\n",
       "      <td>0.5</td>\n",
       "      <td>3.5</td>\n",
       "      <td>142953.962575</td>\n",
       "      <td>1.78</td>\n",
       "      <td>0.01</td>\n",
       "      <td>231.0</td>\n",
       "    </tr>\n",
       "    <tr>\n",
       "      <th>229</th>\n",
       "      <td>2020-11-02</td>\n",
       "      <td>25120</td>\n",
       "      <td>3721</td>\n",
       "      <td>119073</td>\n",
       "      <td>25760</td>\n",
       "      <td>311823</td>\n",
       "      <td>68773</td>\n",
       "      <td>16917300</td>\n",
       "      <td>1490368</td>\n",
       "      <td>46.4</td>\n",
       "      <td>0.5</td>\n",
       "      <td>3.5</td>\n",
       "      <td>148494.840748</td>\n",
       "      <td>1.73</td>\n",
       "      <td>-0.05</td>\n",
       "      <td>416.0</td>\n",
       "    </tr>\n",
       "    <tr>\n",
       "      <th>230</th>\n",
       "      <td>2020-11-03</td>\n",
       "      <td>26242</td>\n",
       "      <td>3869</td>\n",
       "      <td>120683</td>\n",
       "      <td>26186</td>\n",
       "      <td>267421</td>\n",
       "      <td>56888</td>\n",
       "      <td>17184721</td>\n",
       "      <td>1547256</td>\n",
       "      <td>46.4</td>\n",
       "      <td>0.5</td>\n",
       "      <td>3.5</td>\n",
       "      <td>153033.059026</td>\n",
       "      <td>1.69</td>\n",
       "      <td>-0.04</td>\n",
       "      <td>426.0</td>\n",
       "    </tr>\n",
       "    <tr>\n",
       "      <th>231</th>\n",
       "      <td>2020-11-04</td>\n",
       "      <td>27511</td>\n",
       "      <td>4080</td>\n",
       "      <td>122631</td>\n",
       "      <td>26571</td>\n",
       "      <td>228097</td>\n",
       "      <td>44640</td>\n",
       "      <td>17412818</td>\n",
       "      <td>1591896</td>\n",
       "      <td>46.4</td>\n",
       "      <td>0.5</td>\n",
       "      <td>3.5</td>\n",
       "      <td>156552.806169</td>\n",
       "      <td>1.67</td>\n",
       "      <td>-0.02</td>\n",
       "      <td>385.0</td>\n",
       "    </tr>\n",
       "  </tbody>\n",
       "</table>\n",
       "</div>"
      ],
      "text/plain": [
       "           jour   hosp   rea     rad     dc  nb_test  nb_pos  nb_test_cum  \\\n",
       "227  2020-10-31  23013  3443  117563  25113   128916   25906     16573582   \n",
       "228  2020-11-01  24008  3569  118196  25344    31895    6724     16605477   \n",
       "229  2020-11-02  25120  3721  119073  25760   311823   68773     16917300   \n",
       "230  2020-11-03  26242  3869  120683  26186   267421   56888     17184721   \n",
       "231  2020-11-04  27511  4080  122631  26571   228097   44640     17412818   \n",
       "\n",
       "     nb_pos_cum   lat  long  zoom         scaled  death_rate  new_death_rate  \\\n",
       "227     1414871  46.4   0.5   3.5  142433.208313        1.77           -0.02   \n",
       "228     1421595  46.4   0.5   3.5  142953.962575        1.78            0.01   \n",
       "229     1490368  46.4   0.5   3.5  148494.840748        1.73           -0.05   \n",
       "230     1547256  46.4   0.5   3.5  153033.059026        1.69           -0.04   \n",
       "231     1591896  46.4   0.5   3.5  156552.806169        1.67           -0.02   \n",
       "\n",
       "     new_dc  \n",
       "227   223.0  \n",
       "228   231.0  \n",
       "229   416.0  \n",
       "230   426.0  \n",
       "231   385.0  "
      ]
     },
     "execution_count": 1423,
     "metadata": {},
     "output_type": "execute_result"
    }
   ],
   "source": [
    "df_france.tail()"
   ]
  },
  {
   "cell_type": "markdown",
   "metadata": {},
   "source": [
    "#### **Plot Figures**"
   ]
  },
  {
   "cell_type": "markdown",
   "metadata": {},
   "source": [
    "### **Map**"
   ]
  },
  {
   "cell_type": "code",
   "execution_count": 1424,
   "metadata": {},
   "outputs": [],
   "source": [
    "color_scale = [\"#fadc8f\",\n",
    "        \"#f9d67a\",\n",
    "        \"#f8d066\",\n",
    "        \"#f8c952\",\n",
    "        \"#f7c33d\",\n",
    "        \"#f6bd29\",\n",
    "        \"#f5b614\",\n",
    "        \"#F4B000\",\n",
    "        \"#eaa900\",\n",
    "        \"#e0a200\",\n",
    "        \"#dc9e00\",]\n",
    "\n"
   ]
  },
  {
   "cell_type": "code",
   "execution_count": 1425,
   "metadata": {},
   "outputs": [],
   "source": [
    "px.set_mapbox_access_token(MAPBOX_ACCESS_TOKEN)"
   ]
  },
  {
   "cell_type": "code",
   "execution_count": 1426,
   "metadata": {},
   "outputs": [],
   "source": [
    "def plot_map(lat=46.4,lon=0.5,zoom=3.5):    \n",
    "    fig = px.scatter_mapbox(\n",
    "        df_last_update,\n",
    "        lat = \"lat\",\n",
    "        lon = \"long\",\n",
    "        color = \"nb_pos_cum\",\n",
    "        size=\"scaled\",\n",
    "        size_max = 35,\n",
    "        hover_name = \"dep_name\",\n",
    "        hover_data = [\"nb_pos_cum\",\"dc\",\"death_rate\",\"dep_name\"],\n",
    "        color_continuous_scale = color_scale,\n",
    "    )\n",
    "\n",
    "    fig.layout.update(\n",
    "            mapbox_style=\"dark\",\n",
    "            mapbox=dict(center=dict(lat=lat, lon=lon), zoom=zoom),\n",
    "        )\n",
    "    fig.data[0].update(\n",
    "            hovertemplate=(\"%{customdata[3]}<br>Confirmed:\"\n",
    "                          \" %{customdata[0]}<br>Deaths: %{customdata[1]}<br>Death Rate: %{customdata[2]}\")\n",
    "        )\n",
    "\n",
    "    fig.show()"
   ]
  },
  {
   "cell_type": "code",
   "execution_count": 1427,
   "metadata": {},
   "outputs": [
    {
     "data": {
      "application/vnd.plotly.v1+json": {
       "config": {
        "plotlyServerURL": "https://plot.ly"
       },
       "data": [
        {
         "customdata": [
          [
           22186,
           161,
           0.73,
           "Ain"
          ],
          [
           7715,
           327,
           4.24,
           "Aisne"
          ],
          [
           5554,
           90,
           1.62,
           "Allier"
          ],
          [
           2706,
           25,
           0.92,
           "Alpes-de-Haute-Provence"
          ],
          [
           3445,
           41,
           1.19,
           "Hautes-Alpes"
          ],
          [
           22522,
           278,
           1.23,
           "Alpes_Maritimes"
          ],
          [
           8349,
           162,
           1.94,
           "Ardeche"
          ],
          [
           4663,
           74,
           1.59,
           "Ardennes"
          ],
          [
           2719,
           9,
           0.33,
           "Ariege"
          ],
          [
           5614,
           154,
           2.74,
           "Aube"
          ],
          [
           5392,
           80,
           1.48,
           "Aude"
          ],
          [
           5703,
           53,
           0.93,
           "Aveyron"
          ],
          [
           78187,
           1033,
           1.32,
           "Bouches-du-Rhône"
          ],
          [
           11140,
           125,
           1.12,
           "Calvados"
          ],
          [
           1783,
           25,
           1.4,
           "Cantal"
          ],
          [
           2926,
           20,
           0.68,
           "Charente"
          ],
          [
           3848,
           69,
           1.79,
           "Charente-Maritime"
          ],
          [
           4738,
           129,
           2.72,
           "Cher"
          ],
          [
           2478,
           57,
           2.3,
           "Correze"
          ],
          [
           11891,
           294,
           2.47,
           "Côte-d'Or"
          ],
          [
           5006,
           53,
           1.06,
           "Côtes-D'Armor"
          ],
          [
           1562,
           21,
           1.34,
           "Creuse"
          ],
          [
           4523,
           21,
           0.46,
           "Dordogne"
          ],
          [
           11419,
           158,
           1.38,
           "Doubs"
          ],
          [
           12938,
           194,
           1.5,
           "Drome"
          ],
          [
           9635,
           128,
           1.33,
           "Eure"
          ],
          [
           6380,
           168,
           2.63,
           "Eure-et-Loire"
          ],
          [
           7321,
           60,
           0.82,
           "Finistère"
          ],
          [
           2829,
           59,
           2.09,
           "Corde-du-Sud"
          ],
          [
           2687,
           26,
           0.97,
           "Haute-Corse"
          ],
          [
           18988,
           170,
           0.9,
           "Gard"
          ],
          [
           36939,
           170,
           0.46,
           "Haute-Garonne"
          ],
          [
           2777,
           39,
           1.4,
           "Gers"
          ],
          [
           28069,
           272,
           0.97,
           "Gironde"
          ],
          [
           29019,
           269,
           0.93,
           "Hérault"
          ],
          [
           18165,
           137,
           0.75,
           "Ille-et-Vilaine"
          ],
          [
           2493,
           84,
           3.37,
           "Indre"
          ],
          [
           10610,
           122,
           1.15,
           "Indre-et-Loire"
          ],
          [
           46437,
           355,
           0.76,
           "Isère"
          ],
          [
           6008,
           84,
           1.4,
           "Jura"
          ],
          [
           5810,
           28,
           0.48,
           "Landes"
          ],
          [
           3826,
           86,
           2.25,
           "Loir-et-Cher"
          ],
          [
           36824,
           453,
           1.23,
           "Loire"
          ],
          [
           8510,
           41,
           0.48,
           "Haute-Loire"
          ],
          [
           22730,
           233,
           1.03,
           "Loire-Atlantique"
          ],
          [
           14642,
           131,
           0.89,
           "Loiret"
          ],
          [
           1527,
           24,
           1.57,
           "Lot"
          ],
          [
           4262,
           25,
           0.59,
           "Lot-et-Garonne"
          ],
          [
           1598,
           21,
           1.31,
           "Lozère"
          ],
          [
           14761,
           206,
           1.4,
           "Manne-et-Loire"
          ],
          [
           4321,
           72,
           1.67,
           "Manche"
          ],
          [
           9752,
           309,
           3.17,
           "Marne"
          ],
          [
           2653,
           102,
           3.84,
           "Haute-Marne"
          ],
          [
           5222,
           63,
           1.21,
           "Mayenne"
          ],
          [
           12845,
           403,
           3.14,
           "Meurthe-et-Moselle"
          ],
          [
           2227,
           117,
           5.25,
           "Meuse"
          ],
          [
           6293,
           126,
           2,
           "Morbihan"
          ],
          [
           16668,
           924,
           5.54,
           "Moselle"
          ],
          [
           2614,
           34,
           1.3,
           "Nièvre"
          ],
          [
           102495,
           1058,
           1.03,
           "Nord"
          ],
          [
           17579,
           476,
           2.71,
           "Oise"
          ],
          [
           3237,
           58,
           1.79,
           "Orne"
          ],
          [
           34925,
           444,
           1.27,
           "Pas-de-Calais"
          ],
          [
           14980,
           115,
           0.77,
           "Puy-de-Dôme"
          ],
          [
           14592,
           72,
           0.49,
           "Pyrénées-Altantiques"
          ],
          [
           4348,
           38,
           0.87,
           "Hautes-Pyrénées"
          ],
          [
           8791,
           79,
           0.9,
           "Pyrénées-Orientales"
          ],
          [
           23610,
           751,
           3.18,
           "Bas-Rhin"
          ],
          [
           11466,
           857,
           7.47,
           "Haut-Rhin"
          ],
          [
           83743,
           1042,
           1.24,
           "Rhone"
          ],
          [
           3234,
           94,
           2.91,
           "Haute-Saône"
          ],
          [
           14566,
           300,
           2.06,
           "Saône-et-Loire"
          ],
          [
           8043,
           113,
           1.4,
           "Sarthe"
          ],
          [
           14303,
           162,
           1.13,
           "Savoie"
          ],
          [
           26774,
           241,
           0.9,
           "Haute-Savoie"
          ],
          [
           89965,
           2146,
           2.39,
           "Paris"
          ],
          [
           27146,
           338,
           1.25,
           "Seine-Maritime"
          ],
          [
           32857,
           843,
           2.57,
           "Seine-et-Marne"
          ],
          [
           37371,
           675,
           1.81,
           "Yvellines"
          ],
          [
           4022,
           36,
           0.9,
           "Deux-Sèvres"
          ],
          [
           8117,
           278,
           3.42,
           "Somme"
          ],
          [
           8406,
           53,
           0.63,
           "Tarn"
          ],
          [
           5527,
           34,
           0.62,
           "Tarn-et-Garonne"
          ],
          [
           22758,
           236,
           1.04,
           "Var"
          ],
          [
           14631,
           156,
           1.07,
           "Vaucluse"
          ],
          [
           7177,
           53,
           0.74,
           "Vendée"
          ],
          [
           5727,
           58,
           1.01,
           "Vienne"
          ],
          [
           5844,
           60,
           1.03,
           "Haute-Vienne"
          ],
          [
           5376,
           284,
           5.28,
           "Vosges"
          ],
          [
           5990,
           102,
           1.7,
           "Yonne"
          ],
          [
           2030,
           215,
           10.59,
           "Territoire de Belfort"
          ],
          [
           36337,
           748,
           2.06,
           "Essonne"
          ],
          [
           56421,
           1286,
           2.28,
           "Hauts-de-Seine"
          ],
          [
           54990,
           1224,
           2.23,
           "Seine-Saint_Denis"
          ],
          [
           47194,
           1441,
           3.05,
           "Val-de-Marne"
          ],
          [
           41599,
           901,
           2.17,
           "Val-d'Oise"
          ],
          [
           7880,
           146,
           1.85,
           "Guadeloupe"
          ],
          [
           4525,
           34,
           0.75,
           "Martinique"
          ],
          [
           9774,
           66,
           0.68,
           "Guyane"
          ],
          [
           6191,
           33,
           0.53,
           "La Réunion"
          ],
          [
           2906,
           31,
           1.07,
           "Mayotte"
          ]
         ],
         "hovertemplate": "%{customdata[3]}<br>Confirmed: %{customdata[0]}<br>Deaths: %{customdata[1]}<br>Death Rate: %{customdata[2]}",
         "hovertext": [
          "Ain",
          "Aisne",
          "Allier",
          "Alpes-de-Haute-Provence",
          "Hautes-Alpes",
          "Alpes_Maritimes",
          "Ardeche",
          "Ardennes",
          "Ariege",
          "Aube",
          "Aude",
          "Aveyron",
          "Bouches-du-Rhône",
          "Calvados",
          "Cantal",
          "Charente",
          "Charente-Maritime",
          "Cher",
          "Correze",
          "Côte-d'Or",
          "Côtes-D'Armor",
          "Creuse",
          "Dordogne",
          "Doubs",
          "Drome",
          "Eure",
          "Eure-et-Loire",
          "Finistère",
          "Corde-du-Sud",
          "Haute-Corse",
          "Gard",
          "Haute-Garonne",
          "Gers",
          "Gironde",
          "Hérault",
          "Ille-et-Vilaine",
          "Indre",
          "Indre-et-Loire",
          "Isère",
          "Jura",
          "Landes",
          "Loir-et-Cher",
          "Loire",
          "Haute-Loire",
          "Loire-Atlantique",
          "Loiret",
          "Lot",
          "Lot-et-Garonne",
          "Lozère",
          "Manne-et-Loire",
          "Manche",
          "Marne",
          "Haute-Marne",
          "Mayenne",
          "Meurthe-et-Moselle",
          "Meuse",
          "Morbihan",
          "Moselle",
          "Nièvre",
          "Nord",
          "Oise",
          "Orne",
          "Pas-de-Calais",
          "Puy-de-Dôme",
          "Pyrénées-Altantiques",
          "Hautes-Pyrénées",
          "Pyrénées-Orientales",
          "Bas-Rhin",
          "Haut-Rhin",
          "Rhone",
          "Haute-Saône",
          "Saône-et-Loire",
          "Sarthe",
          "Savoie",
          "Haute-Savoie",
          "Paris",
          "Seine-Maritime",
          "Seine-et-Marne",
          "Yvellines",
          "Deux-Sèvres",
          "Somme",
          "Tarn",
          "Tarn-et-Garonne",
          "Var",
          "Vaucluse",
          "Vendée",
          "Vienne",
          "Haute-Vienne",
          "Vosges",
          "Yonne",
          "Territoire de Belfort",
          "Essonne",
          "Hauts-de-Seine",
          "Seine-Saint_Denis",
          "Val-de-Marne",
          "Val-d'Oise",
          "Guadeloupe",
          "Martinique",
          "Guyane",
          "La Réunion",
          "Mayotte"
         ],
         "lat": [
          46.1,
          49.55,
          44.1,
          44.09,
          44.66,
          43.94,
          44.73,
          49.61,
          42.94,
          48.31,
          43.1,
          44.28,
          43.54,
          49.1,
          45.01,
          45.71,
          45.76,
          47.07,
          45.34,
          47.43,
          48.44,
          46.08,
          45.13,
          47.16,
          44.68,
          49.1,
          48.39,
          48.27,
          41.88,
          42.37,
          43.99,
          43.35,
          43.68,
          44.84,
          43.9,
          48.18,
          46.8,
          47.24,
          45.27,
          46.73,
          43.96,
          47.61,
          45.72,
          45.13,
          47.38,
          47.85,
          44.63,
          44.37,
          44.51,
          47.39,
          49.08,
          48.38,
          48.09,
          48.12,
          48.79,
          49,
          47.85,
          49.02,
          47.1,
          50.45,
          49.39,
          48.61,
          50.49,
          45.73,
          43.28,
          43.05,
          42.61,
          48.65,
          47.86,
          45.86,
          47.63,
          46.64,
          48,
          45.47,
          46.04,
          48.85,
          49.65,
          48.6,
          48.97,
          46.53,
          49.97,
          43.77,
          44.07,
          43.47,
          43.99,
          46.67,
          46.55,
          45.87,
          48.19,
          47.84,
          47.62,
          48.52,
          48.83,
          48.9,
          48.77,
          49.07,
          16,
          14.6,
          4.93,
          -20.88,
          -12.77
         ],
         "legendgroup": "",
         "lon": [
          5.33,
          3.56,
          2.35,
          6.23,
          6.21,
          7.12,
          4.41,
          4.61,
          1.53,
          4.14,
          2.35,
          2.72,
          5.03,
          -0.37,
          2.66,
          0.2,
          -0.71,
          2.52,
          1.81,
          4.78,
          -2.85,
          2.04,
          0.7,
          6.37,
          5.15,
          1,
          1.36,
          -4.04,
          8.97,
          9.23,
          4.17,
          1.23,
          0.45,
          -0.58,
          4.47,
          -1.64,
          1.62,
          0.69,
          5.61,
          5.69,
          -0.8,
          1.41,
          4.16,
          3.81,
          -1.71,
          2.26,
          1.59,
          0.46,
          3.49,
          -0.53,
          -1.34,
          7.47,
          5.15,
          -0.67,
          6.16,
          5.39,
          -2.83,
          6.65,
          3.51,
          3.2,
          2.42,
          0.11,
          2.27,
          3.14,
          -0.75,
          0.16,
          2.51,
          7.56,
          7.27,
          4.66,
          6.07,
          4.53,
          0.19,
          6.45,
          6.44,
          2.35,
          1.04,
          2.97,
          1.97,
          -0.32,
          2.29,
          2.18,
          1.28,
          6.18,
          5.14,
          -1.28,
          0.5,
          1.23,
          6.37,
          3.57,
          6.92,
          2.26,
          2.24,
          2.48,
          2.45,
          2.17,
          -61.73,
          -61.06,
          -52.32,
          55.45,
          45.22
         ],
         "marker": {
          "color": [
           22186,
           7715,
           5554,
           2706,
           3445,
           22522,
           8349,
           4663,
           2719,
           5614,
           5392,
           5703,
           78187,
           11140,
           1783,
           2926,
           3848,
           4738,
           2478,
           11891,
           5006,
           1562,
           4523,
           11419,
           12938,
           9635,
           6380,
           7321,
           2829,
           2687,
           18988,
           36939,
           2777,
           28069,
           29019,
           18165,
           2493,
           10610,
           46437,
           6008,
           5810,
           3826,
           36824,
           8510,
           22730,
           14642,
           1527,
           4262,
           1598,
           14761,
           4321,
           9752,
           2653,
           5222,
           12845,
           2227,
           6293,
           16668,
           2614,
           102495,
           17579,
           3237,
           34925,
           14980,
           14592,
           4348,
           8791,
           23610,
           11466,
           83743,
           3234,
           14566,
           8043,
           14303,
           26774,
           89965,
           27146,
           32857,
           37371,
           4022,
           8117,
           8406,
           5527,
           22758,
           14631,
           7177,
           5727,
           5844,
           5376,
           5990,
           2030,
           36337,
           56421,
           54990,
           47194,
           41599,
           7880,
           4525,
           9774,
           6191,
           2906
          ],
          "coloraxis": "coloraxis",
          "size": [
           2220.6536944679506,
           984.5746878049861,
           764.4454922433424,
           439.4327289489412,
           529.2193367994666,
           2246.504819753323,
           1046.3055645127238,
           668.1475340735931,
           441.05737647395944,
           770.7965362558033,
           747.2181464067074,
           780.1885927152008,
           5857.517615243414,
           1306.4764837602604,
           318.70328082028095,
           466.6929364840283,
           576.2766180425339,
           676.4071558148173,
           410.6369282738098,
           1373.783044468793,
           705.6802303926406,
           287.8288965574726,
           652.6471901279474,
           1331.5994778123625,
           1466.0126002338875,
           1168.3307939083763,
           850.5736462356036,
           945.6255833423367,
           454.73393965229,
           437.0550101983453,
           1969.8311538373564,
           3288.240342904238,
           448.28419504287956,
           2661.550704403213,
           2730.6464949346614,
           1903.755888641416,
           412.5495848770468,
           1258.3482387865981,
           3921.799612921943,
           812.1234323981759,
           791.4356734993451,
           573.7380111172065,
           3280.3549626166546,
           1061.8074331116236,
           2262.4634165707757,
           1612.5467338122085,
           282.84991888688586,
           623.4510388584048,
           292.9234339442298,
           1622.628690860009,
           630.0860798078716,
           1179.239840368317,
           432.7904634236283,
           729.0115145882202,
           1457.891700546037,
           378.22006690298105,
           841.6285385779177,
           1781.7644462659591,
           427.88326306121223,
           7215.0785474047825,
           1856.2886443436107,
           504.44041991395585,
           3149.3072965395377,
           1641.134201305836,
           1608.3050001807333,
           633.1154944229544,
           1088.7031403577994,
           2329.6136914695917,
           1335.8176942296207,
           6175.474837868194,
           504.0804008807332,
           1606.0979779375964,
           1016.6510485324636,
           1583.721806958903,
           2566.4878314463162,
           6525.8435810448445,
           2593.90162043175,
           3004.7164108334273,
           3317.8116957253333,
           596.2390153597393,
           1023.8458408344043,
           1051.8015996100569,
           761.5823801571058,
           2264.6091184893994,
           1611.61383863331,
           931.2709774130193,
           782.7154942731702,
           794.9995074626905,
           745.5102694014485,
           810.2492789853042,
           352.1858874193637,
           3246.8990271975645,
           4556.269454649829,
           4467.025834363096,
           3970.9354455769385,
           3603.2452754610867,
           1000.7490522134406,
           652.8693934382948,
           1181.287742864907,
           831.1048545946315,
           464.2347216666669
          ],
          "sizemode": "area",
          "sizeref": 5.8898600386977815
         },
         "mode": "markers",
         "name": "",
         "showlegend": false,
         "subplot": "mapbox",
         "type": "scattermapbox"
        }
       ],
       "layout": {
        "autosize": true,
        "coloraxis": {
         "colorbar": {
          "title": {
           "text": "nb_pos_cum"
          }
         },
         "colorscale": [
          [
           0,
           "#fadc8f"
          ],
          [
           0.1,
           "#f9d67a"
          ],
          [
           0.2,
           "#f8d066"
          ],
          [
           0.3,
           "#f8c952"
          ],
          [
           0.4,
           "#f7c33d"
          ],
          [
           0.5,
           "#f6bd29"
          ],
          [
           0.6,
           "#f5b614"
          ],
          [
           0.7,
           "#F4B000"
          ],
          [
           0.8,
           "#eaa900"
          ],
          [
           0.9,
           "#e0a200"
          ],
          [
           1,
           "#dc9e00"
          ]
         ]
        },
        "legend": {
         "itemsizing": "constant",
         "tracegroupgap": 0
        },
        "mapbox": {
         "accesstoken": "pk.eyJ1IjoicG1lY2NoaWEiLCJhIjoiY2toNTVlajU4MDBtcTJycXBzNGlsOTByYyJ9.sfNsB0a0UzZxosdqWYhWyQ",
         "center": {
          "lat": 46.4,
          "lon": 0.5
         },
         "domain": {
          "x": [
           0,
           1
          ],
          "y": [
           0,
           1
          ]
         },
         "style": "dark",
         "zoom": 3.5
        },
        "margin": {
         "t": 60
        },
        "template": {
         "data": {
          "bar": [
           {
            "error_x": {
             "color": "#2a3f5f"
            },
            "error_y": {
             "color": "#2a3f5f"
            },
            "marker": {
             "line": {
              "color": "#E5ECF6",
              "width": 0.5
             }
            },
            "type": "bar"
           }
          ],
          "barpolar": [
           {
            "marker": {
             "line": {
              "color": "#E5ECF6",
              "width": 0.5
             }
            },
            "type": "barpolar"
           }
          ],
          "carpet": [
           {
            "aaxis": {
             "endlinecolor": "#2a3f5f",
             "gridcolor": "white",
             "linecolor": "white",
             "minorgridcolor": "white",
             "startlinecolor": "#2a3f5f"
            },
            "baxis": {
             "endlinecolor": "#2a3f5f",
             "gridcolor": "white",
             "linecolor": "white",
             "minorgridcolor": "white",
             "startlinecolor": "#2a3f5f"
            },
            "type": "carpet"
           }
          ],
          "choropleth": [
           {
            "colorbar": {
             "outlinewidth": 0,
             "ticks": ""
            },
            "type": "choropleth"
           }
          ],
          "contour": [
           {
            "colorbar": {
             "outlinewidth": 0,
             "ticks": ""
            },
            "colorscale": [
             [
              0,
              "#0d0887"
             ],
             [
              0.1111111111111111,
              "#46039f"
             ],
             [
              0.2222222222222222,
              "#7201a8"
             ],
             [
              0.3333333333333333,
              "#9c179e"
             ],
             [
              0.4444444444444444,
              "#bd3786"
             ],
             [
              0.5555555555555556,
              "#d8576b"
             ],
             [
              0.6666666666666666,
              "#ed7953"
             ],
             [
              0.7777777777777778,
              "#fb9f3a"
             ],
             [
              0.8888888888888888,
              "#fdca26"
             ],
             [
              1,
              "#f0f921"
             ]
            ],
            "type": "contour"
           }
          ],
          "contourcarpet": [
           {
            "colorbar": {
             "outlinewidth": 0,
             "ticks": ""
            },
            "type": "contourcarpet"
           }
          ],
          "heatmap": [
           {
            "colorbar": {
             "outlinewidth": 0,
             "ticks": ""
            },
            "colorscale": [
             [
              0,
              "#0d0887"
             ],
             [
              0.1111111111111111,
              "#46039f"
             ],
             [
              0.2222222222222222,
              "#7201a8"
             ],
             [
              0.3333333333333333,
              "#9c179e"
             ],
             [
              0.4444444444444444,
              "#bd3786"
             ],
             [
              0.5555555555555556,
              "#d8576b"
             ],
             [
              0.6666666666666666,
              "#ed7953"
             ],
             [
              0.7777777777777778,
              "#fb9f3a"
             ],
             [
              0.8888888888888888,
              "#fdca26"
             ],
             [
              1,
              "#f0f921"
             ]
            ],
            "type": "heatmap"
           }
          ],
          "heatmapgl": [
           {
            "colorbar": {
             "outlinewidth": 0,
             "ticks": ""
            },
            "colorscale": [
             [
              0,
              "#0d0887"
             ],
             [
              0.1111111111111111,
              "#46039f"
             ],
             [
              0.2222222222222222,
              "#7201a8"
             ],
             [
              0.3333333333333333,
              "#9c179e"
             ],
             [
              0.4444444444444444,
              "#bd3786"
             ],
             [
              0.5555555555555556,
              "#d8576b"
             ],
             [
              0.6666666666666666,
              "#ed7953"
             ],
             [
              0.7777777777777778,
              "#fb9f3a"
             ],
             [
              0.8888888888888888,
              "#fdca26"
             ],
             [
              1,
              "#f0f921"
             ]
            ],
            "type": "heatmapgl"
           }
          ],
          "histogram": [
           {
            "marker": {
             "colorbar": {
              "outlinewidth": 0,
              "ticks": ""
             }
            },
            "type": "histogram"
           }
          ],
          "histogram2d": [
           {
            "colorbar": {
             "outlinewidth": 0,
             "ticks": ""
            },
            "colorscale": [
             [
              0,
              "#0d0887"
             ],
             [
              0.1111111111111111,
              "#46039f"
             ],
             [
              0.2222222222222222,
              "#7201a8"
             ],
             [
              0.3333333333333333,
              "#9c179e"
             ],
             [
              0.4444444444444444,
              "#bd3786"
             ],
             [
              0.5555555555555556,
              "#d8576b"
             ],
             [
              0.6666666666666666,
              "#ed7953"
             ],
             [
              0.7777777777777778,
              "#fb9f3a"
             ],
             [
              0.8888888888888888,
              "#fdca26"
             ],
             [
              1,
              "#f0f921"
             ]
            ],
            "type": "histogram2d"
           }
          ],
          "histogram2dcontour": [
           {
            "colorbar": {
             "outlinewidth": 0,
             "ticks": ""
            },
            "colorscale": [
             [
              0,
              "#0d0887"
             ],
             [
              0.1111111111111111,
              "#46039f"
             ],
             [
              0.2222222222222222,
              "#7201a8"
             ],
             [
              0.3333333333333333,
              "#9c179e"
             ],
             [
              0.4444444444444444,
              "#bd3786"
             ],
             [
              0.5555555555555556,
              "#d8576b"
             ],
             [
              0.6666666666666666,
              "#ed7953"
             ],
             [
              0.7777777777777778,
              "#fb9f3a"
             ],
             [
              0.8888888888888888,
              "#fdca26"
             ],
             [
              1,
              "#f0f921"
             ]
            ],
            "type": "histogram2dcontour"
           }
          ],
          "mesh3d": [
           {
            "colorbar": {
             "outlinewidth": 0,
             "ticks": ""
            },
            "type": "mesh3d"
           }
          ],
          "parcoords": [
           {
            "line": {
             "colorbar": {
              "outlinewidth": 0,
              "ticks": ""
             }
            },
            "type": "parcoords"
           }
          ],
          "pie": [
           {
            "automargin": true,
            "type": "pie"
           }
          ],
          "scatter": [
           {
            "marker": {
             "colorbar": {
              "outlinewidth": 0,
              "ticks": ""
             }
            },
            "type": "scatter"
           }
          ],
          "scatter3d": [
           {
            "line": {
             "colorbar": {
              "outlinewidth": 0,
              "ticks": ""
             }
            },
            "marker": {
             "colorbar": {
              "outlinewidth": 0,
              "ticks": ""
             }
            },
            "type": "scatter3d"
           }
          ],
          "scattercarpet": [
           {
            "marker": {
             "colorbar": {
              "outlinewidth": 0,
              "ticks": ""
             }
            },
            "type": "scattercarpet"
           }
          ],
          "scattergeo": [
           {
            "marker": {
             "colorbar": {
              "outlinewidth": 0,
              "ticks": ""
             }
            },
            "type": "scattergeo"
           }
          ],
          "scattergl": [
           {
            "marker": {
             "colorbar": {
              "outlinewidth": 0,
              "ticks": ""
             }
            },
            "type": "scattergl"
           }
          ],
          "scattermapbox": [
           {
            "marker": {
             "colorbar": {
              "outlinewidth": 0,
              "ticks": ""
             }
            },
            "type": "scattermapbox"
           }
          ],
          "scatterpolar": [
           {
            "marker": {
             "colorbar": {
              "outlinewidth": 0,
              "ticks": ""
             }
            },
            "type": "scatterpolar"
           }
          ],
          "scatterpolargl": [
           {
            "marker": {
             "colorbar": {
              "outlinewidth": 0,
              "ticks": ""
             }
            },
            "type": "scatterpolargl"
           }
          ],
          "scatterternary": [
           {
            "marker": {
             "colorbar": {
              "outlinewidth": 0,
              "ticks": ""
             }
            },
            "type": "scatterternary"
           }
          ],
          "surface": [
           {
            "colorbar": {
             "outlinewidth": 0,
             "ticks": ""
            },
            "colorscale": [
             [
              0,
              "#0d0887"
             ],
             [
              0.1111111111111111,
              "#46039f"
             ],
             [
              0.2222222222222222,
              "#7201a8"
             ],
             [
              0.3333333333333333,
              "#9c179e"
             ],
             [
              0.4444444444444444,
              "#bd3786"
             ],
             [
              0.5555555555555556,
              "#d8576b"
             ],
             [
              0.6666666666666666,
              "#ed7953"
             ],
             [
              0.7777777777777778,
              "#fb9f3a"
             ],
             [
              0.8888888888888888,
              "#fdca26"
             ],
             [
              1,
              "#f0f921"
             ]
            ],
            "type": "surface"
           }
          ],
          "table": [
           {
            "cells": {
             "fill": {
              "color": "#EBF0F8"
             },
             "line": {
              "color": "white"
             }
            },
            "header": {
             "fill": {
              "color": "#C8D4E3"
             },
             "line": {
              "color": "white"
             }
            },
            "type": "table"
           }
          ]
         },
         "layout": {
          "annotationdefaults": {
           "arrowcolor": "#2a3f5f",
           "arrowhead": 0,
           "arrowwidth": 1
          },
          "coloraxis": {
           "colorbar": {
            "outlinewidth": 0,
            "ticks": ""
           }
          },
          "colorscale": {
           "diverging": [
            [
             0,
             "#8e0152"
            ],
            [
             0.1,
             "#c51b7d"
            ],
            [
             0.2,
             "#de77ae"
            ],
            [
             0.3,
             "#f1b6da"
            ],
            [
             0.4,
             "#fde0ef"
            ],
            [
             0.5,
             "#f7f7f7"
            ],
            [
             0.6,
             "#e6f5d0"
            ],
            [
             0.7,
             "#b8e186"
            ],
            [
             0.8,
             "#7fbc41"
            ],
            [
             0.9,
             "#4d9221"
            ],
            [
             1,
             "#276419"
            ]
           ],
           "sequential": [
            [
             0,
             "#0d0887"
            ],
            [
             0.1111111111111111,
             "#46039f"
            ],
            [
             0.2222222222222222,
             "#7201a8"
            ],
            [
             0.3333333333333333,
             "#9c179e"
            ],
            [
             0.4444444444444444,
             "#bd3786"
            ],
            [
             0.5555555555555556,
             "#d8576b"
            ],
            [
             0.6666666666666666,
             "#ed7953"
            ],
            [
             0.7777777777777778,
             "#fb9f3a"
            ],
            [
             0.8888888888888888,
             "#fdca26"
            ],
            [
             1,
             "#f0f921"
            ]
           ],
           "sequentialminus": [
            [
             0,
             "#0d0887"
            ],
            [
             0.1111111111111111,
             "#46039f"
            ],
            [
             0.2222222222222222,
             "#7201a8"
            ],
            [
             0.3333333333333333,
             "#9c179e"
            ],
            [
             0.4444444444444444,
             "#bd3786"
            ],
            [
             0.5555555555555556,
             "#d8576b"
            ],
            [
             0.6666666666666666,
             "#ed7953"
            ],
            [
             0.7777777777777778,
             "#fb9f3a"
            ],
            [
             0.8888888888888888,
             "#fdca26"
            ],
            [
             1,
             "#f0f921"
            ]
           ]
          },
          "colorway": [
           "#636efa",
           "#EF553B",
           "#00cc96",
           "#ab63fa",
           "#FFA15A",
           "#19d3f3",
           "#FF6692",
           "#B6E880",
           "#FF97FF",
           "#FECB52"
          ],
          "font": {
           "color": "#2a3f5f"
          },
          "geo": {
           "bgcolor": "white",
           "lakecolor": "white",
           "landcolor": "#E5ECF6",
           "showlakes": true,
           "showland": true,
           "subunitcolor": "white"
          },
          "hoverlabel": {
           "align": "left"
          },
          "hovermode": "closest",
          "mapbox": {
           "style": "light"
          },
          "paper_bgcolor": "white",
          "plot_bgcolor": "#E5ECF6",
          "polar": {
           "angularaxis": {
            "gridcolor": "white",
            "linecolor": "white",
            "ticks": ""
           },
           "bgcolor": "#E5ECF6",
           "radialaxis": {
            "gridcolor": "white",
            "linecolor": "white",
            "ticks": ""
           }
          },
          "scene": {
           "xaxis": {
            "backgroundcolor": "#E5ECF6",
            "gridcolor": "white",
            "gridwidth": 2,
            "linecolor": "white",
            "showbackground": true,
            "ticks": "",
            "zerolinecolor": "white"
           },
           "yaxis": {
            "backgroundcolor": "#E5ECF6",
            "gridcolor": "white",
            "gridwidth": 2,
            "linecolor": "white",
            "showbackground": true,
            "ticks": "",
            "zerolinecolor": "white"
           },
           "zaxis": {
            "backgroundcolor": "#E5ECF6",
            "gridcolor": "white",
            "gridwidth": 2,
            "linecolor": "white",
            "showbackground": true,
            "ticks": "",
            "zerolinecolor": "white"
           }
          },
          "shapedefaults": {
           "line": {
            "color": "#2a3f5f"
           }
          },
          "ternary": {
           "aaxis": {
            "gridcolor": "white",
            "linecolor": "white",
            "ticks": ""
           },
           "baxis": {
            "gridcolor": "white",
            "linecolor": "white",
            "ticks": ""
           },
           "bgcolor": "#E5ECF6",
           "caxis": {
            "gridcolor": "white",
            "linecolor": "white",
            "ticks": ""
           }
          },
          "title": {
           "x": 0.05
          },
          "xaxis": {
           "automargin": true,
           "gridcolor": "white",
           "linecolor": "white",
           "ticks": "",
           "title": {
            "standoff": 15
           },
           "zerolinecolor": "white",
           "zerolinewidth": 2
          },
          "yaxis": {
           "automargin": true,
           "gridcolor": "white",
           "linecolor": "white",
           "ticks": "",
           "title": {
            "standoff": 15
           },
           "zerolinecolor": "white",
           "zerolinewidth": 2
          }
         }
        }
       }
      },
      "image/png": "[encoded data removed]",
      "text/html": [
       "<div>                            <div id=\"379119cc-b0e6-4d10-ad4c-13298ed40fa3\" class=\"plotly-graph-div\" style=\"height:525px; width:100%;\"></div>            <script type=\"text/javascript\">                require([\"plotly\"], function(Plotly) {                    window.PLOTLYENV=window.PLOTLYENV || {};                                    if (document.getElementById(\"379119cc-b0e6-4d10-ad4c-13298ed40fa3\")) {                    Plotly.newPlot(                        \"379119cc-b0e6-4d10-ad4c-13298ed40fa3\",                        [{\"customdata\": [[22186, 161, 0.73, \"Ain\"], [7715, 327, 4.24, \"Aisne\"], [5554, 90, 1.62, \"Allier\"], [2706, 25, 0.92, \"Alpes-de-Haute-Provence\"], [3445, 41, 1.19, \"Hautes-Alpes\"], [22522, 278, 1.23, \"Alpes_Maritimes\"], [8349, 162, 1.94, \"Ardeche\"], [4663, 74, 1.59, \"Ardennes\"], [2719, 9, 0.33, \"Ariege\"], [5614, 154, 2.74, \"Aube\"], [5392, 80, 1.48, \"Aude\"], [5703, 53, 0.93, \"Aveyron\"], [78187, 1033, 1.32, \"Bouches-du-Rh\\u00f4ne\"], [11140, 125, 1.12, \"Calvados\"], [1783, 25, 1.4, \"Cantal\"], [2926, 20, 0.68, \"Charente\"], [3848, 69, 1.79, \"Charente-Maritime\"], [4738, 129, 2.72, \"Cher\"], [2478, 57, 2.3, \"Correze\"], [11891, 294, 2.47, \"C\\u00f4te-d'Or\"], [5006, 53, 1.06, \"C\\u00f4tes-D'Armor\"], [1562, 21, 1.34, \"Creuse\"], [4523, 21, 0.46, \"Dordogne\"], [11419, 158, 1.38, \"Doubs\"], [12938, 194, 1.5, \"Drome\"], [9635, 128, 1.33, \"Eure\"], [6380, 168, 2.63, \"Eure-et-Loire\"], [7321, 60, 0.82, \"Finist\\u00e8re\"], [2829, 59, 2.09, \"Corde-du-Sud\"], [2687, 26, 0.97, \"Haute-Corse\"], [18988, 170, 0.9, \"Gard\"], [36939, 170, 0.46, \"Haute-Garonne\"], [2777, 39, 1.4, \"Gers\"], [28069, 272, 0.97, \"Gironde\"], [29019, 269, 0.93, \"H\\u00e9rault\"], [18165, 137, 0.75, \"Ille-et-Vilaine\"], [2493, 84, 3.37, \"Indre\"], [10610, 122, 1.15, \"Indre-et-Loire\"], [46437, 355, 0.76, \"Is\\u00e8re\"], [6008, 84, 1.4, \"Jura\"], [5810, 28, 0.48, \"Landes\"], [3826, 86, 2.25, \"Loir-et-Cher\"], [36824, 453, 1.23, \"Loire\"], [8510, 41, 0.48, \"Haute-Loire\"], [22730, 233, 1.03, \"Loire-Atlantique\"], [14642, 131, 0.89, \"Loiret\"], [1527, 24, 1.57, \"Lot\"], [4262, 25, 0.59, \"Lot-et-Garonne\"], [1598, 21, 1.31, \"Loz\\u00e8re\"], [14761, 206, 1.4, \"Manne-et-Loire\"], [4321, 72, 1.67, \"Manche\"], [9752, 309, 3.17, \"Marne\"], [2653, 102, 3.84, \"Haute-Marne\"], [5222, 63, 1.21, \"Mayenne\"], [12845, 403, 3.14, \"Meurthe-et-Moselle\"], [2227, 117, 5.25, \"Meuse\"], [6293, 126, 2.0, \"Morbihan\"], [16668, 924, 5.54, \"Moselle\"], [2614, 34, 1.3, \"Ni\\u00e8vre\"], [102495, 1058, 1.03, \"Nord\"], [17579, 476, 2.71, \"Oise\"], [3237, 58, 1.79, \"Orne\"], [34925, 444, 1.27, \"Pas-de-Calais\"], [14980, 115, 0.77, \"Puy-de-D\\u00f4me\"], [14592, 72, 0.49, \"Pyr\\u00e9n\\u00e9es-Altantiques\"], [4348, 38, 0.87, \"Hautes-Pyr\\u00e9n\\u00e9es\"], [8791, 79, 0.9, \"Pyr\\u00e9n\\u00e9es-Orientales\"], [23610, 751, 3.18, \"Bas-Rhin\"], [11466, 857, 7.47, \"Haut-Rhin\"], [83743, 1042, 1.24, \"Rhone\"], [3234, 94, 2.91, \"Haute-Sa\\u00f4ne\"], [14566, 300, 2.06, \"Sa\\u00f4ne-et-Loire\"], [8043, 113, 1.4, \"Sarthe\"], [14303, 162, 1.13, \"Savoie\"], [26774, 241, 0.9, \"Haute-Savoie\"], [89965, 2146, 2.39, \"Paris\"], [27146, 338, 1.25, \"Seine-Maritime\"], [32857, 843, 2.57, \"Seine-et-Marne\"], [37371, 675, 1.81, \"Yvellines\"], [4022, 36, 0.9, \"Deux-S\\u00e8vres\"], [8117, 278, 3.42, \"Somme\"], [8406, 53, 0.63, \"Tarn\"], [5527, 34, 0.62, \"Tarn-et-Garonne\"], [22758, 236, 1.04, \"Var\"], [14631, 156, 1.07, \"Vaucluse\"], [7177, 53, 0.74, \"Vend\\u00e9e\"], [5727, 58, 1.01, \"Vienne\"], [5844, 60, 1.03, \"Haute-Vienne\"], [5376, 284, 5.28, \"Vosges\"], [5990, 102, 1.7, \"Yonne\"], [2030, 215, 10.59, \"Territoire de Belfort\"], [36337, 748, 2.06, \"Essonne\"], [56421, 1286, 2.28, \"Hauts-de-Seine\"], [54990, 1224, 2.23, \"Seine-Saint_Denis\"], [47194, 1441, 3.05, \"Val-de-Marne\"], [41599, 901, 2.17, \"Val-d'Oise\"], [7880, 146, 1.85, \"Guadeloupe\"], [4525, 34, 0.75, \"Martinique\"], [9774, 66, 0.68, \"Guyane\"], [6191, 33, 0.53, \"La R\\u00e9union\"], [2906, 31, 1.07, \"Mayotte\"]], \"hovertemplate\": \"%{customdata[3]}<br>Confirmed: %{customdata[0]}<br>Deaths: %{customdata[1]}<br>Death Rate: %{customdata[2]}\", \"hovertext\": [\"Ain\", \"Aisne\", \"Allier\", \"Alpes-de-Haute-Provence\", \"Hautes-Alpes\", \"Alpes_Maritimes\", \"Ardeche\", \"Ardennes\", \"Ariege\", \"Aube\", \"Aude\", \"Aveyron\", \"Bouches-du-Rh\\u00f4ne\", \"Calvados\", \"Cantal\", \"Charente\", \"Charente-Maritime\", \"Cher\", \"Correze\", \"C\\u00f4te-d'Or\", \"C\\u00f4tes-D'Armor\", \"Creuse\", \"Dordogne\", \"Doubs\", \"Drome\", \"Eure\", \"Eure-et-Loire\", \"Finist\\u00e8re\", \"Corde-du-Sud\", \"Haute-Corse\", \"Gard\", \"Haute-Garonne\", \"Gers\", \"Gironde\", \"H\\u00e9rault\", \"Ille-et-Vilaine\", \"Indre\", \"Indre-et-Loire\", \"Is\\u00e8re\", \"Jura\", \"Landes\", \"Loir-et-Cher\", \"Loire\", \"Haute-Loire\", \"Loire-Atlantique\", \"Loiret\", \"Lot\", \"Lot-et-Garonne\", \"Loz\\u00e8re\", \"Manne-et-Loire\", \"Manche\", \"Marne\", \"Haute-Marne\", \"Mayenne\", \"Meurthe-et-Moselle\", \"Meuse\", \"Morbihan\", \"Moselle\", \"Ni\\u00e8vre\", \"Nord\", \"Oise\", \"Orne\", \"Pas-de-Calais\", \"Puy-de-D\\u00f4me\", \"Pyr\\u00e9n\\u00e9es-Altantiques\", \"Hautes-Pyr\\u00e9n\\u00e9es\", \"Pyr\\u00e9n\\u00e9es-Orientales\", \"Bas-Rhin\", \"Haut-Rhin\", \"Rhone\", \"Haute-Sa\\u00f4ne\", \"Sa\\u00f4ne-et-Loire\", \"Sarthe\", \"Savoie\", \"Haute-Savoie\", \"Paris\", \"Seine-Maritime\", \"Seine-et-Marne\", \"Yvellines\", \"Deux-S\\u00e8vres\", \"Somme\", \"Tarn\", \"Tarn-et-Garonne\", \"Var\", \"Vaucluse\", \"Vend\\u00e9e\", \"Vienne\", \"Haute-Vienne\", \"Vosges\", \"Yonne\", \"Territoire de Belfort\", \"Essonne\", \"Hauts-de-Seine\", \"Seine-Saint_Denis\", \"Val-de-Marne\", \"Val-d'Oise\", \"Guadeloupe\", \"Martinique\", \"Guyane\", \"La R\\u00e9union\", \"Mayotte\"], \"lat\": [46.1, 49.55, 44.1, 44.09, 44.66, 43.94, 44.73, 49.61, 42.94, 48.31, 43.1, 44.28, 43.54, 49.1, 45.01, 45.71, 45.76, 47.07, 45.34, 47.43, 48.44, 46.08, 45.13, 47.16, 44.68, 49.1, 48.39, 48.27, 41.88, 42.37, 43.99, 43.35, 43.68, 44.84, 43.9, 48.18, 46.8, 47.24, 45.27, 46.73, 43.96, 47.61, 45.72, 45.13, 47.38, 47.85, 44.63, 44.37, 44.51, 47.39, 49.08, 48.38, 48.09, 48.12, 48.79, 49.0, 47.85, 49.02, 47.1, 50.45, 49.39, 48.61, 50.49, 45.73, 43.28, 43.05, 42.61, 48.65, 47.86, 45.86, 47.63, 46.64, 48.0, 45.47, 46.04, 48.85, 49.65, 48.6, 48.97, 46.53, 49.97, 43.77, 44.07, 43.47, 43.99, 46.67, 46.55, 45.87, 48.19, 47.84, 47.62, 48.52, 48.83, 48.9, 48.77, 49.07, 16.0, 14.6, 4.93, -20.88, -12.77], \"legendgroup\": \"\", \"lon\": [5.33, 3.56, 2.35, 6.23, 6.21, 7.12, 4.41, 4.61, 1.53, 4.14, 2.35, 2.72, 5.03, -0.37, 2.66, 0.2, -0.71, 2.52, 1.81, 4.78, -2.85, 2.04, 0.7, 6.37, 5.15, 1.0, 1.36, -4.04, 8.97, 9.23, 4.17, 1.23, 0.45, -0.58, 4.47, -1.64, 1.62, 0.69, 5.61, 5.69, -0.8, 1.41, 4.16, 3.81, -1.71, 2.26, 1.59, 0.46, 3.49, -0.53, -1.34, 7.47, 5.15, -0.67, 6.16, 5.39, -2.83, 6.65, 3.51, 3.2, 2.42, 0.11, 2.27, 3.14, -0.75, 0.16, 2.51, 7.56, 7.27, 4.66, 6.07, 4.53, 0.19, 6.45, 6.44, 2.35, 1.04, 2.97, 1.97, -0.32, 2.29, 2.18, 1.28, 6.18, 5.14, -1.28, 0.5, 1.23, 6.37, 3.57, 6.92, 2.26, 2.24, 2.48, 2.45, 2.17, -61.73, -61.06, -52.32, 55.45, 45.22], \"marker\": {\"color\": [22186, 7715, 5554, 2706, 3445, 22522, 8349, 4663, 2719, 5614, 5392, 5703, 78187, 11140, 1783, 2926, 3848, 4738, 2478, 11891, 5006, 1562, 4523, 11419, 12938, 9635, 6380, 7321, 2829, 2687, 18988, 36939, 2777, 28069, 29019, 18165, 2493, 10610, 46437, 6008, 5810, 3826, 36824, 8510, 22730, 14642, 1527, 4262, 1598, 14761, 4321, 9752, 2653, 5222, 12845, 2227, 6293, 16668, 2614, 102495, 17579, 3237, 34925, 14980, 14592, 4348, 8791, 23610, 11466, 83743, 3234, 14566, 8043, 14303, 26774, 89965, 27146, 32857, 37371, 4022, 8117, 8406, 5527, 22758, 14631, 7177, 5727, 5844, 5376, 5990, 2030, 36337, 56421, 54990, 47194, 41599, 7880, 4525, 9774, 6191, 2906], \"coloraxis\": \"coloraxis\", \"size\": [2220.6536944679506, 984.5746878049861, 764.4454922433424, 439.4327289489412, 529.2193367994666, 2246.504819753323, 1046.3055645127238, 668.1475340735931, 441.05737647395944, 770.7965362558033, 747.2181464067074, 780.1885927152008, 5857.517615243414, 1306.4764837602604, 318.70328082028095, 466.6929364840283, 576.2766180425339, 676.4071558148173, 410.6369282738098, 1373.783044468793, 705.6802303926406, 287.8288965574726, 652.6471901279474, 1331.5994778123625, 1466.0126002338875, 1168.3307939083763, 850.5736462356036, 945.6255833423367, 454.73393965229, 437.0550101983453, 1969.8311538373564, 3288.240342904238, 448.28419504287956, 2661.550704403213, 2730.6464949346614, 1903.755888641416, 412.5495848770468, 1258.3482387865981, 3921.799612921943, 812.1234323981759, 791.4356734993451, 573.7380111172065, 3280.3549626166546, 1061.8074331116236, 2262.4634165707757, 1612.5467338122085, 282.84991888688586, 623.4510388584048, 292.9234339442298, 1622.628690860009, 630.0860798078716, 1179.239840368317, 432.7904634236283, 729.0115145882202, 1457.891700546037, 378.22006690298105, 841.6285385779177, 1781.7644462659591, 427.88326306121223, 7215.0785474047825, 1856.2886443436107, 504.44041991395585, 3149.3072965395377, 1641.134201305836, 1608.3050001807333, 633.1154944229544, 1088.7031403577994, 2329.6136914695917, 1335.8176942296207, 6175.474837868194, 504.0804008807332, 1606.0979779375964, 1016.6510485324636, 1583.721806958903, 2566.4878314463162, 6525.8435810448445, 2593.90162043175, 3004.7164108334273, 3317.8116957253333, 596.2390153597393, 1023.8458408344043, 1051.8015996100569, 761.5823801571058, 2264.6091184893994, 1611.61383863331, 931.2709774130193, 782.7154942731702, 794.9995074626905, 745.5102694014485, 810.2492789853042, 352.1858874193637, 3246.8990271975645, 4556.269454649829, 4467.025834363096, 3970.9354455769385, 3603.2452754610867, 1000.7490522134406, 652.8693934382948, 1181.287742864907, 831.1048545946315, 464.2347216666669], \"sizemode\": \"area\", \"sizeref\": 5.8898600386977815}, \"mode\": \"markers\", \"name\": \"\", \"showlegend\": false, \"subplot\": \"mapbox\", \"type\": \"scattermapbox\"}],                        {\"coloraxis\": {\"colorbar\": {\"title\": {\"text\": \"nb_pos_cum\"}}, \"colorscale\": [[0.0, \"#fadc8f\"], [0.1, \"#f9d67a\"], [0.2, \"#f8d066\"], [0.3, \"#f8c952\"], [0.4, \"#f7c33d\"], [0.5, \"#f6bd29\"], [0.6, \"#f5b614\"], [0.7, \"#F4B000\"], [0.8, \"#eaa900\"], [0.9, \"#e0a200\"], [1.0, \"#dc9e00\"]]}, \"legend\": {\"itemsizing\": \"constant\", \"tracegroupgap\": 0}, \"mapbox\": {\"accesstoken\": \"pk.eyJ1IjoicG1lY2NoaWEiLCJhIjoiY2toNTVlajU4MDBtcTJycXBzNGlsOTByYyJ9.sfNsB0a0UzZxosdqWYhWyQ\", \"center\": {\"lat\": 46.4, \"lon\": 0.5}, \"domain\": {\"x\": [0.0, 1.0], \"y\": [0.0, 1.0]}, \"style\": \"dark\", \"zoom\": 3.5}, \"margin\": {\"t\": 60}, \"template\": {\"data\": {\"bar\": [{\"error_x\": {\"color\": \"#2a3f5f\"}, \"error_y\": {\"color\": \"#2a3f5f\"}, \"marker\": {\"line\": {\"color\": \"#E5ECF6\", \"width\": 0.5}}, \"type\": \"bar\"}], \"barpolar\": [{\"marker\": {\"line\": {\"color\": \"#E5ECF6\", \"width\": 0.5}}, \"type\": \"barpolar\"}], \"carpet\": [{\"aaxis\": {\"endlinecolor\": \"#2a3f5f\", \"gridcolor\": \"white\", \"linecolor\": \"white\", \"minorgridcolor\": \"white\", \"startlinecolor\": \"#2a3f5f\"}, \"baxis\": {\"endlinecolor\": \"#2a3f5f\", \"gridcolor\": \"white\", \"linecolor\": \"white\", \"minorgridcolor\": \"white\", \"startlinecolor\": \"#2a3f5f\"}, \"type\": \"carpet\"}], \"choropleth\": [{\"colorbar\": {\"outlinewidth\": 0, \"ticks\": \"\"}, \"type\": \"choropleth\"}], \"contour\": [{\"colorbar\": {\"outlinewidth\": 0, \"ticks\": \"\"}, \"colorscale\": [[0.0, \"#0d0887\"], [0.1111111111111111, \"#46039f\"], [0.2222222222222222, \"#7201a8\"], [0.3333333333333333, \"#9c179e\"], [0.4444444444444444, \"#bd3786\"], [0.5555555555555556, \"#d8576b\"], [0.6666666666666666, \"#ed7953\"], [0.7777777777777778, \"#fb9f3a\"], [0.8888888888888888, \"#fdca26\"], [1.0, \"#f0f921\"]], \"type\": \"contour\"}], \"contourcarpet\": [{\"colorbar\": {\"outlinewidth\": 0, \"ticks\": \"\"}, \"type\": \"contourcarpet\"}], \"heatmap\": [{\"colorbar\": {\"outlinewidth\": 0, \"ticks\": \"\"}, \"colorscale\": [[0.0, \"#0d0887\"], [0.1111111111111111, \"#46039f\"], [0.2222222222222222, \"#7201a8\"], [0.3333333333333333, \"#9c179e\"], [0.4444444444444444, \"#bd3786\"], [0.5555555555555556, \"#d8576b\"], [0.6666666666666666, \"#ed7953\"], [0.7777777777777778, \"#fb9f3a\"], [0.8888888888888888, \"#fdca26\"], [1.0, \"#f0f921\"]], \"type\": \"heatmap\"}], \"heatmapgl\": [{\"colorbar\": {\"outlinewidth\": 0, \"ticks\": \"\"}, \"colorscale\": [[0.0, \"#0d0887\"], [0.1111111111111111, \"#46039f\"], [0.2222222222222222, \"#7201a8\"], [0.3333333333333333, \"#9c179e\"], [0.4444444444444444, \"#bd3786\"], [0.5555555555555556, \"#d8576b\"], [0.6666666666666666, \"#ed7953\"], [0.7777777777777778, \"#fb9f3a\"], [0.8888888888888888, \"#fdca26\"], [1.0, \"#f0f921\"]], \"type\": \"heatmapgl\"}], \"histogram\": [{\"marker\": {\"colorbar\": {\"outlinewidth\": 0, \"ticks\": \"\"}}, \"type\": \"histogram\"}], \"histogram2d\": [{\"colorbar\": {\"outlinewidth\": 0, \"ticks\": \"\"}, \"colorscale\": [[0.0, \"#0d0887\"], [0.1111111111111111, \"#46039f\"], [0.2222222222222222, \"#7201a8\"], [0.3333333333333333, \"#9c179e\"], [0.4444444444444444, \"#bd3786\"], [0.5555555555555556, \"#d8576b\"], [0.6666666666666666, \"#ed7953\"], [0.7777777777777778, \"#fb9f3a\"], [0.8888888888888888, \"#fdca26\"], [1.0, \"#f0f921\"]], \"type\": \"histogram2d\"}], \"histogram2dcontour\": [{\"colorbar\": {\"outlinewidth\": 0, \"ticks\": \"\"}, \"colorscale\": [[0.0, \"#0d0887\"], [0.1111111111111111, \"#46039f\"], [0.2222222222222222, \"#7201a8\"], [0.3333333333333333, \"#9c179e\"], [0.4444444444444444, \"#bd3786\"], [0.5555555555555556, \"#d8576b\"], [0.6666666666666666, \"#ed7953\"], [0.7777777777777778, \"#fb9f3a\"], [0.8888888888888888, \"#fdca26\"], [1.0, \"#f0f921\"]], \"type\": \"histogram2dcontour\"}], \"mesh3d\": [{\"colorbar\": {\"outlinewidth\": 0, \"ticks\": \"\"}, \"type\": \"mesh3d\"}], \"parcoords\": [{\"line\": {\"colorbar\": {\"outlinewidth\": 0, \"ticks\": \"\"}}, \"type\": \"parcoords\"}], \"pie\": [{\"automargin\": true, \"type\": \"pie\"}], \"scatter\": [{\"marker\": {\"colorbar\": {\"outlinewidth\": 0, \"ticks\": \"\"}}, \"type\": \"scatter\"}], \"scatter3d\": [{\"line\": {\"colorbar\": {\"outlinewidth\": 0, \"ticks\": \"\"}}, \"marker\": {\"colorbar\": {\"outlinewidth\": 0, \"ticks\": \"\"}}, \"type\": \"scatter3d\"}], \"scattercarpet\": [{\"marker\": {\"colorbar\": {\"outlinewidth\": 0, \"ticks\": \"\"}}, \"type\": \"scattercarpet\"}], \"scattergeo\": [{\"marker\": {\"colorbar\": {\"outlinewidth\": 0, \"ticks\": \"\"}}, \"type\": \"scattergeo\"}], \"scattergl\": [{\"marker\": {\"colorbar\": {\"outlinewidth\": 0, \"ticks\": \"\"}}, \"type\": \"scattergl\"}], \"scattermapbox\": [{\"marker\": {\"colorbar\": {\"outlinewidth\": 0, \"ticks\": \"\"}}, \"type\": \"scattermapbox\"}], \"scatterpolar\": [{\"marker\": {\"colorbar\": {\"outlinewidth\": 0, \"ticks\": \"\"}}, \"type\": \"scatterpolar\"}], \"scatterpolargl\": [{\"marker\": {\"colorbar\": {\"outlinewidth\": 0, \"ticks\": \"\"}}, \"type\": \"scatterpolargl\"}], \"scatterternary\": [{\"marker\": {\"colorbar\": {\"outlinewidth\": 0, \"ticks\": \"\"}}, \"type\": \"scatterternary\"}], \"surface\": [{\"colorbar\": {\"outlinewidth\": 0, \"ticks\": \"\"}, \"colorscale\": [[0.0, \"#0d0887\"], [0.1111111111111111, \"#46039f\"], [0.2222222222222222, \"#7201a8\"], [0.3333333333333333, \"#9c179e\"], [0.4444444444444444, \"#bd3786\"], [0.5555555555555556, \"#d8576b\"], [0.6666666666666666, \"#ed7953\"], [0.7777777777777778, \"#fb9f3a\"], [0.8888888888888888, \"#fdca26\"], [1.0, \"#f0f921\"]], \"type\": \"surface\"}], \"table\": [{\"cells\": {\"fill\": {\"color\": \"#EBF0F8\"}, \"line\": {\"color\": \"white\"}}, \"header\": {\"fill\": {\"color\": \"#C8D4E3\"}, \"line\": {\"color\": \"white\"}}, \"type\": \"table\"}]}, \"layout\": {\"annotationdefaults\": {\"arrowcolor\": \"#2a3f5f\", \"arrowhead\": 0, \"arrowwidth\": 1}, \"coloraxis\": {\"colorbar\": {\"outlinewidth\": 0, \"ticks\": \"\"}}, \"colorscale\": {\"diverging\": [[0, \"#8e0152\"], [0.1, \"#c51b7d\"], [0.2, \"#de77ae\"], [0.3, \"#f1b6da\"], [0.4, \"#fde0ef\"], [0.5, \"#f7f7f7\"], [0.6, \"#e6f5d0\"], [0.7, \"#b8e186\"], [0.8, \"#7fbc41\"], [0.9, \"#4d9221\"], [1, \"#276419\"]], \"sequential\": [[0.0, \"#0d0887\"], [0.1111111111111111, \"#46039f\"], [0.2222222222222222, \"#7201a8\"], [0.3333333333333333, \"#9c179e\"], [0.4444444444444444, \"#bd3786\"], [0.5555555555555556, \"#d8576b\"], [0.6666666666666666, \"#ed7953\"], [0.7777777777777778, \"#fb9f3a\"], [0.8888888888888888, \"#fdca26\"], [1.0, \"#f0f921\"]], \"sequentialminus\": [[0.0, \"#0d0887\"], [0.1111111111111111, \"#46039f\"], [0.2222222222222222, \"#7201a8\"], [0.3333333333333333, \"#9c179e\"], [0.4444444444444444, \"#bd3786\"], [0.5555555555555556, \"#d8576b\"], [0.6666666666666666, \"#ed7953\"], [0.7777777777777778, \"#fb9f3a\"], [0.8888888888888888, \"#fdca26\"], [1.0, \"#f0f921\"]]}, \"colorway\": [\"#636efa\", \"#EF553B\", \"#00cc96\", \"#ab63fa\", \"#FFA15A\", \"#19d3f3\", \"#FF6692\", \"#B6E880\", \"#FF97FF\", \"#FECB52\"], \"font\": {\"color\": \"#2a3f5f\"}, \"geo\": {\"bgcolor\": \"white\", \"lakecolor\": \"white\", \"landcolor\": \"#E5ECF6\", \"showlakes\": true, \"showland\": true, \"subunitcolor\": \"white\"}, \"hoverlabel\": {\"align\": \"left\"}, \"hovermode\": \"closest\", \"mapbox\": {\"style\": \"light\"}, \"paper_bgcolor\": \"white\", \"plot_bgcolor\": \"#E5ECF6\", \"polar\": {\"angularaxis\": {\"gridcolor\": \"white\", \"linecolor\": \"white\", \"ticks\": \"\"}, \"bgcolor\": \"#E5ECF6\", \"radialaxis\": {\"gridcolor\": \"white\", \"linecolor\": \"white\", \"ticks\": \"\"}}, \"scene\": {\"xaxis\": {\"backgroundcolor\": \"#E5ECF6\", \"gridcolor\": \"white\", \"gridwidth\": 2, \"linecolor\": \"white\", \"showbackground\": true, \"ticks\": \"\", \"zerolinecolor\": \"white\"}, \"yaxis\": {\"backgroundcolor\": \"#E5ECF6\", \"gridcolor\": \"white\", \"gridwidth\": 2, \"linecolor\": \"white\", \"showbackground\": true, \"ticks\": \"\", \"zerolinecolor\": \"white\"}, \"zaxis\": {\"backgroundcolor\": \"#E5ECF6\", \"gridcolor\": \"white\", \"gridwidth\": 2, \"linecolor\": \"white\", \"showbackground\": true, \"ticks\": \"\", \"zerolinecolor\": \"white\"}}, \"shapedefaults\": {\"line\": {\"color\": \"#2a3f5f\"}}, \"ternary\": {\"aaxis\": {\"gridcolor\": \"white\", \"linecolor\": \"white\", \"ticks\": \"\"}, \"baxis\": {\"gridcolor\": \"white\", \"linecolor\": \"white\", \"ticks\": \"\"}, \"bgcolor\": \"#E5ECF6\", \"caxis\": {\"gridcolor\": \"white\", \"linecolor\": \"white\", \"ticks\": \"\"}}, \"title\": {\"x\": 0.05}, \"xaxis\": {\"automargin\": true, \"gridcolor\": \"white\", \"linecolor\": \"white\", \"ticks\": \"\", \"title\": {\"standoff\": 15}, \"zerolinecolor\": \"white\", \"zerolinewidth\": 2}, \"yaxis\": {\"automargin\": true, \"gridcolor\": \"white\", \"linecolor\": \"white\", \"ticks\": \"\", \"title\": {\"standoff\": 15}, \"zerolinecolor\": \"white\", \"zerolinewidth\": 2}}}},                        {\"responsive\": true}                    ).then(function(){\n",
       "                            \n",
       "var gd = document.getElementById('379119cc-b0e6-4d10-ad4c-13298ed40fa3');\n",
       "var x = new MutationObserver(function (mutations, observer) {{\n",
       "        var display = window.getComputedStyle(gd).display;\n",
       "        if (!display || display === 'none') {{\n",
       "            console.log([gd, 'removed!']);\n",
       "            Plotly.purge(gd);\n",
       "            observer.disconnect();\n",
       "        }}\n",
       "}});\n",
       "\n",
       "// Listen for the removal of the full notebook cells\n",
       "var notebookContainer = gd.closest('#notebook-container');\n",
       "if (notebookContainer) {{\n",
       "    x.observe(notebookContainer, {childList: true});\n",
       "}}\n",
       "\n",
       "// Listen for the clearing of the current output cell\n",
       "var outputEl = gd.closest('.output');\n",
       "if (outputEl) {{\n",
       "    x.observe(outputEl, {childList: true});\n",
       "}}\n",
       "\n",
       "                        })                };                });            </script>        </div>"
      ]
     },
     "metadata": {},
     "output_type": "display_data"
    }
   ],
   "source": [
    "plot_map()"
   ]
  },
  {
   "cell_type": "markdown",
   "metadata": {},
   "source": [
    "### **Graph**"
   ]
  },
  {
   "cell_type": "code",
   "execution_count": 1428,
   "metadata": {},
   "outputs": [],
   "source": [
    "last_days=30\n",
    "select_df=\"departments\"\n",
    "dep_number = \"75\""
   ]
  },
  {
   "cell_type": "code",
   "execution_count": 1429,
   "metadata": {},
   "outputs": [],
   "source": [
    "all_df={\"departments\":df_dep[df_dep[\"dep\"]==dep_number],\"country\":df_france}"
   ]
  },
  {
   "cell_type": "code",
   "execution_count": 1430,
   "metadata": {},
   "outputs": [
    {
     "data": {
      "text/html": [
       "<div>\n",
       "<style scoped>\n",
       "    .dataframe tbody tr th:only-of-type {\n",
       "        vertical-align: middle;\n",
       "    }\n",
       "\n",
       "    .dataframe tbody tr th {\n",
       "        vertical-align: top;\n",
       "    }\n",
       "\n",
       "    .dataframe thead th {\n",
       "        text-align: right;\n",
       "    }\n",
       "</style>\n",
       "<table border=\"1\" class=\"dataframe\">\n",
       "  <thead>\n",
       "    <tr style=\"text-align: right;\">\n",
       "      <th></th>\n",
       "      <th>jour</th>\n",
       "      <th>hosp</th>\n",
       "      <th>rea</th>\n",
       "      <th>rad</th>\n",
       "      <th>dc</th>\n",
       "      <th>nb_test</th>\n",
       "      <th>nb_pos</th>\n",
       "      <th>nb_test_cum</th>\n",
       "      <th>nb_pos_cum</th>\n",
       "      <th>lat</th>\n",
       "      <th>long</th>\n",
       "      <th>zoom</th>\n",
       "      <th>scaled</th>\n",
       "      <th>death_rate</th>\n",
       "      <th>new_death_rate</th>\n",
       "      <th>new_dc</th>\n",
       "    </tr>\n",
       "  </thead>\n",
       "  <tbody>\n",
       "    <tr>\n",
       "      <th>0</th>\n",
       "      <td>2020-03-18</td>\n",
       "      <td>2972</td>\n",
       "      <td>771</td>\n",
       "      <td>816</td>\n",
       "      <td>218</td>\n",
       "      <td>1571</td>\n",
       "      <td>394</td>\n",
       "      <td>1571</td>\n",
       "      <td>394</td>\n",
       "      <td>46.4</td>\n",
       "      <td>0.5</td>\n",
       "      <td>3.5</td>\n",
       "      <td>203.616730</td>\n",
       "      <td>55.33</td>\n",
       "      <td>55.33</td>\n",
       "      <td>218.0</td>\n",
       "    </tr>\n",
       "    <tr>\n",
       "      <th>1</th>\n",
       "      <td>2020-03-19</td>\n",
       "      <td>4073</td>\n",
       "      <td>1002</td>\n",
       "      <td>1180</td>\n",
       "      <td>327</td>\n",
       "      <td>2098</td>\n",
       "      <td>528</td>\n",
       "      <td>3669</td>\n",
       "      <td>922</td>\n",
       "      <td>46.4</td>\n",
       "      <td>0.5</td>\n",
       "      <td>3.5</td>\n",
       "      <td>417.529025</td>\n",
       "      <td>35.47</td>\n",
       "      <td>-19.86</td>\n",
       "      <td>109.0</td>\n",
       "    </tr>\n",
       "    <tr>\n",
       "      <th>2</th>\n",
       "      <td>2020-03-20</td>\n",
       "      <td>5226</td>\n",
       "      <td>1297</td>\n",
       "      <td>1587</td>\n",
       "      <td>450</td>\n",
       "      <td>2454</td>\n",
       "      <td>705</td>\n",
       "      <td>6123</td>\n",
       "      <td>1627</td>\n",
       "      <td>46.4</td>\n",
       "      <td>0.5</td>\n",
       "      <td>3.5</td>\n",
       "      <td>659.401414</td>\n",
       "      <td>27.66</td>\n",
       "      <td>-7.81</td>\n",
       "      <td>123.0</td>\n",
       "    </tr>\n",
       "    <tr>\n",
       "      <th>3</th>\n",
       "      <td>2020-03-21</td>\n",
       "      <td>5900</td>\n",
       "      <td>1453</td>\n",
       "      <td>1811</td>\n",
       "      <td>525</td>\n",
       "      <td>783</td>\n",
       "      <td>264</td>\n",
       "      <td>6906</td>\n",
       "      <td>1891</td>\n",
       "      <td>46.4</td>\n",
       "      <td>0.5</td>\n",
       "      <td>3.5</td>\n",
       "      <td>738.186095</td>\n",
       "      <td>27.76</td>\n",
       "      <td>0.10</td>\n",
       "      <td>75.0</td>\n",
       "    </tr>\n",
       "    <tr>\n",
       "      <th>4</th>\n",
       "      <td>2020-03-22</td>\n",
       "      <td>6954</td>\n",
       "      <td>1674</td>\n",
       "      <td>2117</td>\n",
       "      <td>632</td>\n",
       "      <td>555</td>\n",
       "      <td>250</td>\n",
       "      <td>7461</td>\n",
       "      <td>2141</td>\n",
       "      <td>46.4</td>\n",
       "      <td>0.5</td>\n",
       "      <td>3.5</td>\n",
       "      <td>802.354504</td>\n",
       "      <td>29.52</td>\n",
       "      <td>1.76</td>\n",
       "      <td>107.0</td>\n",
       "    </tr>\n",
       "  </tbody>\n",
       "</table>\n",
       "</div>"
      ],
      "text/plain": [
       "         jour  hosp   rea   rad   dc  nb_test  nb_pos  nb_test_cum  \\\n",
       "0  2020-03-18  2972   771   816  218     1571     394         1571   \n",
       "1  2020-03-19  4073  1002  1180  327     2098     528         3669   \n",
       "2  2020-03-20  5226  1297  1587  450     2454     705         6123   \n",
       "3  2020-03-21  5900  1453  1811  525      783     264         6906   \n",
       "4  2020-03-22  6954  1674  2117  632      555     250         7461   \n",
       "\n",
       "   nb_pos_cum   lat  long  zoom      scaled  death_rate  new_death_rate  \\\n",
       "0         394  46.4   0.5   3.5  203.616730       55.33           55.33   \n",
       "1         922  46.4   0.5   3.5  417.529025       35.47          -19.86   \n",
       "2        1627  46.4   0.5   3.5  659.401414       27.66           -7.81   \n",
       "3        1891  46.4   0.5   3.5  738.186095       27.76            0.10   \n",
       "4        2141  46.4   0.5   3.5  802.354504       29.52            1.76   \n",
       "\n",
       "   new_dc  \n",
       "0   218.0  \n",
       "1   109.0  \n",
       "2   123.0  \n",
       "3    75.0  \n",
       "4   107.0  "
      ]
     },
     "execution_count": 1430,
     "metadata": {},
     "output_type": "execute_result"
    }
   ],
   "source": [
    "df_france.head()"
   ]
  },
  {
   "cell_type": "markdown",
   "metadata": {},
   "source": [
    "1. **Confirmed Cases**"
   ]
  },
  {
   "cell_type": "code",
   "execution_count": 1431,
   "metadata": {},
   "outputs": [],
   "source": [
    "#z=df_dep[df_dep[\"dep\"]==dep_number]\n",
    "#z.tail()"
   ]
  },
  {
   "cell_type": "code",
   "execution_count": 1432,
   "metadata": {},
   "outputs": [],
   "source": [
    "def confirmed_cases(selected_df,last_days_nb):    \n",
    "    fig_confirmed = go.Figure()\n",
    "    fig_confirmed.add_trace(\n",
    "        go.Scatter(\n",
    "            x=selected_df['jour'].tail(last_days_nb),\n",
    "            y=selected_df['nb_pos_cum'].tail(last_days_nb),\n",
    "            mode=\"lines\",\n",
    "            line={\"color\":\"#f9d67a\"},\n",
    "            showlegend=False,\n",
    "            #name=\"Total Confirmed Cases\"\n",
    "        )\n",
    "    )\n",
    "    fig_confirmed.add_trace(\n",
    "        go.Bar(\n",
    "            x=selected_df['jour'].tail(last_days),\n",
    "            y=selected_df['nb_pos'].tail(last_days),\n",
    "            marker={\"color\":\"#f9d67a\"},\n",
    "            showlegend=False,\n",
    "            #name=\"New Confirmed Cases\",\n",
    "\n",
    "        )\n",
    "    )\n",
    "\n",
    "\n",
    "    # LINE CHART ANNOTATION\n",
    "    fig_confirmed.add_annotation(\n",
    "         x=selected_df['jour'].tail(1).tolist()[0],\n",
    "         y=selected_df['nb_pos_cum'].tail(1).tolist()[0],\n",
    "         text=\"Total Confirmed Cases\",\n",
    "         font={\"size\": 14,\"color\":\"#ffffff\"},\n",
    "         xshift=-220,  # Annotation x displacement!\n",
    "         showarrow=False,\n",
    "    )\n",
    "\n",
    "    # BAR CHART ANNOTATION\n",
    "    fig_confirmed.add_annotation(\n",
    "        x=selected_df['jour'].tail(1).tolist()[0],\n",
    "        y=selected_df['nb_pos'].tail(1).max(),\n",
    "        text=\"New Confirmed Cases\",\n",
    "        font={\"size\": 14, \"color\":\"#ffffff\"},\n",
    "        xshift=-60,  # Annotation x displacement!\n",
    "        yshift=20,  # Annotation y displacement!\n",
    "        showarrow=False,\n",
    "        )\n",
    "    fig_confirmed.update_layout(\n",
    "        template=\"plotly_dark\",\n",
    "        xaxis={\"title\":\"Dates\"},\n",
    "        yaxis={\"title\":\"Number of cases\"},\n",
    "        autosize=True,\n",
    "    )\n",
    "    fig_confirmed.show()"
   ]
  },
  {
   "cell_type": "code",
   "execution_count": 1433,
   "metadata": {},
   "outputs": [
    {
     "data": {
      "application/vnd.plotly.v1+json": {
       "config": {
        "plotlyServerURL": "https://plot.ly"
       },
       "data": [
        {
         "line": {
          "color": "#f9d67a"
         },
         "mode": "lines",
         "showlegend": false,
         "type": "scatter",
         "x": [
          "2020-10-06",
          "2020-10-07",
          "2020-10-08",
          "2020-10-09",
          "2020-10-10",
          "2020-10-11",
          "2020-10-12",
          "2020-10-13",
          "2020-10-14",
          "2020-10-15",
          "2020-10-16",
          "2020-10-17",
          "2020-10-18",
          "2020-10-19",
          "2020-10-20",
          "2020-10-21",
          "2020-10-22",
          "2020-10-23",
          "2020-10-24",
          "2020-10-25",
          "2020-10-26",
          "2020-10-27",
          "2020-10-28",
          "2020-10-29",
          "2020-10-30",
          "2020-10-31",
          "2020-11-01",
          "2020-11-02",
          "2020-11-03",
          "2020-11-04"
         ],
         "y": [
          45025,
          46637,
          48349,
          49978,
          50716,
          51010,
          53008,
          54747,
          56397,
          58102,
          59868,
          60712,
          61001,
          63211,
          65410,
          67667,
          69981,
          72246,
          73366,
          73710,
          76469,
          78772,
          80736,
          82516,
          84329,
          85207,
          85467,
          87396,
          88859,
          89965
         ]
        },
        {
         "marker": {
          "color": "#f9d67a"
         },
         "showlegend": false,
         "type": "bar",
         "x": [
          "2020-10-06",
          "2020-10-07",
          "2020-10-08",
          "2020-10-09",
          "2020-10-10",
          "2020-10-11",
          "2020-10-12",
          "2020-10-13",
          "2020-10-14",
          "2020-10-15",
          "2020-10-16",
          "2020-10-17",
          "2020-10-18",
          "2020-10-19",
          "2020-10-20",
          "2020-10-21",
          "2020-10-22",
          "2020-10-23",
          "2020-10-24",
          "2020-10-25",
          "2020-10-26",
          "2020-10-27",
          "2020-10-28",
          "2020-10-29",
          "2020-10-30",
          "2020-10-31",
          "2020-11-01",
          "2020-11-02",
          "2020-11-03",
          "2020-11-04"
         ],
         "y": [
          1611,
          1612,
          1712,
          1629,
          738,
          294,
          1998,
          1739,
          1650,
          1705,
          1766,
          844,
          289,
          2210,
          2199,
          2257,
          2314,
          2265,
          1120,
          344,
          2759,
          2303,
          1964,
          1780,
          1813,
          878,
          260,
          1929,
          1463,
          1106
         ]
        }
       ],
       "layout": {
        "annotations": [
         {
          "font": {
           "color": "#ffffff",
           "size": 14
          },
          "showarrow": false,
          "text": "Total Confirmed Cases",
          "x": "2020-11-04",
          "xshift": -220,
          "y": 89965
         },
         {
          "font": {
           "color": "#ffffff",
           "size": 14
          },
          "showarrow": false,
          "text": "New Confirmed Cases",
          "x": "2020-11-04",
          "xshift": -60,
          "y": 1106,
          "yshift": 20
         }
        ],
        "autosize": true,
        "template": {
         "data": {
          "bar": [
           {
            "error_x": {
             "color": "#f2f5fa"
            },
            "error_y": {
             "color": "#f2f5fa"
            },
            "marker": {
             "line": {
              "color": "rgb(17,17,17)",
              "width": 0.5
             }
            },
            "type": "bar"
           }
          ],
          "barpolar": [
           {
            "marker": {
             "line": {
              "color": "rgb(17,17,17)",
              "width": 0.5
             }
            },
            "type": "barpolar"
           }
          ],
          "carpet": [
           {
            "aaxis": {
             "endlinecolor": "#A2B1C6",
             "gridcolor": "#506784",
             "linecolor": "#506784",
             "minorgridcolor": "#506784",
             "startlinecolor": "#A2B1C6"
            },
            "baxis": {
             "endlinecolor": "#A2B1C6",
             "gridcolor": "#506784",
             "linecolor": "#506784",
             "minorgridcolor": "#506784",
             "startlinecolor": "#A2B1C6"
            },
            "type": "carpet"
           }
          ],
          "choropleth": [
           {
            "colorbar": {
             "outlinewidth": 0,
             "ticks": ""
            },
            "type": "choropleth"
           }
          ],
          "contour": [
           {
            "colorbar": {
             "outlinewidth": 0,
             "ticks": ""
            },
            "colorscale": [
             [
              0,
              "#0d0887"
             ],
             [
              0.1111111111111111,
              "#46039f"
             ],
             [
              0.2222222222222222,
              "#7201a8"
             ],
             [
              0.3333333333333333,
              "#9c179e"
             ],
             [
              0.4444444444444444,
              "#bd3786"
             ],
             [
              0.5555555555555556,
              "#d8576b"
             ],
             [
              0.6666666666666666,
              "#ed7953"
             ],
             [
              0.7777777777777778,
              "#fb9f3a"
             ],
             [
              0.8888888888888888,
              "#fdca26"
             ],
             [
              1,
              "#f0f921"
             ]
            ],
            "type": "contour"
           }
          ],
          "contourcarpet": [
           {
            "colorbar": {
             "outlinewidth": 0,
             "ticks": ""
            },
            "type": "contourcarpet"
           }
          ],
          "heatmap": [
           {
            "colorbar": {
             "outlinewidth": 0,
             "ticks": ""
            },
            "colorscale": [
             [
              0,
              "#0d0887"
             ],
             [
              0.1111111111111111,
              "#46039f"
             ],
             [
              0.2222222222222222,
              "#7201a8"
             ],
             [
              0.3333333333333333,
              "#9c179e"
             ],
             [
              0.4444444444444444,
              "#bd3786"
             ],
             [
              0.5555555555555556,
              "#d8576b"
             ],
             [
              0.6666666666666666,
              "#ed7953"
             ],
             [
              0.7777777777777778,
              "#fb9f3a"
             ],
             [
              0.8888888888888888,
              "#fdca26"
             ],
             [
              1,
              "#f0f921"
             ]
            ],
            "type": "heatmap"
           }
          ],
          "heatmapgl": [
           {
            "colorbar": {
             "outlinewidth": 0,
             "ticks": ""
            },
            "colorscale": [
             [
              0,
              "#0d0887"
             ],
             [
              0.1111111111111111,
              "#46039f"
             ],
             [
              0.2222222222222222,
              "#7201a8"
             ],
             [
              0.3333333333333333,
              "#9c179e"
             ],
             [
              0.4444444444444444,
              "#bd3786"
             ],
             [
              0.5555555555555556,
              "#d8576b"
             ],
             [
              0.6666666666666666,
              "#ed7953"
             ],
             [
              0.7777777777777778,
              "#fb9f3a"
             ],
             [
              0.8888888888888888,
              "#fdca26"
             ],
             [
              1,
              "#f0f921"
             ]
            ],
            "type": "heatmapgl"
           }
          ],
          "histogram": [
           {
            "marker": {
             "colorbar": {
              "outlinewidth": 0,
              "ticks": ""
             }
            },
            "type": "histogram"
           }
          ],
          "histogram2d": [
           {
            "colorbar": {
             "outlinewidth": 0,
             "ticks": ""
            },
            "colorscale": [
             [
              0,
              "#0d0887"
             ],
             [
              0.1111111111111111,
              "#46039f"
             ],
             [
              0.2222222222222222,
              "#7201a8"
             ],
             [
              0.3333333333333333,
              "#9c179e"
             ],
             [
              0.4444444444444444,
              "#bd3786"
             ],
             [
              0.5555555555555556,
              "#d8576b"
             ],
             [
              0.6666666666666666,
              "#ed7953"
             ],
             [
              0.7777777777777778,
              "#fb9f3a"
             ],
             [
              0.8888888888888888,
              "#fdca26"
             ],
             [
              1,
              "#f0f921"
             ]
            ],
            "type": "histogram2d"
           }
          ],
          "histogram2dcontour": [
           {
            "colorbar": {
             "outlinewidth": 0,
             "ticks": ""
            },
            "colorscale": [
             [
              0,
              "#0d0887"
             ],
             [
              0.1111111111111111,
              "#46039f"
             ],
             [
              0.2222222222222222,
              "#7201a8"
             ],
             [
              0.3333333333333333,
              "#9c179e"
             ],
             [
              0.4444444444444444,
              "#bd3786"
             ],
             [
              0.5555555555555556,
              "#d8576b"
             ],
             [
              0.6666666666666666,
              "#ed7953"
             ],
             [
              0.7777777777777778,
              "#fb9f3a"
             ],
             [
              0.8888888888888888,
              "#fdca26"
             ],
             [
              1,
              "#f0f921"
             ]
            ],
            "type": "histogram2dcontour"
           }
          ],
          "mesh3d": [
           {
            "colorbar": {
             "outlinewidth": 0,
             "ticks": ""
            },
            "type": "mesh3d"
           }
          ],
          "parcoords": [
           {
            "line": {
             "colorbar": {
              "outlinewidth": 0,
              "ticks": ""
             }
            },
            "type": "parcoords"
           }
          ],
          "pie": [
           {
            "automargin": true,
            "type": "pie"
           }
          ],
          "scatter": [
           {
            "marker": {
             "line": {
              "color": "#283442"
             }
            },
            "type": "scatter"
           }
          ],
          "scatter3d": [
           {
            "line": {
             "colorbar": {
              "outlinewidth": 0,
              "ticks": ""
             }
            },
            "marker": {
             "colorbar": {
              "outlinewidth": 0,
              "ticks": ""
             }
            },
            "type": "scatter3d"
           }
          ],
          "scattercarpet": [
           {
            "marker": {
             "colorbar": {
              "outlinewidth": 0,
              "ticks": ""
             }
            },
            "type": "scattercarpet"
           }
          ],
          "scattergeo": [
           {
            "marker": {
             "colorbar": {
              "outlinewidth": 0,
              "ticks": ""
             }
            },
            "type": "scattergeo"
           }
          ],
          "scattergl": [
           {
            "marker": {
             "line": {
              "color": "#283442"
             }
            },
            "type": "scattergl"
           }
          ],
          "scattermapbox": [
           {
            "marker": {
             "colorbar": {
              "outlinewidth": 0,
              "ticks": ""
             }
            },
            "type": "scattermapbox"
           }
          ],
          "scatterpolar": [
           {
            "marker": {
             "colorbar": {
              "outlinewidth": 0,
              "ticks": ""
             }
            },
            "type": "scatterpolar"
           }
          ],
          "scatterpolargl": [
           {
            "marker": {
             "colorbar": {
              "outlinewidth": 0,
              "ticks": ""
             }
            },
            "type": "scatterpolargl"
           }
          ],
          "scatterternary": [
           {
            "marker": {
             "colorbar": {
              "outlinewidth": 0,
              "ticks": ""
             }
            },
            "type": "scatterternary"
           }
          ],
          "surface": [
           {
            "colorbar": {
             "outlinewidth": 0,
             "ticks": ""
            },
            "colorscale": [
             [
              0,
              "#0d0887"
             ],
             [
              0.1111111111111111,
              "#46039f"
             ],
             [
              0.2222222222222222,
              "#7201a8"
             ],
             [
              0.3333333333333333,
              "#9c179e"
             ],
             [
              0.4444444444444444,
              "#bd3786"
             ],
             [
              0.5555555555555556,
              "#d8576b"
             ],
             [
              0.6666666666666666,
              "#ed7953"
             ],
             [
              0.7777777777777778,
              "#fb9f3a"
             ],
             [
              0.8888888888888888,
              "#fdca26"
             ],
             [
              1,
              "#f0f921"
             ]
            ],
            "type": "surface"
           }
          ],
          "table": [
           {
            "cells": {
             "fill": {
              "color": "#506784"
             },
             "line": {
              "color": "rgb(17,17,17)"
             }
            },
            "header": {
             "fill": {
              "color": "#2a3f5f"
             },
             "line": {
              "color": "rgb(17,17,17)"
             }
            },
            "type": "table"
           }
          ]
         },
         "layout": {
          "annotationdefaults": {
           "arrowcolor": "#f2f5fa",
           "arrowhead": 0,
           "arrowwidth": 1
          },
          "coloraxis": {
           "colorbar": {
            "outlinewidth": 0,
            "ticks": ""
           }
          },
          "colorscale": {
           "diverging": [
            [
             0,
             "#8e0152"
            ],
            [
             0.1,
             "#c51b7d"
            ],
            [
             0.2,
             "#de77ae"
            ],
            [
             0.3,
             "#f1b6da"
            ],
            [
             0.4,
             "#fde0ef"
            ],
            [
             0.5,
             "#f7f7f7"
            ],
            [
             0.6,
             "#e6f5d0"
            ],
            [
             0.7,
             "#b8e186"
            ],
            [
             0.8,
             "#7fbc41"
            ],
            [
             0.9,
             "#4d9221"
            ],
            [
             1,
             "#276419"
            ]
           ],
           "sequential": [
            [
             0,
             "#0d0887"
            ],
            [
             0.1111111111111111,
             "#46039f"
            ],
            [
             0.2222222222222222,
             "#7201a8"
            ],
            [
             0.3333333333333333,
             "#9c179e"
            ],
            [
             0.4444444444444444,
             "#bd3786"
            ],
            [
             0.5555555555555556,
             "#d8576b"
            ],
            [
             0.6666666666666666,
             "#ed7953"
            ],
            [
             0.7777777777777778,
             "#fb9f3a"
            ],
            [
             0.8888888888888888,
             "#fdca26"
            ],
            [
             1,
             "#f0f921"
            ]
           ],
           "sequentialminus": [
            [
             0,
             "#0d0887"
            ],
            [
             0.1111111111111111,
             "#46039f"
            ],
            [
             0.2222222222222222,
             "#7201a8"
            ],
            [
             0.3333333333333333,
             "#9c179e"
            ],
            [
             0.4444444444444444,
             "#bd3786"
            ],
            [
             0.5555555555555556,
             "#d8576b"
            ],
            [
             0.6666666666666666,
             "#ed7953"
            ],
            [
             0.7777777777777778,
             "#fb9f3a"
            ],
            [
             0.8888888888888888,
             "#fdca26"
            ],
            [
             1,
             "#f0f921"
            ]
           ]
          },
          "colorway": [
           "#636efa",
           "#EF553B",
           "#00cc96",
           "#ab63fa",
           "#FFA15A",
           "#19d3f3",
           "#FF6692",
           "#B6E880",
           "#FF97FF",
           "#FECB52"
          ],
          "font": {
           "color": "#f2f5fa"
          },
          "geo": {
           "bgcolor": "rgb(17,17,17)",
           "lakecolor": "rgb(17,17,17)",
           "landcolor": "rgb(17,17,17)",
           "showlakes": true,
           "showland": true,
           "subunitcolor": "#506784"
          },
          "hoverlabel": {
           "align": "left"
          },
          "hovermode": "closest",
          "mapbox": {
           "style": "dark"
          },
          "paper_bgcolor": "rgb(17,17,17)",
          "plot_bgcolor": "rgb(17,17,17)",
          "polar": {
           "angularaxis": {
            "gridcolor": "#506784",
            "linecolor": "#506784",
            "ticks": ""
           },
           "bgcolor": "rgb(17,17,17)",
           "radialaxis": {
            "gridcolor": "#506784",
            "linecolor": "#506784",
            "ticks": ""
           }
          },
          "scene": {
           "xaxis": {
            "backgroundcolor": "rgb(17,17,17)",
            "gridcolor": "#506784",
            "gridwidth": 2,
            "linecolor": "#506784",
            "showbackground": true,
            "ticks": "",
            "zerolinecolor": "#C8D4E3"
           },
           "yaxis": {
            "backgroundcolor": "rgb(17,17,17)",
            "gridcolor": "#506784",
            "gridwidth": 2,
            "linecolor": "#506784",
            "showbackground": true,
            "ticks": "",
            "zerolinecolor": "#C8D4E3"
           },
           "zaxis": {
            "backgroundcolor": "rgb(17,17,17)",
            "gridcolor": "#506784",
            "gridwidth": 2,
            "linecolor": "#506784",
            "showbackground": true,
            "ticks": "",
            "zerolinecolor": "#C8D4E3"
           }
          },
          "shapedefaults": {
           "line": {
            "color": "#f2f5fa"
           }
          },
          "sliderdefaults": {
           "bgcolor": "#C8D4E3",
           "bordercolor": "rgb(17,17,17)",
           "borderwidth": 1,
           "tickwidth": 0
          },
          "ternary": {
           "aaxis": {
            "gridcolor": "#506784",
            "linecolor": "#506784",
            "ticks": ""
           },
           "baxis": {
            "gridcolor": "#506784",
            "linecolor": "#506784",
            "ticks": ""
           },
           "bgcolor": "rgb(17,17,17)",
           "caxis": {
            "gridcolor": "#506784",
            "linecolor": "#506784",
            "ticks": ""
           }
          },
          "title": {
           "x": 0.05
          },
          "updatemenudefaults": {
           "bgcolor": "#506784",
           "borderwidth": 0
          },
          "xaxis": {
           "automargin": true,
           "gridcolor": "#283442",
           "linecolor": "#506784",
           "ticks": "",
           "title": {
            "standoff": 15
           },
           "zerolinecolor": "#283442",
           "zerolinewidth": 2
          },
          "yaxis": {
           "automargin": true,
           "gridcolor": "#283442",
           "linecolor": "#506784",
           "ticks": "",
           "title": {
            "standoff": 15
           },
           "zerolinecolor": "#283442",
           "zerolinewidth": 2
          }
         }
        },
        "xaxis": {
         "autorange": true,
         "range": [
          "2020-10-05 12:00",
          "2020-11-04 16:52:41.857"
         ],
         "title": {
          "text": "Dates"
         },
         "type": "date"
        },
        "yaxis": {
         "autorange": true,
         "range": [
          0,
          94700
         ],
         "title": {
          "text": "Number of cases"
         },
         "type": "linear"
        }
       }
      },
      "image/png": "[encoded data removed]",
      "text/html": [
       "<div>                            <div id=\"0819b1fc-99a1-469c-b7dd-bc178c33c35a\" class=\"plotly-graph-div\" style=\"height:525px; width:100%;\"></div>            <script type=\"text/javascript\">                require([\"plotly\"], function(Plotly) {                    window.PLOTLYENV=window.PLOTLYENV || {};                                    if (document.getElementById(\"0819b1fc-99a1-469c-b7dd-bc178c33c35a\")) {                    Plotly.newPlot(                        \"0819b1fc-99a1-469c-b7dd-bc178c33c35a\",                        [{\"line\": {\"color\": \"#f9d67a\"}, \"mode\": \"lines\", \"showlegend\": false, \"type\": \"scatter\", \"x\": [\"2020-10-06\", \"2020-10-07\", \"2020-10-08\", \"2020-10-09\", \"2020-10-10\", \"2020-10-11\", \"2020-10-12\", \"2020-10-13\", \"2020-10-14\", \"2020-10-15\", \"2020-10-16\", \"2020-10-17\", \"2020-10-18\", \"2020-10-19\", \"2020-10-20\", \"2020-10-21\", \"2020-10-22\", \"2020-10-23\", \"2020-10-24\", \"2020-10-25\", \"2020-10-26\", \"2020-10-27\", \"2020-10-28\", \"2020-10-29\", \"2020-10-30\", \"2020-10-31\", \"2020-11-01\", \"2020-11-02\", \"2020-11-03\", \"2020-11-04\"], \"y\": [45025, 46637, 48349, 49978, 50716, 51010, 53008, 54747, 56397, 58102, 59868, 60712, 61001, 63211, 65410, 67667, 69981, 72246, 73366, 73710, 76469, 78772, 80736, 82516, 84329, 85207, 85467, 87396, 88859, 89965]}, {\"marker\": {\"color\": \"#f9d67a\"}, \"showlegend\": false, \"type\": \"bar\", \"x\": [\"2020-10-06\", \"2020-10-07\", \"2020-10-08\", \"2020-10-09\", \"2020-10-10\", \"2020-10-11\", \"2020-10-12\", \"2020-10-13\", \"2020-10-14\", \"2020-10-15\", \"2020-10-16\", \"2020-10-17\", \"2020-10-18\", \"2020-10-19\", \"2020-10-20\", \"2020-10-21\", \"2020-10-22\", \"2020-10-23\", \"2020-10-24\", \"2020-10-25\", \"2020-10-26\", \"2020-10-27\", \"2020-10-28\", \"2020-10-29\", \"2020-10-30\", \"2020-10-31\", \"2020-11-01\", \"2020-11-02\", \"2020-11-03\", \"2020-11-04\"], \"y\": [1611, 1612, 1712, 1629, 738, 294, 1998, 1739, 1650, 1705, 1766, 844, 289, 2210, 2199, 2257, 2314, 2265, 1120, 344, 2759, 2303, 1964, 1780, 1813, 878, 260, 1929, 1463, 1106]}],                        {\"annotations\": [{\"font\": {\"color\": \"#ffffff\", \"size\": 14}, \"showarrow\": false, \"text\": \"Total Confirmed Cases\", \"x\": \"2020-11-04\", \"xshift\": -220, \"y\": 89965}, {\"font\": {\"color\": \"#ffffff\", \"size\": 14}, \"showarrow\": false, \"text\": \"New Confirmed Cases\", \"x\": \"2020-11-04\", \"xshift\": -60, \"y\": 1106, \"yshift\": 20}], \"autosize\": true, \"template\": {\"data\": {\"bar\": [{\"error_x\": {\"color\": \"#f2f5fa\"}, \"error_y\": {\"color\": \"#f2f5fa\"}, \"marker\": {\"line\": {\"color\": \"rgb(17,17,17)\", \"width\": 0.5}}, \"type\": \"bar\"}], \"barpolar\": [{\"marker\": {\"line\": {\"color\": \"rgb(17,17,17)\", \"width\": 0.5}}, \"type\": \"barpolar\"}], \"carpet\": [{\"aaxis\": {\"endlinecolor\": \"#A2B1C6\", \"gridcolor\": \"#506784\", \"linecolor\": \"#506784\", \"minorgridcolor\": \"#506784\", \"startlinecolor\": \"#A2B1C6\"}, \"baxis\": {\"endlinecolor\": \"#A2B1C6\", \"gridcolor\": \"#506784\", \"linecolor\": \"#506784\", \"minorgridcolor\": \"#506784\", \"startlinecolor\": \"#A2B1C6\"}, \"type\": \"carpet\"}], \"choropleth\": [{\"colorbar\": {\"outlinewidth\": 0, \"ticks\": \"\"}, \"type\": \"choropleth\"}], \"contour\": [{\"colorbar\": {\"outlinewidth\": 0, \"ticks\": \"\"}, \"colorscale\": [[0.0, \"#0d0887\"], [0.1111111111111111, \"#46039f\"], [0.2222222222222222, \"#7201a8\"], [0.3333333333333333, \"#9c179e\"], [0.4444444444444444, \"#bd3786\"], [0.5555555555555556, \"#d8576b\"], [0.6666666666666666, \"#ed7953\"], [0.7777777777777778, \"#fb9f3a\"], [0.8888888888888888, \"#fdca26\"], [1.0, \"#f0f921\"]], \"type\": \"contour\"}], \"contourcarpet\": [{\"colorbar\": {\"outlinewidth\": 0, \"ticks\": \"\"}, \"type\": \"contourcarpet\"}], \"heatmap\": [{\"colorbar\": {\"outlinewidth\": 0, \"ticks\": \"\"}, \"colorscale\": [[0.0, \"#0d0887\"], [0.1111111111111111, \"#46039f\"], [0.2222222222222222, \"#7201a8\"], [0.3333333333333333, \"#9c179e\"], [0.4444444444444444, \"#bd3786\"], [0.5555555555555556, \"#d8576b\"], [0.6666666666666666, \"#ed7953\"], [0.7777777777777778, \"#fb9f3a\"], [0.8888888888888888, \"#fdca26\"], [1.0, \"#f0f921\"]], \"type\": \"heatmap\"}], \"heatmapgl\": [{\"colorbar\": {\"outlinewidth\": 0, \"ticks\": \"\"}, \"colorscale\": [[0.0, \"#0d0887\"], [0.1111111111111111, \"#46039f\"], [0.2222222222222222, \"#7201a8\"], [0.3333333333333333, \"#9c179e\"], [0.4444444444444444, \"#bd3786\"], [0.5555555555555556, \"#d8576b\"], [0.6666666666666666, \"#ed7953\"], [0.7777777777777778, \"#fb9f3a\"], [0.8888888888888888, \"#fdca26\"], [1.0, \"#f0f921\"]], \"type\": \"heatmapgl\"}], \"histogram\": [{\"marker\": {\"colorbar\": {\"outlinewidth\": 0, \"ticks\": \"\"}}, \"type\": \"histogram\"}], \"histogram2d\": [{\"colorbar\": {\"outlinewidth\": 0, \"ticks\": \"\"}, \"colorscale\": [[0.0, \"#0d0887\"], [0.1111111111111111, \"#46039f\"], [0.2222222222222222, \"#7201a8\"], [0.3333333333333333, \"#9c179e\"], [0.4444444444444444, \"#bd3786\"], [0.5555555555555556, \"#d8576b\"], [0.6666666666666666, \"#ed7953\"], [0.7777777777777778, \"#fb9f3a\"], [0.8888888888888888, \"#fdca26\"], [1.0, \"#f0f921\"]], \"type\": \"histogram2d\"}], \"histogram2dcontour\": [{\"colorbar\": {\"outlinewidth\": 0, \"ticks\": \"\"}, \"colorscale\": [[0.0, \"#0d0887\"], [0.1111111111111111, \"#46039f\"], [0.2222222222222222, \"#7201a8\"], [0.3333333333333333, \"#9c179e\"], [0.4444444444444444, \"#bd3786\"], [0.5555555555555556, \"#d8576b\"], [0.6666666666666666, \"#ed7953\"], [0.7777777777777778, \"#fb9f3a\"], [0.8888888888888888, \"#fdca26\"], [1.0, \"#f0f921\"]], \"type\": \"histogram2dcontour\"}], \"mesh3d\": [{\"colorbar\": {\"outlinewidth\": 0, \"ticks\": \"\"}, \"type\": \"mesh3d\"}], \"parcoords\": [{\"line\": {\"colorbar\": {\"outlinewidth\": 0, \"ticks\": \"\"}}, \"type\": \"parcoords\"}], \"pie\": [{\"automargin\": true, \"type\": \"pie\"}], \"scatter\": [{\"marker\": {\"line\": {\"color\": \"#283442\"}}, \"type\": \"scatter\"}], \"scatter3d\": [{\"line\": {\"colorbar\": {\"outlinewidth\": 0, \"ticks\": \"\"}}, \"marker\": {\"colorbar\": {\"outlinewidth\": 0, \"ticks\": \"\"}}, \"type\": \"scatter3d\"}], \"scattercarpet\": [{\"marker\": {\"colorbar\": {\"outlinewidth\": 0, \"ticks\": \"\"}}, \"type\": \"scattercarpet\"}], \"scattergeo\": [{\"marker\": {\"colorbar\": {\"outlinewidth\": 0, \"ticks\": \"\"}}, \"type\": \"scattergeo\"}], \"scattergl\": [{\"marker\": {\"line\": {\"color\": \"#283442\"}}, \"type\": \"scattergl\"}], \"scattermapbox\": [{\"marker\": {\"colorbar\": {\"outlinewidth\": 0, \"ticks\": \"\"}}, \"type\": \"scattermapbox\"}], \"scatterpolar\": [{\"marker\": {\"colorbar\": {\"outlinewidth\": 0, \"ticks\": \"\"}}, \"type\": \"scatterpolar\"}], \"scatterpolargl\": [{\"marker\": {\"colorbar\": {\"outlinewidth\": 0, \"ticks\": \"\"}}, \"type\": \"scatterpolargl\"}], \"scatterternary\": [{\"marker\": {\"colorbar\": {\"outlinewidth\": 0, \"ticks\": \"\"}}, \"type\": \"scatterternary\"}], \"surface\": [{\"colorbar\": {\"outlinewidth\": 0, \"ticks\": \"\"}, \"colorscale\": [[0.0, \"#0d0887\"], [0.1111111111111111, \"#46039f\"], [0.2222222222222222, \"#7201a8\"], [0.3333333333333333, \"#9c179e\"], [0.4444444444444444, \"#bd3786\"], [0.5555555555555556, \"#d8576b\"], [0.6666666666666666, \"#ed7953\"], [0.7777777777777778, \"#fb9f3a\"], [0.8888888888888888, \"#fdca26\"], [1.0, \"#f0f921\"]], \"type\": \"surface\"}], \"table\": [{\"cells\": {\"fill\": {\"color\": \"#506784\"}, \"line\": {\"color\": \"rgb(17,17,17)\"}}, \"header\": {\"fill\": {\"color\": \"#2a3f5f\"}, \"line\": {\"color\": \"rgb(17,17,17)\"}}, \"type\": \"table\"}]}, \"layout\": {\"annotationdefaults\": {\"arrowcolor\": \"#f2f5fa\", \"arrowhead\": 0, \"arrowwidth\": 1}, \"coloraxis\": {\"colorbar\": {\"outlinewidth\": 0, \"ticks\": \"\"}}, \"colorscale\": {\"diverging\": [[0, \"#8e0152\"], [0.1, \"#c51b7d\"], [0.2, \"#de77ae\"], [0.3, \"#f1b6da\"], [0.4, \"#fde0ef\"], [0.5, \"#f7f7f7\"], [0.6, \"#e6f5d0\"], [0.7, \"#b8e186\"], [0.8, \"#7fbc41\"], [0.9, \"#4d9221\"], [1, \"#276419\"]], \"sequential\": [[0.0, \"#0d0887\"], [0.1111111111111111, \"#46039f\"], [0.2222222222222222, \"#7201a8\"], [0.3333333333333333, \"#9c179e\"], [0.4444444444444444, \"#bd3786\"], [0.5555555555555556, \"#d8576b\"], [0.6666666666666666, \"#ed7953\"], [0.7777777777777778, \"#fb9f3a\"], [0.8888888888888888, \"#fdca26\"], [1.0, \"#f0f921\"]], \"sequentialminus\": [[0.0, \"#0d0887\"], [0.1111111111111111, \"#46039f\"], [0.2222222222222222, \"#7201a8\"], [0.3333333333333333, \"#9c179e\"], [0.4444444444444444, \"#bd3786\"], [0.5555555555555556, \"#d8576b\"], [0.6666666666666666, \"#ed7953\"], [0.7777777777777778, \"#fb9f3a\"], [0.8888888888888888, \"#fdca26\"], [1.0, \"#f0f921\"]]}, \"colorway\": [\"#636efa\", \"#EF553B\", \"#00cc96\", \"#ab63fa\", \"#FFA15A\", \"#19d3f3\", \"#FF6692\", \"#B6E880\", \"#FF97FF\", \"#FECB52\"], \"font\": {\"color\": \"#f2f5fa\"}, \"geo\": {\"bgcolor\": \"rgb(17,17,17)\", \"lakecolor\": \"rgb(17,17,17)\", \"landcolor\": \"rgb(17,17,17)\", \"showlakes\": true, \"showland\": true, \"subunitcolor\": \"#506784\"}, \"hoverlabel\": {\"align\": \"left\"}, \"hovermode\": \"closest\", \"mapbox\": {\"style\": \"dark\"}, \"paper_bgcolor\": \"rgb(17,17,17)\", \"plot_bgcolor\": \"rgb(17,17,17)\", \"polar\": {\"angularaxis\": {\"gridcolor\": \"#506784\", \"linecolor\": \"#506784\", \"ticks\": \"\"}, \"bgcolor\": \"rgb(17,17,17)\", \"radialaxis\": {\"gridcolor\": \"#506784\", \"linecolor\": \"#506784\", \"ticks\": \"\"}}, \"scene\": {\"xaxis\": {\"backgroundcolor\": \"rgb(17,17,17)\", \"gridcolor\": \"#506784\", \"gridwidth\": 2, \"linecolor\": \"#506784\", \"showbackground\": true, \"ticks\": \"\", \"zerolinecolor\": \"#C8D4E3\"}, \"yaxis\": {\"backgroundcolor\": \"rgb(17,17,17)\", \"gridcolor\": \"#506784\", \"gridwidth\": 2, \"linecolor\": \"#506784\", \"showbackground\": true, \"ticks\": \"\", \"zerolinecolor\": \"#C8D4E3\"}, \"zaxis\": {\"backgroundcolor\": \"rgb(17,17,17)\", \"gridcolor\": \"#506784\", \"gridwidth\": 2, \"linecolor\": \"#506784\", \"showbackground\": true, \"ticks\": \"\", \"zerolinecolor\": \"#C8D4E3\"}}, \"shapedefaults\": {\"line\": {\"color\": \"#f2f5fa\"}}, \"sliderdefaults\": {\"bgcolor\": \"#C8D4E3\", \"bordercolor\": \"rgb(17,17,17)\", \"borderwidth\": 1, \"tickwidth\": 0}, \"ternary\": {\"aaxis\": {\"gridcolor\": \"#506784\", \"linecolor\": \"#506784\", \"ticks\": \"\"}, \"baxis\": {\"gridcolor\": \"#506784\", \"linecolor\": \"#506784\", \"ticks\": \"\"}, \"bgcolor\": \"rgb(17,17,17)\", \"caxis\": {\"gridcolor\": \"#506784\", \"linecolor\": \"#506784\", \"ticks\": \"\"}}, \"title\": {\"x\": 0.05}, \"updatemenudefaults\": {\"bgcolor\": \"#506784\", \"borderwidth\": 0}, \"xaxis\": {\"automargin\": true, \"gridcolor\": \"#283442\", \"linecolor\": \"#506784\", \"ticks\": \"\", \"title\": {\"standoff\": 15}, \"zerolinecolor\": \"#283442\", \"zerolinewidth\": 2}, \"yaxis\": {\"automargin\": true, \"gridcolor\": \"#283442\", \"linecolor\": \"#506784\", \"ticks\": \"\", \"title\": {\"standoff\": 15}, \"zerolinecolor\": \"#283442\", \"zerolinewidth\": 2}}}, \"xaxis\": {\"title\": {\"text\": \"Dates\"}}, \"yaxis\": {\"title\": {\"text\": \"Number of cases\"}}},                        {\"responsive\": true}                    ).then(function(){\n",
       "                            \n",
       "var gd = document.getElementById('0819b1fc-99a1-469c-b7dd-bc178c33c35a');\n",
       "var x = new MutationObserver(function (mutations, observer) {{\n",
       "        var display = window.getComputedStyle(gd).display;\n",
       "        if (!display || display === 'none') {{\n",
       "            console.log([gd, 'removed!']);\n",
       "            Plotly.purge(gd);\n",
       "            observer.disconnect();\n",
       "        }}\n",
       "}});\n",
       "\n",
       "// Listen for the removal of the full notebook cells\n",
       "var notebookContainer = gd.closest('#notebook-container');\n",
       "if (notebookContainer) {{\n",
       "    x.observe(notebookContainer, {childList: true});\n",
       "}}\n",
       "\n",
       "// Listen for the clearing of the current output cell\n",
       "var outputEl = gd.closest('.output');\n",
       "if (outputEl) {{\n",
       "    x.observe(outputEl, {childList: true});\n",
       "}}\n",
       "\n",
       "                        })                };                });            </script>        </div>"
      ]
     },
     "metadata": {},
     "output_type": "display_data"
    }
   ],
   "source": [
    "confirmed_cases(all_df[select_df],last_days)"
   ]
  },
  {
   "cell_type": "markdown",
   "metadata": {},
   "source": [
    "2. **Covid19 Deaths**"
   ]
  },
  {
   "cell_type": "code",
   "execution_count": 1434,
   "metadata": {},
   "outputs": [],
   "source": [
    "def covid_deaths(selected_df,last_days_nb):    \n",
    "    fig_confirmed = go.Figure()\n",
    "    fig_confirmed.add_trace(\n",
    "        go.Scatter(\n",
    "            x=selected_df['jour'].tail(last_days_nb),\n",
    "            y=selected_df['dc'].tail(last_days_nb),\n",
    "            mode=\"lines\",\n",
    "            line={\"color\":\"#C616C4\"},\n",
    "            showlegend=False,\n",
    "            #name=\"Total Confirmed Cases\"\n",
    "        )\n",
    "    )\n",
    "    fig_confirmed.add_trace(\n",
    "        go.Bar(\n",
    "            x=selected_df['jour'].tail(last_days_nb),\n",
    "            y=selected_df['new_dc'].tail(last_days_nb),\n",
    "            marker={\"color\":\"#C616C4\"},\n",
    "            showlegend=False,\n",
    "            #name=\"New Confirmed Cases\",\n",
    "\n",
    "        )\n",
    "    )\n",
    "\n",
    "\n",
    "    # LINE CHART ANNOTATION\n",
    "    fig_confirmed.add_annotation(\n",
    "         x=selected_df['jour'].tail(1).tolist()[0],\n",
    "         y=selected_df['dc'].tail(1).tolist()[0],\n",
    "         text=\"Total Deaths\",\n",
    "         font={\"size\": 14,\"color\":\"#ffffff\"},\n",
    "         xshift=-220,  # Annotation x displacement!\n",
    "         showarrow=False,\n",
    "    )\n",
    "\n",
    "    # BAR CHART ANNOTATION\n",
    "    fig_confirmed.add_annotation(\n",
    "        x=selected_df['jour'].tail(1).tolist()[0],\n",
    "        y=selected_df['new_dc'].tail(1).max(),\n",
    "        text=\"New Deaths\",\n",
    "        font={\"size\": 14, \"color\":\"#ffffff\"},\n",
    "        xshift=-60,  # Annotation x displacement!\n",
    "        yshift=20,  # Annotation y displacement!\n",
    "        showarrow=False,\n",
    "        )\n",
    "    fig_confirmed.update_layout(\n",
    "        template=\"plotly_dark\",\n",
    "        xaxis={\"title\":\"Dates\"},\n",
    "        yaxis={\"title\":\"Number of deaths\"},\n",
    "        autosize=True,\n",
    "    )\n",
    "    fig_confirmed.show()"
   ]
  },
  {
   "cell_type": "code",
   "execution_count": 1435,
   "metadata": {},
   "outputs": [
    {
     "data": {
      "application/vnd.plotly.v1+json": {
       "config": {
        "plotlyServerURL": "https://plot.ly"
       },
       "data": [
        {
         "line": {
          "color": "#C616C4"
         },
         "mode": "lines",
         "showlegend": false,
         "type": "scatter",
         "x": [
          "2020-10-06",
          "2020-10-07",
          "2020-10-08",
          "2020-10-09",
          "2020-10-10",
          "2020-10-11",
          "2020-10-12",
          "2020-10-13",
          "2020-10-14",
          "2020-10-15",
          "2020-10-16",
          "2020-10-17",
          "2020-10-18",
          "2020-10-19",
          "2020-10-20",
          "2020-10-21",
          "2020-10-22",
          "2020-10-23",
          "2020-10-24",
          "2020-10-25",
          "2020-10-26",
          "2020-10-27",
          "2020-10-28",
          "2020-10-29",
          "2020-10-30",
          "2020-10-31",
          "2020-11-01",
          "2020-11-02",
          "2020-11-03",
          "2020-11-04"
         ],
         "y": [
          1903,
          1906,
          1910,
          1913,
          1917,
          1920,
          1930,
          1938,
          1944,
          1947,
          1953,
          1958,
          1963,
          1973,
          1983,
          1990,
          1996,
          2007,
          2012,
          2019,
          2030,
          2047,
          2062,
          2069,
          2080,
          2091,
          2099,
          2116,
          2131,
          2146
         ]
        },
        {
         "marker": {
          "color": "#C616C4"
         },
         "showlegend": false,
         "type": "bar",
         "x": [
          "2020-10-06",
          "2020-10-07",
          "2020-10-08",
          "2020-10-09",
          "2020-10-10",
          "2020-10-11",
          "2020-10-12",
          "2020-10-13",
          "2020-10-14",
          "2020-10-15",
          "2020-10-16",
          "2020-10-17",
          "2020-10-18",
          "2020-10-19",
          "2020-10-20",
          "2020-10-21",
          "2020-10-22",
          "2020-10-23",
          "2020-10-24",
          "2020-10-25",
          "2020-10-26",
          "2020-10-27",
          "2020-10-28",
          "2020-10-29",
          "2020-10-30",
          "2020-10-31",
          "2020-11-01",
          "2020-11-02",
          "2020-11-03",
          "2020-11-04"
         ],
         "y": [
          2,
          3,
          4,
          3,
          4,
          3,
          10,
          8,
          6,
          3,
          6,
          5,
          5,
          10,
          10,
          7,
          6,
          11,
          5,
          7,
          11,
          17,
          15,
          7,
          11,
          11,
          8,
          17,
          15,
          15
         ]
        }
       ],
       "layout": {
        "annotations": [
         {
          "font": {
           "color": "#ffffff",
           "size": 14
          },
          "showarrow": false,
          "text": "Total Deaths",
          "x": "2020-11-04",
          "xshift": -220,
          "y": 2146
         },
         {
          "font": {
           "color": "#ffffff",
           "size": 14
          },
          "showarrow": false,
          "text": "New Deaths",
          "x": "2020-11-04",
          "xshift": -60,
          "y": 15,
          "yshift": 20
         }
        ],
        "autosize": true,
        "template": {
         "data": {
          "bar": [
           {
            "error_x": {
             "color": "#f2f5fa"
            },
            "error_y": {
             "color": "#f2f5fa"
            },
            "marker": {
             "line": {
              "color": "rgb(17,17,17)",
              "width": 0.5
             }
            },
            "type": "bar"
           }
          ],
          "barpolar": [
           {
            "marker": {
             "line": {
              "color": "rgb(17,17,17)",
              "width": 0.5
             }
            },
            "type": "barpolar"
           }
          ],
          "carpet": [
           {
            "aaxis": {
             "endlinecolor": "#A2B1C6",
             "gridcolor": "#506784",
             "linecolor": "#506784",
             "minorgridcolor": "#506784",
             "startlinecolor": "#A2B1C6"
            },
            "baxis": {
             "endlinecolor": "#A2B1C6",
             "gridcolor": "#506784",
             "linecolor": "#506784",
             "minorgridcolor": "#506784",
             "startlinecolor": "#A2B1C6"
            },
            "type": "carpet"
           }
          ],
          "choropleth": [
           {
            "colorbar": {
             "outlinewidth": 0,
             "ticks": ""
            },
            "type": "choropleth"
           }
          ],
          "contour": [
           {
            "colorbar": {
             "outlinewidth": 0,
             "ticks": ""
            },
            "colorscale": [
             [
              0,
              "#0d0887"
             ],
             [
              0.1111111111111111,
              "#46039f"
             ],
             [
              0.2222222222222222,
              "#7201a8"
             ],
             [
              0.3333333333333333,
              "#9c179e"
             ],
             [
              0.4444444444444444,
              "#bd3786"
             ],
             [
              0.5555555555555556,
              "#d8576b"
             ],
             [
              0.6666666666666666,
              "#ed7953"
             ],
             [
              0.7777777777777778,
              "#fb9f3a"
             ],
             [
              0.8888888888888888,
              "#fdca26"
             ],
             [
              1,
              "#f0f921"
             ]
            ],
            "type": "contour"
           }
          ],
          "contourcarpet": [
           {
            "colorbar": {
             "outlinewidth": 0,
             "ticks": ""
            },
            "type": "contourcarpet"
           }
          ],
          "heatmap": [
           {
            "colorbar": {
             "outlinewidth": 0,
             "ticks": ""
            },
            "colorscale": [
             [
              0,
              "#0d0887"
             ],
             [
              0.1111111111111111,
              "#46039f"
             ],
             [
              0.2222222222222222,
              "#7201a8"
             ],
             [
              0.3333333333333333,
              "#9c179e"
             ],
             [
              0.4444444444444444,
              "#bd3786"
             ],
             [
              0.5555555555555556,
              "#d8576b"
             ],
             [
              0.6666666666666666,
              "#ed7953"
             ],
             [
              0.7777777777777778,
              "#fb9f3a"
             ],
             [
              0.8888888888888888,
              "#fdca26"
             ],
             [
              1,
              "#f0f921"
             ]
            ],
            "type": "heatmap"
           }
          ],
          "heatmapgl": [
           {
            "colorbar": {
             "outlinewidth": 0,
             "ticks": ""
            },
            "colorscale": [
             [
              0,
              "#0d0887"
             ],
             [
              0.1111111111111111,
              "#46039f"
             ],
             [
              0.2222222222222222,
              "#7201a8"
             ],
             [
              0.3333333333333333,
              "#9c179e"
             ],
             [
              0.4444444444444444,
              "#bd3786"
             ],
             [
              0.5555555555555556,
              "#d8576b"
             ],
             [
              0.6666666666666666,
              "#ed7953"
             ],
             [
              0.7777777777777778,
              "#fb9f3a"
             ],
             [
              0.8888888888888888,
              "#fdca26"
             ],
             [
              1,
              "#f0f921"
             ]
            ],
            "type": "heatmapgl"
           }
          ],
          "histogram": [
           {
            "marker": {
             "colorbar": {
              "outlinewidth": 0,
              "ticks": ""
             }
            },
            "type": "histogram"
           }
          ],
          "histogram2d": [
           {
            "colorbar": {
             "outlinewidth": 0,
             "ticks": ""
            },
            "colorscale": [
             [
              0,
              "#0d0887"
             ],
             [
              0.1111111111111111,
              "#46039f"
             ],
             [
              0.2222222222222222,
              "#7201a8"
             ],
             [
              0.3333333333333333,
              "#9c179e"
             ],
             [
              0.4444444444444444,
              "#bd3786"
             ],
             [
              0.5555555555555556,
              "#d8576b"
             ],
             [
              0.6666666666666666,
              "#ed7953"
             ],
             [
              0.7777777777777778,
              "#fb9f3a"
             ],
             [
              0.8888888888888888,
              "#fdca26"
             ],
             [
              1,
              "#f0f921"
             ]
            ],
            "type": "histogram2d"
           }
          ],
          "histogram2dcontour": [
           {
            "colorbar": {
             "outlinewidth": 0,
             "ticks": ""
            },
            "colorscale": [
             [
              0,
              "#0d0887"
             ],
             [
              0.1111111111111111,
              "#46039f"
             ],
             [
              0.2222222222222222,
              "#7201a8"
             ],
             [
              0.3333333333333333,
              "#9c179e"
             ],
             [
              0.4444444444444444,
              "#bd3786"
             ],
             [
              0.5555555555555556,
              "#d8576b"
             ],
             [
              0.6666666666666666,
              "#ed7953"
             ],
             [
              0.7777777777777778,
              "#fb9f3a"
             ],
             [
              0.8888888888888888,
              "#fdca26"
             ],
             [
              1,
              "#f0f921"
             ]
            ],
            "type": "histogram2dcontour"
           }
          ],
          "mesh3d": [
           {
            "colorbar": {
             "outlinewidth": 0,
             "ticks": ""
            },
            "type": "mesh3d"
           }
          ],
          "parcoords": [
           {
            "line": {
             "colorbar": {
              "outlinewidth": 0,
              "ticks": ""
             }
            },
            "type": "parcoords"
           }
          ],
          "pie": [
           {
            "automargin": true,
            "type": "pie"
           }
          ],
          "scatter": [
           {
            "marker": {
             "line": {
              "color": "#283442"
             }
            },
            "type": "scatter"
           }
          ],
          "scatter3d": [
           {
            "line": {
             "colorbar": {
              "outlinewidth": 0,
              "ticks": ""
             }
            },
            "marker": {
             "colorbar": {
              "outlinewidth": 0,
              "ticks": ""
             }
            },
            "type": "scatter3d"
           }
          ],
          "scattercarpet": [
           {
            "marker": {
             "colorbar": {
              "outlinewidth": 0,
              "ticks": ""
             }
            },
            "type": "scattercarpet"
           }
          ],
          "scattergeo": [
           {
            "marker": {
             "colorbar": {
              "outlinewidth": 0,
              "ticks": ""
             }
            },
            "type": "scattergeo"
           }
          ],
          "scattergl": [
           {
            "marker": {
             "line": {
              "color": "#283442"
             }
            },
            "type": "scattergl"
           }
          ],
          "scattermapbox": [
           {
            "marker": {
             "colorbar": {
              "outlinewidth": 0,
              "ticks": ""
             }
            },
            "type": "scattermapbox"
           }
          ],
          "scatterpolar": [
           {
            "marker": {
             "colorbar": {
              "outlinewidth": 0,
              "ticks": ""
             }
            },
            "type": "scatterpolar"
           }
          ],
          "scatterpolargl": [
           {
            "marker": {
             "colorbar": {
              "outlinewidth": 0,
              "ticks": ""
             }
            },
            "type": "scatterpolargl"
           }
          ],
          "scatterternary": [
           {
            "marker": {
             "colorbar": {
              "outlinewidth": 0,
              "ticks": ""
             }
            },
            "type": "scatterternary"
           }
          ],
          "surface": [
           {
            "colorbar": {
             "outlinewidth": 0,
             "ticks": ""
            },
            "colorscale": [
             [
              0,
              "#0d0887"
             ],
             [
              0.1111111111111111,
              "#46039f"
             ],
             [
              0.2222222222222222,
              "#7201a8"
             ],
             [
              0.3333333333333333,
              "#9c179e"
             ],
             [
              0.4444444444444444,
              "#bd3786"
             ],
             [
              0.5555555555555556,
              "#d8576b"
             ],
             [
              0.6666666666666666,
              "#ed7953"
             ],
             [
              0.7777777777777778,
              "#fb9f3a"
             ],
             [
              0.8888888888888888,
              "#fdca26"
             ],
             [
              1,
              "#f0f921"
             ]
            ],
            "type": "surface"
           }
          ],
          "table": [
           {
            "cells": {
             "fill": {
              "color": "#506784"
             },
             "line": {
              "color": "rgb(17,17,17)"
             }
            },
            "header": {
             "fill": {
              "color": "#2a3f5f"
             },
             "line": {
              "color": "rgb(17,17,17)"
             }
            },
            "type": "table"
           }
          ]
         },
         "layout": {
          "annotationdefaults": {
           "arrowcolor": "#f2f5fa",
           "arrowhead": 0,
           "arrowwidth": 1
          },
          "coloraxis": {
           "colorbar": {
            "outlinewidth": 0,
            "ticks": ""
           }
          },
          "colorscale": {
           "diverging": [
            [
             0,
             "#8e0152"
            ],
            [
             0.1,
             "#c51b7d"
            ],
            [
             0.2,
             "#de77ae"
            ],
            [
             0.3,
             "#f1b6da"
            ],
            [
             0.4,
             "#fde0ef"
            ],
            [
             0.5,
             "#f7f7f7"
            ],
            [
             0.6,
             "#e6f5d0"
            ],
            [
             0.7,
             "#b8e186"
            ],
            [
             0.8,
             "#7fbc41"
            ],
            [
             0.9,
             "#4d9221"
            ],
            [
             1,
             "#276419"
            ]
           ],
           "sequential": [
            [
             0,
             "#0d0887"
            ],
            [
             0.1111111111111111,
             "#46039f"
            ],
            [
             0.2222222222222222,
             "#7201a8"
            ],
            [
             0.3333333333333333,
             "#9c179e"
            ],
            [
             0.4444444444444444,
             "#bd3786"
            ],
            [
             0.5555555555555556,
             "#d8576b"
            ],
            [
             0.6666666666666666,
             "#ed7953"
            ],
            [
             0.7777777777777778,
             "#fb9f3a"
            ],
            [
             0.8888888888888888,
             "#fdca26"
            ],
            [
             1,
             "#f0f921"
            ]
           ],
           "sequentialminus": [
            [
             0,
             "#0d0887"
            ],
            [
             0.1111111111111111,
             "#46039f"
            ],
            [
             0.2222222222222222,
             "#7201a8"
            ],
            [
             0.3333333333333333,
             "#9c179e"
            ],
            [
             0.4444444444444444,
             "#bd3786"
            ],
            [
             0.5555555555555556,
             "#d8576b"
            ],
            [
             0.6666666666666666,
             "#ed7953"
            ],
            [
             0.7777777777777778,
             "#fb9f3a"
            ],
            [
             0.8888888888888888,
             "#fdca26"
            ],
            [
             1,
             "#f0f921"
            ]
           ]
          },
          "colorway": [
           "#636efa",
           "#EF553B",
           "#00cc96",
           "#ab63fa",
           "#FFA15A",
           "#19d3f3",
           "#FF6692",
           "#B6E880",
           "#FF97FF",
           "#FECB52"
          ],
          "font": {
           "color": "#f2f5fa"
          },
          "geo": {
           "bgcolor": "rgb(17,17,17)",
           "lakecolor": "rgb(17,17,17)",
           "landcolor": "rgb(17,17,17)",
           "showlakes": true,
           "showland": true,
           "subunitcolor": "#506784"
          },
          "hoverlabel": {
           "align": "left"
          },
          "hovermode": "closest",
          "mapbox": {
           "style": "dark"
          },
          "paper_bgcolor": "rgb(17,17,17)",
          "plot_bgcolor": "rgb(17,17,17)",
          "polar": {
           "angularaxis": {
            "gridcolor": "#506784",
            "linecolor": "#506784",
            "ticks": ""
           },
           "bgcolor": "rgb(17,17,17)",
           "radialaxis": {
            "gridcolor": "#506784",
            "linecolor": "#506784",
            "ticks": ""
           }
          },
          "scene": {
           "xaxis": {
            "backgroundcolor": "rgb(17,17,17)",
            "gridcolor": "#506784",
            "gridwidth": 2,
            "linecolor": "#506784",
            "showbackground": true,
            "ticks": "",
            "zerolinecolor": "#C8D4E3"
           },
           "yaxis": {
            "backgroundcolor": "rgb(17,17,17)",
            "gridcolor": "#506784",
            "gridwidth": 2,
            "linecolor": "#506784",
            "showbackground": true,
            "ticks": "",
            "zerolinecolor": "#C8D4E3"
           },
           "zaxis": {
            "backgroundcolor": "rgb(17,17,17)",
            "gridcolor": "#506784",
            "gridwidth": 2,
            "linecolor": "#506784",
            "showbackground": true,
            "ticks": "",
            "zerolinecolor": "#C8D4E3"
           }
          },
          "shapedefaults": {
           "line": {
            "color": "#f2f5fa"
           }
          },
          "sliderdefaults": {
           "bgcolor": "#C8D4E3",
           "bordercolor": "rgb(17,17,17)",
           "borderwidth": 1,
           "tickwidth": 0
          },
          "ternary": {
           "aaxis": {
            "gridcolor": "#506784",
            "linecolor": "#506784",
            "ticks": ""
           },
           "baxis": {
            "gridcolor": "#506784",
            "linecolor": "#506784",
            "ticks": ""
           },
           "bgcolor": "rgb(17,17,17)",
           "caxis": {
            "gridcolor": "#506784",
            "linecolor": "#506784",
            "ticks": ""
           }
          },
          "title": {
           "x": 0.05
          },
          "updatemenudefaults": {
           "bgcolor": "#506784",
           "borderwidth": 0
          },
          "xaxis": {
           "automargin": true,
           "gridcolor": "#283442",
           "linecolor": "#506784",
           "ticks": "",
           "title": {
            "standoff": 15
           },
           "zerolinecolor": "#283442",
           "zerolinewidth": 2
          },
          "yaxis": {
           "automargin": true,
           "gridcolor": "#283442",
           "linecolor": "#506784",
           "ticks": "",
           "title": {
            "standoff": 15
           },
           "zerolinecolor": "#283442",
           "zerolinewidth": 2
          }
         }
        },
        "xaxis": {
         "autorange": true,
         "range": [
          "2020-10-05 12:00",
          "2020-11-04 12:00"
         ],
         "title": {
          "text": "Dates"
         },
         "type": "date"
        },
        "yaxis": {
         "autorange": true,
         "range": [
          0,
          2258.9473684210525
         ],
         "title": {
          "text": "Number of deaths"
         },
         "type": "linear"
        }
       }
      },
      "image/png": "[encoded data removed]",
      "text/html": [
       "<div>                            <div id=\"cf782ceb-d4da-45a1-932c-2c8e2d13a51e\" class=\"plotly-graph-div\" style=\"height:525px; width:100%;\"></div>            <script type=\"text/javascript\">                require([\"plotly\"], function(Plotly) {                    window.PLOTLYENV=window.PLOTLYENV || {};                                    if (document.getElementById(\"cf782ceb-d4da-45a1-932c-2c8e2d13a51e\")) {                    Plotly.newPlot(                        \"cf782ceb-d4da-45a1-932c-2c8e2d13a51e\",                        [{\"line\": {\"color\": \"#C616C4\"}, \"mode\": \"lines\", \"showlegend\": false, \"type\": \"scatter\", \"x\": [\"2020-10-06\", \"2020-10-07\", \"2020-10-08\", \"2020-10-09\", \"2020-10-10\", \"2020-10-11\", \"2020-10-12\", \"2020-10-13\", \"2020-10-14\", \"2020-10-15\", \"2020-10-16\", \"2020-10-17\", \"2020-10-18\", \"2020-10-19\", \"2020-10-20\", \"2020-10-21\", \"2020-10-22\", \"2020-10-23\", \"2020-10-24\", \"2020-10-25\", \"2020-10-26\", \"2020-10-27\", \"2020-10-28\", \"2020-10-29\", \"2020-10-30\", \"2020-10-31\", \"2020-11-01\", \"2020-11-02\", \"2020-11-03\", \"2020-11-04\"], \"y\": [1903, 1906, 1910, 1913, 1917, 1920, 1930, 1938, 1944, 1947, 1953, 1958, 1963, 1973, 1983, 1990, 1996, 2007, 2012, 2019, 2030, 2047, 2062, 2069, 2080, 2091, 2099, 2116, 2131, 2146]}, {\"marker\": {\"color\": \"#C616C4\"}, \"showlegend\": false, \"type\": \"bar\", \"x\": [\"2020-10-06\", \"2020-10-07\", \"2020-10-08\", \"2020-10-09\", \"2020-10-10\", \"2020-10-11\", \"2020-10-12\", \"2020-10-13\", \"2020-10-14\", \"2020-10-15\", \"2020-10-16\", \"2020-10-17\", \"2020-10-18\", \"2020-10-19\", \"2020-10-20\", \"2020-10-21\", \"2020-10-22\", \"2020-10-23\", \"2020-10-24\", \"2020-10-25\", \"2020-10-26\", \"2020-10-27\", \"2020-10-28\", \"2020-10-29\", \"2020-10-30\", \"2020-10-31\", \"2020-11-01\", \"2020-11-02\", \"2020-11-03\", \"2020-11-04\"], \"y\": [2.0, 3.0, 4.0, 3.0, 4.0, 3.0, 10.0, 8.0, 6.0, 3.0, 6.0, 5.0, 5.0, 10.0, 10.0, 7.0, 6.0, 11.0, 5.0, 7.0, 11.0, 17.0, 15.0, 7.0, 11.0, 11.0, 8.0, 17.0, 15.0, 15.0]}],                        {\"annotations\": [{\"font\": {\"color\": \"#ffffff\", \"size\": 14}, \"showarrow\": false, \"text\": \"Total Deaths\", \"x\": \"2020-11-04\", \"xshift\": -220, \"y\": 2146}, {\"font\": {\"color\": \"#ffffff\", \"size\": 14}, \"showarrow\": false, \"text\": \"New Deaths\", \"x\": \"2020-11-04\", \"xshift\": -60, \"y\": 15.0, \"yshift\": 20}], \"autosize\": true, \"template\": {\"data\": {\"bar\": [{\"error_x\": {\"color\": \"#f2f5fa\"}, \"error_y\": {\"color\": \"#f2f5fa\"}, \"marker\": {\"line\": {\"color\": \"rgb(17,17,17)\", \"width\": 0.5}}, \"type\": \"bar\"}], \"barpolar\": [{\"marker\": {\"line\": {\"color\": \"rgb(17,17,17)\", \"width\": 0.5}}, \"type\": \"barpolar\"}], \"carpet\": [{\"aaxis\": {\"endlinecolor\": \"#A2B1C6\", \"gridcolor\": \"#506784\", \"linecolor\": \"#506784\", \"minorgridcolor\": \"#506784\", \"startlinecolor\": \"#A2B1C6\"}, \"baxis\": {\"endlinecolor\": \"#A2B1C6\", \"gridcolor\": \"#506784\", \"linecolor\": \"#506784\", \"minorgridcolor\": \"#506784\", \"startlinecolor\": \"#A2B1C6\"}, \"type\": \"carpet\"}], \"choropleth\": [{\"colorbar\": {\"outlinewidth\": 0, \"ticks\": \"\"}, \"type\": \"choropleth\"}], \"contour\": [{\"colorbar\": {\"outlinewidth\": 0, \"ticks\": \"\"}, \"colorscale\": [[0.0, \"#0d0887\"], [0.1111111111111111, \"#46039f\"], [0.2222222222222222, \"#7201a8\"], [0.3333333333333333, \"#9c179e\"], [0.4444444444444444, \"#bd3786\"], [0.5555555555555556, \"#d8576b\"], [0.6666666666666666, \"#ed7953\"], [0.7777777777777778, \"#fb9f3a\"], [0.8888888888888888, \"#fdca26\"], [1.0, \"#f0f921\"]], \"type\": \"contour\"}], \"contourcarpet\": [{\"colorbar\": {\"outlinewidth\": 0, \"ticks\": \"\"}, \"type\": \"contourcarpet\"}], \"heatmap\": [{\"colorbar\": {\"outlinewidth\": 0, \"ticks\": \"\"}, \"colorscale\": [[0.0, \"#0d0887\"], [0.1111111111111111, \"#46039f\"], [0.2222222222222222, \"#7201a8\"], [0.3333333333333333, \"#9c179e\"], [0.4444444444444444, \"#bd3786\"], [0.5555555555555556, \"#d8576b\"], [0.6666666666666666, \"#ed7953\"], [0.7777777777777778, \"#fb9f3a\"], [0.8888888888888888, \"#fdca26\"], [1.0, \"#f0f921\"]], \"type\": \"heatmap\"}], \"heatmapgl\": [{\"colorbar\": {\"outlinewidth\": 0, \"ticks\": \"\"}, \"colorscale\": [[0.0, \"#0d0887\"], [0.1111111111111111, \"#46039f\"], [0.2222222222222222, \"#7201a8\"], [0.3333333333333333, \"#9c179e\"], [0.4444444444444444, \"#bd3786\"], [0.5555555555555556, \"#d8576b\"], [0.6666666666666666, \"#ed7953\"], [0.7777777777777778, \"#fb9f3a\"], [0.8888888888888888, \"#fdca26\"], [1.0, \"#f0f921\"]], \"type\": \"heatmapgl\"}], \"histogram\": [{\"marker\": {\"colorbar\": {\"outlinewidth\": 0, \"ticks\": \"\"}}, \"type\": \"histogram\"}], \"histogram2d\": [{\"colorbar\": {\"outlinewidth\": 0, \"ticks\": \"\"}, \"colorscale\": [[0.0, \"#0d0887\"], [0.1111111111111111, \"#46039f\"], [0.2222222222222222, \"#7201a8\"], [0.3333333333333333, \"#9c179e\"], [0.4444444444444444, \"#bd3786\"], [0.5555555555555556, \"#d8576b\"], [0.6666666666666666, \"#ed7953\"], [0.7777777777777778, \"#fb9f3a\"], [0.8888888888888888, \"#fdca26\"], [1.0, \"#f0f921\"]], \"type\": \"histogram2d\"}], \"histogram2dcontour\": [{\"colorbar\": {\"outlinewidth\": 0, \"ticks\": \"\"}, \"colorscale\": [[0.0, \"#0d0887\"], [0.1111111111111111, \"#46039f\"], [0.2222222222222222, \"#7201a8\"], [0.3333333333333333, \"#9c179e\"], [0.4444444444444444, \"#bd3786\"], [0.5555555555555556, \"#d8576b\"], [0.6666666666666666, \"#ed7953\"], [0.7777777777777778, \"#fb9f3a\"], [0.8888888888888888, \"#fdca26\"], [1.0, \"#f0f921\"]], \"type\": \"histogram2dcontour\"}], \"mesh3d\": [{\"colorbar\": {\"outlinewidth\": 0, \"ticks\": \"\"}, \"type\": \"mesh3d\"}], \"parcoords\": [{\"line\": {\"colorbar\": {\"outlinewidth\": 0, \"ticks\": \"\"}}, \"type\": \"parcoords\"}], \"pie\": [{\"automargin\": true, \"type\": \"pie\"}], \"scatter\": [{\"marker\": {\"line\": {\"color\": \"#283442\"}}, \"type\": \"scatter\"}], \"scatter3d\": [{\"line\": {\"colorbar\": {\"outlinewidth\": 0, \"ticks\": \"\"}}, \"marker\": {\"colorbar\": {\"outlinewidth\": 0, \"ticks\": \"\"}}, \"type\": \"scatter3d\"}], \"scattercarpet\": [{\"marker\": {\"colorbar\": {\"outlinewidth\": 0, \"ticks\": \"\"}}, \"type\": \"scattercarpet\"}], \"scattergeo\": [{\"marker\": {\"colorbar\": {\"outlinewidth\": 0, \"ticks\": \"\"}}, \"type\": \"scattergeo\"}], \"scattergl\": [{\"marker\": {\"line\": {\"color\": \"#283442\"}}, \"type\": \"scattergl\"}], \"scattermapbox\": [{\"marker\": {\"colorbar\": {\"outlinewidth\": 0, \"ticks\": \"\"}}, \"type\": \"scattermapbox\"}], \"scatterpolar\": [{\"marker\": {\"colorbar\": {\"outlinewidth\": 0, \"ticks\": \"\"}}, \"type\": \"scatterpolar\"}], \"scatterpolargl\": [{\"marker\": {\"colorbar\": {\"outlinewidth\": 0, \"ticks\": \"\"}}, \"type\": \"scatterpolargl\"}], \"scatterternary\": [{\"marker\": {\"colorbar\": {\"outlinewidth\": 0, \"ticks\": \"\"}}, \"type\": \"scatterternary\"}], \"surface\": [{\"colorbar\": {\"outlinewidth\": 0, \"ticks\": \"\"}, \"colorscale\": [[0.0, \"#0d0887\"], [0.1111111111111111, \"#46039f\"], [0.2222222222222222, \"#7201a8\"], [0.3333333333333333, \"#9c179e\"], [0.4444444444444444, \"#bd3786\"], [0.5555555555555556, \"#d8576b\"], [0.6666666666666666, \"#ed7953\"], [0.7777777777777778, \"#fb9f3a\"], [0.8888888888888888, \"#fdca26\"], [1.0, \"#f0f921\"]], \"type\": \"surface\"}], \"table\": [{\"cells\": {\"fill\": {\"color\": \"#506784\"}, \"line\": {\"color\": \"rgb(17,17,17)\"}}, \"header\": {\"fill\": {\"color\": \"#2a3f5f\"}, \"line\": {\"color\": \"rgb(17,17,17)\"}}, \"type\": \"table\"}]}, \"layout\": {\"annotationdefaults\": {\"arrowcolor\": \"#f2f5fa\", \"arrowhead\": 0, \"arrowwidth\": 1}, \"coloraxis\": {\"colorbar\": {\"outlinewidth\": 0, \"ticks\": \"\"}}, \"colorscale\": {\"diverging\": [[0, \"#8e0152\"], [0.1, \"#c51b7d\"], [0.2, \"#de77ae\"], [0.3, \"#f1b6da\"], [0.4, \"#fde0ef\"], [0.5, \"#f7f7f7\"], [0.6, \"#e6f5d0\"], [0.7, \"#b8e186\"], [0.8, \"#7fbc41\"], [0.9, \"#4d9221\"], [1, \"#276419\"]], \"sequential\": [[0.0, \"#0d0887\"], [0.1111111111111111, \"#46039f\"], [0.2222222222222222, \"#7201a8\"], [0.3333333333333333, \"#9c179e\"], [0.4444444444444444, \"#bd3786\"], [0.5555555555555556, \"#d8576b\"], [0.6666666666666666, \"#ed7953\"], [0.7777777777777778, \"#fb9f3a\"], [0.8888888888888888, \"#fdca26\"], [1.0, \"#f0f921\"]], \"sequentialminus\": [[0.0, \"#0d0887\"], [0.1111111111111111, \"#46039f\"], [0.2222222222222222, \"#7201a8\"], [0.3333333333333333, \"#9c179e\"], [0.4444444444444444, \"#bd3786\"], [0.5555555555555556, \"#d8576b\"], [0.6666666666666666, \"#ed7953\"], [0.7777777777777778, \"#fb9f3a\"], [0.8888888888888888, \"#fdca26\"], [1.0, \"#f0f921\"]]}, \"colorway\": [\"#636efa\", \"#EF553B\", \"#00cc96\", \"#ab63fa\", \"#FFA15A\", \"#19d3f3\", \"#FF6692\", \"#B6E880\", \"#FF97FF\", \"#FECB52\"], \"font\": {\"color\": \"#f2f5fa\"}, \"geo\": {\"bgcolor\": \"rgb(17,17,17)\", \"lakecolor\": \"rgb(17,17,17)\", \"landcolor\": \"rgb(17,17,17)\", \"showlakes\": true, \"showland\": true, \"subunitcolor\": \"#506784\"}, \"hoverlabel\": {\"align\": \"left\"}, \"hovermode\": \"closest\", \"mapbox\": {\"style\": \"dark\"}, \"paper_bgcolor\": \"rgb(17,17,17)\", \"plot_bgcolor\": \"rgb(17,17,17)\", \"polar\": {\"angularaxis\": {\"gridcolor\": \"#506784\", \"linecolor\": \"#506784\", \"ticks\": \"\"}, \"bgcolor\": \"rgb(17,17,17)\", \"radialaxis\": {\"gridcolor\": \"#506784\", \"linecolor\": \"#506784\", \"ticks\": \"\"}}, \"scene\": {\"xaxis\": {\"backgroundcolor\": \"rgb(17,17,17)\", \"gridcolor\": \"#506784\", \"gridwidth\": 2, \"linecolor\": \"#506784\", \"showbackground\": true, \"ticks\": \"\", \"zerolinecolor\": \"#C8D4E3\"}, \"yaxis\": {\"backgroundcolor\": \"rgb(17,17,17)\", \"gridcolor\": \"#506784\", \"gridwidth\": 2, \"linecolor\": \"#506784\", \"showbackground\": true, \"ticks\": \"\", \"zerolinecolor\": \"#C8D4E3\"}, \"zaxis\": {\"backgroundcolor\": \"rgb(17,17,17)\", \"gridcolor\": \"#506784\", \"gridwidth\": 2, \"linecolor\": \"#506784\", \"showbackground\": true, \"ticks\": \"\", \"zerolinecolor\": \"#C8D4E3\"}}, \"shapedefaults\": {\"line\": {\"color\": \"#f2f5fa\"}}, \"sliderdefaults\": {\"bgcolor\": \"#C8D4E3\", \"bordercolor\": \"rgb(17,17,17)\", \"borderwidth\": 1, \"tickwidth\": 0}, \"ternary\": {\"aaxis\": {\"gridcolor\": \"#506784\", \"linecolor\": \"#506784\", \"ticks\": \"\"}, \"baxis\": {\"gridcolor\": \"#506784\", \"linecolor\": \"#506784\", \"ticks\": \"\"}, \"bgcolor\": \"rgb(17,17,17)\", \"caxis\": {\"gridcolor\": \"#506784\", \"linecolor\": \"#506784\", \"ticks\": \"\"}}, \"title\": {\"x\": 0.05}, \"updatemenudefaults\": {\"bgcolor\": \"#506784\", \"borderwidth\": 0}, \"xaxis\": {\"automargin\": true, \"gridcolor\": \"#283442\", \"linecolor\": \"#506784\", \"ticks\": \"\", \"title\": {\"standoff\": 15}, \"zerolinecolor\": \"#283442\", \"zerolinewidth\": 2}, \"yaxis\": {\"automargin\": true, \"gridcolor\": \"#283442\", \"linecolor\": \"#506784\", \"ticks\": \"\", \"title\": {\"standoff\": 15}, \"zerolinecolor\": \"#283442\", \"zerolinewidth\": 2}}}, \"xaxis\": {\"title\": {\"text\": \"Dates\"}}, \"yaxis\": {\"title\": {\"text\": \"Number of deaths\"}}},                        {\"responsive\": true}                    ).then(function(){\n",
       "                            \n",
       "var gd = document.getElementById('cf782ceb-d4da-45a1-932c-2c8e2d13a51e');\n",
       "var x = new MutationObserver(function (mutations, observer) {{\n",
       "        var display = window.getComputedStyle(gd).display;\n",
       "        if (!display || display === 'none') {{\n",
       "            console.log([gd, 'removed!']);\n",
       "            Plotly.purge(gd);\n",
       "            observer.disconnect();\n",
       "        }}\n",
       "}});\n",
       "\n",
       "// Listen for the removal of the full notebook cells\n",
       "var notebookContainer = gd.closest('#notebook-container');\n",
       "if (notebookContainer) {{\n",
       "    x.observe(notebookContainer, {childList: true});\n",
       "}}\n",
       "\n",
       "// Listen for the clearing of the current output cell\n",
       "var outputEl = gd.closest('.output');\n",
       "if (outputEl) {{\n",
       "    x.observe(outputEl, {childList: true});\n",
       "}}\n",
       "\n",
       "                        })                };                });            </script>        </div>"
      ]
     },
     "metadata": {},
     "output_type": "display_data"
    }
   ],
   "source": [
    "covid_deaths(all_df[select_df],last_days)"
   ]
  },
  {
   "cell_type": "code",
   "execution_count": 1436,
   "metadata": {},
   "outputs": [],
   "source": [
    "df = pd.read_csv('datasets/covid_19_data.csv')"
   ]
  },
  {
   "cell_type": "code",
   "execution_count": 1437,
   "metadata": {},
   "outputs": [],
   "source": [
    "#df.head()"
   ]
  },
  {
   "cell_type": "code",
   "execution_count": 1438,
   "metadata": {},
   "outputs": [],
   "source": [
    "#df['Country/Region'].unique()"
   ]
  },
  {
   "cell_type": "code",
   "execution_count": 1439,
   "metadata": {},
   "outputs": [],
   "source": [
    "df = df.drop(df[(df[\"Country/Region\"]==\"('St. Martin',)\")].index)"
   ]
  },
  {
   "cell_type": "code",
   "execution_count": 1440,
   "metadata": {},
   "outputs": [],
   "source": [
    "countries = df['Country/Region'].unique()\n",
    "countries.sort()"
   ]
  },
  {
   "cell_type": "code",
   "execution_count": 1441,
   "metadata": {},
   "outputs": [
    {
     "data": {
      "text/html": [
       "<div>\n",
       "<style scoped>\n",
       "    .dataframe tbody tr th:only-of-type {\n",
       "        vertical-align: middle;\n",
       "    }\n",
       "\n",
       "    .dataframe tbody tr th {\n",
       "        vertical-align: top;\n",
       "    }\n",
       "\n",
       "    .dataframe thead th {\n",
       "        text-align: right;\n",
       "    }\n",
       "</style>\n",
       "<table border=\"1\" class=\"dataframe\">\n",
       "  <thead>\n",
       "    <tr style=\"text-align: right;\">\n",
       "      <th></th>\n",
       "      <th>Country/Region</th>\n",
       "      <th>ObservationDate</th>\n",
       "      <th>Confirmed</th>\n",
       "      <th>Deaths</th>\n",
       "      <th>Recovered</th>\n",
       "    </tr>\n",
       "  </thead>\n",
       "  <tbody>\n",
       "    <tr>\n",
       "      <th>0</th>\n",
       "      <td>Azerbaijan</td>\n",
       "      <td>02/28/2020</td>\n",
       "      <td>1.0</td>\n",
       "      <td>0.0</td>\n",
       "      <td>0.0</td>\n",
       "    </tr>\n",
       "    <tr>\n",
       "      <th>1</th>\n",
       "      <td>Afghanistan</td>\n",
       "      <td>02/24/2020</td>\n",
       "      <td>1.0</td>\n",
       "      <td>0.0</td>\n",
       "      <td>0.0</td>\n",
       "    </tr>\n",
       "    <tr>\n",
       "      <th>2</th>\n",
       "      <td>Afghanistan</td>\n",
       "      <td>02/25/2020</td>\n",
       "      <td>1.0</td>\n",
       "      <td>0.0</td>\n",
       "      <td>0.0</td>\n",
       "    </tr>\n",
       "    <tr>\n",
       "      <th>3</th>\n",
       "      <td>Afghanistan</td>\n",
       "      <td>02/26/2020</td>\n",
       "      <td>1.0</td>\n",
       "      <td>0.0</td>\n",
       "      <td>0.0</td>\n",
       "    </tr>\n",
       "    <tr>\n",
       "      <th>4</th>\n",
       "      <td>Afghanistan</td>\n",
       "      <td>02/27/2020</td>\n",
       "      <td>1.0</td>\n",
       "      <td>0.0</td>\n",
       "      <td>0.0</td>\n",
       "    </tr>\n",
       "  </tbody>\n",
       "</table>\n",
       "</div>"
      ],
      "text/plain": [
       "  Country/Region ObservationDate  Confirmed  Deaths  Recovered\n",
       "0     Azerbaijan      02/28/2020        1.0     0.0        0.0\n",
       "1    Afghanistan      02/24/2020        1.0     0.0        0.0\n",
       "2    Afghanistan      02/25/2020        1.0     0.0        0.0\n",
       "3    Afghanistan      02/26/2020        1.0     0.0        0.0\n",
       "4    Afghanistan      02/27/2020        1.0     0.0        0.0"
      ]
     },
     "execution_count": 1441,
     "metadata": {},
     "output_type": "execute_result"
    }
   ],
   "source": [
    "df_country=df.groupby(['Country/Region','ObservationDate'])[[\"Confirmed\",\"Deaths\",\"Recovered\"]].sum().reset_index()\n",
    "df_country.head()"
   ]
  },
  {
   "cell_type": "code",
   "execution_count": 1442,
   "metadata": {},
   "outputs": [
    {
     "data": {
      "text/html": [
       "<div>\n",
       "<style scoped>\n",
       "    .dataframe tbody tr th:only-of-type {\n",
       "        vertical-align: middle;\n",
       "    }\n",
       "\n",
       "    .dataframe tbody tr th {\n",
       "        vertical-align: top;\n",
       "    }\n",
       "\n",
       "    .dataframe thead th {\n",
       "        text-align: right;\n",
       "    }\n",
       "</style>\n",
       "<table border=\"1\" class=\"dataframe\">\n",
       "  <thead>\n",
       "    <tr style=\"text-align: right;\">\n",
       "      <th></th>\n",
       "      <th>Country/Region</th>\n",
       "      <th>ObservationDate</th>\n",
       "      <th>Confirmed</th>\n",
       "      <th>Deaths</th>\n",
       "      <th>Recovered</th>\n",
       "    </tr>\n",
       "  </thead>\n",
       "  <tbody>\n",
       "    <tr>\n",
       "      <th>12088</th>\n",
       "      <td>France</td>\n",
       "      <td>01/24/2020</td>\n",
       "      <td>2.0</td>\n",
       "      <td>0.0</td>\n",
       "      <td>0.0</td>\n",
       "    </tr>\n",
       "    <tr>\n",
       "      <th>12089</th>\n",
       "      <td>France</td>\n",
       "      <td>01/25/2020</td>\n",
       "      <td>3.0</td>\n",
       "      <td>0.0</td>\n",
       "      <td>0.0</td>\n",
       "    </tr>\n",
       "    <tr>\n",
       "      <th>12090</th>\n",
       "      <td>France</td>\n",
       "      <td>01/26/2020</td>\n",
       "      <td>3.0</td>\n",
       "      <td>0.0</td>\n",
       "      <td>0.0</td>\n",
       "    </tr>\n",
       "    <tr>\n",
       "      <th>12091</th>\n",
       "      <td>France</td>\n",
       "      <td>01/27/2020</td>\n",
       "      <td>3.0</td>\n",
       "      <td>0.0</td>\n",
       "      <td>0.0</td>\n",
       "    </tr>\n",
       "    <tr>\n",
       "      <th>12092</th>\n",
       "      <td>France</td>\n",
       "      <td>01/28/2020</td>\n",
       "      <td>4.0</td>\n",
       "      <td>0.0</td>\n",
       "      <td>0.0</td>\n",
       "    </tr>\n",
       "  </tbody>\n",
       "</table>\n",
       "</div>"
      ],
      "text/plain": [
       "      Country/Region ObservationDate  Confirmed  Deaths  Recovered\n",
       "12088         France      01/24/2020        2.0     0.0        0.0\n",
       "12089         France      01/25/2020        3.0     0.0        0.0\n",
       "12090         France      01/26/2020        3.0     0.0        0.0\n",
       "12091         France      01/27/2020        3.0     0.0        0.0\n",
       "12092         France      01/28/2020        4.0     0.0        0.0"
      ]
     },
     "execution_count": 1442,
     "metadata": {},
     "output_type": "execute_result"
    }
   ],
   "source": [
    "df_france=df_country[(df_country[\"Country/Region\"]==\"France\")]\n",
    "df_france.head()"
   ]
  },
  {
   "cell_type": "code",
   "execution_count": 1443,
   "metadata": {},
   "outputs": [
    {
     "data": {
      "text/plain": [
       "Country/Region         France\n",
       "ObservationDate    09/23/2020\n",
       "Confirmed              508456\n",
       "Deaths                  31447\n",
       "Recovered               96498\n",
       "Name: 12331, dtype: object"
      ]
     },
     "execution_count": 1443,
     "metadata": {},
     "output_type": "execute_result"
    }
   ],
   "source": [
    "df_france.iloc[-1][:]"
   ]
  },
  {
   "cell_type": "code",
   "execution_count": 1444,
   "metadata": {},
   "outputs": [
    {
     "ename": "KeyError",
     "evalue": "'Confirmed_acc'",
     "output_type": "error",
     "traceback": [
      "\u001b[0;31m---------------------------------------------------------------------------\u001b[0m",
      "\u001b[0;31mKeyError\u001b[0m                                  Traceback (most recent call last)",
      "\u001b[0;32m~/anaconda3/lib/python3.7/site-packages/pandas/core/indexes/base.py\u001b[0m in \u001b[0;36mget_loc\u001b[0;34m(self, key, method, tolerance)\u001b[0m\n\u001b[1;32m   2894\u001b[0m             \u001b[0;32mtry\u001b[0m\u001b[0;34m:\u001b[0m\u001b[0;34m\u001b[0m\u001b[0;34m\u001b[0m\u001b[0m\n\u001b[0;32m-> 2895\u001b[0;31m                 \u001b[0;32mreturn\u001b[0m \u001b[0mself\u001b[0m\u001b[0;34m.\u001b[0m\u001b[0m_engine\u001b[0m\u001b[0;34m.\u001b[0m\u001b[0mget_loc\u001b[0m\u001b[0;34m(\u001b[0m\u001b[0mcasted_key\u001b[0m\u001b[0;34m)\u001b[0m\u001b[0;34m\u001b[0m\u001b[0;34m\u001b[0m\u001b[0m\n\u001b[0m\u001b[1;32m   2896\u001b[0m             \u001b[0;32mexcept\u001b[0m \u001b[0mKeyError\u001b[0m \u001b[0;32mas\u001b[0m \u001b[0merr\u001b[0m\u001b[0;34m:\u001b[0m\u001b[0;34m\u001b[0m\u001b[0;34m\u001b[0m\u001b[0m\n",
      "\u001b[0;32mpandas/_libs/index.pyx\u001b[0m in \u001b[0;36mpandas._libs.index.IndexEngine.get_loc\u001b[0;34m()\u001b[0m\n",
      "\u001b[0;32mpandas/_libs/index.pyx\u001b[0m in \u001b[0;36mpandas._libs.index.IndexEngine.get_loc\u001b[0;34m()\u001b[0m\n",
      "\u001b[0;32mpandas/_libs/hashtable_class_helper.pxi\u001b[0m in \u001b[0;36mpandas._libs.hashtable.PyObjectHashTable.get_item\u001b[0;34m()\u001b[0m\n",
      "\u001b[0;32mpandas/_libs/hashtable_class_helper.pxi\u001b[0m in \u001b[0;36mpandas._libs.hashtable.PyObjectHashTable.get_item\u001b[0;34m()\u001b[0m\n",
      "\u001b[0;31mKeyError\u001b[0m: 'Confirmed_acc'",
      "\nThe above exception was the direct cause of the following exception:\n",
      "\u001b[0;31mKeyError\u001b[0m                                  Traceback (most recent call last)",
      "\u001b[0;32m<ipython-input-1444-f2dfb20ac547>\u001b[0m in \u001b[0;36m<module>\u001b[0;34m\u001b[0m\n\u001b[1;32m      1\u001b[0m y_data = np.array([\n\u001b[0;32m----> 2\u001b[0;31m     \u001b[0mdf_france\u001b[0m\u001b[0;34m[\u001b[0m\u001b[0;34m'Confirmed_acc'\u001b[0m\u001b[0;34m]\u001b[0m\u001b[0;34m,\u001b[0m\u001b[0;34m\u001b[0m\u001b[0;34m\u001b[0m\u001b[0m\n\u001b[0m\u001b[1;32m      3\u001b[0m     \u001b[0mdf_france\u001b[0m\u001b[0;34m[\u001b[0m\u001b[0;34m'Deaths_acc'\u001b[0m\u001b[0;34m]\u001b[0m\u001b[0;34m,\u001b[0m\u001b[0;34m\u001b[0m\u001b[0;34m\u001b[0m\u001b[0m\n\u001b[1;32m      4\u001b[0m     \u001b[0mdf_france\u001b[0m\u001b[0;34m[\u001b[0m\u001b[0;34m'Recovered'\u001b[0m\u001b[0;34m]\u001b[0m\u001b[0;34m\u001b[0m\u001b[0;34m\u001b[0m\u001b[0m\n\u001b[1;32m      5\u001b[0m ])\n",
      "\u001b[0;32m~/anaconda3/lib/python3.7/site-packages/pandas/core/frame.py\u001b[0m in \u001b[0;36m__getitem__\u001b[0;34m(self, key)\u001b[0m\n\u001b[1;32m   2900\u001b[0m             \u001b[0;32mif\u001b[0m \u001b[0mself\u001b[0m\u001b[0;34m.\u001b[0m\u001b[0mcolumns\u001b[0m\u001b[0;34m.\u001b[0m\u001b[0mnlevels\u001b[0m \u001b[0;34m>\u001b[0m \u001b[0;36m1\u001b[0m\u001b[0;34m:\u001b[0m\u001b[0;34m\u001b[0m\u001b[0;34m\u001b[0m\u001b[0m\n\u001b[1;32m   2901\u001b[0m                 \u001b[0;32mreturn\u001b[0m \u001b[0mself\u001b[0m\u001b[0;34m.\u001b[0m\u001b[0m_getitem_multilevel\u001b[0m\u001b[0;34m(\u001b[0m\u001b[0mkey\u001b[0m\u001b[0;34m)\u001b[0m\u001b[0;34m\u001b[0m\u001b[0;34m\u001b[0m\u001b[0m\n\u001b[0;32m-> 2902\u001b[0;31m             \u001b[0mindexer\u001b[0m \u001b[0;34m=\u001b[0m \u001b[0mself\u001b[0m\u001b[0;34m.\u001b[0m\u001b[0mcolumns\u001b[0m\u001b[0;34m.\u001b[0m\u001b[0mget_loc\u001b[0m\u001b[0;34m(\u001b[0m\u001b[0mkey\u001b[0m\u001b[0;34m)\u001b[0m\u001b[0;34m\u001b[0m\u001b[0;34m\u001b[0m\u001b[0m\n\u001b[0m\u001b[1;32m   2903\u001b[0m             \u001b[0;32mif\u001b[0m \u001b[0mis_integer\u001b[0m\u001b[0;34m(\u001b[0m\u001b[0mindexer\u001b[0m\u001b[0;34m)\u001b[0m\u001b[0;34m:\u001b[0m\u001b[0;34m\u001b[0m\u001b[0;34m\u001b[0m\u001b[0m\n\u001b[1;32m   2904\u001b[0m                 \u001b[0mindexer\u001b[0m \u001b[0;34m=\u001b[0m \u001b[0;34m[\u001b[0m\u001b[0mindexer\u001b[0m\u001b[0;34m]\u001b[0m\u001b[0;34m\u001b[0m\u001b[0;34m\u001b[0m\u001b[0m\n",
      "\u001b[0;32m~/anaconda3/lib/python3.7/site-packages/pandas/core/indexes/base.py\u001b[0m in \u001b[0;36mget_loc\u001b[0;34m(self, key, method, tolerance)\u001b[0m\n\u001b[1;32m   2895\u001b[0m                 \u001b[0;32mreturn\u001b[0m \u001b[0mself\u001b[0m\u001b[0;34m.\u001b[0m\u001b[0m_engine\u001b[0m\u001b[0;34m.\u001b[0m\u001b[0mget_loc\u001b[0m\u001b[0;34m(\u001b[0m\u001b[0mcasted_key\u001b[0m\u001b[0;34m)\u001b[0m\u001b[0;34m\u001b[0m\u001b[0;34m\u001b[0m\u001b[0m\n\u001b[1;32m   2896\u001b[0m             \u001b[0;32mexcept\u001b[0m \u001b[0mKeyError\u001b[0m \u001b[0;32mas\u001b[0m \u001b[0merr\u001b[0m\u001b[0;34m:\u001b[0m\u001b[0;34m\u001b[0m\u001b[0;34m\u001b[0m\u001b[0m\n\u001b[0;32m-> 2897\u001b[0;31m                 \u001b[0;32mraise\u001b[0m \u001b[0mKeyError\u001b[0m\u001b[0;34m(\u001b[0m\u001b[0mkey\u001b[0m\u001b[0;34m)\u001b[0m \u001b[0;32mfrom\u001b[0m \u001b[0merr\u001b[0m\u001b[0;34m\u001b[0m\u001b[0;34m\u001b[0m\u001b[0m\n\u001b[0m\u001b[1;32m   2898\u001b[0m \u001b[0;34m\u001b[0m\u001b[0m\n\u001b[1;32m   2899\u001b[0m         \u001b[0;32mif\u001b[0m \u001b[0mtolerance\u001b[0m \u001b[0;32mis\u001b[0m \u001b[0;32mnot\u001b[0m \u001b[0;32mNone\u001b[0m\u001b[0;34m:\u001b[0m\u001b[0;34m\u001b[0m\u001b[0;34m\u001b[0m\u001b[0m\n",
      "\u001b[0;31mKeyError\u001b[0m: 'Confirmed_acc'"
     ]
    }
   ],
   "source": [
    "y_data = np.array([\n",
    "    df_france['Confirmed_acc'],\n",
    "    df_france['Deaths_acc'],\n",
    "    df_france['Recovered']\n",
    "])\n",
    "labels = ['Confirmed', 'Deaths', 'Recovered']\n",
    "colors = ['rgb(67,67,67)', 'rgb(115,115,115)', 'rgb(49,130,189)']\n",
    "line_size = [2, 4, 2]"
   ]
  },
  {
   "cell_type": "code",
   "execution_count": null,
   "metadata": {},
   "outputs": [],
   "source": [
    "fig = go.Figure()\n",
    "\n",
    "for i in range(0, 3):\n",
    "    fig.add_trace(go.Scatter(x=df_france['ObservationDate'], y=y_data[i], mode='lines',\n",
    "        name=labels[i],\n",
    "        line=dict(color=colors[i], width=line_size[i]),\n",
    "        connectgaps=True,\n",
    "    ))\n",
    "\n",
    "fig.update_layout(\n",
    "    xaxis=dict(\n",
    "        showline=True,\n",
    "        showgrid=True,\n",
    "        showticklabels=True,\n",
    "        linecolor='rgb(204, 204, 204)',\n",
    "        linewidth=2,\n",
    "        ticks='outside',\n",
    "        tickfont=dict(\n",
    "            family='Arial',\n",
    "            size=12,\n",
    "            color='rgb(82, 82, 82)',\n",
    "        ),\n",
    "    ),\n",
    "    yaxis=dict(\n",
    "        showgrid=True,\n",
    "        zeroline=True,\n",
    "        showline=True,\n",
    "        showticklabels=True,\n",
    "    ),\n",
    "    autosize=False,\n",
    "    margin=dict(\n",
    "        autoexpand=False,\n",
    "        l=100,\n",
    "        r=20,\n",
    "        t=110,\n",
    "    ),\n",
    "    showlegend=False,\n",
    "    plot_bgcolor='white'\n",
    ")\n",
    "\n",
    "fig.show()"
   ]
  },
  {
   "cell_type": "code",
   "execution_count": null,
   "metadata": {},
   "outputs": [],
   "source": []
  },
  {
   "cell_type": "code",
   "execution_count": null,
   "metadata": {},
   "outputs": [],
   "source": []
  }
 ],
 "metadata": {
  "kernelspec": {
   "display_name": "Python 3",
   "language": "python",
   "name": "python3"
  },
  "language_info": {
   "codemirror_mode": {
    "name": "ipython",
    "version": 3
   },
   "file_extension": ".py",
   "mimetype": "text/x-python",
   "name": "python",
   "nbconvert_exporter": "python",
   "pygments_lexer": "ipython3",
   "version": "3.7.1"
  }
 },
 "nbformat": 4,
 "nbformat_minor": 4
}
